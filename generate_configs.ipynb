{
 "cells": [
  {
   "cell_type": "code",
   "execution_count": 2,
   "metadata": {},
   "outputs": [],
   "source": [
    "import yaml\n",
    "import os\n",
    "from itertools import product"
   ]
  },
  {
   "cell_type": "code",
   "execution_count": 9,
   "metadata": {},
   "outputs": [],
   "source": [
    "orig_yaml = yaml.unsafe_load(open(\"/home/amysiak/thesis/multilingual-probing-visualization/configs/old/pl_en.yaml\"))\n"
   ]
  },
  {
   "cell_type": "code",
   "execution_count": 22,
   "metadata": {},
   "outputs": [],
   "source": [
    "LANGS = ('be', 'cs', 'de', 'en', 'es', 'fi', 'fr', 'id', 'lv', 'lt', 'pl', 'ru', 'slk', 'slv', 'uk', 'zh')\n",
    "SLAVIC_LANGS = (\"pl\", \"be\", \"cs\", \"slk\", \"slv\", \"uk\", \"ru\")\n",
    "LIMITS = (None, 100, 1000, 2500, 5000, 7500, 10000)"
   ]
  },
  {
   "cell_type": "code",
   "execution_count": 23,
   "metadata": {},
   "outputs": [],
   "source": [
    "max_dict = {\n",
    "    'pl': 17722,\n",
    "    'be': 25231, # TODO\n",
    "    'fr': 14449,\n",
    "    'en': 16621, # TODO\n",
    "    'lv': 12520,\n",
    "    'lt': 3642, # TODO\n",
    "    'cs': 68494,\n",
    "    'es': 17662, # TODO\n",
    "    'zh': 3996,\n",
    "    'slk': 8482,\n",
    "    'slv': 10000, # TODO\n",
    "    'uk': 5495,\n",
    "    'ru': 10000, # TODO\n",
    "    'de': 10000, # TODO\n",
    "    'fi': 12215,\n",
    "    'id': 4481\n",
    "}"
   ]
  },
  {
   "cell_type": "code",
   "execution_count": 24,
   "metadata": {},
   "outputs": [
    {
     "name": "stdout",
     "output_type": "stream",
     "text": [
      "zh, ru, 250000\r"
     ]
    }
   ],
   "source": [
    "for train, test, limit in product(LANGS, SLAVIC_LANGS, LIMITS):\n",
    "    if (limit is not None) and (limit >= max_dict[train]):\n",
    "        continue\n",
    "    print(f\"{train}, {test}, {limit}\", end='\\r')\n",
    "    orig_yaml['dataset']['keys']['train'] = [train]\n",
    "    orig_yaml['dataset']['keys']['dev'] = [test]\n",
    "    orig_yaml['dataset']['keys']['test'] = [test]\n",
    "    orig_yaml['dataset']['limit'] = limit\n",
    "    orig_yaml['reporting']['root'] = '/home/amysiak/thesis/multilingual-probing-visualization/probingOutputs/all_slavic'\n",
    "    with open(f'configs/all_slavic/{test}_{train}_{limit}.yaml', 'w') as f:\n",
    "        yaml.dump(orig_yaml, f)"
   ]
  },
  {
   "cell_type": "code",
   "execution_count": null,
   "metadata": {},
   "outputs": [],
   "source": []
  }
 ],
 "metadata": {
  "kernelspec": {
   "display_name": "env",
   "language": "python",
   "name": "python3"
  },
  "language_info": {
   "codemirror_mode": {
    "name": "ipython",
    "version": 3
   },
   "file_extension": ".py",
   "mimetype": "text/x-python",
   "name": "python",
   "nbconvert_exporter": "python",
   "pygments_lexer": "ipython3",
   "version": "3.8.10"
  },
  "orig_nbformat": 4,
  "vscode": {
   "interpreter": {
    "hash": "f293e95a6939c8403736b2a5e7fb57f01812b2c6ad3b501133707707a4b05224"
   }
  }
 },
 "nbformat": 4,
 "nbformat_minor": 2
}
