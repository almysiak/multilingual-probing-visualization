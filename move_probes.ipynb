{
 "cells": [
  {
   "cell_type": "code",
   "execution_count": 2,
   "metadata": {},
   "outputs": [],
   "source": [
    "import os"
   ]
  },
  {
   "cell_type": "code",
   "execution_count": 12,
   "metadata": {},
   "outputs": [],
   "source": [
    "for dirpath, dnames, fnames in os.walk(\"/home/amysiak/thesis/multilingual-probing-visualization/probingOutputs/all_slavic\"):\n",
    "    for f in fnames:\n",
    "        if f.endswith(\".params\"):\n",
    "            old_path = os.path.join(dirpath, f)\n",
    "            path_parts = old_path.split(\"/\")\n",
    "            if len(path_parts) != 13:\n",
    "                continue\n",
    "            else:\n",
    "                print(path_parts)\n",
    "            new_path = \"/\".join(path_parts[:8] + path_parts[9:])\n",
    "            os.makedirs(os.path.dirname(new_path), exist_ok=True)\n",
    "            os.rename(old_path, new_path)\n"
   ]
  },
  {
   "cell_type": "code",
   "execution_count": null,
   "metadata": {},
   "outputs": [],
   "source": []
  }
 ],
 "metadata": {
  "kernelspec": {
   "display_name": "env",
   "language": "python",
   "name": "python3"
  },
  "language_info": {
   "codemirror_mode": {
    "name": "ipython",
    "version": 3
   },
   "file_extension": ".py",
   "mimetype": "text/x-python",
   "name": "python",
   "nbconvert_exporter": "python",
   "pygments_lexer": "ipython3",
   "version": "3.8.10"
  }
 },
 "nbformat": 4,
 "nbformat_minor": 2
}
