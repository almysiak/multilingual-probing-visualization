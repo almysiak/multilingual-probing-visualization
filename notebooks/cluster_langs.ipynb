{
 "cells": [
  {
   "cell_type": "code",
   "execution_count": 99,
   "metadata": {},
   "outputs": [],
   "source": [
    "import pandas as pd\n",
    "import yaml\n",
    "import os\n",
    "import plotly.express as px\n",
    "import plotly\n",
    "from plotly import graph_objects as go\n",
    "import plotly.io as pio\n",
    "\n",
    "pio.renderers.default = \"vscode\"\n",
    "from numpy import dot\n",
    "from numpy.linalg import norm\n",
    "\n",
    "from sklearn.manifold import TSNE\n",
    "from sklearn.cluster import DBSCAN\n",
    "\n",
    "import numpy as np"
   ]
  },
  {
   "cell_type": "code",
   "execution_count": 100,
   "metadata": {},
   "outputs": [],
   "source": [
    "full_name = {\n",
    "    \"pl\": \"Polish\",\n",
    "    \"ru\": \"Russian\",\n",
    "    \"uk\": \"Ukrainian\",\n",
    "    \"slv\": \"Slovene\",\n",
    "    \"cs\": \"Czech\",\n",
    "    \"be\": \"Belarusian\",\n",
    "    \"bg\": \"Bulgarian\",\n",
    "    \"de\": \"German\",\n",
    "    \"slk\": \"Slovak\",\n",
    "    \"fr\": \"French\",\n",
    "    \"ar\": \"Arabic\",\n",
    "    \"id\": \"Indonesian\",\n",
    "    \"en\": \"English\",\n",
    "    \"fi\": \"Finnish\",\n",
    "    \"zh\": \"Chinese\",\n",
    "    \"lv\": \"Latvian\",\n",
    "    \"es\": \"Spanish\",\n",
    "    \"lt\": \"Lithuanian\",\n",
    "    \"hr\": \"Croatian\",\n",
    "    \"tr\": \"Turkish\",\n",
    "    \"ko\": \"Korean\",\n",
    "    \"hy\": \"Armenian\",\n",
    "    \"fa\": \"Persian\",\n",
    "    \"ja\": \"Japanese\",\n",
    "    \"ga\": \"Irish\",\n",
    "    \"cy\": \"Welsh\",\n",
    "    \"nl\": \"Dutch\",\n",
    "}"
   ]
  },
  {
   "cell_type": "code",
   "execution_count": 101,
   "metadata": {},
   "outputs": [],
   "source": [
    "lang_families = {'indo-european': (\"pl\", \"be\", \"cs\", \"slk\", \"slv\", \"uk\", \"ru\", \"bg\", \"hr\", \"de\", \"fr\", \"en\", \"lv\", \"es\", \"lt\", \"hy\", \"fa\", 'ga', 'cy', 'nl'), \"afro-asiatic\": ('ar', ), 'austronesian': ('id', ), 'uralic': ('fi',), 'sino-tibetan': ('zh', ), 'turkic': ('tr', ), 'koreanic': ('ko', ), 'japonic': ('ja', )}\n",
    "lang_groups = {'slavic': (\"pl\", \"be\", \"cs\", \"slk\", \"slv\", \"uk\", \"ru\", \"bg\", \"hr\"), \"germanic\": ('de', \"en\", 'nl'), \"italic/romance\": ('fr', 'es'), 'semitic': ('ar', ), 'malay': ('id', ), 'finno-ugric': ('fi', ), 'sinitic': ('zh', ), 'baltic': ('lv', 'lt'), 'turkic': ('tr', ), 'koreanic': ('ko', ), 'armenian': ('hy', ), 'iranian': ('fa', ), 'japonic': ('ja', ), 'celtic': ('ga', 'cy')}"
   ]
  },
  {
   "cell_type": "code",
   "execution_count": 102,
   "metadata": {},
   "outputs": [],
   "source": [
    "lang_to_size = {\n",
    "    \"pl\": 1_301_917,\n",
    "    \"ru\": 1_500_041,\n",
    "    \"uk\": 825_591,\n",
    "    \"slv\": 162_385,\n",
    "    \"cs\": 413_512,\n",
    "    \"be\": 157_651,\n",
    "    \"bg\": 246_040,\n",
    "    \"de\": 2_224_357,\n",
    "    \"slk\": 227_255,\n",
    "    \"fr\":  2_044_308,\n",
    "    \"ar\": 618_436,\n",
    "    \"id\": 440_545,\n",
    "    \"en\": 5_725_914,\n",
    "    \"fi\": 445_104,\n",
    "    \"zh\": 1_024_062,\n",
    "    \"lv\": 87_981,\n",
    "    \"es\": 1_478_365,\n",
    "    \"lt\": 189_673,\n",
    "    \"hr\": 199_153,\n",
    "    \"tr\": 316_491,\n",
    "    \"ko\": 428_406,\n",
    "    \"hy\": 246_231,\n",
    "    \"fa\": 643_006,\n",
    "    \"ja\": 1_122_821,\n",
    "    \"ga\": 48_183,\n",
    "    \"cy\": 101_401,\n",
    "    \"nl\": 1_943_296,\n",
    "}"
   ]
  },
  {
   "cell_type": "code",
   "execution_count": 103,
   "metadata": {},
   "outputs": [],
   "source": [
    "max_dict = {\n",
    "    'ar': 6074,\n",
    "    'pl': 17721,\n",
    "    'bg': 8906,\n",
    "    'be': 22852,\n",
    "    'fr': 14448,\n",
    "    'en': 12542,\n",
    "    'lv': 12520,\n",
    "    'fa': 4797,\n",
    "    'lt': 2340,\n",
    "    'cs': 68494,\n",
    "    'es': 14286, \n",
    "    'zh': 3996,\n",
    "    'slk': 8482,\n",
    "    'slv': 10902,\n",
    "    'uk': 5495,\n",
    "    'ru': 69629,\n",
    "    'de': 13813,\n",
    "    'fi': 12216,\n",
    "    'id': 4481,\n",
    "    'hr': 6913,\n",
    "    'tr': 14850,\n",
    "    'ko': 23010,\n",
    "    'hy': 1974,\n",
    "    'fa': 26196,\n",
    "    'ja': 7050,\n",
    "    'ga': 4005,\n",
    "    'cy': 1111,\n",
    "    'nl': 12289,\n",
    "}"
   ]
  },
  {
   "cell_type": "code",
   "execution_count": 104,
   "metadata": {},
   "outputs": [],
   "source": [
    "lang_types = {'slavic': (\"pl\", \"be\", \"cs\", \"slk\", \"slv\", \"uk\", \"ru\", \"bg\", \"hr\"), 'svo': (\"fr\", \"en\", \"lv\", \"lt\", \"es\", \"zh\", \"fi\", \"id\", \"de\", \"nl\"), 'sov': ('tr', 'ko', 'hy', 'fa', 'ja'), 'vso': ('ar', 'ga', 'cy')}"
   ]
  },
  {
   "cell_type": "code",
   "execution_count": 105,
   "metadata": {},
   "outputs": [],
   "source": [
    "lang_types_dict = {}\n",
    "for lang_type, lang_list in lang_types.items():\n",
    "    type_dict = {lan: lang_type for lan in lang_list}\n",
    "    lang_types_dict.update(type_dict)"
   ]
  },
  {
   "cell_type": "code",
   "execution_count": 106,
   "metadata": {},
   "outputs": [],
   "source": [
    "families_dict = {}\n",
    "for lang_type, lang_list in lang_families.items():\n",
    "    type_dict = {lan: lang_type for lan in lang_list}\n",
    "    families_dict.update(type_dict)"
   ]
  },
  {
   "cell_type": "code",
   "execution_count": 107,
   "metadata": {},
   "outputs": [],
   "source": [
    "group_dict = {}\n",
    "for lang_type, lang_list in lang_groups.items():\n",
    "    type_dict = {lan: lang_type for lan in lang_list}\n",
    "    group_dict.update(type_dict)"
   ]
  },
  {
   "cell_type": "code",
   "execution_count": 108,
   "metadata": {},
   "outputs": [],
   "source": [
    "RESULTS_CSV = 'multilingual-probing-visualization/probingOutputs/all_slavic/all_results.csv'"
   ]
  },
  {
   "cell_type": "code",
   "execution_count": 109,
   "metadata": {},
   "outputs": [],
   "source": [
    "df = pd.read_csv(RESULTS_CSV)\n",
    "df['train'] = df.train.str[2:-2]\n",
    "df['test'] = df.test.str[2:-2]"
   ]
  },
  {
   "cell_type": "code",
   "execution_count": 110,
   "metadata": {},
   "outputs": [],
   "source": [
    "df[\"wiki_size_train\"] = df.train.map(lang_to_size)\n",
    "df[\"wiki_size_test\"] = df.test.map(lang_to_size)"
   ]
  },
  {
   "cell_type": "code",
   "execution_count": 111,
   "metadata": {},
   "outputs": [],
   "source": [
    "df = df[df.seed == 0]\n",
    "# df = df[df.wiki_size_train >= 200e3]\n",
    "# df = df[df.wiki_size_test >= 200e3]"
   ]
  },
  {
   "cell_type": "code",
   "execution_count": 112,
   "metadata": {},
   "outputs": [],
   "source": [
    "limit = 10_000\n",
    "df = df[df.limit == limit]\n",
    "df = df[df.model == 'mBERT']"
   ]
  },
  {
   "cell_type": "code",
   "execution_count": 113,
   "metadata": {},
   "outputs": [
    {
     "data": {
      "text/html": [
       "<div>\n",
       "<style scoped>\n",
       "    .dataframe tbody tr th:only-of-type {\n",
       "        vertical-align: middle;\n",
       "    }\n",
       "\n",
       "    .dataframe tbody tr th {\n",
       "        vertical-align: top;\n",
       "    }\n",
       "\n",
       "    .dataframe thead th {\n",
       "        text-align: right;\n",
       "    }\n",
       "</style>\n",
       "<table border=\"1\" class=\"dataframe\">\n",
       "  <thead>\n",
       "    <tr style=\"text-align: right;\">\n",
       "      <th></th>\n",
       "      <th>train</th>\n",
       "      <th>test</th>\n",
       "      <th>model</th>\n",
       "      <th>layer</th>\n",
       "      <th>rank</th>\n",
       "      <th>limit</th>\n",
       "      <th>seed</th>\n",
       "      <th>directory</th>\n",
       "      <th>dspear</th>\n",
       "      <th>uuas</th>\n",
       "      <th>wiki_size_train</th>\n",
       "      <th>wiki_size_test</th>\n",
       "    </tr>\n",
       "  </thead>\n",
       "  <tbody>\n",
       "    <tr>\n",
       "      <th>2</th>\n",
       "      <td>be</td>\n",
       "      <td>be</td>\n",
       "      <td>mBERT</td>\n",
       "      <td>6</td>\n",
       "      <td>128</td>\n",
       "      <td>10000.0</td>\n",
       "      <td>0</td>\n",
       "      <td>/home/amysiak/thesis/multilingual-probing-visu...</td>\n",
       "      <td>0.779117</td>\n",
       "      <td>0.787562</td>\n",
       "      <td>157651</td>\n",
       "      <td>157651</td>\n",
       "    </tr>\n",
       "    <tr>\n",
       "      <th>9</th>\n",
       "      <td>cs</td>\n",
       "      <td>be</td>\n",
       "      <td>mBERT</td>\n",
       "      <td>6</td>\n",
       "      <td>128</td>\n",
       "      <td>10000.0</td>\n",
       "      <td>0</td>\n",
       "      <td>/home/amysiak/thesis/multilingual-probing-visu...</td>\n",
       "      <td>0.760374</td>\n",
       "      <td>0.748032</td>\n",
       "      <td>413512</td>\n",
       "      <td>157651</td>\n",
       "    </tr>\n",
       "    <tr>\n",
       "      <th>22</th>\n",
       "      <td>en</td>\n",
       "      <td>be</td>\n",
       "      <td>mBERT</td>\n",
       "      <td>6</td>\n",
       "      <td>128</td>\n",
       "      <td>10000.0</td>\n",
       "      <td>0</td>\n",
       "      <td>/home/amysiak/thesis/multilingual-probing-visu...</td>\n",
       "      <td>0.738201</td>\n",
       "      <td>0.704005</td>\n",
       "      <td>5725914</td>\n",
       "      <td>157651</td>\n",
       "    </tr>\n",
       "    <tr>\n",
       "      <th>29</th>\n",
       "      <td>es</td>\n",
       "      <td>be</td>\n",
       "      <td>mBERT</td>\n",
       "      <td>6</td>\n",
       "      <td>128</td>\n",
       "      <td>10000.0</td>\n",
       "      <td>0</td>\n",
       "      <td>/home/amysiak/thesis/multilingual-probing-visu...</td>\n",
       "      <td>0.751952</td>\n",
       "      <td>0.699420</td>\n",
       "      <td>1478365</td>\n",
       "      <td>157651</td>\n",
       "    </tr>\n",
       "    <tr>\n",
       "      <th>36</th>\n",
       "      <td>fi</td>\n",
       "      <td>be</td>\n",
       "      <td>mBERT</td>\n",
       "      <td>6</td>\n",
       "      <td>128</td>\n",
       "      <td>10000.0</td>\n",
       "      <td>0</td>\n",
       "      <td>/home/amysiak/thesis/multilingual-probing-visu...</td>\n",
       "      <td>0.739131</td>\n",
       "      <td>0.678402</td>\n",
       "      <td>445104</td>\n",
       "      <td>157651</td>\n",
       "    </tr>\n",
       "  </tbody>\n",
       "</table>\n",
       "</div>"
      ],
      "text/plain": [
       "   train test  model  layer  rank    limit  seed  \\\n",
       "2     be   be  mBERT      6   128  10000.0     0   \n",
       "9     cs   be  mBERT      6   128  10000.0     0   \n",
       "22    en   be  mBERT      6   128  10000.0     0   \n",
       "29    es   be  mBERT      6   128  10000.0     0   \n",
       "36    fi   be  mBERT      6   128  10000.0     0   \n",
       "\n",
       "                                            directory    dspear      uuas  \\\n",
       "2   /home/amysiak/thesis/multilingual-probing-visu...  0.779117  0.787562   \n",
       "9   /home/amysiak/thesis/multilingual-probing-visu...  0.760374  0.748032   \n",
       "22  /home/amysiak/thesis/multilingual-probing-visu...  0.738201  0.704005   \n",
       "29  /home/amysiak/thesis/multilingual-probing-visu...  0.751952  0.699420   \n",
       "36  /home/amysiak/thesis/multilingual-probing-visu...  0.739131  0.678402   \n",
       "\n",
       "    wiki_size_train  wiki_size_test  \n",
       "2            157651          157651  \n",
       "9            413512          157651  \n",
       "22          5725914          157651  \n",
       "29          1478365          157651  \n",
       "36           445104          157651  "
      ]
     },
     "execution_count": 113,
     "metadata": {},
     "output_type": "execute_result"
    }
   ],
   "source": [
    "df.head()"
   ]
  },
  {
   "cell_type": "markdown",
   "metadata": {},
   "source": [
    "## t-SNE using vectors"
   ]
  },
  {
   "cell_type": "code",
   "execution_count": 114,
   "metadata": {},
   "outputs": [],
   "source": [
    "lang_to_vec = {}\n",
    "for lang, data in df.groupby('test'):\n",
    "    data = data.sort_values(by=\"train\")\n",
    "    lang_to_vec[lang] = data.uuas.values"
   ]
  },
  {
   "cell_type": "code",
   "execution_count": 115,
   "metadata": {},
   "outputs": [
    {
     "data": {
      "text/plain": [
       "array([0.76717298, 0.78168216, 0.76275221, 0.7389103 , 0.73758785,\n",
       "       0.69209552, 0.68786367, 0.75247487, 0.61588453, 0.7273483 ,\n",
       "       0.74722285, 0.83102849, 0.78980579, 0.78629185, 0.62737097])"
      ]
     },
     "execution_count": 115,
     "metadata": {},
     "output_type": "execute_result"
    }
   ],
   "source": [
    "lang_to_vec['pl']"
   ]
  },
  {
   "cell_type": "code",
   "execution_count": 116,
   "metadata": {},
   "outputs": [
    {
     "data": {
      "text/plain": [
       "27"
      ]
     },
     "execution_count": 116,
     "metadata": {},
     "output_type": "execute_result"
    }
   ],
   "source": [
    "len(lang_to_vec) # num samples"
   ]
  },
  {
   "cell_type": "code",
   "execution_count": 117,
   "metadata": {},
   "outputs": [
    {
     "data": {
      "text/plain": [
       "15"
      ]
     },
     "execution_count": 117,
     "metadata": {},
     "output_type": "execute_result"
    }
   ],
   "source": [
    "len(lang_to_vec['pl']) # num features"
   ]
  },
  {
   "cell_type": "code",
   "execution_count": 118,
   "metadata": {},
   "outputs": [],
   "source": [
    "vecs = []\n",
    "langs = []\n",
    "for k, v in lang_to_vec.items():\n",
    "    vecs.append(v)\n",
    "    langs.append(k)"
   ]
  },
  {
   "cell_type": "code",
   "execution_count": 119,
   "metadata": {},
   "outputs": [
    {
     "data": {
      "text/plain": [
       "(27, 15)"
      ]
     },
     "execution_count": 119,
     "metadata": {},
     "output_type": "execute_result"
    }
   ],
   "source": [
    "X = np.stack(vecs) # dim\n",
    "X.shape"
   ]
  },
  {
   "cell_type": "code",
   "execution_count": 140,
   "metadata": {},
   "outputs": [
    {
     "name": "stderr",
     "output_type": "stream",
     "text": [
      "/home/amysiak/thesis/env/lib/python3.8/site-packages/sklearn/manifold/_t_sne.py:800: FutureWarning:\n",
      "\n",
      "The default initialization in TSNE will change from 'random' to 'pca' in 1.2.\n",
      "\n",
      "/home/amysiak/thesis/env/lib/python3.8/site-packages/sklearn/manifold/_t_sne.py:810: FutureWarning:\n",
      "\n",
      "The default learning rate in TSNE will change from 200.0 to 'auto' in 1.2.\n",
      "\n"
     ]
    },
    {
     "data": {
      "application/vnd.plotly.v1+json": {
       "config": {
        "plotlyServerURL": "https://plot.ly"
       },
       "data": [
        {
         "hovertemplate": "color=ar<br>x=%{x}<br>y=%{y}<extra></extra>",
         "legendgroup": "ar",
         "marker": {
          "color": "#FD3216",
          "symbol": "circle"
         },
         "mode": "markers",
         "name": "ar",
         "orientation": "v",
         "showlegend": true,
         "type": "scatter",
         "x": [
          154.3245391845703
         ],
         "xaxis": "x",
         "y": [
          -375.74920654296875
         ],
         "yaxis": "y"
        },
        {
         "hovertemplate": "color=be<br>x=%{x}<br>y=%{y}<extra></extra>",
         "legendgroup": "be",
         "marker": {
          "color": "#00FE35",
          "symbol": "circle"
         },
         "mode": "markers",
         "name": "be",
         "orientation": "v",
         "showlegend": true,
         "type": "scatter",
         "x": [
          -327.8554992675781
         ],
         "xaxis": "x",
         "y": [
          110.58234405517578
         ],
         "yaxis": "y"
        },
        {
         "hovertemplate": "color=bg<br>x=%{x}<br>y=%{y}<extra></extra>",
         "legendgroup": "bg",
         "marker": {
          "color": "#6A76FC",
          "symbol": "circle"
         },
         "mode": "markers",
         "name": "bg",
         "orientation": "v",
         "showlegend": true,
         "type": "scatter",
         "x": [
          -273.86376953125
         ],
         "xaxis": "x",
         "y": [
          65.45423126220703
         ],
         "yaxis": "y"
        },
        {
         "hovertemplate": "color=cs<br>x=%{x}<br>y=%{y}<extra></extra>",
         "legendgroup": "cs",
         "marker": {
          "color": "#FED4C4",
          "symbol": "circle"
         },
         "mode": "markers",
         "name": "cs",
         "orientation": "v",
         "showlegend": true,
         "type": "scatter",
         "x": [
          -212.5761260986328
         ],
         "xaxis": "x",
         "y": [
          42.9772834777832
         ],
         "yaxis": "y"
        },
        {
         "hovertemplate": "color=cy<br>x=%{x}<br>y=%{y}<extra></extra>",
         "legendgroup": "cy",
         "marker": {
          "color": "#FE00CE",
          "symbol": "circle"
         },
         "mode": "markers",
         "name": "cy",
         "orientation": "v",
         "showlegend": true,
         "type": "scatter",
         "x": [
          174.73681640625
         ],
         "xaxis": "x",
         "y": [
          -359.0715637207031
         ],
         "yaxis": "y"
        },
        {
         "hovertemplate": "color=de<br>x=%{x}<br>y=%{y}<extra></extra>",
         "legendgroup": "de",
         "marker": {
          "color": "#0DF9FF",
          "symbol": "circle"
         },
         "mode": "markers",
         "name": "de",
         "orientation": "v",
         "showlegend": true,
         "type": "scatter",
         "x": [
          5.88283634185791
         ],
         "xaxis": "x",
         "y": [
          -304.01544189453125
         ],
         "yaxis": "y"
        },
        {
         "hovertemplate": "color=en<br>x=%{x}<br>y=%{y}<extra></extra>",
         "legendgroup": "en",
         "marker": {
          "color": "#F6F926",
          "symbol": "circle"
         },
         "mode": "markers",
         "name": "en",
         "orientation": "v",
         "showlegend": true,
         "type": "scatter",
         "x": [
          52.99075698852539
         ],
         "xaxis": "x",
         "y": [
          -265.1711730957031
         ],
         "yaxis": "y"
        },
        {
         "hovertemplate": "color=es<br>x=%{x}<br>y=%{y}<extra></extra>",
         "legendgroup": "es",
         "marker": {
          "color": "#FF9616",
          "symbol": "circle"
         },
         "mode": "markers",
         "name": "es",
         "orientation": "v",
         "showlegend": true,
         "type": "scatter",
         "x": [
          95.33280181884766
         ],
         "xaxis": "x",
         "y": [
          -262.7783508300781
         ],
         "yaxis": "y"
        },
        {
         "hovertemplate": "color=fa<br>x=%{x}<br>y=%{y}<extra></extra>",
         "legendgroup": "fa",
         "marker": {
          "color": "#479B55",
          "symbol": "circle"
         },
         "mode": "markers",
         "name": "fa",
         "orientation": "v",
         "showlegend": true,
         "type": "scatter",
         "x": [
          178.81295776367188
         ],
         "xaxis": "x",
         "y": [
          -402.7801208496094
         ],
         "yaxis": "y"
        },
        {
         "hovertemplate": "color=fi<br>x=%{x}<br>y=%{y}<extra></extra>",
         "legendgroup": "fi",
         "marker": {
          "color": "#EEA6FB",
          "symbol": "circle"
         },
         "mode": "markers",
         "name": "fi",
         "orientation": "v",
         "showlegend": true,
         "type": "scatter",
         "x": [
          446.91107177734375
         ],
         "xaxis": "x",
         "y": [
          282.74493408203125
         ],
         "yaxis": "y"
        },
        {
         "hovertemplate": "color=fr<br>x=%{x}<br>y=%{y}<extra></extra>",
         "legendgroup": "fr",
         "marker": {
          "color": "#DC587D",
          "symbol": "circle"
         },
         "mode": "markers",
         "name": "fr",
         "orientation": "v",
         "showlegend": true,
         "type": "scatter",
         "x": [
          115.88275909423828
         ],
         "xaxis": "x",
         "y": [
          -259.24749755859375
         ],
         "yaxis": "y"
        },
        {
         "hovertemplate": "color=ga<br>x=%{x}<br>y=%{y}<extra></extra>",
         "legendgroup": "ga",
         "marker": {
          "color": "#D626FF",
          "symbol": "circle"
         },
         "mode": "markers",
         "name": "ga",
         "orientation": "v",
         "showlegend": true,
         "type": "scatter",
         "x": [
          162.2834930419922
         ],
         "xaxis": "x",
         "y": [
          -334.1230163574219
         ],
         "yaxis": "y"
        },
        {
         "hovertemplate": "color=hr<br>x=%{x}<br>y=%{y}<extra></extra>",
         "legendgroup": "hr",
         "marker": {
          "color": "#6E899C",
          "symbol": "circle"
         },
         "mode": "markers",
         "name": "hr",
         "orientation": "v",
         "showlegend": true,
         "type": "scatter",
         "x": [
          -257.1837463378906
         ],
         "xaxis": "x",
         "y": [
          47.43008804321289
         ],
         "yaxis": "y"
        },
        {
         "hovertemplate": "color=hy<br>x=%{x}<br>y=%{y}<extra></extra>",
         "legendgroup": "hy",
         "marker": {
          "color": "#00B5F7",
          "symbol": "circle"
         },
         "mode": "markers",
         "name": "hy",
         "orientation": "v",
         "showlegend": true,
         "type": "scatter",
         "x": [
          412.33856201171875
         ],
         "xaxis": "x",
         "y": [
          266.70623779296875
         ],
         "yaxis": "y"
        },
        {
         "hovertemplate": "color=id<br>x=%{x}<br>y=%{y}<extra></extra>",
         "legendgroup": "id",
         "marker": {
          "color": "#B68E00",
          "symbol": "circle"
         },
         "mode": "markers",
         "name": "id",
         "orientation": "v",
         "showlegend": true,
         "type": "scatter",
         "x": [
          140.306640625
         ],
         "xaxis": "x",
         "y": [
          -351.91650390625
         ],
         "yaxis": "y"
        },
        {
         "hovertemplate": "color=ja<br>x=%{x}<br>y=%{y}<extra></extra>",
         "legendgroup": "ja",
         "marker": {
          "color": "#C9FBE5",
          "symbol": "circle"
         },
         "mode": "markers",
         "name": "ja",
         "orientation": "v",
         "showlegend": true,
         "type": "scatter",
         "x": [
          351.8844909667969
         ],
         "xaxis": "x",
         "y": [
          289.8079528808594
         ],
         "yaxis": "y"
        },
        {
         "hovertemplate": "color=ko<br>x=%{x}<br>y=%{y}<extra></extra>",
         "legendgroup": "ko",
         "marker": {
          "color": "#FF0092",
          "symbol": "circle"
         },
         "mode": "markers",
         "name": "ko",
         "orientation": "v",
         "showlegend": true,
         "type": "scatter",
         "x": [
          342.3891296386719
         ],
         "xaxis": "x",
         "y": [
          264.6241455078125
         ],
         "yaxis": "y"
        },
        {
         "hovertemplate": "color=lt<br>x=%{x}<br>y=%{y}<extra></extra>",
         "legendgroup": "lt",
         "marker": {
          "color": "#22FFA7",
          "symbol": "circle"
         },
         "mode": "markers",
         "name": "lt",
         "orientation": "v",
         "showlegend": true,
         "type": "scatter",
         "x": [
          434.6841125488281
         ],
         "xaxis": "x",
         "y": [
          251.80667114257812
         ],
         "yaxis": "y"
        },
        {
         "hovertemplate": "color=lv<br>x=%{x}<br>y=%{y}<extra></extra>",
         "legendgroup": "lv",
         "marker": {
          "color": "#E3EE9E",
          "symbol": "circle"
         },
         "mode": "markers",
         "name": "lv",
         "orientation": "v",
         "showlegend": true,
         "type": "scatter",
         "x": [
          456.5960998535156
         ],
         "xaxis": "x",
         "y": [
          243.24684143066406
         ],
         "yaxis": "y"
        },
        {
         "hovertemplate": "color=nl<br>x=%{x}<br>y=%{y}<extra></extra>",
         "legendgroup": "nl",
         "marker": {
          "color": "#86CE00",
          "symbol": "circle"
         },
         "mode": "markers",
         "name": "nl",
         "orientation": "v",
         "showlegend": true,
         "type": "scatter",
         "x": [
          21.96406364440918
         ],
         "xaxis": "x",
         "y": [
          -291.0739440917969
         ],
         "yaxis": "y"
        },
        {
         "hovertemplate": "color=pl<br>x=%{x}<br>y=%{y}<extra></extra>",
         "legendgroup": "pl",
         "marker": {
          "color": "#BC7196",
          "symbol": "circle"
         },
         "mode": "markers",
         "name": "pl",
         "orientation": "v",
         "showlegend": true,
         "type": "scatter",
         "x": [
          -268.990966796875
         ],
         "xaxis": "x",
         "y": [
          125.50337219238281
         ],
         "yaxis": "y"
        },
        {
         "hovertemplate": "color=ru<br>x=%{x}<br>y=%{y}<extra></extra>",
         "legendgroup": "ru",
         "marker": {
          "color": "#7E7DCD",
          "symbol": "circle"
         },
         "mode": "markers",
         "name": "ru",
         "orientation": "v",
         "showlegend": true,
         "type": "scatter",
         "x": [
          -310.2753601074219
         ],
         "xaxis": "x",
         "y": [
          142.6876678466797
         ],
         "yaxis": "y"
        },
        {
         "hovertemplate": "color=slk<br>x=%{x}<br>y=%{y}<extra></extra>",
         "legendgroup": "slk",
         "marker": {
          "color": "#FC6955",
          "symbol": "circle"
         },
         "mode": "markers",
         "name": "slk",
         "orientation": "v",
         "showlegend": true,
         "type": "scatter",
         "x": [
          -228.3287353515625
         ],
         "xaxis": "x",
         "y": [
          26.967819213867188
         ],
         "yaxis": "y"
        },
        {
         "hovertemplate": "color=slv<br>x=%{x}<br>y=%{y}<extra></extra>",
         "legendgroup": "slv",
         "marker": {
          "color": "#E48F72",
          "symbol": "circle"
         },
         "mode": "markers",
         "name": "slv",
         "orientation": "v",
         "showlegend": true,
         "type": "scatter",
         "x": [
          -251.3365478515625
         ],
         "xaxis": "x",
         "y": [
          3.4126687049865723
         ],
         "yaxis": "y"
        },
        {
         "hovertemplate": "color=tr<br>x=%{x}<br>y=%{y}<extra></extra>",
         "legendgroup": "tr",
         "marker": {
          "color": "#FD3216",
          "symbol": "circle"
         },
         "mode": "markers",
         "name": "tr",
         "orientation": "v",
         "showlegend": true,
         "type": "scatter",
         "x": [
          314.253662109375
         ],
         "xaxis": "x",
         "y": [
          280.1736145019531
         ],
         "yaxis": "y"
        },
        {
         "hovertemplate": "color=uk<br>x=%{x}<br>y=%{y}<extra></extra>",
         "legendgroup": "uk",
         "marker": {
          "color": "#00FE35",
          "symbol": "circle"
         },
         "mode": "markers",
         "name": "uk",
         "orientation": "v",
         "showlegend": true,
         "type": "scatter",
         "x": [
          -300.7374572753906
         ],
         "xaxis": "x",
         "y": [
          123.28272247314453
         ],
         "yaxis": "y"
        },
        {
         "hovertemplate": "color=zh<br>x=%{x}<br>y=%{y}<extra></extra>",
         "legendgroup": "zh",
         "marker": {
          "color": "#6A76FC",
          "symbol": "circle"
         },
         "mode": "markers",
         "name": "zh",
         "orientation": "v",
         "showlegend": true,
         "type": "scatter",
         "x": [
          380.28985595703125
         ],
         "xaxis": "x",
         "y": [
          272.2625427246094
         ],
         "yaxis": "y"
        }
       ],
       "layout": {
        "legend": {
         "title": {
          "text": "color"
         },
         "tracegroupgap": 0
        },
        "template": {
         "data": {
          "bar": [
           {
            "error_x": {
             "color": "#2a3f5f"
            },
            "error_y": {
             "color": "#2a3f5f"
            },
            "marker": {
             "line": {
              "color": "#E5ECF6",
              "width": 0.5
             },
             "pattern": {
              "fillmode": "overlay",
              "size": 10,
              "solidity": 0.2
             }
            },
            "type": "bar"
           }
          ],
          "barpolar": [
           {
            "marker": {
             "line": {
              "color": "#E5ECF6",
              "width": 0.5
             },
             "pattern": {
              "fillmode": "overlay",
              "size": 10,
              "solidity": 0.2
             }
            },
            "type": "barpolar"
           }
          ],
          "carpet": [
           {
            "aaxis": {
             "endlinecolor": "#2a3f5f",
             "gridcolor": "white",
             "linecolor": "white",
             "minorgridcolor": "white",
             "startlinecolor": "#2a3f5f"
            },
            "baxis": {
             "endlinecolor": "#2a3f5f",
             "gridcolor": "white",
             "linecolor": "white",
             "minorgridcolor": "white",
             "startlinecolor": "#2a3f5f"
            },
            "type": "carpet"
           }
          ],
          "choropleth": [
           {
            "colorbar": {
             "outlinewidth": 0,
             "ticks": ""
            },
            "type": "choropleth"
           }
          ],
          "contour": [
           {
            "colorbar": {
             "outlinewidth": 0,
             "ticks": ""
            },
            "colorscale": [
             [
              0,
              "#0d0887"
             ],
             [
              0.1111111111111111,
              "#46039f"
             ],
             [
              0.2222222222222222,
              "#7201a8"
             ],
             [
              0.3333333333333333,
              "#9c179e"
             ],
             [
              0.4444444444444444,
              "#bd3786"
             ],
             [
              0.5555555555555556,
              "#d8576b"
             ],
             [
              0.6666666666666666,
              "#ed7953"
             ],
             [
              0.7777777777777778,
              "#fb9f3a"
             ],
             [
              0.8888888888888888,
              "#fdca26"
             ],
             [
              1,
              "#f0f921"
             ]
            ],
            "type": "contour"
           }
          ],
          "contourcarpet": [
           {
            "colorbar": {
             "outlinewidth": 0,
             "ticks": ""
            },
            "type": "contourcarpet"
           }
          ],
          "heatmap": [
           {
            "colorbar": {
             "outlinewidth": 0,
             "ticks": ""
            },
            "colorscale": [
             [
              0,
              "#0d0887"
             ],
             [
              0.1111111111111111,
              "#46039f"
             ],
             [
              0.2222222222222222,
              "#7201a8"
             ],
             [
              0.3333333333333333,
              "#9c179e"
             ],
             [
              0.4444444444444444,
              "#bd3786"
             ],
             [
              0.5555555555555556,
              "#d8576b"
             ],
             [
              0.6666666666666666,
              "#ed7953"
             ],
             [
              0.7777777777777778,
              "#fb9f3a"
             ],
             [
              0.8888888888888888,
              "#fdca26"
             ],
             [
              1,
              "#f0f921"
             ]
            ],
            "type": "heatmap"
           }
          ],
          "heatmapgl": [
           {
            "colorbar": {
             "outlinewidth": 0,
             "ticks": ""
            },
            "colorscale": [
             [
              0,
              "#0d0887"
             ],
             [
              0.1111111111111111,
              "#46039f"
             ],
             [
              0.2222222222222222,
              "#7201a8"
             ],
             [
              0.3333333333333333,
              "#9c179e"
             ],
             [
              0.4444444444444444,
              "#bd3786"
             ],
             [
              0.5555555555555556,
              "#d8576b"
             ],
             [
              0.6666666666666666,
              "#ed7953"
             ],
             [
              0.7777777777777778,
              "#fb9f3a"
             ],
             [
              0.8888888888888888,
              "#fdca26"
             ],
             [
              1,
              "#f0f921"
             ]
            ],
            "type": "heatmapgl"
           }
          ],
          "histogram": [
           {
            "marker": {
             "pattern": {
              "fillmode": "overlay",
              "size": 10,
              "solidity": 0.2
             }
            },
            "type": "histogram"
           }
          ],
          "histogram2d": [
           {
            "colorbar": {
             "outlinewidth": 0,
             "ticks": ""
            },
            "colorscale": [
             [
              0,
              "#0d0887"
             ],
             [
              0.1111111111111111,
              "#46039f"
             ],
             [
              0.2222222222222222,
              "#7201a8"
             ],
             [
              0.3333333333333333,
              "#9c179e"
             ],
             [
              0.4444444444444444,
              "#bd3786"
             ],
             [
              0.5555555555555556,
              "#d8576b"
             ],
             [
              0.6666666666666666,
              "#ed7953"
             ],
             [
              0.7777777777777778,
              "#fb9f3a"
             ],
             [
              0.8888888888888888,
              "#fdca26"
             ],
             [
              1,
              "#f0f921"
             ]
            ],
            "type": "histogram2d"
           }
          ],
          "histogram2dcontour": [
           {
            "colorbar": {
             "outlinewidth": 0,
             "ticks": ""
            },
            "colorscale": [
             [
              0,
              "#0d0887"
             ],
             [
              0.1111111111111111,
              "#46039f"
             ],
             [
              0.2222222222222222,
              "#7201a8"
             ],
             [
              0.3333333333333333,
              "#9c179e"
             ],
             [
              0.4444444444444444,
              "#bd3786"
             ],
             [
              0.5555555555555556,
              "#d8576b"
             ],
             [
              0.6666666666666666,
              "#ed7953"
             ],
             [
              0.7777777777777778,
              "#fb9f3a"
             ],
             [
              0.8888888888888888,
              "#fdca26"
             ],
             [
              1,
              "#f0f921"
             ]
            ],
            "type": "histogram2dcontour"
           }
          ],
          "mesh3d": [
           {
            "colorbar": {
             "outlinewidth": 0,
             "ticks": ""
            },
            "type": "mesh3d"
           }
          ],
          "parcoords": [
           {
            "line": {
             "colorbar": {
              "outlinewidth": 0,
              "ticks": ""
             }
            },
            "type": "parcoords"
           }
          ],
          "pie": [
           {
            "automargin": true,
            "type": "pie"
           }
          ],
          "scatter": [
           {
            "fillpattern": {
             "fillmode": "overlay",
             "size": 10,
             "solidity": 0.2
            },
            "type": "scatter"
           }
          ],
          "scatter3d": [
           {
            "line": {
             "colorbar": {
              "outlinewidth": 0,
              "ticks": ""
             }
            },
            "marker": {
             "colorbar": {
              "outlinewidth": 0,
              "ticks": ""
             }
            },
            "type": "scatter3d"
           }
          ],
          "scattercarpet": [
           {
            "marker": {
             "colorbar": {
              "outlinewidth": 0,
              "ticks": ""
             }
            },
            "type": "scattercarpet"
           }
          ],
          "scattergeo": [
           {
            "marker": {
             "colorbar": {
              "outlinewidth": 0,
              "ticks": ""
             }
            },
            "type": "scattergeo"
           }
          ],
          "scattergl": [
           {
            "marker": {
             "colorbar": {
              "outlinewidth": 0,
              "ticks": ""
             }
            },
            "type": "scattergl"
           }
          ],
          "scattermapbox": [
           {
            "marker": {
             "colorbar": {
              "outlinewidth": 0,
              "ticks": ""
             }
            },
            "type": "scattermapbox"
           }
          ],
          "scatterpolar": [
           {
            "marker": {
             "colorbar": {
              "outlinewidth": 0,
              "ticks": ""
             }
            },
            "type": "scatterpolar"
           }
          ],
          "scatterpolargl": [
           {
            "marker": {
             "colorbar": {
              "outlinewidth": 0,
              "ticks": ""
             }
            },
            "type": "scatterpolargl"
           }
          ],
          "scatterternary": [
           {
            "marker": {
             "colorbar": {
              "outlinewidth": 0,
              "ticks": ""
             }
            },
            "type": "scatterternary"
           }
          ],
          "surface": [
           {
            "colorbar": {
             "outlinewidth": 0,
             "ticks": ""
            },
            "colorscale": [
             [
              0,
              "#0d0887"
             ],
             [
              0.1111111111111111,
              "#46039f"
             ],
             [
              0.2222222222222222,
              "#7201a8"
             ],
             [
              0.3333333333333333,
              "#9c179e"
             ],
             [
              0.4444444444444444,
              "#bd3786"
             ],
             [
              0.5555555555555556,
              "#d8576b"
             ],
             [
              0.6666666666666666,
              "#ed7953"
             ],
             [
              0.7777777777777778,
              "#fb9f3a"
             ],
             [
              0.8888888888888888,
              "#fdca26"
             ],
             [
              1,
              "#f0f921"
             ]
            ],
            "type": "surface"
           }
          ],
          "table": [
           {
            "cells": {
             "fill": {
              "color": "#EBF0F8"
             },
             "line": {
              "color": "white"
             }
            },
            "header": {
             "fill": {
              "color": "#C8D4E3"
             },
             "line": {
              "color": "white"
             }
            },
            "type": "table"
           }
          ]
         },
         "layout": {
          "annotationdefaults": {
           "arrowcolor": "#2a3f5f",
           "arrowhead": 0,
           "arrowwidth": 1
          },
          "autotypenumbers": "strict",
          "coloraxis": {
           "colorbar": {
            "outlinewidth": 0,
            "ticks": ""
           }
          },
          "colorscale": {
           "diverging": [
            [
             0,
             "#8e0152"
            ],
            [
             0.1,
             "#c51b7d"
            ],
            [
             0.2,
             "#de77ae"
            ],
            [
             0.3,
             "#f1b6da"
            ],
            [
             0.4,
             "#fde0ef"
            ],
            [
             0.5,
             "#f7f7f7"
            ],
            [
             0.6,
             "#e6f5d0"
            ],
            [
             0.7,
             "#b8e186"
            ],
            [
             0.8,
             "#7fbc41"
            ],
            [
             0.9,
             "#4d9221"
            ],
            [
             1,
             "#276419"
            ]
           ],
           "sequential": [
            [
             0,
             "#0d0887"
            ],
            [
             0.1111111111111111,
             "#46039f"
            ],
            [
             0.2222222222222222,
             "#7201a8"
            ],
            [
             0.3333333333333333,
             "#9c179e"
            ],
            [
             0.4444444444444444,
             "#bd3786"
            ],
            [
             0.5555555555555556,
             "#d8576b"
            ],
            [
             0.6666666666666666,
             "#ed7953"
            ],
            [
             0.7777777777777778,
             "#fb9f3a"
            ],
            [
             0.8888888888888888,
             "#fdca26"
            ],
            [
             1,
             "#f0f921"
            ]
           ],
           "sequentialminus": [
            [
             0,
             "#0d0887"
            ],
            [
             0.1111111111111111,
             "#46039f"
            ],
            [
             0.2222222222222222,
             "#7201a8"
            ],
            [
             0.3333333333333333,
             "#9c179e"
            ],
            [
             0.4444444444444444,
             "#bd3786"
            ],
            [
             0.5555555555555556,
             "#d8576b"
            ],
            [
             0.6666666666666666,
             "#ed7953"
            ],
            [
             0.7777777777777778,
             "#fb9f3a"
            ],
            [
             0.8888888888888888,
             "#fdca26"
            ],
            [
             1,
             "#f0f921"
            ]
           ]
          },
          "colorway": [
           "#636efa",
           "#EF553B",
           "#00cc96",
           "#ab63fa",
           "#FFA15A",
           "#19d3f3",
           "#FF6692",
           "#B6E880",
           "#FF97FF",
           "#FECB52"
          ],
          "font": {
           "color": "#2a3f5f"
          },
          "geo": {
           "bgcolor": "white",
           "lakecolor": "white",
           "landcolor": "#E5ECF6",
           "showlakes": true,
           "showland": true,
           "subunitcolor": "white"
          },
          "hoverlabel": {
           "align": "left"
          },
          "hovermode": "closest",
          "mapbox": {
           "style": "light"
          },
          "paper_bgcolor": "white",
          "plot_bgcolor": "#E5ECF6",
          "polar": {
           "angularaxis": {
            "gridcolor": "white",
            "linecolor": "white",
            "ticks": ""
           },
           "bgcolor": "#E5ECF6",
           "radialaxis": {
            "gridcolor": "white",
            "linecolor": "white",
            "ticks": ""
           }
          },
          "scene": {
           "xaxis": {
            "backgroundcolor": "#E5ECF6",
            "gridcolor": "white",
            "gridwidth": 2,
            "linecolor": "white",
            "showbackground": true,
            "ticks": "",
            "zerolinecolor": "white"
           },
           "yaxis": {
            "backgroundcolor": "#E5ECF6",
            "gridcolor": "white",
            "gridwidth": 2,
            "linecolor": "white",
            "showbackground": true,
            "ticks": "",
            "zerolinecolor": "white"
           },
           "zaxis": {
            "backgroundcolor": "#E5ECF6",
            "gridcolor": "white",
            "gridwidth": 2,
            "linecolor": "white",
            "showbackground": true,
            "ticks": "",
            "zerolinecolor": "white"
           }
          },
          "shapedefaults": {
           "line": {
            "color": "#2a3f5f"
           }
          },
          "ternary": {
           "aaxis": {
            "gridcolor": "white",
            "linecolor": "white",
            "ticks": ""
           },
           "baxis": {
            "gridcolor": "white",
            "linecolor": "white",
            "ticks": ""
           },
           "bgcolor": "#E5ECF6",
           "caxis": {
            "gridcolor": "white",
            "linecolor": "white",
            "ticks": ""
           }
          },
          "title": {
           "x": 0.05
          },
          "xaxis": {
           "automargin": true,
           "gridcolor": "white",
           "linecolor": "white",
           "ticks": "",
           "title": {
            "standoff": 15
           },
           "zerolinecolor": "white",
           "zerolinewidth": 2
          },
          "yaxis": {
           "automargin": true,
           "gridcolor": "white",
           "linecolor": "white",
           "ticks": "",
           "title": {
            "standoff": 15
           },
           "zerolinecolor": "white",
           "zerolinewidth": 2
          }
         }
        },
        "title": {
         "text": "perplexity 3"
        },
        "xaxis": {
         "anchor": "y",
         "domain": [
          0,
          1
         ],
         "title": {
          "text": "x"
         }
        },
        "yaxis": {
         "anchor": "x",
         "domain": [
          0,
          1
         ],
         "title": {
          "text": "y"
         }
        }
       }
      }
     },
     "metadata": {},
     "output_type": "display_data"
    },
    {
     "name": "stderr",
     "output_type": "stream",
     "text": [
      "/home/amysiak/thesis/env/lib/python3.8/site-packages/sklearn/manifold/_t_sne.py:800: FutureWarning:\n",
      "\n",
      "The default initialization in TSNE will change from 'random' to 'pca' in 1.2.\n",
      "\n",
      "/home/amysiak/thesis/env/lib/python3.8/site-packages/sklearn/manifold/_t_sne.py:810: FutureWarning:\n",
      "\n",
      "The default learning rate in TSNE will change from 200.0 to 'auto' in 1.2.\n",
      "\n"
     ]
    },
    {
     "data": {
      "application/vnd.plotly.v1+json": {
       "config": {
        "plotlyServerURL": "https://plot.ly"
       },
       "data": [
        {
         "hovertemplate": "color=ar<br>x=%{x}<br>y=%{y}<extra></extra>",
         "legendgroup": "ar",
         "marker": {
          "color": "#FD3216",
          "symbol": "circle"
         },
         "mode": "markers",
         "name": "ar",
         "orientation": "v",
         "showlegend": true,
         "type": "scatter",
         "x": [
          64.75066375732422
         ],
         "xaxis": "x",
         "y": [
          16.16617774963379
         ],
         "yaxis": "y"
        },
        {
         "hovertemplate": "color=be<br>x=%{x}<br>y=%{y}<extra></extra>",
         "legendgroup": "be",
         "marker": {
          "color": "#00FE35",
          "symbol": "circle"
         },
         "mode": "markers",
         "name": "be",
         "orientation": "v",
         "showlegend": true,
         "type": "scatter",
         "x": [
          -489.0881652832031
         ],
         "xaxis": "x",
         "y": [
          -345.63629150390625
         ],
         "yaxis": "y"
        },
        {
         "hovertemplate": "color=bg<br>x=%{x}<br>y=%{y}<extra></extra>",
         "legendgroup": "bg",
         "marker": {
          "color": "#6A76FC",
          "symbol": "circle"
         },
         "mode": "markers",
         "name": "bg",
         "orientation": "v",
         "showlegend": true,
         "type": "scatter",
         "x": [
          -494.7735290527344
         ],
         "xaxis": "x",
         "y": [
          -240.47947692871094
         ],
         "yaxis": "y"
        },
        {
         "hovertemplate": "color=cs<br>x=%{x}<br>y=%{y}<extra></extra>",
         "legendgroup": "cs",
         "marker": {
          "color": "#FED4C4",
          "symbol": "circle"
         },
         "mode": "markers",
         "name": "cs",
         "orientation": "v",
         "showlegend": true,
         "type": "scatter",
         "x": [
          -399.903564453125
         ],
         "xaxis": "x",
         "y": [
          -240.6981658935547
         ],
         "yaxis": "y"
        },
        {
         "hovertemplate": "color=cy<br>x=%{x}<br>y=%{y}<extra></extra>",
         "legendgroup": "cy",
         "marker": {
          "color": "#FE00CE",
          "symbol": "circle"
         },
         "mode": "markers",
         "name": "cy",
         "orientation": "v",
         "showlegend": true,
         "type": "scatter",
         "x": [
          22.877471923828125
         ],
         "xaxis": "x",
         "y": [
          4.380172252655029
         ],
         "yaxis": "y"
        },
        {
         "hovertemplate": "color=de<br>x=%{x}<br>y=%{y}<extra></extra>",
         "legendgroup": "de",
         "marker": {
          "color": "#0DF9FF",
          "symbol": "circle"
         },
         "mode": "markers",
         "name": "de",
         "orientation": "v",
         "showlegend": true,
         "type": "scatter",
         "x": [
          -91.25326538085938
         ],
         "xaxis": "x",
         "y": [
          153.16421508789062
         ],
         "yaxis": "y"
        },
        {
         "hovertemplate": "color=en<br>x=%{x}<br>y=%{y}<extra></extra>",
         "legendgroup": "en",
         "marker": {
          "color": "#F6F926",
          "symbol": "circle"
         },
         "mode": "markers",
         "name": "en",
         "orientation": "v",
         "showlegend": true,
         "type": "scatter",
         "x": [
          -12.45627212524414
         ],
         "xaxis": "x",
         "y": [
          216.50062561035156
         ],
         "yaxis": "y"
        },
        {
         "hovertemplate": "color=es<br>x=%{x}<br>y=%{y}<extra></extra>",
         "legendgroup": "es",
         "marker": {
          "color": "#FF9616",
          "symbol": "circle"
         },
         "mode": "markers",
         "name": "es",
         "orientation": "v",
         "showlegend": true,
         "type": "scatter",
         "x": [
          47.84892654418945
         ],
         "xaxis": "x",
         "y": [
          190.0025634765625
         ],
         "yaxis": "y"
        },
        {
         "hovertemplate": "color=fa<br>x=%{x}<br>y=%{y}<extra></extra>",
         "legendgroup": "fa",
         "marker": {
          "color": "#479B55",
          "symbol": "circle"
         },
         "mode": "markers",
         "name": "fa",
         "orientation": "v",
         "showlegend": true,
         "type": "scatter",
         "x": [
          75.90859985351562
         ],
         "xaxis": "x",
         "y": [
          -44.52938461303711
         ],
         "yaxis": "y"
        },
        {
         "hovertemplate": "color=fi<br>x=%{x}<br>y=%{y}<extra></extra>",
         "legendgroup": "fi",
         "marker": {
          "color": "#EEA6FB",
          "symbol": "circle"
         },
         "mode": "markers",
         "name": "fi",
         "orientation": "v",
         "showlegend": true,
         "type": "scatter",
         "x": [
          440.9642028808594
         ],
         "xaxis": "x",
         "y": [
          -98.69823455810547
         ],
         "yaxis": "y"
        },
        {
         "hovertemplate": "color=fr<br>x=%{x}<br>y=%{y}<extra></extra>",
         "legendgroup": "fr",
         "marker": {
          "color": "#DC587D",
          "symbol": "circle"
         },
         "mode": "markers",
         "name": "fr",
         "orientation": "v",
         "showlegend": true,
         "type": "scatter",
         "x": [
          81.13697052001953
         ],
         "xaxis": "x",
         "y": [
          177.70655822753906
         ],
         "yaxis": "y"
        },
        {
         "hovertemplate": "color=ga<br>x=%{x}<br>y=%{y}<extra></extra>",
         "legendgroup": "ga",
         "marker": {
          "color": "#D626FF",
          "symbol": "circle"
         },
         "mode": "markers",
         "name": "ga",
         "orientation": "v",
         "showlegend": true,
         "type": "scatter",
         "x": [
          4.593580722808838
         ],
         "xaxis": "x",
         "y": [
          45.49891662597656
         ],
         "yaxis": "y"
        },
        {
         "hovertemplate": "color=hr<br>x=%{x}<br>y=%{y}<extra></extra>",
         "legendgroup": "hr",
         "marker": {
          "color": "#6E899C",
          "symbol": "circle"
         },
         "mode": "markers",
         "name": "hr",
         "orientation": "v",
         "showlegend": true,
         "type": "scatter",
         "x": [
          -457.1846008300781
         ],
         "xaxis": "x",
         "y": [
          -219.96812438964844
         ],
         "yaxis": "y"
        },
        {
         "hovertemplate": "color=hy<br>x=%{x}<br>y=%{y}<extra></extra>",
         "legendgroup": "hy",
         "marker": {
          "color": "#00B5F7",
          "symbol": "circle"
         },
         "mode": "markers",
         "name": "hy",
         "orientation": "v",
         "showlegend": true,
         "type": "scatter",
         "x": [
          481.8319091796875
         ],
         "xaxis": "x",
         "y": [
          -61.01850509643555
         ],
         "yaxis": "y"
        },
        {
         "hovertemplate": "color=id<br>x=%{x}<br>y=%{y}<extra></extra>",
         "legendgroup": "id",
         "marker": {
          "color": "#B68E00",
          "symbol": "circle"
         },
         "mode": "markers",
         "name": "id",
         "orientation": "v",
         "showlegend": true,
         "type": "scatter",
         "x": [
          48.00410461425781
         ],
         "xaxis": "x",
         "y": [
          58.296321868896484
         ],
         "yaxis": "y"
        },
        {
         "hovertemplate": "color=ja<br>x=%{x}<br>y=%{y}<extra></extra>",
         "legendgroup": "ja",
         "marker": {
          "color": "#C9FBE5",
          "symbol": "circle"
         },
         "mode": "markers",
         "name": "ja",
         "orientation": "v",
         "showlegend": true,
         "type": "scatter",
         "x": [
          526.4179077148438
         ],
         "xaxis": "x",
         "y": [
          28.946086883544922
         ],
         "yaxis": "y"
        },
        {
         "hovertemplate": "color=ko<br>x=%{x}<br>y=%{y}<extra></extra>",
         "legendgroup": "ko",
         "marker": {
          "color": "#FF0092",
          "symbol": "circle"
         },
         "mode": "markers",
         "name": "ko",
         "orientation": "v",
         "showlegend": true,
         "type": "scatter",
         "x": [
          516.5438232421875
         ],
         "xaxis": "x",
         "y": [
          72.15579986572266
         ],
         "yaxis": "y"
        },
        {
         "hovertemplate": "color=lt<br>x=%{x}<br>y=%{y}<extra></extra>",
         "legendgroup": "lt",
         "marker": {
          "color": "#22FFA7",
          "symbol": "circle"
         },
         "mode": "markers",
         "name": "lt",
         "orientation": "v",
         "showlegend": true,
         "type": "scatter",
         "x": [
          494.5067138671875
         ],
         "xaxis": "x",
         "y": [
          -107.22821807861328
         ],
         "yaxis": "y"
        },
        {
         "hovertemplate": "color=lv<br>x=%{x}<br>y=%{y}<extra></extra>",
         "legendgroup": "lv",
         "marker": {
          "color": "#E3EE9E",
          "symbol": "circle"
         },
         "mode": "markers",
         "name": "lv",
         "orientation": "v",
         "showlegend": true,
         "type": "scatter",
         "x": [
          478.4259948730469
         ],
         "xaxis": "x",
         "y": [
          -142.90528869628906
         ],
         "yaxis": "y"
        },
        {
         "hovertemplate": "color=nl<br>x=%{x}<br>y=%{y}<extra></extra>",
         "legendgroup": "nl",
         "marker": {
          "color": "#86CE00",
          "symbol": "circle"
         },
         "mode": "markers",
         "name": "nl",
         "orientation": "v",
         "showlegend": true,
         "type": "scatter",
         "x": [
          -65.23580169677734
         ],
         "xaxis": "x",
         "y": [
          176.38824462890625
         ],
         "yaxis": "y"
        },
        {
         "hovertemplate": "color=pl<br>x=%{x}<br>y=%{y}<extra></extra>",
         "legendgroup": "pl",
         "marker": {
          "color": "#BC7196",
          "symbol": "circle"
         },
         "mode": "markers",
         "name": "pl",
         "orientation": "v",
         "showlegend": true,
         "type": "scatter",
         "x": [
          -562.5767211914062
         ],
         "xaxis": "x",
         "y": [
          -272.4552307128906
         ],
         "yaxis": "y"
        },
        {
         "hovertemplate": "color=ru<br>x=%{x}<br>y=%{y}<extra></extra>",
         "legendgroup": "ru",
         "marker": {
          "color": "#7E7DCD",
          "symbol": "circle"
         },
         "mode": "markers",
         "name": "ru",
         "orientation": "v",
         "showlegend": true,
         "type": "scatter",
         "x": [
          -544.9428100585938
         ],
         "xaxis": "x",
         "y": [
          -338.61700439453125
         ],
         "yaxis": "y"
        },
        {
         "hovertemplate": "color=slk<br>x=%{x}<br>y=%{y}<extra></extra>",
         "legendgroup": "slk",
         "marker": {
          "color": "#FC6955",
          "symbol": "circle"
         },
         "mode": "markers",
         "name": "slk",
         "orientation": "v",
         "showlegend": true,
         "type": "scatter",
         "x": [
          -406.67962646484375
         ],
         "xaxis": "x",
         "y": [
          -202.1407012939453
         ],
         "yaxis": "y"
        },
        {
         "hovertemplate": "color=slv<br>x=%{x}<br>y=%{y}<extra></extra>",
         "legendgroup": "slv",
         "marker": {
          "color": "#E48F72",
          "symbol": "circle"
         },
         "mode": "markers",
         "name": "slv",
         "orientation": "v",
         "showlegend": true,
         "type": "scatter",
         "x": [
          -431.0367431640625
         ],
         "xaxis": "x",
         "y": [
          -157.5260009765625
         ],
         "yaxis": "y"
        },
        {
         "hovertemplate": "color=tr<br>x=%{x}<br>y=%{y}<extra></extra>",
         "legendgroup": "tr",
         "marker": {
          "color": "#FD3216",
          "symbol": "circle"
         },
         "mode": "markers",
         "name": "tr",
         "orientation": "v",
         "showlegend": true,
         "type": "scatter",
         "x": [
          469.81243896484375
         ],
         "xaxis": "x",
         "y": [
          50.7081413269043
         ],
         "yaxis": "y"
        },
        {
         "hovertemplate": "color=uk<br>x=%{x}<br>y=%{y}<extra></extra>",
         "legendgroup": "uk",
         "marker": {
          "color": "#00FE35",
          "symbol": "circle"
         },
         "mode": "markers",
         "name": "uk",
         "orientation": "v",
         "showlegend": true,
         "type": "scatter",
         "x": [
          -522.8086547851562
         ],
         "xaxis": "x",
         "y": [
          -308.73834228515625
         ],
         "yaxis": "y"
        },
        {
         "hovertemplate": "color=zh<br>x=%{x}<br>y=%{y}<extra></extra>",
         "legendgroup": "zh",
         "marker": {
          "color": "#6A76FC",
          "symbol": "circle"
         },
         "mode": "markers",
         "name": "zh",
         "orientation": "v",
         "showlegend": true,
         "type": "scatter",
         "x": [
          494.94036865234375
         ],
         "xaxis": "x",
         "y": [
          -13.939408302307129
         ],
         "yaxis": "y"
        }
       ],
       "layout": {
        "legend": {
         "title": {
          "text": "color"
         },
         "tracegroupgap": 0
        },
        "template": {
         "data": {
          "bar": [
           {
            "error_x": {
             "color": "#2a3f5f"
            },
            "error_y": {
             "color": "#2a3f5f"
            },
            "marker": {
             "line": {
              "color": "#E5ECF6",
              "width": 0.5
             },
             "pattern": {
              "fillmode": "overlay",
              "size": 10,
              "solidity": 0.2
             }
            },
            "type": "bar"
           }
          ],
          "barpolar": [
           {
            "marker": {
             "line": {
              "color": "#E5ECF6",
              "width": 0.5
             },
             "pattern": {
              "fillmode": "overlay",
              "size": 10,
              "solidity": 0.2
             }
            },
            "type": "barpolar"
           }
          ],
          "carpet": [
           {
            "aaxis": {
             "endlinecolor": "#2a3f5f",
             "gridcolor": "white",
             "linecolor": "white",
             "minorgridcolor": "white",
             "startlinecolor": "#2a3f5f"
            },
            "baxis": {
             "endlinecolor": "#2a3f5f",
             "gridcolor": "white",
             "linecolor": "white",
             "minorgridcolor": "white",
             "startlinecolor": "#2a3f5f"
            },
            "type": "carpet"
           }
          ],
          "choropleth": [
           {
            "colorbar": {
             "outlinewidth": 0,
             "ticks": ""
            },
            "type": "choropleth"
           }
          ],
          "contour": [
           {
            "colorbar": {
             "outlinewidth": 0,
             "ticks": ""
            },
            "colorscale": [
             [
              0,
              "#0d0887"
             ],
             [
              0.1111111111111111,
              "#46039f"
             ],
             [
              0.2222222222222222,
              "#7201a8"
             ],
             [
              0.3333333333333333,
              "#9c179e"
             ],
             [
              0.4444444444444444,
              "#bd3786"
             ],
             [
              0.5555555555555556,
              "#d8576b"
             ],
             [
              0.6666666666666666,
              "#ed7953"
             ],
             [
              0.7777777777777778,
              "#fb9f3a"
             ],
             [
              0.8888888888888888,
              "#fdca26"
             ],
             [
              1,
              "#f0f921"
             ]
            ],
            "type": "contour"
           }
          ],
          "contourcarpet": [
           {
            "colorbar": {
             "outlinewidth": 0,
             "ticks": ""
            },
            "type": "contourcarpet"
           }
          ],
          "heatmap": [
           {
            "colorbar": {
             "outlinewidth": 0,
             "ticks": ""
            },
            "colorscale": [
             [
              0,
              "#0d0887"
             ],
             [
              0.1111111111111111,
              "#46039f"
             ],
             [
              0.2222222222222222,
              "#7201a8"
             ],
             [
              0.3333333333333333,
              "#9c179e"
             ],
             [
              0.4444444444444444,
              "#bd3786"
             ],
             [
              0.5555555555555556,
              "#d8576b"
             ],
             [
              0.6666666666666666,
              "#ed7953"
             ],
             [
              0.7777777777777778,
              "#fb9f3a"
             ],
             [
              0.8888888888888888,
              "#fdca26"
             ],
             [
              1,
              "#f0f921"
             ]
            ],
            "type": "heatmap"
           }
          ],
          "heatmapgl": [
           {
            "colorbar": {
             "outlinewidth": 0,
             "ticks": ""
            },
            "colorscale": [
             [
              0,
              "#0d0887"
             ],
             [
              0.1111111111111111,
              "#46039f"
             ],
             [
              0.2222222222222222,
              "#7201a8"
             ],
             [
              0.3333333333333333,
              "#9c179e"
             ],
             [
              0.4444444444444444,
              "#bd3786"
             ],
             [
              0.5555555555555556,
              "#d8576b"
             ],
             [
              0.6666666666666666,
              "#ed7953"
             ],
             [
              0.7777777777777778,
              "#fb9f3a"
             ],
             [
              0.8888888888888888,
              "#fdca26"
             ],
             [
              1,
              "#f0f921"
             ]
            ],
            "type": "heatmapgl"
           }
          ],
          "histogram": [
           {
            "marker": {
             "pattern": {
              "fillmode": "overlay",
              "size": 10,
              "solidity": 0.2
             }
            },
            "type": "histogram"
           }
          ],
          "histogram2d": [
           {
            "colorbar": {
             "outlinewidth": 0,
             "ticks": ""
            },
            "colorscale": [
             [
              0,
              "#0d0887"
             ],
             [
              0.1111111111111111,
              "#46039f"
             ],
             [
              0.2222222222222222,
              "#7201a8"
             ],
             [
              0.3333333333333333,
              "#9c179e"
             ],
             [
              0.4444444444444444,
              "#bd3786"
             ],
             [
              0.5555555555555556,
              "#d8576b"
             ],
             [
              0.6666666666666666,
              "#ed7953"
             ],
             [
              0.7777777777777778,
              "#fb9f3a"
             ],
             [
              0.8888888888888888,
              "#fdca26"
             ],
             [
              1,
              "#f0f921"
             ]
            ],
            "type": "histogram2d"
           }
          ],
          "histogram2dcontour": [
           {
            "colorbar": {
             "outlinewidth": 0,
             "ticks": ""
            },
            "colorscale": [
             [
              0,
              "#0d0887"
             ],
             [
              0.1111111111111111,
              "#46039f"
             ],
             [
              0.2222222222222222,
              "#7201a8"
             ],
             [
              0.3333333333333333,
              "#9c179e"
             ],
             [
              0.4444444444444444,
              "#bd3786"
             ],
             [
              0.5555555555555556,
              "#d8576b"
             ],
             [
              0.6666666666666666,
              "#ed7953"
             ],
             [
              0.7777777777777778,
              "#fb9f3a"
             ],
             [
              0.8888888888888888,
              "#fdca26"
             ],
             [
              1,
              "#f0f921"
             ]
            ],
            "type": "histogram2dcontour"
           }
          ],
          "mesh3d": [
           {
            "colorbar": {
             "outlinewidth": 0,
             "ticks": ""
            },
            "type": "mesh3d"
           }
          ],
          "parcoords": [
           {
            "line": {
             "colorbar": {
              "outlinewidth": 0,
              "ticks": ""
             }
            },
            "type": "parcoords"
           }
          ],
          "pie": [
           {
            "automargin": true,
            "type": "pie"
           }
          ],
          "scatter": [
           {
            "fillpattern": {
             "fillmode": "overlay",
             "size": 10,
             "solidity": 0.2
            },
            "type": "scatter"
           }
          ],
          "scatter3d": [
           {
            "line": {
             "colorbar": {
              "outlinewidth": 0,
              "ticks": ""
             }
            },
            "marker": {
             "colorbar": {
              "outlinewidth": 0,
              "ticks": ""
             }
            },
            "type": "scatter3d"
           }
          ],
          "scattercarpet": [
           {
            "marker": {
             "colorbar": {
              "outlinewidth": 0,
              "ticks": ""
             }
            },
            "type": "scattercarpet"
           }
          ],
          "scattergeo": [
           {
            "marker": {
             "colorbar": {
              "outlinewidth": 0,
              "ticks": ""
             }
            },
            "type": "scattergeo"
           }
          ],
          "scattergl": [
           {
            "marker": {
             "colorbar": {
              "outlinewidth": 0,
              "ticks": ""
             }
            },
            "type": "scattergl"
           }
          ],
          "scattermapbox": [
           {
            "marker": {
             "colorbar": {
              "outlinewidth": 0,
              "ticks": ""
             }
            },
            "type": "scattermapbox"
           }
          ],
          "scatterpolar": [
           {
            "marker": {
             "colorbar": {
              "outlinewidth": 0,
              "ticks": ""
             }
            },
            "type": "scatterpolar"
           }
          ],
          "scatterpolargl": [
           {
            "marker": {
             "colorbar": {
              "outlinewidth": 0,
              "ticks": ""
             }
            },
            "type": "scatterpolargl"
           }
          ],
          "scatterternary": [
           {
            "marker": {
             "colorbar": {
              "outlinewidth": 0,
              "ticks": ""
             }
            },
            "type": "scatterternary"
           }
          ],
          "surface": [
           {
            "colorbar": {
             "outlinewidth": 0,
             "ticks": ""
            },
            "colorscale": [
             [
              0,
              "#0d0887"
             ],
             [
              0.1111111111111111,
              "#46039f"
             ],
             [
              0.2222222222222222,
              "#7201a8"
             ],
             [
              0.3333333333333333,
              "#9c179e"
             ],
             [
              0.4444444444444444,
              "#bd3786"
             ],
             [
              0.5555555555555556,
              "#d8576b"
             ],
             [
              0.6666666666666666,
              "#ed7953"
             ],
             [
              0.7777777777777778,
              "#fb9f3a"
             ],
             [
              0.8888888888888888,
              "#fdca26"
             ],
             [
              1,
              "#f0f921"
             ]
            ],
            "type": "surface"
           }
          ],
          "table": [
           {
            "cells": {
             "fill": {
              "color": "#EBF0F8"
             },
             "line": {
              "color": "white"
             }
            },
            "header": {
             "fill": {
              "color": "#C8D4E3"
             },
             "line": {
              "color": "white"
             }
            },
            "type": "table"
           }
          ]
         },
         "layout": {
          "annotationdefaults": {
           "arrowcolor": "#2a3f5f",
           "arrowhead": 0,
           "arrowwidth": 1
          },
          "autotypenumbers": "strict",
          "coloraxis": {
           "colorbar": {
            "outlinewidth": 0,
            "ticks": ""
           }
          },
          "colorscale": {
           "diverging": [
            [
             0,
             "#8e0152"
            ],
            [
             0.1,
             "#c51b7d"
            ],
            [
             0.2,
             "#de77ae"
            ],
            [
             0.3,
             "#f1b6da"
            ],
            [
             0.4,
             "#fde0ef"
            ],
            [
             0.5,
             "#f7f7f7"
            ],
            [
             0.6,
             "#e6f5d0"
            ],
            [
             0.7,
             "#b8e186"
            ],
            [
             0.8,
             "#7fbc41"
            ],
            [
             0.9,
             "#4d9221"
            ],
            [
             1,
             "#276419"
            ]
           ],
           "sequential": [
            [
             0,
             "#0d0887"
            ],
            [
             0.1111111111111111,
             "#46039f"
            ],
            [
             0.2222222222222222,
             "#7201a8"
            ],
            [
             0.3333333333333333,
             "#9c179e"
            ],
            [
             0.4444444444444444,
             "#bd3786"
            ],
            [
             0.5555555555555556,
             "#d8576b"
            ],
            [
             0.6666666666666666,
             "#ed7953"
            ],
            [
             0.7777777777777778,
             "#fb9f3a"
            ],
            [
             0.8888888888888888,
             "#fdca26"
            ],
            [
             1,
             "#f0f921"
            ]
           ],
           "sequentialminus": [
            [
             0,
             "#0d0887"
            ],
            [
             0.1111111111111111,
             "#46039f"
            ],
            [
             0.2222222222222222,
             "#7201a8"
            ],
            [
             0.3333333333333333,
             "#9c179e"
            ],
            [
             0.4444444444444444,
             "#bd3786"
            ],
            [
             0.5555555555555556,
             "#d8576b"
            ],
            [
             0.6666666666666666,
             "#ed7953"
            ],
            [
             0.7777777777777778,
             "#fb9f3a"
            ],
            [
             0.8888888888888888,
             "#fdca26"
            ],
            [
             1,
             "#f0f921"
            ]
           ]
          },
          "colorway": [
           "#636efa",
           "#EF553B",
           "#00cc96",
           "#ab63fa",
           "#FFA15A",
           "#19d3f3",
           "#FF6692",
           "#B6E880",
           "#FF97FF",
           "#FECB52"
          ],
          "font": {
           "color": "#2a3f5f"
          },
          "geo": {
           "bgcolor": "white",
           "lakecolor": "white",
           "landcolor": "#E5ECF6",
           "showlakes": true,
           "showland": true,
           "subunitcolor": "white"
          },
          "hoverlabel": {
           "align": "left"
          },
          "hovermode": "closest",
          "mapbox": {
           "style": "light"
          },
          "paper_bgcolor": "white",
          "plot_bgcolor": "#E5ECF6",
          "polar": {
           "angularaxis": {
            "gridcolor": "white",
            "linecolor": "white",
            "ticks": ""
           },
           "bgcolor": "#E5ECF6",
           "radialaxis": {
            "gridcolor": "white",
            "linecolor": "white",
            "ticks": ""
           }
          },
          "scene": {
           "xaxis": {
            "backgroundcolor": "#E5ECF6",
            "gridcolor": "white",
            "gridwidth": 2,
            "linecolor": "white",
            "showbackground": true,
            "ticks": "",
            "zerolinecolor": "white"
           },
           "yaxis": {
            "backgroundcolor": "#E5ECF6",
            "gridcolor": "white",
            "gridwidth": 2,
            "linecolor": "white",
            "showbackground": true,
            "ticks": "",
            "zerolinecolor": "white"
           },
           "zaxis": {
            "backgroundcolor": "#E5ECF6",
            "gridcolor": "white",
            "gridwidth": 2,
            "linecolor": "white",
            "showbackground": true,
            "ticks": "",
            "zerolinecolor": "white"
           }
          },
          "shapedefaults": {
           "line": {
            "color": "#2a3f5f"
           }
          },
          "ternary": {
           "aaxis": {
            "gridcolor": "white",
            "linecolor": "white",
            "ticks": ""
           },
           "baxis": {
            "gridcolor": "white",
            "linecolor": "white",
            "ticks": ""
           },
           "bgcolor": "#E5ECF6",
           "caxis": {
            "gridcolor": "white",
            "linecolor": "white",
            "ticks": ""
           }
          },
          "title": {
           "x": 0.05
          },
          "xaxis": {
           "automargin": true,
           "gridcolor": "white",
           "linecolor": "white",
           "ticks": "",
           "title": {
            "standoff": 15
           },
           "zerolinecolor": "white",
           "zerolinewidth": 2
          },
          "yaxis": {
           "automargin": true,
           "gridcolor": "white",
           "linecolor": "white",
           "ticks": "",
           "title": {
            "standoff": 15
           },
           "zerolinecolor": "white",
           "zerolinewidth": 2
          }
         }
        },
        "title": {
         "text": "perplexity 4"
        },
        "xaxis": {
         "anchor": "y",
         "domain": [
          0,
          1
         ],
         "title": {
          "text": "x"
         }
        },
        "yaxis": {
         "anchor": "x",
         "domain": [
          0,
          1
         ],
         "title": {
          "text": "y"
         }
        }
       }
      }
     },
     "metadata": {},
     "output_type": "display_data"
    },
    {
     "name": "stderr",
     "output_type": "stream",
     "text": [
      "/home/amysiak/thesis/env/lib/python3.8/site-packages/sklearn/manifold/_t_sne.py:800: FutureWarning:\n",
      "\n",
      "The default initialization in TSNE will change from 'random' to 'pca' in 1.2.\n",
      "\n",
      "/home/amysiak/thesis/env/lib/python3.8/site-packages/sklearn/manifold/_t_sne.py:810: FutureWarning:\n",
      "\n",
      "The default learning rate in TSNE will change from 200.0 to 'auto' in 1.2.\n",
      "\n"
     ]
    },
    {
     "data": {
      "application/vnd.plotly.v1+json": {
       "config": {
        "plotlyServerURL": "https://plot.ly"
       },
       "data": [
        {
         "hovertemplate": "color=ar<br>x=%{x}<br>y=%{y}<extra></extra>",
         "legendgroup": "ar",
         "marker": {
          "color": "#FD3216",
          "symbol": "circle"
         },
         "mode": "markers",
         "name": "ar",
         "orientation": "v",
         "showlegend": true,
         "type": "scatter",
         "x": [
          32.409603118896484
         ],
         "xaxis": "x",
         "y": [
          -183.28213500976562
         ],
         "yaxis": "y"
        },
        {
         "hovertemplate": "color=be<br>x=%{x}<br>y=%{y}<extra></extra>",
         "legendgroup": "be",
         "marker": {
          "color": "#00FE35",
          "symbol": "circle"
         },
         "mode": "markers",
         "name": "be",
         "orientation": "v",
         "showlegend": true,
         "type": "scatter",
         "x": [
          284.5931396484375
         ],
         "xaxis": "x",
         "y": [
          678.5399780273438
         ],
         "yaxis": "y"
        },
        {
         "hovertemplate": "color=bg<br>x=%{x}<br>y=%{y}<extra></extra>",
         "legendgroup": "bg",
         "marker": {
          "color": "#6A76FC",
          "symbol": "circle"
         },
         "mode": "markers",
         "name": "bg",
         "orientation": "v",
         "showlegend": true,
         "type": "scatter",
         "x": [
          264.83349609375
         ],
         "xaxis": "x",
         "y": [
          498.2537536621094
         ],
         "yaxis": "y"
        },
        {
         "hovertemplate": "color=cs<br>x=%{x}<br>y=%{y}<extra></extra>",
         "legendgroup": "cs",
         "marker": {
          "color": "#FED4C4",
          "symbol": "circle"
         },
         "mode": "markers",
         "name": "cs",
         "orientation": "v",
         "showlegend": true,
         "type": "scatter",
         "x": [
          114.0638656616211
         ],
         "xaxis": "x",
         "y": [
          523.9879760742188
         ],
         "yaxis": "y"
        },
        {
         "hovertemplate": "color=cy<br>x=%{x}<br>y=%{y}<extra></extra>",
         "legendgroup": "cy",
         "marker": {
          "color": "#FE00CE",
          "symbol": "circle"
         },
         "mode": "markers",
         "name": "cy",
         "orientation": "v",
         "showlegend": true,
         "type": "scatter",
         "x": [
          96.33318328857422
         ],
         "xaxis": "x",
         "y": [
          -127.18155670166016
         ],
         "yaxis": "y"
        },
        {
         "hovertemplate": "color=de<br>x=%{x}<br>y=%{y}<extra></extra>",
         "legendgroup": "de",
         "marker": {
          "color": "#0DF9FF",
          "symbol": "circle"
         },
         "mode": "markers",
         "name": "de",
         "orientation": "v",
         "showlegend": true,
         "type": "scatter",
         "x": [
          250.70877075195312
         ],
         "xaxis": "x",
         "y": [
          -326.1900634765625
         ],
         "yaxis": "y"
        },
        {
         "hovertemplate": "color=en<br>x=%{x}<br>y=%{y}<extra></extra>",
         "legendgroup": "en",
         "marker": {
          "color": "#F6F926",
          "symbol": "circle"
         },
         "mode": "markers",
         "name": "en",
         "orientation": "v",
         "showlegend": true,
         "type": "scatter",
         "x": [
          346.5502014160156
         ],
         "xaxis": "x",
         "y": [
          -199.97561645507812
         ],
         "yaxis": "y"
        },
        {
         "hovertemplate": "color=es<br>x=%{x}<br>y=%{y}<extra></extra>",
         "legendgroup": "es",
         "marker": {
          "color": "#FF9616",
          "symbol": "circle"
         },
         "mode": "markers",
         "name": "es",
         "orientation": "v",
         "showlegend": true,
         "type": "scatter",
         "x": [
          284.05267333984375
         ],
         "xaxis": "x",
         "y": [
          -122.9322280883789
         ],
         "yaxis": "y"
        },
        {
         "hovertemplate": "color=fa<br>x=%{x}<br>y=%{y}<extra></extra>",
         "legendgroup": "fa",
         "marker": {
          "color": "#479B55",
          "symbol": "circle"
         },
         "mode": "markers",
         "name": "fa",
         "orientation": "v",
         "showlegend": true,
         "type": "scatter",
         "x": [
          -46.970584869384766
         ],
         "xaxis": "x",
         "y": [
          -239.76678466796875
         ],
         "yaxis": "y"
        },
        {
         "hovertemplate": "color=fi<br>x=%{x}<br>y=%{y}<extra></extra>",
         "legendgroup": "fi",
         "marker": {
          "color": "#EEA6FB",
          "symbol": "circle"
         },
         "mode": "markers",
         "name": "fi",
         "orientation": "v",
         "showlegend": true,
         "type": "scatter",
         "x": [
          -604.6806640625
         ],
         "xaxis": "x",
         "y": [
          -83.7613525390625
         ],
         "yaxis": "y"
        },
        {
         "hovertemplate": "color=fr<br>x=%{x}<br>y=%{y}<extra></extra>",
         "legendgroup": "fr",
         "marker": {
          "color": "#DC587D",
          "symbol": "circle"
         },
         "mode": "markers",
         "name": "fr",
         "orientation": "v",
         "showlegend": true,
         "type": "scatter",
         "x": [
          258.0337219238281
         ],
         "xaxis": "x",
         "y": [
          -70.43644714355469
         ],
         "yaxis": "y"
        },
        {
         "hovertemplate": "color=ga<br>x=%{x}<br>y=%{y}<extra></extra>",
         "legendgroup": "ga",
         "marker": {
          "color": "#D626FF",
          "symbol": "circle"
         },
         "mode": "markers",
         "name": "ga",
         "orientation": "v",
         "showlegend": true,
         "type": "scatter",
         "x": [
          30.704233169555664
         ],
         "xaxis": "x",
         "y": [
          -109.76780700683594
         ],
         "yaxis": "y"
        },
        {
         "hovertemplate": "color=hr<br>x=%{x}<br>y=%{y}<extra></extra>",
         "legendgroup": "hr",
         "marker": {
          "color": "#6E899C",
          "symbol": "circle"
         },
         "mode": "markers",
         "name": "hr",
         "orientation": "v",
         "showlegend": true,
         "type": "scatter",
         "x": [
          194.0399627685547
         ],
         "xaxis": "x",
         "y": [
          481.7008972167969
         ],
         "yaxis": "y"
        },
        {
         "hovertemplate": "color=hy<br>x=%{x}<br>y=%{y}<extra></extra>",
         "legendgroup": "hy",
         "marker": {
          "color": "#00B5F7",
          "symbol": "circle"
         },
         "mode": "markers",
         "name": "hy",
         "orientation": "v",
         "showlegend": true,
         "type": "scatter",
         "x": [
          -605.385498046875
         ],
         "xaxis": "x",
         "y": [
          -171.117431640625
         ],
         "yaxis": "y"
        },
        {
         "hovertemplate": "color=id<br>x=%{x}<br>y=%{y}<extra></extra>",
         "legendgroup": "id",
         "marker": {
          "color": "#B68E00",
          "symbol": "circle"
         },
         "mode": "markers",
         "name": "id",
         "orientation": "v",
         "showlegend": true,
         "type": "scatter",
         "x": [
          104.55449676513672
         ],
         "xaxis": "x",
         "y": [
          -195.69178771972656
         ],
         "yaxis": "y"
        },
        {
         "hovertemplate": "color=ja<br>x=%{x}<br>y=%{y}<extra></extra>",
         "legendgroup": "ja",
         "marker": {
          "color": "#C9FBE5",
          "symbol": "circle"
         },
         "mode": "markers",
         "name": "ja",
         "orientation": "v",
         "showlegend": true,
         "type": "scatter",
         "x": [
          -450.69769287109375
         ],
         "xaxis": "x",
         "y": [
          -310.51898193359375
         ],
         "yaxis": "y"
        },
        {
         "hovertemplate": "color=ko<br>x=%{x}<br>y=%{y}<extra></extra>",
         "legendgroup": "ko",
         "marker": {
          "color": "#FF0092",
          "symbol": "circle"
         },
         "mode": "markers",
         "name": "ko",
         "orientation": "v",
         "showlegend": true,
         "type": "scatter",
         "x": [
          -522.1047973632812
         ],
         "xaxis": "x",
         "y": [
          -309.12445068359375
         ],
         "yaxis": "y"
        },
        {
         "hovertemplate": "color=lt<br>x=%{x}<br>y=%{y}<extra></extra>",
         "legendgroup": "lt",
         "marker": {
          "color": "#22FFA7",
          "symbol": "circle"
         },
         "mode": "markers",
         "name": "lt",
         "orientation": "v",
         "showlegend": true,
         "type": "scatter",
         "x": [
          -668.1923828125
         ],
         "xaxis": "x",
         "y": [
          -121.97935485839844
         ],
         "yaxis": "y"
        },
        {
         "hovertemplate": "color=lv<br>x=%{x}<br>y=%{y}<extra></extra>",
         "legendgroup": "lv",
         "marker": {
          "color": "#E3EE9E",
          "symbol": "circle"
         },
         "mode": "markers",
         "name": "lv",
         "orientation": "v",
         "showlegend": true,
         "type": "scatter",
         "x": [
          -712.6036987304688
         ],
         "xaxis": "x",
         "y": [
          -163.6316375732422
         ],
         "yaxis": "y"
        },
        {
         "hovertemplate": "color=nl<br>x=%{x}<br>y=%{y}<extra></extra>",
         "legendgroup": "nl",
         "marker": {
          "color": "#86CE00",
          "symbol": "circle"
         },
         "mode": "markers",
         "name": "nl",
         "orientation": "v",
         "showlegend": true,
         "type": "scatter",
         "x": [
          286.9602966308594
         ],
         "xaxis": "x",
         "y": [
          -282.38812255859375
         ],
         "yaxis": "y"
        },
        {
         "hovertemplate": "color=pl<br>x=%{x}<br>y=%{y}<extra></extra>",
         "legendgroup": "pl",
         "marker": {
          "color": "#BC7196",
          "symbol": "circle"
         },
         "mode": "markers",
         "name": "pl",
         "orientation": "v",
         "showlegend": true,
         "type": "scatter",
         "x": [
          173.43927001953125
         ],
         "xaxis": "x",
         "y": [
          643.314208984375
         ],
         "yaxis": "y"
        },
        {
         "hovertemplate": "color=ru<br>x=%{x}<br>y=%{y}<extra></extra>",
         "legendgroup": "ru",
         "marker": {
          "color": "#7E7DCD",
          "symbol": "circle"
         },
         "mode": "markers",
         "name": "ru",
         "orientation": "v",
         "showlegend": true,
         "type": "scatter",
         "x": [
          305.3893737792969
         ],
         "xaxis": "x",
         "y": [
          588.0328979492188
         ],
         "yaxis": "y"
        },
        {
         "hovertemplate": "color=slk<br>x=%{x}<br>y=%{y}<extra></extra>",
         "legendgroup": "slk",
         "marker": {
          "color": "#FC6955",
          "symbol": "circle"
         },
         "mode": "markers",
         "name": "slk",
         "orientation": "v",
         "showlegend": true,
         "type": "scatter",
         "x": [
          112.19371032714844
         ],
         "xaxis": "x",
         "y": [
          458.65838623046875
         ],
         "yaxis": "y"
        },
        {
         "hovertemplate": "color=slv<br>x=%{x}<br>y=%{y}<extra></extra>",
         "legendgroup": "slv",
         "marker": {
          "color": "#E48F72",
          "symbol": "circle"
         },
         "mode": "markers",
         "name": "slv",
         "orientation": "v",
         "showlegend": true,
         "type": "scatter",
         "x": [
          155.43185424804688
         ],
         "xaxis": "x",
         "y": [
          391.1448059082031
         ],
         "yaxis": "y"
        },
        {
         "hovertemplate": "color=tr<br>x=%{x}<br>y=%{y}<extra></extra>",
         "legendgroup": "tr",
         "marker": {
          "color": "#FD3216",
          "symbol": "circle"
         },
         "mode": "markers",
         "name": "tr",
         "orientation": "v",
         "showlegend": true,
         "type": "scatter",
         "x": [
          -455.47344970703125
         ],
         "xaxis": "x",
         "y": [
          -230.73072814941406
         ],
         "yaxis": "y"
        },
        {
         "hovertemplate": "color=uk<br>x=%{x}<br>y=%{y}<extra></extra>",
         "legendgroup": "uk",
         "marker": {
          "color": "#00FE35",
          "symbol": "circle"
         },
         "mode": "markers",
         "name": "uk",
         "orientation": "v",
         "showlegend": true,
         "type": "scatter",
         "x": [
          244.89414978027344
         ],
         "xaxis": "x",
         "y": [
          607.9797973632812
         ],
         "yaxis": "y"
        },
        {
         "hovertemplate": "color=zh<br>x=%{x}<br>y=%{y}<extra></extra>",
         "legendgroup": "zh",
         "marker": {
          "color": "#6A76FC",
          "symbol": "circle"
         },
         "mode": "markers",
         "name": "zh",
         "orientation": "v",
         "showlegend": true,
         "type": "scatter",
         "x": [
          -552.55810546875
         ],
         "xaxis": "x",
         "y": [
          -226.13232421875
         ],
         "yaxis": "y"
        }
       ],
       "layout": {
        "legend": {
         "title": {
          "text": "color"
         },
         "tracegroupgap": 0
        },
        "template": {
         "data": {
          "bar": [
           {
            "error_x": {
             "color": "#2a3f5f"
            },
            "error_y": {
             "color": "#2a3f5f"
            },
            "marker": {
             "line": {
              "color": "#E5ECF6",
              "width": 0.5
             },
             "pattern": {
              "fillmode": "overlay",
              "size": 10,
              "solidity": 0.2
             }
            },
            "type": "bar"
           }
          ],
          "barpolar": [
           {
            "marker": {
             "line": {
              "color": "#E5ECF6",
              "width": 0.5
             },
             "pattern": {
              "fillmode": "overlay",
              "size": 10,
              "solidity": 0.2
             }
            },
            "type": "barpolar"
           }
          ],
          "carpet": [
           {
            "aaxis": {
             "endlinecolor": "#2a3f5f",
             "gridcolor": "white",
             "linecolor": "white",
             "minorgridcolor": "white",
             "startlinecolor": "#2a3f5f"
            },
            "baxis": {
             "endlinecolor": "#2a3f5f",
             "gridcolor": "white",
             "linecolor": "white",
             "minorgridcolor": "white",
             "startlinecolor": "#2a3f5f"
            },
            "type": "carpet"
           }
          ],
          "choropleth": [
           {
            "colorbar": {
             "outlinewidth": 0,
             "ticks": ""
            },
            "type": "choropleth"
           }
          ],
          "contour": [
           {
            "colorbar": {
             "outlinewidth": 0,
             "ticks": ""
            },
            "colorscale": [
             [
              0,
              "#0d0887"
             ],
             [
              0.1111111111111111,
              "#46039f"
             ],
             [
              0.2222222222222222,
              "#7201a8"
             ],
             [
              0.3333333333333333,
              "#9c179e"
             ],
             [
              0.4444444444444444,
              "#bd3786"
             ],
             [
              0.5555555555555556,
              "#d8576b"
             ],
             [
              0.6666666666666666,
              "#ed7953"
             ],
             [
              0.7777777777777778,
              "#fb9f3a"
             ],
             [
              0.8888888888888888,
              "#fdca26"
             ],
             [
              1,
              "#f0f921"
             ]
            ],
            "type": "contour"
           }
          ],
          "contourcarpet": [
           {
            "colorbar": {
             "outlinewidth": 0,
             "ticks": ""
            },
            "type": "contourcarpet"
           }
          ],
          "heatmap": [
           {
            "colorbar": {
             "outlinewidth": 0,
             "ticks": ""
            },
            "colorscale": [
             [
              0,
              "#0d0887"
             ],
             [
              0.1111111111111111,
              "#46039f"
             ],
             [
              0.2222222222222222,
              "#7201a8"
             ],
             [
              0.3333333333333333,
              "#9c179e"
             ],
             [
              0.4444444444444444,
              "#bd3786"
             ],
             [
              0.5555555555555556,
              "#d8576b"
             ],
             [
              0.6666666666666666,
              "#ed7953"
             ],
             [
              0.7777777777777778,
              "#fb9f3a"
             ],
             [
              0.8888888888888888,
              "#fdca26"
             ],
             [
              1,
              "#f0f921"
             ]
            ],
            "type": "heatmap"
           }
          ],
          "heatmapgl": [
           {
            "colorbar": {
             "outlinewidth": 0,
             "ticks": ""
            },
            "colorscale": [
             [
              0,
              "#0d0887"
             ],
             [
              0.1111111111111111,
              "#46039f"
             ],
             [
              0.2222222222222222,
              "#7201a8"
             ],
             [
              0.3333333333333333,
              "#9c179e"
             ],
             [
              0.4444444444444444,
              "#bd3786"
             ],
             [
              0.5555555555555556,
              "#d8576b"
             ],
             [
              0.6666666666666666,
              "#ed7953"
             ],
             [
              0.7777777777777778,
              "#fb9f3a"
             ],
             [
              0.8888888888888888,
              "#fdca26"
             ],
             [
              1,
              "#f0f921"
             ]
            ],
            "type": "heatmapgl"
           }
          ],
          "histogram": [
           {
            "marker": {
             "pattern": {
              "fillmode": "overlay",
              "size": 10,
              "solidity": 0.2
             }
            },
            "type": "histogram"
           }
          ],
          "histogram2d": [
           {
            "colorbar": {
             "outlinewidth": 0,
             "ticks": ""
            },
            "colorscale": [
             [
              0,
              "#0d0887"
             ],
             [
              0.1111111111111111,
              "#46039f"
             ],
             [
              0.2222222222222222,
              "#7201a8"
             ],
             [
              0.3333333333333333,
              "#9c179e"
             ],
             [
              0.4444444444444444,
              "#bd3786"
             ],
             [
              0.5555555555555556,
              "#d8576b"
             ],
             [
              0.6666666666666666,
              "#ed7953"
             ],
             [
              0.7777777777777778,
              "#fb9f3a"
             ],
             [
              0.8888888888888888,
              "#fdca26"
             ],
             [
              1,
              "#f0f921"
             ]
            ],
            "type": "histogram2d"
           }
          ],
          "histogram2dcontour": [
           {
            "colorbar": {
             "outlinewidth": 0,
             "ticks": ""
            },
            "colorscale": [
             [
              0,
              "#0d0887"
             ],
             [
              0.1111111111111111,
              "#46039f"
             ],
             [
              0.2222222222222222,
              "#7201a8"
             ],
             [
              0.3333333333333333,
              "#9c179e"
             ],
             [
              0.4444444444444444,
              "#bd3786"
             ],
             [
              0.5555555555555556,
              "#d8576b"
             ],
             [
              0.6666666666666666,
              "#ed7953"
             ],
             [
              0.7777777777777778,
              "#fb9f3a"
             ],
             [
              0.8888888888888888,
              "#fdca26"
             ],
             [
              1,
              "#f0f921"
             ]
            ],
            "type": "histogram2dcontour"
           }
          ],
          "mesh3d": [
           {
            "colorbar": {
             "outlinewidth": 0,
             "ticks": ""
            },
            "type": "mesh3d"
           }
          ],
          "parcoords": [
           {
            "line": {
             "colorbar": {
              "outlinewidth": 0,
              "ticks": ""
             }
            },
            "type": "parcoords"
           }
          ],
          "pie": [
           {
            "automargin": true,
            "type": "pie"
           }
          ],
          "scatter": [
           {
            "fillpattern": {
             "fillmode": "overlay",
             "size": 10,
             "solidity": 0.2
            },
            "type": "scatter"
           }
          ],
          "scatter3d": [
           {
            "line": {
             "colorbar": {
              "outlinewidth": 0,
              "ticks": ""
             }
            },
            "marker": {
             "colorbar": {
              "outlinewidth": 0,
              "ticks": ""
             }
            },
            "type": "scatter3d"
           }
          ],
          "scattercarpet": [
           {
            "marker": {
             "colorbar": {
              "outlinewidth": 0,
              "ticks": ""
             }
            },
            "type": "scattercarpet"
           }
          ],
          "scattergeo": [
           {
            "marker": {
             "colorbar": {
              "outlinewidth": 0,
              "ticks": ""
             }
            },
            "type": "scattergeo"
           }
          ],
          "scattergl": [
           {
            "marker": {
             "colorbar": {
              "outlinewidth": 0,
              "ticks": ""
             }
            },
            "type": "scattergl"
           }
          ],
          "scattermapbox": [
           {
            "marker": {
             "colorbar": {
              "outlinewidth": 0,
              "ticks": ""
             }
            },
            "type": "scattermapbox"
           }
          ],
          "scatterpolar": [
           {
            "marker": {
             "colorbar": {
              "outlinewidth": 0,
              "ticks": ""
             }
            },
            "type": "scatterpolar"
           }
          ],
          "scatterpolargl": [
           {
            "marker": {
             "colorbar": {
              "outlinewidth": 0,
              "ticks": ""
             }
            },
            "type": "scatterpolargl"
           }
          ],
          "scatterternary": [
           {
            "marker": {
             "colorbar": {
              "outlinewidth": 0,
              "ticks": ""
             }
            },
            "type": "scatterternary"
           }
          ],
          "surface": [
           {
            "colorbar": {
             "outlinewidth": 0,
             "ticks": ""
            },
            "colorscale": [
             [
              0,
              "#0d0887"
             ],
             [
              0.1111111111111111,
              "#46039f"
             ],
             [
              0.2222222222222222,
              "#7201a8"
             ],
             [
              0.3333333333333333,
              "#9c179e"
             ],
             [
              0.4444444444444444,
              "#bd3786"
             ],
             [
              0.5555555555555556,
              "#d8576b"
             ],
             [
              0.6666666666666666,
              "#ed7953"
             ],
             [
              0.7777777777777778,
              "#fb9f3a"
             ],
             [
              0.8888888888888888,
              "#fdca26"
             ],
             [
              1,
              "#f0f921"
             ]
            ],
            "type": "surface"
           }
          ],
          "table": [
           {
            "cells": {
             "fill": {
              "color": "#EBF0F8"
             },
             "line": {
              "color": "white"
             }
            },
            "header": {
             "fill": {
              "color": "#C8D4E3"
             },
             "line": {
              "color": "white"
             }
            },
            "type": "table"
           }
          ]
         },
         "layout": {
          "annotationdefaults": {
           "arrowcolor": "#2a3f5f",
           "arrowhead": 0,
           "arrowwidth": 1
          },
          "autotypenumbers": "strict",
          "coloraxis": {
           "colorbar": {
            "outlinewidth": 0,
            "ticks": ""
           }
          },
          "colorscale": {
           "diverging": [
            [
             0,
             "#8e0152"
            ],
            [
             0.1,
             "#c51b7d"
            ],
            [
             0.2,
             "#de77ae"
            ],
            [
             0.3,
             "#f1b6da"
            ],
            [
             0.4,
             "#fde0ef"
            ],
            [
             0.5,
             "#f7f7f7"
            ],
            [
             0.6,
             "#e6f5d0"
            ],
            [
             0.7,
             "#b8e186"
            ],
            [
             0.8,
             "#7fbc41"
            ],
            [
             0.9,
             "#4d9221"
            ],
            [
             1,
             "#276419"
            ]
           ],
           "sequential": [
            [
             0,
             "#0d0887"
            ],
            [
             0.1111111111111111,
             "#46039f"
            ],
            [
             0.2222222222222222,
             "#7201a8"
            ],
            [
             0.3333333333333333,
             "#9c179e"
            ],
            [
             0.4444444444444444,
             "#bd3786"
            ],
            [
             0.5555555555555556,
             "#d8576b"
            ],
            [
             0.6666666666666666,
             "#ed7953"
            ],
            [
             0.7777777777777778,
             "#fb9f3a"
            ],
            [
             0.8888888888888888,
             "#fdca26"
            ],
            [
             1,
             "#f0f921"
            ]
           ],
           "sequentialminus": [
            [
             0,
             "#0d0887"
            ],
            [
             0.1111111111111111,
             "#46039f"
            ],
            [
             0.2222222222222222,
             "#7201a8"
            ],
            [
             0.3333333333333333,
             "#9c179e"
            ],
            [
             0.4444444444444444,
             "#bd3786"
            ],
            [
             0.5555555555555556,
             "#d8576b"
            ],
            [
             0.6666666666666666,
             "#ed7953"
            ],
            [
             0.7777777777777778,
             "#fb9f3a"
            ],
            [
             0.8888888888888888,
             "#fdca26"
            ],
            [
             1,
             "#f0f921"
            ]
           ]
          },
          "colorway": [
           "#636efa",
           "#EF553B",
           "#00cc96",
           "#ab63fa",
           "#FFA15A",
           "#19d3f3",
           "#FF6692",
           "#B6E880",
           "#FF97FF",
           "#FECB52"
          ],
          "font": {
           "color": "#2a3f5f"
          },
          "geo": {
           "bgcolor": "white",
           "lakecolor": "white",
           "landcolor": "#E5ECF6",
           "showlakes": true,
           "showland": true,
           "subunitcolor": "white"
          },
          "hoverlabel": {
           "align": "left"
          },
          "hovermode": "closest",
          "mapbox": {
           "style": "light"
          },
          "paper_bgcolor": "white",
          "plot_bgcolor": "#E5ECF6",
          "polar": {
           "angularaxis": {
            "gridcolor": "white",
            "linecolor": "white",
            "ticks": ""
           },
           "bgcolor": "#E5ECF6",
           "radialaxis": {
            "gridcolor": "white",
            "linecolor": "white",
            "ticks": ""
           }
          },
          "scene": {
           "xaxis": {
            "backgroundcolor": "#E5ECF6",
            "gridcolor": "white",
            "gridwidth": 2,
            "linecolor": "white",
            "showbackground": true,
            "ticks": "",
            "zerolinecolor": "white"
           },
           "yaxis": {
            "backgroundcolor": "#E5ECF6",
            "gridcolor": "white",
            "gridwidth": 2,
            "linecolor": "white",
            "showbackground": true,
            "ticks": "",
            "zerolinecolor": "white"
           },
           "zaxis": {
            "backgroundcolor": "#E5ECF6",
            "gridcolor": "white",
            "gridwidth": 2,
            "linecolor": "white",
            "showbackground": true,
            "ticks": "",
            "zerolinecolor": "white"
           }
          },
          "shapedefaults": {
           "line": {
            "color": "#2a3f5f"
           }
          },
          "ternary": {
           "aaxis": {
            "gridcolor": "white",
            "linecolor": "white",
            "ticks": ""
           },
           "baxis": {
            "gridcolor": "white",
            "linecolor": "white",
            "ticks": ""
           },
           "bgcolor": "#E5ECF6",
           "caxis": {
            "gridcolor": "white",
            "linecolor": "white",
            "ticks": ""
           }
          },
          "title": {
           "x": 0.05
          },
          "xaxis": {
           "automargin": true,
           "gridcolor": "white",
           "linecolor": "white",
           "ticks": "",
           "title": {
            "standoff": 15
           },
           "zerolinecolor": "white",
           "zerolinewidth": 2
          },
          "yaxis": {
           "automargin": true,
           "gridcolor": "white",
           "linecolor": "white",
           "ticks": "",
           "title": {
            "standoff": 15
           },
           "zerolinecolor": "white",
           "zerolinewidth": 2
          }
         }
        },
        "title": {
         "text": "perplexity 5"
        },
        "xaxis": {
         "anchor": "y",
         "domain": [
          0,
          1
         ],
         "title": {
          "text": "x"
         }
        },
        "yaxis": {
         "anchor": "x",
         "domain": [
          0,
          1
         ],
         "title": {
          "text": "y"
         }
        }
       }
      }
     },
     "metadata": {},
     "output_type": "display_data"
    },
    {
     "name": "stderr",
     "output_type": "stream",
     "text": [
      "/home/amysiak/thesis/env/lib/python3.8/site-packages/sklearn/manifold/_t_sne.py:800: FutureWarning:\n",
      "\n",
      "The default initialization in TSNE will change from 'random' to 'pca' in 1.2.\n",
      "\n",
      "/home/amysiak/thesis/env/lib/python3.8/site-packages/sklearn/manifold/_t_sne.py:810: FutureWarning:\n",
      "\n",
      "The default learning rate in TSNE will change from 200.0 to 'auto' in 1.2.\n",
      "\n"
     ]
    },
    {
     "data": {
      "application/vnd.plotly.v1+json": {
       "config": {
        "plotlyServerURL": "https://plot.ly"
       },
       "data": [
        {
         "hovertemplate": "color=ar<br>x=%{x}<br>y=%{y}<extra></extra>",
         "legendgroup": "ar",
         "marker": {
          "color": "#FD3216",
          "symbol": "circle"
         },
         "mode": "markers",
         "name": "ar",
         "orientation": "v",
         "showlegend": true,
         "type": "scatter",
         "x": [
          5.6714887619018555
         ],
         "xaxis": "x",
         "y": [
          105.60643005371094
         ],
         "yaxis": "y"
        },
        {
         "hovertemplate": "color=be<br>x=%{x}<br>y=%{y}<extra></extra>",
         "legendgroup": "be",
         "marker": {
          "color": "#00FE35",
          "symbol": "circle"
         },
         "mode": "markers",
         "name": "be",
         "orientation": "v",
         "showlegend": true,
         "type": "scatter",
         "x": [
          40.33346176147461
         ],
         "xaxis": "x",
         "y": [
          -88.91751098632812
         ],
         "yaxis": "y"
        },
        {
         "hovertemplate": "color=bg<br>x=%{x}<br>y=%{y}<extra></extra>",
         "legendgroup": "bg",
         "marker": {
          "color": "#6A76FC",
          "symbol": "circle"
         },
         "mode": "markers",
         "name": "bg",
         "orientation": "v",
         "showlegend": true,
         "type": "scatter",
         "x": [
          110.08768463134766
         ],
         "xaxis": "x",
         "y": [
          -55.481807708740234
         ],
         "yaxis": "y"
        },
        {
         "hovertemplate": "color=cs<br>x=%{x}<br>y=%{y}<extra></extra>",
         "legendgroup": "cs",
         "marker": {
          "color": "#FED4C4",
          "symbol": "circle"
         },
         "mode": "markers",
         "name": "cs",
         "orientation": "v",
         "showlegend": true,
         "type": "scatter",
         "x": [
          140.29368591308594
         ],
         "xaxis": "x",
         "y": [
          -122.53900909423828
         ],
         "yaxis": "y"
        },
        {
         "hovertemplate": "color=cy<br>x=%{x}<br>y=%{y}<extra></extra>",
         "legendgroup": "cy",
         "marker": {
          "color": "#FE00CE",
          "symbol": "circle"
         },
         "mode": "markers",
         "name": "cy",
         "orientation": "v",
         "showlegend": true,
         "type": "scatter",
         "x": [
          29.370983123779297
         ],
         "xaxis": "x",
         "y": [
          125.44466400146484
         ],
         "yaxis": "y"
        },
        {
         "hovertemplate": "color=de<br>x=%{x}<br>y=%{y}<extra></extra>",
         "legendgroup": "de",
         "marker": {
          "color": "#0DF9FF",
          "symbol": "circle"
         },
         "mode": "markers",
         "name": "de",
         "orientation": "v",
         "showlegend": true,
         "type": "scatter",
         "x": [
          -60.020198822021484
         ],
         "xaxis": "x",
         "y": [
          189.15037536621094
         ],
         "yaxis": "y"
        },
        {
         "hovertemplate": "color=en<br>x=%{x}<br>y=%{y}<extra></extra>",
         "legendgroup": "en",
         "marker": {
          "color": "#F6F926",
          "symbol": "circle"
         },
         "mode": "markers",
         "name": "en",
         "orientation": "v",
         "showlegend": true,
         "type": "scatter",
         "x": [
          -13.446551322937012
         ],
         "xaxis": "x",
         "y": [
          241.6356964111328
         ],
         "yaxis": "y"
        },
        {
         "hovertemplate": "color=es<br>x=%{x}<br>y=%{y}<extra></extra>",
         "legendgroup": "es",
         "marker": {
          "color": "#FF9616",
          "symbol": "circle"
         },
         "mode": "markers",
         "name": "es",
         "orientation": "v",
         "showlegend": true,
         "type": "scatter",
         "x": [
          21.584745407104492
         ],
         "xaxis": "x",
         "y": [
          217.78543090820312
         ],
         "yaxis": "y"
        },
        {
         "hovertemplate": "color=fa<br>x=%{x}<br>y=%{y}<extra></extra>",
         "legendgroup": "fa",
         "marker": {
          "color": "#479B55",
          "symbol": "circle"
         },
         "mode": "markers",
         "name": "fa",
         "orientation": "v",
         "showlegend": true,
         "type": "scatter",
         "x": [
          42.81881332397461
         ],
         "xaxis": "x",
         "y": [
          81.15582275390625
         ],
         "yaxis": "y"
        },
        {
         "hovertemplate": "color=fi<br>x=%{x}<br>y=%{y}<extra></extra>",
         "legendgroup": "fi",
         "marker": {
          "color": "#EEA6FB",
          "symbol": "circle"
         },
         "mode": "markers",
         "name": "fi",
         "orientation": "v",
         "showlegend": true,
         "type": "scatter",
         "x": [
          -114.56331634521484
         ],
         "xaxis": "x",
         "y": [
          -131.06680297851562
         ],
         "yaxis": "y"
        },
        {
         "hovertemplate": "color=fr<br>x=%{x}<br>y=%{y}<extra></extra>",
         "legendgroup": "fr",
         "marker": {
          "color": "#DC587D",
          "symbol": "circle"
         },
         "mode": "markers",
         "name": "fr",
         "orientation": "v",
         "showlegend": true,
         "type": "scatter",
         "x": [
          46.916324615478516
         ],
         "xaxis": "x",
         "y": [
          209.8474578857422
         ],
         "yaxis": "y"
        },
        {
         "hovertemplate": "color=ga<br>x=%{x}<br>y=%{y}<extra></extra>",
         "legendgroup": "ga",
         "marker": {
          "color": "#D626FF",
          "symbol": "circle"
         },
         "mode": "markers",
         "name": "ga",
         "orientation": "v",
         "showlegend": true,
         "type": "scatter",
         "x": [
          -12.803857803344727
         ],
         "xaxis": "x",
         "y": [
          131.3883819580078
         ],
         "yaxis": "y"
        },
        {
         "hovertemplate": "color=hr<br>x=%{x}<br>y=%{y}<extra></extra>",
         "legendgroup": "hr",
         "marker": {
          "color": "#6E899C",
          "symbol": "circle"
         },
         "mode": "markers",
         "name": "hr",
         "orientation": "v",
         "showlegend": true,
         "type": "scatter",
         "x": [
          103.45044708251953
         ],
         "xaxis": "x",
         "y": [
          -90.3351821899414
         ],
         "yaxis": "y"
        },
        {
         "hovertemplate": "color=hy<br>x=%{x}<br>y=%{y}<extra></extra>",
         "legendgroup": "hy",
         "marker": {
          "color": "#00B5F7",
          "symbol": "circle"
         },
         "mode": "markers",
         "name": "hy",
         "orientation": "v",
         "showlegend": true,
         "type": "scatter",
         "x": [
          -144.84825134277344
         ],
         "xaxis": "x",
         "y": [
          -149.75729370117188
         ],
         "yaxis": "y"
        },
        {
         "hovertemplate": "color=id<br>x=%{x}<br>y=%{y}<extra></extra>",
         "legendgroup": "id",
         "marker": {
          "color": "#B68E00",
          "symbol": "circle"
         },
         "mode": "markers",
         "name": "id",
         "orientation": "v",
         "showlegend": true,
         "type": "scatter",
         "x": [
          11.72175407409668
         ],
         "xaxis": "x",
         "y": [
          150.71908569335938
         ],
         "yaxis": "y"
        },
        {
         "hovertemplate": "color=ja<br>x=%{x}<br>y=%{y}<extra></extra>",
         "legendgroup": "ja",
         "marker": {
          "color": "#C9FBE5",
          "symbol": "circle"
         },
         "mode": "markers",
         "name": "ja",
         "orientation": "v",
         "showlegend": true,
         "type": "scatter",
         "x": [
          -228.35064697265625
         ],
         "xaxis": "x",
         "y": [
          -143.17010498046875
         ],
         "yaxis": "y"
        },
        {
         "hovertemplate": "color=ko<br>x=%{x}<br>y=%{y}<extra></extra>",
         "legendgroup": "ko",
         "marker": {
          "color": "#FF0092",
          "symbol": "circle"
         },
         "mode": "markers",
         "name": "ko",
         "orientation": "v",
         "showlegend": true,
         "type": "scatter",
         "x": [
          -210.6317596435547
         ],
         "xaxis": "x",
         "y": [
          -169.1640625
         ],
         "yaxis": "y"
        },
        {
         "hovertemplate": "color=lt<br>x=%{x}<br>y=%{y}<extra></extra>",
         "legendgroup": "lt",
         "marker": {
          "color": "#22FFA7",
          "symbol": "circle"
         },
         "mode": "markers",
         "name": "lt",
         "orientation": "v",
         "showlegend": true,
         "type": "scatter",
         "x": [
          -118.06210327148438
         ],
         "xaxis": "x",
         "y": [
          -169.15847778320312
         ],
         "yaxis": "y"
        },
        {
         "hovertemplate": "color=lv<br>x=%{x}<br>y=%{y}<extra></extra>",
         "legendgroup": "lv",
         "marker": {
          "color": "#E3EE9E",
          "symbol": "circle"
         },
         "mode": "markers",
         "name": "lv",
         "orientation": "v",
         "showlegend": true,
         "type": "scatter",
         "x": [
          -90.9708480834961
         ],
         "xaxis": "x",
         "y": [
          -160.06517028808594
         ],
         "yaxis": "y"
        },
        {
         "hovertemplate": "color=nl<br>x=%{x}<br>y=%{y}<extra></extra>",
         "legendgroup": "nl",
         "marker": {
          "color": "#86CE00",
          "symbol": "circle"
         },
         "mode": "markers",
         "name": "nl",
         "orientation": "v",
         "showlegend": true,
         "type": "scatter",
         "x": [
          -43.82588577270508
         ],
         "xaxis": "x",
         "y": [
          208.8018341064453
         ],
         "yaxis": "y"
        },
        {
         "hovertemplate": "color=pl<br>x=%{x}<br>y=%{y}<extra></extra>",
         "legendgroup": "pl",
         "marker": {
          "color": "#BC7196",
          "symbol": "circle"
         },
         "mode": "markers",
         "name": "pl",
         "orientation": "v",
         "showlegend": true,
         "type": "scatter",
         "x": [
          37.25706100463867
         ],
         "xaxis": "x",
         "y": [
          -44.951683044433594
         ],
         "yaxis": "y"
        },
        {
         "hovertemplate": "color=ru<br>x=%{x}<br>y=%{y}<extra></extra>",
         "legendgroup": "ru",
         "marker": {
          "color": "#7E7DCD",
          "symbol": "circle"
         },
         "mode": "markers",
         "name": "ru",
         "orientation": "v",
         "showlegend": true,
         "type": "scatter",
         "x": [
          77.42889404296875
         ],
         "xaxis": "x",
         "y": [
          -40.6270751953125
         ],
         "yaxis": "y"
        },
        {
         "hovertemplate": "color=slk<br>x=%{x}<br>y=%{y}<extra></extra>",
         "legendgroup": "slk",
         "marker": {
          "color": "#FC6955",
          "symbol": "circle"
         },
         "mode": "markers",
         "name": "slk",
         "orientation": "v",
         "showlegend": true,
         "type": "scatter",
         "x": [
          136.1370391845703
         ],
         "xaxis": "x",
         "y": [
          -94.28922271728516
         ],
         "yaxis": "y"
        },
        {
         "hovertemplate": "color=slv<br>x=%{x}<br>y=%{y}<extra></extra>",
         "legendgroup": "slv",
         "marker": {
          "color": "#E48F72",
          "symbol": "circle"
         },
         "mode": "markers",
         "name": "slv",
         "orientation": "v",
         "showlegend": true,
         "type": "scatter",
         "x": [
          102.30966186523438
         ],
         "xaxis": "x",
         "y": [
          -129.02346801757812
         ],
         "yaxis": "y"
        },
        {
         "hovertemplate": "color=tr<br>x=%{x}<br>y=%{y}<extra></extra>",
         "legendgroup": "tr",
         "marker": {
          "color": "#FD3216",
          "symbol": "circle"
         },
         "mode": "markers",
         "name": "tr",
         "orientation": "v",
         "showlegend": true,
         "type": "scatter",
         "x": [
          -204.62693786621094
         ],
         "xaxis": "x",
         "y": [
          -118.36246490478516
         ],
         "yaxis": "y"
        },
        {
         "hovertemplate": "color=uk<br>x=%{x}<br>y=%{y}<extra></extra>",
         "legendgroup": "uk",
         "marker": {
          "color": "#00FE35",
          "symbol": "circle"
         },
         "mode": "markers",
         "name": "uk",
         "orientation": "v",
         "showlegend": true,
         "type": "scatter",
         "x": [
          67.2032699584961
         ],
         "xaxis": "x",
         "y": [
          -68.60625457763672
         ],
         "yaxis": "y"
        },
        {
         "hovertemplate": "color=zh<br>x=%{x}<br>y=%{y}<extra></extra>",
         "legendgroup": "zh",
         "marker": {
          "color": "#6A76FC",
          "symbol": "circle"
         },
         "mode": "markers",
         "name": "zh",
         "orientation": "v",
         "showlegend": true,
         "type": "scatter",
         "x": [
          -177.81515502929688
         ],
         "xaxis": "x",
         "y": [
          -150.45953369140625
         ],
         "yaxis": "y"
        }
       ],
       "layout": {
        "legend": {
         "title": {
          "text": "color"
         },
         "tracegroupgap": 0
        },
        "template": {
         "data": {
          "bar": [
           {
            "error_x": {
             "color": "#2a3f5f"
            },
            "error_y": {
             "color": "#2a3f5f"
            },
            "marker": {
             "line": {
              "color": "#E5ECF6",
              "width": 0.5
             },
             "pattern": {
              "fillmode": "overlay",
              "size": 10,
              "solidity": 0.2
             }
            },
            "type": "bar"
           }
          ],
          "barpolar": [
           {
            "marker": {
             "line": {
              "color": "#E5ECF6",
              "width": 0.5
             },
             "pattern": {
              "fillmode": "overlay",
              "size": 10,
              "solidity": 0.2
             }
            },
            "type": "barpolar"
           }
          ],
          "carpet": [
           {
            "aaxis": {
             "endlinecolor": "#2a3f5f",
             "gridcolor": "white",
             "linecolor": "white",
             "minorgridcolor": "white",
             "startlinecolor": "#2a3f5f"
            },
            "baxis": {
             "endlinecolor": "#2a3f5f",
             "gridcolor": "white",
             "linecolor": "white",
             "minorgridcolor": "white",
             "startlinecolor": "#2a3f5f"
            },
            "type": "carpet"
           }
          ],
          "choropleth": [
           {
            "colorbar": {
             "outlinewidth": 0,
             "ticks": ""
            },
            "type": "choropleth"
           }
          ],
          "contour": [
           {
            "colorbar": {
             "outlinewidth": 0,
             "ticks": ""
            },
            "colorscale": [
             [
              0,
              "#0d0887"
             ],
             [
              0.1111111111111111,
              "#46039f"
             ],
             [
              0.2222222222222222,
              "#7201a8"
             ],
             [
              0.3333333333333333,
              "#9c179e"
             ],
             [
              0.4444444444444444,
              "#bd3786"
             ],
             [
              0.5555555555555556,
              "#d8576b"
             ],
             [
              0.6666666666666666,
              "#ed7953"
             ],
             [
              0.7777777777777778,
              "#fb9f3a"
             ],
             [
              0.8888888888888888,
              "#fdca26"
             ],
             [
              1,
              "#f0f921"
             ]
            ],
            "type": "contour"
           }
          ],
          "contourcarpet": [
           {
            "colorbar": {
             "outlinewidth": 0,
             "ticks": ""
            },
            "type": "contourcarpet"
           }
          ],
          "heatmap": [
           {
            "colorbar": {
             "outlinewidth": 0,
             "ticks": ""
            },
            "colorscale": [
             [
              0,
              "#0d0887"
             ],
             [
              0.1111111111111111,
              "#46039f"
             ],
             [
              0.2222222222222222,
              "#7201a8"
             ],
             [
              0.3333333333333333,
              "#9c179e"
             ],
             [
              0.4444444444444444,
              "#bd3786"
             ],
             [
              0.5555555555555556,
              "#d8576b"
             ],
             [
              0.6666666666666666,
              "#ed7953"
             ],
             [
              0.7777777777777778,
              "#fb9f3a"
             ],
             [
              0.8888888888888888,
              "#fdca26"
             ],
             [
              1,
              "#f0f921"
             ]
            ],
            "type": "heatmap"
           }
          ],
          "heatmapgl": [
           {
            "colorbar": {
             "outlinewidth": 0,
             "ticks": ""
            },
            "colorscale": [
             [
              0,
              "#0d0887"
             ],
             [
              0.1111111111111111,
              "#46039f"
             ],
             [
              0.2222222222222222,
              "#7201a8"
             ],
             [
              0.3333333333333333,
              "#9c179e"
             ],
             [
              0.4444444444444444,
              "#bd3786"
             ],
             [
              0.5555555555555556,
              "#d8576b"
             ],
             [
              0.6666666666666666,
              "#ed7953"
             ],
             [
              0.7777777777777778,
              "#fb9f3a"
             ],
             [
              0.8888888888888888,
              "#fdca26"
             ],
             [
              1,
              "#f0f921"
             ]
            ],
            "type": "heatmapgl"
           }
          ],
          "histogram": [
           {
            "marker": {
             "pattern": {
              "fillmode": "overlay",
              "size": 10,
              "solidity": 0.2
             }
            },
            "type": "histogram"
           }
          ],
          "histogram2d": [
           {
            "colorbar": {
             "outlinewidth": 0,
             "ticks": ""
            },
            "colorscale": [
             [
              0,
              "#0d0887"
             ],
             [
              0.1111111111111111,
              "#46039f"
             ],
             [
              0.2222222222222222,
              "#7201a8"
             ],
             [
              0.3333333333333333,
              "#9c179e"
             ],
             [
              0.4444444444444444,
              "#bd3786"
             ],
             [
              0.5555555555555556,
              "#d8576b"
             ],
             [
              0.6666666666666666,
              "#ed7953"
             ],
             [
              0.7777777777777778,
              "#fb9f3a"
             ],
             [
              0.8888888888888888,
              "#fdca26"
             ],
             [
              1,
              "#f0f921"
             ]
            ],
            "type": "histogram2d"
           }
          ],
          "histogram2dcontour": [
           {
            "colorbar": {
             "outlinewidth": 0,
             "ticks": ""
            },
            "colorscale": [
             [
              0,
              "#0d0887"
             ],
             [
              0.1111111111111111,
              "#46039f"
             ],
             [
              0.2222222222222222,
              "#7201a8"
             ],
             [
              0.3333333333333333,
              "#9c179e"
             ],
             [
              0.4444444444444444,
              "#bd3786"
             ],
             [
              0.5555555555555556,
              "#d8576b"
             ],
             [
              0.6666666666666666,
              "#ed7953"
             ],
             [
              0.7777777777777778,
              "#fb9f3a"
             ],
             [
              0.8888888888888888,
              "#fdca26"
             ],
             [
              1,
              "#f0f921"
             ]
            ],
            "type": "histogram2dcontour"
           }
          ],
          "mesh3d": [
           {
            "colorbar": {
             "outlinewidth": 0,
             "ticks": ""
            },
            "type": "mesh3d"
           }
          ],
          "parcoords": [
           {
            "line": {
             "colorbar": {
              "outlinewidth": 0,
              "ticks": ""
             }
            },
            "type": "parcoords"
           }
          ],
          "pie": [
           {
            "automargin": true,
            "type": "pie"
           }
          ],
          "scatter": [
           {
            "fillpattern": {
             "fillmode": "overlay",
             "size": 10,
             "solidity": 0.2
            },
            "type": "scatter"
           }
          ],
          "scatter3d": [
           {
            "line": {
             "colorbar": {
              "outlinewidth": 0,
              "ticks": ""
             }
            },
            "marker": {
             "colorbar": {
              "outlinewidth": 0,
              "ticks": ""
             }
            },
            "type": "scatter3d"
           }
          ],
          "scattercarpet": [
           {
            "marker": {
             "colorbar": {
              "outlinewidth": 0,
              "ticks": ""
             }
            },
            "type": "scattercarpet"
           }
          ],
          "scattergeo": [
           {
            "marker": {
             "colorbar": {
              "outlinewidth": 0,
              "ticks": ""
             }
            },
            "type": "scattergeo"
           }
          ],
          "scattergl": [
           {
            "marker": {
             "colorbar": {
              "outlinewidth": 0,
              "ticks": ""
             }
            },
            "type": "scattergl"
           }
          ],
          "scattermapbox": [
           {
            "marker": {
             "colorbar": {
              "outlinewidth": 0,
              "ticks": ""
             }
            },
            "type": "scattermapbox"
           }
          ],
          "scatterpolar": [
           {
            "marker": {
             "colorbar": {
              "outlinewidth": 0,
              "ticks": ""
             }
            },
            "type": "scatterpolar"
           }
          ],
          "scatterpolargl": [
           {
            "marker": {
             "colorbar": {
              "outlinewidth": 0,
              "ticks": ""
             }
            },
            "type": "scatterpolargl"
           }
          ],
          "scatterternary": [
           {
            "marker": {
             "colorbar": {
              "outlinewidth": 0,
              "ticks": ""
             }
            },
            "type": "scatterternary"
           }
          ],
          "surface": [
           {
            "colorbar": {
             "outlinewidth": 0,
             "ticks": ""
            },
            "colorscale": [
             [
              0,
              "#0d0887"
             ],
             [
              0.1111111111111111,
              "#46039f"
             ],
             [
              0.2222222222222222,
              "#7201a8"
             ],
             [
              0.3333333333333333,
              "#9c179e"
             ],
             [
              0.4444444444444444,
              "#bd3786"
             ],
             [
              0.5555555555555556,
              "#d8576b"
             ],
             [
              0.6666666666666666,
              "#ed7953"
             ],
             [
              0.7777777777777778,
              "#fb9f3a"
             ],
             [
              0.8888888888888888,
              "#fdca26"
             ],
             [
              1,
              "#f0f921"
             ]
            ],
            "type": "surface"
           }
          ],
          "table": [
           {
            "cells": {
             "fill": {
              "color": "#EBF0F8"
             },
             "line": {
              "color": "white"
             }
            },
            "header": {
             "fill": {
              "color": "#C8D4E3"
             },
             "line": {
              "color": "white"
             }
            },
            "type": "table"
           }
          ]
         },
         "layout": {
          "annotationdefaults": {
           "arrowcolor": "#2a3f5f",
           "arrowhead": 0,
           "arrowwidth": 1
          },
          "autotypenumbers": "strict",
          "coloraxis": {
           "colorbar": {
            "outlinewidth": 0,
            "ticks": ""
           }
          },
          "colorscale": {
           "diverging": [
            [
             0,
             "#8e0152"
            ],
            [
             0.1,
             "#c51b7d"
            ],
            [
             0.2,
             "#de77ae"
            ],
            [
             0.3,
             "#f1b6da"
            ],
            [
             0.4,
             "#fde0ef"
            ],
            [
             0.5,
             "#f7f7f7"
            ],
            [
             0.6,
             "#e6f5d0"
            ],
            [
             0.7,
             "#b8e186"
            ],
            [
             0.8,
             "#7fbc41"
            ],
            [
             0.9,
             "#4d9221"
            ],
            [
             1,
             "#276419"
            ]
           ],
           "sequential": [
            [
             0,
             "#0d0887"
            ],
            [
             0.1111111111111111,
             "#46039f"
            ],
            [
             0.2222222222222222,
             "#7201a8"
            ],
            [
             0.3333333333333333,
             "#9c179e"
            ],
            [
             0.4444444444444444,
             "#bd3786"
            ],
            [
             0.5555555555555556,
             "#d8576b"
            ],
            [
             0.6666666666666666,
             "#ed7953"
            ],
            [
             0.7777777777777778,
             "#fb9f3a"
            ],
            [
             0.8888888888888888,
             "#fdca26"
            ],
            [
             1,
             "#f0f921"
            ]
           ],
           "sequentialminus": [
            [
             0,
             "#0d0887"
            ],
            [
             0.1111111111111111,
             "#46039f"
            ],
            [
             0.2222222222222222,
             "#7201a8"
            ],
            [
             0.3333333333333333,
             "#9c179e"
            ],
            [
             0.4444444444444444,
             "#bd3786"
            ],
            [
             0.5555555555555556,
             "#d8576b"
            ],
            [
             0.6666666666666666,
             "#ed7953"
            ],
            [
             0.7777777777777778,
             "#fb9f3a"
            ],
            [
             0.8888888888888888,
             "#fdca26"
            ],
            [
             1,
             "#f0f921"
            ]
           ]
          },
          "colorway": [
           "#636efa",
           "#EF553B",
           "#00cc96",
           "#ab63fa",
           "#FFA15A",
           "#19d3f3",
           "#FF6692",
           "#B6E880",
           "#FF97FF",
           "#FECB52"
          ],
          "font": {
           "color": "#2a3f5f"
          },
          "geo": {
           "bgcolor": "white",
           "lakecolor": "white",
           "landcolor": "#E5ECF6",
           "showlakes": true,
           "showland": true,
           "subunitcolor": "white"
          },
          "hoverlabel": {
           "align": "left"
          },
          "hovermode": "closest",
          "mapbox": {
           "style": "light"
          },
          "paper_bgcolor": "white",
          "plot_bgcolor": "#E5ECF6",
          "polar": {
           "angularaxis": {
            "gridcolor": "white",
            "linecolor": "white",
            "ticks": ""
           },
           "bgcolor": "#E5ECF6",
           "radialaxis": {
            "gridcolor": "white",
            "linecolor": "white",
            "ticks": ""
           }
          },
          "scene": {
           "xaxis": {
            "backgroundcolor": "#E5ECF6",
            "gridcolor": "white",
            "gridwidth": 2,
            "linecolor": "white",
            "showbackground": true,
            "ticks": "",
            "zerolinecolor": "white"
           },
           "yaxis": {
            "backgroundcolor": "#E5ECF6",
            "gridcolor": "white",
            "gridwidth": 2,
            "linecolor": "white",
            "showbackground": true,
            "ticks": "",
            "zerolinecolor": "white"
           },
           "zaxis": {
            "backgroundcolor": "#E5ECF6",
            "gridcolor": "white",
            "gridwidth": 2,
            "linecolor": "white",
            "showbackground": true,
            "ticks": "",
            "zerolinecolor": "white"
           }
          },
          "shapedefaults": {
           "line": {
            "color": "#2a3f5f"
           }
          },
          "ternary": {
           "aaxis": {
            "gridcolor": "white",
            "linecolor": "white",
            "ticks": ""
           },
           "baxis": {
            "gridcolor": "white",
            "linecolor": "white",
            "ticks": ""
           },
           "bgcolor": "#E5ECF6",
           "caxis": {
            "gridcolor": "white",
            "linecolor": "white",
            "ticks": ""
           }
          },
          "title": {
           "x": 0.05
          },
          "xaxis": {
           "automargin": true,
           "gridcolor": "white",
           "linecolor": "white",
           "ticks": "",
           "title": {
            "standoff": 15
           },
           "zerolinecolor": "white",
           "zerolinewidth": 2
          },
          "yaxis": {
           "automargin": true,
           "gridcolor": "white",
           "linecolor": "white",
           "ticks": "",
           "title": {
            "standoff": 15
           },
           "zerolinecolor": "white",
           "zerolinewidth": 2
          }
         }
        },
        "title": {
         "text": "perplexity 6"
        },
        "xaxis": {
         "anchor": "y",
         "domain": [
          0,
          1
         ],
         "title": {
          "text": "x"
         }
        },
        "yaxis": {
         "anchor": "x",
         "domain": [
          0,
          1
         ],
         "title": {
          "text": "y"
         }
        }
       }
      }
     },
     "metadata": {},
     "output_type": "display_data"
    },
    {
     "name": "stderr",
     "output_type": "stream",
     "text": [
      "/home/amysiak/thesis/env/lib/python3.8/site-packages/sklearn/manifold/_t_sne.py:800: FutureWarning:\n",
      "\n",
      "The default initialization in TSNE will change from 'random' to 'pca' in 1.2.\n",
      "\n",
      "/home/amysiak/thesis/env/lib/python3.8/site-packages/sklearn/manifold/_t_sne.py:810: FutureWarning:\n",
      "\n",
      "The default learning rate in TSNE will change from 200.0 to 'auto' in 1.2.\n",
      "\n"
     ]
    },
    {
     "data": {
      "application/vnd.plotly.v1+json": {
       "config": {
        "plotlyServerURL": "https://plot.ly"
       },
       "data": [
        {
         "hovertemplate": "color=ar<br>x=%{x}<br>y=%{y}<extra></extra>",
         "legendgroup": "ar",
         "marker": {
          "color": "#FD3216",
          "symbol": "circle"
         },
         "mode": "markers",
         "name": "ar",
         "orientation": "v",
         "showlegend": true,
         "type": "scatter",
         "x": [
          -51.58307647705078
         ],
         "xaxis": "x",
         "y": [
          -189.61517333984375
         ],
         "yaxis": "y"
        },
        {
         "hovertemplate": "color=be<br>x=%{x}<br>y=%{y}<extra></extra>",
         "legendgroup": "be",
         "marker": {
          "color": "#00FE35",
          "symbol": "circle"
         },
         "mode": "markers",
         "name": "be",
         "orientation": "v",
         "showlegend": true,
         "type": "scatter",
         "x": [
          -185.84005737304688
         ],
         "xaxis": "x",
         "y": [
          23.9716739654541
         ],
         "yaxis": "y"
        },
        {
         "hovertemplate": "color=bg<br>x=%{x}<br>y=%{y}<extra></extra>",
         "legendgroup": "bg",
         "marker": {
          "color": "#6A76FC",
          "symbol": "circle"
         },
         "mode": "markers",
         "name": "bg",
         "orientation": "v",
         "showlegend": true,
         "type": "scatter",
         "x": [
          -260.0837707519531
         ],
         "xaxis": "x",
         "y": [
          163.91127014160156
         ],
         "yaxis": "y"
        },
        {
         "hovertemplate": "color=cs<br>x=%{x}<br>y=%{y}<extra></extra>",
         "legendgroup": "cs",
         "marker": {
          "color": "#FED4C4",
          "symbol": "circle"
         },
         "mode": "markers",
         "name": "cs",
         "orientation": "v",
         "showlegend": true,
         "type": "scatter",
         "x": [
          -288.1014404296875
         ],
         "xaxis": "x",
         "y": [
          32.7144889831543
         ],
         "yaxis": "y"
        },
        {
         "hovertemplate": "color=cy<br>x=%{x}<br>y=%{y}<extra></extra>",
         "legendgroup": "cy",
         "marker": {
          "color": "#FE00CE",
          "symbol": "circle"
         },
         "mode": "markers",
         "name": "cy",
         "orientation": "v",
         "showlegend": true,
         "type": "scatter",
         "x": [
          9.791589736938477
         ],
         "xaxis": "x",
         "y": [
          -213.59132385253906
         ],
         "yaxis": "y"
        },
        {
         "hovertemplate": "color=de<br>x=%{x}<br>y=%{y}<extra></extra>",
         "legendgroup": "de",
         "marker": {
          "color": "#0DF9FF",
          "symbol": "circle"
         },
         "mode": "markers",
         "name": "de",
         "orientation": "v",
         "showlegend": true,
         "type": "scatter",
         "x": [
          5.0812578201293945
         ],
         "xaxis": "x",
         "y": [
          -78.20101165771484
         ],
         "yaxis": "y"
        },
        {
         "hovertemplate": "color=en<br>x=%{x}<br>y=%{y}<extra></extra>",
         "legendgroup": "en",
         "marker": {
          "color": "#F6F926",
          "symbol": "circle"
         },
         "mode": "markers",
         "name": "en",
         "orientation": "v",
         "showlegend": true,
         "type": "scatter",
         "x": [
          117.4866943359375
         ],
         "xaxis": "x",
         "y": [
          -20.2541446685791
         ],
         "yaxis": "y"
        },
        {
         "hovertemplate": "color=es<br>x=%{x}<br>y=%{y}<extra></extra>",
         "legendgroup": "es",
         "marker": {
          "color": "#FF9616",
          "symbol": "circle"
         },
         "mode": "markers",
         "name": "es",
         "orientation": "v",
         "showlegend": true,
         "type": "scatter",
         "x": [
          163.66661071777344
         ],
         "xaxis": "x",
         "y": [
          -105.08280181884766
         ],
         "yaxis": "y"
        },
        {
         "hovertemplate": "color=fa<br>x=%{x}<br>y=%{y}<extra></extra>",
         "legendgroup": "fa",
         "marker": {
          "color": "#479B55",
          "symbol": "circle"
         },
         "mode": "markers",
         "name": "fa",
         "orientation": "v",
         "showlegend": true,
         "type": "scatter",
         "x": [
          2.600229263305664
         ],
         "xaxis": "x",
         "y": [
          -349.7980041503906
         ],
         "yaxis": "y"
        },
        {
         "hovertemplate": "color=fi<br>x=%{x}<br>y=%{y}<extra></extra>",
         "legendgroup": "fi",
         "marker": {
          "color": "#EEA6FB",
          "symbol": "circle"
         },
         "mode": "markers",
         "name": "fi",
         "orientation": "v",
         "showlegend": true,
         "type": "scatter",
         "x": [
          535.2566528320312
         ],
         "xaxis": "x",
         "y": [
          80.59095001220703
         ],
         "yaxis": "y"
        },
        {
         "hovertemplate": "color=fr<br>x=%{x}<br>y=%{y}<extra></extra>",
         "legendgroup": "fr",
         "marker": {
          "color": "#DC587D",
          "symbol": "circle"
         },
         "mode": "markers",
         "name": "fr",
         "orientation": "v",
         "showlegend": true,
         "type": "scatter",
         "x": [
          207.42327880859375
         ],
         "xaxis": "x",
         "y": [
          -67.34581756591797
         ],
         "yaxis": "y"
        },
        {
         "hovertemplate": "color=ga<br>x=%{x}<br>y=%{y}<extra></extra>",
         "legendgroup": "ga",
         "marker": {
          "color": "#D626FF",
          "symbol": "circle"
         },
         "mode": "markers",
         "name": "ga",
         "orientation": "v",
         "showlegend": true,
         "type": "scatter",
         "x": [
          -93.8022232055664
         ],
         "xaxis": "x",
         "y": [
          -235.71597290039062
         ],
         "yaxis": "y"
        },
        {
         "hovertemplate": "color=hr<br>x=%{x}<br>y=%{y}<extra></extra>",
         "legendgroup": "hr",
         "marker": {
          "color": "#6E899C",
          "symbol": "circle"
         },
         "mode": "markers",
         "name": "hr",
         "orientation": "v",
         "showlegend": true,
         "type": "scatter",
         "x": [
          -297.93365478515625
         ],
         "xaxis": "x",
         "y": [
          109.13453674316406
         ],
         "yaxis": "y"
        },
        {
         "hovertemplate": "color=hy<br>x=%{x}<br>y=%{y}<extra></extra>",
         "legendgroup": "hy",
         "marker": {
          "color": "#00B5F7",
          "symbol": "circle"
         },
         "mode": "markers",
         "name": "hy",
         "orientation": "v",
         "showlegend": true,
         "type": "scatter",
         "x": [
          505.1746826171875
         ],
         "xaxis": "x",
         "y": [
          13.675167083740234
         ],
         "yaxis": "y"
        },
        {
         "hovertemplate": "color=id<br>x=%{x}<br>y=%{y}<extra></extra>",
         "legendgroup": "id",
         "marker": {
          "color": "#B68E00",
          "symbol": "circle"
         },
         "mode": "markers",
         "name": "id",
         "orientation": "v",
         "showlegend": true,
         "type": "scatter",
         "x": [
          -33.200531005859375
         ],
         "xaxis": "x",
         "y": [
          -257.537841796875
         ],
         "yaxis": "y"
        },
        {
         "hovertemplate": "color=ja<br>x=%{x}<br>y=%{y}<extra></extra>",
         "legendgroup": "ja",
         "marker": {
          "color": "#C9FBE5",
          "symbol": "circle"
         },
         "mode": "markers",
         "name": "ja",
         "orientation": "v",
         "showlegend": true,
         "type": "scatter",
         "x": [
          596.4387817382812
         ],
         "xaxis": "x",
         "y": [
          -134.790771484375
         ],
         "yaxis": "y"
        },
        {
         "hovertemplate": "color=ko<br>x=%{x}<br>y=%{y}<extra></extra>",
         "legendgroup": "ko",
         "marker": {
          "color": "#FF0092",
          "symbol": "circle"
         },
         "mode": "markers",
         "name": "ko",
         "orientation": "v",
         "showlegend": true,
         "type": "scatter",
         "x": [
          616.578125
         ],
         "xaxis": "x",
         "y": [
          -71.8260498046875
         ],
         "yaxis": "y"
        },
        {
         "hovertemplate": "color=lt<br>x=%{x}<br>y=%{y}<extra></extra>",
         "legendgroup": "lt",
         "marker": {
          "color": "#22FFA7",
          "symbol": "circle"
         },
         "mode": "markers",
         "name": "lt",
         "orientation": "v",
         "showlegend": true,
         "type": "scatter",
         "x": [
          468.224609375
         ],
         "xaxis": "x",
         "y": [
          81.68403625488281
         ],
         "yaxis": "y"
        },
        {
         "hovertemplate": "color=lv<br>x=%{x}<br>y=%{y}<extra></extra>",
         "legendgroup": "lv",
         "marker": {
          "color": "#E3EE9E",
          "symbol": "circle"
         },
         "mode": "markers",
         "name": "lv",
         "orientation": "v",
         "showlegend": true,
         "type": "scatter",
         "x": [
          426.60400390625
         ],
         "xaxis": "x",
         "y": [
          41.27296829223633
         ],
         "yaxis": "y"
        },
        {
         "hovertemplate": "color=nl<br>x=%{x}<br>y=%{y}<extra></extra>",
         "legendgroup": "nl",
         "marker": {
          "color": "#86CE00",
          "symbol": "circle"
         },
         "mode": "markers",
         "name": "nl",
         "orientation": "v",
         "showlegend": true,
         "type": "scatter",
         "x": [
          58.15734100341797
         ],
         "xaxis": "x",
         "y": [
          -82.4341049194336
         ],
         "yaxis": "y"
        },
        {
         "hovertemplate": "color=pl<br>x=%{x}<br>y=%{y}<extra></extra>",
         "legendgroup": "pl",
         "marker": {
          "color": "#BC7196",
          "symbol": "circle"
         },
         "mode": "markers",
         "name": "pl",
         "orientation": "v",
         "showlegend": true,
         "type": "scatter",
         "x": [
          -183.96226501464844
         ],
         "xaxis": "x",
         "y": [
          165.9468231201172
         ],
         "yaxis": "y"
        },
        {
         "hovertemplate": "color=ru<br>x=%{x}<br>y=%{y}<extra></extra>",
         "legendgroup": "ru",
         "marker": {
          "color": "#7E7DCD",
          "symbol": "circle"
         },
         "mode": "markers",
         "name": "ru",
         "orientation": "v",
         "showlegend": true,
         "type": "scatter",
         "x": [
          -156.69886779785156
         ],
         "xaxis": "x",
         "y": [
          93.93596649169922
         ],
         "yaxis": "y"
        },
        {
         "hovertemplate": "color=slk<br>x=%{x}<br>y=%{y}<extra></extra>",
         "legendgroup": "slk",
         "marker": {
          "color": "#FC6955",
          "symbol": "circle"
         },
         "mode": "markers",
         "name": "slk",
         "orientation": "v",
         "showlegend": true,
         "type": "scatter",
         "x": [
          -348.87652587890625
         ],
         "xaxis": "x",
         "y": [
          56.31448745727539
         ],
         "yaxis": "y"
        },
        {
         "hovertemplate": "color=slv<br>x=%{x}<br>y=%{y}<extra></extra>",
         "legendgroup": "slv",
         "marker": {
          "color": "#E48F72",
          "symbol": "circle"
         },
         "mode": "markers",
         "name": "slv",
         "orientation": "v",
         "showlegend": true,
         "type": "scatter",
         "x": [
          -374.5917053222656
         ],
         "xaxis": "x",
         "y": [
          127.58036041259766
         ],
         "yaxis": "y"
        },
        {
         "hovertemplate": "color=tr<br>x=%{x}<br>y=%{y}<extra></extra>",
         "legendgroup": "tr",
         "marker": {
          "color": "#FD3216",
          "symbol": "circle"
         },
         "mode": "markers",
         "name": "tr",
         "orientation": "v",
         "showlegend": true,
         "type": "scatter",
         "x": [
          526.1019287109375
         ],
         "xaxis": "x",
         "y": [
          -124.94802856445312
         ],
         "yaxis": "y"
        },
        {
         "hovertemplate": "color=uk<br>x=%{x}<br>y=%{y}<extra></extra>",
         "legendgroup": "uk",
         "marker": {
          "color": "#00FE35",
          "symbol": "circle"
         },
         "mode": "markers",
         "name": "uk",
         "orientation": "v",
         "showlegend": true,
         "type": "scatter",
         "x": [
          -222.71771240234375
         ],
         "xaxis": "x",
         "y": [
          90.20750427246094
         ],
         "yaxis": "y"
        },
        {
         "hovertemplate": "color=zh<br>x=%{x}<br>y=%{y}<extra></extra>",
         "legendgroup": "zh",
         "marker": {
          "color": "#6A76FC",
          "symbol": "circle"
         },
         "mode": "markers",
         "name": "zh",
         "orientation": "v",
         "showlegend": true,
         "type": "scatter",
         "x": [
          545.791259765625
         ],
         "xaxis": "x",
         "y": [
          -42.443599700927734
         ],
         "yaxis": "y"
        }
       ],
       "layout": {
        "legend": {
         "title": {
          "text": "color"
         },
         "tracegroupgap": 0
        },
        "template": {
         "data": {
          "bar": [
           {
            "error_x": {
             "color": "#2a3f5f"
            },
            "error_y": {
             "color": "#2a3f5f"
            },
            "marker": {
             "line": {
              "color": "#E5ECF6",
              "width": 0.5
             },
             "pattern": {
              "fillmode": "overlay",
              "size": 10,
              "solidity": 0.2
             }
            },
            "type": "bar"
           }
          ],
          "barpolar": [
           {
            "marker": {
             "line": {
              "color": "#E5ECF6",
              "width": 0.5
             },
             "pattern": {
              "fillmode": "overlay",
              "size": 10,
              "solidity": 0.2
             }
            },
            "type": "barpolar"
           }
          ],
          "carpet": [
           {
            "aaxis": {
             "endlinecolor": "#2a3f5f",
             "gridcolor": "white",
             "linecolor": "white",
             "minorgridcolor": "white",
             "startlinecolor": "#2a3f5f"
            },
            "baxis": {
             "endlinecolor": "#2a3f5f",
             "gridcolor": "white",
             "linecolor": "white",
             "minorgridcolor": "white",
             "startlinecolor": "#2a3f5f"
            },
            "type": "carpet"
           }
          ],
          "choropleth": [
           {
            "colorbar": {
             "outlinewidth": 0,
             "ticks": ""
            },
            "type": "choropleth"
           }
          ],
          "contour": [
           {
            "colorbar": {
             "outlinewidth": 0,
             "ticks": ""
            },
            "colorscale": [
             [
              0,
              "#0d0887"
             ],
             [
              0.1111111111111111,
              "#46039f"
             ],
             [
              0.2222222222222222,
              "#7201a8"
             ],
             [
              0.3333333333333333,
              "#9c179e"
             ],
             [
              0.4444444444444444,
              "#bd3786"
             ],
             [
              0.5555555555555556,
              "#d8576b"
             ],
             [
              0.6666666666666666,
              "#ed7953"
             ],
             [
              0.7777777777777778,
              "#fb9f3a"
             ],
             [
              0.8888888888888888,
              "#fdca26"
             ],
             [
              1,
              "#f0f921"
             ]
            ],
            "type": "contour"
           }
          ],
          "contourcarpet": [
           {
            "colorbar": {
             "outlinewidth": 0,
             "ticks": ""
            },
            "type": "contourcarpet"
           }
          ],
          "heatmap": [
           {
            "colorbar": {
             "outlinewidth": 0,
             "ticks": ""
            },
            "colorscale": [
             [
              0,
              "#0d0887"
             ],
             [
              0.1111111111111111,
              "#46039f"
             ],
             [
              0.2222222222222222,
              "#7201a8"
             ],
             [
              0.3333333333333333,
              "#9c179e"
             ],
             [
              0.4444444444444444,
              "#bd3786"
             ],
             [
              0.5555555555555556,
              "#d8576b"
             ],
             [
              0.6666666666666666,
              "#ed7953"
             ],
             [
              0.7777777777777778,
              "#fb9f3a"
             ],
             [
              0.8888888888888888,
              "#fdca26"
             ],
             [
              1,
              "#f0f921"
             ]
            ],
            "type": "heatmap"
           }
          ],
          "heatmapgl": [
           {
            "colorbar": {
             "outlinewidth": 0,
             "ticks": ""
            },
            "colorscale": [
             [
              0,
              "#0d0887"
             ],
             [
              0.1111111111111111,
              "#46039f"
             ],
             [
              0.2222222222222222,
              "#7201a8"
             ],
             [
              0.3333333333333333,
              "#9c179e"
             ],
             [
              0.4444444444444444,
              "#bd3786"
             ],
             [
              0.5555555555555556,
              "#d8576b"
             ],
             [
              0.6666666666666666,
              "#ed7953"
             ],
             [
              0.7777777777777778,
              "#fb9f3a"
             ],
             [
              0.8888888888888888,
              "#fdca26"
             ],
             [
              1,
              "#f0f921"
             ]
            ],
            "type": "heatmapgl"
           }
          ],
          "histogram": [
           {
            "marker": {
             "pattern": {
              "fillmode": "overlay",
              "size": 10,
              "solidity": 0.2
             }
            },
            "type": "histogram"
           }
          ],
          "histogram2d": [
           {
            "colorbar": {
             "outlinewidth": 0,
             "ticks": ""
            },
            "colorscale": [
             [
              0,
              "#0d0887"
             ],
             [
              0.1111111111111111,
              "#46039f"
             ],
             [
              0.2222222222222222,
              "#7201a8"
             ],
             [
              0.3333333333333333,
              "#9c179e"
             ],
             [
              0.4444444444444444,
              "#bd3786"
             ],
             [
              0.5555555555555556,
              "#d8576b"
             ],
             [
              0.6666666666666666,
              "#ed7953"
             ],
             [
              0.7777777777777778,
              "#fb9f3a"
             ],
             [
              0.8888888888888888,
              "#fdca26"
             ],
             [
              1,
              "#f0f921"
             ]
            ],
            "type": "histogram2d"
           }
          ],
          "histogram2dcontour": [
           {
            "colorbar": {
             "outlinewidth": 0,
             "ticks": ""
            },
            "colorscale": [
             [
              0,
              "#0d0887"
             ],
             [
              0.1111111111111111,
              "#46039f"
             ],
             [
              0.2222222222222222,
              "#7201a8"
             ],
             [
              0.3333333333333333,
              "#9c179e"
             ],
             [
              0.4444444444444444,
              "#bd3786"
             ],
             [
              0.5555555555555556,
              "#d8576b"
             ],
             [
              0.6666666666666666,
              "#ed7953"
             ],
             [
              0.7777777777777778,
              "#fb9f3a"
             ],
             [
              0.8888888888888888,
              "#fdca26"
             ],
             [
              1,
              "#f0f921"
             ]
            ],
            "type": "histogram2dcontour"
           }
          ],
          "mesh3d": [
           {
            "colorbar": {
             "outlinewidth": 0,
             "ticks": ""
            },
            "type": "mesh3d"
           }
          ],
          "parcoords": [
           {
            "line": {
             "colorbar": {
              "outlinewidth": 0,
              "ticks": ""
             }
            },
            "type": "parcoords"
           }
          ],
          "pie": [
           {
            "automargin": true,
            "type": "pie"
           }
          ],
          "scatter": [
           {
            "fillpattern": {
             "fillmode": "overlay",
             "size": 10,
             "solidity": 0.2
            },
            "type": "scatter"
           }
          ],
          "scatter3d": [
           {
            "line": {
             "colorbar": {
              "outlinewidth": 0,
              "ticks": ""
             }
            },
            "marker": {
             "colorbar": {
              "outlinewidth": 0,
              "ticks": ""
             }
            },
            "type": "scatter3d"
           }
          ],
          "scattercarpet": [
           {
            "marker": {
             "colorbar": {
              "outlinewidth": 0,
              "ticks": ""
             }
            },
            "type": "scattercarpet"
           }
          ],
          "scattergeo": [
           {
            "marker": {
             "colorbar": {
              "outlinewidth": 0,
              "ticks": ""
             }
            },
            "type": "scattergeo"
           }
          ],
          "scattergl": [
           {
            "marker": {
             "colorbar": {
              "outlinewidth": 0,
              "ticks": ""
             }
            },
            "type": "scattergl"
           }
          ],
          "scattermapbox": [
           {
            "marker": {
             "colorbar": {
              "outlinewidth": 0,
              "ticks": ""
             }
            },
            "type": "scattermapbox"
           }
          ],
          "scatterpolar": [
           {
            "marker": {
             "colorbar": {
              "outlinewidth": 0,
              "ticks": ""
             }
            },
            "type": "scatterpolar"
           }
          ],
          "scatterpolargl": [
           {
            "marker": {
             "colorbar": {
              "outlinewidth": 0,
              "ticks": ""
             }
            },
            "type": "scatterpolargl"
           }
          ],
          "scatterternary": [
           {
            "marker": {
             "colorbar": {
              "outlinewidth": 0,
              "ticks": ""
             }
            },
            "type": "scatterternary"
           }
          ],
          "surface": [
           {
            "colorbar": {
             "outlinewidth": 0,
             "ticks": ""
            },
            "colorscale": [
             [
              0,
              "#0d0887"
             ],
             [
              0.1111111111111111,
              "#46039f"
             ],
             [
              0.2222222222222222,
              "#7201a8"
             ],
             [
              0.3333333333333333,
              "#9c179e"
             ],
             [
              0.4444444444444444,
              "#bd3786"
             ],
             [
              0.5555555555555556,
              "#d8576b"
             ],
             [
              0.6666666666666666,
              "#ed7953"
             ],
             [
              0.7777777777777778,
              "#fb9f3a"
             ],
             [
              0.8888888888888888,
              "#fdca26"
             ],
             [
              1,
              "#f0f921"
             ]
            ],
            "type": "surface"
           }
          ],
          "table": [
           {
            "cells": {
             "fill": {
              "color": "#EBF0F8"
             },
             "line": {
              "color": "white"
             }
            },
            "header": {
             "fill": {
              "color": "#C8D4E3"
             },
             "line": {
              "color": "white"
             }
            },
            "type": "table"
           }
          ]
         },
         "layout": {
          "annotationdefaults": {
           "arrowcolor": "#2a3f5f",
           "arrowhead": 0,
           "arrowwidth": 1
          },
          "autotypenumbers": "strict",
          "coloraxis": {
           "colorbar": {
            "outlinewidth": 0,
            "ticks": ""
           }
          },
          "colorscale": {
           "diverging": [
            [
             0,
             "#8e0152"
            ],
            [
             0.1,
             "#c51b7d"
            ],
            [
             0.2,
             "#de77ae"
            ],
            [
             0.3,
             "#f1b6da"
            ],
            [
             0.4,
             "#fde0ef"
            ],
            [
             0.5,
             "#f7f7f7"
            ],
            [
             0.6,
             "#e6f5d0"
            ],
            [
             0.7,
             "#b8e186"
            ],
            [
             0.8,
             "#7fbc41"
            ],
            [
             0.9,
             "#4d9221"
            ],
            [
             1,
             "#276419"
            ]
           ],
           "sequential": [
            [
             0,
             "#0d0887"
            ],
            [
             0.1111111111111111,
             "#46039f"
            ],
            [
             0.2222222222222222,
             "#7201a8"
            ],
            [
             0.3333333333333333,
             "#9c179e"
            ],
            [
             0.4444444444444444,
             "#bd3786"
            ],
            [
             0.5555555555555556,
             "#d8576b"
            ],
            [
             0.6666666666666666,
             "#ed7953"
            ],
            [
             0.7777777777777778,
             "#fb9f3a"
            ],
            [
             0.8888888888888888,
             "#fdca26"
            ],
            [
             1,
             "#f0f921"
            ]
           ],
           "sequentialminus": [
            [
             0,
             "#0d0887"
            ],
            [
             0.1111111111111111,
             "#46039f"
            ],
            [
             0.2222222222222222,
             "#7201a8"
            ],
            [
             0.3333333333333333,
             "#9c179e"
            ],
            [
             0.4444444444444444,
             "#bd3786"
            ],
            [
             0.5555555555555556,
             "#d8576b"
            ],
            [
             0.6666666666666666,
             "#ed7953"
            ],
            [
             0.7777777777777778,
             "#fb9f3a"
            ],
            [
             0.8888888888888888,
             "#fdca26"
            ],
            [
             1,
             "#f0f921"
            ]
           ]
          },
          "colorway": [
           "#636efa",
           "#EF553B",
           "#00cc96",
           "#ab63fa",
           "#FFA15A",
           "#19d3f3",
           "#FF6692",
           "#B6E880",
           "#FF97FF",
           "#FECB52"
          ],
          "font": {
           "color": "#2a3f5f"
          },
          "geo": {
           "bgcolor": "white",
           "lakecolor": "white",
           "landcolor": "#E5ECF6",
           "showlakes": true,
           "showland": true,
           "subunitcolor": "white"
          },
          "hoverlabel": {
           "align": "left"
          },
          "hovermode": "closest",
          "mapbox": {
           "style": "light"
          },
          "paper_bgcolor": "white",
          "plot_bgcolor": "#E5ECF6",
          "polar": {
           "angularaxis": {
            "gridcolor": "white",
            "linecolor": "white",
            "ticks": ""
           },
           "bgcolor": "#E5ECF6",
           "radialaxis": {
            "gridcolor": "white",
            "linecolor": "white",
            "ticks": ""
           }
          },
          "scene": {
           "xaxis": {
            "backgroundcolor": "#E5ECF6",
            "gridcolor": "white",
            "gridwidth": 2,
            "linecolor": "white",
            "showbackground": true,
            "ticks": "",
            "zerolinecolor": "white"
           },
           "yaxis": {
            "backgroundcolor": "#E5ECF6",
            "gridcolor": "white",
            "gridwidth": 2,
            "linecolor": "white",
            "showbackground": true,
            "ticks": "",
            "zerolinecolor": "white"
           },
           "zaxis": {
            "backgroundcolor": "#E5ECF6",
            "gridcolor": "white",
            "gridwidth": 2,
            "linecolor": "white",
            "showbackground": true,
            "ticks": "",
            "zerolinecolor": "white"
           }
          },
          "shapedefaults": {
           "line": {
            "color": "#2a3f5f"
           }
          },
          "ternary": {
           "aaxis": {
            "gridcolor": "white",
            "linecolor": "white",
            "ticks": ""
           },
           "baxis": {
            "gridcolor": "white",
            "linecolor": "white",
            "ticks": ""
           },
           "bgcolor": "#E5ECF6",
           "caxis": {
            "gridcolor": "white",
            "linecolor": "white",
            "ticks": ""
           }
          },
          "title": {
           "x": 0.05
          },
          "xaxis": {
           "automargin": true,
           "gridcolor": "white",
           "linecolor": "white",
           "ticks": "",
           "title": {
            "standoff": 15
           },
           "zerolinecolor": "white",
           "zerolinewidth": 2
          },
          "yaxis": {
           "automargin": true,
           "gridcolor": "white",
           "linecolor": "white",
           "ticks": "",
           "title": {
            "standoff": 15
           },
           "zerolinecolor": "white",
           "zerolinewidth": 2
          }
         }
        },
        "title": {
         "text": "perplexity 7"
        },
        "xaxis": {
         "anchor": "y",
         "domain": [
          0,
          1
         ],
         "title": {
          "text": "x"
         }
        },
        "yaxis": {
         "anchor": "x",
         "domain": [
          0,
          1
         ],
         "title": {
          "text": "y"
         }
        }
       }
      }
     },
     "metadata": {},
     "output_type": "display_data"
    },
    {
     "name": "stderr",
     "output_type": "stream",
     "text": [
      "/home/amysiak/thesis/env/lib/python3.8/site-packages/sklearn/manifold/_t_sne.py:800: FutureWarning:\n",
      "\n",
      "The default initialization in TSNE will change from 'random' to 'pca' in 1.2.\n",
      "\n",
      "/home/amysiak/thesis/env/lib/python3.8/site-packages/sklearn/manifold/_t_sne.py:810: FutureWarning:\n",
      "\n",
      "The default learning rate in TSNE will change from 200.0 to 'auto' in 1.2.\n",
      "\n"
     ]
    },
    {
     "data": {
      "application/vnd.plotly.v1+json": {
       "config": {
        "plotlyServerURL": "https://plot.ly"
       },
       "data": [
        {
         "hovertemplate": "color=ar<br>x=%{x}<br>y=%{y}<extra></extra>",
         "legendgroup": "ar",
         "marker": {
          "color": "#FD3216",
          "symbol": "circle"
         },
         "mode": "markers",
         "name": "ar",
         "orientation": "v",
         "showlegend": true,
         "type": "scatter",
         "x": [
          232.06065368652344
         ],
         "xaxis": "x",
         "y": [
          581.0516357421875
         ],
         "yaxis": "y"
        },
        {
         "hovertemplate": "color=be<br>x=%{x}<br>y=%{y}<extra></extra>",
         "legendgroup": "be",
         "marker": {
          "color": "#00FE35",
          "symbol": "circle"
         },
         "mode": "markers",
         "name": "be",
         "orientation": "v",
         "showlegend": true,
         "type": "scatter",
         "x": [
          1.9935895204544067
         ],
         "xaxis": "x",
         "y": [
          -503.44573974609375
         ],
         "yaxis": "y"
        },
        {
         "hovertemplate": "color=bg<br>x=%{x}<br>y=%{y}<extra></extra>",
         "legendgroup": "bg",
         "marker": {
          "color": "#6A76FC",
          "symbol": "circle"
         },
         "mode": "markers",
         "name": "bg",
         "orientation": "v",
         "showlegend": true,
         "type": "scatter",
         "x": [
          28.498287200927734
         ],
         "xaxis": "x",
         "y": [
          -266.4071350097656
         ],
         "yaxis": "y"
        },
        {
         "hovertemplate": "color=cs<br>x=%{x}<br>y=%{y}<extra></extra>",
         "legendgroup": "cs",
         "marker": {
          "color": "#FED4C4",
          "symbol": "circle"
         },
         "mode": "markers",
         "name": "cs",
         "orientation": "v",
         "showlegend": true,
         "type": "scatter",
         "x": [
          -237.14517211914062
         ],
         "xaxis": "x",
         "y": [
          -483.87908935546875
         ],
         "yaxis": "y"
        },
        {
         "hovertemplate": "color=cy<br>x=%{x}<br>y=%{y}<extra></extra>",
         "legendgroup": "cy",
         "marker": {
          "color": "#FE00CE",
          "symbol": "circle"
         },
         "mode": "markers",
         "name": "cy",
         "orientation": "v",
         "showlegend": true,
         "type": "scatter",
         "x": [
          149.8311004638672
         ],
         "xaxis": "x",
         "y": [
          426.3290100097656
         ],
         "yaxis": "y"
        },
        {
         "hovertemplate": "color=de<br>x=%{x}<br>y=%{y}<extra></extra>",
         "legendgroup": "de",
         "marker": {
          "color": "#0DF9FF",
          "symbol": "circle"
         },
         "mode": "markers",
         "name": "de",
         "orientation": "v",
         "showlegend": true,
         "type": "scatter",
         "x": [
          94.7476577758789
         ],
         "xaxis": "x",
         "y": [
          -824.10400390625
         ],
         "yaxis": "y"
        },
        {
         "hovertemplate": "color=en<br>x=%{x}<br>y=%{y}<extra></extra>",
         "legendgroup": "en",
         "marker": {
          "color": "#F6F926",
          "symbol": "circle"
         },
         "mode": "markers",
         "name": "en",
         "orientation": "v",
         "showlegend": true,
         "type": "scatter",
         "x": [
          -304.32537841796875
         ],
         "xaxis": "x",
         "y": [
          958.5595703125
         ],
         "yaxis": "y"
        },
        {
         "hovertemplate": "color=es<br>x=%{x}<br>y=%{y}<extra></extra>",
         "legendgroup": "es",
         "marker": {
          "color": "#FF9616",
          "symbol": "circle"
         },
         "mode": "markers",
         "name": "es",
         "orientation": "v",
         "showlegend": true,
         "type": "scatter",
         "x": [
          -234.76168823242188
         ],
         "xaxis": "x",
         "y": [
          748.4435424804688
         ],
         "yaxis": "y"
        },
        {
         "hovertemplate": "color=fa<br>x=%{x}<br>y=%{y}<extra></extra>",
         "legendgroup": "fa",
         "marker": {
          "color": "#479B55",
          "symbol": "circle"
         },
         "mode": "markers",
         "name": "fa",
         "orientation": "v",
         "showlegend": true,
         "type": "scatter",
         "x": [
          118.25079345703125
         ],
         "xaxis": "x",
         "y": [
          1029.43212890625
         ],
         "yaxis": "y"
        },
        {
         "hovertemplate": "color=fi<br>x=%{x}<br>y=%{y}<extra></extra>",
         "legendgroup": "fi",
         "marker": {
          "color": "#EEA6FB",
          "symbol": "circle"
         },
         "mode": "markers",
         "name": "fi",
         "orientation": "v",
         "showlegend": true,
         "type": "scatter",
         "x": [
          -796.0908203125
         ],
         "xaxis": "x",
         "y": [
          201.80923461914062
         ],
         "yaxis": "y"
        },
        {
         "hovertemplate": "color=fr<br>x=%{x}<br>y=%{y}<extra></extra>",
         "legendgroup": "fr",
         "marker": {
          "color": "#DC587D",
          "symbol": "circle"
         },
         "mode": "markers",
         "name": "fr",
         "orientation": "v",
         "showlegend": true,
         "type": "scatter",
         "x": [
          -393.4850769042969
         ],
         "xaxis": "x",
         "y": [
          725.7504272460938
         ],
         "yaxis": "y"
        },
        {
         "hovertemplate": "color=ga<br>x=%{x}<br>y=%{y}<extra></extra>",
         "legendgroup": "ga",
         "marker": {
          "color": "#D626FF",
          "symbol": "circle"
         },
         "mode": "markers",
         "name": "ga",
         "orientation": "v",
         "showlegend": true,
         "type": "scatter",
         "x": [
          6.240111827850342
         ],
         "xaxis": "x",
         "y": [
          508.2469177246094
         ],
         "yaxis": "y"
        },
        {
         "hovertemplate": "color=hr<br>x=%{x}<br>y=%{y}<extra></extra>",
         "legendgroup": "hr",
         "marker": {
          "color": "#6E899C",
          "symbol": "circle"
         },
         "mode": "markers",
         "name": "hr",
         "orientation": "v",
         "showlegend": true,
         "type": "scatter",
         "x": [
          -125.6478042602539
         ],
         "xaxis": "x",
         "y": [
          -138.42005920410156
         ],
         "yaxis": "y"
        },
        {
         "hovertemplate": "color=hy<br>x=%{x}<br>y=%{y}<extra></extra>",
         "legendgroup": "hy",
         "marker": {
          "color": "#00B5F7",
          "symbol": "circle"
         },
         "mode": "markers",
         "name": "hy",
         "orientation": "v",
         "showlegend": true,
         "type": "scatter",
         "x": [
          -656.6220703125
         ],
         "xaxis": "x",
         "y": [
          80.34004974365234
         ],
         "yaxis": "y"
        },
        {
         "hovertemplate": "color=id<br>x=%{x}<br>y=%{y}<extra></extra>",
         "legendgroup": "id",
         "marker": {
          "color": "#B68E00",
          "symbol": "circle"
         },
         "mode": "markers",
         "name": "id",
         "orientation": "v",
         "showlegend": true,
         "type": "scatter",
         "x": [
          79.0643539428711
         ],
         "xaxis": "x",
         "y": [
          663.14990234375
         ],
         "yaxis": "y"
        },
        {
         "hovertemplate": "color=ja<br>x=%{x}<br>y=%{y}<extra></extra>",
         "legendgroup": "ja",
         "marker": {
          "color": "#C9FBE5",
          "symbol": "circle"
         },
         "mode": "markers",
         "name": "ja",
         "orientation": "v",
         "showlegend": true,
         "type": "scatter",
         "x": [
          622.3499145507812
         ],
         "xaxis": "x",
         "y": [
          -500.0423278808594
         ],
         "yaxis": "y"
        },
        {
         "hovertemplate": "color=ko<br>x=%{x}<br>y=%{y}<extra></extra>",
         "legendgroup": "ko",
         "marker": {
          "color": "#FF0092",
          "symbol": "circle"
         },
         "mode": "markers",
         "name": "ko",
         "orientation": "v",
         "showlegend": true,
         "type": "scatter",
         "x": [
          669.6251831054688
         ],
         "xaxis": "x",
         "y": [
          -309.4258728027344
         ],
         "yaxis": "y"
        },
        {
         "hovertemplate": "color=lt<br>x=%{x}<br>y=%{y}<extra></extra>",
         "legendgroup": "lt",
         "marker": {
          "color": "#22FFA7",
          "symbol": "circle"
         },
         "mode": "markers",
         "name": "lt",
         "orientation": "v",
         "showlegend": true,
         "type": "scatter",
         "x": [
          -781.6762084960938
         ],
         "xaxis": "x",
         "y": [
          -44.691001892089844
         ],
         "yaxis": "y"
        },
        {
         "hovertemplate": "color=lv<br>x=%{x}<br>y=%{y}<extra></extra>",
         "legendgroup": "lv",
         "marker": {
          "color": "#E3EE9E",
          "symbol": "circle"
         },
         "mode": "markers",
         "name": "lv",
         "orientation": "v",
         "showlegend": true,
         "type": "scatter",
         "x": [
          -918.3253173828125
         ],
         "xaxis": "x",
         "y": [
          49.8346061706543
         ],
         "yaxis": "y"
        },
        {
         "hovertemplate": "color=nl<br>x=%{x}<br>y=%{y}<extra></extra>",
         "legendgroup": "nl",
         "marker": {
          "color": "#86CE00",
          "symbol": "circle"
         },
         "mode": "markers",
         "name": "nl",
         "orientation": "v",
         "showlegend": true,
         "type": "scatter",
         "x": [
          -281.8990783691406
         ],
         "xaxis": "x",
         "y": [
          461.21380615234375
         ],
         "yaxis": "y"
        },
        {
         "hovertemplate": "color=pl<br>x=%{x}<br>y=%{y}<extra></extra>",
         "legendgroup": "pl",
         "marker": {
          "color": "#BC7196",
          "symbol": "circle"
         },
         "mode": "markers",
         "name": "pl",
         "orientation": "v",
         "showlegend": true,
         "type": "scatter",
         "x": [
          166.97547912597656
         ],
         "xaxis": "x",
         "y": [
          -405.46002197265625
         ],
         "yaxis": "y"
        },
        {
         "hovertemplate": "color=ru<br>x=%{x}<br>y=%{y}<extra></extra>",
         "legendgroup": "ru",
         "marker": {
          "color": "#7E7DCD",
          "symbol": "circle"
         },
         "mode": "markers",
         "name": "ru",
         "orientation": "v",
         "showlegend": true,
         "type": "scatter",
         "x": [
          217.3172149658203
         ],
         "xaxis": "x",
         "y": [
          -211.9039306640625
         ],
         "yaxis": "y"
        },
        {
         "hovertemplate": "color=slk<br>x=%{x}<br>y=%{y}<extra></extra>",
         "legendgroup": "slk",
         "marker": {
          "color": "#FC6955",
          "symbol": "circle"
         },
         "mode": "markers",
         "name": "slk",
         "orientation": "v",
         "showlegend": true,
         "type": "scatter",
         "x": [
          -134.92874145507812
         ],
         "xaxis": "x",
         "y": [
          -336.99200439453125
         ],
         "yaxis": "y"
        },
        {
         "hovertemplate": "color=slv<br>x=%{x}<br>y=%{y}<extra></extra>",
         "legendgroup": "slv",
         "marker": {
          "color": "#E48F72",
          "symbol": "circle"
         },
         "mode": "markers",
         "name": "slv",
         "orientation": "v",
         "showlegend": true,
         "type": "scatter",
         "x": [
          -305.8562927246094
         ],
         "xaxis": "x",
         "y": [
          -259.0007019042969
         ],
         "yaxis": "y"
        },
        {
         "hovertemplate": "color=tr<br>x=%{x}<br>y=%{y}<extra></extra>",
         "legendgroup": "tr",
         "marker": {
          "color": "#FD3216",
          "symbol": "circle"
         },
         "mode": "markers",
         "name": "tr",
         "orientation": "v",
         "showlegend": true,
         "type": "scatter",
         "x": [
          824.6749877929688
         ],
         "xaxis": "x",
         "y": [
          -449.1014404296875
         ],
         "yaxis": "y"
        },
        {
         "hovertemplate": "color=uk<br>x=%{x}<br>y=%{y}<extra></extra>",
         "legendgroup": "uk",
         "marker": {
          "color": "#00FE35",
          "symbol": "circle"
         },
         "mode": "markers",
         "name": "uk",
         "orientation": "v",
         "showlegend": true,
         "type": "scatter",
         "x": [
          71.74117279052734
         ],
         "xaxis": "x",
         "y": [
          -82.09858703613281
         ],
         "yaxis": "y"
        },
        {
         "hovertemplate": "color=zh<br>x=%{x}<br>y=%{y}<extra></extra>",
         "legendgroup": "zh",
         "marker": {
          "color": "#6A76FC",
          "symbol": "circle"
         },
         "mode": "markers",
         "name": "zh",
         "orientation": "v",
         "showlegend": true,
         "type": "scatter",
         "x": [
          -474.9591369628906
         ],
         "xaxis": "x",
         "y": [
          68.10392761230469
         ],
         "yaxis": "y"
        }
       ],
       "layout": {
        "legend": {
         "title": {
          "text": "color"
         },
         "tracegroupgap": 0
        },
        "template": {
         "data": {
          "bar": [
           {
            "error_x": {
             "color": "#2a3f5f"
            },
            "error_y": {
             "color": "#2a3f5f"
            },
            "marker": {
             "line": {
              "color": "#E5ECF6",
              "width": 0.5
             },
             "pattern": {
              "fillmode": "overlay",
              "size": 10,
              "solidity": 0.2
             }
            },
            "type": "bar"
           }
          ],
          "barpolar": [
           {
            "marker": {
             "line": {
              "color": "#E5ECF6",
              "width": 0.5
             },
             "pattern": {
              "fillmode": "overlay",
              "size": 10,
              "solidity": 0.2
             }
            },
            "type": "barpolar"
           }
          ],
          "carpet": [
           {
            "aaxis": {
             "endlinecolor": "#2a3f5f",
             "gridcolor": "white",
             "linecolor": "white",
             "minorgridcolor": "white",
             "startlinecolor": "#2a3f5f"
            },
            "baxis": {
             "endlinecolor": "#2a3f5f",
             "gridcolor": "white",
             "linecolor": "white",
             "minorgridcolor": "white",
             "startlinecolor": "#2a3f5f"
            },
            "type": "carpet"
           }
          ],
          "choropleth": [
           {
            "colorbar": {
             "outlinewidth": 0,
             "ticks": ""
            },
            "type": "choropleth"
           }
          ],
          "contour": [
           {
            "colorbar": {
             "outlinewidth": 0,
             "ticks": ""
            },
            "colorscale": [
             [
              0,
              "#0d0887"
             ],
             [
              0.1111111111111111,
              "#46039f"
             ],
             [
              0.2222222222222222,
              "#7201a8"
             ],
             [
              0.3333333333333333,
              "#9c179e"
             ],
             [
              0.4444444444444444,
              "#bd3786"
             ],
             [
              0.5555555555555556,
              "#d8576b"
             ],
             [
              0.6666666666666666,
              "#ed7953"
             ],
             [
              0.7777777777777778,
              "#fb9f3a"
             ],
             [
              0.8888888888888888,
              "#fdca26"
             ],
             [
              1,
              "#f0f921"
             ]
            ],
            "type": "contour"
           }
          ],
          "contourcarpet": [
           {
            "colorbar": {
             "outlinewidth": 0,
             "ticks": ""
            },
            "type": "contourcarpet"
           }
          ],
          "heatmap": [
           {
            "colorbar": {
             "outlinewidth": 0,
             "ticks": ""
            },
            "colorscale": [
             [
              0,
              "#0d0887"
             ],
             [
              0.1111111111111111,
              "#46039f"
             ],
             [
              0.2222222222222222,
              "#7201a8"
             ],
             [
              0.3333333333333333,
              "#9c179e"
             ],
             [
              0.4444444444444444,
              "#bd3786"
             ],
             [
              0.5555555555555556,
              "#d8576b"
             ],
             [
              0.6666666666666666,
              "#ed7953"
             ],
             [
              0.7777777777777778,
              "#fb9f3a"
             ],
             [
              0.8888888888888888,
              "#fdca26"
             ],
             [
              1,
              "#f0f921"
             ]
            ],
            "type": "heatmap"
           }
          ],
          "heatmapgl": [
           {
            "colorbar": {
             "outlinewidth": 0,
             "ticks": ""
            },
            "colorscale": [
             [
              0,
              "#0d0887"
             ],
             [
              0.1111111111111111,
              "#46039f"
             ],
             [
              0.2222222222222222,
              "#7201a8"
             ],
             [
              0.3333333333333333,
              "#9c179e"
             ],
             [
              0.4444444444444444,
              "#bd3786"
             ],
             [
              0.5555555555555556,
              "#d8576b"
             ],
             [
              0.6666666666666666,
              "#ed7953"
             ],
             [
              0.7777777777777778,
              "#fb9f3a"
             ],
             [
              0.8888888888888888,
              "#fdca26"
             ],
             [
              1,
              "#f0f921"
             ]
            ],
            "type": "heatmapgl"
           }
          ],
          "histogram": [
           {
            "marker": {
             "pattern": {
              "fillmode": "overlay",
              "size": 10,
              "solidity": 0.2
             }
            },
            "type": "histogram"
           }
          ],
          "histogram2d": [
           {
            "colorbar": {
             "outlinewidth": 0,
             "ticks": ""
            },
            "colorscale": [
             [
              0,
              "#0d0887"
             ],
             [
              0.1111111111111111,
              "#46039f"
             ],
             [
              0.2222222222222222,
              "#7201a8"
             ],
             [
              0.3333333333333333,
              "#9c179e"
             ],
             [
              0.4444444444444444,
              "#bd3786"
             ],
             [
              0.5555555555555556,
              "#d8576b"
             ],
             [
              0.6666666666666666,
              "#ed7953"
             ],
             [
              0.7777777777777778,
              "#fb9f3a"
             ],
             [
              0.8888888888888888,
              "#fdca26"
             ],
             [
              1,
              "#f0f921"
             ]
            ],
            "type": "histogram2d"
           }
          ],
          "histogram2dcontour": [
           {
            "colorbar": {
             "outlinewidth": 0,
             "ticks": ""
            },
            "colorscale": [
             [
              0,
              "#0d0887"
             ],
             [
              0.1111111111111111,
              "#46039f"
             ],
             [
              0.2222222222222222,
              "#7201a8"
             ],
             [
              0.3333333333333333,
              "#9c179e"
             ],
             [
              0.4444444444444444,
              "#bd3786"
             ],
             [
              0.5555555555555556,
              "#d8576b"
             ],
             [
              0.6666666666666666,
              "#ed7953"
             ],
             [
              0.7777777777777778,
              "#fb9f3a"
             ],
             [
              0.8888888888888888,
              "#fdca26"
             ],
             [
              1,
              "#f0f921"
             ]
            ],
            "type": "histogram2dcontour"
           }
          ],
          "mesh3d": [
           {
            "colorbar": {
             "outlinewidth": 0,
             "ticks": ""
            },
            "type": "mesh3d"
           }
          ],
          "parcoords": [
           {
            "line": {
             "colorbar": {
              "outlinewidth": 0,
              "ticks": ""
             }
            },
            "type": "parcoords"
           }
          ],
          "pie": [
           {
            "automargin": true,
            "type": "pie"
           }
          ],
          "scatter": [
           {
            "fillpattern": {
             "fillmode": "overlay",
             "size": 10,
             "solidity": 0.2
            },
            "type": "scatter"
           }
          ],
          "scatter3d": [
           {
            "line": {
             "colorbar": {
              "outlinewidth": 0,
              "ticks": ""
             }
            },
            "marker": {
             "colorbar": {
              "outlinewidth": 0,
              "ticks": ""
             }
            },
            "type": "scatter3d"
           }
          ],
          "scattercarpet": [
           {
            "marker": {
             "colorbar": {
              "outlinewidth": 0,
              "ticks": ""
             }
            },
            "type": "scattercarpet"
           }
          ],
          "scattergeo": [
           {
            "marker": {
             "colorbar": {
              "outlinewidth": 0,
              "ticks": ""
             }
            },
            "type": "scattergeo"
           }
          ],
          "scattergl": [
           {
            "marker": {
             "colorbar": {
              "outlinewidth": 0,
              "ticks": ""
             }
            },
            "type": "scattergl"
           }
          ],
          "scattermapbox": [
           {
            "marker": {
             "colorbar": {
              "outlinewidth": 0,
              "ticks": ""
             }
            },
            "type": "scattermapbox"
           }
          ],
          "scatterpolar": [
           {
            "marker": {
             "colorbar": {
              "outlinewidth": 0,
              "ticks": ""
             }
            },
            "type": "scatterpolar"
           }
          ],
          "scatterpolargl": [
           {
            "marker": {
             "colorbar": {
              "outlinewidth": 0,
              "ticks": ""
             }
            },
            "type": "scatterpolargl"
           }
          ],
          "scatterternary": [
           {
            "marker": {
             "colorbar": {
              "outlinewidth": 0,
              "ticks": ""
             }
            },
            "type": "scatterternary"
           }
          ],
          "surface": [
           {
            "colorbar": {
             "outlinewidth": 0,
             "ticks": ""
            },
            "colorscale": [
             [
              0,
              "#0d0887"
             ],
             [
              0.1111111111111111,
              "#46039f"
             ],
             [
              0.2222222222222222,
              "#7201a8"
             ],
             [
              0.3333333333333333,
              "#9c179e"
             ],
             [
              0.4444444444444444,
              "#bd3786"
             ],
             [
              0.5555555555555556,
              "#d8576b"
             ],
             [
              0.6666666666666666,
              "#ed7953"
             ],
             [
              0.7777777777777778,
              "#fb9f3a"
             ],
             [
              0.8888888888888888,
              "#fdca26"
             ],
             [
              1,
              "#f0f921"
             ]
            ],
            "type": "surface"
           }
          ],
          "table": [
           {
            "cells": {
             "fill": {
              "color": "#EBF0F8"
             },
             "line": {
              "color": "white"
             }
            },
            "header": {
             "fill": {
              "color": "#C8D4E3"
             },
             "line": {
              "color": "white"
             }
            },
            "type": "table"
           }
          ]
         },
         "layout": {
          "annotationdefaults": {
           "arrowcolor": "#2a3f5f",
           "arrowhead": 0,
           "arrowwidth": 1
          },
          "autotypenumbers": "strict",
          "coloraxis": {
           "colorbar": {
            "outlinewidth": 0,
            "ticks": ""
           }
          },
          "colorscale": {
           "diverging": [
            [
             0,
             "#8e0152"
            ],
            [
             0.1,
             "#c51b7d"
            ],
            [
             0.2,
             "#de77ae"
            ],
            [
             0.3,
             "#f1b6da"
            ],
            [
             0.4,
             "#fde0ef"
            ],
            [
             0.5,
             "#f7f7f7"
            ],
            [
             0.6,
             "#e6f5d0"
            ],
            [
             0.7,
             "#b8e186"
            ],
            [
             0.8,
             "#7fbc41"
            ],
            [
             0.9,
             "#4d9221"
            ],
            [
             1,
             "#276419"
            ]
           ],
           "sequential": [
            [
             0,
             "#0d0887"
            ],
            [
             0.1111111111111111,
             "#46039f"
            ],
            [
             0.2222222222222222,
             "#7201a8"
            ],
            [
             0.3333333333333333,
             "#9c179e"
            ],
            [
             0.4444444444444444,
             "#bd3786"
            ],
            [
             0.5555555555555556,
             "#d8576b"
            ],
            [
             0.6666666666666666,
             "#ed7953"
            ],
            [
             0.7777777777777778,
             "#fb9f3a"
            ],
            [
             0.8888888888888888,
             "#fdca26"
            ],
            [
             1,
             "#f0f921"
            ]
           ],
           "sequentialminus": [
            [
             0,
             "#0d0887"
            ],
            [
             0.1111111111111111,
             "#46039f"
            ],
            [
             0.2222222222222222,
             "#7201a8"
            ],
            [
             0.3333333333333333,
             "#9c179e"
            ],
            [
             0.4444444444444444,
             "#bd3786"
            ],
            [
             0.5555555555555556,
             "#d8576b"
            ],
            [
             0.6666666666666666,
             "#ed7953"
            ],
            [
             0.7777777777777778,
             "#fb9f3a"
            ],
            [
             0.8888888888888888,
             "#fdca26"
            ],
            [
             1,
             "#f0f921"
            ]
           ]
          },
          "colorway": [
           "#636efa",
           "#EF553B",
           "#00cc96",
           "#ab63fa",
           "#FFA15A",
           "#19d3f3",
           "#FF6692",
           "#B6E880",
           "#FF97FF",
           "#FECB52"
          ],
          "font": {
           "color": "#2a3f5f"
          },
          "geo": {
           "bgcolor": "white",
           "lakecolor": "white",
           "landcolor": "#E5ECF6",
           "showlakes": true,
           "showland": true,
           "subunitcolor": "white"
          },
          "hoverlabel": {
           "align": "left"
          },
          "hovermode": "closest",
          "mapbox": {
           "style": "light"
          },
          "paper_bgcolor": "white",
          "plot_bgcolor": "#E5ECF6",
          "polar": {
           "angularaxis": {
            "gridcolor": "white",
            "linecolor": "white",
            "ticks": ""
           },
           "bgcolor": "#E5ECF6",
           "radialaxis": {
            "gridcolor": "white",
            "linecolor": "white",
            "ticks": ""
           }
          },
          "scene": {
           "xaxis": {
            "backgroundcolor": "#E5ECF6",
            "gridcolor": "white",
            "gridwidth": 2,
            "linecolor": "white",
            "showbackground": true,
            "ticks": "",
            "zerolinecolor": "white"
           },
           "yaxis": {
            "backgroundcolor": "#E5ECF6",
            "gridcolor": "white",
            "gridwidth": 2,
            "linecolor": "white",
            "showbackground": true,
            "ticks": "",
            "zerolinecolor": "white"
           },
           "zaxis": {
            "backgroundcolor": "#E5ECF6",
            "gridcolor": "white",
            "gridwidth": 2,
            "linecolor": "white",
            "showbackground": true,
            "ticks": "",
            "zerolinecolor": "white"
           }
          },
          "shapedefaults": {
           "line": {
            "color": "#2a3f5f"
           }
          },
          "ternary": {
           "aaxis": {
            "gridcolor": "white",
            "linecolor": "white",
            "ticks": ""
           },
           "baxis": {
            "gridcolor": "white",
            "linecolor": "white",
            "ticks": ""
           },
           "bgcolor": "#E5ECF6",
           "caxis": {
            "gridcolor": "white",
            "linecolor": "white",
            "ticks": ""
           }
          },
          "title": {
           "x": 0.05
          },
          "xaxis": {
           "automargin": true,
           "gridcolor": "white",
           "linecolor": "white",
           "ticks": "",
           "title": {
            "standoff": 15
           },
           "zerolinecolor": "white",
           "zerolinewidth": 2
          },
          "yaxis": {
           "automargin": true,
           "gridcolor": "white",
           "linecolor": "white",
           "ticks": "",
           "title": {
            "standoff": 15
           },
           "zerolinecolor": "white",
           "zerolinewidth": 2
          }
         }
        },
        "title": {
         "text": "perplexity 8"
        },
        "xaxis": {
         "anchor": "y",
         "domain": [
          0,
          1
         ],
         "title": {
          "text": "x"
         }
        },
        "yaxis": {
         "anchor": "x",
         "domain": [
          0,
          1
         ],
         "title": {
          "text": "y"
         }
        }
       }
      }
     },
     "metadata": {},
     "output_type": "display_data"
    },
    {
     "name": "stderr",
     "output_type": "stream",
     "text": [
      "/home/amysiak/thesis/env/lib/python3.8/site-packages/sklearn/manifold/_t_sne.py:800: FutureWarning:\n",
      "\n",
      "The default initialization in TSNE will change from 'random' to 'pca' in 1.2.\n",
      "\n",
      "/home/amysiak/thesis/env/lib/python3.8/site-packages/sklearn/manifold/_t_sne.py:810: FutureWarning:\n",
      "\n",
      "The default learning rate in TSNE will change from 200.0 to 'auto' in 1.2.\n",
      "\n"
     ]
    },
    {
     "data": {
      "application/vnd.plotly.v1+json": {
       "config": {
        "plotlyServerURL": "https://plot.ly"
       },
       "data": [
        {
         "hovertemplate": "color=ar<br>x=%{x}<br>y=%{y}<extra></extra>",
         "legendgroup": "ar",
         "marker": {
          "color": "#FD3216",
          "symbol": "circle"
         },
         "mode": "markers",
         "name": "ar",
         "orientation": "v",
         "showlegend": true,
         "type": "scatter",
         "x": [
          -24.693191528320312
         ],
         "xaxis": "x",
         "y": [
          -20.14580535888672
         ],
         "yaxis": "y"
        },
        {
         "hovertemplate": "color=be<br>x=%{x}<br>y=%{y}<extra></extra>",
         "legendgroup": "be",
         "marker": {
          "color": "#00FE35",
          "symbol": "circle"
         },
         "mode": "markers",
         "name": "be",
         "orientation": "v",
         "showlegend": true,
         "type": "scatter",
         "x": [
          86.85919952392578
         ],
         "xaxis": "x",
         "y": [
          43.05809783935547
         ],
         "yaxis": "y"
        },
        {
         "hovertemplate": "color=bg<br>x=%{x}<br>y=%{y}<extra></extra>",
         "legendgroup": "bg",
         "marker": {
          "color": "#6A76FC",
          "symbol": "circle"
         },
         "mode": "markers",
         "name": "bg",
         "orientation": "v",
         "showlegend": true,
         "type": "scatter",
         "x": [
          42.077880859375
         ],
         "xaxis": "x",
         "y": [
          27.392169952392578
         ],
         "yaxis": "y"
        },
        {
         "hovertemplate": "color=cs<br>x=%{x}<br>y=%{y}<extra></extra>",
         "legendgroup": "cs",
         "marker": {
          "color": "#FED4C4",
          "symbol": "circle"
         },
         "mode": "markers",
         "name": "cs",
         "orientation": "v",
         "showlegend": true,
         "type": "scatter",
         "x": [
          93.7662582397461
         ],
         "xaxis": "x",
         "y": [
          70.65581512451172
         ],
         "yaxis": "y"
        },
        {
         "hovertemplate": "color=cy<br>x=%{x}<br>y=%{y}<extra></extra>",
         "legendgroup": "cy",
         "marker": {
          "color": "#FE00CE",
          "symbol": "circle"
         },
         "mode": "markers",
         "name": "cy",
         "orientation": "v",
         "showlegend": true,
         "type": "scatter",
         "x": [
          -5.028153896331787
         ],
         "xaxis": "x",
         "y": [
          -8.948670387268066
         ],
         "yaxis": "y"
        },
        {
         "hovertemplate": "color=de<br>x=%{x}<br>y=%{y}<extra></extra>",
         "legendgroup": "de",
         "marker": {
          "color": "#0DF9FF",
          "symbol": "circle"
         },
         "mode": "markers",
         "name": "de",
         "orientation": "v",
         "showlegend": true,
         "type": "scatter",
         "x": [
          -29.403573989868164
         ],
         "xaxis": "x",
         "y": [
          -79.73320770263672
         ],
         "yaxis": "y"
        },
        {
         "hovertemplate": "color=en<br>x=%{x}<br>y=%{y}<extra></extra>",
         "legendgroup": "en",
         "marker": {
          "color": "#F6F926",
          "symbol": "circle"
         },
         "mode": "markers",
         "name": "en",
         "orientation": "v",
         "showlegend": true,
         "type": "scatter",
         "x": [
          17.04916000366211
         ],
         "xaxis": "x",
         "y": [
          -101.92265319824219
         ],
         "yaxis": "y"
        },
        {
         "hovertemplate": "color=es<br>x=%{x}<br>y=%{y}<extra></extra>",
         "legendgroup": "es",
         "marker": {
          "color": "#FF9616",
          "symbol": "circle"
         },
         "mode": "markers",
         "name": "es",
         "orientation": "v",
         "showlegend": true,
         "type": "scatter",
         "x": [
          19.362037658691406
         ],
         "xaxis": "x",
         "y": [
          -70.78852081298828
         ],
         "yaxis": "y"
        },
        {
         "hovertemplate": "color=fa<br>x=%{x}<br>y=%{y}<extra></extra>",
         "legendgroup": "fa",
         "marker": {
          "color": "#479B55",
          "symbol": "circle"
         },
         "mode": "markers",
         "name": "fa",
         "orientation": "v",
         "showlegend": true,
         "type": "scatter",
         "x": [
          -49.173309326171875
         ],
         "xaxis": "x",
         "y": [
          0.47200220823287964
         ],
         "yaxis": "y"
        },
        {
         "hovertemplate": "color=fi<br>x=%{x}<br>y=%{y}<extra></extra>",
         "legendgroup": "fi",
         "marker": {
          "color": "#EEA6FB",
          "symbol": "circle"
         },
         "mode": "markers",
         "name": "fi",
         "orientation": "v",
         "showlegend": true,
         "type": "scatter",
         "x": [
          -9.072735786437988
         ],
         "xaxis": "x",
         "y": [
          115.9935073852539
         ],
         "yaxis": "y"
        },
        {
         "hovertemplate": "color=fr<br>x=%{x}<br>y=%{y}<extra></extra>",
         "legendgroup": "fr",
         "marker": {
          "color": "#DC587D",
          "symbol": "circle"
         },
         "mode": "markers",
         "name": "fr",
         "orientation": "v",
         "showlegend": true,
         "type": "scatter",
         "x": [
          40.83632278442383
         ],
         "xaxis": "x",
         "y": [
          -69.70945739746094
         ],
         "yaxis": "y"
        },
        {
         "hovertemplate": "color=ga<br>x=%{x}<br>y=%{y}<extra></extra>",
         "legendgroup": "ga",
         "marker": {
          "color": "#D626FF",
          "symbol": "circle"
         },
         "mode": "markers",
         "name": "ga",
         "orientation": "v",
         "showlegend": true,
         "type": "scatter",
         "x": [
          7.71614933013916
         ],
         "xaxis": "x",
         "y": [
          -27.941349029541016
         ],
         "yaxis": "y"
        },
        {
         "hovertemplate": "color=hr<br>x=%{x}<br>y=%{y}<extra></extra>",
         "legendgroup": "hr",
         "marker": {
          "color": "#6E899C",
          "symbol": "circle"
         },
         "mode": "markers",
         "name": "hr",
         "orientation": "v",
         "showlegend": true,
         "type": "scatter",
         "x": [
          58.824214935302734
         ],
         "xaxis": "x",
         "y": [
          47.67290115356445
         ],
         "yaxis": "y"
        },
        {
         "hovertemplate": "color=hy<br>x=%{x}<br>y=%{y}<extra></extra>",
         "legendgroup": "hy",
         "marker": {
          "color": "#00B5F7",
          "symbol": "circle"
         },
         "mode": "markers",
         "name": "hy",
         "orientation": "v",
         "showlegend": true,
         "type": "scatter",
         "x": [
          -45.21894073486328
         ],
         "xaxis": "x",
         "y": [
          95.7743911743164
         ],
         "yaxis": "y"
        },
        {
         "hovertemplate": "color=id<br>x=%{x}<br>y=%{y}<extra></extra>",
         "legendgroup": "id",
         "marker": {
          "color": "#B68E00",
          "symbol": "circle"
         },
         "mode": "markers",
         "name": "id",
         "orientation": "v",
         "showlegend": true,
         "type": "scatter",
         "x": [
          -11.662359237670898
         ],
         "xaxis": "x",
         "y": [
          -40.022823333740234
         ],
         "yaxis": "y"
        },
        {
         "hovertemplate": "color=ja<br>x=%{x}<br>y=%{y}<extra></extra>",
         "legendgroup": "ja",
         "marker": {
          "color": "#C9FBE5",
          "symbol": "circle"
         },
         "mode": "markers",
         "name": "ja",
         "orientation": "v",
         "showlegend": true,
         "type": "scatter",
         "x": [
          -81.13418579101562
         ],
         "xaxis": "x",
         "y": [
          60.22822570800781
         ],
         "yaxis": "y"
        },
        {
         "hovertemplate": "color=ko<br>x=%{x}<br>y=%{y}<extra></extra>",
         "legendgroup": "ko",
         "marker": {
          "color": "#FF0092",
          "symbol": "circle"
         },
         "mode": "markers",
         "name": "ko",
         "orientation": "v",
         "showlegend": true,
         "type": "scatter",
         "x": [
          -85.00199127197266
         ],
         "xaxis": "x",
         "y": [
          89.34478759765625
         ],
         "yaxis": "y"
        },
        {
         "hovertemplate": "color=lt<br>x=%{x}<br>y=%{y}<extra></extra>",
         "legendgroup": "lt",
         "marker": {
          "color": "#22FFA7",
          "symbol": "circle"
         },
         "mode": "markers",
         "name": "lt",
         "orientation": "v",
         "showlegend": true,
         "type": "scatter",
         "x": [
          -21.271564483642578
         ],
         "xaxis": "x",
         "y": [
          94.88092041015625
         ],
         "yaxis": "y"
        },
        {
         "hovertemplate": "color=lv<br>x=%{x}<br>y=%{y}<extra></extra>",
         "legendgroup": "lv",
         "marker": {
          "color": "#E3EE9E",
          "symbol": "circle"
         },
         "mode": "markers",
         "name": "lv",
         "orientation": "v",
         "showlegend": true,
         "type": "scatter",
         "x": [
          -33.10145950317383
         ],
         "xaxis": "x",
         "y": [
          119.23811340332031
         ],
         "yaxis": "y"
        },
        {
         "hovertemplate": "color=nl<br>x=%{x}<br>y=%{y}<extra></extra>",
         "legendgroup": "nl",
         "marker": {
          "color": "#86CE00",
          "symbol": "circle"
         },
         "mode": "markers",
         "name": "nl",
         "orientation": "v",
         "showlegend": true,
         "type": "scatter",
         "x": [
          -12.137167930603027
         ],
         "xaxis": "x",
         "y": [
          -89.67732238769531
         ],
         "yaxis": "y"
        },
        {
         "hovertemplate": "color=pl<br>x=%{x}<br>y=%{y}<extra></extra>",
         "legendgroup": "pl",
         "marker": {
          "color": "#BC7196",
          "symbol": "circle"
         },
         "mode": "markers",
         "name": "pl",
         "orientation": "v",
         "showlegend": true,
         "type": "scatter",
         "x": [
          69.77700805664062
         ],
         "xaxis": "x",
         "y": [
          22.620128631591797
         ],
         "yaxis": "y"
        },
        {
         "hovertemplate": "color=ru<br>x=%{x}<br>y=%{y}<extra></extra>",
         "legendgroup": "ru",
         "marker": {
          "color": "#7E7DCD",
          "symbol": "circle"
         },
         "mode": "markers",
         "name": "ru",
         "orientation": "v",
         "showlegend": true,
         "type": "scatter",
         "x": [
          32.892433166503906
         ],
         "xaxis": "x",
         "y": [
          53.10747528076172
         ],
         "yaxis": "y"
        },
        {
         "hovertemplate": "color=slk<br>x=%{x}<br>y=%{y}<extra></extra>",
         "legendgroup": "slk",
         "marker": {
          "color": "#FC6955",
          "symbol": "circle"
         },
         "mode": "markers",
         "name": "slk",
         "orientation": "v",
         "showlegend": true,
         "type": "scatter",
         "x": [
          69.26288604736328
         ],
         "xaxis": "x",
         "y": [
          68.0388412475586
         ],
         "yaxis": "y"
        },
        {
         "hovertemplate": "color=slv<br>x=%{x}<br>y=%{y}<extra></extra>",
         "legendgroup": "slv",
         "marker": {
          "color": "#E48F72",
          "symbol": "circle"
         },
         "mode": "markers",
         "name": "slv",
         "orientation": "v",
         "showlegend": true,
         "type": "scatter",
         "x": [
          70.39645385742188
         ],
         "xaxis": "x",
         "y": [
          93.39962005615234
         ],
         "yaxis": "y"
        },
        {
         "hovertemplate": "color=tr<br>x=%{x}<br>y=%{y}<extra></extra>",
         "legendgroup": "tr",
         "marker": {
          "color": "#FD3216",
          "symbol": "circle"
         },
         "mode": "markers",
         "name": "tr",
         "orientation": "v",
         "showlegend": true,
         "type": "scatter",
         "x": [
          -104.87545013427734
         ],
         "xaxis": "x",
         "y": [
          73.1197738647461
         ],
         "yaxis": "y"
        },
        {
         "hovertemplate": "color=uk<br>x=%{x}<br>y=%{y}<extra></extra>",
         "legendgroup": "uk",
         "marker": {
          "color": "#00FE35",
          "symbol": "circle"
         },
         "mode": "markers",
         "name": "uk",
         "orientation": "v",
         "showlegend": true,
         "type": "scatter",
         "x": [
          44.964935302734375
         ],
         "xaxis": "x",
         "y": [
          75.53398132324219
         ],
         "yaxis": "y"
        },
        {
         "hovertemplate": "color=zh<br>x=%{x}<br>y=%{y}<extra></extra>",
         "legendgroup": "zh",
         "marker": {
          "color": "#6A76FC",
          "symbol": "circle"
         },
         "mode": "markers",
         "name": "zh",
         "orientation": "v",
         "showlegend": true,
         "type": "scatter",
         "x": [
          -59.6616325378418
         ],
         "xaxis": "x",
         "y": [
          75.51879119873047
         ],
         "yaxis": "y"
        }
       ],
       "layout": {
        "legend": {
         "title": {
          "text": "color"
         },
         "tracegroupgap": 0
        },
        "template": {
         "data": {
          "bar": [
           {
            "error_x": {
             "color": "#2a3f5f"
            },
            "error_y": {
             "color": "#2a3f5f"
            },
            "marker": {
             "line": {
              "color": "#E5ECF6",
              "width": 0.5
             },
             "pattern": {
              "fillmode": "overlay",
              "size": 10,
              "solidity": 0.2
             }
            },
            "type": "bar"
           }
          ],
          "barpolar": [
           {
            "marker": {
             "line": {
              "color": "#E5ECF6",
              "width": 0.5
             },
             "pattern": {
              "fillmode": "overlay",
              "size": 10,
              "solidity": 0.2
             }
            },
            "type": "barpolar"
           }
          ],
          "carpet": [
           {
            "aaxis": {
             "endlinecolor": "#2a3f5f",
             "gridcolor": "white",
             "linecolor": "white",
             "minorgridcolor": "white",
             "startlinecolor": "#2a3f5f"
            },
            "baxis": {
             "endlinecolor": "#2a3f5f",
             "gridcolor": "white",
             "linecolor": "white",
             "minorgridcolor": "white",
             "startlinecolor": "#2a3f5f"
            },
            "type": "carpet"
           }
          ],
          "choropleth": [
           {
            "colorbar": {
             "outlinewidth": 0,
             "ticks": ""
            },
            "type": "choropleth"
           }
          ],
          "contour": [
           {
            "colorbar": {
             "outlinewidth": 0,
             "ticks": ""
            },
            "colorscale": [
             [
              0,
              "#0d0887"
             ],
             [
              0.1111111111111111,
              "#46039f"
             ],
             [
              0.2222222222222222,
              "#7201a8"
             ],
             [
              0.3333333333333333,
              "#9c179e"
             ],
             [
              0.4444444444444444,
              "#bd3786"
             ],
             [
              0.5555555555555556,
              "#d8576b"
             ],
             [
              0.6666666666666666,
              "#ed7953"
             ],
             [
              0.7777777777777778,
              "#fb9f3a"
             ],
             [
              0.8888888888888888,
              "#fdca26"
             ],
             [
              1,
              "#f0f921"
             ]
            ],
            "type": "contour"
           }
          ],
          "contourcarpet": [
           {
            "colorbar": {
             "outlinewidth": 0,
             "ticks": ""
            },
            "type": "contourcarpet"
           }
          ],
          "heatmap": [
           {
            "colorbar": {
             "outlinewidth": 0,
             "ticks": ""
            },
            "colorscale": [
             [
              0,
              "#0d0887"
             ],
             [
              0.1111111111111111,
              "#46039f"
             ],
             [
              0.2222222222222222,
              "#7201a8"
             ],
             [
              0.3333333333333333,
              "#9c179e"
             ],
             [
              0.4444444444444444,
              "#bd3786"
             ],
             [
              0.5555555555555556,
              "#d8576b"
             ],
             [
              0.6666666666666666,
              "#ed7953"
             ],
             [
              0.7777777777777778,
              "#fb9f3a"
             ],
             [
              0.8888888888888888,
              "#fdca26"
             ],
             [
              1,
              "#f0f921"
             ]
            ],
            "type": "heatmap"
           }
          ],
          "heatmapgl": [
           {
            "colorbar": {
             "outlinewidth": 0,
             "ticks": ""
            },
            "colorscale": [
             [
              0,
              "#0d0887"
             ],
             [
              0.1111111111111111,
              "#46039f"
             ],
             [
              0.2222222222222222,
              "#7201a8"
             ],
             [
              0.3333333333333333,
              "#9c179e"
             ],
             [
              0.4444444444444444,
              "#bd3786"
             ],
             [
              0.5555555555555556,
              "#d8576b"
             ],
             [
              0.6666666666666666,
              "#ed7953"
             ],
             [
              0.7777777777777778,
              "#fb9f3a"
             ],
             [
              0.8888888888888888,
              "#fdca26"
             ],
             [
              1,
              "#f0f921"
             ]
            ],
            "type": "heatmapgl"
           }
          ],
          "histogram": [
           {
            "marker": {
             "pattern": {
              "fillmode": "overlay",
              "size": 10,
              "solidity": 0.2
             }
            },
            "type": "histogram"
           }
          ],
          "histogram2d": [
           {
            "colorbar": {
             "outlinewidth": 0,
             "ticks": ""
            },
            "colorscale": [
             [
              0,
              "#0d0887"
             ],
             [
              0.1111111111111111,
              "#46039f"
             ],
             [
              0.2222222222222222,
              "#7201a8"
             ],
             [
              0.3333333333333333,
              "#9c179e"
             ],
             [
              0.4444444444444444,
              "#bd3786"
             ],
             [
              0.5555555555555556,
              "#d8576b"
             ],
             [
              0.6666666666666666,
              "#ed7953"
             ],
             [
              0.7777777777777778,
              "#fb9f3a"
             ],
             [
              0.8888888888888888,
              "#fdca26"
             ],
             [
              1,
              "#f0f921"
             ]
            ],
            "type": "histogram2d"
           }
          ],
          "histogram2dcontour": [
           {
            "colorbar": {
             "outlinewidth": 0,
             "ticks": ""
            },
            "colorscale": [
             [
              0,
              "#0d0887"
             ],
             [
              0.1111111111111111,
              "#46039f"
             ],
             [
              0.2222222222222222,
              "#7201a8"
             ],
             [
              0.3333333333333333,
              "#9c179e"
             ],
             [
              0.4444444444444444,
              "#bd3786"
             ],
             [
              0.5555555555555556,
              "#d8576b"
             ],
             [
              0.6666666666666666,
              "#ed7953"
             ],
             [
              0.7777777777777778,
              "#fb9f3a"
             ],
             [
              0.8888888888888888,
              "#fdca26"
             ],
             [
              1,
              "#f0f921"
             ]
            ],
            "type": "histogram2dcontour"
           }
          ],
          "mesh3d": [
           {
            "colorbar": {
             "outlinewidth": 0,
             "ticks": ""
            },
            "type": "mesh3d"
           }
          ],
          "parcoords": [
           {
            "line": {
             "colorbar": {
              "outlinewidth": 0,
              "ticks": ""
             }
            },
            "type": "parcoords"
           }
          ],
          "pie": [
           {
            "automargin": true,
            "type": "pie"
           }
          ],
          "scatter": [
           {
            "fillpattern": {
             "fillmode": "overlay",
             "size": 10,
             "solidity": 0.2
            },
            "type": "scatter"
           }
          ],
          "scatter3d": [
           {
            "line": {
             "colorbar": {
              "outlinewidth": 0,
              "ticks": ""
             }
            },
            "marker": {
             "colorbar": {
              "outlinewidth": 0,
              "ticks": ""
             }
            },
            "type": "scatter3d"
           }
          ],
          "scattercarpet": [
           {
            "marker": {
             "colorbar": {
              "outlinewidth": 0,
              "ticks": ""
             }
            },
            "type": "scattercarpet"
           }
          ],
          "scattergeo": [
           {
            "marker": {
             "colorbar": {
              "outlinewidth": 0,
              "ticks": ""
             }
            },
            "type": "scattergeo"
           }
          ],
          "scattergl": [
           {
            "marker": {
             "colorbar": {
              "outlinewidth": 0,
              "ticks": ""
             }
            },
            "type": "scattergl"
           }
          ],
          "scattermapbox": [
           {
            "marker": {
             "colorbar": {
              "outlinewidth": 0,
              "ticks": ""
             }
            },
            "type": "scattermapbox"
           }
          ],
          "scatterpolar": [
           {
            "marker": {
             "colorbar": {
              "outlinewidth": 0,
              "ticks": ""
             }
            },
            "type": "scatterpolar"
           }
          ],
          "scatterpolargl": [
           {
            "marker": {
             "colorbar": {
              "outlinewidth": 0,
              "ticks": ""
             }
            },
            "type": "scatterpolargl"
           }
          ],
          "scatterternary": [
           {
            "marker": {
             "colorbar": {
              "outlinewidth": 0,
              "ticks": ""
             }
            },
            "type": "scatterternary"
           }
          ],
          "surface": [
           {
            "colorbar": {
             "outlinewidth": 0,
             "ticks": ""
            },
            "colorscale": [
             [
              0,
              "#0d0887"
             ],
             [
              0.1111111111111111,
              "#46039f"
             ],
             [
              0.2222222222222222,
              "#7201a8"
             ],
             [
              0.3333333333333333,
              "#9c179e"
             ],
             [
              0.4444444444444444,
              "#bd3786"
             ],
             [
              0.5555555555555556,
              "#d8576b"
             ],
             [
              0.6666666666666666,
              "#ed7953"
             ],
             [
              0.7777777777777778,
              "#fb9f3a"
             ],
             [
              0.8888888888888888,
              "#fdca26"
             ],
             [
              1,
              "#f0f921"
             ]
            ],
            "type": "surface"
           }
          ],
          "table": [
           {
            "cells": {
             "fill": {
              "color": "#EBF0F8"
             },
             "line": {
              "color": "white"
             }
            },
            "header": {
             "fill": {
              "color": "#C8D4E3"
             },
             "line": {
              "color": "white"
             }
            },
            "type": "table"
           }
          ]
         },
         "layout": {
          "annotationdefaults": {
           "arrowcolor": "#2a3f5f",
           "arrowhead": 0,
           "arrowwidth": 1
          },
          "autotypenumbers": "strict",
          "coloraxis": {
           "colorbar": {
            "outlinewidth": 0,
            "ticks": ""
           }
          },
          "colorscale": {
           "diverging": [
            [
             0,
             "#8e0152"
            ],
            [
             0.1,
             "#c51b7d"
            ],
            [
             0.2,
             "#de77ae"
            ],
            [
             0.3,
             "#f1b6da"
            ],
            [
             0.4,
             "#fde0ef"
            ],
            [
             0.5,
             "#f7f7f7"
            ],
            [
             0.6,
             "#e6f5d0"
            ],
            [
             0.7,
             "#b8e186"
            ],
            [
             0.8,
             "#7fbc41"
            ],
            [
             0.9,
             "#4d9221"
            ],
            [
             1,
             "#276419"
            ]
           ],
           "sequential": [
            [
             0,
             "#0d0887"
            ],
            [
             0.1111111111111111,
             "#46039f"
            ],
            [
             0.2222222222222222,
             "#7201a8"
            ],
            [
             0.3333333333333333,
             "#9c179e"
            ],
            [
             0.4444444444444444,
             "#bd3786"
            ],
            [
             0.5555555555555556,
             "#d8576b"
            ],
            [
             0.6666666666666666,
             "#ed7953"
            ],
            [
             0.7777777777777778,
             "#fb9f3a"
            ],
            [
             0.8888888888888888,
             "#fdca26"
            ],
            [
             1,
             "#f0f921"
            ]
           ],
           "sequentialminus": [
            [
             0,
             "#0d0887"
            ],
            [
             0.1111111111111111,
             "#46039f"
            ],
            [
             0.2222222222222222,
             "#7201a8"
            ],
            [
             0.3333333333333333,
             "#9c179e"
            ],
            [
             0.4444444444444444,
             "#bd3786"
            ],
            [
             0.5555555555555556,
             "#d8576b"
            ],
            [
             0.6666666666666666,
             "#ed7953"
            ],
            [
             0.7777777777777778,
             "#fb9f3a"
            ],
            [
             0.8888888888888888,
             "#fdca26"
            ],
            [
             1,
             "#f0f921"
            ]
           ]
          },
          "colorway": [
           "#636efa",
           "#EF553B",
           "#00cc96",
           "#ab63fa",
           "#FFA15A",
           "#19d3f3",
           "#FF6692",
           "#B6E880",
           "#FF97FF",
           "#FECB52"
          ],
          "font": {
           "color": "#2a3f5f"
          },
          "geo": {
           "bgcolor": "white",
           "lakecolor": "white",
           "landcolor": "#E5ECF6",
           "showlakes": true,
           "showland": true,
           "subunitcolor": "white"
          },
          "hoverlabel": {
           "align": "left"
          },
          "hovermode": "closest",
          "mapbox": {
           "style": "light"
          },
          "paper_bgcolor": "white",
          "plot_bgcolor": "#E5ECF6",
          "polar": {
           "angularaxis": {
            "gridcolor": "white",
            "linecolor": "white",
            "ticks": ""
           },
           "bgcolor": "#E5ECF6",
           "radialaxis": {
            "gridcolor": "white",
            "linecolor": "white",
            "ticks": ""
           }
          },
          "scene": {
           "xaxis": {
            "backgroundcolor": "#E5ECF6",
            "gridcolor": "white",
            "gridwidth": 2,
            "linecolor": "white",
            "showbackground": true,
            "ticks": "",
            "zerolinecolor": "white"
           },
           "yaxis": {
            "backgroundcolor": "#E5ECF6",
            "gridcolor": "white",
            "gridwidth": 2,
            "linecolor": "white",
            "showbackground": true,
            "ticks": "",
            "zerolinecolor": "white"
           },
           "zaxis": {
            "backgroundcolor": "#E5ECF6",
            "gridcolor": "white",
            "gridwidth": 2,
            "linecolor": "white",
            "showbackground": true,
            "ticks": "",
            "zerolinecolor": "white"
           }
          },
          "shapedefaults": {
           "line": {
            "color": "#2a3f5f"
           }
          },
          "ternary": {
           "aaxis": {
            "gridcolor": "white",
            "linecolor": "white",
            "ticks": ""
           },
           "baxis": {
            "gridcolor": "white",
            "linecolor": "white",
            "ticks": ""
           },
           "bgcolor": "#E5ECF6",
           "caxis": {
            "gridcolor": "white",
            "linecolor": "white",
            "ticks": ""
           }
          },
          "title": {
           "x": 0.05
          },
          "xaxis": {
           "automargin": true,
           "gridcolor": "white",
           "linecolor": "white",
           "ticks": "",
           "title": {
            "standoff": 15
           },
           "zerolinecolor": "white",
           "zerolinewidth": 2
          },
          "yaxis": {
           "automargin": true,
           "gridcolor": "white",
           "linecolor": "white",
           "ticks": "",
           "title": {
            "standoff": 15
           },
           "zerolinecolor": "white",
           "zerolinewidth": 2
          }
         }
        },
        "title": {
         "text": "perplexity 9"
        },
        "xaxis": {
         "anchor": "y",
         "domain": [
          0,
          1
         ],
         "title": {
          "text": "x"
         }
        },
        "yaxis": {
         "anchor": "x",
         "domain": [
          0,
          1
         ],
         "title": {
          "text": "y"
         }
        }
       }
      }
     },
     "metadata": {},
     "output_type": "display_data"
    },
    {
     "name": "stderr",
     "output_type": "stream",
     "text": [
      "/home/amysiak/thesis/env/lib/python3.8/site-packages/sklearn/manifold/_t_sne.py:800: FutureWarning:\n",
      "\n",
      "The default initialization in TSNE will change from 'random' to 'pca' in 1.2.\n",
      "\n",
      "/home/amysiak/thesis/env/lib/python3.8/site-packages/sklearn/manifold/_t_sne.py:810: FutureWarning:\n",
      "\n",
      "The default learning rate in TSNE will change from 200.0 to 'auto' in 1.2.\n",
      "\n"
     ]
    },
    {
     "data": {
      "application/vnd.plotly.v1+json": {
       "config": {
        "plotlyServerURL": "https://plot.ly"
       },
       "data": [
        {
         "hovertemplate": "color=ar<br>x=%{x}<br>y=%{y}<extra></extra>",
         "legendgroup": "ar",
         "marker": {
          "color": "#FD3216",
          "symbol": "circle"
         },
         "mode": "markers",
         "name": "ar",
         "orientation": "v",
         "showlegend": true,
         "type": "scatter",
         "x": [
          55.417015075683594
         ],
         "xaxis": "x",
         "y": [
          -4.11553955078125
         ],
         "yaxis": "y"
        },
        {
         "hovertemplate": "color=be<br>x=%{x}<br>y=%{y}<extra></extra>",
         "legendgroup": "be",
         "marker": {
          "color": "#00FE35",
          "symbol": "circle"
         },
         "mode": "markers",
         "name": "be",
         "orientation": "v",
         "showlegend": true,
         "type": "scatter",
         "x": [
          -95.24287414550781
         ],
         "xaxis": "x",
         "y": [
          20.211326599121094
         ],
         "yaxis": "y"
        },
        {
         "hovertemplate": "color=bg<br>x=%{x}<br>y=%{y}<extra></extra>",
         "legendgroup": "bg",
         "marker": {
          "color": "#6A76FC",
          "symbol": "circle"
         },
         "mode": "markers",
         "name": "bg",
         "orientation": "v",
         "showlegend": true,
         "type": "scatter",
         "x": [
          -22.65342140197754
         ],
         "xaxis": "x",
         "y": [
          95.62628173828125
         ],
         "yaxis": "y"
        },
        {
         "hovertemplate": "color=cs<br>x=%{x}<br>y=%{y}<extra></extra>",
         "legendgroup": "cs",
         "marker": {
          "color": "#FED4C4",
          "symbol": "circle"
         },
         "mode": "markers",
         "name": "cs",
         "orientation": "v",
         "showlegend": true,
         "type": "scatter",
         "x": [
          -58.16169738769531
         ],
         "xaxis": "x",
         "y": [
          134.7543487548828
         ],
         "yaxis": "y"
        },
        {
         "hovertemplate": "color=cy<br>x=%{x}<br>y=%{y}<extra></extra>",
         "legendgroup": "cy",
         "marker": {
          "color": "#FE00CE",
          "symbol": "circle"
         },
         "mode": "markers",
         "name": "cy",
         "orientation": "v",
         "showlegend": true,
         "type": "scatter",
         "x": [
          89.70268249511719
         ],
         "xaxis": "x",
         "y": [
          -28.874225616455078
         ],
         "yaxis": "y"
        },
        {
         "hovertemplate": "color=de<br>x=%{x}<br>y=%{y}<extra></extra>",
         "legendgroup": "de",
         "marker": {
          "color": "#0DF9FF",
          "symbol": "circle"
         },
         "mode": "markers",
         "name": "de",
         "orientation": "v",
         "showlegend": true,
         "type": "scatter",
         "x": [
          185.94813537597656
         ],
         "xaxis": "x",
         "y": [
          -8.889251708984375
         ],
         "yaxis": "y"
        },
        {
         "hovertemplate": "color=en<br>x=%{x}<br>y=%{y}<extra></extra>",
         "legendgroup": "en",
         "marker": {
          "color": "#F6F926",
          "symbol": "circle"
         },
         "mode": "markers",
         "name": "en",
         "orientation": "v",
         "showlegend": true,
         "type": "scatter",
         "x": [
          206.4673614501953
         ],
         "xaxis": "x",
         "y": [
          85.10203552246094
         ],
         "yaxis": "y"
        },
        {
         "hovertemplate": "color=es<br>x=%{x}<br>y=%{y}<extra></extra>",
         "legendgroup": "es",
         "marker": {
          "color": "#FF9616",
          "symbol": "circle"
         },
         "mode": "markers",
         "name": "es",
         "orientation": "v",
         "showlegend": true,
         "type": "scatter",
         "x": [
          150.36045837402344
         ],
         "xaxis": "x",
         "y": [
          77.56640625
         ],
         "yaxis": "y"
        },
        {
         "hovertemplate": "color=fa<br>x=%{x}<br>y=%{y}<extra></extra>",
         "legendgroup": "fa",
         "marker": {
          "color": "#479B55",
          "symbol": "circle"
         },
         "mode": "markers",
         "name": "fa",
         "orientation": "v",
         "showlegend": true,
         "type": "scatter",
         "x": [
          63.27031326293945
         ],
         "xaxis": "x",
         "y": [
          -85.82488250732422
         ],
         "yaxis": "y"
        },
        {
         "hovertemplate": "color=fi<br>x=%{x}<br>y=%{y}<extra></extra>",
         "legendgroup": "fi",
         "marker": {
          "color": "#EEA6FB",
          "symbol": "circle"
         },
         "mode": "markers",
         "name": "fi",
         "orientation": "v",
         "showlegend": true,
         "type": "scatter",
         "x": [
          -82.30339813232422
         ],
         "xaxis": "x",
         "y": [
          -92.05219268798828
         ],
         "yaxis": "y"
        },
        {
         "hovertemplate": "color=fr<br>x=%{x}<br>y=%{y}<extra></extra>",
         "legendgroup": "fr",
         "marker": {
          "color": "#DC587D",
          "symbol": "circle"
         },
         "mode": "markers",
         "name": "fr",
         "orientation": "v",
         "showlegend": true,
         "type": "scatter",
         "x": [
          139.0609588623047
         ],
         "xaxis": "x",
         "y": [
          116.68549346923828
         ],
         "yaxis": "y"
        },
        {
         "hovertemplate": "color=ga<br>x=%{x}<br>y=%{y}<extra></extra>",
         "legendgroup": "ga",
         "marker": {
          "color": "#D626FF",
          "symbol": "circle"
         },
         "mode": "markers",
         "name": "ga",
         "orientation": "v",
         "showlegend": true,
         "type": "scatter",
         "x": [
          114.87968444824219
         ],
         "xaxis": "x",
         "y": [
          3.985705852508545
         ],
         "yaxis": "y"
        },
        {
         "hovertemplate": "color=hr<br>x=%{x}<br>y=%{y}<extra></extra>",
         "legendgroup": "hr",
         "marker": {
          "color": "#6E899C",
          "symbol": "circle"
         },
         "mode": "markers",
         "name": "hr",
         "orientation": "v",
         "showlegend": true,
         "type": "scatter",
         "x": [
          -114.21946716308594
         ],
         "xaxis": "x",
         "y": [
          62.43704605102539
         ],
         "yaxis": "y"
        },
        {
         "hovertemplate": "color=hy<br>x=%{x}<br>y=%{y}<extra></extra>",
         "legendgroup": "hy",
         "marker": {
          "color": "#00B5F7",
          "symbol": "circle"
         },
         "mode": "markers",
         "name": "hy",
         "orientation": "v",
         "showlegend": true,
         "type": "scatter",
         "x": [
          -109.77972412109375
         ],
         "xaxis": "x",
         "y": [
          -128.06971740722656
         ],
         "yaxis": "y"
        },
        {
         "hovertemplate": "color=id<br>x=%{x}<br>y=%{y}<extra></extra>",
         "legendgroup": "id",
         "marker": {
          "color": "#B68E00",
          "symbol": "circle"
         },
         "mode": "markers",
         "name": "id",
         "orientation": "v",
         "showlegend": true,
         "type": "scatter",
         "x": [
          84.2926254272461
         ],
         "xaxis": "x",
         "y": [
          32.410152435302734
         ],
         "yaxis": "y"
        },
        {
         "hovertemplate": "color=ja<br>x=%{x}<br>y=%{y}<extra></extra>",
         "legendgroup": "ja",
         "marker": {
          "color": "#C9FBE5",
          "symbol": "circle"
         },
         "mode": "markers",
         "name": "ja",
         "orientation": "v",
         "showlegend": true,
         "type": "scatter",
         "x": [
          -91.90558624267578
         ],
         "xaxis": "x",
         "y": [
          -227.31991577148438
         ],
         "yaxis": "y"
        },
        {
         "hovertemplate": "color=ko<br>x=%{x}<br>y=%{y}<extra></extra>",
         "legendgroup": "ko",
         "marker": {
          "color": "#FF0092",
          "symbol": "circle"
         },
         "mode": "markers",
         "name": "ko",
         "orientation": "v",
         "showlegend": true,
         "type": "scatter",
         "x": [
          -53.55044174194336
         ],
         "xaxis": "x",
         "y": [
          -204.73849487304688
         ],
         "yaxis": "y"
        },
        {
         "hovertemplate": "color=lt<br>x=%{x}<br>y=%{y}<extra></extra>",
         "legendgroup": "lt",
         "marker": {
          "color": "#22FFA7",
          "symbol": "circle"
         },
         "mode": "markers",
         "name": "lt",
         "orientation": "v",
         "showlegend": true,
         "type": "scatter",
         "x": [
          -136.65724182128906
         ],
         "xaxis": "x",
         "y": [
          -91.47032165527344
         ],
         "yaxis": "y"
        },
        {
         "hovertemplate": "color=lv<br>x=%{x}<br>y=%{y}<extra></extra>",
         "legendgroup": "lv",
         "marker": {
          "color": "#E3EE9E",
          "symbol": "circle"
         },
         "mode": "markers",
         "name": "lv",
         "orientation": "v",
         "showlegend": true,
         "type": "scatter",
         "x": [
          -117.17034912109375
         ],
         "xaxis": "x",
         "y": [
          -55.2930793762207
         ],
         "yaxis": "y"
        },
        {
         "hovertemplate": "color=nl<br>x=%{x}<br>y=%{y}<extra></extra>",
         "legendgroup": "nl",
         "marker": {
          "color": "#86CE00",
          "symbol": "circle"
         },
         "mode": "markers",
         "name": "nl",
         "orientation": "v",
         "showlegend": true,
         "type": "scatter",
         "x": [
          196.14620971679688
         ],
         "xaxis": "x",
         "y": [
          27.375131607055664
         ],
         "yaxis": "y"
        },
        {
         "hovertemplate": "color=pl<br>x=%{x}<br>y=%{y}<extra></extra>",
         "legendgroup": "pl",
         "marker": {
          "color": "#BC7196",
          "symbol": "circle"
         },
         "mode": "markers",
         "name": "pl",
         "orientation": "v",
         "showlegend": true,
         "type": "scatter",
         "x": [
          -11.481841087341309
         ],
         "xaxis": "x",
         "y": [
          50.23602294921875
         ],
         "yaxis": "y"
        },
        {
         "hovertemplate": "color=ru<br>x=%{x}<br>y=%{y}<extra></extra>",
         "legendgroup": "ru",
         "marker": {
          "color": "#7E7DCD",
          "symbol": "circle"
         },
         "mode": "markers",
         "name": "ru",
         "orientation": "v",
         "showlegend": true,
         "type": "scatter",
         "x": [
          -46.58983612060547
         ],
         "xaxis": "x",
         "y": [
          13.549859046936035
         ],
         "yaxis": "y"
        },
        {
         "hovertemplate": "color=slk<br>x=%{x}<br>y=%{y}<extra></extra>",
         "legendgroup": "slk",
         "marker": {
          "color": "#FC6955",
          "symbol": "circle"
         },
         "mode": "markers",
         "name": "slk",
         "orientation": "v",
         "showlegend": true,
         "type": "scatter",
         "x": [
          -120.72335052490234
         ],
         "xaxis": "x",
         "y": [
          111.18738555908203
         ],
         "yaxis": "y"
        },
        {
         "hovertemplate": "color=slv<br>x=%{x}<br>y=%{y}<extra></extra>",
         "legendgroup": "slv",
         "marker": {
          "color": "#E48F72",
          "symbol": "circle"
         },
         "mode": "markers",
         "name": "slv",
         "orientation": "v",
         "showlegend": true,
         "type": "scatter",
         "x": [
          -78.53148651123047
         ],
         "xaxis": "x",
         "y": [
          95.78044891357422
         ],
         "yaxis": "y"
        },
        {
         "hovertemplate": "color=tr<br>x=%{x}<br>y=%{y}<extra></extra>",
         "legendgroup": "tr",
         "marker": {
          "color": "#FD3216",
          "symbol": "circle"
         },
         "mode": "markers",
         "name": "tr",
         "orientation": "v",
         "showlegend": true,
         "type": "scatter",
         "x": [
          -131.204833984375
         ],
         "xaxis": "x",
         "y": [
          -200.2140655517578
         ],
         "yaxis": "y"
        },
        {
         "hovertemplate": "color=uk<br>x=%{x}<br>y=%{y}<extra></extra>",
         "legendgroup": "uk",
         "marker": {
          "color": "#00FE35",
          "symbol": "circle"
         },
         "mode": "markers",
         "name": "uk",
         "orientation": "v",
         "showlegend": true,
         "type": "scatter",
         "x": [
          -60.61748504638672
         ],
         "xaxis": "x",
         "y": [
          57.089073181152344
         ],
         "yaxis": "y"
        },
        {
         "hovertemplate": "color=zh<br>x=%{x}<br>y=%{y}<extra></extra>",
         "legendgroup": "zh",
         "marker": {
          "color": "#6A76FC",
          "symbol": "circle"
         },
         "mode": "markers",
         "name": "zh",
         "orientation": "v",
         "showlegend": true,
         "type": "scatter",
         "x": [
          -85.03255462646484
         ],
         "xaxis": "x",
         "y": [
          -166.61866760253906
         ],
         "yaxis": "y"
        }
       ],
       "layout": {
        "legend": {
         "title": {
          "text": "color"
         },
         "tracegroupgap": 0
        },
        "template": {
         "data": {
          "bar": [
           {
            "error_x": {
             "color": "#2a3f5f"
            },
            "error_y": {
             "color": "#2a3f5f"
            },
            "marker": {
             "line": {
              "color": "#E5ECF6",
              "width": 0.5
             },
             "pattern": {
              "fillmode": "overlay",
              "size": 10,
              "solidity": 0.2
             }
            },
            "type": "bar"
           }
          ],
          "barpolar": [
           {
            "marker": {
             "line": {
              "color": "#E5ECF6",
              "width": 0.5
             },
             "pattern": {
              "fillmode": "overlay",
              "size": 10,
              "solidity": 0.2
             }
            },
            "type": "barpolar"
           }
          ],
          "carpet": [
           {
            "aaxis": {
             "endlinecolor": "#2a3f5f",
             "gridcolor": "white",
             "linecolor": "white",
             "minorgridcolor": "white",
             "startlinecolor": "#2a3f5f"
            },
            "baxis": {
             "endlinecolor": "#2a3f5f",
             "gridcolor": "white",
             "linecolor": "white",
             "minorgridcolor": "white",
             "startlinecolor": "#2a3f5f"
            },
            "type": "carpet"
           }
          ],
          "choropleth": [
           {
            "colorbar": {
             "outlinewidth": 0,
             "ticks": ""
            },
            "type": "choropleth"
           }
          ],
          "contour": [
           {
            "colorbar": {
             "outlinewidth": 0,
             "ticks": ""
            },
            "colorscale": [
             [
              0,
              "#0d0887"
             ],
             [
              0.1111111111111111,
              "#46039f"
             ],
             [
              0.2222222222222222,
              "#7201a8"
             ],
             [
              0.3333333333333333,
              "#9c179e"
             ],
             [
              0.4444444444444444,
              "#bd3786"
             ],
             [
              0.5555555555555556,
              "#d8576b"
             ],
             [
              0.6666666666666666,
              "#ed7953"
             ],
             [
              0.7777777777777778,
              "#fb9f3a"
             ],
             [
              0.8888888888888888,
              "#fdca26"
             ],
             [
              1,
              "#f0f921"
             ]
            ],
            "type": "contour"
           }
          ],
          "contourcarpet": [
           {
            "colorbar": {
             "outlinewidth": 0,
             "ticks": ""
            },
            "type": "contourcarpet"
           }
          ],
          "heatmap": [
           {
            "colorbar": {
             "outlinewidth": 0,
             "ticks": ""
            },
            "colorscale": [
             [
              0,
              "#0d0887"
             ],
             [
              0.1111111111111111,
              "#46039f"
             ],
             [
              0.2222222222222222,
              "#7201a8"
             ],
             [
              0.3333333333333333,
              "#9c179e"
             ],
             [
              0.4444444444444444,
              "#bd3786"
             ],
             [
              0.5555555555555556,
              "#d8576b"
             ],
             [
              0.6666666666666666,
              "#ed7953"
             ],
             [
              0.7777777777777778,
              "#fb9f3a"
             ],
             [
              0.8888888888888888,
              "#fdca26"
             ],
             [
              1,
              "#f0f921"
             ]
            ],
            "type": "heatmap"
           }
          ],
          "heatmapgl": [
           {
            "colorbar": {
             "outlinewidth": 0,
             "ticks": ""
            },
            "colorscale": [
             [
              0,
              "#0d0887"
             ],
             [
              0.1111111111111111,
              "#46039f"
             ],
             [
              0.2222222222222222,
              "#7201a8"
             ],
             [
              0.3333333333333333,
              "#9c179e"
             ],
             [
              0.4444444444444444,
              "#bd3786"
             ],
             [
              0.5555555555555556,
              "#d8576b"
             ],
             [
              0.6666666666666666,
              "#ed7953"
             ],
             [
              0.7777777777777778,
              "#fb9f3a"
             ],
             [
              0.8888888888888888,
              "#fdca26"
             ],
             [
              1,
              "#f0f921"
             ]
            ],
            "type": "heatmapgl"
           }
          ],
          "histogram": [
           {
            "marker": {
             "pattern": {
              "fillmode": "overlay",
              "size": 10,
              "solidity": 0.2
             }
            },
            "type": "histogram"
           }
          ],
          "histogram2d": [
           {
            "colorbar": {
             "outlinewidth": 0,
             "ticks": ""
            },
            "colorscale": [
             [
              0,
              "#0d0887"
             ],
             [
              0.1111111111111111,
              "#46039f"
             ],
             [
              0.2222222222222222,
              "#7201a8"
             ],
             [
              0.3333333333333333,
              "#9c179e"
             ],
             [
              0.4444444444444444,
              "#bd3786"
             ],
             [
              0.5555555555555556,
              "#d8576b"
             ],
             [
              0.6666666666666666,
              "#ed7953"
             ],
             [
              0.7777777777777778,
              "#fb9f3a"
             ],
             [
              0.8888888888888888,
              "#fdca26"
             ],
             [
              1,
              "#f0f921"
             ]
            ],
            "type": "histogram2d"
           }
          ],
          "histogram2dcontour": [
           {
            "colorbar": {
             "outlinewidth": 0,
             "ticks": ""
            },
            "colorscale": [
             [
              0,
              "#0d0887"
             ],
             [
              0.1111111111111111,
              "#46039f"
             ],
             [
              0.2222222222222222,
              "#7201a8"
             ],
             [
              0.3333333333333333,
              "#9c179e"
             ],
             [
              0.4444444444444444,
              "#bd3786"
             ],
             [
              0.5555555555555556,
              "#d8576b"
             ],
             [
              0.6666666666666666,
              "#ed7953"
             ],
             [
              0.7777777777777778,
              "#fb9f3a"
             ],
             [
              0.8888888888888888,
              "#fdca26"
             ],
             [
              1,
              "#f0f921"
             ]
            ],
            "type": "histogram2dcontour"
           }
          ],
          "mesh3d": [
           {
            "colorbar": {
             "outlinewidth": 0,
             "ticks": ""
            },
            "type": "mesh3d"
           }
          ],
          "parcoords": [
           {
            "line": {
             "colorbar": {
              "outlinewidth": 0,
              "ticks": ""
             }
            },
            "type": "parcoords"
           }
          ],
          "pie": [
           {
            "automargin": true,
            "type": "pie"
           }
          ],
          "scatter": [
           {
            "fillpattern": {
             "fillmode": "overlay",
             "size": 10,
             "solidity": 0.2
            },
            "type": "scatter"
           }
          ],
          "scatter3d": [
           {
            "line": {
             "colorbar": {
              "outlinewidth": 0,
              "ticks": ""
             }
            },
            "marker": {
             "colorbar": {
              "outlinewidth": 0,
              "ticks": ""
             }
            },
            "type": "scatter3d"
           }
          ],
          "scattercarpet": [
           {
            "marker": {
             "colorbar": {
              "outlinewidth": 0,
              "ticks": ""
             }
            },
            "type": "scattercarpet"
           }
          ],
          "scattergeo": [
           {
            "marker": {
             "colorbar": {
              "outlinewidth": 0,
              "ticks": ""
             }
            },
            "type": "scattergeo"
           }
          ],
          "scattergl": [
           {
            "marker": {
             "colorbar": {
              "outlinewidth": 0,
              "ticks": ""
             }
            },
            "type": "scattergl"
           }
          ],
          "scattermapbox": [
           {
            "marker": {
             "colorbar": {
              "outlinewidth": 0,
              "ticks": ""
             }
            },
            "type": "scattermapbox"
           }
          ],
          "scatterpolar": [
           {
            "marker": {
             "colorbar": {
              "outlinewidth": 0,
              "ticks": ""
             }
            },
            "type": "scatterpolar"
           }
          ],
          "scatterpolargl": [
           {
            "marker": {
             "colorbar": {
              "outlinewidth": 0,
              "ticks": ""
             }
            },
            "type": "scatterpolargl"
           }
          ],
          "scatterternary": [
           {
            "marker": {
             "colorbar": {
              "outlinewidth": 0,
              "ticks": ""
             }
            },
            "type": "scatterternary"
           }
          ],
          "surface": [
           {
            "colorbar": {
             "outlinewidth": 0,
             "ticks": ""
            },
            "colorscale": [
             [
              0,
              "#0d0887"
             ],
             [
              0.1111111111111111,
              "#46039f"
             ],
             [
              0.2222222222222222,
              "#7201a8"
             ],
             [
              0.3333333333333333,
              "#9c179e"
             ],
             [
              0.4444444444444444,
              "#bd3786"
             ],
             [
              0.5555555555555556,
              "#d8576b"
             ],
             [
              0.6666666666666666,
              "#ed7953"
             ],
             [
              0.7777777777777778,
              "#fb9f3a"
             ],
             [
              0.8888888888888888,
              "#fdca26"
             ],
             [
              1,
              "#f0f921"
             ]
            ],
            "type": "surface"
           }
          ],
          "table": [
           {
            "cells": {
             "fill": {
              "color": "#EBF0F8"
             },
             "line": {
              "color": "white"
             }
            },
            "header": {
             "fill": {
              "color": "#C8D4E3"
             },
             "line": {
              "color": "white"
             }
            },
            "type": "table"
           }
          ]
         },
         "layout": {
          "annotationdefaults": {
           "arrowcolor": "#2a3f5f",
           "arrowhead": 0,
           "arrowwidth": 1
          },
          "autotypenumbers": "strict",
          "coloraxis": {
           "colorbar": {
            "outlinewidth": 0,
            "ticks": ""
           }
          },
          "colorscale": {
           "diverging": [
            [
             0,
             "#8e0152"
            ],
            [
             0.1,
             "#c51b7d"
            ],
            [
             0.2,
             "#de77ae"
            ],
            [
             0.3,
             "#f1b6da"
            ],
            [
             0.4,
             "#fde0ef"
            ],
            [
             0.5,
             "#f7f7f7"
            ],
            [
             0.6,
             "#e6f5d0"
            ],
            [
             0.7,
             "#b8e186"
            ],
            [
             0.8,
             "#7fbc41"
            ],
            [
             0.9,
             "#4d9221"
            ],
            [
             1,
             "#276419"
            ]
           ],
           "sequential": [
            [
             0,
             "#0d0887"
            ],
            [
             0.1111111111111111,
             "#46039f"
            ],
            [
             0.2222222222222222,
             "#7201a8"
            ],
            [
             0.3333333333333333,
             "#9c179e"
            ],
            [
             0.4444444444444444,
             "#bd3786"
            ],
            [
             0.5555555555555556,
             "#d8576b"
            ],
            [
             0.6666666666666666,
             "#ed7953"
            ],
            [
             0.7777777777777778,
             "#fb9f3a"
            ],
            [
             0.8888888888888888,
             "#fdca26"
            ],
            [
             1,
             "#f0f921"
            ]
           ],
           "sequentialminus": [
            [
             0,
             "#0d0887"
            ],
            [
             0.1111111111111111,
             "#46039f"
            ],
            [
             0.2222222222222222,
             "#7201a8"
            ],
            [
             0.3333333333333333,
             "#9c179e"
            ],
            [
             0.4444444444444444,
             "#bd3786"
            ],
            [
             0.5555555555555556,
             "#d8576b"
            ],
            [
             0.6666666666666666,
             "#ed7953"
            ],
            [
             0.7777777777777778,
             "#fb9f3a"
            ],
            [
             0.8888888888888888,
             "#fdca26"
            ],
            [
             1,
             "#f0f921"
            ]
           ]
          },
          "colorway": [
           "#636efa",
           "#EF553B",
           "#00cc96",
           "#ab63fa",
           "#FFA15A",
           "#19d3f3",
           "#FF6692",
           "#B6E880",
           "#FF97FF",
           "#FECB52"
          ],
          "font": {
           "color": "#2a3f5f"
          },
          "geo": {
           "bgcolor": "white",
           "lakecolor": "white",
           "landcolor": "#E5ECF6",
           "showlakes": true,
           "showland": true,
           "subunitcolor": "white"
          },
          "hoverlabel": {
           "align": "left"
          },
          "hovermode": "closest",
          "mapbox": {
           "style": "light"
          },
          "paper_bgcolor": "white",
          "plot_bgcolor": "#E5ECF6",
          "polar": {
           "angularaxis": {
            "gridcolor": "white",
            "linecolor": "white",
            "ticks": ""
           },
           "bgcolor": "#E5ECF6",
           "radialaxis": {
            "gridcolor": "white",
            "linecolor": "white",
            "ticks": ""
           }
          },
          "scene": {
           "xaxis": {
            "backgroundcolor": "#E5ECF6",
            "gridcolor": "white",
            "gridwidth": 2,
            "linecolor": "white",
            "showbackground": true,
            "ticks": "",
            "zerolinecolor": "white"
           },
           "yaxis": {
            "backgroundcolor": "#E5ECF6",
            "gridcolor": "white",
            "gridwidth": 2,
            "linecolor": "white",
            "showbackground": true,
            "ticks": "",
            "zerolinecolor": "white"
           },
           "zaxis": {
            "backgroundcolor": "#E5ECF6",
            "gridcolor": "white",
            "gridwidth": 2,
            "linecolor": "white",
            "showbackground": true,
            "ticks": "",
            "zerolinecolor": "white"
           }
          },
          "shapedefaults": {
           "line": {
            "color": "#2a3f5f"
           }
          },
          "ternary": {
           "aaxis": {
            "gridcolor": "white",
            "linecolor": "white",
            "ticks": ""
           },
           "baxis": {
            "gridcolor": "white",
            "linecolor": "white",
            "ticks": ""
           },
           "bgcolor": "#E5ECF6",
           "caxis": {
            "gridcolor": "white",
            "linecolor": "white",
            "ticks": ""
           }
          },
          "title": {
           "x": 0.05
          },
          "xaxis": {
           "automargin": true,
           "gridcolor": "white",
           "linecolor": "white",
           "ticks": "",
           "title": {
            "standoff": 15
           },
           "zerolinecolor": "white",
           "zerolinewidth": 2
          },
          "yaxis": {
           "automargin": true,
           "gridcolor": "white",
           "linecolor": "white",
           "ticks": "",
           "title": {
            "standoff": 15
           },
           "zerolinecolor": "white",
           "zerolinewidth": 2
          }
         }
        },
        "title": {
         "text": "perplexity 10"
        },
        "xaxis": {
         "anchor": "y",
         "domain": [
          0,
          1
         ],
         "title": {
          "text": "x"
         }
        },
        "yaxis": {
         "anchor": "x",
         "domain": [
          0,
          1
         ],
         "title": {
          "text": "y"
         }
        }
       }
      }
     },
     "metadata": {},
     "output_type": "display_data"
    }
   ],
   "source": [
    "for p in range(3, 11):    \n",
    "    X_embedded = TSNE(perplexity=p, metric='cosine').fit_transform(X)\n",
    "    fig = px.scatter(x=X_embedded[:,0], y=X_embedded[:,1], color=langs, title=f\"perplexity {p}\", color_discrete_sequence=px.colors.qualitative.Light24)\n",
    "    fig.show()"
   ]
  },
  {
   "cell_type": "code",
   "execution_count": 148,
   "metadata": {},
   "outputs": [
    {
     "name": "stdout",
     "output_type": "stream",
     "text": [
      "-1\n",
      "en\n",
      "fa\n",
      "ja\n",
      "ko\n",
      "tr\n",
      "\n",
      "\n",
      "0\n",
      "ar\n",
      "cy\n",
      "ga\n",
      "id\n",
      "\n",
      "\n",
      "1\n",
      "be\n",
      "bg\n",
      "cs\n",
      "fi\n",
      "hr\n",
      "hy\n",
      "lt\n",
      "lv\n",
      "pl\n",
      "ru\n",
      "slk\n",
      "slv\n",
      "uk\n",
      "zh\n",
      "\n",
      "\n",
      "2\n",
      "de\n",
      "nl\n",
      "\n",
      "\n",
      "3\n",
      "es\n",
      "fr\n",
      "\n",
      "\n"
     ]
    }
   ],
   "source": [
    "# dbscan looked better for cherry-picked languages\n",
    "dbscan = DBSCAN(min_samples=2, metric='cosine', eps=0.001)\n",
    "# the first cluster I get is the slavics, unsurprisingly\n",
    "clusters = dbscan.fit_predict(X)\n",
    "for val in np.unique(clusters):\n",
    "    print(val)\n",
    "    for cl, lan in zip(clusters, langs):\n",
    "        if cl == val:\n",
    "            print(lan)\n",
    "\n",
    "    print(\"\\n\")\n"
   ]
  },
  {
   "cell_type": "markdown",
   "metadata": {},
   "source": [
    "## t-SNE using distances\n",
    "wayyyy worse"
   ]
  },
  {
   "cell_type": "code",
   "execution_count": 129,
   "metadata": {},
   "outputs": [],
   "source": [
    "langs_train = df.train.unique()"
   ]
  },
  {
   "cell_type": "code",
   "execution_count": 131,
   "metadata": {},
   "outputs": [],
   "source": [
    "X_dist = np.zeros((len(langs_train), len(langs_train)))"
   ]
  },
  {
   "cell_type": "code",
   "execution_count": 138,
   "metadata": {},
   "outputs": [],
   "source": [
    "for i, lang in enumerate(langs_train):\n",
    "    for j, lang_ in enumerate(langs_train):\n",
    "        if i == j:\n",
    "            continue\n",
    "\n",
    "        r1 = df[(df.train == lang) & (df.test == lang_)].uuas.mean()\n",
    "        r2 = df[(df.test == lang) & (df.train == lang_)].uuas.mean()\n",
    "\n",
    "        X_dist[i, j] = 1 - (r1 + r2)/2\n"
   ]
  },
  {
   "cell_type": "code",
   "execution_count": 139,
   "metadata": {},
   "outputs": [
    {
     "name": "stderr",
     "output_type": "stream",
     "text": [
      "/home/amysiak/thesis/env/lib/python3.8/site-packages/sklearn/manifold/_t_sne.py:800: FutureWarning:\n",
      "\n",
      "The default initialization in TSNE will change from 'random' to 'pca' in 1.2.\n",
      "\n",
      "/home/amysiak/thesis/env/lib/python3.8/site-packages/sklearn/manifold/_t_sne.py:810: FutureWarning:\n",
      "\n",
      "The default learning rate in TSNE will change from 200.0 to 'auto' in 1.2.\n",
      "\n"
     ]
    },
    {
     "data": {
      "application/vnd.plotly.v1+json": {
       "config": {
        "plotlyServerURL": "https://plot.ly"
       },
       "data": [
        {
         "hovertemplate": "color=be<br>x=%{x}<br>y=%{y}<extra></extra>",
         "legendgroup": "be",
         "marker": {
          "color": "#FD3216",
          "symbol": "circle"
         },
         "mode": "markers",
         "name": "be",
         "orientation": "v",
         "showlegend": true,
         "type": "scatter",
         "x": [
          -16.382116317749023
         ],
         "xaxis": "x",
         "y": [
          102.52667236328125
         ],
         "yaxis": "y"
        },
        {
         "hovertemplate": "color=cs<br>x=%{x}<br>y=%{y}<extra></extra>",
         "legendgroup": "cs",
         "marker": {
          "color": "#00FE35",
          "symbol": "circle"
         },
         "mode": "markers",
         "name": "cs",
         "orientation": "v",
         "showlegend": true,
         "type": "scatter",
         "x": [
          47.26729202270508
         ],
         "xaxis": "x",
         "y": [
          -69.55552673339844
         ],
         "yaxis": "y"
        },
        {
         "hovertemplate": "color=en<br>x=%{x}<br>y=%{y}<extra></extra>",
         "legendgroup": "en",
         "marker": {
          "color": "#6A76FC",
          "symbol": "circle"
         },
         "mode": "markers",
         "name": "en",
         "orientation": "v",
         "showlegend": true,
         "type": "scatter",
         "x": [
          263.27191162109375
         ],
         "xaxis": "x",
         "y": [
          -188.4788818359375
         ],
         "yaxis": "y"
        },
        {
         "hovertemplate": "color=es<br>x=%{x}<br>y=%{y}<extra></extra>",
         "legendgroup": "es",
         "marker": {
          "color": "#FED4C4",
          "symbol": "circle"
         },
         "mode": "markers",
         "name": "es",
         "orientation": "v",
         "showlegend": true,
         "type": "scatter",
         "x": [
          112.44869995117188
         ],
         "xaxis": "x",
         "y": [
          -445.4053039550781
         ],
         "yaxis": "y"
        },
        {
         "hovertemplate": "color=fi<br>x=%{x}<br>y=%{y}<extra></extra>",
         "legendgroup": "fi",
         "marker": {
          "color": "#FE00CE",
          "symbol": "circle"
         },
         "mode": "markers",
         "name": "fi",
         "orientation": "v",
         "showlegend": true,
         "type": "scatter",
         "x": [
          -223.18020629882812
         ],
         "xaxis": "x",
         "y": [
          -63.54399490356445
         ],
         "yaxis": "y"
        },
        {
         "hovertemplate": "color=fr<br>x=%{x}<br>y=%{y}<extra></extra>",
         "legendgroup": "fr",
         "marker": {
          "color": "#0DF9FF",
          "symbol": "circle"
         },
         "mode": "markers",
         "name": "fr",
         "orientation": "v",
         "showlegend": true,
         "type": "scatter",
         "x": [
          154.63674926757812
         ],
         "xaxis": "x",
         "y": [
          -411.95989990234375
         ],
         "yaxis": "y"
        },
        {
         "hovertemplate": "color=lv<br>x=%{x}<br>y=%{y}<extra></extra>",
         "legendgroup": "lv",
         "marker": {
          "color": "#F6F926",
          "symbol": "circle"
         },
         "mode": "markers",
         "name": "lv",
         "orientation": "v",
         "showlegend": true,
         "type": "scatter",
         "x": [
          -144.31431579589844
         ],
         "xaxis": "x",
         "y": [
          -53.560081481933594
         ],
         "yaxis": "y"
        },
        {
         "hovertemplate": "color=pl<br>x=%{x}<br>y=%{y}<extra></extra>",
         "legendgroup": "pl",
         "marker": {
          "color": "#FF9616",
          "symbol": "circle"
         },
         "mode": "markers",
         "name": "pl",
         "orientation": "v",
         "showlegend": true,
         "type": "scatter",
         "x": [
          7.340634822845459
         ],
         "xaxis": "x",
         "y": [
          -15.629161834716797
         ],
         "yaxis": "y"
        },
        {
         "hovertemplate": "color=de<br>x=%{x}<br>y=%{y}<extra></extra>",
         "legendgroup": "de",
         "marker": {
          "color": "#479B55",
          "symbol": "circle"
         },
         "mode": "markers",
         "name": "de",
         "orientation": "v",
         "showlegend": true,
         "type": "scatter",
         "x": [
          294.923583984375
         ],
         "xaxis": "x",
         "y": [
          -272.0052490234375
         ],
         "yaxis": "y"
        },
        {
         "hovertemplate": "color=ru<br>x=%{x}<br>y=%{y}<extra></extra>",
         "legendgroup": "ru",
         "marker": {
          "color": "#EEA6FB",
          "symbol": "circle"
         },
         "mode": "markers",
         "name": "ru",
         "orientation": "v",
         "showlegend": true,
         "type": "scatter",
         "x": [
          -38.11381530761719
         ],
         "xaxis": "x",
         "y": [
          22.4093017578125
         ],
         "yaxis": "y"
        },
        {
         "hovertemplate": "color=slv<br>x=%{x}<br>y=%{y}<extra></extra>",
         "legendgroup": "slv",
         "marker": {
          "color": "#DC587D",
          "symbol": "circle"
         },
         "mode": "markers",
         "name": "slv",
         "orientation": "v",
         "showlegend": true,
         "type": "scatter",
         "x": [
          -32.71234893798828
         ],
         "xaxis": "x",
         "y": [
          -93.5855941772461
         ],
         "yaxis": "y"
        },
        {
         "hovertemplate": "color=fa<br>x=%{x}<br>y=%{y}<extra></extra>",
         "legendgroup": "fa",
         "marker": {
          "color": "#D626FF",
          "symbol": "circle"
         },
         "mode": "markers",
         "name": "fa",
         "orientation": "v",
         "showlegend": true,
         "type": "scatter",
         "x": [
          102.81369018554688
         ],
         "xaxis": "x",
         "y": [
          46.805580139160156
         ],
         "yaxis": "y"
        },
        {
         "hovertemplate": "color=ko<br>x=%{x}<br>y=%{y}<extra></extra>",
         "legendgroup": "ko",
         "marker": {
          "color": "#6E899C",
          "symbol": "circle"
         },
         "mode": "markers",
         "name": "ko",
         "orientation": "v",
         "showlegend": true,
         "type": "scatter",
         "x": [
          -407.2499084472656
         ],
         "xaxis": "x",
         "y": [
          135.42703247070312
         ],
         "yaxis": "y"
        },
        {
         "hovertemplate": "color=tr<br>x=%{x}<br>y=%{y}<extra></extra>",
         "legendgroup": "tr",
         "marker": {
          "color": "#00B5F7",
          "symbol": "circle"
         },
         "mode": "markers",
         "name": "tr",
         "orientation": "v",
         "showlegend": true,
         "type": "scatter",
         "x": [
          -360.2941589355469
         ],
         "xaxis": "x",
         "y": [
          158.7702178955078
         ],
         "yaxis": "y"
        },
        {
         "hovertemplate": "color=nl<br>x=%{x}<br>y=%{y}<extra></extra>",
         "legendgroup": "nl",
         "marker": {
          "color": "#B68E00",
          "symbol": "circle"
         },
         "mode": "markers",
         "name": "nl",
         "orientation": "v",
         "showlegend": true,
         "type": "scatter",
         "x": [
          335.5190734863281
         ],
         "xaxis": "x",
         "y": [
          -306.6656188964844
         ],
         "yaxis": "y"
        }
       ],
       "layout": {
        "legend": {
         "title": {
          "text": "color"
         },
         "tracegroupgap": 0
        },
        "template": {
         "data": {
          "bar": [
           {
            "error_x": {
             "color": "#2a3f5f"
            },
            "error_y": {
             "color": "#2a3f5f"
            },
            "marker": {
             "line": {
              "color": "#E5ECF6",
              "width": 0.5
             },
             "pattern": {
              "fillmode": "overlay",
              "size": 10,
              "solidity": 0.2
             }
            },
            "type": "bar"
           }
          ],
          "barpolar": [
           {
            "marker": {
             "line": {
              "color": "#E5ECF6",
              "width": 0.5
             },
             "pattern": {
              "fillmode": "overlay",
              "size": 10,
              "solidity": 0.2
             }
            },
            "type": "barpolar"
           }
          ],
          "carpet": [
           {
            "aaxis": {
             "endlinecolor": "#2a3f5f",
             "gridcolor": "white",
             "linecolor": "white",
             "minorgridcolor": "white",
             "startlinecolor": "#2a3f5f"
            },
            "baxis": {
             "endlinecolor": "#2a3f5f",
             "gridcolor": "white",
             "linecolor": "white",
             "minorgridcolor": "white",
             "startlinecolor": "#2a3f5f"
            },
            "type": "carpet"
           }
          ],
          "choropleth": [
           {
            "colorbar": {
             "outlinewidth": 0,
             "ticks": ""
            },
            "type": "choropleth"
           }
          ],
          "contour": [
           {
            "colorbar": {
             "outlinewidth": 0,
             "ticks": ""
            },
            "colorscale": [
             [
              0,
              "#0d0887"
             ],
             [
              0.1111111111111111,
              "#46039f"
             ],
             [
              0.2222222222222222,
              "#7201a8"
             ],
             [
              0.3333333333333333,
              "#9c179e"
             ],
             [
              0.4444444444444444,
              "#bd3786"
             ],
             [
              0.5555555555555556,
              "#d8576b"
             ],
             [
              0.6666666666666666,
              "#ed7953"
             ],
             [
              0.7777777777777778,
              "#fb9f3a"
             ],
             [
              0.8888888888888888,
              "#fdca26"
             ],
             [
              1,
              "#f0f921"
             ]
            ],
            "type": "contour"
           }
          ],
          "contourcarpet": [
           {
            "colorbar": {
             "outlinewidth": 0,
             "ticks": ""
            },
            "type": "contourcarpet"
           }
          ],
          "heatmap": [
           {
            "colorbar": {
             "outlinewidth": 0,
             "ticks": ""
            },
            "colorscale": [
             [
              0,
              "#0d0887"
             ],
             [
              0.1111111111111111,
              "#46039f"
             ],
             [
              0.2222222222222222,
              "#7201a8"
             ],
             [
              0.3333333333333333,
              "#9c179e"
             ],
             [
              0.4444444444444444,
              "#bd3786"
             ],
             [
              0.5555555555555556,
              "#d8576b"
             ],
             [
              0.6666666666666666,
              "#ed7953"
             ],
             [
              0.7777777777777778,
              "#fb9f3a"
             ],
             [
              0.8888888888888888,
              "#fdca26"
             ],
             [
              1,
              "#f0f921"
             ]
            ],
            "type": "heatmap"
           }
          ],
          "heatmapgl": [
           {
            "colorbar": {
             "outlinewidth": 0,
             "ticks": ""
            },
            "colorscale": [
             [
              0,
              "#0d0887"
             ],
             [
              0.1111111111111111,
              "#46039f"
             ],
             [
              0.2222222222222222,
              "#7201a8"
             ],
             [
              0.3333333333333333,
              "#9c179e"
             ],
             [
              0.4444444444444444,
              "#bd3786"
             ],
             [
              0.5555555555555556,
              "#d8576b"
             ],
             [
              0.6666666666666666,
              "#ed7953"
             ],
             [
              0.7777777777777778,
              "#fb9f3a"
             ],
             [
              0.8888888888888888,
              "#fdca26"
             ],
             [
              1,
              "#f0f921"
             ]
            ],
            "type": "heatmapgl"
           }
          ],
          "histogram": [
           {
            "marker": {
             "pattern": {
              "fillmode": "overlay",
              "size": 10,
              "solidity": 0.2
             }
            },
            "type": "histogram"
           }
          ],
          "histogram2d": [
           {
            "colorbar": {
             "outlinewidth": 0,
             "ticks": ""
            },
            "colorscale": [
             [
              0,
              "#0d0887"
             ],
             [
              0.1111111111111111,
              "#46039f"
             ],
             [
              0.2222222222222222,
              "#7201a8"
             ],
             [
              0.3333333333333333,
              "#9c179e"
             ],
             [
              0.4444444444444444,
              "#bd3786"
             ],
             [
              0.5555555555555556,
              "#d8576b"
             ],
             [
              0.6666666666666666,
              "#ed7953"
             ],
             [
              0.7777777777777778,
              "#fb9f3a"
             ],
             [
              0.8888888888888888,
              "#fdca26"
             ],
             [
              1,
              "#f0f921"
             ]
            ],
            "type": "histogram2d"
           }
          ],
          "histogram2dcontour": [
           {
            "colorbar": {
             "outlinewidth": 0,
             "ticks": ""
            },
            "colorscale": [
             [
              0,
              "#0d0887"
             ],
             [
              0.1111111111111111,
              "#46039f"
             ],
             [
              0.2222222222222222,
              "#7201a8"
             ],
             [
              0.3333333333333333,
              "#9c179e"
             ],
             [
              0.4444444444444444,
              "#bd3786"
             ],
             [
              0.5555555555555556,
              "#d8576b"
             ],
             [
              0.6666666666666666,
              "#ed7953"
             ],
             [
              0.7777777777777778,
              "#fb9f3a"
             ],
             [
              0.8888888888888888,
              "#fdca26"
             ],
             [
              1,
              "#f0f921"
             ]
            ],
            "type": "histogram2dcontour"
           }
          ],
          "mesh3d": [
           {
            "colorbar": {
             "outlinewidth": 0,
             "ticks": ""
            },
            "type": "mesh3d"
           }
          ],
          "parcoords": [
           {
            "line": {
             "colorbar": {
              "outlinewidth": 0,
              "ticks": ""
             }
            },
            "type": "parcoords"
           }
          ],
          "pie": [
           {
            "automargin": true,
            "type": "pie"
           }
          ],
          "scatter": [
           {
            "fillpattern": {
             "fillmode": "overlay",
             "size": 10,
             "solidity": 0.2
            },
            "type": "scatter"
           }
          ],
          "scatter3d": [
           {
            "line": {
             "colorbar": {
              "outlinewidth": 0,
              "ticks": ""
             }
            },
            "marker": {
             "colorbar": {
              "outlinewidth": 0,
              "ticks": ""
             }
            },
            "type": "scatter3d"
           }
          ],
          "scattercarpet": [
           {
            "marker": {
             "colorbar": {
              "outlinewidth": 0,
              "ticks": ""
             }
            },
            "type": "scattercarpet"
           }
          ],
          "scattergeo": [
           {
            "marker": {
             "colorbar": {
              "outlinewidth": 0,
              "ticks": ""
             }
            },
            "type": "scattergeo"
           }
          ],
          "scattergl": [
           {
            "marker": {
             "colorbar": {
              "outlinewidth": 0,
              "ticks": ""
             }
            },
            "type": "scattergl"
           }
          ],
          "scattermapbox": [
           {
            "marker": {
             "colorbar": {
              "outlinewidth": 0,
              "ticks": ""
             }
            },
            "type": "scattermapbox"
           }
          ],
          "scatterpolar": [
           {
            "marker": {
             "colorbar": {
              "outlinewidth": 0,
              "ticks": ""
             }
            },
            "type": "scatterpolar"
           }
          ],
          "scatterpolargl": [
           {
            "marker": {
             "colorbar": {
              "outlinewidth": 0,
              "ticks": ""
             }
            },
            "type": "scatterpolargl"
           }
          ],
          "scatterternary": [
           {
            "marker": {
             "colorbar": {
              "outlinewidth": 0,
              "ticks": ""
             }
            },
            "type": "scatterternary"
           }
          ],
          "surface": [
           {
            "colorbar": {
             "outlinewidth": 0,
             "ticks": ""
            },
            "colorscale": [
             [
              0,
              "#0d0887"
             ],
             [
              0.1111111111111111,
              "#46039f"
             ],
             [
              0.2222222222222222,
              "#7201a8"
             ],
             [
              0.3333333333333333,
              "#9c179e"
             ],
             [
              0.4444444444444444,
              "#bd3786"
             ],
             [
              0.5555555555555556,
              "#d8576b"
             ],
             [
              0.6666666666666666,
              "#ed7953"
             ],
             [
              0.7777777777777778,
              "#fb9f3a"
             ],
             [
              0.8888888888888888,
              "#fdca26"
             ],
             [
              1,
              "#f0f921"
             ]
            ],
            "type": "surface"
           }
          ],
          "table": [
           {
            "cells": {
             "fill": {
              "color": "#EBF0F8"
             },
             "line": {
              "color": "white"
             }
            },
            "header": {
             "fill": {
              "color": "#C8D4E3"
             },
             "line": {
              "color": "white"
             }
            },
            "type": "table"
           }
          ]
         },
         "layout": {
          "annotationdefaults": {
           "arrowcolor": "#2a3f5f",
           "arrowhead": 0,
           "arrowwidth": 1
          },
          "autotypenumbers": "strict",
          "coloraxis": {
           "colorbar": {
            "outlinewidth": 0,
            "ticks": ""
           }
          },
          "colorscale": {
           "diverging": [
            [
             0,
             "#8e0152"
            ],
            [
             0.1,
             "#c51b7d"
            ],
            [
             0.2,
             "#de77ae"
            ],
            [
             0.3,
             "#f1b6da"
            ],
            [
             0.4,
             "#fde0ef"
            ],
            [
             0.5,
             "#f7f7f7"
            ],
            [
             0.6,
             "#e6f5d0"
            ],
            [
             0.7,
             "#b8e186"
            ],
            [
             0.8,
             "#7fbc41"
            ],
            [
             0.9,
             "#4d9221"
            ],
            [
             1,
             "#276419"
            ]
           ],
           "sequential": [
            [
             0,
             "#0d0887"
            ],
            [
             0.1111111111111111,
             "#46039f"
            ],
            [
             0.2222222222222222,
             "#7201a8"
            ],
            [
             0.3333333333333333,
             "#9c179e"
            ],
            [
             0.4444444444444444,
             "#bd3786"
            ],
            [
             0.5555555555555556,
             "#d8576b"
            ],
            [
             0.6666666666666666,
             "#ed7953"
            ],
            [
             0.7777777777777778,
             "#fb9f3a"
            ],
            [
             0.8888888888888888,
             "#fdca26"
            ],
            [
             1,
             "#f0f921"
            ]
           ],
           "sequentialminus": [
            [
             0,
             "#0d0887"
            ],
            [
             0.1111111111111111,
             "#46039f"
            ],
            [
             0.2222222222222222,
             "#7201a8"
            ],
            [
             0.3333333333333333,
             "#9c179e"
            ],
            [
             0.4444444444444444,
             "#bd3786"
            ],
            [
             0.5555555555555556,
             "#d8576b"
            ],
            [
             0.6666666666666666,
             "#ed7953"
            ],
            [
             0.7777777777777778,
             "#fb9f3a"
            ],
            [
             0.8888888888888888,
             "#fdca26"
            ],
            [
             1,
             "#f0f921"
            ]
           ]
          },
          "colorway": [
           "#636efa",
           "#EF553B",
           "#00cc96",
           "#ab63fa",
           "#FFA15A",
           "#19d3f3",
           "#FF6692",
           "#B6E880",
           "#FF97FF",
           "#FECB52"
          ],
          "font": {
           "color": "#2a3f5f"
          },
          "geo": {
           "bgcolor": "white",
           "lakecolor": "white",
           "landcolor": "#E5ECF6",
           "showlakes": true,
           "showland": true,
           "subunitcolor": "white"
          },
          "hoverlabel": {
           "align": "left"
          },
          "hovermode": "closest",
          "mapbox": {
           "style": "light"
          },
          "paper_bgcolor": "white",
          "plot_bgcolor": "#E5ECF6",
          "polar": {
           "angularaxis": {
            "gridcolor": "white",
            "linecolor": "white",
            "ticks": ""
           },
           "bgcolor": "#E5ECF6",
           "radialaxis": {
            "gridcolor": "white",
            "linecolor": "white",
            "ticks": ""
           }
          },
          "scene": {
           "xaxis": {
            "backgroundcolor": "#E5ECF6",
            "gridcolor": "white",
            "gridwidth": 2,
            "linecolor": "white",
            "showbackground": true,
            "ticks": "",
            "zerolinecolor": "white"
           },
           "yaxis": {
            "backgroundcolor": "#E5ECF6",
            "gridcolor": "white",
            "gridwidth": 2,
            "linecolor": "white",
            "showbackground": true,
            "ticks": "",
            "zerolinecolor": "white"
           },
           "zaxis": {
            "backgroundcolor": "#E5ECF6",
            "gridcolor": "white",
            "gridwidth": 2,
            "linecolor": "white",
            "showbackground": true,
            "ticks": "",
            "zerolinecolor": "white"
           }
          },
          "shapedefaults": {
           "line": {
            "color": "#2a3f5f"
           }
          },
          "ternary": {
           "aaxis": {
            "gridcolor": "white",
            "linecolor": "white",
            "ticks": ""
           },
           "baxis": {
            "gridcolor": "white",
            "linecolor": "white",
            "ticks": ""
           },
           "bgcolor": "#E5ECF6",
           "caxis": {
            "gridcolor": "white",
            "linecolor": "white",
            "ticks": ""
           }
          },
          "title": {
           "x": 0.05
          },
          "xaxis": {
           "automargin": true,
           "gridcolor": "white",
           "linecolor": "white",
           "ticks": "",
           "title": {
            "standoff": 15
           },
           "zerolinecolor": "white",
           "zerolinewidth": 2
          },
          "yaxis": {
           "automargin": true,
           "gridcolor": "white",
           "linecolor": "white",
           "ticks": "",
           "title": {
            "standoff": 15
           },
           "zerolinecolor": "white",
           "zerolinewidth": 2
          }
         }
        },
        "title": {
         "text": "perplexity 3"
        },
        "xaxis": {
         "anchor": "y",
         "domain": [
          0,
          1
         ],
         "title": {
          "text": "x"
         }
        },
        "yaxis": {
         "anchor": "x",
         "domain": [
          0,
          1
         ],
         "title": {
          "text": "y"
         }
        }
       }
      }
     },
     "metadata": {},
     "output_type": "display_data"
    },
    {
     "name": "stderr",
     "output_type": "stream",
     "text": [
      "/home/amysiak/thesis/env/lib/python3.8/site-packages/sklearn/manifold/_t_sne.py:800: FutureWarning:\n",
      "\n",
      "The default initialization in TSNE will change from 'random' to 'pca' in 1.2.\n",
      "\n",
      "/home/amysiak/thesis/env/lib/python3.8/site-packages/sklearn/manifold/_t_sne.py:810: FutureWarning:\n",
      "\n",
      "The default learning rate in TSNE will change from 200.0 to 'auto' in 1.2.\n",
      "\n"
     ]
    },
    {
     "data": {
      "application/vnd.plotly.v1+json": {
       "config": {
        "plotlyServerURL": "https://plot.ly"
       },
       "data": [
        {
         "hovertemplate": "color=be<br>x=%{x}<br>y=%{y}<extra></extra>",
         "legendgroup": "be",
         "marker": {
          "color": "#FD3216",
          "symbol": "circle"
         },
         "mode": "markers",
         "name": "be",
         "orientation": "v",
         "showlegend": true,
         "type": "scatter",
         "x": [
          -11.827751159667969
         ],
         "xaxis": "x",
         "y": [
          -15.958114624023438
         ],
         "yaxis": "y"
        },
        {
         "hovertemplate": "color=cs<br>x=%{x}<br>y=%{y}<extra></extra>",
         "legendgroup": "cs",
         "marker": {
          "color": "#00FE35",
          "symbol": "circle"
         },
         "mode": "markers",
         "name": "cs",
         "orientation": "v",
         "showlegend": true,
         "type": "scatter",
         "x": [
          75.80353546142578
         ],
         "xaxis": "x",
         "y": [
          -114.2217788696289
         ],
         "yaxis": "y"
        },
        {
         "hovertemplate": "color=en<br>x=%{x}<br>y=%{y}<extra></extra>",
         "legendgroup": "en",
         "marker": {
          "color": "#6A76FC",
          "symbol": "circle"
         },
         "mode": "markers",
         "name": "en",
         "orientation": "v",
         "showlegend": true,
         "type": "scatter",
         "x": [
          -151.30287170410156
         ],
         "xaxis": "x",
         "y": [
          -160.8229522705078
         ],
         "yaxis": "y"
        },
        {
         "hovertemplate": "color=es<br>x=%{x}<br>y=%{y}<extra></extra>",
         "legendgroup": "es",
         "marker": {
          "color": "#FED4C4",
          "symbol": "circle"
         },
         "mode": "markers",
         "name": "es",
         "orientation": "v",
         "showlegend": true,
         "type": "scatter",
         "x": [
          -300.4056396484375
         ],
         "xaxis": "x",
         "y": [
          -272.3507995605469
         ],
         "yaxis": "y"
        },
        {
         "hovertemplate": "color=fi<br>x=%{x}<br>y=%{y}<extra></extra>",
         "legendgroup": "fi",
         "marker": {
          "color": "#FE00CE",
          "symbol": "circle"
         },
         "mode": "markers",
         "name": "fi",
         "orientation": "v",
         "showlegend": true,
         "type": "scatter",
         "x": [
          176.93104553222656
         ],
         "xaxis": "x",
         "y": [
          71.22904968261719
         ],
         "yaxis": "y"
        },
        {
         "hovertemplate": "color=fr<br>x=%{x}<br>y=%{y}<extra></extra>",
         "legendgroup": "fr",
         "marker": {
          "color": "#0DF9FF",
          "symbol": "circle"
         },
         "mode": "markers",
         "name": "fr",
         "orientation": "v",
         "showlegend": true,
         "type": "scatter",
         "x": [
          -264.3937683105469
         ],
         "xaxis": "x",
         "y": [
          -237.9473876953125
         ],
         "yaxis": "y"
        },
        {
         "hovertemplate": "color=lv<br>x=%{x}<br>y=%{y}<extra></extra>",
         "legendgroup": "lv",
         "marker": {
          "color": "#F6F926",
          "symbol": "circle"
         },
         "mode": "markers",
         "name": "lv",
         "orientation": "v",
         "showlegend": true,
         "type": "scatter",
         "x": [
          113.22557067871094
         ],
         "xaxis": "x",
         "y": [
          31.49448585510254
         ],
         "yaxis": "y"
        },
        {
         "hovertemplate": "color=pl<br>x=%{x}<br>y=%{y}<extra></extra>",
         "legendgroup": "pl",
         "marker": {
          "color": "#FF9616",
          "symbol": "circle"
         },
         "mode": "markers",
         "name": "pl",
         "orientation": "v",
         "showlegend": true,
         "type": "scatter",
         "x": [
          52.99700927734375
         ],
         "xaxis": "x",
         "y": [
          -56.62438201904297
         ],
         "yaxis": "y"
        },
        {
         "hovertemplate": "color=de<br>x=%{x}<br>y=%{y}<extra></extra>",
         "legendgroup": "de",
         "marker": {
          "color": "#479B55",
          "symbol": "circle"
         },
         "mode": "markers",
         "name": "de",
         "orientation": "v",
         "showlegend": true,
         "type": "scatter",
         "x": [
          -218.58084106445312
         ],
         "xaxis": "x",
         "y": [
          -112.6935806274414
         ],
         "yaxis": "y"
        },
        {
         "hovertemplate": "color=ru<br>x=%{x}<br>y=%{y}<extra></extra>",
         "legendgroup": "ru",
         "marker": {
          "color": "#EEA6FB",
          "symbol": "circle"
         },
         "mode": "markers",
         "name": "ru",
         "orientation": "v",
         "showlegend": true,
         "type": "scatter",
         "x": [
          -0.3743988275527954
         ],
         "xaxis": "x",
         "y": [
          -87.02041625976562
         ],
         "yaxis": "y"
        },
        {
         "hovertemplate": "color=slv<br>x=%{x}<br>y=%{y}<extra></extra>",
         "legendgroup": "slv",
         "marker": {
          "color": "#DC587D",
          "symbol": "circle"
         },
         "mode": "markers",
         "name": "slv",
         "orientation": "v",
         "showlegend": true,
         "type": "scatter",
         "x": [
          120.65096282958984
         ],
         "xaxis": "x",
         "y": [
          -61.64589309692383
         ],
         "yaxis": "y"
        },
        {
         "hovertemplate": "color=fa<br>x=%{x}<br>y=%{y}<extra></extra>",
         "legendgroup": "fa",
         "marker": {
          "color": "#D626FF",
          "symbol": "circle"
         },
         "mode": "markers",
         "name": "fa",
         "orientation": "v",
         "showlegend": true,
         "type": "scatter",
         "x": [
          39.039249420166016
         ],
         "xaxis": "x",
         "y": [
          -208.03041076660156
         ],
         "yaxis": "y"
        },
        {
         "hovertemplate": "color=ko<br>x=%{x}<br>y=%{y}<extra></extra>",
         "legendgroup": "ko",
         "marker": {
          "color": "#6E899C",
          "symbol": "circle"
         },
         "mode": "markers",
         "name": "ko",
         "orientation": "v",
         "showlegend": true,
         "type": "scatter",
         "x": [
          34.713096618652344
         ],
         "xaxis": "x",
         "y": [
          245.744140625
         ],
         "yaxis": "y"
        },
        {
         "hovertemplate": "color=tr<br>x=%{x}<br>y=%{y}<extra></extra>",
         "legendgroup": "tr",
         "marker": {
          "color": "#00B5F7",
          "symbol": "circle"
         },
         "mode": "markers",
         "name": "tr",
         "orientation": "v",
         "showlegend": true,
         "type": "scatter",
         "x": [
          79.69632720947266
         ],
         "xaxis": "x",
         "y": [
          228.86099243164062
         ],
         "yaxis": "y"
        },
        {
         "hovertemplate": "color=nl<br>x=%{x}<br>y=%{y}<extra></extra>",
         "legendgroup": "nl",
         "marker": {
          "color": "#B68E00",
          "symbol": "circle"
         },
         "mode": "markers",
         "name": "nl",
         "orientation": "v",
         "showlegend": true,
         "type": "scatter",
         "x": [
          -236.9232177734375
         ],
         "xaxis": "x",
         "y": [
          -67.96256256103516
         ],
         "yaxis": "y"
        }
       ],
       "layout": {
        "legend": {
         "title": {
          "text": "color"
         },
         "tracegroupgap": 0
        },
        "template": {
         "data": {
          "bar": [
           {
            "error_x": {
             "color": "#2a3f5f"
            },
            "error_y": {
             "color": "#2a3f5f"
            },
            "marker": {
             "line": {
              "color": "#E5ECF6",
              "width": 0.5
             },
             "pattern": {
              "fillmode": "overlay",
              "size": 10,
              "solidity": 0.2
             }
            },
            "type": "bar"
           }
          ],
          "barpolar": [
           {
            "marker": {
             "line": {
              "color": "#E5ECF6",
              "width": 0.5
             },
             "pattern": {
              "fillmode": "overlay",
              "size": 10,
              "solidity": 0.2
             }
            },
            "type": "barpolar"
           }
          ],
          "carpet": [
           {
            "aaxis": {
             "endlinecolor": "#2a3f5f",
             "gridcolor": "white",
             "linecolor": "white",
             "minorgridcolor": "white",
             "startlinecolor": "#2a3f5f"
            },
            "baxis": {
             "endlinecolor": "#2a3f5f",
             "gridcolor": "white",
             "linecolor": "white",
             "minorgridcolor": "white",
             "startlinecolor": "#2a3f5f"
            },
            "type": "carpet"
           }
          ],
          "choropleth": [
           {
            "colorbar": {
             "outlinewidth": 0,
             "ticks": ""
            },
            "type": "choropleth"
           }
          ],
          "contour": [
           {
            "colorbar": {
             "outlinewidth": 0,
             "ticks": ""
            },
            "colorscale": [
             [
              0,
              "#0d0887"
             ],
             [
              0.1111111111111111,
              "#46039f"
             ],
             [
              0.2222222222222222,
              "#7201a8"
             ],
             [
              0.3333333333333333,
              "#9c179e"
             ],
             [
              0.4444444444444444,
              "#bd3786"
             ],
             [
              0.5555555555555556,
              "#d8576b"
             ],
             [
              0.6666666666666666,
              "#ed7953"
             ],
             [
              0.7777777777777778,
              "#fb9f3a"
             ],
             [
              0.8888888888888888,
              "#fdca26"
             ],
             [
              1,
              "#f0f921"
             ]
            ],
            "type": "contour"
           }
          ],
          "contourcarpet": [
           {
            "colorbar": {
             "outlinewidth": 0,
             "ticks": ""
            },
            "type": "contourcarpet"
           }
          ],
          "heatmap": [
           {
            "colorbar": {
             "outlinewidth": 0,
             "ticks": ""
            },
            "colorscale": [
             [
              0,
              "#0d0887"
             ],
             [
              0.1111111111111111,
              "#46039f"
             ],
             [
              0.2222222222222222,
              "#7201a8"
             ],
             [
              0.3333333333333333,
              "#9c179e"
             ],
             [
              0.4444444444444444,
              "#bd3786"
             ],
             [
              0.5555555555555556,
              "#d8576b"
             ],
             [
              0.6666666666666666,
              "#ed7953"
             ],
             [
              0.7777777777777778,
              "#fb9f3a"
             ],
             [
              0.8888888888888888,
              "#fdca26"
             ],
             [
              1,
              "#f0f921"
             ]
            ],
            "type": "heatmap"
           }
          ],
          "heatmapgl": [
           {
            "colorbar": {
             "outlinewidth": 0,
             "ticks": ""
            },
            "colorscale": [
             [
              0,
              "#0d0887"
             ],
             [
              0.1111111111111111,
              "#46039f"
             ],
             [
              0.2222222222222222,
              "#7201a8"
             ],
             [
              0.3333333333333333,
              "#9c179e"
             ],
             [
              0.4444444444444444,
              "#bd3786"
             ],
             [
              0.5555555555555556,
              "#d8576b"
             ],
             [
              0.6666666666666666,
              "#ed7953"
             ],
             [
              0.7777777777777778,
              "#fb9f3a"
             ],
             [
              0.8888888888888888,
              "#fdca26"
             ],
             [
              1,
              "#f0f921"
             ]
            ],
            "type": "heatmapgl"
           }
          ],
          "histogram": [
           {
            "marker": {
             "pattern": {
              "fillmode": "overlay",
              "size": 10,
              "solidity": 0.2
             }
            },
            "type": "histogram"
           }
          ],
          "histogram2d": [
           {
            "colorbar": {
             "outlinewidth": 0,
             "ticks": ""
            },
            "colorscale": [
             [
              0,
              "#0d0887"
             ],
             [
              0.1111111111111111,
              "#46039f"
             ],
             [
              0.2222222222222222,
              "#7201a8"
             ],
             [
              0.3333333333333333,
              "#9c179e"
             ],
             [
              0.4444444444444444,
              "#bd3786"
             ],
             [
              0.5555555555555556,
              "#d8576b"
             ],
             [
              0.6666666666666666,
              "#ed7953"
             ],
             [
              0.7777777777777778,
              "#fb9f3a"
             ],
             [
              0.8888888888888888,
              "#fdca26"
             ],
             [
              1,
              "#f0f921"
             ]
            ],
            "type": "histogram2d"
           }
          ],
          "histogram2dcontour": [
           {
            "colorbar": {
             "outlinewidth": 0,
             "ticks": ""
            },
            "colorscale": [
             [
              0,
              "#0d0887"
             ],
             [
              0.1111111111111111,
              "#46039f"
             ],
             [
              0.2222222222222222,
              "#7201a8"
             ],
             [
              0.3333333333333333,
              "#9c179e"
             ],
             [
              0.4444444444444444,
              "#bd3786"
             ],
             [
              0.5555555555555556,
              "#d8576b"
             ],
             [
              0.6666666666666666,
              "#ed7953"
             ],
             [
              0.7777777777777778,
              "#fb9f3a"
             ],
             [
              0.8888888888888888,
              "#fdca26"
             ],
             [
              1,
              "#f0f921"
             ]
            ],
            "type": "histogram2dcontour"
           }
          ],
          "mesh3d": [
           {
            "colorbar": {
             "outlinewidth": 0,
             "ticks": ""
            },
            "type": "mesh3d"
           }
          ],
          "parcoords": [
           {
            "line": {
             "colorbar": {
              "outlinewidth": 0,
              "ticks": ""
             }
            },
            "type": "parcoords"
           }
          ],
          "pie": [
           {
            "automargin": true,
            "type": "pie"
           }
          ],
          "scatter": [
           {
            "fillpattern": {
             "fillmode": "overlay",
             "size": 10,
             "solidity": 0.2
            },
            "type": "scatter"
           }
          ],
          "scatter3d": [
           {
            "line": {
             "colorbar": {
              "outlinewidth": 0,
              "ticks": ""
             }
            },
            "marker": {
             "colorbar": {
              "outlinewidth": 0,
              "ticks": ""
             }
            },
            "type": "scatter3d"
           }
          ],
          "scattercarpet": [
           {
            "marker": {
             "colorbar": {
              "outlinewidth": 0,
              "ticks": ""
             }
            },
            "type": "scattercarpet"
           }
          ],
          "scattergeo": [
           {
            "marker": {
             "colorbar": {
              "outlinewidth": 0,
              "ticks": ""
             }
            },
            "type": "scattergeo"
           }
          ],
          "scattergl": [
           {
            "marker": {
             "colorbar": {
              "outlinewidth": 0,
              "ticks": ""
             }
            },
            "type": "scattergl"
           }
          ],
          "scattermapbox": [
           {
            "marker": {
             "colorbar": {
              "outlinewidth": 0,
              "ticks": ""
             }
            },
            "type": "scattermapbox"
           }
          ],
          "scatterpolar": [
           {
            "marker": {
             "colorbar": {
              "outlinewidth": 0,
              "ticks": ""
             }
            },
            "type": "scatterpolar"
           }
          ],
          "scatterpolargl": [
           {
            "marker": {
             "colorbar": {
              "outlinewidth": 0,
              "ticks": ""
             }
            },
            "type": "scatterpolargl"
           }
          ],
          "scatterternary": [
           {
            "marker": {
             "colorbar": {
              "outlinewidth": 0,
              "ticks": ""
             }
            },
            "type": "scatterternary"
           }
          ],
          "surface": [
           {
            "colorbar": {
             "outlinewidth": 0,
             "ticks": ""
            },
            "colorscale": [
             [
              0,
              "#0d0887"
             ],
             [
              0.1111111111111111,
              "#46039f"
             ],
             [
              0.2222222222222222,
              "#7201a8"
             ],
             [
              0.3333333333333333,
              "#9c179e"
             ],
             [
              0.4444444444444444,
              "#bd3786"
             ],
             [
              0.5555555555555556,
              "#d8576b"
             ],
             [
              0.6666666666666666,
              "#ed7953"
             ],
             [
              0.7777777777777778,
              "#fb9f3a"
             ],
             [
              0.8888888888888888,
              "#fdca26"
             ],
             [
              1,
              "#f0f921"
             ]
            ],
            "type": "surface"
           }
          ],
          "table": [
           {
            "cells": {
             "fill": {
              "color": "#EBF0F8"
             },
             "line": {
              "color": "white"
             }
            },
            "header": {
             "fill": {
              "color": "#C8D4E3"
             },
             "line": {
              "color": "white"
             }
            },
            "type": "table"
           }
          ]
         },
         "layout": {
          "annotationdefaults": {
           "arrowcolor": "#2a3f5f",
           "arrowhead": 0,
           "arrowwidth": 1
          },
          "autotypenumbers": "strict",
          "coloraxis": {
           "colorbar": {
            "outlinewidth": 0,
            "ticks": ""
           }
          },
          "colorscale": {
           "diverging": [
            [
             0,
             "#8e0152"
            ],
            [
             0.1,
             "#c51b7d"
            ],
            [
             0.2,
             "#de77ae"
            ],
            [
             0.3,
             "#f1b6da"
            ],
            [
             0.4,
             "#fde0ef"
            ],
            [
             0.5,
             "#f7f7f7"
            ],
            [
             0.6,
             "#e6f5d0"
            ],
            [
             0.7,
             "#b8e186"
            ],
            [
             0.8,
             "#7fbc41"
            ],
            [
             0.9,
             "#4d9221"
            ],
            [
             1,
             "#276419"
            ]
           ],
           "sequential": [
            [
             0,
             "#0d0887"
            ],
            [
             0.1111111111111111,
             "#46039f"
            ],
            [
             0.2222222222222222,
             "#7201a8"
            ],
            [
             0.3333333333333333,
             "#9c179e"
            ],
            [
             0.4444444444444444,
             "#bd3786"
            ],
            [
             0.5555555555555556,
             "#d8576b"
            ],
            [
             0.6666666666666666,
             "#ed7953"
            ],
            [
             0.7777777777777778,
             "#fb9f3a"
            ],
            [
             0.8888888888888888,
             "#fdca26"
            ],
            [
             1,
             "#f0f921"
            ]
           ],
           "sequentialminus": [
            [
             0,
             "#0d0887"
            ],
            [
             0.1111111111111111,
             "#46039f"
            ],
            [
             0.2222222222222222,
             "#7201a8"
            ],
            [
             0.3333333333333333,
             "#9c179e"
            ],
            [
             0.4444444444444444,
             "#bd3786"
            ],
            [
             0.5555555555555556,
             "#d8576b"
            ],
            [
             0.6666666666666666,
             "#ed7953"
            ],
            [
             0.7777777777777778,
             "#fb9f3a"
            ],
            [
             0.8888888888888888,
             "#fdca26"
            ],
            [
             1,
             "#f0f921"
            ]
           ]
          },
          "colorway": [
           "#636efa",
           "#EF553B",
           "#00cc96",
           "#ab63fa",
           "#FFA15A",
           "#19d3f3",
           "#FF6692",
           "#B6E880",
           "#FF97FF",
           "#FECB52"
          ],
          "font": {
           "color": "#2a3f5f"
          },
          "geo": {
           "bgcolor": "white",
           "lakecolor": "white",
           "landcolor": "#E5ECF6",
           "showlakes": true,
           "showland": true,
           "subunitcolor": "white"
          },
          "hoverlabel": {
           "align": "left"
          },
          "hovermode": "closest",
          "mapbox": {
           "style": "light"
          },
          "paper_bgcolor": "white",
          "plot_bgcolor": "#E5ECF6",
          "polar": {
           "angularaxis": {
            "gridcolor": "white",
            "linecolor": "white",
            "ticks": ""
           },
           "bgcolor": "#E5ECF6",
           "radialaxis": {
            "gridcolor": "white",
            "linecolor": "white",
            "ticks": ""
           }
          },
          "scene": {
           "xaxis": {
            "backgroundcolor": "#E5ECF6",
            "gridcolor": "white",
            "gridwidth": 2,
            "linecolor": "white",
            "showbackground": true,
            "ticks": "",
            "zerolinecolor": "white"
           },
           "yaxis": {
            "backgroundcolor": "#E5ECF6",
            "gridcolor": "white",
            "gridwidth": 2,
            "linecolor": "white",
            "showbackground": true,
            "ticks": "",
            "zerolinecolor": "white"
           },
           "zaxis": {
            "backgroundcolor": "#E5ECF6",
            "gridcolor": "white",
            "gridwidth": 2,
            "linecolor": "white",
            "showbackground": true,
            "ticks": "",
            "zerolinecolor": "white"
           }
          },
          "shapedefaults": {
           "line": {
            "color": "#2a3f5f"
           }
          },
          "ternary": {
           "aaxis": {
            "gridcolor": "white",
            "linecolor": "white",
            "ticks": ""
           },
           "baxis": {
            "gridcolor": "white",
            "linecolor": "white",
            "ticks": ""
           },
           "bgcolor": "#E5ECF6",
           "caxis": {
            "gridcolor": "white",
            "linecolor": "white",
            "ticks": ""
           }
          },
          "title": {
           "x": 0.05
          },
          "xaxis": {
           "automargin": true,
           "gridcolor": "white",
           "linecolor": "white",
           "ticks": "",
           "title": {
            "standoff": 15
           },
           "zerolinecolor": "white",
           "zerolinewidth": 2
          },
          "yaxis": {
           "automargin": true,
           "gridcolor": "white",
           "linecolor": "white",
           "ticks": "",
           "title": {
            "standoff": 15
           },
           "zerolinecolor": "white",
           "zerolinewidth": 2
          }
         }
        },
        "title": {
         "text": "perplexity 4"
        },
        "xaxis": {
         "anchor": "y",
         "domain": [
          0,
          1
         ],
         "title": {
          "text": "x"
         }
        },
        "yaxis": {
         "anchor": "x",
         "domain": [
          0,
          1
         ],
         "title": {
          "text": "y"
         }
        }
       }
      }
     },
     "metadata": {},
     "output_type": "display_data"
    },
    {
     "name": "stderr",
     "output_type": "stream",
     "text": [
      "/home/amysiak/thesis/env/lib/python3.8/site-packages/sklearn/manifold/_t_sne.py:800: FutureWarning:\n",
      "\n",
      "The default initialization in TSNE will change from 'random' to 'pca' in 1.2.\n",
      "\n",
      "/home/amysiak/thesis/env/lib/python3.8/site-packages/sklearn/manifold/_t_sne.py:810: FutureWarning:\n",
      "\n",
      "The default learning rate in TSNE will change from 200.0 to 'auto' in 1.2.\n",
      "\n"
     ]
    },
    {
     "data": {
      "application/vnd.plotly.v1+json": {
       "config": {
        "plotlyServerURL": "https://plot.ly"
       },
       "data": [
        {
         "hovertemplate": "color=be<br>x=%{x}<br>y=%{y}<extra></extra>",
         "legendgroup": "be",
         "marker": {
          "color": "#FD3216",
          "symbol": "circle"
         },
         "mode": "markers",
         "name": "be",
         "orientation": "v",
         "showlegend": true,
         "type": "scatter",
         "x": [
          213.08326721191406
         ],
         "xaxis": "x",
         "y": [
          -178.37725830078125
         ],
         "yaxis": "y"
        },
        {
         "hovertemplate": "color=cs<br>x=%{x}<br>y=%{y}<extra></extra>",
         "legendgroup": "cs",
         "marker": {
          "color": "#00FE35",
          "symbol": "circle"
         },
         "mode": "markers",
         "name": "cs",
         "orientation": "v",
         "showlegend": true,
         "type": "scatter",
         "x": [
          -34.32149124145508
         ],
         "xaxis": "x",
         "y": [
          -171.7494659423828
         ],
         "yaxis": "y"
        },
        {
         "hovertemplate": "color=en<br>x=%{x}<br>y=%{y}<extra></extra>",
         "legendgroup": "en",
         "marker": {
          "color": "#6A76FC",
          "symbol": "circle"
         },
         "mode": "markers",
         "name": "en",
         "orientation": "v",
         "showlegend": true,
         "type": "scatter",
         "x": [
          419.0039367675781
         ],
         "xaxis": "x",
         "y": [
          74.239501953125
         ],
         "yaxis": "y"
        },
        {
         "hovertemplate": "color=es<br>x=%{x}<br>y=%{y}<extra></extra>",
         "legendgroup": "es",
         "marker": {
          "color": "#FED4C4",
          "symbol": "circle"
         },
         "mode": "markers",
         "name": "es",
         "orientation": "v",
         "showlegend": true,
         "type": "scatter",
         "x": [
          -243.428955078125
         ],
         "xaxis": "x",
         "y": [
          115.70747375488281
         ],
         "yaxis": "y"
        },
        {
         "hovertemplate": "color=fi<br>x=%{x}<br>y=%{y}<extra></extra>",
         "legendgroup": "fi",
         "marker": {
          "color": "#FE00CE",
          "symbol": "circle"
         },
         "mode": "markers",
         "name": "fi",
         "orientation": "v",
         "showlegend": true,
         "type": "scatter",
         "x": [
          -264.0945129394531
         ],
         "xaxis": "x",
         "y": [
          -434.29852294921875
         ],
         "yaxis": "y"
        },
        {
         "hovertemplate": "color=fr<br>x=%{x}<br>y=%{y}<extra></extra>",
         "legendgroup": "fr",
         "marker": {
          "color": "#0DF9FF",
          "symbol": "circle"
         },
         "mode": "markers",
         "name": "fr",
         "orientation": "v",
         "showlegend": true,
         "type": "scatter",
         "x": [
          -137.78822326660156
         ],
         "xaxis": "x",
         "y": [
          126.82290649414062
         ],
         "yaxis": "y"
        },
        {
         "hovertemplate": "color=lv<br>x=%{x}<br>y=%{y}<extra></extra>",
         "legendgroup": "lv",
         "marker": {
          "color": "#F6F926",
          "symbol": "circle"
         },
         "mode": "markers",
         "name": "lv",
         "orientation": "v",
         "showlegend": true,
         "type": "scatter",
         "x": [
          -192.343994140625
         ],
         "xaxis": "x",
         "y": [
          -297.8231506347656
         ],
         "yaxis": "y"
        },
        {
         "hovertemplate": "color=pl<br>x=%{x}<br>y=%{y}<extra></extra>",
         "legendgroup": "pl",
         "marker": {
          "color": "#FF9616",
          "symbol": "circle"
         },
         "mode": "markers",
         "name": "pl",
         "orientation": "v",
         "showlegend": true,
         "type": "scatter",
         "x": [
          85.0386962890625
         ],
         "xaxis": "x",
         "y": [
          -236.14990234375
         ],
         "yaxis": "y"
        },
        {
         "hovertemplate": "color=de<br>x=%{x}<br>y=%{y}<extra></extra>",
         "legendgroup": "de",
         "marker": {
          "color": "#479B55",
          "symbol": "circle"
         },
         "mode": "markers",
         "name": "de",
         "orientation": "v",
         "showlegend": true,
         "type": "scatter",
         "x": [
          242.67007446289062
         ],
         "xaxis": "x",
         "y": [
          154.6888885498047
         ],
         "yaxis": "y"
        },
        {
         "hovertemplate": "color=ru<br>x=%{x}<br>y=%{y}<extra></extra>",
         "legendgroup": "ru",
         "marker": {
          "color": "#EEA6FB",
          "symbol": "circle"
         },
         "mode": "markers",
         "name": "ru",
         "orientation": "v",
         "showlegend": true,
         "type": "scatter",
         "x": [
          92.20804595947266
         ],
         "xaxis": "x",
         "y": [
          -104.13117980957031
         ],
         "yaxis": "y"
        },
        {
         "hovertemplate": "color=slv<br>x=%{x}<br>y=%{y}<extra></extra>",
         "legendgroup": "slv",
         "marker": {
          "color": "#DC587D",
          "symbol": "circle"
         },
         "mode": "markers",
         "name": "slv",
         "orientation": "v",
         "showlegend": true,
         "type": "scatter",
         "x": [
          -13.65442180633545
         ],
         "xaxis": "x",
         "y": [
          -317.6258239746094
         ],
         "yaxis": "y"
        },
        {
         "hovertemplate": "color=fa<br>x=%{x}<br>y=%{y}<extra></extra>",
         "legendgroup": "fa",
         "marker": {
          "color": "#D626FF",
          "symbol": "circle"
         },
         "mode": "markers",
         "name": "fa",
         "orientation": "v",
         "showlegend": true,
         "type": "scatter",
         "x": [
          248.84825134277344
         ],
         "xaxis": "x",
         "y": [
          -382.059326171875
         ],
         "yaxis": "y"
        },
        {
         "hovertemplate": "color=ko<br>x=%{x}<br>y=%{y}<extra></extra>",
         "legendgroup": "ko",
         "marker": {
          "color": "#6E899C",
          "symbol": "circle"
         },
         "mode": "markers",
         "name": "ko",
         "orientation": "v",
         "showlegend": true,
         "type": "scatter",
         "x": [
          -16.095020294189453
         ],
         "xaxis": "x",
         "y": [
          523.0352172851562
         ],
         "yaxis": "y"
        },
        {
         "hovertemplate": "color=tr<br>x=%{x}<br>y=%{y}<extra></extra>",
         "legendgroup": "tr",
         "marker": {
          "color": "#00B5F7",
          "symbol": "circle"
         },
         "mode": "markers",
         "name": "tr",
         "orientation": "v",
         "showlegend": true,
         "type": "scatter",
         "x": [
          -21.087417602539062
         ],
         "xaxis": "x",
         "y": [
          422.890625
         ],
         "yaxis": "y"
        },
        {
         "hovertemplate": "color=nl<br>x=%{x}<br>y=%{y}<extra></extra>",
         "legendgroup": "nl",
         "marker": {
          "color": "#B68E00",
          "symbol": "circle"
         },
         "mode": "markers",
         "name": "nl",
         "orientation": "v",
         "showlegend": true,
         "type": "scatter",
         "x": [
          301.55377197265625
         ],
         "xaxis": "x",
         "y": [
          237.42674255371094
         ],
         "yaxis": "y"
        }
       ],
       "layout": {
        "legend": {
         "title": {
          "text": "color"
         },
         "tracegroupgap": 0
        },
        "template": {
         "data": {
          "bar": [
           {
            "error_x": {
             "color": "#2a3f5f"
            },
            "error_y": {
             "color": "#2a3f5f"
            },
            "marker": {
             "line": {
              "color": "#E5ECF6",
              "width": 0.5
             },
             "pattern": {
              "fillmode": "overlay",
              "size": 10,
              "solidity": 0.2
             }
            },
            "type": "bar"
           }
          ],
          "barpolar": [
           {
            "marker": {
             "line": {
              "color": "#E5ECF6",
              "width": 0.5
             },
             "pattern": {
              "fillmode": "overlay",
              "size": 10,
              "solidity": 0.2
             }
            },
            "type": "barpolar"
           }
          ],
          "carpet": [
           {
            "aaxis": {
             "endlinecolor": "#2a3f5f",
             "gridcolor": "white",
             "linecolor": "white",
             "minorgridcolor": "white",
             "startlinecolor": "#2a3f5f"
            },
            "baxis": {
             "endlinecolor": "#2a3f5f",
             "gridcolor": "white",
             "linecolor": "white",
             "minorgridcolor": "white",
             "startlinecolor": "#2a3f5f"
            },
            "type": "carpet"
           }
          ],
          "choropleth": [
           {
            "colorbar": {
             "outlinewidth": 0,
             "ticks": ""
            },
            "type": "choropleth"
           }
          ],
          "contour": [
           {
            "colorbar": {
             "outlinewidth": 0,
             "ticks": ""
            },
            "colorscale": [
             [
              0,
              "#0d0887"
             ],
             [
              0.1111111111111111,
              "#46039f"
             ],
             [
              0.2222222222222222,
              "#7201a8"
             ],
             [
              0.3333333333333333,
              "#9c179e"
             ],
             [
              0.4444444444444444,
              "#bd3786"
             ],
             [
              0.5555555555555556,
              "#d8576b"
             ],
             [
              0.6666666666666666,
              "#ed7953"
             ],
             [
              0.7777777777777778,
              "#fb9f3a"
             ],
             [
              0.8888888888888888,
              "#fdca26"
             ],
             [
              1,
              "#f0f921"
             ]
            ],
            "type": "contour"
           }
          ],
          "contourcarpet": [
           {
            "colorbar": {
             "outlinewidth": 0,
             "ticks": ""
            },
            "type": "contourcarpet"
           }
          ],
          "heatmap": [
           {
            "colorbar": {
             "outlinewidth": 0,
             "ticks": ""
            },
            "colorscale": [
             [
              0,
              "#0d0887"
             ],
             [
              0.1111111111111111,
              "#46039f"
             ],
             [
              0.2222222222222222,
              "#7201a8"
             ],
             [
              0.3333333333333333,
              "#9c179e"
             ],
             [
              0.4444444444444444,
              "#bd3786"
             ],
             [
              0.5555555555555556,
              "#d8576b"
             ],
             [
              0.6666666666666666,
              "#ed7953"
             ],
             [
              0.7777777777777778,
              "#fb9f3a"
             ],
             [
              0.8888888888888888,
              "#fdca26"
             ],
             [
              1,
              "#f0f921"
             ]
            ],
            "type": "heatmap"
           }
          ],
          "heatmapgl": [
           {
            "colorbar": {
             "outlinewidth": 0,
             "ticks": ""
            },
            "colorscale": [
             [
              0,
              "#0d0887"
             ],
             [
              0.1111111111111111,
              "#46039f"
             ],
             [
              0.2222222222222222,
              "#7201a8"
             ],
             [
              0.3333333333333333,
              "#9c179e"
             ],
             [
              0.4444444444444444,
              "#bd3786"
             ],
             [
              0.5555555555555556,
              "#d8576b"
             ],
             [
              0.6666666666666666,
              "#ed7953"
             ],
             [
              0.7777777777777778,
              "#fb9f3a"
             ],
             [
              0.8888888888888888,
              "#fdca26"
             ],
             [
              1,
              "#f0f921"
             ]
            ],
            "type": "heatmapgl"
           }
          ],
          "histogram": [
           {
            "marker": {
             "pattern": {
              "fillmode": "overlay",
              "size": 10,
              "solidity": 0.2
             }
            },
            "type": "histogram"
           }
          ],
          "histogram2d": [
           {
            "colorbar": {
             "outlinewidth": 0,
             "ticks": ""
            },
            "colorscale": [
             [
              0,
              "#0d0887"
             ],
             [
              0.1111111111111111,
              "#46039f"
             ],
             [
              0.2222222222222222,
              "#7201a8"
             ],
             [
              0.3333333333333333,
              "#9c179e"
             ],
             [
              0.4444444444444444,
              "#bd3786"
             ],
             [
              0.5555555555555556,
              "#d8576b"
             ],
             [
              0.6666666666666666,
              "#ed7953"
             ],
             [
              0.7777777777777778,
              "#fb9f3a"
             ],
             [
              0.8888888888888888,
              "#fdca26"
             ],
             [
              1,
              "#f0f921"
             ]
            ],
            "type": "histogram2d"
           }
          ],
          "histogram2dcontour": [
           {
            "colorbar": {
             "outlinewidth": 0,
             "ticks": ""
            },
            "colorscale": [
             [
              0,
              "#0d0887"
             ],
             [
              0.1111111111111111,
              "#46039f"
             ],
             [
              0.2222222222222222,
              "#7201a8"
             ],
             [
              0.3333333333333333,
              "#9c179e"
             ],
             [
              0.4444444444444444,
              "#bd3786"
             ],
             [
              0.5555555555555556,
              "#d8576b"
             ],
             [
              0.6666666666666666,
              "#ed7953"
             ],
             [
              0.7777777777777778,
              "#fb9f3a"
             ],
             [
              0.8888888888888888,
              "#fdca26"
             ],
             [
              1,
              "#f0f921"
             ]
            ],
            "type": "histogram2dcontour"
           }
          ],
          "mesh3d": [
           {
            "colorbar": {
             "outlinewidth": 0,
             "ticks": ""
            },
            "type": "mesh3d"
           }
          ],
          "parcoords": [
           {
            "line": {
             "colorbar": {
              "outlinewidth": 0,
              "ticks": ""
             }
            },
            "type": "parcoords"
           }
          ],
          "pie": [
           {
            "automargin": true,
            "type": "pie"
           }
          ],
          "scatter": [
           {
            "fillpattern": {
             "fillmode": "overlay",
             "size": 10,
             "solidity": 0.2
            },
            "type": "scatter"
           }
          ],
          "scatter3d": [
           {
            "line": {
             "colorbar": {
              "outlinewidth": 0,
              "ticks": ""
             }
            },
            "marker": {
             "colorbar": {
              "outlinewidth": 0,
              "ticks": ""
             }
            },
            "type": "scatter3d"
           }
          ],
          "scattercarpet": [
           {
            "marker": {
             "colorbar": {
              "outlinewidth": 0,
              "ticks": ""
             }
            },
            "type": "scattercarpet"
           }
          ],
          "scattergeo": [
           {
            "marker": {
             "colorbar": {
              "outlinewidth": 0,
              "ticks": ""
             }
            },
            "type": "scattergeo"
           }
          ],
          "scattergl": [
           {
            "marker": {
             "colorbar": {
              "outlinewidth": 0,
              "ticks": ""
             }
            },
            "type": "scattergl"
           }
          ],
          "scattermapbox": [
           {
            "marker": {
             "colorbar": {
              "outlinewidth": 0,
              "ticks": ""
             }
            },
            "type": "scattermapbox"
           }
          ],
          "scatterpolar": [
           {
            "marker": {
             "colorbar": {
              "outlinewidth": 0,
              "ticks": ""
             }
            },
            "type": "scatterpolar"
           }
          ],
          "scatterpolargl": [
           {
            "marker": {
             "colorbar": {
              "outlinewidth": 0,
              "ticks": ""
             }
            },
            "type": "scatterpolargl"
           }
          ],
          "scatterternary": [
           {
            "marker": {
             "colorbar": {
              "outlinewidth": 0,
              "ticks": ""
             }
            },
            "type": "scatterternary"
           }
          ],
          "surface": [
           {
            "colorbar": {
             "outlinewidth": 0,
             "ticks": ""
            },
            "colorscale": [
             [
              0,
              "#0d0887"
             ],
             [
              0.1111111111111111,
              "#46039f"
             ],
             [
              0.2222222222222222,
              "#7201a8"
             ],
             [
              0.3333333333333333,
              "#9c179e"
             ],
             [
              0.4444444444444444,
              "#bd3786"
             ],
             [
              0.5555555555555556,
              "#d8576b"
             ],
             [
              0.6666666666666666,
              "#ed7953"
             ],
             [
              0.7777777777777778,
              "#fb9f3a"
             ],
             [
              0.8888888888888888,
              "#fdca26"
             ],
             [
              1,
              "#f0f921"
             ]
            ],
            "type": "surface"
           }
          ],
          "table": [
           {
            "cells": {
             "fill": {
              "color": "#EBF0F8"
             },
             "line": {
              "color": "white"
             }
            },
            "header": {
             "fill": {
              "color": "#C8D4E3"
             },
             "line": {
              "color": "white"
             }
            },
            "type": "table"
           }
          ]
         },
         "layout": {
          "annotationdefaults": {
           "arrowcolor": "#2a3f5f",
           "arrowhead": 0,
           "arrowwidth": 1
          },
          "autotypenumbers": "strict",
          "coloraxis": {
           "colorbar": {
            "outlinewidth": 0,
            "ticks": ""
           }
          },
          "colorscale": {
           "diverging": [
            [
             0,
             "#8e0152"
            ],
            [
             0.1,
             "#c51b7d"
            ],
            [
             0.2,
             "#de77ae"
            ],
            [
             0.3,
             "#f1b6da"
            ],
            [
             0.4,
             "#fde0ef"
            ],
            [
             0.5,
             "#f7f7f7"
            ],
            [
             0.6,
             "#e6f5d0"
            ],
            [
             0.7,
             "#b8e186"
            ],
            [
             0.8,
             "#7fbc41"
            ],
            [
             0.9,
             "#4d9221"
            ],
            [
             1,
             "#276419"
            ]
           ],
           "sequential": [
            [
             0,
             "#0d0887"
            ],
            [
             0.1111111111111111,
             "#46039f"
            ],
            [
             0.2222222222222222,
             "#7201a8"
            ],
            [
             0.3333333333333333,
             "#9c179e"
            ],
            [
             0.4444444444444444,
             "#bd3786"
            ],
            [
             0.5555555555555556,
             "#d8576b"
            ],
            [
             0.6666666666666666,
             "#ed7953"
            ],
            [
             0.7777777777777778,
             "#fb9f3a"
            ],
            [
             0.8888888888888888,
             "#fdca26"
            ],
            [
             1,
             "#f0f921"
            ]
           ],
           "sequentialminus": [
            [
             0,
             "#0d0887"
            ],
            [
             0.1111111111111111,
             "#46039f"
            ],
            [
             0.2222222222222222,
             "#7201a8"
            ],
            [
             0.3333333333333333,
             "#9c179e"
            ],
            [
             0.4444444444444444,
             "#bd3786"
            ],
            [
             0.5555555555555556,
             "#d8576b"
            ],
            [
             0.6666666666666666,
             "#ed7953"
            ],
            [
             0.7777777777777778,
             "#fb9f3a"
            ],
            [
             0.8888888888888888,
             "#fdca26"
            ],
            [
             1,
             "#f0f921"
            ]
           ]
          },
          "colorway": [
           "#636efa",
           "#EF553B",
           "#00cc96",
           "#ab63fa",
           "#FFA15A",
           "#19d3f3",
           "#FF6692",
           "#B6E880",
           "#FF97FF",
           "#FECB52"
          ],
          "font": {
           "color": "#2a3f5f"
          },
          "geo": {
           "bgcolor": "white",
           "lakecolor": "white",
           "landcolor": "#E5ECF6",
           "showlakes": true,
           "showland": true,
           "subunitcolor": "white"
          },
          "hoverlabel": {
           "align": "left"
          },
          "hovermode": "closest",
          "mapbox": {
           "style": "light"
          },
          "paper_bgcolor": "white",
          "plot_bgcolor": "#E5ECF6",
          "polar": {
           "angularaxis": {
            "gridcolor": "white",
            "linecolor": "white",
            "ticks": ""
           },
           "bgcolor": "#E5ECF6",
           "radialaxis": {
            "gridcolor": "white",
            "linecolor": "white",
            "ticks": ""
           }
          },
          "scene": {
           "xaxis": {
            "backgroundcolor": "#E5ECF6",
            "gridcolor": "white",
            "gridwidth": 2,
            "linecolor": "white",
            "showbackground": true,
            "ticks": "",
            "zerolinecolor": "white"
           },
           "yaxis": {
            "backgroundcolor": "#E5ECF6",
            "gridcolor": "white",
            "gridwidth": 2,
            "linecolor": "white",
            "showbackground": true,
            "ticks": "",
            "zerolinecolor": "white"
           },
           "zaxis": {
            "backgroundcolor": "#E5ECF6",
            "gridcolor": "white",
            "gridwidth": 2,
            "linecolor": "white",
            "showbackground": true,
            "ticks": "",
            "zerolinecolor": "white"
           }
          },
          "shapedefaults": {
           "line": {
            "color": "#2a3f5f"
           }
          },
          "ternary": {
           "aaxis": {
            "gridcolor": "white",
            "linecolor": "white",
            "ticks": ""
           },
           "baxis": {
            "gridcolor": "white",
            "linecolor": "white",
            "ticks": ""
           },
           "bgcolor": "#E5ECF6",
           "caxis": {
            "gridcolor": "white",
            "linecolor": "white",
            "ticks": ""
           }
          },
          "title": {
           "x": 0.05
          },
          "xaxis": {
           "automargin": true,
           "gridcolor": "white",
           "linecolor": "white",
           "ticks": "",
           "title": {
            "standoff": 15
           },
           "zerolinecolor": "white",
           "zerolinewidth": 2
          },
          "yaxis": {
           "automargin": true,
           "gridcolor": "white",
           "linecolor": "white",
           "ticks": "",
           "title": {
            "standoff": 15
           },
           "zerolinecolor": "white",
           "zerolinewidth": 2
          }
         }
        },
        "title": {
         "text": "perplexity 5"
        },
        "xaxis": {
         "anchor": "y",
         "domain": [
          0,
          1
         ],
         "title": {
          "text": "x"
         }
        },
        "yaxis": {
         "anchor": "x",
         "domain": [
          0,
          1
         ],
         "title": {
          "text": "y"
         }
        }
       }
      }
     },
     "metadata": {},
     "output_type": "display_data"
    },
    {
     "name": "stderr",
     "output_type": "stream",
     "text": [
      "/home/amysiak/thesis/env/lib/python3.8/site-packages/sklearn/manifold/_t_sne.py:800: FutureWarning:\n",
      "\n",
      "The default initialization in TSNE will change from 'random' to 'pca' in 1.2.\n",
      "\n",
      "/home/amysiak/thesis/env/lib/python3.8/site-packages/sklearn/manifold/_t_sne.py:810: FutureWarning:\n",
      "\n",
      "The default learning rate in TSNE will change from 200.0 to 'auto' in 1.2.\n",
      "\n"
     ]
    },
    {
     "data": {
      "application/vnd.plotly.v1+json": {
       "config": {
        "plotlyServerURL": "https://plot.ly"
       },
       "data": [
        {
         "hovertemplate": "color=be<br>x=%{x}<br>y=%{y}<extra></extra>",
         "legendgroup": "be",
         "marker": {
          "color": "#FD3216",
          "symbol": "circle"
         },
         "mode": "markers",
         "name": "be",
         "orientation": "v",
         "showlegend": true,
         "type": "scatter",
         "x": [
          -72.35608673095703
         ],
         "xaxis": "x",
         "y": [
          -94.75706481933594
         ],
         "yaxis": "y"
        },
        {
         "hovertemplate": "color=cs<br>x=%{x}<br>y=%{y}<extra></extra>",
         "legendgroup": "cs",
         "marker": {
          "color": "#00FE35",
          "symbol": "circle"
         },
         "mode": "markers",
         "name": "cs",
         "orientation": "v",
         "showlegend": true,
         "type": "scatter",
         "x": [
          -79.17843627929688
         ],
         "xaxis": "x",
         "y": [
          144.23672485351562
         ],
         "yaxis": "y"
        },
        {
         "hovertemplate": "color=en<br>x=%{x}<br>y=%{y}<extra></extra>",
         "legendgroup": "en",
         "marker": {
          "color": "#6A76FC",
          "symbol": "circle"
         },
         "mode": "markers",
         "name": "en",
         "orientation": "v",
         "showlegend": true,
         "type": "scatter",
         "x": [
          419.60302734375
         ],
         "xaxis": "x",
         "y": [
          -179.24664306640625
         ],
         "yaxis": "y"
        },
        {
         "hovertemplate": "color=es<br>x=%{x}<br>y=%{y}<extra></extra>",
         "legendgroup": "es",
         "marker": {
          "color": "#FED4C4",
          "symbol": "circle"
         },
         "mode": "markers",
         "name": "es",
         "orientation": "v",
         "showlegend": true,
         "type": "scatter",
         "x": [
          156.21505737304688
         ],
         "xaxis": "x",
         "y": [
          -329.5301208496094
         ],
         "yaxis": "y"
        },
        {
         "hovertemplate": "color=fi<br>x=%{x}<br>y=%{y}<extra></extra>",
         "legendgroup": "fi",
         "marker": {
          "color": "#FE00CE",
          "symbol": "circle"
         },
         "mode": "markers",
         "name": "fi",
         "orientation": "v",
         "showlegend": true,
         "type": "scatter",
         "x": [
          -140.3311004638672
         ],
         "xaxis": "x",
         "y": [
          347.1228942871094
         ],
         "yaxis": "y"
        },
        {
         "hovertemplate": "color=fr<br>x=%{x}<br>y=%{y}<extra></extra>",
         "legendgroup": "fr",
         "marker": {
          "color": "#0DF9FF",
          "symbol": "circle"
         },
         "mode": "markers",
         "name": "fr",
         "orientation": "v",
         "showlegend": true,
         "type": "scatter",
         "x": [
          248.16232299804688
         ],
         "xaxis": "x",
         "y": [
          -281.5086364746094
         ],
         "yaxis": "y"
        },
        {
         "hovertemplate": "color=lv<br>x=%{x}<br>y=%{y}<extra></extra>",
         "legendgroup": "lv",
         "marker": {
          "color": "#F6F926",
          "symbol": "circle"
         },
         "mode": "markers",
         "name": "lv",
         "orientation": "v",
         "showlegend": true,
         "type": "scatter",
         "x": [
          3.394564151763916
         ],
         "xaxis": "x",
         "y": [
          295.9988098144531
         ],
         "yaxis": "y"
        },
        {
         "hovertemplate": "color=pl<br>x=%{x}<br>y=%{y}<extra></extra>",
         "legendgroup": "pl",
         "marker": {
          "color": "#FF9616",
          "symbol": "circle"
         },
         "mode": "markers",
         "name": "pl",
         "orientation": "v",
         "showlegend": true,
         "type": "scatter",
         "x": [
          -76.54603576660156
         ],
         "xaxis": "x",
         "y": [
          32.82927703857422
         ],
         "yaxis": "y"
        },
        {
         "hovertemplate": "color=de<br>x=%{x}<br>y=%{y}<extra></extra>",
         "legendgroup": "de",
         "marker": {
          "color": "#479B55",
          "symbol": "circle"
         },
         "mode": "markers",
         "name": "de",
         "orientation": "v",
         "showlegend": true,
         "type": "scatter",
         "x": [
          271.17303466796875
         ],
         "xaxis": "x",
         "y": [
          -70.93905639648438
         ],
         "yaxis": "y"
        },
        {
         "hovertemplate": "color=ru<br>x=%{x}<br>y=%{y}<extra></extra>",
         "legendgroup": "ru",
         "marker": {
          "color": "#EEA6FB",
          "symbol": "circle"
         },
         "mode": "markers",
         "name": "ru",
         "orientation": "v",
         "showlegend": true,
         "type": "scatter",
         "x": [
          37.833866119384766
         ],
         "xaxis": "x",
         "y": [
          -9.784185409545898
         ],
         "yaxis": "y"
        },
        {
         "hovertemplate": "color=slv<br>x=%{x}<br>y=%{y}<extra></extra>",
         "legendgroup": "slv",
         "marker": {
          "color": "#DC587D",
          "symbol": "circle"
         },
         "mode": "markers",
         "name": "slv",
         "orientation": "v",
         "showlegend": true,
         "type": "scatter",
         "x": [
          52.41053771972656
         ],
         "xaxis": "x",
         "y": [
          125.65586853027344
         ],
         "yaxis": "y"
        },
        {
         "hovertemplate": "color=fa<br>x=%{x}<br>y=%{y}<extra></extra>",
         "legendgroup": "fa",
         "marker": {
          "color": "#D626FF",
          "symbol": "circle"
         },
         "mode": "markers",
         "name": "fa",
         "orientation": "v",
         "showlegend": true,
         "type": "scatter",
         "x": [
          -261.8516540527344
         ],
         "xaxis": "x",
         "y": [
          29.23956871032715
         ],
         "yaxis": "y"
        },
        {
         "hovertemplate": "color=ko<br>x=%{x}<br>y=%{y}<extra></extra>",
         "legendgroup": "ko",
         "marker": {
          "color": "#6E899C",
          "symbol": "circle"
         },
         "mode": "markers",
         "name": "ko",
         "orientation": "v",
         "showlegend": true,
         "type": "scatter",
         "x": [
          -393.68988037109375
         ],
         "xaxis": "x",
         "y": [
          -270.49676513671875
         ],
         "yaxis": "y"
        },
        {
         "hovertemplate": "color=tr<br>x=%{x}<br>y=%{y}<extra></extra>",
         "legendgroup": "tr",
         "marker": {
          "color": "#00B5F7",
          "symbol": "circle"
         },
         "mode": "markers",
         "name": "tr",
         "orientation": "v",
         "showlegend": true,
         "type": "scatter",
         "x": [
          -417.78106689453125
         ],
         "xaxis": "x",
         "y": [
          -174.2186737060547
         ],
         "yaxis": "y"
        },
        {
         "hovertemplate": "color=nl<br>x=%{x}<br>y=%{y}<extra></extra>",
         "legendgroup": "nl",
         "marker": {
          "color": "#B68E00",
          "symbol": "circle"
         },
         "mode": "markers",
         "name": "nl",
         "orientation": "v",
         "showlegend": true,
         "type": "scatter",
         "x": [
          340.6219177246094
         ],
         "xaxis": "x",
         "y": [
          -0.2867717742919922
         ],
         "yaxis": "y"
        }
       ],
       "layout": {
        "legend": {
         "title": {
          "text": "color"
         },
         "tracegroupgap": 0
        },
        "template": {
         "data": {
          "bar": [
           {
            "error_x": {
             "color": "#2a3f5f"
            },
            "error_y": {
             "color": "#2a3f5f"
            },
            "marker": {
             "line": {
              "color": "#E5ECF6",
              "width": 0.5
             },
             "pattern": {
              "fillmode": "overlay",
              "size": 10,
              "solidity": 0.2
             }
            },
            "type": "bar"
           }
          ],
          "barpolar": [
           {
            "marker": {
             "line": {
              "color": "#E5ECF6",
              "width": 0.5
             },
             "pattern": {
              "fillmode": "overlay",
              "size": 10,
              "solidity": 0.2
             }
            },
            "type": "barpolar"
           }
          ],
          "carpet": [
           {
            "aaxis": {
             "endlinecolor": "#2a3f5f",
             "gridcolor": "white",
             "linecolor": "white",
             "minorgridcolor": "white",
             "startlinecolor": "#2a3f5f"
            },
            "baxis": {
             "endlinecolor": "#2a3f5f",
             "gridcolor": "white",
             "linecolor": "white",
             "minorgridcolor": "white",
             "startlinecolor": "#2a3f5f"
            },
            "type": "carpet"
           }
          ],
          "choropleth": [
           {
            "colorbar": {
             "outlinewidth": 0,
             "ticks": ""
            },
            "type": "choropleth"
           }
          ],
          "contour": [
           {
            "colorbar": {
             "outlinewidth": 0,
             "ticks": ""
            },
            "colorscale": [
             [
              0,
              "#0d0887"
             ],
             [
              0.1111111111111111,
              "#46039f"
             ],
             [
              0.2222222222222222,
              "#7201a8"
             ],
             [
              0.3333333333333333,
              "#9c179e"
             ],
             [
              0.4444444444444444,
              "#bd3786"
             ],
             [
              0.5555555555555556,
              "#d8576b"
             ],
             [
              0.6666666666666666,
              "#ed7953"
             ],
             [
              0.7777777777777778,
              "#fb9f3a"
             ],
             [
              0.8888888888888888,
              "#fdca26"
             ],
             [
              1,
              "#f0f921"
             ]
            ],
            "type": "contour"
           }
          ],
          "contourcarpet": [
           {
            "colorbar": {
             "outlinewidth": 0,
             "ticks": ""
            },
            "type": "contourcarpet"
           }
          ],
          "heatmap": [
           {
            "colorbar": {
             "outlinewidth": 0,
             "ticks": ""
            },
            "colorscale": [
             [
              0,
              "#0d0887"
             ],
             [
              0.1111111111111111,
              "#46039f"
             ],
             [
              0.2222222222222222,
              "#7201a8"
             ],
             [
              0.3333333333333333,
              "#9c179e"
             ],
             [
              0.4444444444444444,
              "#bd3786"
             ],
             [
              0.5555555555555556,
              "#d8576b"
             ],
             [
              0.6666666666666666,
              "#ed7953"
             ],
             [
              0.7777777777777778,
              "#fb9f3a"
             ],
             [
              0.8888888888888888,
              "#fdca26"
             ],
             [
              1,
              "#f0f921"
             ]
            ],
            "type": "heatmap"
           }
          ],
          "heatmapgl": [
           {
            "colorbar": {
             "outlinewidth": 0,
             "ticks": ""
            },
            "colorscale": [
             [
              0,
              "#0d0887"
             ],
             [
              0.1111111111111111,
              "#46039f"
             ],
             [
              0.2222222222222222,
              "#7201a8"
             ],
             [
              0.3333333333333333,
              "#9c179e"
             ],
             [
              0.4444444444444444,
              "#bd3786"
             ],
             [
              0.5555555555555556,
              "#d8576b"
             ],
             [
              0.6666666666666666,
              "#ed7953"
             ],
             [
              0.7777777777777778,
              "#fb9f3a"
             ],
             [
              0.8888888888888888,
              "#fdca26"
             ],
             [
              1,
              "#f0f921"
             ]
            ],
            "type": "heatmapgl"
           }
          ],
          "histogram": [
           {
            "marker": {
             "pattern": {
              "fillmode": "overlay",
              "size": 10,
              "solidity": 0.2
             }
            },
            "type": "histogram"
           }
          ],
          "histogram2d": [
           {
            "colorbar": {
             "outlinewidth": 0,
             "ticks": ""
            },
            "colorscale": [
             [
              0,
              "#0d0887"
             ],
             [
              0.1111111111111111,
              "#46039f"
             ],
             [
              0.2222222222222222,
              "#7201a8"
             ],
             [
              0.3333333333333333,
              "#9c179e"
             ],
             [
              0.4444444444444444,
              "#bd3786"
             ],
             [
              0.5555555555555556,
              "#d8576b"
             ],
             [
              0.6666666666666666,
              "#ed7953"
             ],
             [
              0.7777777777777778,
              "#fb9f3a"
             ],
             [
              0.8888888888888888,
              "#fdca26"
             ],
             [
              1,
              "#f0f921"
             ]
            ],
            "type": "histogram2d"
           }
          ],
          "histogram2dcontour": [
           {
            "colorbar": {
             "outlinewidth": 0,
             "ticks": ""
            },
            "colorscale": [
             [
              0,
              "#0d0887"
             ],
             [
              0.1111111111111111,
              "#46039f"
             ],
             [
              0.2222222222222222,
              "#7201a8"
             ],
             [
              0.3333333333333333,
              "#9c179e"
             ],
             [
              0.4444444444444444,
              "#bd3786"
             ],
             [
              0.5555555555555556,
              "#d8576b"
             ],
             [
              0.6666666666666666,
              "#ed7953"
             ],
             [
              0.7777777777777778,
              "#fb9f3a"
             ],
             [
              0.8888888888888888,
              "#fdca26"
             ],
             [
              1,
              "#f0f921"
             ]
            ],
            "type": "histogram2dcontour"
           }
          ],
          "mesh3d": [
           {
            "colorbar": {
             "outlinewidth": 0,
             "ticks": ""
            },
            "type": "mesh3d"
           }
          ],
          "parcoords": [
           {
            "line": {
             "colorbar": {
              "outlinewidth": 0,
              "ticks": ""
             }
            },
            "type": "parcoords"
           }
          ],
          "pie": [
           {
            "automargin": true,
            "type": "pie"
           }
          ],
          "scatter": [
           {
            "fillpattern": {
             "fillmode": "overlay",
             "size": 10,
             "solidity": 0.2
            },
            "type": "scatter"
           }
          ],
          "scatter3d": [
           {
            "line": {
             "colorbar": {
              "outlinewidth": 0,
              "ticks": ""
             }
            },
            "marker": {
             "colorbar": {
              "outlinewidth": 0,
              "ticks": ""
             }
            },
            "type": "scatter3d"
           }
          ],
          "scattercarpet": [
           {
            "marker": {
             "colorbar": {
              "outlinewidth": 0,
              "ticks": ""
             }
            },
            "type": "scattercarpet"
           }
          ],
          "scattergeo": [
           {
            "marker": {
             "colorbar": {
              "outlinewidth": 0,
              "ticks": ""
             }
            },
            "type": "scattergeo"
           }
          ],
          "scattergl": [
           {
            "marker": {
             "colorbar": {
              "outlinewidth": 0,
              "ticks": ""
             }
            },
            "type": "scattergl"
           }
          ],
          "scattermapbox": [
           {
            "marker": {
             "colorbar": {
              "outlinewidth": 0,
              "ticks": ""
             }
            },
            "type": "scattermapbox"
           }
          ],
          "scatterpolar": [
           {
            "marker": {
             "colorbar": {
              "outlinewidth": 0,
              "ticks": ""
             }
            },
            "type": "scatterpolar"
           }
          ],
          "scatterpolargl": [
           {
            "marker": {
             "colorbar": {
              "outlinewidth": 0,
              "ticks": ""
             }
            },
            "type": "scatterpolargl"
           }
          ],
          "scatterternary": [
           {
            "marker": {
             "colorbar": {
              "outlinewidth": 0,
              "ticks": ""
             }
            },
            "type": "scatterternary"
           }
          ],
          "surface": [
           {
            "colorbar": {
             "outlinewidth": 0,
             "ticks": ""
            },
            "colorscale": [
             [
              0,
              "#0d0887"
             ],
             [
              0.1111111111111111,
              "#46039f"
             ],
             [
              0.2222222222222222,
              "#7201a8"
             ],
             [
              0.3333333333333333,
              "#9c179e"
             ],
             [
              0.4444444444444444,
              "#bd3786"
             ],
             [
              0.5555555555555556,
              "#d8576b"
             ],
             [
              0.6666666666666666,
              "#ed7953"
             ],
             [
              0.7777777777777778,
              "#fb9f3a"
             ],
             [
              0.8888888888888888,
              "#fdca26"
             ],
             [
              1,
              "#f0f921"
             ]
            ],
            "type": "surface"
           }
          ],
          "table": [
           {
            "cells": {
             "fill": {
              "color": "#EBF0F8"
             },
             "line": {
              "color": "white"
             }
            },
            "header": {
             "fill": {
              "color": "#C8D4E3"
             },
             "line": {
              "color": "white"
             }
            },
            "type": "table"
           }
          ]
         },
         "layout": {
          "annotationdefaults": {
           "arrowcolor": "#2a3f5f",
           "arrowhead": 0,
           "arrowwidth": 1
          },
          "autotypenumbers": "strict",
          "coloraxis": {
           "colorbar": {
            "outlinewidth": 0,
            "ticks": ""
           }
          },
          "colorscale": {
           "diverging": [
            [
             0,
             "#8e0152"
            ],
            [
             0.1,
             "#c51b7d"
            ],
            [
             0.2,
             "#de77ae"
            ],
            [
             0.3,
             "#f1b6da"
            ],
            [
             0.4,
             "#fde0ef"
            ],
            [
             0.5,
             "#f7f7f7"
            ],
            [
             0.6,
             "#e6f5d0"
            ],
            [
             0.7,
             "#b8e186"
            ],
            [
             0.8,
             "#7fbc41"
            ],
            [
             0.9,
             "#4d9221"
            ],
            [
             1,
             "#276419"
            ]
           ],
           "sequential": [
            [
             0,
             "#0d0887"
            ],
            [
             0.1111111111111111,
             "#46039f"
            ],
            [
             0.2222222222222222,
             "#7201a8"
            ],
            [
             0.3333333333333333,
             "#9c179e"
            ],
            [
             0.4444444444444444,
             "#bd3786"
            ],
            [
             0.5555555555555556,
             "#d8576b"
            ],
            [
             0.6666666666666666,
             "#ed7953"
            ],
            [
             0.7777777777777778,
             "#fb9f3a"
            ],
            [
             0.8888888888888888,
             "#fdca26"
            ],
            [
             1,
             "#f0f921"
            ]
           ],
           "sequentialminus": [
            [
             0,
             "#0d0887"
            ],
            [
             0.1111111111111111,
             "#46039f"
            ],
            [
             0.2222222222222222,
             "#7201a8"
            ],
            [
             0.3333333333333333,
             "#9c179e"
            ],
            [
             0.4444444444444444,
             "#bd3786"
            ],
            [
             0.5555555555555556,
             "#d8576b"
            ],
            [
             0.6666666666666666,
             "#ed7953"
            ],
            [
             0.7777777777777778,
             "#fb9f3a"
            ],
            [
             0.8888888888888888,
             "#fdca26"
            ],
            [
             1,
             "#f0f921"
            ]
           ]
          },
          "colorway": [
           "#636efa",
           "#EF553B",
           "#00cc96",
           "#ab63fa",
           "#FFA15A",
           "#19d3f3",
           "#FF6692",
           "#B6E880",
           "#FF97FF",
           "#FECB52"
          ],
          "font": {
           "color": "#2a3f5f"
          },
          "geo": {
           "bgcolor": "white",
           "lakecolor": "white",
           "landcolor": "#E5ECF6",
           "showlakes": true,
           "showland": true,
           "subunitcolor": "white"
          },
          "hoverlabel": {
           "align": "left"
          },
          "hovermode": "closest",
          "mapbox": {
           "style": "light"
          },
          "paper_bgcolor": "white",
          "plot_bgcolor": "#E5ECF6",
          "polar": {
           "angularaxis": {
            "gridcolor": "white",
            "linecolor": "white",
            "ticks": ""
           },
           "bgcolor": "#E5ECF6",
           "radialaxis": {
            "gridcolor": "white",
            "linecolor": "white",
            "ticks": ""
           }
          },
          "scene": {
           "xaxis": {
            "backgroundcolor": "#E5ECF6",
            "gridcolor": "white",
            "gridwidth": 2,
            "linecolor": "white",
            "showbackground": true,
            "ticks": "",
            "zerolinecolor": "white"
           },
           "yaxis": {
            "backgroundcolor": "#E5ECF6",
            "gridcolor": "white",
            "gridwidth": 2,
            "linecolor": "white",
            "showbackground": true,
            "ticks": "",
            "zerolinecolor": "white"
           },
           "zaxis": {
            "backgroundcolor": "#E5ECF6",
            "gridcolor": "white",
            "gridwidth": 2,
            "linecolor": "white",
            "showbackground": true,
            "ticks": "",
            "zerolinecolor": "white"
           }
          },
          "shapedefaults": {
           "line": {
            "color": "#2a3f5f"
           }
          },
          "ternary": {
           "aaxis": {
            "gridcolor": "white",
            "linecolor": "white",
            "ticks": ""
           },
           "baxis": {
            "gridcolor": "white",
            "linecolor": "white",
            "ticks": ""
           },
           "bgcolor": "#E5ECF6",
           "caxis": {
            "gridcolor": "white",
            "linecolor": "white",
            "ticks": ""
           }
          },
          "title": {
           "x": 0.05
          },
          "xaxis": {
           "automargin": true,
           "gridcolor": "white",
           "linecolor": "white",
           "ticks": "",
           "title": {
            "standoff": 15
           },
           "zerolinecolor": "white",
           "zerolinewidth": 2
          },
          "yaxis": {
           "automargin": true,
           "gridcolor": "white",
           "linecolor": "white",
           "ticks": "",
           "title": {
            "standoff": 15
           },
           "zerolinecolor": "white",
           "zerolinewidth": 2
          }
         }
        },
        "title": {
         "text": "perplexity 6"
        },
        "xaxis": {
         "anchor": "y",
         "domain": [
          0,
          1
         ],
         "title": {
          "text": "x"
         }
        },
        "yaxis": {
         "anchor": "x",
         "domain": [
          0,
          1
         ],
         "title": {
          "text": "y"
         }
        }
       }
      }
     },
     "metadata": {},
     "output_type": "display_data"
    },
    {
     "name": "stderr",
     "output_type": "stream",
     "text": [
      "/home/amysiak/thesis/env/lib/python3.8/site-packages/sklearn/manifold/_t_sne.py:800: FutureWarning:\n",
      "\n",
      "The default initialization in TSNE will change from 'random' to 'pca' in 1.2.\n",
      "\n",
      "/home/amysiak/thesis/env/lib/python3.8/site-packages/sklearn/manifold/_t_sne.py:810: FutureWarning:\n",
      "\n",
      "The default learning rate in TSNE will change from 200.0 to 'auto' in 1.2.\n",
      "\n"
     ]
    },
    {
     "data": {
      "application/vnd.plotly.v1+json": {
       "config": {
        "plotlyServerURL": "https://plot.ly"
       },
       "data": [
        {
         "hovertemplate": "color=be<br>x=%{x}<br>y=%{y}<extra></extra>",
         "legendgroup": "be",
         "marker": {
          "color": "#FD3216",
          "symbol": "circle"
         },
         "mode": "markers",
         "name": "be",
         "orientation": "v",
         "showlegend": true,
         "type": "scatter",
         "x": [
          -157.9036407470703
         ],
         "xaxis": "x",
         "y": [
          9.483898162841797
         ],
         "yaxis": "y"
        },
        {
         "hovertemplate": "color=cs<br>x=%{x}<br>y=%{y}<extra></extra>",
         "legendgroup": "cs",
         "marker": {
          "color": "#00FE35",
          "symbol": "circle"
         },
         "mode": "markers",
         "name": "cs",
         "orientation": "v",
         "showlegend": true,
         "type": "scatter",
         "x": [
          -57.632080078125
         ],
         "xaxis": "x",
         "y": [
          69.79241180419922
         ],
         "yaxis": "y"
        },
        {
         "hovertemplate": "color=en<br>x=%{x}<br>y=%{y}<extra></extra>",
         "legendgroup": "en",
         "marker": {
          "color": "#6A76FC",
          "symbol": "circle"
         },
         "mode": "markers",
         "name": "en",
         "orientation": "v",
         "showlegend": true,
         "type": "scatter",
         "x": [
          3.506486415863037
         ],
         "xaxis": "x",
         "y": [
          -359.9405212402344
         ],
         "yaxis": "y"
        },
        {
         "hovertemplate": "color=es<br>x=%{x}<br>y=%{y}<extra></extra>",
         "legendgroup": "es",
         "marker": {
          "color": "#FED4C4",
          "symbol": "circle"
         },
         "mode": "markers",
         "name": "es",
         "orientation": "v",
         "showlegend": true,
         "type": "scatter",
         "x": [
          151.05841064453125
         ],
         "xaxis": "x",
         "y": [
          -177.61346435546875
         ],
         "yaxis": "y"
        },
        {
         "hovertemplate": "color=fi<br>x=%{x}<br>y=%{y}<extra></extra>",
         "legendgroup": "fi",
         "marker": {
          "color": "#FE00CE",
          "symbol": "circle"
         },
         "mode": "markers",
         "name": "fi",
         "orientation": "v",
         "showlegend": true,
         "type": "scatter",
         "x": [
          -238.04034423828125
         ],
         "xaxis": "x",
         "y": [
          188.63995361328125
         ],
         "yaxis": "y"
        },
        {
         "hovertemplate": "color=fr<br>x=%{x}<br>y=%{y}<extra></extra>",
         "legendgroup": "fr",
         "marker": {
          "color": "#0DF9FF",
          "symbol": "circle"
         },
         "mode": "markers",
         "name": "fr",
         "orientation": "v",
         "showlegend": true,
         "type": "scatter",
         "x": [
          119.77091979980469
         ],
         "xaxis": "x",
         "y": [
          -262.958251953125
         ],
         "yaxis": "y"
        },
        {
         "hovertemplate": "color=lv<br>x=%{x}<br>y=%{y}<extra></extra>",
         "legendgroup": "lv",
         "marker": {
          "color": "#F6F926",
          "symbol": "circle"
         },
         "mode": "markers",
         "name": "lv",
         "orientation": "v",
         "showlegend": true,
         "type": "scatter",
         "x": [
          -112.9244384765625
         ],
         "xaxis": "x",
         "y": [
          193.6138153076172
         ],
         "yaxis": "y"
        },
        {
         "hovertemplate": "color=pl<br>x=%{x}<br>y=%{y}<extra></extra>",
         "legendgroup": "pl",
         "marker": {
          "color": "#FF9616",
          "symbol": "circle"
         },
         "mode": "markers",
         "name": "pl",
         "orientation": "v",
         "showlegend": true,
         "type": "scatter",
         "x": [
          35.70891189575195
         ],
         "xaxis": "x",
         "y": [
          7.1630096435546875
         ],
         "yaxis": "y"
        },
        {
         "hovertemplate": "color=de<br>x=%{x}<br>y=%{y}<extra></extra>",
         "legendgroup": "de",
         "marker": {
          "color": "#479B55",
          "symbol": "circle"
         },
         "mode": "markers",
         "name": "de",
         "orientation": "v",
         "showlegend": true,
         "type": "scatter",
         "x": [
          -49.42713165283203
         ],
         "xaxis": "x",
         "y": [
          -213.04991149902344
         ],
         "yaxis": "y"
        },
        {
         "hovertemplate": "color=ru<br>x=%{x}<br>y=%{y}<extra></extra>",
         "legendgroup": "ru",
         "marker": {
          "color": "#EEA6FB",
          "symbol": "circle"
         },
         "mode": "markers",
         "name": "ru",
         "orientation": "v",
         "showlegend": true,
         "type": "scatter",
         "x": [
          -55.88336181640625
         ],
         "xaxis": "x",
         "y": [
          -41.56560134887695
         ],
         "yaxis": "y"
        },
        {
         "hovertemplate": "color=slv<br>x=%{x}<br>y=%{y}<extra></extra>",
         "legendgroup": "slv",
         "marker": {
          "color": "#DC587D",
          "symbol": "circle"
         },
         "mode": "markers",
         "name": "slv",
         "orientation": "v",
         "showlegend": true,
         "type": "scatter",
         "x": [
          29.5811824798584
         ],
         "xaxis": "x",
         "y": [
          122.06449890136719
         ],
         "yaxis": "y"
        },
        {
         "hovertemplate": "color=fa<br>x=%{x}<br>y=%{y}<extra></extra>",
         "legendgroup": "fa",
         "marker": {
          "color": "#D626FF",
          "symbol": "circle"
         },
         "mode": "markers",
         "name": "fa",
         "orientation": "v",
         "showlegend": true,
         "type": "scatter",
         "x": [
          197.77854919433594
         ],
         "xaxis": "x",
         "y": [
          66.89767456054688
         ],
         "yaxis": "y"
        },
        {
         "hovertemplate": "color=ko<br>x=%{x}<br>y=%{y}<extra></extra>",
         "legendgroup": "ko",
         "marker": {
          "color": "#6E899C",
          "symbol": "circle"
         },
         "mode": "markers",
         "name": "ko",
         "orientation": "v",
         "showlegend": true,
         "type": "scatter",
         "x": [
          10.911559104919434
         ],
         "xaxis": "x",
         "y": [
          403.3082275390625
         ],
         "yaxis": "y"
        },
        {
         "hovertemplate": "color=tr<br>x=%{x}<br>y=%{y}<extra></extra>",
         "legendgroup": "tr",
         "marker": {
          "color": "#00B5F7",
          "symbol": "circle"
         },
         "mode": "markers",
         "name": "tr",
         "orientation": "v",
         "showlegend": true,
         "type": "scatter",
         "x": [
          -74.57323455810547
         ],
         "xaxis": "x",
         "y": [
          385.0469970703125
         ],
         "yaxis": "y"
        },
        {
         "hovertemplate": "color=nl<br>x=%{x}<br>y=%{y}<extra></extra>",
         "legendgroup": "nl",
         "marker": {
          "color": "#B68E00",
          "symbol": "circle"
         },
         "mode": "markers",
         "name": "nl",
         "orientation": "v",
         "showlegend": true,
         "type": "scatter",
         "x": [
          -126.18246459960938
         ],
         "xaxis": "x",
         "y": [
          -254.3338165283203
         ],
         "yaxis": "y"
        }
       ],
       "layout": {
        "legend": {
         "title": {
          "text": "color"
         },
         "tracegroupgap": 0
        },
        "template": {
         "data": {
          "bar": [
           {
            "error_x": {
             "color": "#2a3f5f"
            },
            "error_y": {
             "color": "#2a3f5f"
            },
            "marker": {
             "line": {
              "color": "#E5ECF6",
              "width": 0.5
             },
             "pattern": {
              "fillmode": "overlay",
              "size": 10,
              "solidity": 0.2
             }
            },
            "type": "bar"
           }
          ],
          "barpolar": [
           {
            "marker": {
             "line": {
              "color": "#E5ECF6",
              "width": 0.5
             },
             "pattern": {
              "fillmode": "overlay",
              "size": 10,
              "solidity": 0.2
             }
            },
            "type": "barpolar"
           }
          ],
          "carpet": [
           {
            "aaxis": {
             "endlinecolor": "#2a3f5f",
             "gridcolor": "white",
             "linecolor": "white",
             "minorgridcolor": "white",
             "startlinecolor": "#2a3f5f"
            },
            "baxis": {
             "endlinecolor": "#2a3f5f",
             "gridcolor": "white",
             "linecolor": "white",
             "minorgridcolor": "white",
             "startlinecolor": "#2a3f5f"
            },
            "type": "carpet"
           }
          ],
          "choropleth": [
           {
            "colorbar": {
             "outlinewidth": 0,
             "ticks": ""
            },
            "type": "choropleth"
           }
          ],
          "contour": [
           {
            "colorbar": {
             "outlinewidth": 0,
             "ticks": ""
            },
            "colorscale": [
             [
              0,
              "#0d0887"
             ],
             [
              0.1111111111111111,
              "#46039f"
             ],
             [
              0.2222222222222222,
              "#7201a8"
             ],
             [
              0.3333333333333333,
              "#9c179e"
             ],
             [
              0.4444444444444444,
              "#bd3786"
             ],
             [
              0.5555555555555556,
              "#d8576b"
             ],
             [
              0.6666666666666666,
              "#ed7953"
             ],
             [
              0.7777777777777778,
              "#fb9f3a"
             ],
             [
              0.8888888888888888,
              "#fdca26"
             ],
             [
              1,
              "#f0f921"
             ]
            ],
            "type": "contour"
           }
          ],
          "contourcarpet": [
           {
            "colorbar": {
             "outlinewidth": 0,
             "ticks": ""
            },
            "type": "contourcarpet"
           }
          ],
          "heatmap": [
           {
            "colorbar": {
             "outlinewidth": 0,
             "ticks": ""
            },
            "colorscale": [
             [
              0,
              "#0d0887"
             ],
             [
              0.1111111111111111,
              "#46039f"
             ],
             [
              0.2222222222222222,
              "#7201a8"
             ],
             [
              0.3333333333333333,
              "#9c179e"
             ],
             [
              0.4444444444444444,
              "#bd3786"
             ],
             [
              0.5555555555555556,
              "#d8576b"
             ],
             [
              0.6666666666666666,
              "#ed7953"
             ],
             [
              0.7777777777777778,
              "#fb9f3a"
             ],
             [
              0.8888888888888888,
              "#fdca26"
             ],
             [
              1,
              "#f0f921"
             ]
            ],
            "type": "heatmap"
           }
          ],
          "heatmapgl": [
           {
            "colorbar": {
             "outlinewidth": 0,
             "ticks": ""
            },
            "colorscale": [
             [
              0,
              "#0d0887"
             ],
             [
              0.1111111111111111,
              "#46039f"
             ],
             [
              0.2222222222222222,
              "#7201a8"
             ],
             [
              0.3333333333333333,
              "#9c179e"
             ],
             [
              0.4444444444444444,
              "#bd3786"
             ],
             [
              0.5555555555555556,
              "#d8576b"
             ],
             [
              0.6666666666666666,
              "#ed7953"
             ],
             [
              0.7777777777777778,
              "#fb9f3a"
             ],
             [
              0.8888888888888888,
              "#fdca26"
             ],
             [
              1,
              "#f0f921"
             ]
            ],
            "type": "heatmapgl"
           }
          ],
          "histogram": [
           {
            "marker": {
             "pattern": {
              "fillmode": "overlay",
              "size": 10,
              "solidity": 0.2
             }
            },
            "type": "histogram"
           }
          ],
          "histogram2d": [
           {
            "colorbar": {
             "outlinewidth": 0,
             "ticks": ""
            },
            "colorscale": [
             [
              0,
              "#0d0887"
             ],
             [
              0.1111111111111111,
              "#46039f"
             ],
             [
              0.2222222222222222,
              "#7201a8"
             ],
             [
              0.3333333333333333,
              "#9c179e"
             ],
             [
              0.4444444444444444,
              "#bd3786"
             ],
             [
              0.5555555555555556,
              "#d8576b"
             ],
             [
              0.6666666666666666,
              "#ed7953"
             ],
             [
              0.7777777777777778,
              "#fb9f3a"
             ],
             [
              0.8888888888888888,
              "#fdca26"
             ],
             [
              1,
              "#f0f921"
             ]
            ],
            "type": "histogram2d"
           }
          ],
          "histogram2dcontour": [
           {
            "colorbar": {
             "outlinewidth": 0,
             "ticks": ""
            },
            "colorscale": [
             [
              0,
              "#0d0887"
             ],
             [
              0.1111111111111111,
              "#46039f"
             ],
             [
              0.2222222222222222,
              "#7201a8"
             ],
             [
              0.3333333333333333,
              "#9c179e"
             ],
             [
              0.4444444444444444,
              "#bd3786"
             ],
             [
              0.5555555555555556,
              "#d8576b"
             ],
             [
              0.6666666666666666,
              "#ed7953"
             ],
             [
              0.7777777777777778,
              "#fb9f3a"
             ],
             [
              0.8888888888888888,
              "#fdca26"
             ],
             [
              1,
              "#f0f921"
             ]
            ],
            "type": "histogram2dcontour"
           }
          ],
          "mesh3d": [
           {
            "colorbar": {
             "outlinewidth": 0,
             "ticks": ""
            },
            "type": "mesh3d"
           }
          ],
          "parcoords": [
           {
            "line": {
             "colorbar": {
              "outlinewidth": 0,
              "ticks": ""
             }
            },
            "type": "parcoords"
           }
          ],
          "pie": [
           {
            "automargin": true,
            "type": "pie"
           }
          ],
          "scatter": [
           {
            "fillpattern": {
             "fillmode": "overlay",
             "size": 10,
             "solidity": 0.2
            },
            "type": "scatter"
           }
          ],
          "scatter3d": [
           {
            "line": {
             "colorbar": {
              "outlinewidth": 0,
              "ticks": ""
             }
            },
            "marker": {
             "colorbar": {
              "outlinewidth": 0,
              "ticks": ""
             }
            },
            "type": "scatter3d"
           }
          ],
          "scattercarpet": [
           {
            "marker": {
             "colorbar": {
              "outlinewidth": 0,
              "ticks": ""
             }
            },
            "type": "scattercarpet"
           }
          ],
          "scattergeo": [
           {
            "marker": {
             "colorbar": {
              "outlinewidth": 0,
              "ticks": ""
             }
            },
            "type": "scattergeo"
           }
          ],
          "scattergl": [
           {
            "marker": {
             "colorbar": {
              "outlinewidth": 0,
              "ticks": ""
             }
            },
            "type": "scattergl"
           }
          ],
          "scattermapbox": [
           {
            "marker": {
             "colorbar": {
              "outlinewidth": 0,
              "ticks": ""
             }
            },
            "type": "scattermapbox"
           }
          ],
          "scatterpolar": [
           {
            "marker": {
             "colorbar": {
              "outlinewidth": 0,
              "ticks": ""
             }
            },
            "type": "scatterpolar"
           }
          ],
          "scatterpolargl": [
           {
            "marker": {
             "colorbar": {
              "outlinewidth": 0,
              "ticks": ""
             }
            },
            "type": "scatterpolargl"
           }
          ],
          "scatterternary": [
           {
            "marker": {
             "colorbar": {
              "outlinewidth": 0,
              "ticks": ""
             }
            },
            "type": "scatterternary"
           }
          ],
          "surface": [
           {
            "colorbar": {
             "outlinewidth": 0,
             "ticks": ""
            },
            "colorscale": [
             [
              0,
              "#0d0887"
             ],
             [
              0.1111111111111111,
              "#46039f"
             ],
             [
              0.2222222222222222,
              "#7201a8"
             ],
             [
              0.3333333333333333,
              "#9c179e"
             ],
             [
              0.4444444444444444,
              "#bd3786"
             ],
             [
              0.5555555555555556,
              "#d8576b"
             ],
             [
              0.6666666666666666,
              "#ed7953"
             ],
             [
              0.7777777777777778,
              "#fb9f3a"
             ],
             [
              0.8888888888888888,
              "#fdca26"
             ],
             [
              1,
              "#f0f921"
             ]
            ],
            "type": "surface"
           }
          ],
          "table": [
           {
            "cells": {
             "fill": {
              "color": "#EBF0F8"
             },
             "line": {
              "color": "white"
             }
            },
            "header": {
             "fill": {
              "color": "#C8D4E3"
             },
             "line": {
              "color": "white"
             }
            },
            "type": "table"
           }
          ]
         },
         "layout": {
          "annotationdefaults": {
           "arrowcolor": "#2a3f5f",
           "arrowhead": 0,
           "arrowwidth": 1
          },
          "autotypenumbers": "strict",
          "coloraxis": {
           "colorbar": {
            "outlinewidth": 0,
            "ticks": ""
           }
          },
          "colorscale": {
           "diverging": [
            [
             0,
             "#8e0152"
            ],
            [
             0.1,
             "#c51b7d"
            ],
            [
             0.2,
             "#de77ae"
            ],
            [
             0.3,
             "#f1b6da"
            ],
            [
             0.4,
             "#fde0ef"
            ],
            [
             0.5,
             "#f7f7f7"
            ],
            [
             0.6,
             "#e6f5d0"
            ],
            [
             0.7,
             "#b8e186"
            ],
            [
             0.8,
             "#7fbc41"
            ],
            [
             0.9,
             "#4d9221"
            ],
            [
             1,
             "#276419"
            ]
           ],
           "sequential": [
            [
             0,
             "#0d0887"
            ],
            [
             0.1111111111111111,
             "#46039f"
            ],
            [
             0.2222222222222222,
             "#7201a8"
            ],
            [
             0.3333333333333333,
             "#9c179e"
            ],
            [
             0.4444444444444444,
             "#bd3786"
            ],
            [
             0.5555555555555556,
             "#d8576b"
            ],
            [
             0.6666666666666666,
             "#ed7953"
            ],
            [
             0.7777777777777778,
             "#fb9f3a"
            ],
            [
             0.8888888888888888,
             "#fdca26"
            ],
            [
             1,
             "#f0f921"
            ]
           ],
           "sequentialminus": [
            [
             0,
             "#0d0887"
            ],
            [
             0.1111111111111111,
             "#46039f"
            ],
            [
             0.2222222222222222,
             "#7201a8"
            ],
            [
             0.3333333333333333,
             "#9c179e"
            ],
            [
             0.4444444444444444,
             "#bd3786"
            ],
            [
             0.5555555555555556,
             "#d8576b"
            ],
            [
             0.6666666666666666,
             "#ed7953"
            ],
            [
             0.7777777777777778,
             "#fb9f3a"
            ],
            [
             0.8888888888888888,
             "#fdca26"
            ],
            [
             1,
             "#f0f921"
            ]
           ]
          },
          "colorway": [
           "#636efa",
           "#EF553B",
           "#00cc96",
           "#ab63fa",
           "#FFA15A",
           "#19d3f3",
           "#FF6692",
           "#B6E880",
           "#FF97FF",
           "#FECB52"
          ],
          "font": {
           "color": "#2a3f5f"
          },
          "geo": {
           "bgcolor": "white",
           "lakecolor": "white",
           "landcolor": "#E5ECF6",
           "showlakes": true,
           "showland": true,
           "subunitcolor": "white"
          },
          "hoverlabel": {
           "align": "left"
          },
          "hovermode": "closest",
          "mapbox": {
           "style": "light"
          },
          "paper_bgcolor": "white",
          "plot_bgcolor": "#E5ECF6",
          "polar": {
           "angularaxis": {
            "gridcolor": "white",
            "linecolor": "white",
            "ticks": ""
           },
           "bgcolor": "#E5ECF6",
           "radialaxis": {
            "gridcolor": "white",
            "linecolor": "white",
            "ticks": ""
           }
          },
          "scene": {
           "xaxis": {
            "backgroundcolor": "#E5ECF6",
            "gridcolor": "white",
            "gridwidth": 2,
            "linecolor": "white",
            "showbackground": true,
            "ticks": "",
            "zerolinecolor": "white"
           },
           "yaxis": {
            "backgroundcolor": "#E5ECF6",
            "gridcolor": "white",
            "gridwidth": 2,
            "linecolor": "white",
            "showbackground": true,
            "ticks": "",
            "zerolinecolor": "white"
           },
           "zaxis": {
            "backgroundcolor": "#E5ECF6",
            "gridcolor": "white",
            "gridwidth": 2,
            "linecolor": "white",
            "showbackground": true,
            "ticks": "",
            "zerolinecolor": "white"
           }
          },
          "shapedefaults": {
           "line": {
            "color": "#2a3f5f"
           }
          },
          "ternary": {
           "aaxis": {
            "gridcolor": "white",
            "linecolor": "white",
            "ticks": ""
           },
           "baxis": {
            "gridcolor": "white",
            "linecolor": "white",
            "ticks": ""
           },
           "bgcolor": "#E5ECF6",
           "caxis": {
            "gridcolor": "white",
            "linecolor": "white",
            "ticks": ""
           }
          },
          "title": {
           "x": 0.05
          },
          "xaxis": {
           "automargin": true,
           "gridcolor": "white",
           "linecolor": "white",
           "ticks": "",
           "title": {
            "standoff": 15
           },
           "zerolinecolor": "white",
           "zerolinewidth": 2
          },
          "yaxis": {
           "automargin": true,
           "gridcolor": "white",
           "linecolor": "white",
           "ticks": "",
           "title": {
            "standoff": 15
           },
           "zerolinecolor": "white",
           "zerolinewidth": 2
          }
         }
        },
        "title": {
         "text": "perplexity 7"
        },
        "xaxis": {
         "anchor": "y",
         "domain": [
          0,
          1
         ],
         "title": {
          "text": "x"
         }
        },
        "yaxis": {
         "anchor": "x",
         "domain": [
          0,
          1
         ],
         "title": {
          "text": "y"
         }
        }
       }
      }
     },
     "metadata": {},
     "output_type": "display_data"
    },
    {
     "name": "stderr",
     "output_type": "stream",
     "text": [
      "/home/amysiak/thesis/env/lib/python3.8/site-packages/sklearn/manifold/_t_sne.py:800: FutureWarning:\n",
      "\n",
      "The default initialization in TSNE will change from 'random' to 'pca' in 1.2.\n",
      "\n",
      "/home/amysiak/thesis/env/lib/python3.8/site-packages/sklearn/manifold/_t_sne.py:810: FutureWarning:\n",
      "\n",
      "The default learning rate in TSNE will change from 200.0 to 'auto' in 1.2.\n",
      "\n"
     ]
    },
    {
     "data": {
      "application/vnd.plotly.v1+json": {
       "config": {
        "plotlyServerURL": "https://plot.ly"
       },
       "data": [
        {
         "hovertemplate": "color=be<br>x=%{x}<br>y=%{y}<extra></extra>",
         "legendgroup": "be",
         "marker": {
          "color": "#FD3216",
          "symbol": "circle"
         },
         "mode": "markers",
         "name": "be",
         "orientation": "v",
         "showlegend": true,
         "type": "scatter",
         "x": [
          -119.70065307617188
         ],
         "xaxis": "x",
         "y": [
          67.65756225585938
         ],
         "yaxis": "y"
        },
        {
         "hovertemplate": "color=cs<br>x=%{x}<br>y=%{y}<extra></extra>",
         "legendgroup": "cs",
         "marker": {
          "color": "#00FE35",
          "symbol": "circle"
         },
         "mode": "markers",
         "name": "cs",
         "orientation": "v",
         "showlegend": true,
         "type": "scatter",
         "x": [
          -44.67988967895508
         ],
         "xaxis": "x",
         "y": [
          -148.69996643066406
         ],
         "yaxis": "y"
        },
        {
         "hovertemplate": "color=en<br>x=%{x}<br>y=%{y}<extra></extra>",
         "legendgroup": "en",
         "marker": {
          "color": "#6A76FC",
          "symbol": "circle"
         },
         "mode": "markers",
         "name": "en",
         "orientation": "v",
         "showlegend": true,
         "type": "scatter",
         "x": [
          -139.96524047851562
         ],
         "xaxis": "x",
         "y": [
          335.6574401855469
         ],
         "yaxis": "y"
        },
        {
         "hovertemplate": "color=es<br>x=%{x}<br>y=%{y}<extra></extra>",
         "legendgroup": "es",
         "marker": {
          "color": "#FED4C4",
          "symbol": "circle"
         },
         "mode": "markers",
         "name": "es",
         "orientation": "v",
         "showlegend": true,
         "type": "scatter",
         "x": [
          227.71896362304688
         ],
         "xaxis": "x",
         "y": [
          168.1630859375
         ],
         "yaxis": "y"
        },
        {
         "hovertemplate": "color=fi<br>x=%{x}<br>y=%{y}<extra></extra>",
         "legendgroup": "fi",
         "marker": {
          "color": "#FE00CE",
          "symbol": "circle"
         },
         "mode": "markers",
         "name": "fi",
         "orientation": "v",
         "showlegend": true,
         "type": "scatter",
         "x": [
          -301.0859069824219
         ],
         "xaxis": "x",
         "y": [
          -15.667876243591309
         ],
         "yaxis": "y"
        },
        {
         "hovertemplate": "color=fr<br>x=%{x}<br>y=%{y}<extra></extra>",
         "legendgroup": "fr",
         "marker": {
          "color": "#0DF9FF",
          "symbol": "circle"
         },
         "mode": "markers",
         "name": "fr",
         "orientation": "v",
         "showlegend": true,
         "type": "scatter",
         "x": [
          193.4577178955078
         ],
         "xaxis": "x",
         "y": [
          274.72601318359375
         ],
         "yaxis": "y"
        },
        {
         "hovertemplate": "color=lv<br>x=%{x}<br>y=%{y}<extra></extra>",
         "legendgroup": "lv",
         "marker": {
          "color": "#F6F926",
          "symbol": "circle"
         },
         "mode": "markers",
         "name": "lv",
         "orientation": "v",
         "showlegend": true,
         "type": "scatter",
         "x": [
          111.07330322265625
         ],
         "xaxis": "x",
         "y": [
          -103.73060607910156
         ],
         "yaxis": "y"
        },
        {
         "hovertemplate": "color=pl<br>x=%{x}<br>y=%{y}<extra></extra>",
         "legendgroup": "pl",
         "marker": {
          "color": "#FF9616",
          "symbol": "circle"
         },
         "mode": "markers",
         "name": "pl",
         "orientation": "v",
         "showlegend": true,
         "type": "scatter",
         "x": [
          -28.750682830810547
         ],
         "xaxis": "x",
         "y": [
          -33.74131393432617
         ],
         "yaxis": "y"
        },
        {
         "hovertemplate": "color=de<br>x=%{x}<br>y=%{y}<extra></extra>",
         "legendgroup": "de",
         "marker": {
          "color": "#479B55",
          "symbol": "circle"
         },
         "mode": "markers",
         "name": "de",
         "orientation": "v",
         "showlegend": true,
         "type": "scatter",
         "x": [
          10.610588073730469
         ],
         "xaxis": "x",
         "y": [
          244.2758331298828
         ],
         "yaxis": "y"
        },
        {
         "hovertemplate": "color=ru<br>x=%{x}<br>y=%{y}<extra></extra>",
         "legendgroup": "ru",
         "marker": {
          "color": "#EEA6FB",
          "symbol": "circle"
         },
         "mode": "markers",
         "name": "ru",
         "orientation": "v",
         "showlegend": true,
         "type": "scatter",
         "x": [
          15.383020401000977
         ],
         "xaxis": "x",
         "y": [
          65.8497314453125
         ],
         "yaxis": "y"
        },
        {
         "hovertemplate": "color=slv<br>x=%{x}<br>y=%{y}<extra></extra>",
         "legendgroup": "slv",
         "marker": {
          "color": "#DC587D",
          "symbol": "circle"
         },
         "mode": "markers",
         "name": "slv",
         "orientation": "v",
         "showlegend": true,
         "type": "scatter",
         "x": [
          -144.9873046875
         ],
         "xaxis": "x",
         "y": [
          -70.5620346069336
         ],
         "yaxis": "y"
        },
        {
         "hovertemplate": "color=fa<br>x=%{x}<br>y=%{y}<extra></extra>",
         "legendgroup": "fa",
         "marker": {
          "color": "#D626FF",
          "symbol": "circle"
         },
         "mode": "markers",
         "name": "fa",
         "orientation": "v",
         "showlegend": true,
         "type": "scatter",
         "x": [
          -207.6981658935547
         ],
         "xaxis": "x",
         "y": [
          -287.5904235839844
         ],
         "yaxis": "y"
        },
        {
         "hovertemplate": "color=ko<br>x=%{x}<br>y=%{y}<extra></extra>",
         "legendgroup": "ko",
         "marker": {
          "color": "#6E899C",
          "symbol": "circle"
         },
         "mode": "markers",
         "name": "ko",
         "orientation": "v",
         "showlegend": true,
         "type": "scatter",
         "x": [
          156.28768920898438
         ],
         "xaxis": "x",
         "y": [
          -354.34783935546875
         ],
         "yaxis": "y"
        },
        {
         "hovertemplate": "color=tr<br>x=%{x}<br>y=%{y}<extra></extra>",
         "legendgroup": "tr",
         "marker": {
          "color": "#00B5F7",
          "symbol": "circle"
         },
         "mode": "markers",
         "name": "tr",
         "orientation": "v",
         "showlegend": true,
         "type": "scatter",
         "x": [
          49.27082824707031
         ],
         "xaxis": "x",
         "y": [
          -356.1608581542969
         ],
         "yaxis": "y"
        },
        {
         "hovertemplate": "color=nl<br>x=%{x}<br>y=%{y}<extra></extra>",
         "legendgroup": "nl",
         "marker": {
          "color": "#B68E00",
          "symbol": "circle"
         },
         "mode": "markers",
         "name": "nl",
         "orientation": "v",
         "showlegend": true,
         "type": "scatter",
         "x": [
          25.185523986816406
         ],
         "xaxis": "x",
         "y": [
          348.2673645019531
         ],
         "yaxis": "y"
        }
       ],
       "layout": {
        "legend": {
         "title": {
          "text": "color"
         },
         "tracegroupgap": 0
        },
        "template": {
         "data": {
          "bar": [
           {
            "error_x": {
             "color": "#2a3f5f"
            },
            "error_y": {
             "color": "#2a3f5f"
            },
            "marker": {
             "line": {
              "color": "#E5ECF6",
              "width": 0.5
             },
             "pattern": {
              "fillmode": "overlay",
              "size": 10,
              "solidity": 0.2
             }
            },
            "type": "bar"
           }
          ],
          "barpolar": [
           {
            "marker": {
             "line": {
              "color": "#E5ECF6",
              "width": 0.5
             },
             "pattern": {
              "fillmode": "overlay",
              "size": 10,
              "solidity": 0.2
             }
            },
            "type": "barpolar"
           }
          ],
          "carpet": [
           {
            "aaxis": {
             "endlinecolor": "#2a3f5f",
             "gridcolor": "white",
             "linecolor": "white",
             "minorgridcolor": "white",
             "startlinecolor": "#2a3f5f"
            },
            "baxis": {
             "endlinecolor": "#2a3f5f",
             "gridcolor": "white",
             "linecolor": "white",
             "minorgridcolor": "white",
             "startlinecolor": "#2a3f5f"
            },
            "type": "carpet"
           }
          ],
          "choropleth": [
           {
            "colorbar": {
             "outlinewidth": 0,
             "ticks": ""
            },
            "type": "choropleth"
           }
          ],
          "contour": [
           {
            "colorbar": {
             "outlinewidth": 0,
             "ticks": ""
            },
            "colorscale": [
             [
              0,
              "#0d0887"
             ],
             [
              0.1111111111111111,
              "#46039f"
             ],
             [
              0.2222222222222222,
              "#7201a8"
             ],
             [
              0.3333333333333333,
              "#9c179e"
             ],
             [
              0.4444444444444444,
              "#bd3786"
             ],
             [
              0.5555555555555556,
              "#d8576b"
             ],
             [
              0.6666666666666666,
              "#ed7953"
             ],
             [
              0.7777777777777778,
              "#fb9f3a"
             ],
             [
              0.8888888888888888,
              "#fdca26"
             ],
             [
              1,
              "#f0f921"
             ]
            ],
            "type": "contour"
           }
          ],
          "contourcarpet": [
           {
            "colorbar": {
             "outlinewidth": 0,
             "ticks": ""
            },
            "type": "contourcarpet"
           }
          ],
          "heatmap": [
           {
            "colorbar": {
             "outlinewidth": 0,
             "ticks": ""
            },
            "colorscale": [
             [
              0,
              "#0d0887"
             ],
             [
              0.1111111111111111,
              "#46039f"
             ],
             [
              0.2222222222222222,
              "#7201a8"
             ],
             [
              0.3333333333333333,
              "#9c179e"
             ],
             [
              0.4444444444444444,
              "#bd3786"
             ],
             [
              0.5555555555555556,
              "#d8576b"
             ],
             [
              0.6666666666666666,
              "#ed7953"
             ],
             [
              0.7777777777777778,
              "#fb9f3a"
             ],
             [
              0.8888888888888888,
              "#fdca26"
             ],
             [
              1,
              "#f0f921"
             ]
            ],
            "type": "heatmap"
           }
          ],
          "heatmapgl": [
           {
            "colorbar": {
             "outlinewidth": 0,
             "ticks": ""
            },
            "colorscale": [
             [
              0,
              "#0d0887"
             ],
             [
              0.1111111111111111,
              "#46039f"
             ],
             [
              0.2222222222222222,
              "#7201a8"
             ],
             [
              0.3333333333333333,
              "#9c179e"
             ],
             [
              0.4444444444444444,
              "#bd3786"
             ],
             [
              0.5555555555555556,
              "#d8576b"
             ],
             [
              0.6666666666666666,
              "#ed7953"
             ],
             [
              0.7777777777777778,
              "#fb9f3a"
             ],
             [
              0.8888888888888888,
              "#fdca26"
             ],
             [
              1,
              "#f0f921"
             ]
            ],
            "type": "heatmapgl"
           }
          ],
          "histogram": [
           {
            "marker": {
             "pattern": {
              "fillmode": "overlay",
              "size": 10,
              "solidity": 0.2
             }
            },
            "type": "histogram"
           }
          ],
          "histogram2d": [
           {
            "colorbar": {
             "outlinewidth": 0,
             "ticks": ""
            },
            "colorscale": [
             [
              0,
              "#0d0887"
             ],
             [
              0.1111111111111111,
              "#46039f"
             ],
             [
              0.2222222222222222,
              "#7201a8"
             ],
             [
              0.3333333333333333,
              "#9c179e"
             ],
             [
              0.4444444444444444,
              "#bd3786"
             ],
             [
              0.5555555555555556,
              "#d8576b"
             ],
             [
              0.6666666666666666,
              "#ed7953"
             ],
             [
              0.7777777777777778,
              "#fb9f3a"
             ],
             [
              0.8888888888888888,
              "#fdca26"
             ],
             [
              1,
              "#f0f921"
             ]
            ],
            "type": "histogram2d"
           }
          ],
          "histogram2dcontour": [
           {
            "colorbar": {
             "outlinewidth": 0,
             "ticks": ""
            },
            "colorscale": [
             [
              0,
              "#0d0887"
             ],
             [
              0.1111111111111111,
              "#46039f"
             ],
             [
              0.2222222222222222,
              "#7201a8"
             ],
             [
              0.3333333333333333,
              "#9c179e"
             ],
             [
              0.4444444444444444,
              "#bd3786"
             ],
             [
              0.5555555555555556,
              "#d8576b"
             ],
             [
              0.6666666666666666,
              "#ed7953"
             ],
             [
              0.7777777777777778,
              "#fb9f3a"
             ],
             [
              0.8888888888888888,
              "#fdca26"
             ],
             [
              1,
              "#f0f921"
             ]
            ],
            "type": "histogram2dcontour"
           }
          ],
          "mesh3d": [
           {
            "colorbar": {
             "outlinewidth": 0,
             "ticks": ""
            },
            "type": "mesh3d"
           }
          ],
          "parcoords": [
           {
            "line": {
             "colorbar": {
              "outlinewidth": 0,
              "ticks": ""
             }
            },
            "type": "parcoords"
           }
          ],
          "pie": [
           {
            "automargin": true,
            "type": "pie"
           }
          ],
          "scatter": [
           {
            "fillpattern": {
             "fillmode": "overlay",
             "size": 10,
             "solidity": 0.2
            },
            "type": "scatter"
           }
          ],
          "scatter3d": [
           {
            "line": {
             "colorbar": {
              "outlinewidth": 0,
              "ticks": ""
             }
            },
            "marker": {
             "colorbar": {
              "outlinewidth": 0,
              "ticks": ""
             }
            },
            "type": "scatter3d"
           }
          ],
          "scattercarpet": [
           {
            "marker": {
             "colorbar": {
              "outlinewidth": 0,
              "ticks": ""
             }
            },
            "type": "scattercarpet"
           }
          ],
          "scattergeo": [
           {
            "marker": {
             "colorbar": {
              "outlinewidth": 0,
              "ticks": ""
             }
            },
            "type": "scattergeo"
           }
          ],
          "scattergl": [
           {
            "marker": {
             "colorbar": {
              "outlinewidth": 0,
              "ticks": ""
             }
            },
            "type": "scattergl"
           }
          ],
          "scattermapbox": [
           {
            "marker": {
             "colorbar": {
              "outlinewidth": 0,
              "ticks": ""
             }
            },
            "type": "scattermapbox"
           }
          ],
          "scatterpolar": [
           {
            "marker": {
             "colorbar": {
              "outlinewidth": 0,
              "ticks": ""
             }
            },
            "type": "scatterpolar"
           }
          ],
          "scatterpolargl": [
           {
            "marker": {
             "colorbar": {
              "outlinewidth": 0,
              "ticks": ""
             }
            },
            "type": "scatterpolargl"
           }
          ],
          "scatterternary": [
           {
            "marker": {
             "colorbar": {
              "outlinewidth": 0,
              "ticks": ""
             }
            },
            "type": "scatterternary"
           }
          ],
          "surface": [
           {
            "colorbar": {
             "outlinewidth": 0,
             "ticks": ""
            },
            "colorscale": [
             [
              0,
              "#0d0887"
             ],
             [
              0.1111111111111111,
              "#46039f"
             ],
             [
              0.2222222222222222,
              "#7201a8"
             ],
             [
              0.3333333333333333,
              "#9c179e"
             ],
             [
              0.4444444444444444,
              "#bd3786"
             ],
             [
              0.5555555555555556,
              "#d8576b"
             ],
             [
              0.6666666666666666,
              "#ed7953"
             ],
             [
              0.7777777777777778,
              "#fb9f3a"
             ],
             [
              0.8888888888888888,
              "#fdca26"
             ],
             [
              1,
              "#f0f921"
             ]
            ],
            "type": "surface"
           }
          ],
          "table": [
           {
            "cells": {
             "fill": {
              "color": "#EBF0F8"
             },
             "line": {
              "color": "white"
             }
            },
            "header": {
             "fill": {
              "color": "#C8D4E3"
             },
             "line": {
              "color": "white"
             }
            },
            "type": "table"
           }
          ]
         },
         "layout": {
          "annotationdefaults": {
           "arrowcolor": "#2a3f5f",
           "arrowhead": 0,
           "arrowwidth": 1
          },
          "autotypenumbers": "strict",
          "coloraxis": {
           "colorbar": {
            "outlinewidth": 0,
            "ticks": ""
           }
          },
          "colorscale": {
           "diverging": [
            [
             0,
             "#8e0152"
            ],
            [
             0.1,
             "#c51b7d"
            ],
            [
             0.2,
             "#de77ae"
            ],
            [
             0.3,
             "#f1b6da"
            ],
            [
             0.4,
             "#fde0ef"
            ],
            [
             0.5,
             "#f7f7f7"
            ],
            [
             0.6,
             "#e6f5d0"
            ],
            [
             0.7,
             "#b8e186"
            ],
            [
             0.8,
             "#7fbc41"
            ],
            [
             0.9,
             "#4d9221"
            ],
            [
             1,
             "#276419"
            ]
           ],
           "sequential": [
            [
             0,
             "#0d0887"
            ],
            [
             0.1111111111111111,
             "#46039f"
            ],
            [
             0.2222222222222222,
             "#7201a8"
            ],
            [
             0.3333333333333333,
             "#9c179e"
            ],
            [
             0.4444444444444444,
             "#bd3786"
            ],
            [
             0.5555555555555556,
             "#d8576b"
            ],
            [
             0.6666666666666666,
             "#ed7953"
            ],
            [
             0.7777777777777778,
             "#fb9f3a"
            ],
            [
             0.8888888888888888,
             "#fdca26"
            ],
            [
             1,
             "#f0f921"
            ]
           ],
           "sequentialminus": [
            [
             0,
             "#0d0887"
            ],
            [
             0.1111111111111111,
             "#46039f"
            ],
            [
             0.2222222222222222,
             "#7201a8"
            ],
            [
             0.3333333333333333,
             "#9c179e"
            ],
            [
             0.4444444444444444,
             "#bd3786"
            ],
            [
             0.5555555555555556,
             "#d8576b"
            ],
            [
             0.6666666666666666,
             "#ed7953"
            ],
            [
             0.7777777777777778,
             "#fb9f3a"
            ],
            [
             0.8888888888888888,
             "#fdca26"
            ],
            [
             1,
             "#f0f921"
            ]
           ]
          },
          "colorway": [
           "#636efa",
           "#EF553B",
           "#00cc96",
           "#ab63fa",
           "#FFA15A",
           "#19d3f3",
           "#FF6692",
           "#B6E880",
           "#FF97FF",
           "#FECB52"
          ],
          "font": {
           "color": "#2a3f5f"
          },
          "geo": {
           "bgcolor": "white",
           "lakecolor": "white",
           "landcolor": "#E5ECF6",
           "showlakes": true,
           "showland": true,
           "subunitcolor": "white"
          },
          "hoverlabel": {
           "align": "left"
          },
          "hovermode": "closest",
          "mapbox": {
           "style": "light"
          },
          "paper_bgcolor": "white",
          "plot_bgcolor": "#E5ECF6",
          "polar": {
           "angularaxis": {
            "gridcolor": "white",
            "linecolor": "white",
            "ticks": ""
           },
           "bgcolor": "#E5ECF6",
           "radialaxis": {
            "gridcolor": "white",
            "linecolor": "white",
            "ticks": ""
           }
          },
          "scene": {
           "xaxis": {
            "backgroundcolor": "#E5ECF6",
            "gridcolor": "white",
            "gridwidth": 2,
            "linecolor": "white",
            "showbackground": true,
            "ticks": "",
            "zerolinecolor": "white"
           },
           "yaxis": {
            "backgroundcolor": "#E5ECF6",
            "gridcolor": "white",
            "gridwidth": 2,
            "linecolor": "white",
            "showbackground": true,
            "ticks": "",
            "zerolinecolor": "white"
           },
           "zaxis": {
            "backgroundcolor": "#E5ECF6",
            "gridcolor": "white",
            "gridwidth": 2,
            "linecolor": "white",
            "showbackground": true,
            "ticks": "",
            "zerolinecolor": "white"
           }
          },
          "shapedefaults": {
           "line": {
            "color": "#2a3f5f"
           }
          },
          "ternary": {
           "aaxis": {
            "gridcolor": "white",
            "linecolor": "white",
            "ticks": ""
           },
           "baxis": {
            "gridcolor": "white",
            "linecolor": "white",
            "ticks": ""
           },
           "bgcolor": "#E5ECF6",
           "caxis": {
            "gridcolor": "white",
            "linecolor": "white",
            "ticks": ""
           }
          },
          "title": {
           "x": 0.05
          },
          "xaxis": {
           "automargin": true,
           "gridcolor": "white",
           "linecolor": "white",
           "ticks": "",
           "title": {
            "standoff": 15
           },
           "zerolinecolor": "white",
           "zerolinewidth": 2
          },
          "yaxis": {
           "automargin": true,
           "gridcolor": "white",
           "linecolor": "white",
           "ticks": "",
           "title": {
            "standoff": 15
           },
           "zerolinecolor": "white",
           "zerolinewidth": 2
          }
         }
        },
        "title": {
         "text": "perplexity 8"
        },
        "xaxis": {
         "anchor": "y",
         "domain": [
          0,
          1
         ],
         "title": {
          "text": "x"
         }
        },
        "yaxis": {
         "anchor": "x",
         "domain": [
          0,
          1
         ],
         "title": {
          "text": "y"
         }
        }
       }
      }
     },
     "metadata": {},
     "output_type": "display_data"
    },
    {
     "name": "stderr",
     "output_type": "stream",
     "text": [
      "/home/amysiak/thesis/env/lib/python3.8/site-packages/sklearn/manifold/_t_sne.py:800: FutureWarning:\n",
      "\n",
      "The default initialization in TSNE will change from 'random' to 'pca' in 1.2.\n",
      "\n",
      "/home/amysiak/thesis/env/lib/python3.8/site-packages/sklearn/manifold/_t_sne.py:810: FutureWarning:\n",
      "\n",
      "The default learning rate in TSNE will change from 200.0 to 'auto' in 1.2.\n",
      "\n"
     ]
    },
    {
     "data": {
      "application/vnd.plotly.v1+json": {
       "config": {
        "plotlyServerURL": "https://plot.ly"
       },
       "data": [
        {
         "hovertemplate": "color=be<br>x=%{x}<br>y=%{y}<extra></extra>",
         "legendgroup": "be",
         "marker": {
          "color": "#FD3216",
          "symbol": "circle"
         },
         "mode": "markers",
         "name": "be",
         "orientation": "v",
         "showlegend": true,
         "type": "scatter",
         "x": [
          245.17811584472656
         ],
         "xaxis": "x",
         "y": [
          -90.2950439453125
         ],
         "yaxis": "y"
        },
        {
         "hovertemplate": "color=cs<br>x=%{x}<br>y=%{y}<extra></extra>",
         "legendgroup": "cs",
         "marker": {
          "color": "#00FE35",
          "symbol": "circle"
         },
         "mode": "markers",
         "name": "cs",
         "orientation": "v",
         "showlegend": true,
         "type": "scatter",
         "x": [
          -42.504390716552734
         ],
         "xaxis": "x",
         "y": [
          117.29932403564453
         ],
         "yaxis": "y"
        },
        {
         "hovertemplate": "color=en<br>x=%{x}<br>y=%{y}<extra></extra>",
         "legendgroup": "en",
         "marker": {
          "color": "#6A76FC",
          "symbol": "circle"
         },
         "mode": "markers",
         "name": "en",
         "orientation": "v",
         "showlegend": true,
         "type": "scatter",
         "x": [
          -509.7728576660156
         ],
         "xaxis": "x",
         "y": [
          -140.81259155273438
         ],
         "yaxis": "y"
        },
        {
         "hovertemplate": "color=es<br>x=%{x}<br>y=%{y}<extra></extra>",
         "legendgroup": "es",
         "marker": {
          "color": "#FED4C4",
          "symbol": "circle"
         },
         "mode": "markers",
         "name": "es",
         "orientation": "v",
         "showlegend": true,
         "type": "scatter",
         "x": [
          -365.4381408691406
         ],
         "xaxis": "x",
         "y": [
          -387.6223449707031
         ],
         "yaxis": "y"
        },
        {
         "hovertemplate": "color=fi<br>x=%{x}<br>y=%{y}<extra></extra>",
         "legendgroup": "fi",
         "marker": {
          "color": "#FE00CE",
          "symbol": "circle"
         },
         "mode": "markers",
         "name": "fi",
         "orientation": "v",
         "showlegend": true,
         "type": "scatter",
         "x": [
          82.7076187133789
         ],
         "xaxis": "x",
         "y": [
          347.00469970703125
         ],
         "yaxis": "y"
        },
        {
         "hovertemplate": "color=fr<br>x=%{x}<br>y=%{y}<extra></extra>",
         "legendgroup": "fr",
         "marker": {
          "color": "#0DF9FF",
          "symbol": "circle"
         },
         "mode": "markers",
         "name": "fr",
         "orientation": "v",
         "showlegend": true,
         "type": "scatter",
         "x": [
          -246.88320922851562
         ],
         "xaxis": "x",
         "y": [
          -277.2515563964844
         ],
         "yaxis": "y"
        },
        {
         "hovertemplate": "color=lv<br>x=%{x}<br>y=%{y}<extra></extra>",
         "legendgroup": "lv",
         "marker": {
          "color": "#F6F926",
          "symbol": "circle"
         },
         "mode": "markers",
         "name": "lv",
         "orientation": "v",
         "showlegend": true,
         "type": "scatter",
         "x": [
          203.7694549560547
         ],
         "xaxis": "x",
         "y": [
          178.63137817382812
         ],
         "yaxis": "y"
        },
        {
         "hovertemplate": "color=pl<br>x=%{x}<br>y=%{y}<extra></extra>",
         "legendgroup": "pl",
         "marker": {
          "color": "#FF9616",
          "symbol": "circle"
         },
         "mode": "markers",
         "name": "pl",
         "orientation": "v",
         "showlegend": true,
         "type": "scatter",
         "x": [
          57.836334228515625
         ],
         "xaxis": "x",
         "y": [
          -178.4278106689453
         ],
         "yaxis": "y"
        },
        {
         "hovertemplate": "color=de<br>x=%{x}<br>y=%{y}<extra></extra>",
         "legendgroup": "de",
         "marker": {
          "color": "#479B55",
          "symbol": "circle"
         },
         "mode": "markers",
         "name": "de",
         "orientation": "v",
         "showlegend": true,
         "type": "scatter",
         "x": [
          -294.0551452636719
         ],
         "xaxis": "x",
         "y": [
          -32.62747573852539
         ],
         "yaxis": "y"
        },
        {
         "hovertemplate": "color=ru<br>x=%{x}<br>y=%{y}<extra></extra>",
         "legendgroup": "ru",
         "marker": {
          "color": "#EEA6FB",
          "symbol": "circle"
         },
         "mode": "markers",
         "name": "ru",
         "orientation": "v",
         "showlegend": true,
         "type": "scatter",
         "x": [
          96.05278778076172
         ],
         "xaxis": "x",
         "y": [
          0.5073062181472778
         ],
         "yaxis": "y"
        },
        {
         "hovertemplate": "color=slv<br>x=%{x}<br>y=%{y}<extra></extra>",
         "legendgroup": "slv",
         "marker": {
          "color": "#DC587D",
          "symbol": "circle"
         },
         "mode": "markers",
         "name": "slv",
         "orientation": "v",
         "showlegend": true,
         "type": "scatter",
         "x": [
          -71.11095428466797
         ],
         "xaxis": "x",
         "y": [
          -60.167640686035156
         ],
         "yaxis": "y"
        },
        {
         "hovertemplate": "color=fa<br>x=%{x}<br>y=%{y}<extra></extra>",
         "legendgroup": "fa",
         "marker": {
          "color": "#D626FF",
          "symbol": "circle"
         },
         "mode": "markers",
         "name": "fa",
         "orientation": "v",
         "showlegend": true,
         "type": "scatter",
         "x": [
          269.3057861328125
         ],
         "xaxis": "x",
         "y": [
          -360.0479736328125
         ],
         "yaxis": "y"
        },
        {
         "hovertemplate": "color=ko<br>x=%{x}<br>y=%{y}<extra></extra>",
         "legendgroup": "ko",
         "marker": {
          "color": "#6E899C",
          "symbol": "circle"
         },
         "mode": "markers",
         "name": "ko",
         "orientation": "v",
         "showlegend": true,
         "type": "scatter",
         "x": [
          472.7598876953125
         ],
         "xaxis": "x",
         "y": [
          324.46563720703125
         ],
         "yaxis": "y"
        },
        {
         "hovertemplate": "color=tr<br>x=%{x}<br>y=%{y}<extra></extra>",
         "legendgroup": "tr",
         "marker": {
          "color": "#00B5F7",
          "symbol": "circle"
         },
         "mode": "markers",
         "name": "tr",
         "orientation": "v",
         "showlegend": true,
         "type": "scatter",
         "x": [
          479.9770812988281
         ],
         "xaxis": "x",
         "y": [
          163.34097290039062
         ],
         "yaxis": "y"
        },
        {
         "hovertemplate": "color=nl<br>x=%{x}<br>y=%{y}<extra></extra>",
         "legendgroup": "nl",
         "marker": {
          "color": "#B68E00",
          "symbol": "circle"
         },
         "mode": "markers",
         "name": "nl",
         "orientation": "v",
         "showlegend": true,
         "type": "scatter",
         "x": [
          -374.392333984375
         ],
         "xaxis": "x",
         "y": [
          98.98336029052734
         ],
         "yaxis": "y"
        }
       ],
       "layout": {
        "legend": {
         "title": {
          "text": "color"
         },
         "tracegroupgap": 0
        },
        "template": {
         "data": {
          "bar": [
           {
            "error_x": {
             "color": "#2a3f5f"
            },
            "error_y": {
             "color": "#2a3f5f"
            },
            "marker": {
             "line": {
              "color": "#E5ECF6",
              "width": 0.5
             },
             "pattern": {
              "fillmode": "overlay",
              "size": 10,
              "solidity": 0.2
             }
            },
            "type": "bar"
           }
          ],
          "barpolar": [
           {
            "marker": {
             "line": {
              "color": "#E5ECF6",
              "width": 0.5
             },
             "pattern": {
              "fillmode": "overlay",
              "size": 10,
              "solidity": 0.2
             }
            },
            "type": "barpolar"
           }
          ],
          "carpet": [
           {
            "aaxis": {
             "endlinecolor": "#2a3f5f",
             "gridcolor": "white",
             "linecolor": "white",
             "minorgridcolor": "white",
             "startlinecolor": "#2a3f5f"
            },
            "baxis": {
             "endlinecolor": "#2a3f5f",
             "gridcolor": "white",
             "linecolor": "white",
             "minorgridcolor": "white",
             "startlinecolor": "#2a3f5f"
            },
            "type": "carpet"
           }
          ],
          "choropleth": [
           {
            "colorbar": {
             "outlinewidth": 0,
             "ticks": ""
            },
            "type": "choropleth"
           }
          ],
          "contour": [
           {
            "colorbar": {
             "outlinewidth": 0,
             "ticks": ""
            },
            "colorscale": [
             [
              0,
              "#0d0887"
             ],
             [
              0.1111111111111111,
              "#46039f"
             ],
             [
              0.2222222222222222,
              "#7201a8"
             ],
             [
              0.3333333333333333,
              "#9c179e"
             ],
             [
              0.4444444444444444,
              "#bd3786"
             ],
             [
              0.5555555555555556,
              "#d8576b"
             ],
             [
              0.6666666666666666,
              "#ed7953"
             ],
             [
              0.7777777777777778,
              "#fb9f3a"
             ],
             [
              0.8888888888888888,
              "#fdca26"
             ],
             [
              1,
              "#f0f921"
             ]
            ],
            "type": "contour"
           }
          ],
          "contourcarpet": [
           {
            "colorbar": {
             "outlinewidth": 0,
             "ticks": ""
            },
            "type": "contourcarpet"
           }
          ],
          "heatmap": [
           {
            "colorbar": {
             "outlinewidth": 0,
             "ticks": ""
            },
            "colorscale": [
             [
              0,
              "#0d0887"
             ],
             [
              0.1111111111111111,
              "#46039f"
             ],
             [
              0.2222222222222222,
              "#7201a8"
             ],
             [
              0.3333333333333333,
              "#9c179e"
             ],
             [
              0.4444444444444444,
              "#bd3786"
             ],
             [
              0.5555555555555556,
              "#d8576b"
             ],
             [
              0.6666666666666666,
              "#ed7953"
             ],
             [
              0.7777777777777778,
              "#fb9f3a"
             ],
             [
              0.8888888888888888,
              "#fdca26"
             ],
             [
              1,
              "#f0f921"
             ]
            ],
            "type": "heatmap"
           }
          ],
          "heatmapgl": [
           {
            "colorbar": {
             "outlinewidth": 0,
             "ticks": ""
            },
            "colorscale": [
             [
              0,
              "#0d0887"
             ],
             [
              0.1111111111111111,
              "#46039f"
             ],
             [
              0.2222222222222222,
              "#7201a8"
             ],
             [
              0.3333333333333333,
              "#9c179e"
             ],
             [
              0.4444444444444444,
              "#bd3786"
             ],
             [
              0.5555555555555556,
              "#d8576b"
             ],
             [
              0.6666666666666666,
              "#ed7953"
             ],
             [
              0.7777777777777778,
              "#fb9f3a"
             ],
             [
              0.8888888888888888,
              "#fdca26"
             ],
             [
              1,
              "#f0f921"
             ]
            ],
            "type": "heatmapgl"
           }
          ],
          "histogram": [
           {
            "marker": {
             "pattern": {
              "fillmode": "overlay",
              "size": 10,
              "solidity": 0.2
             }
            },
            "type": "histogram"
           }
          ],
          "histogram2d": [
           {
            "colorbar": {
             "outlinewidth": 0,
             "ticks": ""
            },
            "colorscale": [
             [
              0,
              "#0d0887"
             ],
             [
              0.1111111111111111,
              "#46039f"
             ],
             [
              0.2222222222222222,
              "#7201a8"
             ],
             [
              0.3333333333333333,
              "#9c179e"
             ],
             [
              0.4444444444444444,
              "#bd3786"
             ],
             [
              0.5555555555555556,
              "#d8576b"
             ],
             [
              0.6666666666666666,
              "#ed7953"
             ],
             [
              0.7777777777777778,
              "#fb9f3a"
             ],
             [
              0.8888888888888888,
              "#fdca26"
             ],
             [
              1,
              "#f0f921"
             ]
            ],
            "type": "histogram2d"
           }
          ],
          "histogram2dcontour": [
           {
            "colorbar": {
             "outlinewidth": 0,
             "ticks": ""
            },
            "colorscale": [
             [
              0,
              "#0d0887"
             ],
             [
              0.1111111111111111,
              "#46039f"
             ],
             [
              0.2222222222222222,
              "#7201a8"
             ],
             [
              0.3333333333333333,
              "#9c179e"
             ],
             [
              0.4444444444444444,
              "#bd3786"
             ],
             [
              0.5555555555555556,
              "#d8576b"
             ],
             [
              0.6666666666666666,
              "#ed7953"
             ],
             [
              0.7777777777777778,
              "#fb9f3a"
             ],
             [
              0.8888888888888888,
              "#fdca26"
             ],
             [
              1,
              "#f0f921"
             ]
            ],
            "type": "histogram2dcontour"
           }
          ],
          "mesh3d": [
           {
            "colorbar": {
             "outlinewidth": 0,
             "ticks": ""
            },
            "type": "mesh3d"
           }
          ],
          "parcoords": [
           {
            "line": {
             "colorbar": {
              "outlinewidth": 0,
              "ticks": ""
             }
            },
            "type": "parcoords"
           }
          ],
          "pie": [
           {
            "automargin": true,
            "type": "pie"
           }
          ],
          "scatter": [
           {
            "fillpattern": {
             "fillmode": "overlay",
             "size": 10,
             "solidity": 0.2
            },
            "type": "scatter"
           }
          ],
          "scatter3d": [
           {
            "line": {
             "colorbar": {
              "outlinewidth": 0,
              "ticks": ""
             }
            },
            "marker": {
             "colorbar": {
              "outlinewidth": 0,
              "ticks": ""
             }
            },
            "type": "scatter3d"
           }
          ],
          "scattercarpet": [
           {
            "marker": {
             "colorbar": {
              "outlinewidth": 0,
              "ticks": ""
             }
            },
            "type": "scattercarpet"
           }
          ],
          "scattergeo": [
           {
            "marker": {
             "colorbar": {
              "outlinewidth": 0,
              "ticks": ""
             }
            },
            "type": "scattergeo"
           }
          ],
          "scattergl": [
           {
            "marker": {
             "colorbar": {
              "outlinewidth": 0,
              "ticks": ""
             }
            },
            "type": "scattergl"
           }
          ],
          "scattermapbox": [
           {
            "marker": {
             "colorbar": {
              "outlinewidth": 0,
              "ticks": ""
             }
            },
            "type": "scattermapbox"
           }
          ],
          "scatterpolar": [
           {
            "marker": {
             "colorbar": {
              "outlinewidth": 0,
              "ticks": ""
             }
            },
            "type": "scatterpolar"
           }
          ],
          "scatterpolargl": [
           {
            "marker": {
             "colorbar": {
              "outlinewidth": 0,
              "ticks": ""
             }
            },
            "type": "scatterpolargl"
           }
          ],
          "scatterternary": [
           {
            "marker": {
             "colorbar": {
              "outlinewidth": 0,
              "ticks": ""
             }
            },
            "type": "scatterternary"
           }
          ],
          "surface": [
           {
            "colorbar": {
             "outlinewidth": 0,
             "ticks": ""
            },
            "colorscale": [
             [
              0,
              "#0d0887"
             ],
             [
              0.1111111111111111,
              "#46039f"
             ],
             [
              0.2222222222222222,
              "#7201a8"
             ],
             [
              0.3333333333333333,
              "#9c179e"
             ],
             [
              0.4444444444444444,
              "#bd3786"
             ],
             [
              0.5555555555555556,
              "#d8576b"
             ],
             [
              0.6666666666666666,
              "#ed7953"
             ],
             [
              0.7777777777777778,
              "#fb9f3a"
             ],
             [
              0.8888888888888888,
              "#fdca26"
             ],
             [
              1,
              "#f0f921"
             ]
            ],
            "type": "surface"
           }
          ],
          "table": [
           {
            "cells": {
             "fill": {
              "color": "#EBF0F8"
             },
             "line": {
              "color": "white"
             }
            },
            "header": {
             "fill": {
              "color": "#C8D4E3"
             },
             "line": {
              "color": "white"
             }
            },
            "type": "table"
           }
          ]
         },
         "layout": {
          "annotationdefaults": {
           "arrowcolor": "#2a3f5f",
           "arrowhead": 0,
           "arrowwidth": 1
          },
          "autotypenumbers": "strict",
          "coloraxis": {
           "colorbar": {
            "outlinewidth": 0,
            "ticks": ""
           }
          },
          "colorscale": {
           "diverging": [
            [
             0,
             "#8e0152"
            ],
            [
             0.1,
             "#c51b7d"
            ],
            [
             0.2,
             "#de77ae"
            ],
            [
             0.3,
             "#f1b6da"
            ],
            [
             0.4,
             "#fde0ef"
            ],
            [
             0.5,
             "#f7f7f7"
            ],
            [
             0.6,
             "#e6f5d0"
            ],
            [
             0.7,
             "#b8e186"
            ],
            [
             0.8,
             "#7fbc41"
            ],
            [
             0.9,
             "#4d9221"
            ],
            [
             1,
             "#276419"
            ]
           ],
           "sequential": [
            [
             0,
             "#0d0887"
            ],
            [
             0.1111111111111111,
             "#46039f"
            ],
            [
             0.2222222222222222,
             "#7201a8"
            ],
            [
             0.3333333333333333,
             "#9c179e"
            ],
            [
             0.4444444444444444,
             "#bd3786"
            ],
            [
             0.5555555555555556,
             "#d8576b"
            ],
            [
             0.6666666666666666,
             "#ed7953"
            ],
            [
             0.7777777777777778,
             "#fb9f3a"
            ],
            [
             0.8888888888888888,
             "#fdca26"
            ],
            [
             1,
             "#f0f921"
            ]
           ],
           "sequentialminus": [
            [
             0,
             "#0d0887"
            ],
            [
             0.1111111111111111,
             "#46039f"
            ],
            [
             0.2222222222222222,
             "#7201a8"
            ],
            [
             0.3333333333333333,
             "#9c179e"
            ],
            [
             0.4444444444444444,
             "#bd3786"
            ],
            [
             0.5555555555555556,
             "#d8576b"
            ],
            [
             0.6666666666666666,
             "#ed7953"
            ],
            [
             0.7777777777777778,
             "#fb9f3a"
            ],
            [
             0.8888888888888888,
             "#fdca26"
            ],
            [
             1,
             "#f0f921"
            ]
           ]
          },
          "colorway": [
           "#636efa",
           "#EF553B",
           "#00cc96",
           "#ab63fa",
           "#FFA15A",
           "#19d3f3",
           "#FF6692",
           "#B6E880",
           "#FF97FF",
           "#FECB52"
          ],
          "font": {
           "color": "#2a3f5f"
          },
          "geo": {
           "bgcolor": "white",
           "lakecolor": "white",
           "landcolor": "#E5ECF6",
           "showlakes": true,
           "showland": true,
           "subunitcolor": "white"
          },
          "hoverlabel": {
           "align": "left"
          },
          "hovermode": "closest",
          "mapbox": {
           "style": "light"
          },
          "paper_bgcolor": "white",
          "plot_bgcolor": "#E5ECF6",
          "polar": {
           "angularaxis": {
            "gridcolor": "white",
            "linecolor": "white",
            "ticks": ""
           },
           "bgcolor": "#E5ECF6",
           "radialaxis": {
            "gridcolor": "white",
            "linecolor": "white",
            "ticks": ""
           }
          },
          "scene": {
           "xaxis": {
            "backgroundcolor": "#E5ECF6",
            "gridcolor": "white",
            "gridwidth": 2,
            "linecolor": "white",
            "showbackground": true,
            "ticks": "",
            "zerolinecolor": "white"
           },
           "yaxis": {
            "backgroundcolor": "#E5ECF6",
            "gridcolor": "white",
            "gridwidth": 2,
            "linecolor": "white",
            "showbackground": true,
            "ticks": "",
            "zerolinecolor": "white"
           },
           "zaxis": {
            "backgroundcolor": "#E5ECF6",
            "gridcolor": "white",
            "gridwidth": 2,
            "linecolor": "white",
            "showbackground": true,
            "ticks": "",
            "zerolinecolor": "white"
           }
          },
          "shapedefaults": {
           "line": {
            "color": "#2a3f5f"
           }
          },
          "ternary": {
           "aaxis": {
            "gridcolor": "white",
            "linecolor": "white",
            "ticks": ""
           },
           "baxis": {
            "gridcolor": "white",
            "linecolor": "white",
            "ticks": ""
           },
           "bgcolor": "#E5ECF6",
           "caxis": {
            "gridcolor": "white",
            "linecolor": "white",
            "ticks": ""
           }
          },
          "title": {
           "x": 0.05
          },
          "xaxis": {
           "automargin": true,
           "gridcolor": "white",
           "linecolor": "white",
           "ticks": "",
           "title": {
            "standoff": 15
           },
           "zerolinecolor": "white",
           "zerolinewidth": 2
          },
          "yaxis": {
           "automargin": true,
           "gridcolor": "white",
           "linecolor": "white",
           "ticks": "",
           "title": {
            "standoff": 15
           },
           "zerolinecolor": "white",
           "zerolinewidth": 2
          }
         }
        },
        "title": {
         "text": "perplexity 9"
        },
        "xaxis": {
         "anchor": "y",
         "domain": [
          0,
          1
         ],
         "title": {
          "text": "x"
         }
        },
        "yaxis": {
         "anchor": "x",
         "domain": [
          0,
          1
         ],
         "title": {
          "text": "y"
         }
        }
       }
      }
     },
     "metadata": {},
     "output_type": "display_data"
    },
    {
     "name": "stderr",
     "output_type": "stream",
     "text": [
      "/home/amysiak/thesis/env/lib/python3.8/site-packages/sklearn/manifold/_t_sne.py:800: FutureWarning:\n",
      "\n",
      "The default initialization in TSNE will change from 'random' to 'pca' in 1.2.\n",
      "\n",
      "/home/amysiak/thesis/env/lib/python3.8/site-packages/sklearn/manifold/_t_sne.py:810: FutureWarning:\n",
      "\n",
      "The default learning rate in TSNE will change from 200.0 to 'auto' in 1.2.\n",
      "\n"
     ]
    },
    {
     "data": {
      "application/vnd.plotly.v1+json": {
       "config": {
        "plotlyServerURL": "https://plot.ly"
       },
       "data": [
        {
         "hovertemplate": "color=be<br>x=%{x}<br>y=%{y}<extra></extra>",
         "legendgroup": "be",
         "marker": {
          "color": "#FD3216",
          "symbol": "circle"
         },
         "mode": "markers",
         "name": "be",
         "orientation": "v",
         "showlegend": true,
         "type": "scatter",
         "x": [
          -232.5334014892578
         ],
         "xaxis": "x",
         "y": [
          333.5238952636719
         ],
         "yaxis": "y"
        },
        {
         "hovertemplate": "color=cs<br>x=%{x}<br>y=%{y}<extra></extra>",
         "legendgroup": "cs",
         "marker": {
          "color": "#00FE35",
          "symbol": "circle"
         },
         "mode": "markers",
         "name": "cs",
         "orientation": "v",
         "showlegend": true,
         "type": "scatter",
         "x": [
          -251.9819793701172
         ],
         "xaxis": "x",
         "y": [
          -132.57102966308594
         ],
         "yaxis": "y"
        },
        {
         "hovertemplate": "color=en<br>x=%{x}<br>y=%{y}<extra></extra>",
         "legendgroup": "en",
         "marker": {
          "color": "#6A76FC",
          "symbol": "circle"
         },
         "mode": "markers",
         "name": "en",
         "orientation": "v",
         "showlegend": true,
         "type": "scatter",
         "x": [
          398.9516296386719
         ],
         "xaxis": "x",
         "y": [
          234.40440368652344
         ],
         "yaxis": "y"
        },
        {
         "hovertemplate": "color=es<br>x=%{x}<br>y=%{y}<extra></extra>",
         "legendgroup": "es",
         "marker": {
          "color": "#FED4C4",
          "symbol": "circle"
         },
         "mode": "markers",
         "name": "es",
         "orientation": "v",
         "showlegend": true,
         "type": "scatter",
         "x": [
          373.4023742675781
         ],
         "xaxis": "x",
         "y": [
          -390.9919738769531
         ],
         "yaxis": "y"
        },
        {
         "hovertemplate": "color=fi<br>x=%{x}<br>y=%{y}<extra></extra>",
         "legendgroup": "fi",
         "marker": {
          "color": "#FE00CE",
          "symbol": "circle"
         },
         "mode": "markers",
         "name": "fi",
         "orientation": "v",
         "showlegend": true,
         "type": "scatter",
         "x": [
          -559.407470703125
         ],
         "xaxis": "x",
         "y": [
          251.1497039794922
         ],
         "yaxis": "y"
        },
        {
         "hovertemplate": "color=fr<br>x=%{x}<br>y=%{y}<extra></extra>",
         "legendgroup": "fr",
         "marker": {
          "color": "#0DF9FF",
          "symbol": "circle"
         },
         "mode": "markers",
         "name": "fr",
         "orientation": "v",
         "showlegend": true,
         "type": "scatter",
         "x": [
          160.49374389648438
         ],
         "xaxis": "x",
         "y": [
          -307.6252746582031
         ],
         "yaxis": "y"
        },
        {
         "hovertemplate": "color=lv<br>x=%{x}<br>y=%{y}<extra></extra>",
         "legendgroup": "lv",
         "marker": {
          "color": "#F6F926",
          "symbol": "circle"
         },
         "mode": "markers",
         "name": "lv",
         "orientation": "v",
         "showlegend": true,
         "type": "scatter",
         "x": [
          -513.5933227539062
         ],
         "xaxis": "x",
         "y": [
          -24.298717498779297
         ],
         "yaxis": "y"
        },
        {
         "hovertemplate": "color=pl<br>x=%{x}<br>y=%{y}<extra></extra>",
         "legendgroup": "pl",
         "marker": {
          "color": "#FF9616",
          "symbol": "circle"
         },
         "mode": "markers",
         "name": "pl",
         "orientation": "v",
         "showlegend": true,
         "type": "scatter",
         "x": [
          -228.40052795410156
         ],
         "xaxis": "x",
         "y": [
          104.56543731689453
         ],
         "yaxis": "y"
        },
        {
         "hovertemplate": "color=de<br>x=%{x}<br>y=%{y}<extra></extra>",
         "legendgroup": "de",
         "marker": {
          "color": "#479B55",
          "symbol": "circle"
         },
         "mode": "markers",
         "name": "de",
         "orientation": "v",
         "showlegend": true,
         "type": "scatter",
         "x": [
          237.1144256591797
         ],
         "xaxis": "x",
         "y": [
          -30.60430145263672
         ],
         "yaxis": "y"
        },
        {
         "hovertemplate": "color=ru<br>x=%{x}<br>y=%{y}<extra></extra>",
         "legendgroup": "ru",
         "marker": {
          "color": "#EEA6FB",
          "symbol": "circle"
         },
         "mode": "markers",
         "name": "ru",
         "orientation": "v",
         "showlegend": true,
         "type": "scatter",
         "x": [
          -2.0024704933166504
         ],
         "xaxis": "x",
         "y": [
          213.77149963378906
         ],
         "yaxis": "y"
        },
        {
         "hovertemplate": "color=slv<br>x=%{x}<br>y=%{y}<extra></extra>",
         "legendgroup": "slv",
         "marker": {
          "color": "#DC587D",
          "symbol": "circle"
         },
         "mode": "markers",
         "name": "slv",
         "orientation": "v",
         "showlegend": true,
         "type": "scatter",
         "x": [
          -49.68935012817383
         ],
         "xaxis": "x",
         "y": [
          -32.96025848388672
         ],
         "yaxis": "y"
        },
        {
         "hovertemplate": "color=fa<br>x=%{x}<br>y=%{y}<extra></extra>",
         "legendgroup": "fa",
         "marker": {
          "color": "#D626FF",
          "symbol": "circle"
         },
         "mode": "markers",
         "name": "fa",
         "orientation": "v",
         "showlegend": true,
         "type": "scatter",
         "x": [
          -20.89058494567871
         ],
         "xaxis": "x",
         "y": [
          602.9904174804688
         ],
         "yaxis": "y"
        },
        {
         "hovertemplate": "color=ko<br>x=%{x}<br>y=%{y}<extra></extra>",
         "legendgroup": "ko",
         "marker": {
          "color": "#6E899C",
          "symbol": "circle"
         },
         "mode": "markers",
         "name": "ko",
         "orientation": "v",
         "showlegend": true,
         "type": "scatter",
         "x": [
          -188.96096801757812
         ],
         "xaxis": "x",
         "y": [
          -653.5855712890625
         ],
         "yaxis": "y"
        },
        {
         "hovertemplate": "color=tr<br>x=%{x}<br>y=%{y}<extra></extra>",
         "legendgroup": "tr",
         "marker": {
          "color": "#00B5F7",
          "symbol": "circle"
         },
         "mode": "markers",
         "name": "tr",
         "orientation": "v",
         "showlegend": true,
         "type": "scatter",
         "x": [
          -328.0593566894531
         ],
         "xaxis": "x",
         "y": [
          -475.117919921875
         ],
         "yaxis": "y"
        },
        {
         "hovertemplate": "color=nl<br>x=%{x}<br>y=%{y}<extra></extra>",
         "legendgroup": "nl",
         "marker": {
          "color": "#B68E00",
          "symbol": "circle"
         },
         "mode": "markers",
         "name": "nl",
         "orientation": "v",
         "showlegend": true,
         "type": "scatter",
         "x": [
          446.9734191894531
         ],
         "xaxis": "x",
         "y": [
          -71.58817291259766
         ],
         "yaxis": "y"
        }
       ],
       "layout": {
        "legend": {
         "title": {
          "text": "color"
         },
         "tracegroupgap": 0
        },
        "template": {
         "data": {
          "bar": [
           {
            "error_x": {
             "color": "#2a3f5f"
            },
            "error_y": {
             "color": "#2a3f5f"
            },
            "marker": {
             "line": {
              "color": "#E5ECF6",
              "width": 0.5
             },
             "pattern": {
              "fillmode": "overlay",
              "size": 10,
              "solidity": 0.2
             }
            },
            "type": "bar"
           }
          ],
          "barpolar": [
           {
            "marker": {
             "line": {
              "color": "#E5ECF6",
              "width": 0.5
             },
             "pattern": {
              "fillmode": "overlay",
              "size": 10,
              "solidity": 0.2
             }
            },
            "type": "barpolar"
           }
          ],
          "carpet": [
           {
            "aaxis": {
             "endlinecolor": "#2a3f5f",
             "gridcolor": "white",
             "linecolor": "white",
             "minorgridcolor": "white",
             "startlinecolor": "#2a3f5f"
            },
            "baxis": {
             "endlinecolor": "#2a3f5f",
             "gridcolor": "white",
             "linecolor": "white",
             "minorgridcolor": "white",
             "startlinecolor": "#2a3f5f"
            },
            "type": "carpet"
           }
          ],
          "choropleth": [
           {
            "colorbar": {
             "outlinewidth": 0,
             "ticks": ""
            },
            "type": "choropleth"
           }
          ],
          "contour": [
           {
            "colorbar": {
             "outlinewidth": 0,
             "ticks": ""
            },
            "colorscale": [
             [
              0,
              "#0d0887"
             ],
             [
              0.1111111111111111,
              "#46039f"
             ],
             [
              0.2222222222222222,
              "#7201a8"
             ],
             [
              0.3333333333333333,
              "#9c179e"
             ],
             [
              0.4444444444444444,
              "#bd3786"
             ],
             [
              0.5555555555555556,
              "#d8576b"
             ],
             [
              0.6666666666666666,
              "#ed7953"
             ],
             [
              0.7777777777777778,
              "#fb9f3a"
             ],
             [
              0.8888888888888888,
              "#fdca26"
             ],
             [
              1,
              "#f0f921"
             ]
            ],
            "type": "contour"
           }
          ],
          "contourcarpet": [
           {
            "colorbar": {
             "outlinewidth": 0,
             "ticks": ""
            },
            "type": "contourcarpet"
           }
          ],
          "heatmap": [
           {
            "colorbar": {
             "outlinewidth": 0,
             "ticks": ""
            },
            "colorscale": [
             [
              0,
              "#0d0887"
             ],
             [
              0.1111111111111111,
              "#46039f"
             ],
             [
              0.2222222222222222,
              "#7201a8"
             ],
             [
              0.3333333333333333,
              "#9c179e"
             ],
             [
              0.4444444444444444,
              "#bd3786"
             ],
             [
              0.5555555555555556,
              "#d8576b"
             ],
             [
              0.6666666666666666,
              "#ed7953"
             ],
             [
              0.7777777777777778,
              "#fb9f3a"
             ],
             [
              0.8888888888888888,
              "#fdca26"
             ],
             [
              1,
              "#f0f921"
             ]
            ],
            "type": "heatmap"
           }
          ],
          "heatmapgl": [
           {
            "colorbar": {
             "outlinewidth": 0,
             "ticks": ""
            },
            "colorscale": [
             [
              0,
              "#0d0887"
             ],
             [
              0.1111111111111111,
              "#46039f"
             ],
             [
              0.2222222222222222,
              "#7201a8"
             ],
             [
              0.3333333333333333,
              "#9c179e"
             ],
             [
              0.4444444444444444,
              "#bd3786"
             ],
             [
              0.5555555555555556,
              "#d8576b"
             ],
             [
              0.6666666666666666,
              "#ed7953"
             ],
             [
              0.7777777777777778,
              "#fb9f3a"
             ],
             [
              0.8888888888888888,
              "#fdca26"
             ],
             [
              1,
              "#f0f921"
             ]
            ],
            "type": "heatmapgl"
           }
          ],
          "histogram": [
           {
            "marker": {
             "pattern": {
              "fillmode": "overlay",
              "size": 10,
              "solidity": 0.2
             }
            },
            "type": "histogram"
           }
          ],
          "histogram2d": [
           {
            "colorbar": {
             "outlinewidth": 0,
             "ticks": ""
            },
            "colorscale": [
             [
              0,
              "#0d0887"
             ],
             [
              0.1111111111111111,
              "#46039f"
             ],
             [
              0.2222222222222222,
              "#7201a8"
             ],
             [
              0.3333333333333333,
              "#9c179e"
             ],
             [
              0.4444444444444444,
              "#bd3786"
             ],
             [
              0.5555555555555556,
              "#d8576b"
             ],
             [
              0.6666666666666666,
              "#ed7953"
             ],
             [
              0.7777777777777778,
              "#fb9f3a"
             ],
             [
              0.8888888888888888,
              "#fdca26"
             ],
             [
              1,
              "#f0f921"
             ]
            ],
            "type": "histogram2d"
           }
          ],
          "histogram2dcontour": [
           {
            "colorbar": {
             "outlinewidth": 0,
             "ticks": ""
            },
            "colorscale": [
             [
              0,
              "#0d0887"
             ],
             [
              0.1111111111111111,
              "#46039f"
             ],
             [
              0.2222222222222222,
              "#7201a8"
             ],
             [
              0.3333333333333333,
              "#9c179e"
             ],
             [
              0.4444444444444444,
              "#bd3786"
             ],
             [
              0.5555555555555556,
              "#d8576b"
             ],
             [
              0.6666666666666666,
              "#ed7953"
             ],
             [
              0.7777777777777778,
              "#fb9f3a"
             ],
             [
              0.8888888888888888,
              "#fdca26"
             ],
             [
              1,
              "#f0f921"
             ]
            ],
            "type": "histogram2dcontour"
           }
          ],
          "mesh3d": [
           {
            "colorbar": {
             "outlinewidth": 0,
             "ticks": ""
            },
            "type": "mesh3d"
           }
          ],
          "parcoords": [
           {
            "line": {
             "colorbar": {
              "outlinewidth": 0,
              "ticks": ""
             }
            },
            "type": "parcoords"
           }
          ],
          "pie": [
           {
            "automargin": true,
            "type": "pie"
           }
          ],
          "scatter": [
           {
            "fillpattern": {
             "fillmode": "overlay",
             "size": 10,
             "solidity": 0.2
            },
            "type": "scatter"
           }
          ],
          "scatter3d": [
           {
            "line": {
             "colorbar": {
              "outlinewidth": 0,
              "ticks": ""
             }
            },
            "marker": {
             "colorbar": {
              "outlinewidth": 0,
              "ticks": ""
             }
            },
            "type": "scatter3d"
           }
          ],
          "scattercarpet": [
           {
            "marker": {
             "colorbar": {
              "outlinewidth": 0,
              "ticks": ""
             }
            },
            "type": "scattercarpet"
           }
          ],
          "scattergeo": [
           {
            "marker": {
             "colorbar": {
              "outlinewidth": 0,
              "ticks": ""
             }
            },
            "type": "scattergeo"
           }
          ],
          "scattergl": [
           {
            "marker": {
             "colorbar": {
              "outlinewidth": 0,
              "ticks": ""
             }
            },
            "type": "scattergl"
           }
          ],
          "scattermapbox": [
           {
            "marker": {
             "colorbar": {
              "outlinewidth": 0,
              "ticks": ""
             }
            },
            "type": "scattermapbox"
           }
          ],
          "scatterpolar": [
           {
            "marker": {
             "colorbar": {
              "outlinewidth": 0,
              "ticks": ""
             }
            },
            "type": "scatterpolar"
           }
          ],
          "scatterpolargl": [
           {
            "marker": {
             "colorbar": {
              "outlinewidth": 0,
              "ticks": ""
             }
            },
            "type": "scatterpolargl"
           }
          ],
          "scatterternary": [
           {
            "marker": {
             "colorbar": {
              "outlinewidth": 0,
              "ticks": ""
             }
            },
            "type": "scatterternary"
           }
          ],
          "surface": [
           {
            "colorbar": {
             "outlinewidth": 0,
             "ticks": ""
            },
            "colorscale": [
             [
              0,
              "#0d0887"
             ],
             [
              0.1111111111111111,
              "#46039f"
             ],
             [
              0.2222222222222222,
              "#7201a8"
             ],
             [
              0.3333333333333333,
              "#9c179e"
             ],
             [
              0.4444444444444444,
              "#bd3786"
             ],
             [
              0.5555555555555556,
              "#d8576b"
             ],
             [
              0.6666666666666666,
              "#ed7953"
             ],
             [
              0.7777777777777778,
              "#fb9f3a"
             ],
             [
              0.8888888888888888,
              "#fdca26"
             ],
             [
              1,
              "#f0f921"
             ]
            ],
            "type": "surface"
           }
          ],
          "table": [
           {
            "cells": {
             "fill": {
              "color": "#EBF0F8"
             },
             "line": {
              "color": "white"
             }
            },
            "header": {
             "fill": {
              "color": "#C8D4E3"
             },
             "line": {
              "color": "white"
             }
            },
            "type": "table"
           }
          ]
         },
         "layout": {
          "annotationdefaults": {
           "arrowcolor": "#2a3f5f",
           "arrowhead": 0,
           "arrowwidth": 1
          },
          "autotypenumbers": "strict",
          "coloraxis": {
           "colorbar": {
            "outlinewidth": 0,
            "ticks": ""
           }
          },
          "colorscale": {
           "diverging": [
            [
             0,
             "#8e0152"
            ],
            [
             0.1,
             "#c51b7d"
            ],
            [
             0.2,
             "#de77ae"
            ],
            [
             0.3,
             "#f1b6da"
            ],
            [
             0.4,
             "#fde0ef"
            ],
            [
             0.5,
             "#f7f7f7"
            ],
            [
             0.6,
             "#e6f5d0"
            ],
            [
             0.7,
             "#b8e186"
            ],
            [
             0.8,
             "#7fbc41"
            ],
            [
             0.9,
             "#4d9221"
            ],
            [
             1,
             "#276419"
            ]
           ],
           "sequential": [
            [
             0,
             "#0d0887"
            ],
            [
             0.1111111111111111,
             "#46039f"
            ],
            [
             0.2222222222222222,
             "#7201a8"
            ],
            [
             0.3333333333333333,
             "#9c179e"
            ],
            [
             0.4444444444444444,
             "#bd3786"
            ],
            [
             0.5555555555555556,
             "#d8576b"
            ],
            [
             0.6666666666666666,
             "#ed7953"
            ],
            [
             0.7777777777777778,
             "#fb9f3a"
            ],
            [
             0.8888888888888888,
             "#fdca26"
            ],
            [
             1,
             "#f0f921"
            ]
           ],
           "sequentialminus": [
            [
             0,
             "#0d0887"
            ],
            [
             0.1111111111111111,
             "#46039f"
            ],
            [
             0.2222222222222222,
             "#7201a8"
            ],
            [
             0.3333333333333333,
             "#9c179e"
            ],
            [
             0.4444444444444444,
             "#bd3786"
            ],
            [
             0.5555555555555556,
             "#d8576b"
            ],
            [
             0.6666666666666666,
             "#ed7953"
            ],
            [
             0.7777777777777778,
             "#fb9f3a"
            ],
            [
             0.8888888888888888,
             "#fdca26"
            ],
            [
             1,
             "#f0f921"
            ]
           ]
          },
          "colorway": [
           "#636efa",
           "#EF553B",
           "#00cc96",
           "#ab63fa",
           "#FFA15A",
           "#19d3f3",
           "#FF6692",
           "#B6E880",
           "#FF97FF",
           "#FECB52"
          ],
          "font": {
           "color": "#2a3f5f"
          },
          "geo": {
           "bgcolor": "white",
           "lakecolor": "white",
           "landcolor": "#E5ECF6",
           "showlakes": true,
           "showland": true,
           "subunitcolor": "white"
          },
          "hoverlabel": {
           "align": "left"
          },
          "hovermode": "closest",
          "mapbox": {
           "style": "light"
          },
          "paper_bgcolor": "white",
          "plot_bgcolor": "#E5ECF6",
          "polar": {
           "angularaxis": {
            "gridcolor": "white",
            "linecolor": "white",
            "ticks": ""
           },
           "bgcolor": "#E5ECF6",
           "radialaxis": {
            "gridcolor": "white",
            "linecolor": "white",
            "ticks": ""
           }
          },
          "scene": {
           "xaxis": {
            "backgroundcolor": "#E5ECF6",
            "gridcolor": "white",
            "gridwidth": 2,
            "linecolor": "white",
            "showbackground": true,
            "ticks": "",
            "zerolinecolor": "white"
           },
           "yaxis": {
            "backgroundcolor": "#E5ECF6",
            "gridcolor": "white",
            "gridwidth": 2,
            "linecolor": "white",
            "showbackground": true,
            "ticks": "",
            "zerolinecolor": "white"
           },
           "zaxis": {
            "backgroundcolor": "#E5ECF6",
            "gridcolor": "white",
            "gridwidth": 2,
            "linecolor": "white",
            "showbackground": true,
            "ticks": "",
            "zerolinecolor": "white"
           }
          },
          "shapedefaults": {
           "line": {
            "color": "#2a3f5f"
           }
          },
          "ternary": {
           "aaxis": {
            "gridcolor": "white",
            "linecolor": "white",
            "ticks": ""
           },
           "baxis": {
            "gridcolor": "white",
            "linecolor": "white",
            "ticks": ""
           },
           "bgcolor": "#E5ECF6",
           "caxis": {
            "gridcolor": "white",
            "linecolor": "white",
            "ticks": ""
           }
          },
          "title": {
           "x": 0.05
          },
          "xaxis": {
           "automargin": true,
           "gridcolor": "white",
           "linecolor": "white",
           "ticks": "",
           "title": {
            "standoff": 15
           },
           "zerolinecolor": "white",
           "zerolinewidth": 2
          },
          "yaxis": {
           "automargin": true,
           "gridcolor": "white",
           "linecolor": "white",
           "ticks": "",
           "title": {
            "standoff": 15
           },
           "zerolinecolor": "white",
           "zerolinewidth": 2
          }
         }
        },
        "title": {
         "text": "perplexity 10"
        },
        "xaxis": {
         "anchor": "y",
         "domain": [
          0,
          1
         ],
         "title": {
          "text": "x"
         }
        },
        "yaxis": {
         "anchor": "x",
         "domain": [
          0,
          1
         ],
         "title": {
          "text": "y"
         }
        }
       }
      }
     },
     "metadata": {},
     "output_type": "display_data"
    }
   ],
   "source": [
    "for p in range(3, 11):    \n",
    "    X_embedded = TSNE(perplexity=p, metric='precomputed').fit_transform(X_dist)\n",
    "    fig = px.scatter(x=X_embedded[:,0], y=X_embedded[:,1], color=langs_train, title=f\"perplexity {p}\", color_discrete_sequence=px.colors.qualitative.Light24)\n",
    "    fig.show()"
   ]
  },
  {
   "cell_type": "code",
   "execution_count": null,
   "metadata": {},
   "outputs": [],
   "source": []
  }
 ],
 "metadata": {
  "kernelspec": {
   "display_name": "env",
   "language": "python",
   "name": "python3"
  },
  "language_info": {
   "codemirror_mode": {
    "name": "ipython",
    "version": 3
   },
   "file_extension": ".py",
   "mimetype": "text/x-python",
   "name": "python",
   "nbconvert_exporter": "python",
   "pygments_lexer": "ipython3",
   "version": "3.8.10"
  }
 },
 "nbformat": 4,
 "nbformat_minor": 2
}
