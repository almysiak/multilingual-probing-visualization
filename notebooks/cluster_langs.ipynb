{
 "cells": [
  {
   "cell_type": "code",
   "execution_count": 1,
   "metadata": {},
   "outputs": [],
   "source": [
    "import pandas as pd\n",
    "import yaml\n",
    "import os\n",
    "import plotly.express as px\n",
    "import plotly\n",
    "from plotly import graph_objects as go\n",
    "import plotly.io as pio\n",
    "\n",
    "pio.renderers.default = \"vscode\"\n",
    "from numpy import dot\n",
    "from numpy.linalg import norm\n",
    "\n",
    "from sklearn.manifold import TSNE\n",
    "from sklearn.cluster import DBSCAN\n",
    "\n",
    "import numpy as np"
   ]
  },
  {
   "cell_type": "code",
   "execution_count": 2,
   "metadata": {},
   "outputs": [],
   "source": [
    "full_name = {\n",
    "    \"pl\": \"Polish\",\n",
    "    \"ru\": \"Russian\",\n",
    "    \"uk\": \"Ukrainian\",\n",
    "    \"slv\": \"Slovene\",\n",
    "    \"cs\": \"Czech\",\n",
    "    \"be\": \"Belarusian\",\n",
    "    \"bg\": \"Bulgarian\",\n",
    "    \"de\": \"German\",\n",
    "    \"slk\": \"Slovak\",\n",
    "    \"fr\": \"French\",\n",
    "    \"ar\": \"Arabic\",\n",
    "    \"id\": \"Indonesian\",\n",
    "    \"en\": \"English\",\n",
    "    \"fi\": \"Finnish\",\n",
    "    \"zh\": \"Chinese\",\n",
    "    \"lv\": \"Latvian\",\n",
    "    \"es\": \"Spanish\",\n",
    "    \"lt\": \"Lithuanian\",\n",
    "    \"hr\": \"Croatian\",\n",
    "    \"tr\": \"Turkish\",\n",
    "    \"ko\": \"Korean\",\n",
    "    \"hy\": \"Armenian\",\n",
    "    \"fa\": \"Persian\",\n",
    "    \"ja\": \"Japanese\",\n",
    "    \"ga\": \"Irish\",\n",
    "    \"cy\": \"Welsh\",\n",
    "    \"nl\": \"Dutch\",\n",
    "}"
   ]
  },
  {
   "cell_type": "code",
   "execution_count": 3,
   "metadata": {},
   "outputs": [],
   "source": [
    "lang_families = {'indo-european': (\"pl\", \"be\", \"cs\", \"slk\", \"slv\", \"uk\", \"ru\", \"bg\", \"hr\", \"de\", \"fr\", \"en\", \"lv\", \"es\", \"lt\", \"hy\", \"fa\", 'ga', 'cy', 'nl'), \"afro-asiatic\": ('ar', ), 'austronesian': ('id', ), 'uralic': ('fi',), 'sino-tibetan': ('zh', ), 'turkic': ('tr', ), 'koreanic': ('ko', ), 'japonic': ('ja', )}\n",
    "lang_groups = {'slavic': (\"pl\", \"be\", \"cs\", \"slk\", \"slv\", \"uk\", \"ru\", \"bg\", \"hr\"), \"germanic\": ('de', \"en\", 'nl'), \"italic/romance\": ('fr', 'es'), 'semitic': ('ar', ), 'malay': ('id', ), 'finno-ugric': ('fi', ), 'sinitic': ('zh', ), 'baltic': ('lv', 'lt'), 'turkic': ('tr', ), 'koreanic': ('ko', ), 'armenian': ('hy', ), 'iranian': ('fa', ), 'japonic': ('ja', ), 'celtic': ('ga', 'cy')}"
   ]
  },
  {
   "cell_type": "code",
   "execution_count": 4,
   "metadata": {},
   "outputs": [],
   "source": [
    "lang_to_size = {\n",
    "    \"pl\": 1_301_917,\n",
    "    \"ru\": 1_500_041,\n",
    "    \"uk\": 825_591,\n",
    "    \"slv\": 162_385,\n",
    "    \"cs\": 413_512,\n",
    "    \"be\": 157_651,\n",
    "    \"bg\": 246_040,\n",
    "    \"de\": 2_224_357,\n",
    "    \"slk\": 227_255,\n",
    "    \"fr\":  2_044_308,\n",
    "    \"ar\": 618_436,\n",
    "    \"id\": 440_545,\n",
    "    \"en\": 5_725_914,\n",
    "    \"fi\": 445_104,\n",
    "    \"zh\": 1_024_062,\n",
    "    \"lv\": 87_981,\n",
    "    \"es\": 1_478_365,\n",
    "    \"lt\": 189_673,\n",
    "    \"hr\": 199_153,\n",
    "    \"tr\": 316_491,\n",
    "    \"ko\": 428_406,\n",
    "    \"hy\": 246_231,\n",
    "    \"fa\": 643_006,\n",
    "    \"ja\": 1_122_821,\n",
    "    \"ga\": 48_183,\n",
    "    \"cy\": 101_401,\n",
    "    \"nl\": 1_943_296,\n",
    "}"
   ]
  },
  {
   "cell_type": "code",
   "execution_count": 5,
   "metadata": {},
   "outputs": [],
   "source": [
    "max_dict = {\n",
    "    'ar': 6074,\n",
    "    'pl': 17721,\n",
    "    'bg': 8906,\n",
    "    'be': 22852,\n",
    "    'fr': 14448,\n",
    "    'en': 12542,\n",
    "    'lv': 12520,\n",
    "    'fa': 4797,\n",
    "    'lt': 2340,\n",
    "    'cs': 68494,\n",
    "    'es': 14286, \n",
    "    'zh': 3996,\n",
    "    'slk': 8482,\n",
    "    'slv': 10902,\n",
    "    'uk': 5495,\n",
    "    'ru': 69629,\n",
    "    'de': 13813,\n",
    "    'fi': 12216,\n",
    "    'id': 4481,\n",
    "    'hr': 6913,\n",
    "    'tr': 14850,\n",
    "    'ko': 23010,\n",
    "    'hy': 1974,\n",
    "    'fa': 26196,\n",
    "    'ja': 7050,\n",
    "    'ga': 4005,\n",
    "    'cy': 1111,\n",
    "    'nl': 12289,\n",
    "}"
   ]
  },
  {
   "cell_type": "code",
   "execution_count": 6,
   "metadata": {},
   "outputs": [],
   "source": [
    "lang_types = {'slavic': (\"pl\", \"be\", \"cs\", \"slk\", \"slv\", \"uk\", \"ru\", \"bg\", \"hr\"), 'svo': (\"fr\", \"en\", \"lv\", \"lt\", \"es\", \"zh\", \"fi\", \"id\", \"de\", \"nl\"), 'sov': ('tr', 'ko', 'hy', 'fa', 'ja'), 'vso': ('ar', 'ga', 'cy')}"
   ]
  },
  {
   "cell_type": "code",
   "execution_count": 7,
   "metadata": {},
   "outputs": [],
   "source": [
    "lang_types_dict = {}\n",
    "for lang_type, lang_list in lang_types.items():\n",
    "    type_dict = {lan: lang_type for lan in lang_list}\n",
    "    lang_types_dict.update(type_dict)"
   ]
  },
  {
   "cell_type": "code",
   "execution_count": 8,
   "metadata": {},
   "outputs": [],
   "source": [
    "families_dict = {}\n",
    "for lang_type, lang_list in lang_families.items():\n",
    "    type_dict = {lan: lang_type for lan in lang_list}\n",
    "    families_dict.update(type_dict)"
   ]
  },
  {
   "cell_type": "code",
   "execution_count": 9,
   "metadata": {},
   "outputs": [],
   "source": [
    "group_dict = {}\n",
    "for lang_type, lang_list in lang_groups.items():\n",
    "    type_dict = {lan: lang_type for lan in lang_list}\n",
    "    group_dict.update(type_dict)"
   ]
  },
  {
   "cell_type": "code",
   "execution_count": 10,
   "metadata": {},
   "outputs": [],
   "source": [
    "RESULTS_CSV = 'multilingual-probing-visualization/probingOutputs/all_slavic/all_results.csv'"
   ]
  },
  {
   "cell_type": "code",
   "execution_count": 11,
   "metadata": {},
   "outputs": [],
   "source": [
    "df = pd.read_csv(RESULTS_CSV)\n",
    "df['train'] = df.train.str[2:-2]\n",
    "df['test'] = df.test.str[2:-2]"
   ]
  },
  {
   "cell_type": "code",
   "execution_count": 12,
   "metadata": {},
   "outputs": [],
   "source": [
    "df[\"wiki_size_train\"] = df.train.map(lang_to_size)\n",
    "df[\"wiki_size_test\"] = df.test.map(lang_to_size)"
   ]
  },
  {
   "cell_type": "code",
   "execution_count": 13,
   "metadata": {},
   "outputs": [],
   "source": [
    "df = df[df.seed == 0]\n",
    "# df = df[df.wiki_size_train >= 200e3]\n",
    "# df = df[df.wiki_size_test >= 200e3]"
   ]
  },
  {
   "cell_type": "code",
   "execution_count": 14,
   "metadata": {},
   "outputs": [],
   "source": [
    "limit = 10_000\n",
    "df = df[df.limit == limit]\n",
    "df = df[df.model == 'mBERT']"
   ]
  },
  {
   "cell_type": "code",
   "execution_count": 15,
   "metadata": {},
   "outputs": [
    {
     "data": {
      "text/html": [
       "<div>\n",
       "<style scoped>\n",
       "    .dataframe tbody tr th:only-of-type {\n",
       "        vertical-align: middle;\n",
       "    }\n",
       "\n",
       "    .dataframe tbody tr th {\n",
       "        vertical-align: top;\n",
       "    }\n",
       "\n",
       "    .dataframe thead th {\n",
       "        text-align: right;\n",
       "    }\n",
       "</style>\n",
       "<table border=\"1\" class=\"dataframe\">\n",
       "  <thead>\n",
       "    <tr style=\"text-align: right;\">\n",
       "      <th></th>\n",
       "      <th>train</th>\n",
       "      <th>test</th>\n",
       "      <th>model</th>\n",
       "      <th>layer</th>\n",
       "      <th>rank</th>\n",
       "      <th>limit</th>\n",
       "      <th>seed</th>\n",
       "      <th>directory</th>\n",
       "      <th>dspear</th>\n",
       "      <th>uuas</th>\n",
       "      <th>wiki_size_train</th>\n",
       "      <th>wiki_size_test</th>\n",
       "    </tr>\n",
       "  </thead>\n",
       "  <tbody>\n",
       "    <tr>\n",
       "      <th>2</th>\n",
       "      <td>be</td>\n",
       "      <td>be</td>\n",
       "      <td>mBERT</td>\n",
       "      <td>6</td>\n",
       "      <td>128</td>\n",
       "      <td>10000.0</td>\n",
       "      <td>0</td>\n",
       "      <td>/home/amysiak/thesis/multilingual-probing-visu...</td>\n",
       "      <td>0.779117</td>\n",
       "      <td>0.787562</td>\n",
       "      <td>157651</td>\n",
       "      <td>157651</td>\n",
       "    </tr>\n",
       "    <tr>\n",
       "      <th>9</th>\n",
       "      <td>cs</td>\n",
       "      <td>be</td>\n",
       "      <td>mBERT</td>\n",
       "      <td>6</td>\n",
       "      <td>128</td>\n",
       "      <td>10000.0</td>\n",
       "      <td>0</td>\n",
       "      <td>/home/amysiak/thesis/multilingual-probing-visu...</td>\n",
       "      <td>0.760374</td>\n",
       "      <td>0.748032</td>\n",
       "      <td>413512</td>\n",
       "      <td>157651</td>\n",
       "    </tr>\n",
       "    <tr>\n",
       "      <th>22</th>\n",
       "      <td>en</td>\n",
       "      <td>be</td>\n",
       "      <td>mBERT</td>\n",
       "      <td>6</td>\n",
       "      <td>128</td>\n",
       "      <td>10000.0</td>\n",
       "      <td>0</td>\n",
       "      <td>/home/amysiak/thesis/multilingual-probing-visu...</td>\n",
       "      <td>0.738201</td>\n",
       "      <td>0.704005</td>\n",
       "      <td>5725914</td>\n",
       "      <td>157651</td>\n",
       "    </tr>\n",
       "    <tr>\n",
       "      <th>29</th>\n",
       "      <td>es</td>\n",
       "      <td>be</td>\n",
       "      <td>mBERT</td>\n",
       "      <td>6</td>\n",
       "      <td>128</td>\n",
       "      <td>10000.0</td>\n",
       "      <td>0</td>\n",
       "      <td>/home/amysiak/thesis/multilingual-probing-visu...</td>\n",
       "      <td>0.751952</td>\n",
       "      <td>0.699420</td>\n",
       "      <td>1478365</td>\n",
       "      <td>157651</td>\n",
       "    </tr>\n",
       "    <tr>\n",
       "      <th>36</th>\n",
       "      <td>fi</td>\n",
       "      <td>be</td>\n",
       "      <td>mBERT</td>\n",
       "      <td>6</td>\n",
       "      <td>128</td>\n",
       "      <td>10000.0</td>\n",
       "      <td>0</td>\n",
       "      <td>/home/amysiak/thesis/multilingual-probing-visu...</td>\n",
       "      <td>0.739131</td>\n",
       "      <td>0.678402</td>\n",
       "      <td>445104</td>\n",
       "      <td>157651</td>\n",
       "    </tr>\n",
       "  </tbody>\n",
       "</table>\n",
       "</div>"
      ],
      "text/plain": [
       "   train test  model  layer  rank    limit  seed  \\\n",
       "2     be   be  mBERT      6   128  10000.0     0   \n",
       "9     cs   be  mBERT      6   128  10000.0     0   \n",
       "22    en   be  mBERT      6   128  10000.0     0   \n",
       "29    es   be  mBERT      6   128  10000.0     0   \n",
       "36    fi   be  mBERT      6   128  10000.0     0   \n",
       "\n",
       "                                            directory    dspear      uuas  \\\n",
       "2   /home/amysiak/thesis/multilingual-probing-visu...  0.779117  0.787562   \n",
       "9   /home/amysiak/thesis/multilingual-probing-visu...  0.760374  0.748032   \n",
       "22  /home/amysiak/thesis/multilingual-probing-visu...  0.738201  0.704005   \n",
       "29  /home/amysiak/thesis/multilingual-probing-visu...  0.751952  0.699420   \n",
       "36  /home/amysiak/thesis/multilingual-probing-visu...  0.739131  0.678402   \n",
       "\n",
       "    wiki_size_train  wiki_size_test  \n",
       "2            157651          157651  \n",
       "9            413512          157651  \n",
       "22          5725914          157651  \n",
       "29          1478365          157651  \n",
       "36           445104          157651  "
      ]
     },
     "execution_count": 15,
     "metadata": {},
     "output_type": "execute_result"
    }
   ],
   "source": [
    "df.head()"
   ]
  },
  {
   "cell_type": "markdown",
   "metadata": {},
   "source": [
    "## t-SNE using vectors"
   ]
  },
  {
   "cell_type": "code",
   "execution_count": 16,
   "metadata": {},
   "outputs": [],
   "source": [
    "lang_to_vec = {}\n",
    "for lang, data in df.groupby('test'):\n",
    "    data = data.sort_values(by=\"train\")\n",
    "    lang_to_vec[lang] = data.uuas.values"
   ]
  },
  {
   "cell_type": "code",
   "execution_count": 17,
   "metadata": {},
   "outputs": [
    {
     "data": {
      "text/plain": [
       "array([0.76717298, 0.78168216, 0.76275221, 0.7389103 , 0.73758785,\n",
       "       0.69209552, 0.68786367, 0.75247487, 0.61588453, 0.7273483 ,\n",
       "       0.74722285, 0.83102849, 0.78980579, 0.78629185, 0.62737097])"
      ]
     },
     "execution_count": 17,
     "metadata": {},
     "output_type": "execute_result"
    }
   ],
   "source": [
    "lang_to_vec['pl']"
   ]
  },
  {
   "cell_type": "code",
   "execution_count": 18,
   "metadata": {},
   "outputs": [
    {
     "data": {
      "text/plain": [
       "27"
      ]
     },
     "execution_count": 18,
     "metadata": {},
     "output_type": "execute_result"
    }
   ],
   "source": [
    "len(lang_to_vec) # num samples"
   ]
  },
  {
   "cell_type": "code",
   "execution_count": 19,
   "metadata": {},
   "outputs": [
    {
     "data": {
      "text/plain": [
       "15"
      ]
     },
     "execution_count": 19,
     "metadata": {},
     "output_type": "execute_result"
    }
   ],
   "source": [
    "len(lang_to_vec['pl']) # num features"
   ]
  },
  {
   "cell_type": "code",
   "execution_count": 20,
   "metadata": {},
   "outputs": [],
   "source": [
    "vecs = []\n",
    "langs = []\n",
    "for k, v in lang_to_vec.items():\n",
    "    vecs.append(v)\n",
    "    langs.append(k)"
   ]
  },
  {
   "cell_type": "code",
   "execution_count": 21,
   "metadata": {},
   "outputs": [
    {
     "data": {
      "text/plain": [
       "(27, 15)"
      ]
     },
     "execution_count": 21,
     "metadata": {},
     "output_type": "execute_result"
    }
   ],
   "source": [
    "X = np.stack(vecs) # dim\n",
    "X.shape"
   ]
  },
  {
   "cell_type": "code",
   "execution_count": 46,
   "metadata": {},
   "outputs": [
    {
     "name": "stderr",
     "output_type": "stream",
     "text": [
      "/home/amysiak/thesis/env/lib/python3.8/site-packages/sklearn/manifold/_t_sne.py:800: FutureWarning:\n",
      "\n",
      "The default initialization in TSNE will change from 'random' to 'pca' in 1.2.\n",
      "\n",
      "/home/amysiak/thesis/env/lib/python3.8/site-packages/sklearn/manifold/_t_sne.py:810: FutureWarning:\n",
      "\n",
      "The default learning rate in TSNE will change from 200.0 to 'auto' in 1.2.\n",
      "\n"
     ]
    },
    {
     "data": {
      "application/vnd.plotly.v1+json": {
       "config": {
        "plotlyServerURL": "https://plot.ly"
       },
       "data": [
        {
         "customdata": [
          [
           "ar"
          ]
         ],
         "hovertemplate": "color=vso<br>symbol=afro-asiatic<br>x=%{x}<br>y=%{y}<br>hover_data_0=%{customdata[0]}<extra></extra>",
         "legendgroup": "vso, afro-asiatic",
         "marker": {
          "color": "#FD3216",
          "symbol": "circle-open"
         },
         "mode": "markers",
         "name": "vso, afro-asiatic",
         "orientation": "v",
         "showlegend": true,
         "type": "scatter",
         "x": [
          -0.3484364151954651
         ],
         "xaxis": "x",
         "y": [
          -107.45062255859375
         ],
         "yaxis": "y"
        },
        {
         "customdata": [
          [
           "cy"
          ],
          [
           "ga"
          ]
         ],
         "hovertemplate": "color=vso<br>symbol=indo-european<br>x=%{x}<br>y=%{y}<br>hover_data_0=%{customdata[0]}<extra></extra>",
         "legendgroup": "vso, indo-european",
         "marker": {
          "color": "#FD3216",
          "symbol": "circle"
         },
         "mode": "markers",
         "name": "vso, indo-european",
         "orientation": "v",
         "showlegend": true,
         "type": "scatter",
         "x": [
          -95.63090515136719,
          -38.60366439819336
         ],
         "xaxis": "x",
         "y": [
          -83.68599700927734,
          -60.4475212097168
         ],
         "yaxis": "y"
        },
        {
         "customdata": [
          [
           "be"
          ],
          [
           "bg"
          ],
          [
           "cs"
          ],
          [
           "hr"
          ],
          [
           "pl"
          ],
          [
           "ru"
          ],
          [
           "slk"
          ],
          [
           "slv"
          ],
          [
           "uk"
          ]
         ],
         "hovertemplate": "color=slavic<br>symbol=indo-european<br>x=%{x}<br>y=%{y}<br>hover_data_0=%{customdata[0]}<extra></extra>",
         "legendgroup": "slavic, indo-european",
         "marker": {
          "color": "#00FE35",
          "symbol": "circle"
         },
         "mode": "markers",
         "name": "slavic, indo-european",
         "orientation": "v",
         "showlegend": true,
         "type": "scatter",
         "x": [
          -155.7644805908203,
          -78.36369323730469,
          -29.67738151550293,
          -101.19153594970703,
          -126.05223083496094,
          -73.19241333007812,
          -2.5138964653015137,
          -164.49002075195312,
          -51.4205322265625
         ],
         "xaxis": "x",
         "y": [
          75.0772933959961,
          47.66614532470703,
          103.83212280273438,
          112.82414245605469,
          210.3987579345703,
          165.06060791015625,
          169.5422821044922,
          152.28924560546875,
          228.35606384277344
         ],
         "yaxis": "y"
        },
        {
         "customdata": [
          [
           "de"
          ],
          [
           "en"
          ],
          [
           "es"
          ],
          [
           "fr"
          ],
          [
           "lt"
          ],
          [
           "lv"
          ],
          [
           "nl"
          ]
         ],
         "hovertemplate": "color=svo<br>symbol=indo-european<br>x=%{x}<br>y=%{y}<br>hover_data_0=%{customdata[0]}<extra></extra>",
         "legendgroup": "svo, indo-european",
         "marker": {
          "color": "#6A76FC",
          "symbol": "circle"
         },
         "mode": "markers",
         "name": "svo, indo-european",
         "orientation": "v",
         "showlegend": true,
         "type": "scatter",
         "x": [
          -81.95002746582031,
          -222.6372833251953,
          -178.17471313476562,
          -229.08416748046875,
          91.42750549316406,
          109.1313247680664,
          -138.89625549316406
         ],
         "xaxis": "x",
         "y": [
          -243.37319946289062,
          -228.82577514648438,
          -158.68618774414062,
          -124.25556182861328,
          98.916748046875,
          162.37252807617188,
          -243.70716857910156
         ],
         "yaxis": "y"
        },
        {
         "customdata": [
          [
           "fi"
          ]
         ],
         "hovertemplate": "color=svo<br>symbol=uralic<br>x=%{x}<br>y=%{y}<br>hover_data_0=%{customdata[0]}<extra></extra>",
         "legendgroup": "svo, uralic",
         "marker": {
          "color": "#6A76FC",
          "symbol": "circle-open-dot"
         },
         "mode": "markers",
         "name": "svo, uralic",
         "orientation": "v",
         "showlegend": true,
         "type": "scatter",
         "x": [
          172.59776306152344
         ],
         "xaxis": "x",
         "y": [
          126.21539306640625
         ],
         "yaxis": "y"
        },
        {
         "customdata": [
          [
           "id"
          ]
         ],
         "hovertemplate": "color=svo<br>symbol=austronesian<br>x=%{x}<br>y=%{y}<br>hover_data_0=%{customdata[0]}<extra></extra>",
         "legendgroup": "svo, austronesian",
         "marker": {
          "color": "#6A76FC",
          "symbol": "square"
         },
         "mode": "markers",
         "name": "svo, austronesian",
         "orientation": "v",
         "showlegend": true,
         "type": "scatter",
         "x": [
          -61.7193489074707
         ],
         "xaxis": "x",
         "y": [
          -137.68446350097656
         ],
         "yaxis": "y"
        },
        {
         "customdata": [
          [
           "zh"
          ]
         ],
         "hovertemplate": "color=svo<br>symbol=sino-tibetan<br>x=%{x}<br>y=%{y}<br>hover_data_0=%{customdata[0]}<extra></extra>",
         "legendgroup": "svo, sino-tibetan",
         "marker": {
          "color": "#6A76FC",
          "symbol": "star"
         },
         "mode": "markers",
         "name": "svo, sino-tibetan",
         "orientation": "v",
         "showlegend": true,
         "type": "scatter",
         "x": [
          206.1691436767578
         ],
         "xaxis": "x",
         "y": [
          24.937549591064453
         ],
         "yaxis": "y"
        },
        {
         "customdata": [
          [
           "fa"
          ],
          [
           "hy"
          ]
         ],
         "hovertemplate": "color=sov<br>symbol=indo-european<br>x=%{x}<br>y=%{y}<br>hover_data_0=%{customdata[0]}<extra></extra>",
         "legendgroup": "sov, indo-european",
         "marker": {
          "color": "#FED4C4",
          "symbol": "circle"
         },
         "mode": "markers",
         "name": "sov, indo-european",
         "orientation": "v",
         "showlegend": true,
         "type": "scatter",
         "x": [
          65.75462341308594,
          148.20323181152344
         ],
         "xaxis": "x",
         "y": [
          -168.28822326660156,
          60.64857482910156
         ],
         "yaxis": "y"
        },
        {
         "customdata": [
          [
           "ja"
          ]
         ],
         "hovertemplate": "color=sov<br>symbol=japonic<br>x=%{x}<br>y=%{y}<br>hover_data_0=%{customdata[0]}<extra></extra>",
         "legendgroup": "sov, japonic",
         "marker": {
          "color": "#FED4C4",
          "symbol": "diamond"
         },
         "mode": "markers",
         "name": "sov, japonic",
         "orientation": "v",
         "showlegend": true,
         "type": "scatter",
         "x": [
          253.38926696777344
         ],
         "xaxis": "x",
         "y": [
          -30.689144134521484
         ],
         "yaxis": "y"
        },
        {
         "customdata": [
          [
           "ko"
          ]
         ],
         "hovertemplate": "color=sov<br>symbol=koreanic<br>x=%{x}<br>y=%{y}<br>hover_data_0=%{customdata[0]}<extra></extra>",
         "legendgroup": "sov, koreanic",
         "marker": {
          "color": "#FED4C4",
          "symbol": "x"
         },
         "mode": "markers",
         "name": "sov, koreanic",
         "orientation": "v",
         "showlegend": true,
         "type": "scatter",
         "x": [
          178.50540161132812
         ],
         "xaxis": "x",
         "y": [
          -44.328487396240234
         ],
         "yaxis": "y"
        },
        {
         "customdata": [
          [
           "tr"
          ]
         ],
         "hovertemplate": "color=sov<br>symbol=turkic<br>x=%{x}<br>y=%{y}<br>hover_data_0=%{customdata[0]}<extra></extra>",
         "legendgroup": "sov, turkic",
         "marker": {
          "color": "#FED4C4",
          "symbol": "triangle-up"
         },
         "mode": "markers",
         "name": "sov, turkic",
         "orientation": "v",
         "showlegend": true,
         "type": "scatter",
         "x": [
          226.33506774902344
         ],
         "xaxis": "x",
         "y": [
          -97.1138916015625
         ],
         "yaxis": "y"
        }
       ],
       "layout": {
        "legend": {
         "title": {
          "text": "color, symbol"
         },
         "tracegroupgap": 0
        },
        "template": {
         "data": {
          "bar": [
           {
            "error_x": {
             "color": "#2a3f5f"
            },
            "error_y": {
             "color": "#2a3f5f"
            },
            "marker": {
             "line": {
              "color": "#E5ECF6",
              "width": 0.5
             },
             "pattern": {
              "fillmode": "overlay",
              "size": 10,
              "solidity": 0.2
             }
            },
            "type": "bar"
           }
          ],
          "barpolar": [
           {
            "marker": {
             "line": {
              "color": "#E5ECF6",
              "width": 0.5
             },
             "pattern": {
              "fillmode": "overlay",
              "size": 10,
              "solidity": 0.2
             }
            },
            "type": "barpolar"
           }
          ],
          "carpet": [
           {
            "aaxis": {
             "endlinecolor": "#2a3f5f",
             "gridcolor": "white",
             "linecolor": "white",
             "minorgridcolor": "white",
             "startlinecolor": "#2a3f5f"
            },
            "baxis": {
             "endlinecolor": "#2a3f5f",
             "gridcolor": "white",
             "linecolor": "white",
             "minorgridcolor": "white",
             "startlinecolor": "#2a3f5f"
            },
            "type": "carpet"
           }
          ],
          "choropleth": [
           {
            "colorbar": {
             "outlinewidth": 0,
             "ticks": ""
            },
            "type": "choropleth"
           }
          ],
          "contour": [
           {
            "colorbar": {
             "outlinewidth": 0,
             "ticks": ""
            },
            "colorscale": [
             [
              0,
              "#0d0887"
             ],
             [
              0.1111111111111111,
              "#46039f"
             ],
             [
              0.2222222222222222,
              "#7201a8"
             ],
             [
              0.3333333333333333,
              "#9c179e"
             ],
             [
              0.4444444444444444,
              "#bd3786"
             ],
             [
              0.5555555555555556,
              "#d8576b"
             ],
             [
              0.6666666666666666,
              "#ed7953"
             ],
             [
              0.7777777777777778,
              "#fb9f3a"
             ],
             [
              0.8888888888888888,
              "#fdca26"
             ],
             [
              1,
              "#f0f921"
             ]
            ],
            "type": "contour"
           }
          ],
          "contourcarpet": [
           {
            "colorbar": {
             "outlinewidth": 0,
             "ticks": ""
            },
            "type": "contourcarpet"
           }
          ],
          "heatmap": [
           {
            "colorbar": {
             "outlinewidth": 0,
             "ticks": ""
            },
            "colorscale": [
             [
              0,
              "#0d0887"
             ],
             [
              0.1111111111111111,
              "#46039f"
             ],
             [
              0.2222222222222222,
              "#7201a8"
             ],
             [
              0.3333333333333333,
              "#9c179e"
             ],
             [
              0.4444444444444444,
              "#bd3786"
             ],
             [
              0.5555555555555556,
              "#d8576b"
             ],
             [
              0.6666666666666666,
              "#ed7953"
             ],
             [
              0.7777777777777778,
              "#fb9f3a"
             ],
             [
              0.8888888888888888,
              "#fdca26"
             ],
             [
              1,
              "#f0f921"
             ]
            ],
            "type": "heatmap"
           }
          ],
          "heatmapgl": [
           {
            "colorbar": {
             "outlinewidth": 0,
             "ticks": ""
            },
            "colorscale": [
             [
              0,
              "#0d0887"
             ],
             [
              0.1111111111111111,
              "#46039f"
             ],
             [
              0.2222222222222222,
              "#7201a8"
             ],
             [
              0.3333333333333333,
              "#9c179e"
             ],
             [
              0.4444444444444444,
              "#bd3786"
             ],
             [
              0.5555555555555556,
              "#d8576b"
             ],
             [
              0.6666666666666666,
              "#ed7953"
             ],
             [
              0.7777777777777778,
              "#fb9f3a"
             ],
             [
              0.8888888888888888,
              "#fdca26"
             ],
             [
              1,
              "#f0f921"
             ]
            ],
            "type": "heatmapgl"
           }
          ],
          "histogram": [
           {
            "marker": {
             "pattern": {
              "fillmode": "overlay",
              "size": 10,
              "solidity": 0.2
             }
            },
            "type": "histogram"
           }
          ],
          "histogram2d": [
           {
            "colorbar": {
             "outlinewidth": 0,
             "ticks": ""
            },
            "colorscale": [
             [
              0,
              "#0d0887"
             ],
             [
              0.1111111111111111,
              "#46039f"
             ],
             [
              0.2222222222222222,
              "#7201a8"
             ],
             [
              0.3333333333333333,
              "#9c179e"
             ],
             [
              0.4444444444444444,
              "#bd3786"
             ],
             [
              0.5555555555555556,
              "#d8576b"
             ],
             [
              0.6666666666666666,
              "#ed7953"
             ],
             [
              0.7777777777777778,
              "#fb9f3a"
             ],
             [
              0.8888888888888888,
              "#fdca26"
             ],
             [
              1,
              "#f0f921"
             ]
            ],
            "type": "histogram2d"
           }
          ],
          "histogram2dcontour": [
           {
            "colorbar": {
             "outlinewidth": 0,
             "ticks": ""
            },
            "colorscale": [
             [
              0,
              "#0d0887"
             ],
             [
              0.1111111111111111,
              "#46039f"
             ],
             [
              0.2222222222222222,
              "#7201a8"
             ],
             [
              0.3333333333333333,
              "#9c179e"
             ],
             [
              0.4444444444444444,
              "#bd3786"
             ],
             [
              0.5555555555555556,
              "#d8576b"
             ],
             [
              0.6666666666666666,
              "#ed7953"
             ],
             [
              0.7777777777777778,
              "#fb9f3a"
             ],
             [
              0.8888888888888888,
              "#fdca26"
             ],
             [
              1,
              "#f0f921"
             ]
            ],
            "type": "histogram2dcontour"
           }
          ],
          "mesh3d": [
           {
            "colorbar": {
             "outlinewidth": 0,
             "ticks": ""
            },
            "type": "mesh3d"
           }
          ],
          "parcoords": [
           {
            "line": {
             "colorbar": {
              "outlinewidth": 0,
              "ticks": ""
             }
            },
            "type": "parcoords"
           }
          ],
          "pie": [
           {
            "automargin": true,
            "type": "pie"
           }
          ],
          "scatter": [
           {
            "fillpattern": {
             "fillmode": "overlay",
             "size": 10,
             "solidity": 0.2
            },
            "type": "scatter"
           }
          ],
          "scatter3d": [
           {
            "line": {
             "colorbar": {
              "outlinewidth": 0,
              "ticks": ""
             }
            },
            "marker": {
             "colorbar": {
              "outlinewidth": 0,
              "ticks": ""
             }
            },
            "type": "scatter3d"
           }
          ],
          "scattercarpet": [
           {
            "marker": {
             "colorbar": {
              "outlinewidth": 0,
              "ticks": ""
             }
            },
            "type": "scattercarpet"
           }
          ],
          "scattergeo": [
           {
            "marker": {
             "colorbar": {
              "outlinewidth": 0,
              "ticks": ""
             }
            },
            "type": "scattergeo"
           }
          ],
          "scattergl": [
           {
            "marker": {
             "colorbar": {
              "outlinewidth": 0,
              "ticks": ""
             }
            },
            "type": "scattergl"
           }
          ],
          "scattermapbox": [
           {
            "marker": {
             "colorbar": {
              "outlinewidth": 0,
              "ticks": ""
             }
            },
            "type": "scattermapbox"
           }
          ],
          "scatterpolar": [
           {
            "marker": {
             "colorbar": {
              "outlinewidth": 0,
              "ticks": ""
             }
            },
            "type": "scatterpolar"
           }
          ],
          "scatterpolargl": [
           {
            "marker": {
             "colorbar": {
              "outlinewidth": 0,
              "ticks": ""
             }
            },
            "type": "scatterpolargl"
           }
          ],
          "scatterternary": [
           {
            "marker": {
             "colorbar": {
              "outlinewidth": 0,
              "ticks": ""
             }
            },
            "type": "scatterternary"
           }
          ],
          "surface": [
           {
            "colorbar": {
             "outlinewidth": 0,
             "ticks": ""
            },
            "colorscale": [
             [
              0,
              "#0d0887"
             ],
             [
              0.1111111111111111,
              "#46039f"
             ],
             [
              0.2222222222222222,
              "#7201a8"
             ],
             [
              0.3333333333333333,
              "#9c179e"
             ],
             [
              0.4444444444444444,
              "#bd3786"
             ],
             [
              0.5555555555555556,
              "#d8576b"
             ],
             [
              0.6666666666666666,
              "#ed7953"
             ],
             [
              0.7777777777777778,
              "#fb9f3a"
             ],
             [
              0.8888888888888888,
              "#fdca26"
             ],
             [
              1,
              "#f0f921"
             ]
            ],
            "type": "surface"
           }
          ],
          "table": [
           {
            "cells": {
             "fill": {
              "color": "#EBF0F8"
             },
             "line": {
              "color": "white"
             }
            },
            "header": {
             "fill": {
              "color": "#C8D4E3"
             },
             "line": {
              "color": "white"
             }
            },
            "type": "table"
           }
          ]
         },
         "layout": {
          "annotationdefaults": {
           "arrowcolor": "#2a3f5f",
           "arrowhead": 0,
           "arrowwidth": 1
          },
          "autotypenumbers": "strict",
          "coloraxis": {
           "colorbar": {
            "outlinewidth": 0,
            "ticks": ""
           }
          },
          "colorscale": {
           "diverging": [
            [
             0,
             "#8e0152"
            ],
            [
             0.1,
             "#c51b7d"
            ],
            [
             0.2,
             "#de77ae"
            ],
            [
             0.3,
             "#f1b6da"
            ],
            [
             0.4,
             "#fde0ef"
            ],
            [
             0.5,
             "#f7f7f7"
            ],
            [
             0.6,
             "#e6f5d0"
            ],
            [
             0.7,
             "#b8e186"
            ],
            [
             0.8,
             "#7fbc41"
            ],
            [
             0.9,
             "#4d9221"
            ],
            [
             1,
             "#276419"
            ]
           ],
           "sequential": [
            [
             0,
             "#0d0887"
            ],
            [
             0.1111111111111111,
             "#46039f"
            ],
            [
             0.2222222222222222,
             "#7201a8"
            ],
            [
             0.3333333333333333,
             "#9c179e"
            ],
            [
             0.4444444444444444,
             "#bd3786"
            ],
            [
             0.5555555555555556,
             "#d8576b"
            ],
            [
             0.6666666666666666,
             "#ed7953"
            ],
            [
             0.7777777777777778,
             "#fb9f3a"
            ],
            [
             0.8888888888888888,
             "#fdca26"
            ],
            [
             1,
             "#f0f921"
            ]
           ],
           "sequentialminus": [
            [
             0,
             "#0d0887"
            ],
            [
             0.1111111111111111,
             "#46039f"
            ],
            [
             0.2222222222222222,
             "#7201a8"
            ],
            [
             0.3333333333333333,
             "#9c179e"
            ],
            [
             0.4444444444444444,
             "#bd3786"
            ],
            [
             0.5555555555555556,
             "#d8576b"
            ],
            [
             0.6666666666666666,
             "#ed7953"
            ],
            [
             0.7777777777777778,
             "#fb9f3a"
            ],
            [
             0.8888888888888888,
             "#fdca26"
            ],
            [
             1,
             "#f0f921"
            ]
           ]
          },
          "colorway": [
           "#636efa",
           "#EF553B",
           "#00cc96",
           "#ab63fa",
           "#FFA15A",
           "#19d3f3",
           "#FF6692",
           "#B6E880",
           "#FF97FF",
           "#FECB52"
          ],
          "font": {
           "color": "#2a3f5f"
          },
          "geo": {
           "bgcolor": "white",
           "lakecolor": "white",
           "landcolor": "#E5ECF6",
           "showlakes": true,
           "showland": true,
           "subunitcolor": "white"
          },
          "hoverlabel": {
           "align": "left"
          },
          "hovermode": "closest",
          "mapbox": {
           "style": "light"
          },
          "paper_bgcolor": "white",
          "plot_bgcolor": "#E5ECF6",
          "polar": {
           "angularaxis": {
            "gridcolor": "white",
            "linecolor": "white",
            "ticks": ""
           },
           "bgcolor": "#E5ECF6",
           "radialaxis": {
            "gridcolor": "white",
            "linecolor": "white",
            "ticks": ""
           }
          },
          "scene": {
           "xaxis": {
            "backgroundcolor": "#E5ECF6",
            "gridcolor": "white",
            "gridwidth": 2,
            "linecolor": "white",
            "showbackground": true,
            "ticks": "",
            "zerolinecolor": "white"
           },
           "yaxis": {
            "backgroundcolor": "#E5ECF6",
            "gridcolor": "white",
            "gridwidth": 2,
            "linecolor": "white",
            "showbackground": true,
            "ticks": "",
            "zerolinecolor": "white"
           },
           "zaxis": {
            "backgroundcolor": "#E5ECF6",
            "gridcolor": "white",
            "gridwidth": 2,
            "linecolor": "white",
            "showbackground": true,
            "ticks": "",
            "zerolinecolor": "white"
           }
          },
          "shapedefaults": {
           "line": {
            "color": "#2a3f5f"
           }
          },
          "ternary": {
           "aaxis": {
            "gridcolor": "white",
            "linecolor": "white",
            "ticks": ""
           },
           "baxis": {
            "gridcolor": "white",
            "linecolor": "white",
            "ticks": ""
           },
           "bgcolor": "#E5ECF6",
           "caxis": {
            "gridcolor": "white",
            "linecolor": "white",
            "ticks": ""
           }
          },
          "title": {
           "x": 0.05
          },
          "xaxis": {
           "automargin": true,
           "gridcolor": "white",
           "linecolor": "white",
           "ticks": "",
           "title": {
            "standoff": 15
           },
           "zerolinecolor": "white",
           "zerolinewidth": 2
          },
          "yaxis": {
           "automargin": true,
           "gridcolor": "white",
           "linecolor": "white",
           "ticks": "",
           "title": {
            "standoff": 15
           },
           "zerolinecolor": "white",
           "zerolinewidth": 2
          }
         }
        },
        "title": {
         "text": "perplexity 11"
        },
        "xaxis": {
         "anchor": "y",
         "domain": [
          0,
          1
         ],
         "title": {
          "text": "x"
         }
        },
        "yaxis": {
         "anchor": "x",
         "domain": [
          0,
          1
         ],
         "title": {
          "text": "y"
         }
        }
       }
      }
     },
     "metadata": {},
     "output_type": "display_data"
    }
   ],
   "source": [
    "for p in range(11, 12):    \n",
    "    X_embedded = TSNE(perplexity=p, metric='cosine', random_state=42).fit_transform(X)\n",
    "    fig = px.scatter(x=X_embedded[:,0], y=X_embedded[:,1], color=[lang_types_dict[l] for l in langs], symbol=[families_dict[l] for l in langs], title=f\"perplexity {p}\", color_discrete_sequence=px.colors.qualitative.Light24, hover_data=[langs],\n",
    "                                          symbol_sequence= ['circle-open', 'circle', 'circle-open-dot', 'square', 'diamond', 'x', 'triangle-up', 'star', 'cross-thin'])\n",
    "    fig.show()"
   ]
  },
  {
   "cell_type": "code",
   "execution_count": 43,
   "metadata": {},
   "outputs": [
    {
     "name": "stderr",
     "output_type": "stream",
     "text": [
      "/home/amysiak/thesis/env/lib/python3.8/site-packages/sklearn/manifold/_t_sne.py:800: FutureWarning:\n",
      "\n",
      "The default initialization in TSNE will change from 'random' to 'pca' in 1.2.\n",
      "\n",
      "/home/amysiak/thesis/env/lib/python3.8/site-packages/sklearn/manifold/_t_sne.py:810: FutureWarning:\n",
      "\n",
      "The default learning rate in TSNE will change from 200.0 to 'auto' in 1.2.\n",
      "\n"
     ]
    },
    {
     "data": {
      "application/vnd.plotly.v1+json": {
       "config": {
        "plotlyServerURL": "https://plot.ly"
       },
       "data": [
        {
         "customdata": [
          [
           "ar"
          ]
         ],
         "hovertemplate": "color=vso<br>symbol=afro-asiatic<br>x=%{x}<br>y=%{y}<br>hover_data_0=%{customdata[0]}<extra></extra>",
         "legendgroup": "vso, afro-asiatic",
         "marker": {
          "color": "#FD3216",
          "symbol": "circle-open"
         },
         "mode": "markers",
         "name": "vso, afro-asiatic",
         "orientation": "v",
         "showlegend": true,
         "type": "scatter",
         "x": [
          -26.274946212768555
         ],
         "xaxis": "x",
         "y": [
          -2.309143304824829
         ],
         "yaxis": "y"
        },
        {
         "customdata": [
          [
           "cy"
          ],
          [
           "ga"
          ]
         ],
         "hovertemplate": "color=vso<br>symbol=indo-european<br>x=%{x}<br>y=%{y}<br>hover_data_0=%{customdata[0]}<extra></extra>",
         "legendgroup": "vso, indo-european",
         "marker": {
          "color": "#FD3216",
          "symbol": "circle"
         },
         "mode": "markers",
         "name": "vso, indo-european",
         "orientation": "v",
         "showlegend": true,
         "type": "scatter",
         "x": [
          -18.988300323486328,
          -30.12566375732422
         ],
         "xaxis": "x",
         "y": [
          -11.899344444274902,
          -32.138145446777344
         ],
         "yaxis": "y"
        },
        {
         "customdata": [
          [
           "be"
          ],
          [
           "bg"
          ],
          [
           "cs"
          ],
          [
           "hr"
          ],
          [
           "pl"
          ],
          [
           "ru"
          ],
          [
           "slk"
          ],
          [
           "slv"
          ],
          [
           "uk"
          ]
         ],
         "hovertemplate": "color=slavic<br>symbol=indo-european<br>x=%{x}<br>y=%{y}<br>hover_data_0=%{customdata[0]}<extra></extra>",
         "legendgroup": "slavic, indo-european",
         "marker": {
          "color": "#00FE35",
          "symbol": "circle"
         },
         "mode": "markers",
         "name": "slavic, indo-european",
         "orientation": "v",
         "showlegend": true,
         "type": "scatter",
         "x": [
          248.29635620117188,
          244.98167419433594,
          222.537109375,
          234.04498291015625,
          281.4167175292969,
          256.32464599609375,
          294.1175842285156,
          231.42263793945312,
          265.1664123535156
         ],
         "xaxis": "x",
         "y": [
          26.32184600830078,
          -9.13181209564209,
          -13.717085838317871,
          -19.360395431518555,
          21.377756118774414,
          11.5799560546875,
          24.77079963684082,
          -31.448347091674805,
          17.589786529541016
         ],
         "yaxis": "y"
        },
        {
         "customdata": [
          [
           "de"
          ],
          [
           "en"
          ],
          [
           "es"
          ],
          [
           "fr"
          ],
          [
           "lt"
          ],
          [
           "lv"
          ],
          [
           "nl"
          ]
         ],
         "hovertemplate": "color=svo<br>symbol=indo-european<br>x=%{x}<br>y=%{y}<br>hover_data_0=%{customdata[0]}<extra></extra>",
         "legendgroup": "svo, indo-european",
         "marker": {
          "color": "#6A76FC",
          "symbol": "circle"
         },
         "mode": "markers",
         "name": "svo, indo-european",
         "orientation": "v",
         "showlegend": true,
         "type": "scatter",
         "x": [
          -101.91828918457031,
          -44.432525634765625,
          -53.94781494140625,
          -49.51553726196289,
          -189.4830780029297,
          -179.63473510742188,
          -91.9525375366211
         ],
         "xaxis": "x",
         "y": [
          14.551338195800781,
          -39.099159240722656,
          19.27754783630371,
          28.584190368652344,
          -90.14312744140625,
          -92.57451629638672,
          16.10948944091797
         ],
         "yaxis": "y"
        },
        {
         "customdata": [
          [
           "fi"
          ]
         ],
         "hovertemplate": "color=svo<br>symbol=uralic<br>x=%{x}<br>y=%{y}<br>hover_data_0=%{customdata[0]}<extra></extra>",
         "legendgroup": "svo, uralic",
         "marker": {
          "color": "#6A76FC",
          "symbol": "circle-open-dot"
         },
         "mode": "markers",
         "name": "svo, uralic",
         "orientation": "v",
         "showlegend": true,
         "type": "scatter",
         "x": [
          -187.9324188232422
         ],
         "xaxis": "x",
         "y": [
          -70.29621887207031
         ],
         "yaxis": "y"
        },
        {
         "customdata": [
          [
           "id"
          ]
         ],
         "hovertemplate": "color=svo<br>symbol=austronesian<br>x=%{x}<br>y=%{y}<br>hover_data_0=%{customdata[0]}<extra></extra>",
         "legendgroup": "svo, austronesian",
         "marker": {
          "color": "#6A76FC",
          "symbol": "square"
         },
         "mode": "markers",
         "name": "svo, austronesian",
         "orientation": "v",
         "showlegend": true,
         "type": "scatter",
         "x": [
          -30.92042350769043
         ],
         "xaxis": "x",
         "y": [
          -16.182146072387695
         ],
         "yaxis": "y"
        },
        {
         "customdata": [
          [
           "zh"
          ]
         ],
         "hovertemplate": "color=svo<br>symbol=sino-tibetan<br>x=%{x}<br>y=%{y}<br>hover_data_0=%{customdata[0]}<extra></extra>",
         "legendgroup": "svo, sino-tibetan",
         "marker": {
          "color": "#6A76FC",
          "symbol": "star"
         },
         "mode": "markers",
         "name": "svo, sino-tibetan",
         "orientation": "v",
         "showlegend": true,
         "type": "scatter",
         "x": [
          -6.913211822509766
         ],
         "xaxis": "x",
         "y": [
          -72.72079467773438
         ],
         "yaxis": "y"
        },
        {
         "customdata": [
          [
           "fa"
          ],
          [
           "hy"
          ]
         ],
         "hovertemplate": "color=sov<br>symbol=indo-european<br>x=%{x}<br>y=%{y}<br>hover_data_0=%{customdata[0]}<extra></extra>",
         "legendgroup": "sov, indo-european",
         "marker": {
          "color": "#FED4C4",
          "symbol": "circle"
         },
         "mode": "markers",
         "name": "sov, indo-european",
         "orientation": "v",
         "showlegend": true,
         "type": "scatter",
         "x": [
          -13.23435115814209,
          -196.07237243652344
         ],
         "xaxis": "x",
         "y": [
          -59.553077697753906,
          -62.44655227661133
         ],
         "yaxis": "y"
        },
        {
         "customdata": [
          [
           "ja"
          ]
         ],
         "hovertemplate": "color=sov<br>symbol=japonic<br>x=%{x}<br>y=%{y}<br>hover_data_0=%{customdata[0]}<extra></extra>",
         "legendgroup": "sov, japonic",
         "marker": {
          "color": "#FED4C4",
          "symbol": "diamond"
         },
         "mode": "markers",
         "name": "sov, japonic",
         "orientation": "v",
         "showlegend": true,
         "type": "scatter",
         "x": [
          -2.486396074295044
         ],
         "xaxis": "x",
         "y": [
          -82.50735473632812
         ],
         "yaxis": "y"
        },
        {
         "customdata": [
          [
           "ko"
          ]
         ],
         "hovertemplate": "color=sov<br>symbol=koreanic<br>x=%{x}<br>y=%{y}<br>hover_data_0=%{customdata[0]}<extra></extra>",
         "legendgroup": "sov, koreanic",
         "marker": {
          "color": "#FED4C4",
          "symbol": "x"
         },
         "mode": "markers",
         "name": "sov, koreanic",
         "orientation": "v",
         "showlegend": true,
         "type": "scatter",
         "x": [
          -210.0906982421875
         ],
         "xaxis": "x",
         "y": [
          -51.2580451965332
         ],
         "yaxis": "y"
        },
        {
         "customdata": [
          [
           "tr"
          ]
         ],
         "hovertemplate": "color=sov<br>symbol=turkic<br>x=%{x}<br>y=%{y}<br>hover_data_0=%{customdata[0]}<extra></extra>",
         "legendgroup": "sov, turkic",
         "marker": {
          "color": "#FED4C4",
          "symbol": "triangle-up"
         },
         "mode": "markers",
         "name": "sov, turkic",
         "orientation": "v",
         "showlegend": true,
         "type": "scatter",
         "x": [
          -222.37046813964844
         ],
         "xaxis": "x",
         "y": [
          -52.85198211669922
         ],
         "yaxis": "y"
        }
       ],
       "layout": {
        "legend": {
         "title": {
          "text": "color, symbol"
         },
         "tracegroupgap": 0
        },
        "template": {
         "data": {
          "bar": [
           {
            "error_x": {
             "color": "#2a3f5f"
            },
            "error_y": {
             "color": "#2a3f5f"
            },
            "marker": {
             "line": {
              "color": "#E5ECF6",
              "width": 0.5
             },
             "pattern": {
              "fillmode": "overlay",
              "size": 10,
              "solidity": 0.2
             }
            },
            "type": "bar"
           }
          ],
          "barpolar": [
           {
            "marker": {
             "line": {
              "color": "#E5ECF6",
              "width": 0.5
             },
             "pattern": {
              "fillmode": "overlay",
              "size": 10,
              "solidity": 0.2
             }
            },
            "type": "barpolar"
           }
          ],
          "carpet": [
           {
            "aaxis": {
             "endlinecolor": "#2a3f5f",
             "gridcolor": "white",
             "linecolor": "white",
             "minorgridcolor": "white",
             "startlinecolor": "#2a3f5f"
            },
            "baxis": {
             "endlinecolor": "#2a3f5f",
             "gridcolor": "white",
             "linecolor": "white",
             "minorgridcolor": "white",
             "startlinecolor": "#2a3f5f"
            },
            "type": "carpet"
           }
          ],
          "choropleth": [
           {
            "colorbar": {
             "outlinewidth": 0,
             "ticks": ""
            },
            "type": "choropleth"
           }
          ],
          "contour": [
           {
            "colorbar": {
             "outlinewidth": 0,
             "ticks": ""
            },
            "colorscale": [
             [
              0,
              "#0d0887"
             ],
             [
              0.1111111111111111,
              "#46039f"
             ],
             [
              0.2222222222222222,
              "#7201a8"
             ],
             [
              0.3333333333333333,
              "#9c179e"
             ],
             [
              0.4444444444444444,
              "#bd3786"
             ],
             [
              0.5555555555555556,
              "#d8576b"
             ],
             [
              0.6666666666666666,
              "#ed7953"
             ],
             [
              0.7777777777777778,
              "#fb9f3a"
             ],
             [
              0.8888888888888888,
              "#fdca26"
             ],
             [
              1,
              "#f0f921"
             ]
            ],
            "type": "contour"
           }
          ],
          "contourcarpet": [
           {
            "colorbar": {
             "outlinewidth": 0,
             "ticks": ""
            },
            "type": "contourcarpet"
           }
          ],
          "heatmap": [
           {
            "colorbar": {
             "outlinewidth": 0,
             "ticks": ""
            },
            "colorscale": [
             [
              0,
              "#0d0887"
             ],
             [
              0.1111111111111111,
              "#46039f"
             ],
             [
              0.2222222222222222,
              "#7201a8"
             ],
             [
              0.3333333333333333,
              "#9c179e"
             ],
             [
              0.4444444444444444,
              "#bd3786"
             ],
             [
              0.5555555555555556,
              "#d8576b"
             ],
             [
              0.6666666666666666,
              "#ed7953"
             ],
             [
              0.7777777777777778,
              "#fb9f3a"
             ],
             [
              0.8888888888888888,
              "#fdca26"
             ],
             [
              1,
              "#f0f921"
             ]
            ],
            "type": "heatmap"
           }
          ],
          "heatmapgl": [
           {
            "colorbar": {
             "outlinewidth": 0,
             "ticks": ""
            },
            "colorscale": [
             [
              0,
              "#0d0887"
             ],
             [
              0.1111111111111111,
              "#46039f"
             ],
             [
              0.2222222222222222,
              "#7201a8"
             ],
             [
              0.3333333333333333,
              "#9c179e"
             ],
             [
              0.4444444444444444,
              "#bd3786"
             ],
             [
              0.5555555555555556,
              "#d8576b"
             ],
             [
              0.6666666666666666,
              "#ed7953"
             ],
             [
              0.7777777777777778,
              "#fb9f3a"
             ],
             [
              0.8888888888888888,
              "#fdca26"
             ],
             [
              1,
              "#f0f921"
             ]
            ],
            "type": "heatmapgl"
           }
          ],
          "histogram": [
           {
            "marker": {
             "pattern": {
              "fillmode": "overlay",
              "size": 10,
              "solidity": 0.2
             }
            },
            "type": "histogram"
           }
          ],
          "histogram2d": [
           {
            "colorbar": {
             "outlinewidth": 0,
             "ticks": ""
            },
            "colorscale": [
             [
              0,
              "#0d0887"
             ],
             [
              0.1111111111111111,
              "#46039f"
             ],
             [
              0.2222222222222222,
              "#7201a8"
             ],
             [
              0.3333333333333333,
              "#9c179e"
             ],
             [
              0.4444444444444444,
              "#bd3786"
             ],
             [
              0.5555555555555556,
              "#d8576b"
             ],
             [
              0.6666666666666666,
              "#ed7953"
             ],
             [
              0.7777777777777778,
              "#fb9f3a"
             ],
             [
              0.8888888888888888,
              "#fdca26"
             ],
             [
              1,
              "#f0f921"
             ]
            ],
            "type": "histogram2d"
           }
          ],
          "histogram2dcontour": [
           {
            "colorbar": {
             "outlinewidth": 0,
             "ticks": ""
            },
            "colorscale": [
             [
              0,
              "#0d0887"
             ],
             [
              0.1111111111111111,
              "#46039f"
             ],
             [
              0.2222222222222222,
              "#7201a8"
             ],
             [
              0.3333333333333333,
              "#9c179e"
             ],
             [
              0.4444444444444444,
              "#bd3786"
             ],
             [
              0.5555555555555556,
              "#d8576b"
             ],
             [
              0.6666666666666666,
              "#ed7953"
             ],
             [
              0.7777777777777778,
              "#fb9f3a"
             ],
             [
              0.8888888888888888,
              "#fdca26"
             ],
             [
              1,
              "#f0f921"
             ]
            ],
            "type": "histogram2dcontour"
           }
          ],
          "mesh3d": [
           {
            "colorbar": {
             "outlinewidth": 0,
             "ticks": ""
            },
            "type": "mesh3d"
           }
          ],
          "parcoords": [
           {
            "line": {
             "colorbar": {
              "outlinewidth": 0,
              "ticks": ""
             }
            },
            "type": "parcoords"
           }
          ],
          "pie": [
           {
            "automargin": true,
            "type": "pie"
           }
          ],
          "scatter": [
           {
            "fillpattern": {
             "fillmode": "overlay",
             "size": 10,
             "solidity": 0.2
            },
            "type": "scatter"
           }
          ],
          "scatter3d": [
           {
            "line": {
             "colorbar": {
              "outlinewidth": 0,
              "ticks": ""
             }
            },
            "marker": {
             "colorbar": {
              "outlinewidth": 0,
              "ticks": ""
             }
            },
            "type": "scatter3d"
           }
          ],
          "scattercarpet": [
           {
            "marker": {
             "colorbar": {
              "outlinewidth": 0,
              "ticks": ""
             }
            },
            "type": "scattercarpet"
           }
          ],
          "scattergeo": [
           {
            "marker": {
             "colorbar": {
              "outlinewidth": 0,
              "ticks": ""
             }
            },
            "type": "scattergeo"
           }
          ],
          "scattergl": [
           {
            "marker": {
             "colorbar": {
              "outlinewidth": 0,
              "ticks": ""
             }
            },
            "type": "scattergl"
           }
          ],
          "scattermapbox": [
           {
            "marker": {
             "colorbar": {
              "outlinewidth": 0,
              "ticks": ""
             }
            },
            "type": "scattermapbox"
           }
          ],
          "scatterpolar": [
           {
            "marker": {
             "colorbar": {
              "outlinewidth": 0,
              "ticks": ""
             }
            },
            "type": "scatterpolar"
           }
          ],
          "scatterpolargl": [
           {
            "marker": {
             "colorbar": {
              "outlinewidth": 0,
              "ticks": ""
             }
            },
            "type": "scatterpolargl"
           }
          ],
          "scatterternary": [
           {
            "marker": {
             "colorbar": {
              "outlinewidth": 0,
              "ticks": ""
             }
            },
            "type": "scatterternary"
           }
          ],
          "surface": [
           {
            "colorbar": {
             "outlinewidth": 0,
             "ticks": ""
            },
            "colorscale": [
             [
              0,
              "#0d0887"
             ],
             [
              0.1111111111111111,
              "#46039f"
             ],
             [
              0.2222222222222222,
              "#7201a8"
             ],
             [
              0.3333333333333333,
              "#9c179e"
             ],
             [
              0.4444444444444444,
              "#bd3786"
             ],
             [
              0.5555555555555556,
              "#d8576b"
             ],
             [
              0.6666666666666666,
              "#ed7953"
             ],
             [
              0.7777777777777778,
              "#fb9f3a"
             ],
             [
              0.8888888888888888,
              "#fdca26"
             ],
             [
              1,
              "#f0f921"
             ]
            ],
            "type": "surface"
           }
          ],
          "table": [
           {
            "cells": {
             "fill": {
              "color": "#EBF0F8"
             },
             "line": {
              "color": "white"
             }
            },
            "header": {
             "fill": {
              "color": "#C8D4E3"
             },
             "line": {
              "color": "white"
             }
            },
            "type": "table"
           }
          ]
         },
         "layout": {
          "annotationdefaults": {
           "arrowcolor": "#2a3f5f",
           "arrowhead": 0,
           "arrowwidth": 1
          },
          "autotypenumbers": "strict",
          "coloraxis": {
           "colorbar": {
            "outlinewidth": 0,
            "ticks": ""
           }
          },
          "colorscale": {
           "diverging": [
            [
             0,
             "#8e0152"
            ],
            [
             0.1,
             "#c51b7d"
            ],
            [
             0.2,
             "#de77ae"
            ],
            [
             0.3,
             "#f1b6da"
            ],
            [
             0.4,
             "#fde0ef"
            ],
            [
             0.5,
             "#f7f7f7"
            ],
            [
             0.6,
             "#e6f5d0"
            ],
            [
             0.7,
             "#b8e186"
            ],
            [
             0.8,
             "#7fbc41"
            ],
            [
             0.9,
             "#4d9221"
            ],
            [
             1,
             "#276419"
            ]
           ],
           "sequential": [
            [
             0,
             "#0d0887"
            ],
            [
             0.1111111111111111,
             "#46039f"
            ],
            [
             0.2222222222222222,
             "#7201a8"
            ],
            [
             0.3333333333333333,
             "#9c179e"
            ],
            [
             0.4444444444444444,
             "#bd3786"
            ],
            [
             0.5555555555555556,
             "#d8576b"
            ],
            [
             0.6666666666666666,
             "#ed7953"
            ],
            [
             0.7777777777777778,
             "#fb9f3a"
            ],
            [
             0.8888888888888888,
             "#fdca26"
            ],
            [
             1,
             "#f0f921"
            ]
           ],
           "sequentialminus": [
            [
             0,
             "#0d0887"
            ],
            [
             0.1111111111111111,
             "#46039f"
            ],
            [
             0.2222222222222222,
             "#7201a8"
            ],
            [
             0.3333333333333333,
             "#9c179e"
            ],
            [
             0.4444444444444444,
             "#bd3786"
            ],
            [
             0.5555555555555556,
             "#d8576b"
            ],
            [
             0.6666666666666666,
             "#ed7953"
            ],
            [
             0.7777777777777778,
             "#fb9f3a"
            ],
            [
             0.8888888888888888,
             "#fdca26"
            ],
            [
             1,
             "#f0f921"
            ]
           ]
          },
          "colorway": [
           "#636efa",
           "#EF553B",
           "#00cc96",
           "#ab63fa",
           "#FFA15A",
           "#19d3f3",
           "#FF6692",
           "#B6E880",
           "#FF97FF",
           "#FECB52"
          ],
          "font": {
           "color": "#2a3f5f"
          },
          "geo": {
           "bgcolor": "white",
           "lakecolor": "white",
           "landcolor": "#E5ECF6",
           "showlakes": true,
           "showland": true,
           "subunitcolor": "white"
          },
          "hoverlabel": {
           "align": "left"
          },
          "hovermode": "closest",
          "mapbox": {
           "style": "light"
          },
          "paper_bgcolor": "white",
          "plot_bgcolor": "#E5ECF6",
          "polar": {
           "angularaxis": {
            "gridcolor": "white",
            "linecolor": "white",
            "ticks": ""
           },
           "bgcolor": "#E5ECF6",
           "radialaxis": {
            "gridcolor": "white",
            "linecolor": "white",
            "ticks": ""
           }
          },
          "scene": {
           "xaxis": {
            "backgroundcolor": "#E5ECF6",
            "gridcolor": "white",
            "gridwidth": 2,
            "linecolor": "white",
            "showbackground": true,
            "ticks": "",
            "zerolinecolor": "white"
           },
           "yaxis": {
            "backgroundcolor": "#E5ECF6",
            "gridcolor": "white",
            "gridwidth": 2,
            "linecolor": "white",
            "showbackground": true,
            "ticks": "",
            "zerolinecolor": "white"
           },
           "zaxis": {
            "backgroundcolor": "#E5ECF6",
            "gridcolor": "white",
            "gridwidth": 2,
            "linecolor": "white",
            "showbackground": true,
            "ticks": "",
            "zerolinecolor": "white"
           }
          },
          "shapedefaults": {
           "line": {
            "color": "#2a3f5f"
           }
          },
          "ternary": {
           "aaxis": {
            "gridcolor": "white",
            "linecolor": "white",
            "ticks": ""
           },
           "baxis": {
            "gridcolor": "white",
            "linecolor": "white",
            "ticks": ""
           },
           "bgcolor": "#E5ECF6",
           "caxis": {
            "gridcolor": "white",
            "linecolor": "white",
            "ticks": ""
           }
          },
          "title": {
           "x": 0.05
          },
          "xaxis": {
           "automargin": true,
           "gridcolor": "white",
           "linecolor": "white",
           "ticks": "",
           "title": {
            "standoff": 15
           },
           "zerolinecolor": "white",
           "zerolinewidth": 2
          },
          "yaxis": {
           "automargin": true,
           "gridcolor": "white",
           "linecolor": "white",
           "ticks": "",
           "title": {
            "standoff": 15
           },
           "zerolinecolor": "white",
           "zerolinewidth": 2
          }
         }
        },
        "title": {
         "text": "perplexity 3"
        },
        "xaxis": {
         "anchor": "y",
         "domain": [
          0,
          1
         ],
         "title": {
          "text": "x"
         }
        },
        "yaxis": {
         "anchor": "x",
         "domain": [
          0,
          1
         ],
         "title": {
          "text": "y"
         }
        }
       }
      }
     },
     "metadata": {},
     "output_type": "display_data"
    },
    {
     "name": "stderr",
     "output_type": "stream",
     "text": [
      "/home/amysiak/thesis/env/lib/python3.8/site-packages/sklearn/manifold/_t_sne.py:800: FutureWarning:\n",
      "\n",
      "The default initialization in TSNE will change from 'random' to 'pca' in 1.2.\n",
      "\n",
      "/home/amysiak/thesis/env/lib/python3.8/site-packages/sklearn/manifold/_t_sne.py:810: FutureWarning:\n",
      "\n",
      "The default learning rate in TSNE will change from 200.0 to 'auto' in 1.2.\n",
      "\n"
     ]
    },
    {
     "data": {
      "application/vnd.plotly.v1+json": {
       "config": {
        "plotlyServerURL": "https://plot.ly"
       },
       "data": [
        {
         "customdata": [
          [
           "ar"
          ]
         ],
         "hovertemplate": "color=vso<br>symbol=afro-asiatic<br>x=%{x}<br>y=%{y}<br>hover_data_0=%{customdata[0]}<extra></extra>",
         "legendgroup": "vso, afro-asiatic",
         "marker": {
          "color": "#FD3216",
          "symbol": "circle-open"
         },
         "mode": "markers",
         "name": "vso, afro-asiatic",
         "orientation": "v",
         "showlegend": true,
         "type": "scatter",
         "x": [
          -165.21377563476562
         ],
         "xaxis": "x",
         "y": [
          339.8355712890625
         ],
         "yaxis": "y"
        },
        {
         "customdata": [
          [
           "cy"
          ],
          [
           "ga"
          ]
         ],
         "hovertemplate": "color=vso<br>symbol=indo-european<br>x=%{x}<br>y=%{y}<br>hover_data_0=%{customdata[0]}<extra></extra>",
         "legendgroup": "vso, indo-european",
         "marker": {
          "color": "#FD3216",
          "symbol": "circle"
         },
         "mode": "markers",
         "name": "vso, indo-european",
         "orientation": "v",
         "showlegend": true,
         "type": "scatter",
         "x": [
          -179.43470764160156,
          -82.97900390625
         ],
         "xaxis": "x",
         "y": [
          297.47589111328125,
          293.5437316894531
         ],
         "yaxis": "y"
        },
        {
         "customdata": [
          [
           "be"
          ],
          [
           "bg"
          ],
          [
           "cs"
          ],
          [
           "hr"
          ],
          [
           "pl"
          ],
          [
           "ru"
          ],
          [
           "slk"
          ],
          [
           "slv"
          ],
          [
           "uk"
          ]
         ],
         "hovertemplate": "color=slavic<br>symbol=indo-european<br>x=%{x}<br>y=%{y}<br>hover_data_0=%{customdata[0]}<extra></extra>",
         "legendgroup": "slavic, indo-european",
         "marker": {
          "color": "#00FE35",
          "symbol": "circle"
         },
         "mode": "markers",
         "name": "slavic, indo-european",
         "orientation": "v",
         "showlegend": true,
         "type": "scatter",
         "x": [
          328.55609130859375,
          219.11268615722656,
          231.86351013183594,
          196.6515655517578,
          305.0561218261719,
          279.2291564941406,
          272.0979919433594,
          160.68370056152344,
          300.5029296875
         ],
         "xaxis": "x",
         "y": [
          41.97684097290039,
          56.84737777709961,
          -18.744016647338867,
          11.195735931396484,
          166.2855224609375,
          73.40706634521484,
          201.21029663085938,
          -17.844642639160156,
          107.31227111816406
         ],
         "yaxis": "y"
        },
        {
         "customdata": [
          [
           "de"
          ],
          [
           "en"
          ],
          [
           "es"
          ],
          [
           "fr"
          ],
          [
           "lt"
          ],
          [
           "lv"
          ],
          [
           "nl"
          ]
         ],
         "hovertemplate": "color=svo<br>symbol=indo-european<br>x=%{x}<br>y=%{y}<br>hover_data_0=%{customdata[0]}<extra></extra>",
         "legendgroup": "svo, indo-european",
         "marker": {
          "color": "#6A76FC",
          "symbol": "circle"
         },
         "mode": "markers",
         "name": "svo, indo-european",
         "orientation": "v",
         "showlegend": true,
         "type": "scatter",
         "x": [
          34.267574310302734,
          -62.554908752441406,
          -183.8092041015625,
          -222.59825134277344,
          -47.25133514404297,
          -9.848936080932617,
          13.589603424072266
         ],
         "xaxis": "x",
         "y": [
          -145.76040649414062,
          239.11093139648438,
          193.886962890625,
          189.2908935546875,
          -309.3106994628906,
          -302.86907958984375,
          -114.48607635498047
         ],
         "yaxis": "y"
        },
        {
         "customdata": [
          [
           "fi"
          ]
         ],
         "hovertemplate": "color=svo<br>symbol=uralic<br>x=%{x}<br>y=%{y}<br>hover_data_0=%{customdata[0]}<extra></extra>",
         "legendgroup": "svo, uralic",
         "marker": {
          "color": "#6A76FC",
          "symbol": "circle-open-dot"
         },
         "mode": "markers",
         "name": "svo, uralic",
         "orientation": "v",
         "showlegend": true,
         "type": "scatter",
         "x": [
          -27.132492065429688
         ],
         "xaxis": "x",
         "y": [
          -371.4154968261719
         ],
         "yaxis": "y"
        },
        {
         "customdata": [
          [
           "id"
          ]
         ],
         "hovertemplate": "color=svo<br>symbol=austronesian<br>x=%{x}<br>y=%{y}<br>hover_data_0=%{customdata[0]}<extra></extra>",
         "legendgroup": "svo, austronesian",
         "marker": {
          "color": "#6A76FC",
          "symbol": "square"
         },
         "mode": "markers",
         "name": "svo, austronesian",
         "orientation": "v",
         "showlegend": true,
         "type": "scatter",
         "x": [
          -134.0716552734375
         ],
         "xaxis": "x",
         "y": [
          297.97735595703125
         ],
         "yaxis": "y"
        },
        {
         "customdata": [
          [
           "zh"
          ]
         ],
         "hovertemplate": "color=svo<br>symbol=sino-tibetan<br>x=%{x}<br>y=%{y}<br>hover_data_0=%{customdata[0]}<extra></extra>",
         "legendgroup": "svo, sino-tibetan",
         "marker": {
          "color": "#6A76FC",
          "symbol": "star"
         },
         "mode": "markers",
         "name": "svo, sino-tibetan",
         "orientation": "v",
         "showlegend": true,
         "type": "scatter",
         "x": [
          298.61065673828125
         ],
         "xaxis": "x",
         "y": [
          474.051513671875
         ],
         "yaxis": "y"
        },
        {
         "customdata": [
          [
           "fa"
          ],
          [
           "hy"
          ]
         ],
         "hovertemplate": "color=sov<br>symbol=indo-european<br>x=%{x}<br>y=%{y}<br>hover_data_0=%{customdata[0]}<extra></extra>",
         "legendgroup": "sov, indo-european",
         "marker": {
          "color": "#FED4C4",
          "symbol": "circle"
         },
         "mode": "markers",
         "name": "sov, indo-european",
         "orientation": "v",
         "showlegend": true,
         "type": "scatter",
         "x": [
          249.10916137695312,
          -63.65153121948242
         ],
         "xaxis": "x",
         "y": [
          458.22222900390625,
          -393.3244323730469
         ],
         "yaxis": "y"
        },
        {
         "customdata": [
          [
           "ja"
          ]
         ],
         "hovertemplate": "color=sov<br>symbol=japonic<br>x=%{x}<br>y=%{y}<br>hover_data_0=%{customdata[0]}<extra></extra>",
         "legendgroup": "sov, japonic",
         "marker": {
          "color": "#FED4C4",
          "symbol": "diamond"
         },
         "mode": "markers",
         "name": "sov, japonic",
         "orientation": "v",
         "showlegend": true,
         "type": "scatter",
         "x": [
          337.2362060546875
         ],
         "xaxis": "x",
         "y": [
          483.25433349609375
         ],
         "yaxis": "y"
        },
        {
         "customdata": [
          [
           "ko"
          ]
         ],
         "hovertemplate": "color=sov<br>symbol=koreanic<br>x=%{x}<br>y=%{y}<br>hover_data_0=%{customdata[0]}<extra></extra>",
         "legendgroup": "sov, koreanic",
         "marker": {
          "color": "#FED4C4",
          "symbol": "x"
         },
         "mode": "markers",
         "name": "sov, koreanic",
         "orientation": "v",
         "showlegend": true,
         "type": "scatter",
         "x": [
          -108.14507293701172
         ],
         "xaxis": "x",
         "y": [
          -438.43048095703125
         ],
         "yaxis": "y"
        },
        {
         "customdata": [
          [
           "tr"
          ]
         ],
         "hovertemplate": "color=sov<br>symbol=turkic<br>x=%{x}<br>y=%{y}<br>hover_data_0=%{customdata[0]}<extra></extra>",
         "legendgroup": "sov, turkic",
         "marker": {
          "color": "#FED4C4",
          "symbol": "triangle-up"
         },
         "mode": "markers",
         "name": "sov, turkic",
         "orientation": "v",
         "showlegend": true,
         "type": "scatter",
         "x": [
          -84.18460083007812
         ],
         "xaxis": "x",
         "y": [
          -477.9567565917969
         ],
         "yaxis": "y"
        }
       ],
       "layout": {
        "legend": {
         "title": {
          "text": "color, symbol"
         },
         "tracegroupgap": 0
        },
        "template": {
         "data": {
          "bar": [
           {
            "error_x": {
             "color": "#2a3f5f"
            },
            "error_y": {
             "color": "#2a3f5f"
            },
            "marker": {
             "line": {
              "color": "#E5ECF6",
              "width": 0.5
             },
             "pattern": {
              "fillmode": "overlay",
              "size": 10,
              "solidity": 0.2
             }
            },
            "type": "bar"
           }
          ],
          "barpolar": [
           {
            "marker": {
             "line": {
              "color": "#E5ECF6",
              "width": 0.5
             },
             "pattern": {
              "fillmode": "overlay",
              "size": 10,
              "solidity": 0.2
             }
            },
            "type": "barpolar"
           }
          ],
          "carpet": [
           {
            "aaxis": {
             "endlinecolor": "#2a3f5f",
             "gridcolor": "white",
             "linecolor": "white",
             "minorgridcolor": "white",
             "startlinecolor": "#2a3f5f"
            },
            "baxis": {
             "endlinecolor": "#2a3f5f",
             "gridcolor": "white",
             "linecolor": "white",
             "minorgridcolor": "white",
             "startlinecolor": "#2a3f5f"
            },
            "type": "carpet"
           }
          ],
          "choropleth": [
           {
            "colorbar": {
             "outlinewidth": 0,
             "ticks": ""
            },
            "type": "choropleth"
           }
          ],
          "contour": [
           {
            "colorbar": {
             "outlinewidth": 0,
             "ticks": ""
            },
            "colorscale": [
             [
              0,
              "#0d0887"
             ],
             [
              0.1111111111111111,
              "#46039f"
             ],
             [
              0.2222222222222222,
              "#7201a8"
             ],
             [
              0.3333333333333333,
              "#9c179e"
             ],
             [
              0.4444444444444444,
              "#bd3786"
             ],
             [
              0.5555555555555556,
              "#d8576b"
             ],
             [
              0.6666666666666666,
              "#ed7953"
             ],
             [
              0.7777777777777778,
              "#fb9f3a"
             ],
             [
              0.8888888888888888,
              "#fdca26"
             ],
             [
              1,
              "#f0f921"
             ]
            ],
            "type": "contour"
           }
          ],
          "contourcarpet": [
           {
            "colorbar": {
             "outlinewidth": 0,
             "ticks": ""
            },
            "type": "contourcarpet"
           }
          ],
          "heatmap": [
           {
            "colorbar": {
             "outlinewidth": 0,
             "ticks": ""
            },
            "colorscale": [
             [
              0,
              "#0d0887"
             ],
             [
              0.1111111111111111,
              "#46039f"
             ],
             [
              0.2222222222222222,
              "#7201a8"
             ],
             [
              0.3333333333333333,
              "#9c179e"
             ],
             [
              0.4444444444444444,
              "#bd3786"
             ],
             [
              0.5555555555555556,
              "#d8576b"
             ],
             [
              0.6666666666666666,
              "#ed7953"
             ],
             [
              0.7777777777777778,
              "#fb9f3a"
             ],
             [
              0.8888888888888888,
              "#fdca26"
             ],
             [
              1,
              "#f0f921"
             ]
            ],
            "type": "heatmap"
           }
          ],
          "heatmapgl": [
           {
            "colorbar": {
             "outlinewidth": 0,
             "ticks": ""
            },
            "colorscale": [
             [
              0,
              "#0d0887"
             ],
             [
              0.1111111111111111,
              "#46039f"
             ],
             [
              0.2222222222222222,
              "#7201a8"
             ],
             [
              0.3333333333333333,
              "#9c179e"
             ],
             [
              0.4444444444444444,
              "#bd3786"
             ],
             [
              0.5555555555555556,
              "#d8576b"
             ],
             [
              0.6666666666666666,
              "#ed7953"
             ],
             [
              0.7777777777777778,
              "#fb9f3a"
             ],
             [
              0.8888888888888888,
              "#fdca26"
             ],
             [
              1,
              "#f0f921"
             ]
            ],
            "type": "heatmapgl"
           }
          ],
          "histogram": [
           {
            "marker": {
             "pattern": {
              "fillmode": "overlay",
              "size": 10,
              "solidity": 0.2
             }
            },
            "type": "histogram"
           }
          ],
          "histogram2d": [
           {
            "colorbar": {
             "outlinewidth": 0,
             "ticks": ""
            },
            "colorscale": [
             [
              0,
              "#0d0887"
             ],
             [
              0.1111111111111111,
              "#46039f"
             ],
             [
              0.2222222222222222,
              "#7201a8"
             ],
             [
              0.3333333333333333,
              "#9c179e"
             ],
             [
              0.4444444444444444,
              "#bd3786"
             ],
             [
              0.5555555555555556,
              "#d8576b"
             ],
             [
              0.6666666666666666,
              "#ed7953"
             ],
             [
              0.7777777777777778,
              "#fb9f3a"
             ],
             [
              0.8888888888888888,
              "#fdca26"
             ],
             [
              1,
              "#f0f921"
             ]
            ],
            "type": "histogram2d"
           }
          ],
          "histogram2dcontour": [
           {
            "colorbar": {
             "outlinewidth": 0,
             "ticks": ""
            },
            "colorscale": [
             [
              0,
              "#0d0887"
             ],
             [
              0.1111111111111111,
              "#46039f"
             ],
             [
              0.2222222222222222,
              "#7201a8"
             ],
             [
              0.3333333333333333,
              "#9c179e"
             ],
             [
              0.4444444444444444,
              "#bd3786"
             ],
             [
              0.5555555555555556,
              "#d8576b"
             ],
             [
              0.6666666666666666,
              "#ed7953"
             ],
             [
              0.7777777777777778,
              "#fb9f3a"
             ],
             [
              0.8888888888888888,
              "#fdca26"
             ],
             [
              1,
              "#f0f921"
             ]
            ],
            "type": "histogram2dcontour"
           }
          ],
          "mesh3d": [
           {
            "colorbar": {
             "outlinewidth": 0,
             "ticks": ""
            },
            "type": "mesh3d"
           }
          ],
          "parcoords": [
           {
            "line": {
             "colorbar": {
              "outlinewidth": 0,
              "ticks": ""
             }
            },
            "type": "parcoords"
           }
          ],
          "pie": [
           {
            "automargin": true,
            "type": "pie"
           }
          ],
          "scatter": [
           {
            "fillpattern": {
             "fillmode": "overlay",
             "size": 10,
             "solidity": 0.2
            },
            "type": "scatter"
           }
          ],
          "scatter3d": [
           {
            "line": {
             "colorbar": {
              "outlinewidth": 0,
              "ticks": ""
             }
            },
            "marker": {
             "colorbar": {
              "outlinewidth": 0,
              "ticks": ""
             }
            },
            "type": "scatter3d"
           }
          ],
          "scattercarpet": [
           {
            "marker": {
             "colorbar": {
              "outlinewidth": 0,
              "ticks": ""
             }
            },
            "type": "scattercarpet"
           }
          ],
          "scattergeo": [
           {
            "marker": {
             "colorbar": {
              "outlinewidth": 0,
              "ticks": ""
             }
            },
            "type": "scattergeo"
           }
          ],
          "scattergl": [
           {
            "marker": {
             "colorbar": {
              "outlinewidth": 0,
              "ticks": ""
             }
            },
            "type": "scattergl"
           }
          ],
          "scattermapbox": [
           {
            "marker": {
             "colorbar": {
              "outlinewidth": 0,
              "ticks": ""
             }
            },
            "type": "scattermapbox"
           }
          ],
          "scatterpolar": [
           {
            "marker": {
             "colorbar": {
              "outlinewidth": 0,
              "ticks": ""
             }
            },
            "type": "scatterpolar"
           }
          ],
          "scatterpolargl": [
           {
            "marker": {
             "colorbar": {
              "outlinewidth": 0,
              "ticks": ""
             }
            },
            "type": "scatterpolargl"
           }
          ],
          "scatterternary": [
           {
            "marker": {
             "colorbar": {
              "outlinewidth": 0,
              "ticks": ""
             }
            },
            "type": "scatterternary"
           }
          ],
          "surface": [
           {
            "colorbar": {
             "outlinewidth": 0,
             "ticks": ""
            },
            "colorscale": [
             [
              0,
              "#0d0887"
             ],
             [
              0.1111111111111111,
              "#46039f"
             ],
             [
              0.2222222222222222,
              "#7201a8"
             ],
             [
              0.3333333333333333,
              "#9c179e"
             ],
             [
              0.4444444444444444,
              "#bd3786"
             ],
             [
              0.5555555555555556,
              "#d8576b"
             ],
             [
              0.6666666666666666,
              "#ed7953"
             ],
             [
              0.7777777777777778,
              "#fb9f3a"
             ],
             [
              0.8888888888888888,
              "#fdca26"
             ],
             [
              1,
              "#f0f921"
             ]
            ],
            "type": "surface"
           }
          ],
          "table": [
           {
            "cells": {
             "fill": {
              "color": "#EBF0F8"
             },
             "line": {
              "color": "white"
             }
            },
            "header": {
             "fill": {
              "color": "#C8D4E3"
             },
             "line": {
              "color": "white"
             }
            },
            "type": "table"
           }
          ]
         },
         "layout": {
          "annotationdefaults": {
           "arrowcolor": "#2a3f5f",
           "arrowhead": 0,
           "arrowwidth": 1
          },
          "autotypenumbers": "strict",
          "coloraxis": {
           "colorbar": {
            "outlinewidth": 0,
            "ticks": ""
           }
          },
          "colorscale": {
           "diverging": [
            [
             0,
             "#8e0152"
            ],
            [
             0.1,
             "#c51b7d"
            ],
            [
             0.2,
             "#de77ae"
            ],
            [
             0.3,
             "#f1b6da"
            ],
            [
             0.4,
             "#fde0ef"
            ],
            [
             0.5,
             "#f7f7f7"
            ],
            [
             0.6,
             "#e6f5d0"
            ],
            [
             0.7,
             "#b8e186"
            ],
            [
             0.8,
             "#7fbc41"
            ],
            [
             0.9,
             "#4d9221"
            ],
            [
             1,
             "#276419"
            ]
           ],
           "sequential": [
            [
             0,
             "#0d0887"
            ],
            [
             0.1111111111111111,
             "#46039f"
            ],
            [
             0.2222222222222222,
             "#7201a8"
            ],
            [
             0.3333333333333333,
             "#9c179e"
            ],
            [
             0.4444444444444444,
             "#bd3786"
            ],
            [
             0.5555555555555556,
             "#d8576b"
            ],
            [
             0.6666666666666666,
             "#ed7953"
            ],
            [
             0.7777777777777778,
             "#fb9f3a"
            ],
            [
             0.8888888888888888,
             "#fdca26"
            ],
            [
             1,
             "#f0f921"
            ]
           ],
           "sequentialminus": [
            [
             0,
             "#0d0887"
            ],
            [
             0.1111111111111111,
             "#46039f"
            ],
            [
             0.2222222222222222,
             "#7201a8"
            ],
            [
             0.3333333333333333,
             "#9c179e"
            ],
            [
             0.4444444444444444,
             "#bd3786"
            ],
            [
             0.5555555555555556,
             "#d8576b"
            ],
            [
             0.6666666666666666,
             "#ed7953"
            ],
            [
             0.7777777777777778,
             "#fb9f3a"
            ],
            [
             0.8888888888888888,
             "#fdca26"
            ],
            [
             1,
             "#f0f921"
            ]
           ]
          },
          "colorway": [
           "#636efa",
           "#EF553B",
           "#00cc96",
           "#ab63fa",
           "#FFA15A",
           "#19d3f3",
           "#FF6692",
           "#B6E880",
           "#FF97FF",
           "#FECB52"
          ],
          "font": {
           "color": "#2a3f5f"
          },
          "geo": {
           "bgcolor": "white",
           "lakecolor": "white",
           "landcolor": "#E5ECF6",
           "showlakes": true,
           "showland": true,
           "subunitcolor": "white"
          },
          "hoverlabel": {
           "align": "left"
          },
          "hovermode": "closest",
          "mapbox": {
           "style": "light"
          },
          "paper_bgcolor": "white",
          "plot_bgcolor": "#E5ECF6",
          "polar": {
           "angularaxis": {
            "gridcolor": "white",
            "linecolor": "white",
            "ticks": ""
           },
           "bgcolor": "#E5ECF6",
           "radialaxis": {
            "gridcolor": "white",
            "linecolor": "white",
            "ticks": ""
           }
          },
          "scene": {
           "xaxis": {
            "backgroundcolor": "#E5ECF6",
            "gridcolor": "white",
            "gridwidth": 2,
            "linecolor": "white",
            "showbackground": true,
            "ticks": "",
            "zerolinecolor": "white"
           },
           "yaxis": {
            "backgroundcolor": "#E5ECF6",
            "gridcolor": "white",
            "gridwidth": 2,
            "linecolor": "white",
            "showbackground": true,
            "ticks": "",
            "zerolinecolor": "white"
           },
           "zaxis": {
            "backgroundcolor": "#E5ECF6",
            "gridcolor": "white",
            "gridwidth": 2,
            "linecolor": "white",
            "showbackground": true,
            "ticks": "",
            "zerolinecolor": "white"
           }
          },
          "shapedefaults": {
           "line": {
            "color": "#2a3f5f"
           }
          },
          "ternary": {
           "aaxis": {
            "gridcolor": "white",
            "linecolor": "white",
            "ticks": ""
           },
           "baxis": {
            "gridcolor": "white",
            "linecolor": "white",
            "ticks": ""
           },
           "bgcolor": "#E5ECF6",
           "caxis": {
            "gridcolor": "white",
            "linecolor": "white",
            "ticks": ""
           }
          },
          "title": {
           "x": 0.05
          },
          "xaxis": {
           "automargin": true,
           "gridcolor": "white",
           "linecolor": "white",
           "ticks": "",
           "title": {
            "standoff": 15
           },
           "zerolinecolor": "white",
           "zerolinewidth": 2
          },
          "yaxis": {
           "automargin": true,
           "gridcolor": "white",
           "linecolor": "white",
           "ticks": "",
           "title": {
            "standoff": 15
           },
           "zerolinecolor": "white",
           "zerolinewidth": 2
          }
         }
        },
        "title": {
         "text": "perplexity 4"
        },
        "xaxis": {
         "anchor": "y",
         "domain": [
          0,
          1
         ],
         "title": {
          "text": "x"
         }
        },
        "yaxis": {
         "anchor": "x",
         "domain": [
          0,
          1
         ],
         "title": {
          "text": "y"
         }
        }
       }
      }
     },
     "metadata": {},
     "output_type": "display_data"
    },
    {
     "name": "stderr",
     "output_type": "stream",
     "text": [
      "/home/amysiak/thesis/env/lib/python3.8/site-packages/sklearn/manifold/_t_sne.py:800: FutureWarning:\n",
      "\n",
      "The default initialization in TSNE will change from 'random' to 'pca' in 1.2.\n",
      "\n",
      "/home/amysiak/thesis/env/lib/python3.8/site-packages/sklearn/manifold/_t_sne.py:810: FutureWarning:\n",
      "\n",
      "The default learning rate in TSNE will change from 200.0 to 'auto' in 1.2.\n",
      "\n"
     ]
    },
    {
     "data": {
      "application/vnd.plotly.v1+json": {
       "config": {
        "plotlyServerURL": "https://plot.ly"
       },
       "data": [
        {
         "customdata": [
          [
           "ar"
          ]
         ],
         "hovertemplate": "color=vso<br>symbol=afro-asiatic<br>x=%{x}<br>y=%{y}<br>hover_data_0=%{customdata[0]}<extra></extra>",
         "legendgroup": "vso, afro-asiatic",
         "marker": {
          "color": "#FD3216",
          "symbol": "circle-open"
         },
         "mode": "markers",
         "name": "vso, afro-asiatic",
         "orientation": "v",
         "showlegend": true,
         "type": "scatter",
         "x": [
          244.1942901611328
         ],
         "xaxis": "x",
         "y": [
          82.16307067871094
         ],
         "yaxis": "y"
        },
        {
         "customdata": [
          [
           "cy"
          ],
          [
           "ga"
          ]
         ],
         "hovertemplate": "color=vso<br>symbol=indo-european<br>x=%{x}<br>y=%{y}<br>hover_data_0=%{customdata[0]}<extra></extra>",
         "legendgroup": "vso, indo-european",
         "marker": {
          "color": "#FD3216",
          "symbol": "circle"
         },
         "mode": "markers",
         "name": "vso, indo-european",
         "orientation": "v",
         "showlegend": true,
         "type": "scatter",
         "x": [
          282.5115051269531,
          324.62890625
         ],
         "xaxis": "x",
         "y": [
          76.07715606689453,
          122.27643585205078
         ],
         "yaxis": "y"
        },
        {
         "customdata": [
          [
           "be"
          ],
          [
           "bg"
          ],
          [
           "cs"
          ],
          [
           "hr"
          ],
          [
           "pl"
          ],
          [
           "ru"
          ],
          [
           "slk"
          ],
          [
           "slv"
          ],
          [
           "uk"
          ]
         ],
         "hovertemplate": "color=slavic<br>symbol=indo-european<br>x=%{x}<br>y=%{y}<br>hover_data_0=%{customdata[0]}<extra></extra>",
         "legendgroup": "slavic, indo-european",
         "marker": {
          "color": "#00FE35",
          "symbol": "circle"
         },
         "mode": "markers",
         "name": "slavic, indo-european",
         "orientation": "v",
         "showlegend": true,
         "type": "scatter",
         "x": [
          -377.1715393066406,
          -343.689697265625,
          -315.1922912597656,
          -302.6953430175781,
          -458.74163818359375,
          -383.2391357421875,
          -493.0018310546875,
          -264.3845520019531,
          -417.6699523925781
         ],
         "xaxis": "x",
         "y": [
          -77.61283874511719,
          -0.16056901216506958,
          -56.630008697509766,
          -16.878520965576172,
          -5.657083034515381,
          -26.307682037353516,
          -30.389604568481445,
          -33.256568908691406,
          -36.281742095947266
         ],
         "yaxis": "y"
        },
        {
         "customdata": [
          [
           "de"
          ],
          [
           "en"
          ],
          [
           "es"
          ],
          [
           "fr"
          ],
          [
           "lt"
          ],
          [
           "lv"
          ],
          [
           "nl"
          ]
         ],
         "hovertemplate": "color=svo<br>symbol=indo-european<br>x=%{x}<br>y=%{y}<br>hover_data_0=%{customdata[0]}<extra></extra>",
         "legendgroup": "svo, indo-european",
         "marker": {
          "color": "#6A76FC",
          "symbol": "circle"
         },
         "mode": "markers",
         "name": "svo, indo-european",
         "orientation": "v",
         "showlegend": true,
         "type": "scatter",
         "x": [
          -29.894275665283203,
          363.7754211425781,
          225.7555389404297,
          241.70237731933594,
          96.02603912353516,
          83.1958999633789,
          -23.809476852416992
         ],
         "xaxis": "x",
         "y": [
          -63.218162536621094,
          90.68256378173828,
          167.17526245117188,
          198.2589111328125,
          -25.307785034179688,
          5.749241828918457,
          -31.15460205078125
         ],
         "yaxis": "y"
        },
        {
         "customdata": [
          [
           "fi"
          ]
         ],
         "hovertemplate": "color=svo<br>symbol=uralic<br>x=%{x}<br>y=%{y}<br>hover_data_0=%{customdata[0]}<extra></extra>",
         "legendgroup": "svo, uralic",
         "marker": {
          "color": "#6A76FC",
          "symbol": "circle-open-dot"
         },
         "mode": "markers",
         "name": "svo, uralic",
         "orientation": "v",
         "showlegend": true,
         "type": "scatter",
         "x": [
          140.90065002441406
         ],
         "xaxis": "x",
         "y": [
          5.359218597412109
         ],
         "yaxis": "y"
        },
        {
         "customdata": [
          [
           "id"
          ]
         ],
         "hovertemplate": "color=svo<br>symbol=austronesian<br>x=%{x}<br>y=%{y}<br>hover_data_0=%{customdata[0]}<extra></extra>",
         "legendgroup": "svo, austronesian",
         "marker": {
          "color": "#6A76FC",
          "symbol": "square"
         },
         "mode": "markers",
         "name": "svo, austronesian",
         "orientation": "v",
         "showlegend": true,
         "type": "scatter",
         "x": [
          277.6893310546875
         ],
         "xaxis": "x",
         "y": [
          116.18891906738281
         ],
         "yaxis": "y"
        },
        {
         "customdata": [
          [
           "zh"
          ]
         ],
         "hovertemplate": "color=svo<br>symbol=sino-tibetan<br>x=%{x}<br>y=%{y}<br>hover_data_0=%{customdata[0]}<extra></extra>",
         "legendgroup": "svo, sino-tibetan",
         "marker": {
          "color": "#6A76FC",
          "symbol": "star"
         },
         "mode": "markers",
         "name": "svo, sino-tibetan",
         "orientation": "v",
         "showlegend": true,
         "type": "scatter",
         "x": [
          436.084228515625
         ],
         "xaxis": "x",
         "y": [
          189.43067932128906
         ],
         "yaxis": "y"
        },
        {
         "customdata": [
          [
           "fa"
          ],
          [
           "hy"
          ]
         ],
         "hovertemplate": "color=sov<br>symbol=indo-european<br>x=%{x}<br>y=%{y}<br>hover_data_0=%{customdata[0]}<extra></extra>",
         "legendgroup": "sov, indo-european",
         "marker": {
          "color": "#FED4C4",
          "symbol": "circle"
         },
         "mode": "markers",
         "name": "sov, indo-european",
         "orientation": "v",
         "showlegend": true,
         "type": "scatter",
         "x": [
          394.5295104980469,
          169.98643493652344
         ],
         "xaxis": "x",
         "y": [
          173.29344177246094,
          -18.555519104003906
         ],
         "yaxis": "y"
        },
        {
         "customdata": [
          [
           "ja"
          ]
         ],
         "hovertemplate": "color=sov<br>symbol=japonic<br>x=%{x}<br>y=%{y}<br>hover_data_0=%{customdata[0]}<extra></extra>",
         "legendgroup": "sov, japonic",
         "marker": {
          "color": "#FED4C4",
          "symbol": "diamond"
         },
         "mode": "markers",
         "name": "sov, japonic",
         "orientation": "v",
         "showlegend": true,
         "type": "scatter",
         "x": [
          469.675537109375
         ],
         "xaxis": "x",
         "y": [
          181.51808166503906
         ],
         "yaxis": "y"
        },
        {
         "customdata": [
          [
           "ko"
          ]
         ],
         "hovertemplate": "color=sov<br>symbol=koreanic<br>x=%{x}<br>y=%{y}<br>hover_data_0=%{customdata[0]}<extra></extra>",
         "legendgroup": "sov, koreanic",
         "marker": {
          "color": "#FED4C4",
          "symbol": "x"
         },
         "mode": "markers",
         "name": "sov, koreanic",
         "orientation": "v",
         "showlegend": true,
         "type": "scatter",
         "x": [
          192.7032470703125
         ],
         "xaxis": "x",
         "y": [
          -69.06900024414062
         ],
         "yaxis": "y"
        },
        {
         "customdata": [
          [
           "tr"
          ]
         ],
         "hovertemplate": "color=sov<br>symbol=turkic<br>x=%{x}<br>y=%{y}<br>hover_data_0=%{customdata[0]}<extra></extra>",
         "legendgroup": "sov, turkic",
         "marker": {
          "color": "#FED4C4",
          "symbol": "triangle-up"
         },
         "mode": "markers",
         "name": "sov, turkic",
         "orientation": "v",
         "showlegend": true,
         "type": "scatter",
         "x": [
          159.88873291015625
         ],
         "xaxis": "x",
         "y": [
          -94.10075378417969
         ],
         "yaxis": "y"
        }
       ],
       "layout": {
        "legend": {
         "title": {
          "text": "color, symbol"
         },
         "tracegroupgap": 0
        },
        "template": {
         "data": {
          "bar": [
           {
            "error_x": {
             "color": "#2a3f5f"
            },
            "error_y": {
             "color": "#2a3f5f"
            },
            "marker": {
             "line": {
              "color": "#E5ECF6",
              "width": 0.5
             },
             "pattern": {
              "fillmode": "overlay",
              "size": 10,
              "solidity": 0.2
             }
            },
            "type": "bar"
           }
          ],
          "barpolar": [
           {
            "marker": {
             "line": {
              "color": "#E5ECF6",
              "width": 0.5
             },
             "pattern": {
              "fillmode": "overlay",
              "size": 10,
              "solidity": 0.2
             }
            },
            "type": "barpolar"
           }
          ],
          "carpet": [
           {
            "aaxis": {
             "endlinecolor": "#2a3f5f",
             "gridcolor": "white",
             "linecolor": "white",
             "minorgridcolor": "white",
             "startlinecolor": "#2a3f5f"
            },
            "baxis": {
             "endlinecolor": "#2a3f5f",
             "gridcolor": "white",
             "linecolor": "white",
             "minorgridcolor": "white",
             "startlinecolor": "#2a3f5f"
            },
            "type": "carpet"
           }
          ],
          "choropleth": [
           {
            "colorbar": {
             "outlinewidth": 0,
             "ticks": ""
            },
            "type": "choropleth"
           }
          ],
          "contour": [
           {
            "colorbar": {
             "outlinewidth": 0,
             "ticks": ""
            },
            "colorscale": [
             [
              0,
              "#0d0887"
             ],
             [
              0.1111111111111111,
              "#46039f"
             ],
             [
              0.2222222222222222,
              "#7201a8"
             ],
             [
              0.3333333333333333,
              "#9c179e"
             ],
             [
              0.4444444444444444,
              "#bd3786"
             ],
             [
              0.5555555555555556,
              "#d8576b"
             ],
             [
              0.6666666666666666,
              "#ed7953"
             ],
             [
              0.7777777777777778,
              "#fb9f3a"
             ],
             [
              0.8888888888888888,
              "#fdca26"
             ],
             [
              1,
              "#f0f921"
             ]
            ],
            "type": "contour"
           }
          ],
          "contourcarpet": [
           {
            "colorbar": {
             "outlinewidth": 0,
             "ticks": ""
            },
            "type": "contourcarpet"
           }
          ],
          "heatmap": [
           {
            "colorbar": {
             "outlinewidth": 0,
             "ticks": ""
            },
            "colorscale": [
             [
              0,
              "#0d0887"
             ],
             [
              0.1111111111111111,
              "#46039f"
             ],
             [
              0.2222222222222222,
              "#7201a8"
             ],
             [
              0.3333333333333333,
              "#9c179e"
             ],
             [
              0.4444444444444444,
              "#bd3786"
             ],
             [
              0.5555555555555556,
              "#d8576b"
             ],
             [
              0.6666666666666666,
              "#ed7953"
             ],
             [
              0.7777777777777778,
              "#fb9f3a"
             ],
             [
              0.8888888888888888,
              "#fdca26"
             ],
             [
              1,
              "#f0f921"
             ]
            ],
            "type": "heatmap"
           }
          ],
          "heatmapgl": [
           {
            "colorbar": {
             "outlinewidth": 0,
             "ticks": ""
            },
            "colorscale": [
             [
              0,
              "#0d0887"
             ],
             [
              0.1111111111111111,
              "#46039f"
             ],
             [
              0.2222222222222222,
              "#7201a8"
             ],
             [
              0.3333333333333333,
              "#9c179e"
             ],
             [
              0.4444444444444444,
              "#bd3786"
             ],
             [
              0.5555555555555556,
              "#d8576b"
             ],
             [
              0.6666666666666666,
              "#ed7953"
             ],
             [
              0.7777777777777778,
              "#fb9f3a"
             ],
             [
              0.8888888888888888,
              "#fdca26"
             ],
             [
              1,
              "#f0f921"
             ]
            ],
            "type": "heatmapgl"
           }
          ],
          "histogram": [
           {
            "marker": {
             "pattern": {
              "fillmode": "overlay",
              "size": 10,
              "solidity": 0.2
             }
            },
            "type": "histogram"
           }
          ],
          "histogram2d": [
           {
            "colorbar": {
             "outlinewidth": 0,
             "ticks": ""
            },
            "colorscale": [
             [
              0,
              "#0d0887"
             ],
             [
              0.1111111111111111,
              "#46039f"
             ],
             [
              0.2222222222222222,
              "#7201a8"
             ],
             [
              0.3333333333333333,
              "#9c179e"
             ],
             [
              0.4444444444444444,
              "#bd3786"
             ],
             [
              0.5555555555555556,
              "#d8576b"
             ],
             [
              0.6666666666666666,
              "#ed7953"
             ],
             [
              0.7777777777777778,
              "#fb9f3a"
             ],
             [
              0.8888888888888888,
              "#fdca26"
             ],
             [
              1,
              "#f0f921"
             ]
            ],
            "type": "histogram2d"
           }
          ],
          "histogram2dcontour": [
           {
            "colorbar": {
             "outlinewidth": 0,
             "ticks": ""
            },
            "colorscale": [
             [
              0,
              "#0d0887"
             ],
             [
              0.1111111111111111,
              "#46039f"
             ],
             [
              0.2222222222222222,
              "#7201a8"
             ],
             [
              0.3333333333333333,
              "#9c179e"
             ],
             [
              0.4444444444444444,
              "#bd3786"
             ],
             [
              0.5555555555555556,
              "#d8576b"
             ],
             [
              0.6666666666666666,
              "#ed7953"
             ],
             [
              0.7777777777777778,
              "#fb9f3a"
             ],
             [
              0.8888888888888888,
              "#fdca26"
             ],
             [
              1,
              "#f0f921"
             ]
            ],
            "type": "histogram2dcontour"
           }
          ],
          "mesh3d": [
           {
            "colorbar": {
             "outlinewidth": 0,
             "ticks": ""
            },
            "type": "mesh3d"
           }
          ],
          "parcoords": [
           {
            "line": {
             "colorbar": {
              "outlinewidth": 0,
              "ticks": ""
             }
            },
            "type": "parcoords"
           }
          ],
          "pie": [
           {
            "automargin": true,
            "type": "pie"
           }
          ],
          "scatter": [
           {
            "fillpattern": {
             "fillmode": "overlay",
             "size": 10,
             "solidity": 0.2
            },
            "type": "scatter"
           }
          ],
          "scatter3d": [
           {
            "line": {
             "colorbar": {
              "outlinewidth": 0,
              "ticks": ""
             }
            },
            "marker": {
             "colorbar": {
              "outlinewidth": 0,
              "ticks": ""
             }
            },
            "type": "scatter3d"
           }
          ],
          "scattercarpet": [
           {
            "marker": {
             "colorbar": {
              "outlinewidth": 0,
              "ticks": ""
             }
            },
            "type": "scattercarpet"
           }
          ],
          "scattergeo": [
           {
            "marker": {
             "colorbar": {
              "outlinewidth": 0,
              "ticks": ""
             }
            },
            "type": "scattergeo"
           }
          ],
          "scattergl": [
           {
            "marker": {
             "colorbar": {
              "outlinewidth": 0,
              "ticks": ""
             }
            },
            "type": "scattergl"
           }
          ],
          "scattermapbox": [
           {
            "marker": {
             "colorbar": {
              "outlinewidth": 0,
              "ticks": ""
             }
            },
            "type": "scattermapbox"
           }
          ],
          "scatterpolar": [
           {
            "marker": {
             "colorbar": {
              "outlinewidth": 0,
              "ticks": ""
             }
            },
            "type": "scatterpolar"
           }
          ],
          "scatterpolargl": [
           {
            "marker": {
             "colorbar": {
              "outlinewidth": 0,
              "ticks": ""
             }
            },
            "type": "scatterpolargl"
           }
          ],
          "scatterternary": [
           {
            "marker": {
             "colorbar": {
              "outlinewidth": 0,
              "ticks": ""
             }
            },
            "type": "scatterternary"
           }
          ],
          "surface": [
           {
            "colorbar": {
             "outlinewidth": 0,
             "ticks": ""
            },
            "colorscale": [
             [
              0,
              "#0d0887"
             ],
             [
              0.1111111111111111,
              "#46039f"
             ],
             [
              0.2222222222222222,
              "#7201a8"
             ],
             [
              0.3333333333333333,
              "#9c179e"
             ],
             [
              0.4444444444444444,
              "#bd3786"
             ],
             [
              0.5555555555555556,
              "#d8576b"
             ],
             [
              0.6666666666666666,
              "#ed7953"
             ],
             [
              0.7777777777777778,
              "#fb9f3a"
             ],
             [
              0.8888888888888888,
              "#fdca26"
             ],
             [
              1,
              "#f0f921"
             ]
            ],
            "type": "surface"
           }
          ],
          "table": [
           {
            "cells": {
             "fill": {
              "color": "#EBF0F8"
             },
             "line": {
              "color": "white"
             }
            },
            "header": {
             "fill": {
              "color": "#C8D4E3"
             },
             "line": {
              "color": "white"
             }
            },
            "type": "table"
           }
          ]
         },
         "layout": {
          "annotationdefaults": {
           "arrowcolor": "#2a3f5f",
           "arrowhead": 0,
           "arrowwidth": 1
          },
          "autotypenumbers": "strict",
          "coloraxis": {
           "colorbar": {
            "outlinewidth": 0,
            "ticks": ""
           }
          },
          "colorscale": {
           "diverging": [
            [
             0,
             "#8e0152"
            ],
            [
             0.1,
             "#c51b7d"
            ],
            [
             0.2,
             "#de77ae"
            ],
            [
             0.3,
             "#f1b6da"
            ],
            [
             0.4,
             "#fde0ef"
            ],
            [
             0.5,
             "#f7f7f7"
            ],
            [
             0.6,
             "#e6f5d0"
            ],
            [
             0.7,
             "#b8e186"
            ],
            [
             0.8,
             "#7fbc41"
            ],
            [
             0.9,
             "#4d9221"
            ],
            [
             1,
             "#276419"
            ]
           ],
           "sequential": [
            [
             0,
             "#0d0887"
            ],
            [
             0.1111111111111111,
             "#46039f"
            ],
            [
             0.2222222222222222,
             "#7201a8"
            ],
            [
             0.3333333333333333,
             "#9c179e"
            ],
            [
             0.4444444444444444,
             "#bd3786"
            ],
            [
             0.5555555555555556,
             "#d8576b"
            ],
            [
             0.6666666666666666,
             "#ed7953"
            ],
            [
             0.7777777777777778,
             "#fb9f3a"
            ],
            [
             0.8888888888888888,
             "#fdca26"
            ],
            [
             1,
             "#f0f921"
            ]
           ],
           "sequentialminus": [
            [
             0,
             "#0d0887"
            ],
            [
             0.1111111111111111,
             "#46039f"
            ],
            [
             0.2222222222222222,
             "#7201a8"
            ],
            [
             0.3333333333333333,
             "#9c179e"
            ],
            [
             0.4444444444444444,
             "#bd3786"
            ],
            [
             0.5555555555555556,
             "#d8576b"
            ],
            [
             0.6666666666666666,
             "#ed7953"
            ],
            [
             0.7777777777777778,
             "#fb9f3a"
            ],
            [
             0.8888888888888888,
             "#fdca26"
            ],
            [
             1,
             "#f0f921"
            ]
           ]
          },
          "colorway": [
           "#636efa",
           "#EF553B",
           "#00cc96",
           "#ab63fa",
           "#FFA15A",
           "#19d3f3",
           "#FF6692",
           "#B6E880",
           "#FF97FF",
           "#FECB52"
          ],
          "font": {
           "color": "#2a3f5f"
          },
          "geo": {
           "bgcolor": "white",
           "lakecolor": "white",
           "landcolor": "#E5ECF6",
           "showlakes": true,
           "showland": true,
           "subunitcolor": "white"
          },
          "hoverlabel": {
           "align": "left"
          },
          "hovermode": "closest",
          "mapbox": {
           "style": "light"
          },
          "paper_bgcolor": "white",
          "plot_bgcolor": "#E5ECF6",
          "polar": {
           "angularaxis": {
            "gridcolor": "white",
            "linecolor": "white",
            "ticks": ""
           },
           "bgcolor": "#E5ECF6",
           "radialaxis": {
            "gridcolor": "white",
            "linecolor": "white",
            "ticks": ""
           }
          },
          "scene": {
           "xaxis": {
            "backgroundcolor": "#E5ECF6",
            "gridcolor": "white",
            "gridwidth": 2,
            "linecolor": "white",
            "showbackground": true,
            "ticks": "",
            "zerolinecolor": "white"
           },
           "yaxis": {
            "backgroundcolor": "#E5ECF6",
            "gridcolor": "white",
            "gridwidth": 2,
            "linecolor": "white",
            "showbackground": true,
            "ticks": "",
            "zerolinecolor": "white"
           },
           "zaxis": {
            "backgroundcolor": "#E5ECF6",
            "gridcolor": "white",
            "gridwidth": 2,
            "linecolor": "white",
            "showbackground": true,
            "ticks": "",
            "zerolinecolor": "white"
           }
          },
          "shapedefaults": {
           "line": {
            "color": "#2a3f5f"
           }
          },
          "ternary": {
           "aaxis": {
            "gridcolor": "white",
            "linecolor": "white",
            "ticks": ""
           },
           "baxis": {
            "gridcolor": "white",
            "linecolor": "white",
            "ticks": ""
           },
           "bgcolor": "#E5ECF6",
           "caxis": {
            "gridcolor": "white",
            "linecolor": "white",
            "ticks": ""
           }
          },
          "title": {
           "x": 0.05
          },
          "xaxis": {
           "automargin": true,
           "gridcolor": "white",
           "linecolor": "white",
           "ticks": "",
           "title": {
            "standoff": 15
           },
           "zerolinecolor": "white",
           "zerolinewidth": 2
          },
          "yaxis": {
           "automargin": true,
           "gridcolor": "white",
           "linecolor": "white",
           "ticks": "",
           "title": {
            "standoff": 15
           },
           "zerolinecolor": "white",
           "zerolinewidth": 2
          }
         }
        },
        "title": {
         "text": "perplexity 5"
        },
        "xaxis": {
         "anchor": "y",
         "domain": [
          0,
          1
         ],
         "title": {
          "text": "x"
         }
        },
        "yaxis": {
         "anchor": "x",
         "domain": [
          0,
          1
         ],
         "title": {
          "text": "y"
         }
        }
       }
      }
     },
     "metadata": {},
     "output_type": "display_data"
    },
    {
     "name": "stderr",
     "output_type": "stream",
     "text": [
      "/home/amysiak/thesis/env/lib/python3.8/site-packages/sklearn/manifold/_t_sne.py:800: FutureWarning:\n",
      "\n",
      "The default initialization in TSNE will change from 'random' to 'pca' in 1.2.\n",
      "\n",
      "/home/amysiak/thesis/env/lib/python3.8/site-packages/sklearn/manifold/_t_sne.py:810: FutureWarning:\n",
      "\n",
      "The default learning rate in TSNE will change from 200.0 to 'auto' in 1.2.\n",
      "\n"
     ]
    },
    {
     "data": {
      "application/vnd.plotly.v1+json": {
       "config": {
        "plotlyServerURL": "https://plot.ly"
       },
       "data": [
        {
         "customdata": [
          [
           "ar"
          ]
         ],
         "hovertemplate": "color=vso<br>symbol=afro-asiatic<br>x=%{x}<br>y=%{y}<br>hover_data_0=%{customdata[0]}<extra></extra>",
         "legendgroup": "vso, afro-asiatic",
         "marker": {
          "color": "#FD3216",
          "symbol": "circle-open"
         },
         "mode": "markers",
         "name": "vso, afro-asiatic",
         "orientation": "v",
         "showlegend": true,
         "type": "scatter",
         "x": [
          321.3232116699219
         ],
         "xaxis": "x",
         "y": [
          -68.49798583984375
         ],
         "yaxis": "y"
        },
        {
         "customdata": [
          [
           "cy"
          ],
          [
           "ga"
          ]
         ],
         "hovertemplate": "color=vso<br>symbol=indo-european<br>x=%{x}<br>y=%{y}<br>hover_data_0=%{customdata[0]}<extra></extra>",
         "legendgroup": "vso, indo-european",
         "marker": {
          "color": "#FD3216",
          "symbol": "circle"
         },
         "mode": "markers",
         "name": "vso, indo-european",
         "orientation": "v",
         "showlegend": true,
         "type": "scatter",
         "x": [
          381.1590576171875,
          426.24163818359375
         ],
         "xaxis": "x",
         "y": [
          -66.71263885498047,
          -1.0155212879180908
         ],
         "yaxis": "y"
        },
        {
         "customdata": [
          [
           "be"
          ],
          [
           "bg"
          ],
          [
           "cs"
          ],
          [
           "hr"
          ],
          [
           "pl"
          ],
          [
           "ru"
          ],
          [
           "slk"
          ],
          [
           "slv"
          ],
          [
           "uk"
          ]
         ],
         "hovertemplate": "color=slavic<br>symbol=indo-european<br>x=%{x}<br>y=%{y}<br>hover_data_0=%{customdata[0]}<extra></extra>",
         "legendgroup": "slavic, indo-european",
         "marker": {
          "color": "#00FE35",
          "symbol": "circle"
         },
         "mode": "markers",
         "name": "slavic, indo-european",
         "orientation": "v",
         "showlegend": true,
         "type": "scatter",
         "x": [
          -324.9947509765625,
          -287.475341796875,
          -278.6466064453125,
          -231.2888946533203,
          -441.3895263671875,
          -361.1205139160156,
          -431.9156494140625,
          -199.69837951660156,
          -366.9285583496094
         ],
         "xaxis": "x",
         "y": [
          -136.43099975585938,
          -3.793635368347168,
          -69.36279296875,
          -108.06580352783203,
          1.7076042890548706,
          -71.10308837890625,
          67.75415802001953,
          -49.50336837768555,
          -14.029181480407715
         ],
         "yaxis": "y"
        },
        {
         "customdata": [
          [
           "de"
          ],
          [
           "en"
          ],
          [
           "es"
          ],
          [
           "fr"
          ],
          [
           "lt"
          ],
          [
           "lv"
          ],
          [
           "nl"
          ]
         ],
         "hovertemplate": "color=svo<br>symbol=indo-european<br>x=%{x}<br>y=%{y}<br>hover_data_0=%{customdata[0]}<extra></extra>",
         "legendgroup": "svo, indo-european",
         "marker": {
          "color": "#6A76FC",
          "symbol": "circle"
         },
         "mode": "markers",
         "name": "svo, indo-european",
         "orientation": "v",
         "showlegend": true,
         "type": "scatter",
         "x": [
          391.3486633300781,
          454.7214050292969,
          333.3710021972656,
          279.74481201171875,
          45.66367721557617,
          43.3482780456543,
          367.4125061035156
         ],
         "xaxis": "x",
         "y": [
          215.3133087158203,
          69.87926483154297,
          77.46258544921875,
          65.66223907470703,
          -187.705078125,
          -238.69769287109375,
          170.8948211669922
         ],
         "yaxis": "y"
        },
        {
         "customdata": [
          [
           "fi"
          ]
         ],
         "hovertemplate": "color=svo<br>symbol=uralic<br>x=%{x}<br>y=%{y}<br>hover_data_0=%{customdata[0]}<extra></extra>",
         "legendgroup": "svo, uralic",
         "marker": {
          "color": "#6A76FC",
          "symbol": "circle-open-dot"
         },
         "mode": "markers",
         "name": "svo, uralic",
         "orientation": "v",
         "showlegend": true,
         "type": "scatter",
         "x": [
          122.17863464355469
         ],
         "xaxis": "x",
         "y": [
          -188.91360473632812
         ],
         "yaxis": "y"
        },
        {
         "customdata": [
          [
           "id"
          ]
         ],
         "hovertemplate": "color=svo<br>symbol=austronesian<br>x=%{x}<br>y=%{y}<br>hover_data_0=%{customdata[0]}<extra></extra>",
         "legendgroup": "svo, austronesian",
         "marker": {
          "color": "#6A76FC",
          "symbol": "square"
         },
         "mode": "markers",
         "name": "svo, austronesian",
         "orientation": "v",
         "showlegend": true,
         "type": "scatter",
         "x": [
          358.01129150390625
         ],
         "xaxis": "x",
         "y": [
          -9.548200607299805
         ],
         "yaxis": "y"
        },
        {
         "customdata": [
          [
           "zh"
          ]
         ],
         "hovertemplate": "color=svo<br>symbol=sino-tibetan<br>x=%{x}<br>y=%{y}<br>hover_data_0=%{customdata[0]}<extra></extra>",
         "legendgroup": "svo, sino-tibetan",
         "marker": {
          "color": "#6A76FC",
          "symbol": "star"
         },
         "mode": "markers",
         "name": "svo, sino-tibetan",
         "orientation": "v",
         "showlegend": true,
         "type": "scatter",
         "x": [
          215.36643981933594
         ],
         "xaxis": "x",
         "y": [
          350.76617431640625
         ],
         "yaxis": "y"
        },
        {
         "customdata": [
          [
           "fa"
          ],
          [
           "hy"
          ]
         ],
         "hovertemplate": "color=sov<br>symbol=indo-european<br>x=%{x}<br>y=%{y}<br>hover_data_0=%{customdata[0]}<extra></extra>",
         "legendgroup": "sov, indo-european",
         "marker": {
          "color": "#FED4C4",
          "symbol": "circle"
         },
         "mode": "markers",
         "name": "sov, indo-european",
         "orientation": "v",
         "showlegend": true,
         "type": "scatter",
         "x": [
          220.52932739257812,
          176.90821838378906
         ],
         "xaxis": "x",
         "y": [
          283.74163818359375,
          -207.44232177734375
         ],
         "yaxis": "y"
        },
        {
         "customdata": [
          [
           "ja"
          ]
         ],
         "hovertemplate": "color=sov<br>symbol=japonic<br>x=%{x}<br>y=%{y}<br>hover_data_0=%{customdata[0]}<extra></extra>",
         "legendgroup": "sov, japonic",
         "marker": {
          "color": "#FED4C4",
          "symbol": "diamond"
         },
         "mode": "markers",
         "name": "sov, japonic",
         "orientation": "v",
         "showlegend": true,
         "type": "scatter",
         "x": [
          170.77975463867188
         ],
         "xaxis": "x",
         "y": [
          378.8580627441406
         ],
         "yaxis": "y"
        },
        {
         "customdata": [
          [
           "ko"
          ]
         ],
         "hovertemplate": "color=sov<br>symbol=koreanic<br>x=%{x}<br>y=%{y}<br>hover_data_0=%{customdata[0]}<extra></extra>",
         "legendgroup": "sov, koreanic",
         "marker": {
          "color": "#FED4C4",
          "symbol": "x"
         },
         "mode": "markers",
         "name": "sov, koreanic",
         "orientation": "v",
         "showlegend": true,
         "type": "scatter",
         "x": [
          212.84288024902344
         ],
         "xaxis": "x",
         "y": [
          -281.3136901855469
         ],
         "yaxis": "y"
        },
        {
         "customdata": [
          [
           "tr"
          ]
         ],
         "hovertemplate": "color=sov<br>symbol=turkic<br>x=%{x}<br>y=%{y}<br>hover_data_0=%{customdata[0]}<extra></extra>",
         "legendgroup": "sov, turkic",
         "marker": {
          "color": "#FED4C4",
          "symbol": "triangle-up"
         },
         "mode": "markers",
         "name": "sov, turkic",
         "orientation": "v",
         "showlegend": true,
         "type": "scatter",
         "x": [
          162.10752868652344
         ],
         "xaxis": "x",
         "y": [
          -319.8724060058594
         ],
         "yaxis": "y"
        }
       ],
       "layout": {
        "legend": {
         "title": {
          "text": "color, symbol"
         },
         "tracegroupgap": 0
        },
        "template": {
         "data": {
          "bar": [
           {
            "error_x": {
             "color": "#2a3f5f"
            },
            "error_y": {
             "color": "#2a3f5f"
            },
            "marker": {
             "line": {
              "color": "#E5ECF6",
              "width": 0.5
             },
             "pattern": {
              "fillmode": "overlay",
              "size": 10,
              "solidity": 0.2
             }
            },
            "type": "bar"
           }
          ],
          "barpolar": [
           {
            "marker": {
             "line": {
              "color": "#E5ECF6",
              "width": 0.5
             },
             "pattern": {
              "fillmode": "overlay",
              "size": 10,
              "solidity": 0.2
             }
            },
            "type": "barpolar"
           }
          ],
          "carpet": [
           {
            "aaxis": {
             "endlinecolor": "#2a3f5f",
             "gridcolor": "white",
             "linecolor": "white",
             "minorgridcolor": "white",
             "startlinecolor": "#2a3f5f"
            },
            "baxis": {
             "endlinecolor": "#2a3f5f",
             "gridcolor": "white",
             "linecolor": "white",
             "minorgridcolor": "white",
             "startlinecolor": "#2a3f5f"
            },
            "type": "carpet"
           }
          ],
          "choropleth": [
           {
            "colorbar": {
             "outlinewidth": 0,
             "ticks": ""
            },
            "type": "choropleth"
           }
          ],
          "contour": [
           {
            "colorbar": {
             "outlinewidth": 0,
             "ticks": ""
            },
            "colorscale": [
             [
              0,
              "#0d0887"
             ],
             [
              0.1111111111111111,
              "#46039f"
             ],
             [
              0.2222222222222222,
              "#7201a8"
             ],
             [
              0.3333333333333333,
              "#9c179e"
             ],
             [
              0.4444444444444444,
              "#bd3786"
             ],
             [
              0.5555555555555556,
              "#d8576b"
             ],
             [
              0.6666666666666666,
              "#ed7953"
             ],
             [
              0.7777777777777778,
              "#fb9f3a"
             ],
             [
              0.8888888888888888,
              "#fdca26"
             ],
             [
              1,
              "#f0f921"
             ]
            ],
            "type": "contour"
           }
          ],
          "contourcarpet": [
           {
            "colorbar": {
             "outlinewidth": 0,
             "ticks": ""
            },
            "type": "contourcarpet"
           }
          ],
          "heatmap": [
           {
            "colorbar": {
             "outlinewidth": 0,
             "ticks": ""
            },
            "colorscale": [
             [
              0,
              "#0d0887"
             ],
             [
              0.1111111111111111,
              "#46039f"
             ],
             [
              0.2222222222222222,
              "#7201a8"
             ],
             [
              0.3333333333333333,
              "#9c179e"
             ],
             [
              0.4444444444444444,
              "#bd3786"
             ],
             [
              0.5555555555555556,
              "#d8576b"
             ],
             [
              0.6666666666666666,
              "#ed7953"
             ],
             [
              0.7777777777777778,
              "#fb9f3a"
             ],
             [
              0.8888888888888888,
              "#fdca26"
             ],
             [
              1,
              "#f0f921"
             ]
            ],
            "type": "heatmap"
           }
          ],
          "heatmapgl": [
           {
            "colorbar": {
             "outlinewidth": 0,
             "ticks": ""
            },
            "colorscale": [
             [
              0,
              "#0d0887"
             ],
             [
              0.1111111111111111,
              "#46039f"
             ],
             [
              0.2222222222222222,
              "#7201a8"
             ],
             [
              0.3333333333333333,
              "#9c179e"
             ],
             [
              0.4444444444444444,
              "#bd3786"
             ],
             [
              0.5555555555555556,
              "#d8576b"
             ],
             [
              0.6666666666666666,
              "#ed7953"
             ],
             [
              0.7777777777777778,
              "#fb9f3a"
             ],
             [
              0.8888888888888888,
              "#fdca26"
             ],
             [
              1,
              "#f0f921"
             ]
            ],
            "type": "heatmapgl"
           }
          ],
          "histogram": [
           {
            "marker": {
             "pattern": {
              "fillmode": "overlay",
              "size": 10,
              "solidity": 0.2
             }
            },
            "type": "histogram"
           }
          ],
          "histogram2d": [
           {
            "colorbar": {
             "outlinewidth": 0,
             "ticks": ""
            },
            "colorscale": [
             [
              0,
              "#0d0887"
             ],
             [
              0.1111111111111111,
              "#46039f"
             ],
             [
              0.2222222222222222,
              "#7201a8"
             ],
             [
              0.3333333333333333,
              "#9c179e"
             ],
             [
              0.4444444444444444,
              "#bd3786"
             ],
             [
              0.5555555555555556,
              "#d8576b"
             ],
             [
              0.6666666666666666,
              "#ed7953"
             ],
             [
              0.7777777777777778,
              "#fb9f3a"
             ],
             [
              0.8888888888888888,
              "#fdca26"
             ],
             [
              1,
              "#f0f921"
             ]
            ],
            "type": "histogram2d"
           }
          ],
          "histogram2dcontour": [
           {
            "colorbar": {
             "outlinewidth": 0,
             "ticks": ""
            },
            "colorscale": [
             [
              0,
              "#0d0887"
             ],
             [
              0.1111111111111111,
              "#46039f"
             ],
             [
              0.2222222222222222,
              "#7201a8"
             ],
             [
              0.3333333333333333,
              "#9c179e"
             ],
             [
              0.4444444444444444,
              "#bd3786"
             ],
             [
              0.5555555555555556,
              "#d8576b"
             ],
             [
              0.6666666666666666,
              "#ed7953"
             ],
             [
              0.7777777777777778,
              "#fb9f3a"
             ],
             [
              0.8888888888888888,
              "#fdca26"
             ],
             [
              1,
              "#f0f921"
             ]
            ],
            "type": "histogram2dcontour"
           }
          ],
          "mesh3d": [
           {
            "colorbar": {
             "outlinewidth": 0,
             "ticks": ""
            },
            "type": "mesh3d"
           }
          ],
          "parcoords": [
           {
            "line": {
             "colorbar": {
              "outlinewidth": 0,
              "ticks": ""
             }
            },
            "type": "parcoords"
           }
          ],
          "pie": [
           {
            "automargin": true,
            "type": "pie"
           }
          ],
          "scatter": [
           {
            "fillpattern": {
             "fillmode": "overlay",
             "size": 10,
             "solidity": 0.2
            },
            "type": "scatter"
           }
          ],
          "scatter3d": [
           {
            "line": {
             "colorbar": {
              "outlinewidth": 0,
              "ticks": ""
             }
            },
            "marker": {
             "colorbar": {
              "outlinewidth": 0,
              "ticks": ""
             }
            },
            "type": "scatter3d"
           }
          ],
          "scattercarpet": [
           {
            "marker": {
             "colorbar": {
              "outlinewidth": 0,
              "ticks": ""
             }
            },
            "type": "scattercarpet"
           }
          ],
          "scattergeo": [
           {
            "marker": {
             "colorbar": {
              "outlinewidth": 0,
              "ticks": ""
             }
            },
            "type": "scattergeo"
           }
          ],
          "scattergl": [
           {
            "marker": {
             "colorbar": {
              "outlinewidth": 0,
              "ticks": ""
             }
            },
            "type": "scattergl"
           }
          ],
          "scattermapbox": [
           {
            "marker": {
             "colorbar": {
              "outlinewidth": 0,
              "ticks": ""
             }
            },
            "type": "scattermapbox"
           }
          ],
          "scatterpolar": [
           {
            "marker": {
             "colorbar": {
              "outlinewidth": 0,
              "ticks": ""
             }
            },
            "type": "scatterpolar"
           }
          ],
          "scatterpolargl": [
           {
            "marker": {
             "colorbar": {
              "outlinewidth": 0,
              "ticks": ""
             }
            },
            "type": "scatterpolargl"
           }
          ],
          "scatterternary": [
           {
            "marker": {
             "colorbar": {
              "outlinewidth": 0,
              "ticks": ""
             }
            },
            "type": "scatterternary"
           }
          ],
          "surface": [
           {
            "colorbar": {
             "outlinewidth": 0,
             "ticks": ""
            },
            "colorscale": [
             [
              0,
              "#0d0887"
             ],
             [
              0.1111111111111111,
              "#46039f"
             ],
             [
              0.2222222222222222,
              "#7201a8"
             ],
             [
              0.3333333333333333,
              "#9c179e"
             ],
             [
              0.4444444444444444,
              "#bd3786"
             ],
             [
              0.5555555555555556,
              "#d8576b"
             ],
             [
              0.6666666666666666,
              "#ed7953"
             ],
             [
              0.7777777777777778,
              "#fb9f3a"
             ],
             [
              0.8888888888888888,
              "#fdca26"
             ],
             [
              1,
              "#f0f921"
             ]
            ],
            "type": "surface"
           }
          ],
          "table": [
           {
            "cells": {
             "fill": {
              "color": "#EBF0F8"
             },
             "line": {
              "color": "white"
             }
            },
            "header": {
             "fill": {
              "color": "#C8D4E3"
             },
             "line": {
              "color": "white"
             }
            },
            "type": "table"
           }
          ]
         },
         "layout": {
          "annotationdefaults": {
           "arrowcolor": "#2a3f5f",
           "arrowhead": 0,
           "arrowwidth": 1
          },
          "autotypenumbers": "strict",
          "coloraxis": {
           "colorbar": {
            "outlinewidth": 0,
            "ticks": ""
           }
          },
          "colorscale": {
           "diverging": [
            [
             0,
             "#8e0152"
            ],
            [
             0.1,
             "#c51b7d"
            ],
            [
             0.2,
             "#de77ae"
            ],
            [
             0.3,
             "#f1b6da"
            ],
            [
             0.4,
             "#fde0ef"
            ],
            [
             0.5,
             "#f7f7f7"
            ],
            [
             0.6,
             "#e6f5d0"
            ],
            [
             0.7,
             "#b8e186"
            ],
            [
             0.8,
             "#7fbc41"
            ],
            [
             0.9,
             "#4d9221"
            ],
            [
             1,
             "#276419"
            ]
           ],
           "sequential": [
            [
             0,
             "#0d0887"
            ],
            [
             0.1111111111111111,
             "#46039f"
            ],
            [
             0.2222222222222222,
             "#7201a8"
            ],
            [
             0.3333333333333333,
             "#9c179e"
            ],
            [
             0.4444444444444444,
             "#bd3786"
            ],
            [
             0.5555555555555556,
             "#d8576b"
            ],
            [
             0.6666666666666666,
             "#ed7953"
            ],
            [
             0.7777777777777778,
             "#fb9f3a"
            ],
            [
             0.8888888888888888,
             "#fdca26"
            ],
            [
             1,
             "#f0f921"
            ]
           ],
           "sequentialminus": [
            [
             0,
             "#0d0887"
            ],
            [
             0.1111111111111111,
             "#46039f"
            ],
            [
             0.2222222222222222,
             "#7201a8"
            ],
            [
             0.3333333333333333,
             "#9c179e"
            ],
            [
             0.4444444444444444,
             "#bd3786"
            ],
            [
             0.5555555555555556,
             "#d8576b"
            ],
            [
             0.6666666666666666,
             "#ed7953"
            ],
            [
             0.7777777777777778,
             "#fb9f3a"
            ],
            [
             0.8888888888888888,
             "#fdca26"
            ],
            [
             1,
             "#f0f921"
            ]
           ]
          },
          "colorway": [
           "#636efa",
           "#EF553B",
           "#00cc96",
           "#ab63fa",
           "#FFA15A",
           "#19d3f3",
           "#FF6692",
           "#B6E880",
           "#FF97FF",
           "#FECB52"
          ],
          "font": {
           "color": "#2a3f5f"
          },
          "geo": {
           "bgcolor": "white",
           "lakecolor": "white",
           "landcolor": "#E5ECF6",
           "showlakes": true,
           "showland": true,
           "subunitcolor": "white"
          },
          "hoverlabel": {
           "align": "left"
          },
          "hovermode": "closest",
          "mapbox": {
           "style": "light"
          },
          "paper_bgcolor": "white",
          "plot_bgcolor": "#E5ECF6",
          "polar": {
           "angularaxis": {
            "gridcolor": "white",
            "linecolor": "white",
            "ticks": ""
           },
           "bgcolor": "#E5ECF6",
           "radialaxis": {
            "gridcolor": "white",
            "linecolor": "white",
            "ticks": ""
           }
          },
          "scene": {
           "xaxis": {
            "backgroundcolor": "#E5ECF6",
            "gridcolor": "white",
            "gridwidth": 2,
            "linecolor": "white",
            "showbackground": true,
            "ticks": "",
            "zerolinecolor": "white"
           },
           "yaxis": {
            "backgroundcolor": "#E5ECF6",
            "gridcolor": "white",
            "gridwidth": 2,
            "linecolor": "white",
            "showbackground": true,
            "ticks": "",
            "zerolinecolor": "white"
           },
           "zaxis": {
            "backgroundcolor": "#E5ECF6",
            "gridcolor": "white",
            "gridwidth": 2,
            "linecolor": "white",
            "showbackground": true,
            "ticks": "",
            "zerolinecolor": "white"
           }
          },
          "shapedefaults": {
           "line": {
            "color": "#2a3f5f"
           }
          },
          "ternary": {
           "aaxis": {
            "gridcolor": "white",
            "linecolor": "white",
            "ticks": ""
           },
           "baxis": {
            "gridcolor": "white",
            "linecolor": "white",
            "ticks": ""
           },
           "bgcolor": "#E5ECF6",
           "caxis": {
            "gridcolor": "white",
            "linecolor": "white",
            "ticks": ""
           }
          },
          "title": {
           "x": 0.05
          },
          "xaxis": {
           "automargin": true,
           "gridcolor": "white",
           "linecolor": "white",
           "ticks": "",
           "title": {
            "standoff": 15
           },
           "zerolinecolor": "white",
           "zerolinewidth": 2
          },
          "yaxis": {
           "automargin": true,
           "gridcolor": "white",
           "linecolor": "white",
           "ticks": "",
           "title": {
            "standoff": 15
           },
           "zerolinecolor": "white",
           "zerolinewidth": 2
          }
         }
        },
        "title": {
         "text": "perplexity 6"
        },
        "xaxis": {
         "anchor": "y",
         "domain": [
          0,
          1
         ],
         "title": {
          "text": "x"
         }
        },
        "yaxis": {
         "anchor": "x",
         "domain": [
          0,
          1
         ],
         "title": {
          "text": "y"
         }
        }
       }
      }
     },
     "metadata": {},
     "output_type": "display_data"
    },
    {
     "name": "stderr",
     "output_type": "stream",
     "text": [
      "/home/amysiak/thesis/env/lib/python3.8/site-packages/sklearn/manifold/_t_sne.py:800: FutureWarning:\n",
      "\n",
      "The default initialization in TSNE will change from 'random' to 'pca' in 1.2.\n",
      "\n",
      "/home/amysiak/thesis/env/lib/python3.8/site-packages/sklearn/manifold/_t_sne.py:810: FutureWarning:\n",
      "\n",
      "The default learning rate in TSNE will change from 200.0 to 'auto' in 1.2.\n",
      "\n"
     ]
    },
    {
     "data": {
      "application/vnd.plotly.v1+json": {
       "config": {
        "plotlyServerURL": "https://plot.ly"
       },
       "data": [
        {
         "customdata": [
          [
           "ar"
          ]
         ],
         "hovertemplate": "color=vso<br>symbol=afro-asiatic<br>x=%{x}<br>y=%{y}<br>hover_data_0=%{customdata[0]}<extra></extra>",
         "legendgroup": "vso, afro-asiatic",
         "marker": {
          "color": "#FD3216",
          "symbol": "circle-open"
         },
         "mode": "markers",
         "name": "vso, afro-asiatic",
         "orientation": "v",
         "showlegend": true,
         "type": "scatter",
         "x": [
          -173.16659545898438
         ],
         "xaxis": "x",
         "y": [
          -89.38345336914062
         ],
         "yaxis": "y"
        },
        {
         "customdata": [
          [
           "cy"
          ],
          [
           "ga"
          ]
         ],
         "hovertemplate": "color=vso<br>symbol=indo-european<br>x=%{x}<br>y=%{y}<br>hover_data_0=%{customdata[0]}<extra></extra>",
         "legendgroup": "vso, indo-european",
         "marker": {
          "color": "#FD3216",
          "symbol": "circle"
         },
         "mode": "markers",
         "name": "vso, indo-european",
         "orientation": "v",
         "showlegend": true,
         "type": "scatter",
         "x": [
          -190.35336303710938,
          -98.79519653320312
         ],
         "xaxis": "x",
         "y": [
          -192.8145751953125,
          -300.966552734375
         ],
         "yaxis": "y"
        },
        {
         "customdata": [
          [
           "be"
          ],
          [
           "bg"
          ],
          [
           "cs"
          ],
          [
           "hr"
          ],
          [
           "pl"
          ],
          [
           "ru"
          ],
          [
           "slk"
          ],
          [
           "slv"
          ],
          [
           "uk"
          ]
         ],
         "hovertemplate": "color=slavic<br>symbol=indo-european<br>x=%{x}<br>y=%{y}<br>hover_data_0=%{customdata[0]}<extra></extra>",
         "legendgroup": "slavic, indo-european",
         "marker": {
          "color": "#00FE35",
          "symbol": "circle"
         },
         "mode": "markers",
         "name": "slavic, indo-european",
         "orientation": "v",
         "showlegend": true,
         "type": "scatter",
         "x": [
          524.9208984375,
          306.50421142578125,
          389.1625061035156,
          371.45477294921875,
          418.47760009765625,
          510.8667907714844,
          508.52972412109375,
          270.1375732421875,
          457.38067626953125
         ],
         "xaxis": "x",
         "y": [
          48.081512451171875,
          -572.8634033203125,
          37.78700256347656,
          165.9142608642578,
          346.9809875488281,
          183.79261779785156,
          430.9881896972656,
          115.6189956665039,
          -165.43264770507812
         ],
         "yaxis": "y"
        },
        {
         "customdata": [
          [
           "de"
          ],
          [
           "en"
          ],
          [
           "es"
          ],
          [
           "fr"
          ],
          [
           "lt"
          ],
          [
           "lv"
          ],
          [
           "nl"
          ]
         ],
         "hovertemplate": "color=svo<br>symbol=indo-european<br>x=%{x}<br>y=%{y}<br>hover_data_0=%{customdata[0]}<extra></extra>",
         "legendgroup": "svo, indo-european",
         "marker": {
          "color": "#6A76FC",
          "symbol": "circle"
         },
         "mode": "markers",
         "name": "svo, indo-european",
         "orientation": "v",
         "showlegend": true,
         "type": "scatter",
         "x": [
          -24.248249053955078,
          43.92671585083008,
          70.56224060058594,
          159.4579620361328,
          -168.4969482421875,
          -229.1822052001953,
          14.202543258666992
         ],
         "xaxis": "x",
         "y": [
          83.22644805908203,
          -336.7450256347656,
          -156.33367919921875,
          -200.2506103515625,
          302.8295593261719,
          374.67852783203125,
          0.7809797525405884
         ],
         "yaxis": "y"
        },
        {
         "customdata": [
          [
           "fi"
          ]
         ],
         "hovertemplate": "color=svo<br>symbol=uralic<br>x=%{x}<br>y=%{y}<br>hover_data_0=%{customdata[0]}<extra></extra>",
         "legendgroup": "svo, uralic",
         "marker": {
          "color": "#6A76FC",
          "symbol": "circle-open-dot"
         },
         "mode": "markers",
         "name": "svo, uralic",
         "orientation": "v",
         "showlegend": true,
         "type": "scatter",
         "x": [
          -283.10906982421875
         ],
         "xaxis": "x",
         "y": [
          240.1259765625
         ],
         "yaxis": "y"
        },
        {
         "customdata": [
          [
           "id"
          ]
         ],
         "hovertemplate": "color=svo<br>symbol=austronesian<br>x=%{x}<br>y=%{y}<br>hover_data_0=%{customdata[0]}<extra></extra>",
         "legendgroup": "svo, austronesian",
         "marker": {
          "color": "#6A76FC",
          "symbol": "square"
         },
         "mode": "markers",
         "name": "svo, austronesian",
         "orientation": "v",
         "showlegend": true,
         "type": "scatter",
         "x": [
          -81.85393524169922
         ],
         "xaxis": "x",
         "y": [
          -177.87847900390625
         ],
         "yaxis": "y"
        },
        {
         "customdata": [
          [
           "zh"
          ]
         ],
         "hovertemplate": "color=svo<br>symbol=sino-tibetan<br>x=%{x}<br>y=%{y}<br>hover_data_0=%{customdata[0]}<extra></extra>",
         "legendgroup": "svo, sino-tibetan",
         "marker": {
          "color": "#6A76FC",
          "symbol": "star"
         },
         "mode": "markers",
         "name": "svo, sino-tibetan",
         "orientation": "v",
         "showlegend": true,
         "type": "scatter",
         "x": [
          -167.309814453125
         ],
         "xaxis": "x",
         "y": [
          -559.9071044921875
         ],
         "yaxis": "y"
        },
        {
         "customdata": [
          [
           "fa"
          ],
          [
           "hy"
          ]
         ],
         "hovertemplate": "color=sov<br>symbol=indo-european<br>x=%{x}<br>y=%{y}<br>hover_data_0=%{customdata[0]}<extra></extra>",
         "legendgroup": "sov, indo-european",
         "marker": {
          "color": "#FED4C4",
          "symbol": "circle"
         },
         "mode": "markers",
         "name": "sov, indo-european",
         "orientation": "v",
         "showlegend": true,
         "type": "scatter",
         "x": [
          -189.40505981445312,
          -302.6496276855469
         ],
         "xaxis": "x",
         "y": [
          -442.1543273925781,
          137.3754425048828
         ],
         "yaxis": "y"
        },
        {
         "customdata": [
          [
           "ja"
          ]
         ],
         "hovertemplate": "color=sov<br>symbol=japonic<br>x=%{x}<br>y=%{y}<br>hover_data_0=%{customdata[0]}<extra></extra>",
         "legendgroup": "sov, japonic",
         "marker": {
          "color": "#FED4C4",
          "symbol": "diamond"
         },
         "mode": "markers",
         "name": "sov, japonic",
         "orientation": "v",
         "showlegend": true,
         "type": "scatter",
         "x": [
          -78.53904724121094
         ],
         "xaxis": "x",
         "y": [
          -592.8635864257812
         ],
         "yaxis": "y"
        },
        {
         "customdata": [
          [
           "ko"
          ]
         ],
         "hovertemplate": "color=sov<br>symbol=koreanic<br>x=%{x}<br>y=%{y}<br>hover_data_0=%{customdata[0]}<extra></extra>",
         "legendgroup": "sov, koreanic",
         "marker": {
          "color": "#FED4C4",
          "symbol": "x"
         },
         "mode": "markers",
         "name": "sov, koreanic",
         "orientation": "v",
         "showlegend": true,
         "type": "scatter",
         "x": [
          -449.1817321777344
         ],
         "xaxis": "x",
         "y": [
          121.41567993164062
         ],
         "yaxis": "y"
        },
        {
         "customdata": [
          [
           "tr"
          ]
         ],
         "hovertemplate": "color=sov<br>symbol=turkic<br>x=%{x}<br>y=%{y}<br>hover_data_0=%{customdata[0]}<extra></extra>",
         "legendgroup": "sov, turkic",
         "marker": {
          "color": "#FED4C4",
          "symbol": "triangle-up"
         },
         "mode": "markers",
         "name": "sov, turkic",
         "orientation": "v",
         "showlegend": true,
         "type": "scatter",
         "x": [
          -475.3095397949219
         ],
         "xaxis": "x",
         "y": [
          233.91928100585938
         ],
         "yaxis": "y"
        }
       ],
       "layout": {
        "legend": {
         "title": {
          "text": "color, symbol"
         },
         "tracegroupgap": 0
        },
        "template": {
         "data": {
          "bar": [
           {
            "error_x": {
             "color": "#2a3f5f"
            },
            "error_y": {
             "color": "#2a3f5f"
            },
            "marker": {
             "line": {
              "color": "#E5ECF6",
              "width": 0.5
             },
             "pattern": {
              "fillmode": "overlay",
              "size": 10,
              "solidity": 0.2
             }
            },
            "type": "bar"
           }
          ],
          "barpolar": [
           {
            "marker": {
             "line": {
              "color": "#E5ECF6",
              "width": 0.5
             },
             "pattern": {
              "fillmode": "overlay",
              "size": 10,
              "solidity": 0.2
             }
            },
            "type": "barpolar"
           }
          ],
          "carpet": [
           {
            "aaxis": {
             "endlinecolor": "#2a3f5f",
             "gridcolor": "white",
             "linecolor": "white",
             "minorgridcolor": "white",
             "startlinecolor": "#2a3f5f"
            },
            "baxis": {
             "endlinecolor": "#2a3f5f",
             "gridcolor": "white",
             "linecolor": "white",
             "minorgridcolor": "white",
             "startlinecolor": "#2a3f5f"
            },
            "type": "carpet"
           }
          ],
          "choropleth": [
           {
            "colorbar": {
             "outlinewidth": 0,
             "ticks": ""
            },
            "type": "choropleth"
           }
          ],
          "contour": [
           {
            "colorbar": {
             "outlinewidth": 0,
             "ticks": ""
            },
            "colorscale": [
             [
              0,
              "#0d0887"
             ],
             [
              0.1111111111111111,
              "#46039f"
             ],
             [
              0.2222222222222222,
              "#7201a8"
             ],
             [
              0.3333333333333333,
              "#9c179e"
             ],
             [
              0.4444444444444444,
              "#bd3786"
             ],
             [
              0.5555555555555556,
              "#d8576b"
             ],
             [
              0.6666666666666666,
              "#ed7953"
             ],
             [
              0.7777777777777778,
              "#fb9f3a"
             ],
             [
              0.8888888888888888,
              "#fdca26"
             ],
             [
              1,
              "#f0f921"
             ]
            ],
            "type": "contour"
           }
          ],
          "contourcarpet": [
           {
            "colorbar": {
             "outlinewidth": 0,
             "ticks": ""
            },
            "type": "contourcarpet"
           }
          ],
          "heatmap": [
           {
            "colorbar": {
             "outlinewidth": 0,
             "ticks": ""
            },
            "colorscale": [
             [
              0,
              "#0d0887"
             ],
             [
              0.1111111111111111,
              "#46039f"
             ],
             [
              0.2222222222222222,
              "#7201a8"
             ],
             [
              0.3333333333333333,
              "#9c179e"
             ],
             [
              0.4444444444444444,
              "#bd3786"
             ],
             [
              0.5555555555555556,
              "#d8576b"
             ],
             [
              0.6666666666666666,
              "#ed7953"
             ],
             [
              0.7777777777777778,
              "#fb9f3a"
             ],
             [
              0.8888888888888888,
              "#fdca26"
             ],
             [
              1,
              "#f0f921"
             ]
            ],
            "type": "heatmap"
           }
          ],
          "heatmapgl": [
           {
            "colorbar": {
             "outlinewidth": 0,
             "ticks": ""
            },
            "colorscale": [
             [
              0,
              "#0d0887"
             ],
             [
              0.1111111111111111,
              "#46039f"
             ],
             [
              0.2222222222222222,
              "#7201a8"
             ],
             [
              0.3333333333333333,
              "#9c179e"
             ],
             [
              0.4444444444444444,
              "#bd3786"
             ],
             [
              0.5555555555555556,
              "#d8576b"
             ],
             [
              0.6666666666666666,
              "#ed7953"
             ],
             [
              0.7777777777777778,
              "#fb9f3a"
             ],
             [
              0.8888888888888888,
              "#fdca26"
             ],
             [
              1,
              "#f0f921"
             ]
            ],
            "type": "heatmapgl"
           }
          ],
          "histogram": [
           {
            "marker": {
             "pattern": {
              "fillmode": "overlay",
              "size": 10,
              "solidity": 0.2
             }
            },
            "type": "histogram"
           }
          ],
          "histogram2d": [
           {
            "colorbar": {
             "outlinewidth": 0,
             "ticks": ""
            },
            "colorscale": [
             [
              0,
              "#0d0887"
             ],
             [
              0.1111111111111111,
              "#46039f"
             ],
             [
              0.2222222222222222,
              "#7201a8"
             ],
             [
              0.3333333333333333,
              "#9c179e"
             ],
             [
              0.4444444444444444,
              "#bd3786"
             ],
             [
              0.5555555555555556,
              "#d8576b"
             ],
             [
              0.6666666666666666,
              "#ed7953"
             ],
             [
              0.7777777777777778,
              "#fb9f3a"
             ],
             [
              0.8888888888888888,
              "#fdca26"
             ],
             [
              1,
              "#f0f921"
             ]
            ],
            "type": "histogram2d"
           }
          ],
          "histogram2dcontour": [
           {
            "colorbar": {
             "outlinewidth": 0,
             "ticks": ""
            },
            "colorscale": [
             [
              0,
              "#0d0887"
             ],
             [
              0.1111111111111111,
              "#46039f"
             ],
             [
              0.2222222222222222,
              "#7201a8"
             ],
             [
              0.3333333333333333,
              "#9c179e"
             ],
             [
              0.4444444444444444,
              "#bd3786"
             ],
             [
              0.5555555555555556,
              "#d8576b"
             ],
             [
              0.6666666666666666,
              "#ed7953"
             ],
             [
              0.7777777777777778,
              "#fb9f3a"
             ],
             [
              0.8888888888888888,
              "#fdca26"
             ],
             [
              1,
              "#f0f921"
             ]
            ],
            "type": "histogram2dcontour"
           }
          ],
          "mesh3d": [
           {
            "colorbar": {
             "outlinewidth": 0,
             "ticks": ""
            },
            "type": "mesh3d"
           }
          ],
          "parcoords": [
           {
            "line": {
             "colorbar": {
              "outlinewidth": 0,
              "ticks": ""
             }
            },
            "type": "parcoords"
           }
          ],
          "pie": [
           {
            "automargin": true,
            "type": "pie"
           }
          ],
          "scatter": [
           {
            "fillpattern": {
             "fillmode": "overlay",
             "size": 10,
             "solidity": 0.2
            },
            "type": "scatter"
           }
          ],
          "scatter3d": [
           {
            "line": {
             "colorbar": {
              "outlinewidth": 0,
              "ticks": ""
             }
            },
            "marker": {
             "colorbar": {
              "outlinewidth": 0,
              "ticks": ""
             }
            },
            "type": "scatter3d"
           }
          ],
          "scattercarpet": [
           {
            "marker": {
             "colorbar": {
              "outlinewidth": 0,
              "ticks": ""
             }
            },
            "type": "scattercarpet"
           }
          ],
          "scattergeo": [
           {
            "marker": {
             "colorbar": {
              "outlinewidth": 0,
              "ticks": ""
             }
            },
            "type": "scattergeo"
           }
          ],
          "scattergl": [
           {
            "marker": {
             "colorbar": {
              "outlinewidth": 0,
              "ticks": ""
             }
            },
            "type": "scattergl"
           }
          ],
          "scattermapbox": [
           {
            "marker": {
             "colorbar": {
              "outlinewidth": 0,
              "ticks": ""
             }
            },
            "type": "scattermapbox"
           }
          ],
          "scatterpolar": [
           {
            "marker": {
             "colorbar": {
              "outlinewidth": 0,
              "ticks": ""
             }
            },
            "type": "scatterpolar"
           }
          ],
          "scatterpolargl": [
           {
            "marker": {
             "colorbar": {
              "outlinewidth": 0,
              "ticks": ""
             }
            },
            "type": "scatterpolargl"
           }
          ],
          "scatterternary": [
           {
            "marker": {
             "colorbar": {
              "outlinewidth": 0,
              "ticks": ""
             }
            },
            "type": "scatterternary"
           }
          ],
          "surface": [
           {
            "colorbar": {
             "outlinewidth": 0,
             "ticks": ""
            },
            "colorscale": [
             [
              0,
              "#0d0887"
             ],
             [
              0.1111111111111111,
              "#46039f"
             ],
             [
              0.2222222222222222,
              "#7201a8"
             ],
             [
              0.3333333333333333,
              "#9c179e"
             ],
             [
              0.4444444444444444,
              "#bd3786"
             ],
             [
              0.5555555555555556,
              "#d8576b"
             ],
             [
              0.6666666666666666,
              "#ed7953"
             ],
             [
              0.7777777777777778,
              "#fb9f3a"
             ],
             [
              0.8888888888888888,
              "#fdca26"
             ],
             [
              1,
              "#f0f921"
             ]
            ],
            "type": "surface"
           }
          ],
          "table": [
           {
            "cells": {
             "fill": {
              "color": "#EBF0F8"
             },
             "line": {
              "color": "white"
             }
            },
            "header": {
             "fill": {
              "color": "#C8D4E3"
             },
             "line": {
              "color": "white"
             }
            },
            "type": "table"
           }
          ]
         },
         "layout": {
          "annotationdefaults": {
           "arrowcolor": "#2a3f5f",
           "arrowhead": 0,
           "arrowwidth": 1
          },
          "autotypenumbers": "strict",
          "coloraxis": {
           "colorbar": {
            "outlinewidth": 0,
            "ticks": ""
           }
          },
          "colorscale": {
           "diverging": [
            [
             0,
             "#8e0152"
            ],
            [
             0.1,
             "#c51b7d"
            ],
            [
             0.2,
             "#de77ae"
            ],
            [
             0.3,
             "#f1b6da"
            ],
            [
             0.4,
             "#fde0ef"
            ],
            [
             0.5,
             "#f7f7f7"
            ],
            [
             0.6,
             "#e6f5d0"
            ],
            [
             0.7,
             "#b8e186"
            ],
            [
             0.8,
             "#7fbc41"
            ],
            [
             0.9,
             "#4d9221"
            ],
            [
             1,
             "#276419"
            ]
           ],
           "sequential": [
            [
             0,
             "#0d0887"
            ],
            [
             0.1111111111111111,
             "#46039f"
            ],
            [
             0.2222222222222222,
             "#7201a8"
            ],
            [
             0.3333333333333333,
             "#9c179e"
            ],
            [
             0.4444444444444444,
             "#bd3786"
            ],
            [
             0.5555555555555556,
             "#d8576b"
            ],
            [
             0.6666666666666666,
             "#ed7953"
            ],
            [
             0.7777777777777778,
             "#fb9f3a"
            ],
            [
             0.8888888888888888,
             "#fdca26"
            ],
            [
             1,
             "#f0f921"
            ]
           ],
           "sequentialminus": [
            [
             0,
             "#0d0887"
            ],
            [
             0.1111111111111111,
             "#46039f"
            ],
            [
             0.2222222222222222,
             "#7201a8"
            ],
            [
             0.3333333333333333,
             "#9c179e"
            ],
            [
             0.4444444444444444,
             "#bd3786"
            ],
            [
             0.5555555555555556,
             "#d8576b"
            ],
            [
             0.6666666666666666,
             "#ed7953"
            ],
            [
             0.7777777777777778,
             "#fb9f3a"
            ],
            [
             0.8888888888888888,
             "#fdca26"
            ],
            [
             1,
             "#f0f921"
            ]
           ]
          },
          "colorway": [
           "#636efa",
           "#EF553B",
           "#00cc96",
           "#ab63fa",
           "#FFA15A",
           "#19d3f3",
           "#FF6692",
           "#B6E880",
           "#FF97FF",
           "#FECB52"
          ],
          "font": {
           "color": "#2a3f5f"
          },
          "geo": {
           "bgcolor": "white",
           "lakecolor": "white",
           "landcolor": "#E5ECF6",
           "showlakes": true,
           "showland": true,
           "subunitcolor": "white"
          },
          "hoverlabel": {
           "align": "left"
          },
          "hovermode": "closest",
          "mapbox": {
           "style": "light"
          },
          "paper_bgcolor": "white",
          "plot_bgcolor": "#E5ECF6",
          "polar": {
           "angularaxis": {
            "gridcolor": "white",
            "linecolor": "white",
            "ticks": ""
           },
           "bgcolor": "#E5ECF6",
           "radialaxis": {
            "gridcolor": "white",
            "linecolor": "white",
            "ticks": ""
           }
          },
          "scene": {
           "xaxis": {
            "backgroundcolor": "#E5ECF6",
            "gridcolor": "white",
            "gridwidth": 2,
            "linecolor": "white",
            "showbackground": true,
            "ticks": "",
            "zerolinecolor": "white"
           },
           "yaxis": {
            "backgroundcolor": "#E5ECF6",
            "gridcolor": "white",
            "gridwidth": 2,
            "linecolor": "white",
            "showbackground": true,
            "ticks": "",
            "zerolinecolor": "white"
           },
           "zaxis": {
            "backgroundcolor": "#E5ECF6",
            "gridcolor": "white",
            "gridwidth": 2,
            "linecolor": "white",
            "showbackground": true,
            "ticks": "",
            "zerolinecolor": "white"
           }
          },
          "shapedefaults": {
           "line": {
            "color": "#2a3f5f"
           }
          },
          "ternary": {
           "aaxis": {
            "gridcolor": "white",
            "linecolor": "white",
            "ticks": ""
           },
           "baxis": {
            "gridcolor": "white",
            "linecolor": "white",
            "ticks": ""
           },
           "bgcolor": "#E5ECF6",
           "caxis": {
            "gridcolor": "white",
            "linecolor": "white",
            "ticks": ""
           }
          },
          "title": {
           "x": 0.05
          },
          "xaxis": {
           "automargin": true,
           "gridcolor": "white",
           "linecolor": "white",
           "ticks": "",
           "title": {
            "standoff": 15
           },
           "zerolinecolor": "white",
           "zerolinewidth": 2
          },
          "yaxis": {
           "automargin": true,
           "gridcolor": "white",
           "linecolor": "white",
           "ticks": "",
           "title": {
            "standoff": 15
           },
           "zerolinecolor": "white",
           "zerolinewidth": 2
          }
         }
        },
        "title": {
         "text": "perplexity 7"
        },
        "xaxis": {
         "anchor": "y",
         "domain": [
          0,
          1
         ],
         "title": {
          "text": "x"
         }
        },
        "yaxis": {
         "anchor": "x",
         "domain": [
          0,
          1
         ],
         "title": {
          "text": "y"
         }
        }
       }
      }
     },
     "metadata": {},
     "output_type": "display_data"
    },
    {
     "name": "stderr",
     "output_type": "stream",
     "text": [
      "/home/amysiak/thesis/env/lib/python3.8/site-packages/sklearn/manifold/_t_sne.py:800: FutureWarning:\n",
      "\n",
      "The default initialization in TSNE will change from 'random' to 'pca' in 1.2.\n",
      "\n",
      "/home/amysiak/thesis/env/lib/python3.8/site-packages/sklearn/manifold/_t_sne.py:810: FutureWarning:\n",
      "\n",
      "The default learning rate in TSNE will change from 200.0 to 'auto' in 1.2.\n",
      "\n"
     ]
    },
    {
     "data": {
      "application/vnd.plotly.v1+json": {
       "config": {
        "plotlyServerURL": "https://plot.ly"
       },
       "data": [
        {
         "customdata": [
          [
           "ar"
          ]
         ],
         "hovertemplate": "color=vso<br>symbol=afro-asiatic<br>x=%{x}<br>y=%{y}<br>hover_data_0=%{customdata[0]}<extra></extra>",
         "legendgroup": "vso, afro-asiatic",
         "marker": {
          "color": "#FD3216",
          "symbol": "circle-open"
         },
         "mode": "markers",
         "name": "vso, afro-asiatic",
         "orientation": "v",
         "showlegend": true,
         "type": "scatter",
         "x": [
          239.2799530029297
         ],
         "xaxis": "x",
         "y": [
          -37.78585433959961
         ],
         "yaxis": "y"
        },
        {
         "customdata": [
          [
           "cy"
          ],
          [
           "ga"
          ]
         ],
         "hovertemplate": "color=vso<br>symbol=indo-european<br>x=%{x}<br>y=%{y}<br>hover_data_0=%{customdata[0]}<extra></extra>",
         "legendgroup": "vso, indo-european",
         "marker": {
          "color": "#FD3216",
          "symbol": "circle"
         },
         "mode": "markers",
         "name": "vso, indo-european",
         "orientation": "v",
         "showlegend": true,
         "type": "scatter",
         "x": [
          168.47239685058594,
          325.7658996582031
         ],
         "xaxis": "x",
         "y": [
          17.344501495361328,
          121.019775390625
         ],
         "yaxis": "y"
        },
        {
         "customdata": [
          [
           "be"
          ],
          [
           "bg"
          ],
          [
           "cs"
          ],
          [
           "hr"
          ],
          [
           "pl"
          ],
          [
           "ru"
          ],
          [
           "slk"
          ],
          [
           "slv"
          ],
          [
           "uk"
          ]
         ],
         "hovertemplate": "color=slavic<br>symbol=indo-european<br>x=%{x}<br>y=%{y}<br>hover_data_0=%{customdata[0]}<extra></extra>",
         "legendgroup": "slavic, indo-european",
         "marker": {
          "color": "#00FE35",
          "symbol": "circle"
         },
         "mode": "markers",
         "name": "slavic, indo-european",
         "orientation": "v",
         "showlegend": true,
         "type": "scatter",
         "x": [
          -454.0433044433594,
          -554.40966796875,
          -492.8349914550781,
          -444.1663513183594,
          -695.2191162109375,
          -564.618896484375,
          -718.9907836914062,
          -382.034423828125,
          -599.932861328125
         ],
         "xaxis": "x",
         "y": [
          -45.179473876953125,
          -233.07762145996094,
          -144.24241638183594,
          -236.5024871826172,
          -180.0032958984375,
          -41.72576904296875,
          -69.24169158935547,
          -154.2797088623047,
          -131.3726806640625
         ],
         "yaxis": "y"
        },
        {
         "customdata": [
          [
           "de"
          ],
          [
           "en"
          ],
          [
           "es"
          ],
          [
           "fr"
          ],
          [
           "lt"
          ],
          [
           "lv"
          ],
          [
           "nl"
          ]
         ],
         "hovertemplate": "color=svo<br>symbol=indo-european<br>x=%{x}<br>y=%{y}<br>hover_data_0=%{customdata[0]}<extra></extra>",
         "legendgroup": "svo, indo-european",
         "marker": {
          "color": "#6A76FC",
          "symbol": "circle"
         },
         "mode": "markers",
         "name": "svo, indo-european",
         "orientation": "v",
         "showlegend": true,
         "type": "scatter",
         "x": [
          -34.564754486083984,
          259.0409240722656,
          140.60719299316406,
          106.75724792480469,
          -44.909210205078125,
          -38.75042724609375,
          20.55107307434082
         ],
         "xaxis": "x",
         "y": [
          32.78428268432617,
          230.15274047851562,
          156.04904174804688,
          235.9995880126953,
          -259.9258728027344,
          -341.5386047363281,
          89.39678192138672
         ],
         "yaxis": "y"
        },
        {
         "customdata": [
          [
           "fi"
          ]
         ],
         "hovertemplate": "color=svo<br>symbol=uralic<br>x=%{x}<br>y=%{y}<br>hover_data_0=%{customdata[0]}<extra></extra>",
         "legendgroup": "svo, uralic",
         "marker": {
          "color": "#6A76FC",
          "symbol": "circle-open-dot"
         },
         "mode": "markers",
         "name": "svo, uralic",
         "orientation": "v",
         "showlegend": true,
         "type": "scatter",
         "x": [
          65.85704040527344
         ],
         "xaxis": "x",
         "y": [
          -273.0038757324219
         ],
         "yaxis": "y"
        },
        {
         "customdata": [
          [
           "id"
          ]
         ],
         "hovertemplate": "color=svo<br>symbol=austronesian<br>x=%{x}<br>y=%{y}<br>hover_data_0=%{customdata[0]}<extra></extra>",
         "legendgroup": "svo, austronesian",
         "marker": {
          "color": "#6A76FC",
          "symbol": "square"
         },
         "mode": "markers",
         "name": "svo, austronesian",
         "orientation": "v",
         "showlegend": true,
         "type": "scatter",
         "x": [
          242.93243408203125
         ],
         "xaxis": "x",
         "y": [
          68.84868621826172
         ],
         "yaxis": "y"
        },
        {
         "customdata": [
          [
           "zh"
          ]
         ],
         "hovertemplate": "color=svo<br>symbol=sino-tibetan<br>x=%{x}<br>y=%{y}<br>hover_data_0=%{customdata[0]}<extra></extra>",
         "legendgroup": "svo, sino-tibetan",
         "marker": {
          "color": "#6A76FC",
          "symbol": "star"
         },
         "mode": "markers",
         "name": "svo, sino-tibetan",
         "orientation": "v",
         "showlegend": true,
         "type": "scatter",
         "x": [
          439.71600341796875
         ],
         "xaxis": "x",
         "y": [
          343.2019958496094
         ],
         "yaxis": "y"
        },
        {
         "customdata": [
          [
           "fa"
          ],
          [
           "hy"
          ]
         ],
         "hovertemplate": "color=sov<br>symbol=indo-european<br>x=%{x}<br>y=%{y}<br>hover_data_0=%{customdata[0]}<extra></extra>",
         "legendgroup": "sov, indo-european",
         "marker": {
          "color": "#FED4C4",
          "symbol": "circle"
         },
         "mode": "markers",
         "name": "sov, indo-european",
         "orientation": "v",
         "showlegend": true,
         "type": "scatter",
         "x": [
          444.07421875,
          138.9451446533203
         ],
         "xaxis": "x",
         "y": [
          242.5289306640625,
          -219.56964111328125
         ],
         "yaxis": "y"
        },
        {
         "customdata": [
          [
           "ja"
          ]
         ],
         "hovertemplate": "color=sov<br>symbol=japonic<br>x=%{x}<br>y=%{y}<br>hover_data_0=%{customdata[0]}<extra></extra>",
         "legendgroup": "sov, japonic",
         "marker": {
          "color": "#FED4C4",
          "symbol": "diamond"
         },
         "mode": "markers",
         "name": "sov, japonic",
         "orientation": "v",
         "showlegend": true,
         "type": "scatter",
         "x": [
          433.6235656738281
         ],
         "xaxis": "x",
         "y": [
          423.1214294433594
         ],
         "yaxis": "y"
        },
        {
         "customdata": [
          [
           "ko"
          ]
         ],
         "hovertemplate": "color=sov<br>symbol=koreanic<br>x=%{x}<br>y=%{y}<br>hover_data_0=%{customdata[0]}<extra></extra>",
         "legendgroup": "sov, koreanic",
         "marker": {
          "color": "#FED4C4",
          "symbol": "x"
         },
         "mode": "markers",
         "name": "sov, koreanic",
         "orientation": "v",
         "showlegend": true,
         "type": "scatter",
         "x": [
          235.11251831054688
         ],
         "xaxis": "x",
         "y": [
          -297.931884765625
         ],
         "yaxis": "y"
        },
        {
         "customdata": [
          [
           "tr"
          ]
         ],
         "hovertemplate": "color=sov<br>symbol=turkic<br>x=%{x}<br>y=%{y}<br>hover_data_0=%{customdata[0]}<extra></extra>",
         "legendgroup": "sov, turkic",
         "marker": {
          "color": "#FED4C4",
          "symbol": "triangle-up"
         },
         "mode": "markers",
         "name": "sov, turkic",
         "orientation": "v",
         "showlegend": true,
         "type": "scatter",
         "x": [
          186.4144287109375
         ],
         "xaxis": "x",
         "y": [
          -383.968017578125
         ],
         "yaxis": "y"
        }
       ],
       "layout": {
        "legend": {
         "title": {
          "text": "color, symbol"
         },
         "tracegroupgap": 0
        },
        "template": {
         "data": {
          "bar": [
           {
            "error_x": {
             "color": "#2a3f5f"
            },
            "error_y": {
             "color": "#2a3f5f"
            },
            "marker": {
             "line": {
              "color": "#E5ECF6",
              "width": 0.5
             },
             "pattern": {
              "fillmode": "overlay",
              "size": 10,
              "solidity": 0.2
             }
            },
            "type": "bar"
           }
          ],
          "barpolar": [
           {
            "marker": {
             "line": {
              "color": "#E5ECF6",
              "width": 0.5
             },
             "pattern": {
              "fillmode": "overlay",
              "size": 10,
              "solidity": 0.2
             }
            },
            "type": "barpolar"
           }
          ],
          "carpet": [
           {
            "aaxis": {
             "endlinecolor": "#2a3f5f",
             "gridcolor": "white",
             "linecolor": "white",
             "minorgridcolor": "white",
             "startlinecolor": "#2a3f5f"
            },
            "baxis": {
             "endlinecolor": "#2a3f5f",
             "gridcolor": "white",
             "linecolor": "white",
             "minorgridcolor": "white",
             "startlinecolor": "#2a3f5f"
            },
            "type": "carpet"
           }
          ],
          "choropleth": [
           {
            "colorbar": {
             "outlinewidth": 0,
             "ticks": ""
            },
            "type": "choropleth"
           }
          ],
          "contour": [
           {
            "colorbar": {
             "outlinewidth": 0,
             "ticks": ""
            },
            "colorscale": [
             [
              0,
              "#0d0887"
             ],
             [
              0.1111111111111111,
              "#46039f"
             ],
             [
              0.2222222222222222,
              "#7201a8"
             ],
             [
              0.3333333333333333,
              "#9c179e"
             ],
             [
              0.4444444444444444,
              "#bd3786"
             ],
             [
              0.5555555555555556,
              "#d8576b"
             ],
             [
              0.6666666666666666,
              "#ed7953"
             ],
             [
              0.7777777777777778,
              "#fb9f3a"
             ],
             [
              0.8888888888888888,
              "#fdca26"
             ],
             [
              1,
              "#f0f921"
             ]
            ],
            "type": "contour"
           }
          ],
          "contourcarpet": [
           {
            "colorbar": {
             "outlinewidth": 0,
             "ticks": ""
            },
            "type": "contourcarpet"
           }
          ],
          "heatmap": [
           {
            "colorbar": {
             "outlinewidth": 0,
             "ticks": ""
            },
            "colorscale": [
             [
              0,
              "#0d0887"
             ],
             [
              0.1111111111111111,
              "#46039f"
             ],
             [
              0.2222222222222222,
              "#7201a8"
             ],
             [
              0.3333333333333333,
              "#9c179e"
             ],
             [
              0.4444444444444444,
              "#bd3786"
             ],
             [
              0.5555555555555556,
              "#d8576b"
             ],
             [
              0.6666666666666666,
              "#ed7953"
             ],
             [
              0.7777777777777778,
              "#fb9f3a"
             ],
             [
              0.8888888888888888,
              "#fdca26"
             ],
             [
              1,
              "#f0f921"
             ]
            ],
            "type": "heatmap"
           }
          ],
          "heatmapgl": [
           {
            "colorbar": {
             "outlinewidth": 0,
             "ticks": ""
            },
            "colorscale": [
             [
              0,
              "#0d0887"
             ],
             [
              0.1111111111111111,
              "#46039f"
             ],
             [
              0.2222222222222222,
              "#7201a8"
             ],
             [
              0.3333333333333333,
              "#9c179e"
             ],
             [
              0.4444444444444444,
              "#bd3786"
             ],
             [
              0.5555555555555556,
              "#d8576b"
             ],
             [
              0.6666666666666666,
              "#ed7953"
             ],
             [
              0.7777777777777778,
              "#fb9f3a"
             ],
             [
              0.8888888888888888,
              "#fdca26"
             ],
             [
              1,
              "#f0f921"
             ]
            ],
            "type": "heatmapgl"
           }
          ],
          "histogram": [
           {
            "marker": {
             "pattern": {
              "fillmode": "overlay",
              "size": 10,
              "solidity": 0.2
             }
            },
            "type": "histogram"
           }
          ],
          "histogram2d": [
           {
            "colorbar": {
             "outlinewidth": 0,
             "ticks": ""
            },
            "colorscale": [
             [
              0,
              "#0d0887"
             ],
             [
              0.1111111111111111,
              "#46039f"
             ],
             [
              0.2222222222222222,
              "#7201a8"
             ],
             [
              0.3333333333333333,
              "#9c179e"
             ],
             [
              0.4444444444444444,
              "#bd3786"
             ],
             [
              0.5555555555555556,
              "#d8576b"
             ],
             [
              0.6666666666666666,
              "#ed7953"
             ],
             [
              0.7777777777777778,
              "#fb9f3a"
             ],
             [
              0.8888888888888888,
              "#fdca26"
             ],
             [
              1,
              "#f0f921"
             ]
            ],
            "type": "histogram2d"
           }
          ],
          "histogram2dcontour": [
           {
            "colorbar": {
             "outlinewidth": 0,
             "ticks": ""
            },
            "colorscale": [
             [
              0,
              "#0d0887"
             ],
             [
              0.1111111111111111,
              "#46039f"
             ],
             [
              0.2222222222222222,
              "#7201a8"
             ],
             [
              0.3333333333333333,
              "#9c179e"
             ],
             [
              0.4444444444444444,
              "#bd3786"
             ],
             [
              0.5555555555555556,
              "#d8576b"
             ],
             [
              0.6666666666666666,
              "#ed7953"
             ],
             [
              0.7777777777777778,
              "#fb9f3a"
             ],
             [
              0.8888888888888888,
              "#fdca26"
             ],
             [
              1,
              "#f0f921"
             ]
            ],
            "type": "histogram2dcontour"
           }
          ],
          "mesh3d": [
           {
            "colorbar": {
             "outlinewidth": 0,
             "ticks": ""
            },
            "type": "mesh3d"
           }
          ],
          "parcoords": [
           {
            "line": {
             "colorbar": {
              "outlinewidth": 0,
              "ticks": ""
             }
            },
            "type": "parcoords"
           }
          ],
          "pie": [
           {
            "automargin": true,
            "type": "pie"
           }
          ],
          "scatter": [
           {
            "fillpattern": {
             "fillmode": "overlay",
             "size": 10,
             "solidity": 0.2
            },
            "type": "scatter"
           }
          ],
          "scatter3d": [
           {
            "line": {
             "colorbar": {
              "outlinewidth": 0,
              "ticks": ""
             }
            },
            "marker": {
             "colorbar": {
              "outlinewidth": 0,
              "ticks": ""
             }
            },
            "type": "scatter3d"
           }
          ],
          "scattercarpet": [
           {
            "marker": {
             "colorbar": {
              "outlinewidth": 0,
              "ticks": ""
             }
            },
            "type": "scattercarpet"
           }
          ],
          "scattergeo": [
           {
            "marker": {
             "colorbar": {
              "outlinewidth": 0,
              "ticks": ""
             }
            },
            "type": "scattergeo"
           }
          ],
          "scattergl": [
           {
            "marker": {
             "colorbar": {
              "outlinewidth": 0,
              "ticks": ""
             }
            },
            "type": "scattergl"
           }
          ],
          "scattermapbox": [
           {
            "marker": {
             "colorbar": {
              "outlinewidth": 0,
              "ticks": ""
             }
            },
            "type": "scattermapbox"
           }
          ],
          "scatterpolar": [
           {
            "marker": {
             "colorbar": {
              "outlinewidth": 0,
              "ticks": ""
             }
            },
            "type": "scatterpolar"
           }
          ],
          "scatterpolargl": [
           {
            "marker": {
             "colorbar": {
              "outlinewidth": 0,
              "ticks": ""
             }
            },
            "type": "scatterpolargl"
           }
          ],
          "scatterternary": [
           {
            "marker": {
             "colorbar": {
              "outlinewidth": 0,
              "ticks": ""
             }
            },
            "type": "scatterternary"
           }
          ],
          "surface": [
           {
            "colorbar": {
             "outlinewidth": 0,
             "ticks": ""
            },
            "colorscale": [
             [
              0,
              "#0d0887"
             ],
             [
              0.1111111111111111,
              "#46039f"
             ],
             [
              0.2222222222222222,
              "#7201a8"
             ],
             [
              0.3333333333333333,
              "#9c179e"
             ],
             [
              0.4444444444444444,
              "#bd3786"
             ],
             [
              0.5555555555555556,
              "#d8576b"
             ],
             [
              0.6666666666666666,
              "#ed7953"
             ],
             [
              0.7777777777777778,
              "#fb9f3a"
             ],
             [
              0.8888888888888888,
              "#fdca26"
             ],
             [
              1,
              "#f0f921"
             ]
            ],
            "type": "surface"
           }
          ],
          "table": [
           {
            "cells": {
             "fill": {
              "color": "#EBF0F8"
             },
             "line": {
              "color": "white"
             }
            },
            "header": {
             "fill": {
              "color": "#C8D4E3"
             },
             "line": {
              "color": "white"
             }
            },
            "type": "table"
           }
          ]
         },
         "layout": {
          "annotationdefaults": {
           "arrowcolor": "#2a3f5f",
           "arrowhead": 0,
           "arrowwidth": 1
          },
          "autotypenumbers": "strict",
          "coloraxis": {
           "colorbar": {
            "outlinewidth": 0,
            "ticks": ""
           }
          },
          "colorscale": {
           "diverging": [
            [
             0,
             "#8e0152"
            ],
            [
             0.1,
             "#c51b7d"
            ],
            [
             0.2,
             "#de77ae"
            ],
            [
             0.3,
             "#f1b6da"
            ],
            [
             0.4,
             "#fde0ef"
            ],
            [
             0.5,
             "#f7f7f7"
            ],
            [
             0.6,
             "#e6f5d0"
            ],
            [
             0.7,
             "#b8e186"
            ],
            [
             0.8,
             "#7fbc41"
            ],
            [
             0.9,
             "#4d9221"
            ],
            [
             1,
             "#276419"
            ]
           ],
           "sequential": [
            [
             0,
             "#0d0887"
            ],
            [
             0.1111111111111111,
             "#46039f"
            ],
            [
             0.2222222222222222,
             "#7201a8"
            ],
            [
             0.3333333333333333,
             "#9c179e"
            ],
            [
             0.4444444444444444,
             "#bd3786"
            ],
            [
             0.5555555555555556,
             "#d8576b"
            ],
            [
             0.6666666666666666,
             "#ed7953"
            ],
            [
             0.7777777777777778,
             "#fb9f3a"
            ],
            [
             0.8888888888888888,
             "#fdca26"
            ],
            [
             1,
             "#f0f921"
            ]
           ],
           "sequentialminus": [
            [
             0,
             "#0d0887"
            ],
            [
             0.1111111111111111,
             "#46039f"
            ],
            [
             0.2222222222222222,
             "#7201a8"
            ],
            [
             0.3333333333333333,
             "#9c179e"
            ],
            [
             0.4444444444444444,
             "#bd3786"
            ],
            [
             0.5555555555555556,
             "#d8576b"
            ],
            [
             0.6666666666666666,
             "#ed7953"
            ],
            [
             0.7777777777777778,
             "#fb9f3a"
            ],
            [
             0.8888888888888888,
             "#fdca26"
            ],
            [
             1,
             "#f0f921"
            ]
           ]
          },
          "colorway": [
           "#636efa",
           "#EF553B",
           "#00cc96",
           "#ab63fa",
           "#FFA15A",
           "#19d3f3",
           "#FF6692",
           "#B6E880",
           "#FF97FF",
           "#FECB52"
          ],
          "font": {
           "color": "#2a3f5f"
          },
          "geo": {
           "bgcolor": "white",
           "lakecolor": "white",
           "landcolor": "#E5ECF6",
           "showlakes": true,
           "showland": true,
           "subunitcolor": "white"
          },
          "hoverlabel": {
           "align": "left"
          },
          "hovermode": "closest",
          "mapbox": {
           "style": "light"
          },
          "paper_bgcolor": "white",
          "plot_bgcolor": "#E5ECF6",
          "polar": {
           "angularaxis": {
            "gridcolor": "white",
            "linecolor": "white",
            "ticks": ""
           },
           "bgcolor": "#E5ECF6",
           "radialaxis": {
            "gridcolor": "white",
            "linecolor": "white",
            "ticks": ""
           }
          },
          "scene": {
           "xaxis": {
            "backgroundcolor": "#E5ECF6",
            "gridcolor": "white",
            "gridwidth": 2,
            "linecolor": "white",
            "showbackground": true,
            "ticks": "",
            "zerolinecolor": "white"
           },
           "yaxis": {
            "backgroundcolor": "#E5ECF6",
            "gridcolor": "white",
            "gridwidth": 2,
            "linecolor": "white",
            "showbackground": true,
            "ticks": "",
            "zerolinecolor": "white"
           },
           "zaxis": {
            "backgroundcolor": "#E5ECF6",
            "gridcolor": "white",
            "gridwidth": 2,
            "linecolor": "white",
            "showbackground": true,
            "ticks": "",
            "zerolinecolor": "white"
           }
          },
          "shapedefaults": {
           "line": {
            "color": "#2a3f5f"
           }
          },
          "ternary": {
           "aaxis": {
            "gridcolor": "white",
            "linecolor": "white",
            "ticks": ""
           },
           "baxis": {
            "gridcolor": "white",
            "linecolor": "white",
            "ticks": ""
           },
           "bgcolor": "#E5ECF6",
           "caxis": {
            "gridcolor": "white",
            "linecolor": "white",
            "ticks": ""
           }
          },
          "title": {
           "x": 0.05
          },
          "xaxis": {
           "automargin": true,
           "gridcolor": "white",
           "linecolor": "white",
           "ticks": "",
           "title": {
            "standoff": 15
           },
           "zerolinecolor": "white",
           "zerolinewidth": 2
          },
          "yaxis": {
           "automargin": true,
           "gridcolor": "white",
           "linecolor": "white",
           "ticks": "",
           "title": {
            "standoff": 15
           },
           "zerolinecolor": "white",
           "zerolinewidth": 2
          }
         }
        },
        "title": {
         "text": "perplexity 8"
        },
        "xaxis": {
         "anchor": "y",
         "domain": [
          0,
          1
         ],
         "title": {
          "text": "x"
         }
        },
        "yaxis": {
         "anchor": "x",
         "domain": [
          0,
          1
         ],
         "title": {
          "text": "y"
         }
        }
       }
      }
     },
     "metadata": {},
     "output_type": "display_data"
    },
    {
     "name": "stderr",
     "output_type": "stream",
     "text": [
      "/home/amysiak/thesis/env/lib/python3.8/site-packages/sklearn/manifold/_t_sne.py:800: FutureWarning:\n",
      "\n",
      "The default initialization in TSNE will change from 'random' to 'pca' in 1.2.\n",
      "\n",
      "/home/amysiak/thesis/env/lib/python3.8/site-packages/sklearn/manifold/_t_sne.py:810: FutureWarning:\n",
      "\n",
      "The default learning rate in TSNE will change from 200.0 to 'auto' in 1.2.\n",
      "\n"
     ]
    },
    {
     "data": {
      "application/vnd.plotly.v1+json": {
       "config": {
        "plotlyServerURL": "https://plot.ly"
       },
       "data": [
        {
         "customdata": [
          [
           "ar"
          ]
         ],
         "hovertemplate": "color=vso<br>symbol=afro-asiatic<br>x=%{x}<br>y=%{y}<br>hover_data_0=%{customdata[0]}<extra></extra>",
         "legendgroup": "vso, afro-asiatic",
         "marker": {
          "color": "#FD3216",
          "symbol": "circle-open"
         },
         "mode": "markers",
         "name": "vso, afro-asiatic",
         "orientation": "v",
         "showlegend": true,
         "type": "scatter",
         "x": [
          -91.4271011352539
         ],
         "xaxis": "x",
         "y": [
          65.54414367675781
         ],
         "yaxis": "y"
        },
        {
         "customdata": [
          [
           "cy"
          ],
          [
           "ga"
          ]
         ],
         "hovertemplate": "color=vso<br>symbol=indo-european<br>x=%{x}<br>y=%{y}<br>hover_data_0=%{customdata[0]}<extra></extra>",
         "legendgroup": "vso, indo-european",
         "marker": {
          "color": "#FD3216",
          "symbol": "circle"
         },
         "mode": "markers",
         "name": "vso, indo-european",
         "orientation": "v",
         "showlegend": true,
         "type": "scatter",
         "x": [
          -94.95763397216797,
          -143.87107849121094
         ],
         "xaxis": "x",
         "y": [
          103.24868774414062,
          75.89697265625
         ],
         "yaxis": "y"
        },
        {
         "customdata": [
          [
           "be"
          ],
          [
           "bg"
          ],
          [
           "cs"
          ],
          [
           "hr"
          ],
          [
           "pl"
          ],
          [
           "ru"
          ],
          [
           "slk"
          ],
          [
           "slv"
          ],
          [
           "uk"
          ]
         ],
         "hovertemplate": "color=slavic<br>symbol=indo-european<br>x=%{x}<br>y=%{y}<br>hover_data_0=%{customdata[0]}<extra></extra>",
         "legendgroup": "slavic, indo-european",
         "marker": {
          "color": "#00FE35",
          "symbol": "circle"
         },
         "mode": "markers",
         "name": "slavic, indo-european",
         "orientation": "v",
         "showlegend": true,
         "type": "scatter",
         "x": [
          84.65894317626953,
          129.07794189453125,
          121.72053527832031,
          132.22264099121094,
          175.29185485839844,
          175.25511169433594,
          214.81814575195312,
          90.69845581054688,
          164.348388671875
         ],
         "xaxis": "x",
         "y": [
          -147.0756378173828,
          -127.62545013427734,
          -174.31993103027344,
          -83.04405212402344,
          -196.79074096679688,
          -110.06949615478516,
          -163.05377197265625,
          -98.96607208251953,
          -152.39906311035156
         ],
         "yaxis": "y"
        },
        {
         "customdata": [
          [
           "de"
          ],
          [
           "en"
          ],
          [
           "es"
          ],
          [
           "fr"
          ],
          [
           "lt"
          ],
          [
           "lv"
          ],
          [
           "nl"
          ]
         ],
         "hovertemplate": "color=svo<br>symbol=indo-european<br>x=%{x}<br>y=%{y}<br>hover_data_0=%{customdata[0]}<extra></extra>",
         "legendgroup": "svo, indo-european",
         "marker": {
          "color": "#6A76FC",
          "symbol": "circle"
         },
         "mode": "markers",
         "name": "svo, indo-european",
         "orientation": "v",
         "showlegend": true,
         "type": "scatter",
         "x": [
          -130.91676330566406,
          -205.72630310058594,
          -183.39031982421875,
          -212.02174377441406,
          41.78471374511719,
          21.96219825744629,
          -155.34536743164062
         ],
         "xaxis": "x",
         "y": [
          -10.527931213378906,
          62.376033782958984,
          108.2489242553711,
          131.4921112060547,
          -18.629919052124023,
          -48.711483001708984,
          14.610325813293457
         ],
         "yaxis": "y"
        },
        {
         "customdata": [
          [
           "fi"
          ]
         ],
         "hovertemplate": "color=svo<br>symbol=uralic<br>x=%{x}<br>y=%{y}<br>hover_data_0=%{customdata[0]}<extra></extra>",
         "legendgroup": "svo, uralic",
         "marker": {
          "color": "#6A76FC",
          "symbol": "circle-open-dot"
         },
         "mode": "markers",
         "name": "svo, uralic",
         "orientation": "v",
         "showlegend": true,
         "type": "scatter",
         "x": [
          -9.247138977050781
         ],
         "xaxis": "x",
         "y": [
          -4.867422580718994
         ],
         "yaxis": "y"
        },
        {
         "customdata": [
          [
           "id"
          ]
         ],
         "hovertemplate": "color=svo<br>symbol=austronesian<br>x=%{x}<br>y=%{y}<br>hover_data_0=%{customdata[0]}<extra></extra>",
         "legendgroup": "svo, austronesian",
         "marker": {
          "color": "#6A76FC",
          "symbol": "square"
         },
         "mode": "markers",
         "name": "svo, austronesian",
         "orientation": "v",
         "showlegend": true,
         "type": "scatter",
         "x": [
          -131.88784790039062
         ],
         "xaxis": "x",
         "y": [
          113.81452941894531
         ],
         "yaxis": "y"
        },
        {
         "customdata": [
          [
           "zh"
          ]
         ],
         "hovertemplate": "color=svo<br>symbol=sino-tibetan<br>x=%{x}<br>y=%{y}<br>hover_data_0=%{customdata[0]}<extra></extra>",
         "legendgroup": "svo, sino-tibetan",
         "marker": {
          "color": "#6A76FC",
          "symbol": "star"
         },
         "mode": "markers",
         "name": "svo, sino-tibetan",
         "orientation": "v",
         "showlegend": true,
         "type": "scatter",
         "x": [
          -128.85618591308594
         ],
         "xaxis": "x",
         "y": [
          232.74346923828125
         ],
         "yaxis": "y"
        },
        {
         "customdata": [
          [
           "fa"
          ],
          [
           "hy"
          ]
         ],
         "hovertemplate": "color=sov<br>symbol=indo-european<br>x=%{x}<br>y=%{y}<br>hover_data_0=%{customdata[0]}<extra></extra>",
         "legendgroup": "sov, indo-european",
         "marker": {
          "color": "#FED4C4",
          "symbol": "circle"
         },
         "mode": "markers",
         "name": "sov, indo-european",
         "orientation": "v",
         "showlegend": true,
         "type": "scatter",
         "x": [
          -125.96741485595703,
          -20.510650634765625
         ],
         "xaxis": "x",
         "y": [
          188.76402282714844,
          33.42356491088867
         ],
         "yaxis": "y"
        },
        {
         "customdata": [
          [
           "ja"
          ]
         ],
         "hovertemplate": "color=sov<br>symbol=japonic<br>x=%{x}<br>y=%{y}<br>hover_data_0=%{customdata[0]}<extra></extra>",
         "legendgroup": "sov, japonic",
         "marker": {
          "color": "#FED4C4",
          "symbol": "diamond"
         },
         "mode": "markers",
         "name": "sov, japonic",
         "orientation": "v",
         "showlegend": true,
         "type": "scatter",
         "x": [
          -94.22892761230469
         ],
         "xaxis": "x",
         "y": [
          240.3672637939453
         ],
         "yaxis": "y"
        },
        {
         "customdata": [
          [
           "ko"
          ]
         ],
         "hovertemplate": "color=sov<br>symbol=koreanic<br>x=%{x}<br>y=%{y}<br>hover_data_0=%{customdata[0]}<extra></extra>",
         "legendgroup": "sov, koreanic",
         "marker": {
          "color": "#FED4C4",
          "symbol": "x"
         },
         "mode": "markers",
         "name": "sov, koreanic",
         "orientation": "v",
         "showlegend": true,
         "type": "scatter",
         "x": [
          12.212770462036133
         ],
         "xaxis": "x",
         "y": [
          72.93486785888672
         ],
         "yaxis": "y"
        },
        {
         "customdata": [
          [
           "tr"
          ]
         ],
         "hovertemplate": "color=sov<br>symbol=turkic<br>x=%{x}<br>y=%{y}<br>hover_data_0=%{customdata[0]}<extra></extra>",
         "legendgroup": "sov, turkic",
         "marker": {
          "color": "#FED4C4",
          "symbol": "triangle-up"
         },
         "mode": "markers",
         "name": "sov, turkic",
         "orientation": "v",
         "showlegend": true,
         "type": "scatter",
         "x": [
          48.708457946777344
         ],
         "xaxis": "x",
         "y": [
          50.92328643798828
         ],
         "yaxis": "y"
        }
       ],
       "layout": {
        "legend": {
         "title": {
          "text": "color, symbol"
         },
         "tracegroupgap": 0
        },
        "template": {
         "data": {
          "bar": [
           {
            "error_x": {
             "color": "#2a3f5f"
            },
            "error_y": {
             "color": "#2a3f5f"
            },
            "marker": {
             "line": {
              "color": "#E5ECF6",
              "width": 0.5
             },
             "pattern": {
              "fillmode": "overlay",
              "size": 10,
              "solidity": 0.2
             }
            },
            "type": "bar"
           }
          ],
          "barpolar": [
           {
            "marker": {
             "line": {
              "color": "#E5ECF6",
              "width": 0.5
             },
             "pattern": {
              "fillmode": "overlay",
              "size": 10,
              "solidity": 0.2
             }
            },
            "type": "barpolar"
           }
          ],
          "carpet": [
           {
            "aaxis": {
             "endlinecolor": "#2a3f5f",
             "gridcolor": "white",
             "linecolor": "white",
             "minorgridcolor": "white",
             "startlinecolor": "#2a3f5f"
            },
            "baxis": {
             "endlinecolor": "#2a3f5f",
             "gridcolor": "white",
             "linecolor": "white",
             "minorgridcolor": "white",
             "startlinecolor": "#2a3f5f"
            },
            "type": "carpet"
           }
          ],
          "choropleth": [
           {
            "colorbar": {
             "outlinewidth": 0,
             "ticks": ""
            },
            "type": "choropleth"
           }
          ],
          "contour": [
           {
            "colorbar": {
             "outlinewidth": 0,
             "ticks": ""
            },
            "colorscale": [
             [
              0,
              "#0d0887"
             ],
             [
              0.1111111111111111,
              "#46039f"
             ],
             [
              0.2222222222222222,
              "#7201a8"
             ],
             [
              0.3333333333333333,
              "#9c179e"
             ],
             [
              0.4444444444444444,
              "#bd3786"
             ],
             [
              0.5555555555555556,
              "#d8576b"
             ],
             [
              0.6666666666666666,
              "#ed7953"
             ],
             [
              0.7777777777777778,
              "#fb9f3a"
             ],
             [
              0.8888888888888888,
              "#fdca26"
             ],
             [
              1,
              "#f0f921"
             ]
            ],
            "type": "contour"
           }
          ],
          "contourcarpet": [
           {
            "colorbar": {
             "outlinewidth": 0,
             "ticks": ""
            },
            "type": "contourcarpet"
           }
          ],
          "heatmap": [
           {
            "colorbar": {
             "outlinewidth": 0,
             "ticks": ""
            },
            "colorscale": [
             [
              0,
              "#0d0887"
             ],
             [
              0.1111111111111111,
              "#46039f"
             ],
             [
              0.2222222222222222,
              "#7201a8"
             ],
             [
              0.3333333333333333,
              "#9c179e"
             ],
             [
              0.4444444444444444,
              "#bd3786"
             ],
             [
              0.5555555555555556,
              "#d8576b"
             ],
             [
              0.6666666666666666,
              "#ed7953"
             ],
             [
              0.7777777777777778,
              "#fb9f3a"
             ],
             [
              0.8888888888888888,
              "#fdca26"
             ],
             [
              1,
              "#f0f921"
             ]
            ],
            "type": "heatmap"
           }
          ],
          "heatmapgl": [
           {
            "colorbar": {
             "outlinewidth": 0,
             "ticks": ""
            },
            "colorscale": [
             [
              0,
              "#0d0887"
             ],
             [
              0.1111111111111111,
              "#46039f"
             ],
             [
              0.2222222222222222,
              "#7201a8"
             ],
             [
              0.3333333333333333,
              "#9c179e"
             ],
             [
              0.4444444444444444,
              "#bd3786"
             ],
             [
              0.5555555555555556,
              "#d8576b"
             ],
             [
              0.6666666666666666,
              "#ed7953"
             ],
             [
              0.7777777777777778,
              "#fb9f3a"
             ],
             [
              0.8888888888888888,
              "#fdca26"
             ],
             [
              1,
              "#f0f921"
             ]
            ],
            "type": "heatmapgl"
           }
          ],
          "histogram": [
           {
            "marker": {
             "pattern": {
              "fillmode": "overlay",
              "size": 10,
              "solidity": 0.2
             }
            },
            "type": "histogram"
           }
          ],
          "histogram2d": [
           {
            "colorbar": {
             "outlinewidth": 0,
             "ticks": ""
            },
            "colorscale": [
             [
              0,
              "#0d0887"
             ],
             [
              0.1111111111111111,
              "#46039f"
             ],
             [
              0.2222222222222222,
              "#7201a8"
             ],
             [
              0.3333333333333333,
              "#9c179e"
             ],
             [
              0.4444444444444444,
              "#bd3786"
             ],
             [
              0.5555555555555556,
              "#d8576b"
             ],
             [
              0.6666666666666666,
              "#ed7953"
             ],
             [
              0.7777777777777778,
              "#fb9f3a"
             ],
             [
              0.8888888888888888,
              "#fdca26"
             ],
             [
              1,
              "#f0f921"
             ]
            ],
            "type": "histogram2d"
           }
          ],
          "histogram2dcontour": [
           {
            "colorbar": {
             "outlinewidth": 0,
             "ticks": ""
            },
            "colorscale": [
             [
              0,
              "#0d0887"
             ],
             [
              0.1111111111111111,
              "#46039f"
             ],
             [
              0.2222222222222222,
              "#7201a8"
             ],
             [
              0.3333333333333333,
              "#9c179e"
             ],
             [
              0.4444444444444444,
              "#bd3786"
             ],
             [
              0.5555555555555556,
              "#d8576b"
             ],
             [
              0.6666666666666666,
              "#ed7953"
             ],
             [
              0.7777777777777778,
              "#fb9f3a"
             ],
             [
              0.8888888888888888,
              "#fdca26"
             ],
             [
              1,
              "#f0f921"
             ]
            ],
            "type": "histogram2dcontour"
           }
          ],
          "mesh3d": [
           {
            "colorbar": {
             "outlinewidth": 0,
             "ticks": ""
            },
            "type": "mesh3d"
           }
          ],
          "parcoords": [
           {
            "line": {
             "colorbar": {
              "outlinewidth": 0,
              "ticks": ""
             }
            },
            "type": "parcoords"
           }
          ],
          "pie": [
           {
            "automargin": true,
            "type": "pie"
           }
          ],
          "scatter": [
           {
            "fillpattern": {
             "fillmode": "overlay",
             "size": 10,
             "solidity": 0.2
            },
            "type": "scatter"
           }
          ],
          "scatter3d": [
           {
            "line": {
             "colorbar": {
              "outlinewidth": 0,
              "ticks": ""
             }
            },
            "marker": {
             "colorbar": {
              "outlinewidth": 0,
              "ticks": ""
             }
            },
            "type": "scatter3d"
           }
          ],
          "scattercarpet": [
           {
            "marker": {
             "colorbar": {
              "outlinewidth": 0,
              "ticks": ""
             }
            },
            "type": "scattercarpet"
           }
          ],
          "scattergeo": [
           {
            "marker": {
             "colorbar": {
              "outlinewidth": 0,
              "ticks": ""
             }
            },
            "type": "scattergeo"
           }
          ],
          "scattergl": [
           {
            "marker": {
             "colorbar": {
              "outlinewidth": 0,
              "ticks": ""
             }
            },
            "type": "scattergl"
           }
          ],
          "scattermapbox": [
           {
            "marker": {
             "colorbar": {
              "outlinewidth": 0,
              "ticks": ""
             }
            },
            "type": "scattermapbox"
           }
          ],
          "scatterpolar": [
           {
            "marker": {
             "colorbar": {
              "outlinewidth": 0,
              "ticks": ""
             }
            },
            "type": "scatterpolar"
           }
          ],
          "scatterpolargl": [
           {
            "marker": {
             "colorbar": {
              "outlinewidth": 0,
              "ticks": ""
             }
            },
            "type": "scatterpolargl"
           }
          ],
          "scatterternary": [
           {
            "marker": {
             "colorbar": {
              "outlinewidth": 0,
              "ticks": ""
             }
            },
            "type": "scatterternary"
           }
          ],
          "surface": [
           {
            "colorbar": {
             "outlinewidth": 0,
             "ticks": ""
            },
            "colorscale": [
             [
              0,
              "#0d0887"
             ],
             [
              0.1111111111111111,
              "#46039f"
             ],
             [
              0.2222222222222222,
              "#7201a8"
             ],
             [
              0.3333333333333333,
              "#9c179e"
             ],
             [
              0.4444444444444444,
              "#bd3786"
             ],
             [
              0.5555555555555556,
              "#d8576b"
             ],
             [
              0.6666666666666666,
              "#ed7953"
             ],
             [
              0.7777777777777778,
              "#fb9f3a"
             ],
             [
              0.8888888888888888,
              "#fdca26"
             ],
             [
              1,
              "#f0f921"
             ]
            ],
            "type": "surface"
           }
          ],
          "table": [
           {
            "cells": {
             "fill": {
              "color": "#EBF0F8"
             },
             "line": {
              "color": "white"
             }
            },
            "header": {
             "fill": {
              "color": "#C8D4E3"
             },
             "line": {
              "color": "white"
             }
            },
            "type": "table"
           }
          ]
         },
         "layout": {
          "annotationdefaults": {
           "arrowcolor": "#2a3f5f",
           "arrowhead": 0,
           "arrowwidth": 1
          },
          "autotypenumbers": "strict",
          "coloraxis": {
           "colorbar": {
            "outlinewidth": 0,
            "ticks": ""
           }
          },
          "colorscale": {
           "diverging": [
            [
             0,
             "#8e0152"
            ],
            [
             0.1,
             "#c51b7d"
            ],
            [
             0.2,
             "#de77ae"
            ],
            [
             0.3,
             "#f1b6da"
            ],
            [
             0.4,
             "#fde0ef"
            ],
            [
             0.5,
             "#f7f7f7"
            ],
            [
             0.6,
             "#e6f5d0"
            ],
            [
             0.7,
             "#b8e186"
            ],
            [
             0.8,
             "#7fbc41"
            ],
            [
             0.9,
             "#4d9221"
            ],
            [
             1,
             "#276419"
            ]
           ],
           "sequential": [
            [
             0,
             "#0d0887"
            ],
            [
             0.1111111111111111,
             "#46039f"
            ],
            [
             0.2222222222222222,
             "#7201a8"
            ],
            [
             0.3333333333333333,
             "#9c179e"
            ],
            [
             0.4444444444444444,
             "#bd3786"
            ],
            [
             0.5555555555555556,
             "#d8576b"
            ],
            [
             0.6666666666666666,
             "#ed7953"
            ],
            [
             0.7777777777777778,
             "#fb9f3a"
            ],
            [
             0.8888888888888888,
             "#fdca26"
            ],
            [
             1,
             "#f0f921"
            ]
           ],
           "sequentialminus": [
            [
             0,
             "#0d0887"
            ],
            [
             0.1111111111111111,
             "#46039f"
            ],
            [
             0.2222222222222222,
             "#7201a8"
            ],
            [
             0.3333333333333333,
             "#9c179e"
            ],
            [
             0.4444444444444444,
             "#bd3786"
            ],
            [
             0.5555555555555556,
             "#d8576b"
            ],
            [
             0.6666666666666666,
             "#ed7953"
            ],
            [
             0.7777777777777778,
             "#fb9f3a"
            ],
            [
             0.8888888888888888,
             "#fdca26"
            ],
            [
             1,
             "#f0f921"
            ]
           ]
          },
          "colorway": [
           "#636efa",
           "#EF553B",
           "#00cc96",
           "#ab63fa",
           "#FFA15A",
           "#19d3f3",
           "#FF6692",
           "#B6E880",
           "#FF97FF",
           "#FECB52"
          ],
          "font": {
           "color": "#2a3f5f"
          },
          "geo": {
           "bgcolor": "white",
           "lakecolor": "white",
           "landcolor": "#E5ECF6",
           "showlakes": true,
           "showland": true,
           "subunitcolor": "white"
          },
          "hoverlabel": {
           "align": "left"
          },
          "hovermode": "closest",
          "mapbox": {
           "style": "light"
          },
          "paper_bgcolor": "white",
          "plot_bgcolor": "#E5ECF6",
          "polar": {
           "angularaxis": {
            "gridcolor": "white",
            "linecolor": "white",
            "ticks": ""
           },
           "bgcolor": "#E5ECF6",
           "radialaxis": {
            "gridcolor": "white",
            "linecolor": "white",
            "ticks": ""
           }
          },
          "scene": {
           "xaxis": {
            "backgroundcolor": "#E5ECF6",
            "gridcolor": "white",
            "gridwidth": 2,
            "linecolor": "white",
            "showbackground": true,
            "ticks": "",
            "zerolinecolor": "white"
           },
           "yaxis": {
            "backgroundcolor": "#E5ECF6",
            "gridcolor": "white",
            "gridwidth": 2,
            "linecolor": "white",
            "showbackground": true,
            "ticks": "",
            "zerolinecolor": "white"
           },
           "zaxis": {
            "backgroundcolor": "#E5ECF6",
            "gridcolor": "white",
            "gridwidth": 2,
            "linecolor": "white",
            "showbackground": true,
            "ticks": "",
            "zerolinecolor": "white"
           }
          },
          "shapedefaults": {
           "line": {
            "color": "#2a3f5f"
           }
          },
          "ternary": {
           "aaxis": {
            "gridcolor": "white",
            "linecolor": "white",
            "ticks": ""
           },
           "baxis": {
            "gridcolor": "white",
            "linecolor": "white",
            "ticks": ""
           },
           "bgcolor": "#E5ECF6",
           "caxis": {
            "gridcolor": "white",
            "linecolor": "white",
            "ticks": ""
           }
          },
          "title": {
           "x": 0.05
          },
          "xaxis": {
           "automargin": true,
           "gridcolor": "white",
           "linecolor": "white",
           "ticks": "",
           "title": {
            "standoff": 15
           },
           "zerolinecolor": "white",
           "zerolinewidth": 2
          },
          "yaxis": {
           "automargin": true,
           "gridcolor": "white",
           "linecolor": "white",
           "ticks": "",
           "title": {
            "standoff": 15
           },
           "zerolinecolor": "white",
           "zerolinewidth": 2
          }
         }
        },
        "title": {
         "text": "perplexity 9"
        },
        "xaxis": {
         "anchor": "y",
         "domain": [
          0,
          1
         ],
         "title": {
          "text": "x"
         }
        },
        "yaxis": {
         "anchor": "x",
         "domain": [
          0,
          1
         ],
         "title": {
          "text": "y"
         }
        }
       }
      }
     },
     "metadata": {},
     "output_type": "display_data"
    },
    {
     "name": "stderr",
     "output_type": "stream",
     "text": [
      "/home/amysiak/thesis/env/lib/python3.8/site-packages/sklearn/manifold/_t_sne.py:800: FutureWarning:\n",
      "\n",
      "The default initialization in TSNE will change from 'random' to 'pca' in 1.2.\n",
      "\n",
      "/home/amysiak/thesis/env/lib/python3.8/site-packages/sklearn/manifold/_t_sne.py:810: FutureWarning:\n",
      "\n",
      "The default learning rate in TSNE will change from 200.0 to 'auto' in 1.2.\n",
      "\n"
     ]
    },
    {
     "data": {
      "application/vnd.plotly.v1+json": {
       "config": {
        "plotlyServerURL": "https://plot.ly"
       },
       "data": [
        {
         "customdata": [
          [
           "ar"
          ]
         ],
         "hovertemplate": "color=vso<br>symbol=afro-asiatic<br>x=%{x}<br>y=%{y}<br>hover_data_0=%{customdata[0]}<extra></extra>",
         "legendgroup": "vso, afro-asiatic",
         "marker": {
          "color": "#FD3216",
          "symbol": "circle-open"
         },
         "mode": "markers",
         "name": "vso, afro-asiatic",
         "orientation": "v",
         "showlegend": true,
         "type": "scatter",
         "x": [
          -28.814550399780273
         ],
         "xaxis": "x",
         "y": [
          -83.5587158203125
         ],
         "yaxis": "y"
        },
        {
         "customdata": [
          [
           "cy"
          ],
          [
           "ga"
          ]
         ],
         "hovertemplate": "color=vso<br>symbol=indo-european<br>x=%{x}<br>y=%{y}<br>hover_data_0=%{customdata[0]}<extra></extra>",
         "legendgroup": "vso, indo-european",
         "marker": {
          "color": "#FD3216",
          "symbol": "circle"
         },
         "mode": "markers",
         "name": "vso, indo-european",
         "orientation": "v",
         "showlegend": true,
         "type": "scatter",
         "x": [
          -59.63668441772461,
          -97.13802337646484
         ],
         "xaxis": "x",
         "y": [
          -73.41646575927734,
          -93.75780487060547
         ],
         "yaxis": "y"
        },
        {
         "customdata": [
          [
           "be"
          ],
          [
           "bg"
          ],
          [
           "cs"
          ],
          [
           "hr"
          ],
          [
           "pl"
          ],
          [
           "ru"
          ],
          [
           "slk"
          ],
          [
           "slv"
          ],
          [
           "uk"
          ]
         ],
         "hovertemplate": "color=slavic<br>symbol=indo-european<br>x=%{x}<br>y=%{y}<br>hover_data_0=%{customdata[0]}<extra></extra>",
         "legendgroup": "slavic, indo-european",
         "marker": {
          "color": "#00FE35",
          "symbol": "circle"
         },
         "mode": "markers",
         "name": "slavic, indo-european",
         "orientation": "v",
         "showlegend": true,
         "type": "scatter",
         "x": [
          113.65557098388672,
          156.7332763671875,
          123.66539001464844,
          104.97984313964844,
          151.92433166503906,
          145.37338256835938,
          114.1452865600586,
          76.0933837890625,
          88.80294799804688
         ],
         "xaxis": "x",
         "y": [
          82.0772476196289,
          95.9324951171875,
          112.78787231445312,
          49.02517318725586,
          140.1201171875,
          61.6301155090332,
          157.92665100097656,
          79.06343078613281,
          120.26931762695312
         ],
         "yaxis": "y"
        },
        {
         "customdata": [
          [
           "de"
          ],
          [
           "en"
          ],
          [
           "es"
          ],
          [
           "fr"
          ],
          [
           "lt"
          ],
          [
           "lv"
          ],
          [
           "nl"
          ]
         ],
         "hovertemplate": "color=svo<br>symbol=indo-european<br>x=%{x}<br>y=%{y}<br>hover_data_0=%{customdata[0]}<extra></extra>",
         "legendgroup": "svo, indo-european",
         "marker": {
          "color": "#6A76FC",
          "symbol": "circle"
         },
         "mode": "markers",
         "name": "svo, indo-european",
         "orientation": "v",
         "showlegend": true,
         "type": "scatter",
         "x": [
          -56.208927154541016,
          -111.58800506591797,
          -69.20893096923828,
          -37.122589111328125,
          66.66136932373047,
          46.03705978393555,
          -78.26801300048828
         ],
         "xaxis": "x",
         "y": [
          -13.970414161682129,
          -134.07388305664062,
          -145.5111541748047,
          -143.64202880859375,
          -0.9818958640098572,
          21.511146545410156,
          -33.490718841552734
         ],
         "yaxis": "y"
        },
        {
         "customdata": [
          [
           "fi"
          ]
         ],
         "hovertemplate": "color=svo<br>symbol=uralic<br>x=%{x}<br>y=%{y}<br>hover_data_0=%{customdata[0]}<extra></extra>",
         "legendgroup": "svo, uralic",
         "marker": {
          "color": "#6A76FC",
          "symbol": "circle-open-dot"
         },
         "mode": "markers",
         "name": "svo, uralic",
         "orientation": "v",
         "showlegend": true,
         "type": "scatter",
         "x": [
          26.440183639526367
         ],
         "xaxis": "x",
         "y": [
          -17.045427322387695
         ],
         "yaxis": "y"
        },
        {
         "customdata": [
          [
           "id"
          ]
         ],
         "hovertemplate": "color=svo<br>symbol=austronesian<br>x=%{x}<br>y=%{y}<br>hover_data_0=%{customdata[0]}<extra></extra>",
         "legendgroup": "svo, austronesian",
         "marker": {
          "color": "#6A76FC",
          "symbol": "square"
         },
         "mode": "markers",
         "name": "svo, austronesian",
         "orientation": "v",
         "showlegend": true,
         "type": "scatter",
         "x": [
          -61.1057243347168
         ],
         "xaxis": "x",
         "y": [
          -104.7061996459961
         ],
         "yaxis": "y"
        },
        {
         "customdata": [
          [
           "zh"
          ]
         ],
         "hovertemplate": "color=svo<br>symbol=sino-tibetan<br>x=%{x}<br>y=%{y}<br>hover_data_0=%{customdata[0]}<extra></extra>",
         "legendgroup": "svo, sino-tibetan",
         "marker": {
          "color": "#6A76FC",
          "symbol": "star"
         },
         "mode": "markers",
         "name": "svo, sino-tibetan",
         "orientation": "v",
         "showlegend": true,
         "type": "scatter",
         "x": [
          -184.86412048339844
         ],
         "xaxis": "x",
         "y": [
          -89.50956726074219
         ],
         "yaxis": "y"
        },
        {
         "customdata": [
          [
           "fa"
          ],
          [
           "hy"
          ]
         ],
         "hovertemplate": "color=sov<br>symbol=indo-european<br>x=%{x}<br>y=%{y}<br>hover_data_0=%{customdata[0]}<extra></extra>",
         "legendgroup": "sov, indo-european",
         "marker": {
          "color": "#FED4C4",
          "symbol": "circle"
         },
         "mode": "markers",
         "name": "sov, indo-european",
         "orientation": "v",
         "showlegend": true,
         "type": "scatter",
         "x": [
          -149.332763671875,
          16.588396072387695
         ],
         "xaxis": "x",
         "y": [
          -83.84569549560547,
          -48.59829330444336
         ],
         "yaxis": "y"
        },
        {
         "customdata": [
          [
           "ja"
          ]
         ],
         "hovertemplate": "color=sov<br>symbol=japonic<br>x=%{x}<br>y=%{y}<br>hover_data_0=%{customdata[0]}<extra></extra>",
         "legendgroup": "sov, japonic",
         "marker": {
          "color": "#FED4C4",
          "symbol": "diamond"
         },
         "mode": "markers",
         "name": "sov, japonic",
         "orientation": "v",
         "showlegend": true,
         "type": "scatter",
         "x": [
          -186.1355438232422
         ],
         "xaxis": "x",
         "y": [
          -118.97041320800781
         ],
         "yaxis": "y"
        },
        {
         "customdata": [
          [
           "ko"
          ]
         ],
         "hovertemplate": "color=sov<br>symbol=koreanic<br>x=%{x}<br>y=%{y}<br>hover_data_0=%{customdata[0]}<extra></extra>",
         "legendgroup": "sov, koreanic",
         "marker": {
          "color": "#FED4C4",
          "symbol": "x"
         },
         "mode": "markers",
         "name": "sov, koreanic",
         "orientation": "v",
         "showlegend": true,
         "type": "scatter",
         "x": [
          47.01631164550781
         ],
         "xaxis": "x",
         "y": [
          -77.66189575195312
         ],
         "yaxis": "y"
        },
        {
         "customdata": [
          [
           "tr"
          ]
         ],
         "hovertemplate": "color=sov<br>symbol=turkic<br>x=%{x}<br>y=%{y}<br>hover_data_0=%{customdata[0]}<extra></extra>",
         "legendgroup": "sov, turkic",
         "marker": {
          "color": "#FED4C4",
          "symbol": "triangle-up"
         },
         "mode": "markers",
         "name": "sov, turkic",
         "orientation": "v",
         "showlegend": true,
         "type": "scatter",
         "x": [
          75.78083038330078
         ],
         "xaxis": "x",
         "y": [
          -56.79640197753906
         ],
         "yaxis": "y"
        }
       ],
       "layout": {
        "legend": {
         "title": {
          "text": "color, symbol"
         },
         "tracegroupgap": 0
        },
        "template": {
         "data": {
          "bar": [
           {
            "error_x": {
             "color": "#2a3f5f"
            },
            "error_y": {
             "color": "#2a3f5f"
            },
            "marker": {
             "line": {
              "color": "#E5ECF6",
              "width": 0.5
             },
             "pattern": {
              "fillmode": "overlay",
              "size": 10,
              "solidity": 0.2
             }
            },
            "type": "bar"
           }
          ],
          "barpolar": [
           {
            "marker": {
             "line": {
              "color": "#E5ECF6",
              "width": 0.5
             },
             "pattern": {
              "fillmode": "overlay",
              "size": 10,
              "solidity": 0.2
             }
            },
            "type": "barpolar"
           }
          ],
          "carpet": [
           {
            "aaxis": {
             "endlinecolor": "#2a3f5f",
             "gridcolor": "white",
             "linecolor": "white",
             "minorgridcolor": "white",
             "startlinecolor": "#2a3f5f"
            },
            "baxis": {
             "endlinecolor": "#2a3f5f",
             "gridcolor": "white",
             "linecolor": "white",
             "minorgridcolor": "white",
             "startlinecolor": "#2a3f5f"
            },
            "type": "carpet"
           }
          ],
          "choropleth": [
           {
            "colorbar": {
             "outlinewidth": 0,
             "ticks": ""
            },
            "type": "choropleth"
           }
          ],
          "contour": [
           {
            "colorbar": {
             "outlinewidth": 0,
             "ticks": ""
            },
            "colorscale": [
             [
              0,
              "#0d0887"
             ],
             [
              0.1111111111111111,
              "#46039f"
             ],
             [
              0.2222222222222222,
              "#7201a8"
             ],
             [
              0.3333333333333333,
              "#9c179e"
             ],
             [
              0.4444444444444444,
              "#bd3786"
             ],
             [
              0.5555555555555556,
              "#d8576b"
             ],
             [
              0.6666666666666666,
              "#ed7953"
             ],
             [
              0.7777777777777778,
              "#fb9f3a"
             ],
             [
              0.8888888888888888,
              "#fdca26"
             ],
             [
              1,
              "#f0f921"
             ]
            ],
            "type": "contour"
           }
          ],
          "contourcarpet": [
           {
            "colorbar": {
             "outlinewidth": 0,
             "ticks": ""
            },
            "type": "contourcarpet"
           }
          ],
          "heatmap": [
           {
            "colorbar": {
             "outlinewidth": 0,
             "ticks": ""
            },
            "colorscale": [
             [
              0,
              "#0d0887"
             ],
             [
              0.1111111111111111,
              "#46039f"
             ],
             [
              0.2222222222222222,
              "#7201a8"
             ],
             [
              0.3333333333333333,
              "#9c179e"
             ],
             [
              0.4444444444444444,
              "#bd3786"
             ],
             [
              0.5555555555555556,
              "#d8576b"
             ],
             [
              0.6666666666666666,
              "#ed7953"
             ],
             [
              0.7777777777777778,
              "#fb9f3a"
             ],
             [
              0.8888888888888888,
              "#fdca26"
             ],
             [
              1,
              "#f0f921"
             ]
            ],
            "type": "heatmap"
           }
          ],
          "heatmapgl": [
           {
            "colorbar": {
             "outlinewidth": 0,
             "ticks": ""
            },
            "colorscale": [
             [
              0,
              "#0d0887"
             ],
             [
              0.1111111111111111,
              "#46039f"
             ],
             [
              0.2222222222222222,
              "#7201a8"
             ],
             [
              0.3333333333333333,
              "#9c179e"
             ],
             [
              0.4444444444444444,
              "#bd3786"
             ],
             [
              0.5555555555555556,
              "#d8576b"
             ],
             [
              0.6666666666666666,
              "#ed7953"
             ],
             [
              0.7777777777777778,
              "#fb9f3a"
             ],
             [
              0.8888888888888888,
              "#fdca26"
             ],
             [
              1,
              "#f0f921"
             ]
            ],
            "type": "heatmapgl"
           }
          ],
          "histogram": [
           {
            "marker": {
             "pattern": {
              "fillmode": "overlay",
              "size": 10,
              "solidity": 0.2
             }
            },
            "type": "histogram"
           }
          ],
          "histogram2d": [
           {
            "colorbar": {
             "outlinewidth": 0,
             "ticks": ""
            },
            "colorscale": [
             [
              0,
              "#0d0887"
             ],
             [
              0.1111111111111111,
              "#46039f"
             ],
             [
              0.2222222222222222,
              "#7201a8"
             ],
             [
              0.3333333333333333,
              "#9c179e"
             ],
             [
              0.4444444444444444,
              "#bd3786"
             ],
             [
              0.5555555555555556,
              "#d8576b"
             ],
             [
              0.6666666666666666,
              "#ed7953"
             ],
             [
              0.7777777777777778,
              "#fb9f3a"
             ],
             [
              0.8888888888888888,
              "#fdca26"
             ],
             [
              1,
              "#f0f921"
             ]
            ],
            "type": "histogram2d"
           }
          ],
          "histogram2dcontour": [
           {
            "colorbar": {
             "outlinewidth": 0,
             "ticks": ""
            },
            "colorscale": [
             [
              0,
              "#0d0887"
             ],
             [
              0.1111111111111111,
              "#46039f"
             ],
             [
              0.2222222222222222,
              "#7201a8"
             ],
             [
              0.3333333333333333,
              "#9c179e"
             ],
             [
              0.4444444444444444,
              "#bd3786"
             ],
             [
              0.5555555555555556,
              "#d8576b"
             ],
             [
              0.6666666666666666,
              "#ed7953"
             ],
             [
              0.7777777777777778,
              "#fb9f3a"
             ],
             [
              0.8888888888888888,
              "#fdca26"
             ],
             [
              1,
              "#f0f921"
             ]
            ],
            "type": "histogram2dcontour"
           }
          ],
          "mesh3d": [
           {
            "colorbar": {
             "outlinewidth": 0,
             "ticks": ""
            },
            "type": "mesh3d"
           }
          ],
          "parcoords": [
           {
            "line": {
             "colorbar": {
              "outlinewidth": 0,
              "ticks": ""
             }
            },
            "type": "parcoords"
           }
          ],
          "pie": [
           {
            "automargin": true,
            "type": "pie"
           }
          ],
          "scatter": [
           {
            "fillpattern": {
             "fillmode": "overlay",
             "size": 10,
             "solidity": 0.2
            },
            "type": "scatter"
           }
          ],
          "scatter3d": [
           {
            "line": {
             "colorbar": {
              "outlinewidth": 0,
              "ticks": ""
             }
            },
            "marker": {
             "colorbar": {
              "outlinewidth": 0,
              "ticks": ""
             }
            },
            "type": "scatter3d"
           }
          ],
          "scattercarpet": [
           {
            "marker": {
             "colorbar": {
              "outlinewidth": 0,
              "ticks": ""
             }
            },
            "type": "scattercarpet"
           }
          ],
          "scattergeo": [
           {
            "marker": {
             "colorbar": {
              "outlinewidth": 0,
              "ticks": ""
             }
            },
            "type": "scattergeo"
           }
          ],
          "scattergl": [
           {
            "marker": {
             "colorbar": {
              "outlinewidth": 0,
              "ticks": ""
             }
            },
            "type": "scattergl"
           }
          ],
          "scattermapbox": [
           {
            "marker": {
             "colorbar": {
              "outlinewidth": 0,
              "ticks": ""
             }
            },
            "type": "scattermapbox"
           }
          ],
          "scatterpolar": [
           {
            "marker": {
             "colorbar": {
              "outlinewidth": 0,
              "ticks": ""
             }
            },
            "type": "scatterpolar"
           }
          ],
          "scatterpolargl": [
           {
            "marker": {
             "colorbar": {
              "outlinewidth": 0,
              "ticks": ""
             }
            },
            "type": "scatterpolargl"
           }
          ],
          "scatterternary": [
           {
            "marker": {
             "colorbar": {
              "outlinewidth": 0,
              "ticks": ""
             }
            },
            "type": "scatterternary"
           }
          ],
          "surface": [
           {
            "colorbar": {
             "outlinewidth": 0,
             "ticks": ""
            },
            "colorscale": [
             [
              0,
              "#0d0887"
             ],
             [
              0.1111111111111111,
              "#46039f"
             ],
             [
              0.2222222222222222,
              "#7201a8"
             ],
             [
              0.3333333333333333,
              "#9c179e"
             ],
             [
              0.4444444444444444,
              "#bd3786"
             ],
             [
              0.5555555555555556,
              "#d8576b"
             ],
             [
              0.6666666666666666,
              "#ed7953"
             ],
             [
              0.7777777777777778,
              "#fb9f3a"
             ],
             [
              0.8888888888888888,
              "#fdca26"
             ],
             [
              1,
              "#f0f921"
             ]
            ],
            "type": "surface"
           }
          ],
          "table": [
           {
            "cells": {
             "fill": {
              "color": "#EBF0F8"
             },
             "line": {
              "color": "white"
             }
            },
            "header": {
             "fill": {
              "color": "#C8D4E3"
             },
             "line": {
              "color": "white"
             }
            },
            "type": "table"
           }
          ]
         },
         "layout": {
          "annotationdefaults": {
           "arrowcolor": "#2a3f5f",
           "arrowhead": 0,
           "arrowwidth": 1
          },
          "autotypenumbers": "strict",
          "coloraxis": {
           "colorbar": {
            "outlinewidth": 0,
            "ticks": ""
           }
          },
          "colorscale": {
           "diverging": [
            [
             0,
             "#8e0152"
            ],
            [
             0.1,
             "#c51b7d"
            ],
            [
             0.2,
             "#de77ae"
            ],
            [
             0.3,
             "#f1b6da"
            ],
            [
             0.4,
             "#fde0ef"
            ],
            [
             0.5,
             "#f7f7f7"
            ],
            [
             0.6,
             "#e6f5d0"
            ],
            [
             0.7,
             "#b8e186"
            ],
            [
             0.8,
             "#7fbc41"
            ],
            [
             0.9,
             "#4d9221"
            ],
            [
             1,
             "#276419"
            ]
           ],
           "sequential": [
            [
             0,
             "#0d0887"
            ],
            [
             0.1111111111111111,
             "#46039f"
            ],
            [
             0.2222222222222222,
             "#7201a8"
            ],
            [
             0.3333333333333333,
             "#9c179e"
            ],
            [
             0.4444444444444444,
             "#bd3786"
            ],
            [
             0.5555555555555556,
             "#d8576b"
            ],
            [
             0.6666666666666666,
             "#ed7953"
            ],
            [
             0.7777777777777778,
             "#fb9f3a"
            ],
            [
             0.8888888888888888,
             "#fdca26"
            ],
            [
             1,
             "#f0f921"
            ]
           ],
           "sequentialminus": [
            [
             0,
             "#0d0887"
            ],
            [
             0.1111111111111111,
             "#46039f"
            ],
            [
             0.2222222222222222,
             "#7201a8"
            ],
            [
             0.3333333333333333,
             "#9c179e"
            ],
            [
             0.4444444444444444,
             "#bd3786"
            ],
            [
             0.5555555555555556,
             "#d8576b"
            ],
            [
             0.6666666666666666,
             "#ed7953"
            ],
            [
             0.7777777777777778,
             "#fb9f3a"
            ],
            [
             0.8888888888888888,
             "#fdca26"
            ],
            [
             1,
             "#f0f921"
            ]
           ]
          },
          "colorway": [
           "#636efa",
           "#EF553B",
           "#00cc96",
           "#ab63fa",
           "#FFA15A",
           "#19d3f3",
           "#FF6692",
           "#B6E880",
           "#FF97FF",
           "#FECB52"
          ],
          "font": {
           "color": "#2a3f5f"
          },
          "geo": {
           "bgcolor": "white",
           "lakecolor": "white",
           "landcolor": "#E5ECF6",
           "showlakes": true,
           "showland": true,
           "subunitcolor": "white"
          },
          "hoverlabel": {
           "align": "left"
          },
          "hovermode": "closest",
          "mapbox": {
           "style": "light"
          },
          "paper_bgcolor": "white",
          "plot_bgcolor": "#E5ECF6",
          "polar": {
           "angularaxis": {
            "gridcolor": "white",
            "linecolor": "white",
            "ticks": ""
           },
           "bgcolor": "#E5ECF6",
           "radialaxis": {
            "gridcolor": "white",
            "linecolor": "white",
            "ticks": ""
           }
          },
          "scene": {
           "xaxis": {
            "backgroundcolor": "#E5ECF6",
            "gridcolor": "white",
            "gridwidth": 2,
            "linecolor": "white",
            "showbackground": true,
            "ticks": "",
            "zerolinecolor": "white"
           },
           "yaxis": {
            "backgroundcolor": "#E5ECF6",
            "gridcolor": "white",
            "gridwidth": 2,
            "linecolor": "white",
            "showbackground": true,
            "ticks": "",
            "zerolinecolor": "white"
           },
           "zaxis": {
            "backgroundcolor": "#E5ECF6",
            "gridcolor": "white",
            "gridwidth": 2,
            "linecolor": "white",
            "showbackground": true,
            "ticks": "",
            "zerolinecolor": "white"
           }
          },
          "shapedefaults": {
           "line": {
            "color": "#2a3f5f"
           }
          },
          "ternary": {
           "aaxis": {
            "gridcolor": "white",
            "linecolor": "white",
            "ticks": ""
           },
           "baxis": {
            "gridcolor": "white",
            "linecolor": "white",
            "ticks": ""
           },
           "bgcolor": "#E5ECF6",
           "caxis": {
            "gridcolor": "white",
            "linecolor": "white",
            "ticks": ""
           }
          },
          "title": {
           "x": 0.05
          },
          "xaxis": {
           "automargin": true,
           "gridcolor": "white",
           "linecolor": "white",
           "ticks": "",
           "title": {
            "standoff": 15
           },
           "zerolinecolor": "white",
           "zerolinewidth": 2
          },
          "yaxis": {
           "automargin": true,
           "gridcolor": "white",
           "linecolor": "white",
           "ticks": "",
           "title": {
            "standoff": 15
           },
           "zerolinecolor": "white",
           "zerolinewidth": 2
          }
         }
        },
        "title": {
         "text": "perplexity 10"
        },
        "xaxis": {
         "anchor": "y",
         "domain": [
          0,
          1
         ],
         "title": {
          "text": "x"
         }
        },
        "yaxis": {
         "anchor": "x",
         "domain": [
          0,
          1
         ],
         "title": {
          "text": "y"
         }
        }
       }
      }
     },
     "metadata": {},
     "output_type": "display_data"
    },
    {
     "name": "stderr",
     "output_type": "stream",
     "text": [
      "/home/amysiak/thesis/env/lib/python3.8/site-packages/sklearn/manifold/_t_sne.py:800: FutureWarning:\n",
      "\n",
      "The default initialization in TSNE will change from 'random' to 'pca' in 1.2.\n",
      "\n",
      "/home/amysiak/thesis/env/lib/python3.8/site-packages/sklearn/manifold/_t_sne.py:810: FutureWarning:\n",
      "\n",
      "The default learning rate in TSNE will change from 200.0 to 'auto' in 1.2.\n",
      "\n"
     ]
    },
    {
     "data": {
      "application/vnd.plotly.v1+json": {
       "config": {
        "plotlyServerURL": "https://plot.ly"
       },
       "data": [
        {
         "customdata": [
          [
           "ar"
          ]
         ],
         "hovertemplate": "color=vso<br>symbol=afro-asiatic<br>x=%{x}<br>y=%{y}<br>hover_data_0=%{customdata[0]}<extra></extra>",
         "legendgroup": "vso, afro-asiatic",
         "marker": {
          "color": "#FD3216",
          "symbol": "circle-open"
         },
         "mode": "markers",
         "name": "vso, afro-asiatic",
         "orientation": "v",
         "showlegend": true,
         "type": "scatter",
         "x": [
          153.40797424316406
         ],
         "xaxis": "x",
         "y": [
          82.46886444091797
         ],
         "yaxis": "y"
        },
        {
         "customdata": [
          [
           "cy"
          ],
          [
           "ga"
          ]
         ],
         "hovertemplate": "color=vso<br>symbol=indo-european<br>x=%{x}<br>y=%{y}<br>hover_data_0=%{customdata[0]}<extra></extra>",
         "legendgroup": "vso, indo-european",
         "marker": {
          "color": "#FD3216",
          "symbol": "circle"
         },
         "mode": "markers",
         "name": "vso, indo-european",
         "orientation": "v",
         "showlegend": true,
         "type": "scatter",
         "x": [
          122.10895538330078,
          156.17520141601562
         ],
         "xaxis": "x",
         "y": [
          134.01412963867188,
          206.57659912109375
         ],
         "yaxis": "y"
        },
        {
         "customdata": [
          [
           "be"
          ],
          [
           "bg"
          ],
          [
           "cs"
          ],
          [
           "hr"
          ],
          [
           "pl"
          ],
          [
           "ru"
          ],
          [
           "slk"
          ],
          [
           "slv"
          ],
          [
           "uk"
          ]
         ],
         "hovertemplate": "color=slavic<br>symbol=indo-european<br>x=%{x}<br>y=%{y}<br>hover_data_0=%{customdata[0]}<extra></extra>",
         "legendgroup": "slavic, indo-european",
         "marker": {
          "color": "#00FE35",
          "symbol": "circle"
         },
         "mode": "markers",
         "name": "slavic, indo-european",
         "orientation": "v",
         "showlegend": true,
         "type": "scatter",
         "x": [
          -119.76274108886719,
          -128.15731811523438,
          -189.95997619628906,
          -183.300537109375,
          -258.607177734375,
          -119.87492370605469,
          -226.52174377441406,
          -244.74131774902344,
          -185.59083557128906
         ],
         "xaxis": "x",
         "y": [
          -201.9985809326172,
          -68.5202407836914,
          -34.82231521606445,
          -105.37620544433594,
          -161.9925537109375,
          -136.1844940185547,
          -233.3604278564453,
          -80.29756927490234,
          -171.4740447998047
         ],
         "yaxis": "y"
        },
        {
         "customdata": [
          [
           "de"
          ],
          [
           "en"
          ],
          [
           "es"
          ],
          [
           "fr"
          ],
          [
           "lt"
          ],
          [
           "lv"
          ],
          [
           "nl"
          ]
         ],
         "hovertemplate": "color=svo<br>symbol=indo-european<br>x=%{x}<br>y=%{y}<br>hover_data_0=%{customdata[0]}<extra></extra>",
         "legendgroup": "svo, indo-european",
         "marker": {
          "color": "#6A76FC",
          "symbol": "circle"
         },
         "mode": "markers",
         "name": "svo, indo-european",
         "orientation": "v",
         "showlegend": true,
         "type": "scatter",
         "x": [
          14.36395263671875,
          221.1409912109375,
          248.43414306640625,
          269.60992431640625,
          -32.841087341308594,
          -9.311667442321777,
          51.84873580932617
         ],
         "xaxis": "x",
         "y": [
          132.02578735351562,
          250.3642578125,
          132.0298614501953,
          188.21029663085938,
          -37.4273567199707,
          -90.873291015625,
          174.47975158691406
         ],
         "yaxis": "y"
        },
        {
         "customdata": [
          [
           "fi"
          ]
         ],
         "hovertemplate": "color=svo<br>symbol=uralic<br>x=%{x}<br>y=%{y}<br>hover_data_0=%{customdata[0]}<extra></extra>",
         "legendgroup": "svo, uralic",
         "marker": {
          "color": "#6A76FC",
          "symbol": "circle-open-dot"
         },
         "mode": "markers",
         "name": "svo, uralic",
         "orientation": "v",
         "showlegend": true,
         "type": "scatter",
         "x": [
          33.362754821777344
         ],
         "xaxis": "x",
         "y": [
          -12.751179695129395
         ],
         "yaxis": "y"
        },
        {
         "customdata": [
          [
           "id"
          ]
         ],
         "hovertemplate": "color=svo<br>symbol=austronesian<br>x=%{x}<br>y=%{y}<br>hover_data_0=%{customdata[0]}<extra></extra>",
         "legendgroup": "svo, austronesian",
         "marker": {
          "color": "#6A76FC",
          "symbol": "square"
         },
         "mode": "markers",
         "name": "svo, austronesian",
         "orientation": "v",
         "showlegend": true,
         "type": "scatter",
         "x": [
          180.57247924804688
         ],
         "xaxis": "x",
         "y": [
          146.28109741210938
         ],
         "yaxis": "y"
        },
        {
         "customdata": [
          [
           "zh"
          ]
         ],
         "hovertemplate": "color=svo<br>symbol=sino-tibetan<br>x=%{x}<br>y=%{y}<br>hover_data_0=%{customdata[0]}<extra></extra>",
         "legendgroup": "svo, sino-tibetan",
         "marker": {
          "color": "#6A76FC",
          "symbol": "star"
         },
         "mode": "markers",
         "name": "svo, sino-tibetan",
         "orientation": "v",
         "showlegend": true,
         "type": "scatter",
         "x": [
          309.2708740234375
         ],
         "xaxis": "x",
         "y": [
          30.962656021118164
         ],
         "yaxis": "y"
        },
        {
         "customdata": [
          [
           "fa"
          ],
          [
           "hy"
          ]
         ],
         "hovertemplate": "color=sov<br>symbol=indo-european<br>x=%{x}<br>y=%{y}<br>hover_data_0=%{customdata[0]}<extra></extra>",
         "legendgroup": "sov, indo-european",
         "marker": {
          "color": "#FED4C4",
          "symbol": "circle"
         },
         "mode": "markers",
         "name": "sov, indo-european",
         "orientation": "v",
         "showlegend": true,
         "type": "scatter",
         "x": [
          134.16212463378906,
          88.43846893310547
         ],
         "xaxis": "x",
         "y": [
          293.7377624511719,
          12.408065795898438
         ],
         "yaxis": "y"
        },
        {
         "customdata": [
          [
           "ja"
          ]
         ],
         "hovertemplate": "color=sov<br>symbol=japonic<br>x=%{x}<br>y=%{y}<br>hover_data_0=%{customdata[0]}<extra></extra>",
         "legendgroup": "sov, japonic",
         "marker": {
          "color": "#FED4C4",
          "symbol": "diamond"
         },
         "mode": "markers",
         "name": "sov, japonic",
         "orientation": "v",
         "showlegend": true,
         "type": "scatter",
         "x": [
          320.6132507324219
         ],
         "xaxis": "x",
         "y": [
          -24.033710479736328
         ],
         "yaxis": "y"
        },
        {
         "customdata": [
          [
           "ko"
          ]
         ],
         "hovertemplate": "color=sov<br>symbol=koreanic<br>x=%{x}<br>y=%{y}<br>hover_data_0=%{customdata[0]}<extra></extra>",
         "legendgroup": "sov, koreanic",
         "marker": {
          "color": "#FED4C4",
          "symbol": "x"
         },
         "mode": "markers",
         "name": "sov, koreanic",
         "orientation": "v",
         "showlegend": true,
         "type": "scatter",
         "x": [
          139.58724975585938
         ],
         "xaxis": "x",
         "y": [
          -45.900108337402344
         ],
         "yaxis": "y"
        },
        {
         "customdata": [
          [
           "tr"
          ]
         ],
         "hovertemplate": "color=sov<br>symbol=turkic<br>x=%{x}<br>y=%{y}<br>hover_data_0=%{customdata[0]}<extra></extra>",
         "legendgroup": "sov, turkic",
         "marker": {
          "color": "#FED4C4",
          "symbol": "triangle-up"
         },
         "mode": "markers",
         "name": "sov, turkic",
         "orientation": "v",
         "showlegend": true,
         "type": "scatter",
         "x": [
          97.9327392578125
         ],
         "xaxis": "x",
         "y": [
          -98.39278411865234
         ],
         "yaxis": "y"
        }
       ],
       "layout": {
        "legend": {
         "title": {
          "text": "color, symbol"
         },
         "tracegroupgap": 0
        },
        "template": {
         "data": {
          "bar": [
           {
            "error_x": {
             "color": "#2a3f5f"
            },
            "error_y": {
             "color": "#2a3f5f"
            },
            "marker": {
             "line": {
              "color": "#E5ECF6",
              "width": 0.5
             },
             "pattern": {
              "fillmode": "overlay",
              "size": 10,
              "solidity": 0.2
             }
            },
            "type": "bar"
           }
          ],
          "barpolar": [
           {
            "marker": {
             "line": {
              "color": "#E5ECF6",
              "width": 0.5
             },
             "pattern": {
              "fillmode": "overlay",
              "size": 10,
              "solidity": 0.2
             }
            },
            "type": "barpolar"
           }
          ],
          "carpet": [
           {
            "aaxis": {
             "endlinecolor": "#2a3f5f",
             "gridcolor": "white",
             "linecolor": "white",
             "minorgridcolor": "white",
             "startlinecolor": "#2a3f5f"
            },
            "baxis": {
             "endlinecolor": "#2a3f5f",
             "gridcolor": "white",
             "linecolor": "white",
             "minorgridcolor": "white",
             "startlinecolor": "#2a3f5f"
            },
            "type": "carpet"
           }
          ],
          "choropleth": [
           {
            "colorbar": {
             "outlinewidth": 0,
             "ticks": ""
            },
            "type": "choropleth"
           }
          ],
          "contour": [
           {
            "colorbar": {
             "outlinewidth": 0,
             "ticks": ""
            },
            "colorscale": [
             [
              0,
              "#0d0887"
             ],
             [
              0.1111111111111111,
              "#46039f"
             ],
             [
              0.2222222222222222,
              "#7201a8"
             ],
             [
              0.3333333333333333,
              "#9c179e"
             ],
             [
              0.4444444444444444,
              "#bd3786"
             ],
             [
              0.5555555555555556,
              "#d8576b"
             ],
             [
              0.6666666666666666,
              "#ed7953"
             ],
             [
              0.7777777777777778,
              "#fb9f3a"
             ],
             [
              0.8888888888888888,
              "#fdca26"
             ],
             [
              1,
              "#f0f921"
             ]
            ],
            "type": "contour"
           }
          ],
          "contourcarpet": [
           {
            "colorbar": {
             "outlinewidth": 0,
             "ticks": ""
            },
            "type": "contourcarpet"
           }
          ],
          "heatmap": [
           {
            "colorbar": {
             "outlinewidth": 0,
             "ticks": ""
            },
            "colorscale": [
             [
              0,
              "#0d0887"
             ],
             [
              0.1111111111111111,
              "#46039f"
             ],
             [
              0.2222222222222222,
              "#7201a8"
             ],
             [
              0.3333333333333333,
              "#9c179e"
             ],
             [
              0.4444444444444444,
              "#bd3786"
             ],
             [
              0.5555555555555556,
              "#d8576b"
             ],
             [
              0.6666666666666666,
              "#ed7953"
             ],
             [
              0.7777777777777778,
              "#fb9f3a"
             ],
             [
              0.8888888888888888,
              "#fdca26"
             ],
             [
              1,
              "#f0f921"
             ]
            ],
            "type": "heatmap"
           }
          ],
          "heatmapgl": [
           {
            "colorbar": {
             "outlinewidth": 0,
             "ticks": ""
            },
            "colorscale": [
             [
              0,
              "#0d0887"
             ],
             [
              0.1111111111111111,
              "#46039f"
             ],
             [
              0.2222222222222222,
              "#7201a8"
             ],
             [
              0.3333333333333333,
              "#9c179e"
             ],
             [
              0.4444444444444444,
              "#bd3786"
             ],
             [
              0.5555555555555556,
              "#d8576b"
             ],
             [
              0.6666666666666666,
              "#ed7953"
             ],
             [
              0.7777777777777778,
              "#fb9f3a"
             ],
             [
              0.8888888888888888,
              "#fdca26"
             ],
             [
              1,
              "#f0f921"
             ]
            ],
            "type": "heatmapgl"
           }
          ],
          "histogram": [
           {
            "marker": {
             "pattern": {
              "fillmode": "overlay",
              "size": 10,
              "solidity": 0.2
             }
            },
            "type": "histogram"
           }
          ],
          "histogram2d": [
           {
            "colorbar": {
             "outlinewidth": 0,
             "ticks": ""
            },
            "colorscale": [
             [
              0,
              "#0d0887"
             ],
             [
              0.1111111111111111,
              "#46039f"
             ],
             [
              0.2222222222222222,
              "#7201a8"
             ],
             [
              0.3333333333333333,
              "#9c179e"
             ],
             [
              0.4444444444444444,
              "#bd3786"
             ],
             [
              0.5555555555555556,
              "#d8576b"
             ],
             [
              0.6666666666666666,
              "#ed7953"
             ],
             [
              0.7777777777777778,
              "#fb9f3a"
             ],
             [
              0.8888888888888888,
              "#fdca26"
             ],
             [
              1,
              "#f0f921"
             ]
            ],
            "type": "histogram2d"
           }
          ],
          "histogram2dcontour": [
           {
            "colorbar": {
             "outlinewidth": 0,
             "ticks": ""
            },
            "colorscale": [
             [
              0,
              "#0d0887"
             ],
             [
              0.1111111111111111,
              "#46039f"
             ],
             [
              0.2222222222222222,
              "#7201a8"
             ],
             [
              0.3333333333333333,
              "#9c179e"
             ],
             [
              0.4444444444444444,
              "#bd3786"
             ],
             [
              0.5555555555555556,
              "#d8576b"
             ],
             [
              0.6666666666666666,
              "#ed7953"
             ],
             [
              0.7777777777777778,
              "#fb9f3a"
             ],
             [
              0.8888888888888888,
              "#fdca26"
             ],
             [
              1,
              "#f0f921"
             ]
            ],
            "type": "histogram2dcontour"
           }
          ],
          "mesh3d": [
           {
            "colorbar": {
             "outlinewidth": 0,
             "ticks": ""
            },
            "type": "mesh3d"
           }
          ],
          "parcoords": [
           {
            "line": {
             "colorbar": {
              "outlinewidth": 0,
              "ticks": ""
             }
            },
            "type": "parcoords"
           }
          ],
          "pie": [
           {
            "automargin": true,
            "type": "pie"
           }
          ],
          "scatter": [
           {
            "fillpattern": {
             "fillmode": "overlay",
             "size": 10,
             "solidity": 0.2
            },
            "type": "scatter"
           }
          ],
          "scatter3d": [
           {
            "line": {
             "colorbar": {
              "outlinewidth": 0,
              "ticks": ""
             }
            },
            "marker": {
             "colorbar": {
              "outlinewidth": 0,
              "ticks": ""
             }
            },
            "type": "scatter3d"
           }
          ],
          "scattercarpet": [
           {
            "marker": {
             "colorbar": {
              "outlinewidth": 0,
              "ticks": ""
             }
            },
            "type": "scattercarpet"
           }
          ],
          "scattergeo": [
           {
            "marker": {
             "colorbar": {
              "outlinewidth": 0,
              "ticks": ""
             }
            },
            "type": "scattergeo"
           }
          ],
          "scattergl": [
           {
            "marker": {
             "colorbar": {
              "outlinewidth": 0,
              "ticks": ""
             }
            },
            "type": "scattergl"
           }
          ],
          "scattermapbox": [
           {
            "marker": {
             "colorbar": {
              "outlinewidth": 0,
              "ticks": ""
             }
            },
            "type": "scattermapbox"
           }
          ],
          "scatterpolar": [
           {
            "marker": {
             "colorbar": {
              "outlinewidth": 0,
              "ticks": ""
             }
            },
            "type": "scatterpolar"
           }
          ],
          "scatterpolargl": [
           {
            "marker": {
             "colorbar": {
              "outlinewidth": 0,
              "ticks": ""
             }
            },
            "type": "scatterpolargl"
           }
          ],
          "scatterternary": [
           {
            "marker": {
             "colorbar": {
              "outlinewidth": 0,
              "ticks": ""
             }
            },
            "type": "scatterternary"
           }
          ],
          "surface": [
           {
            "colorbar": {
             "outlinewidth": 0,
             "ticks": ""
            },
            "colorscale": [
             [
              0,
              "#0d0887"
             ],
             [
              0.1111111111111111,
              "#46039f"
             ],
             [
              0.2222222222222222,
              "#7201a8"
             ],
             [
              0.3333333333333333,
              "#9c179e"
             ],
             [
              0.4444444444444444,
              "#bd3786"
             ],
             [
              0.5555555555555556,
              "#d8576b"
             ],
             [
              0.6666666666666666,
              "#ed7953"
             ],
             [
              0.7777777777777778,
              "#fb9f3a"
             ],
             [
              0.8888888888888888,
              "#fdca26"
             ],
             [
              1,
              "#f0f921"
             ]
            ],
            "type": "surface"
           }
          ],
          "table": [
           {
            "cells": {
             "fill": {
              "color": "#EBF0F8"
             },
             "line": {
              "color": "white"
             }
            },
            "header": {
             "fill": {
              "color": "#C8D4E3"
             },
             "line": {
              "color": "white"
             }
            },
            "type": "table"
           }
          ]
         },
         "layout": {
          "annotationdefaults": {
           "arrowcolor": "#2a3f5f",
           "arrowhead": 0,
           "arrowwidth": 1
          },
          "autotypenumbers": "strict",
          "coloraxis": {
           "colorbar": {
            "outlinewidth": 0,
            "ticks": ""
           }
          },
          "colorscale": {
           "diverging": [
            [
             0,
             "#8e0152"
            ],
            [
             0.1,
             "#c51b7d"
            ],
            [
             0.2,
             "#de77ae"
            ],
            [
             0.3,
             "#f1b6da"
            ],
            [
             0.4,
             "#fde0ef"
            ],
            [
             0.5,
             "#f7f7f7"
            ],
            [
             0.6,
             "#e6f5d0"
            ],
            [
             0.7,
             "#b8e186"
            ],
            [
             0.8,
             "#7fbc41"
            ],
            [
             0.9,
             "#4d9221"
            ],
            [
             1,
             "#276419"
            ]
           ],
           "sequential": [
            [
             0,
             "#0d0887"
            ],
            [
             0.1111111111111111,
             "#46039f"
            ],
            [
             0.2222222222222222,
             "#7201a8"
            ],
            [
             0.3333333333333333,
             "#9c179e"
            ],
            [
             0.4444444444444444,
             "#bd3786"
            ],
            [
             0.5555555555555556,
             "#d8576b"
            ],
            [
             0.6666666666666666,
             "#ed7953"
            ],
            [
             0.7777777777777778,
             "#fb9f3a"
            ],
            [
             0.8888888888888888,
             "#fdca26"
            ],
            [
             1,
             "#f0f921"
            ]
           ],
           "sequentialminus": [
            [
             0,
             "#0d0887"
            ],
            [
             0.1111111111111111,
             "#46039f"
            ],
            [
             0.2222222222222222,
             "#7201a8"
            ],
            [
             0.3333333333333333,
             "#9c179e"
            ],
            [
             0.4444444444444444,
             "#bd3786"
            ],
            [
             0.5555555555555556,
             "#d8576b"
            ],
            [
             0.6666666666666666,
             "#ed7953"
            ],
            [
             0.7777777777777778,
             "#fb9f3a"
            ],
            [
             0.8888888888888888,
             "#fdca26"
            ],
            [
             1,
             "#f0f921"
            ]
           ]
          },
          "colorway": [
           "#636efa",
           "#EF553B",
           "#00cc96",
           "#ab63fa",
           "#FFA15A",
           "#19d3f3",
           "#FF6692",
           "#B6E880",
           "#FF97FF",
           "#FECB52"
          ],
          "font": {
           "color": "#2a3f5f"
          },
          "geo": {
           "bgcolor": "white",
           "lakecolor": "white",
           "landcolor": "#E5ECF6",
           "showlakes": true,
           "showland": true,
           "subunitcolor": "white"
          },
          "hoverlabel": {
           "align": "left"
          },
          "hovermode": "closest",
          "mapbox": {
           "style": "light"
          },
          "paper_bgcolor": "white",
          "plot_bgcolor": "#E5ECF6",
          "polar": {
           "angularaxis": {
            "gridcolor": "white",
            "linecolor": "white",
            "ticks": ""
           },
           "bgcolor": "#E5ECF6",
           "radialaxis": {
            "gridcolor": "white",
            "linecolor": "white",
            "ticks": ""
           }
          },
          "scene": {
           "xaxis": {
            "backgroundcolor": "#E5ECF6",
            "gridcolor": "white",
            "gridwidth": 2,
            "linecolor": "white",
            "showbackground": true,
            "ticks": "",
            "zerolinecolor": "white"
           },
           "yaxis": {
            "backgroundcolor": "#E5ECF6",
            "gridcolor": "white",
            "gridwidth": 2,
            "linecolor": "white",
            "showbackground": true,
            "ticks": "",
            "zerolinecolor": "white"
           },
           "zaxis": {
            "backgroundcolor": "#E5ECF6",
            "gridcolor": "white",
            "gridwidth": 2,
            "linecolor": "white",
            "showbackground": true,
            "ticks": "",
            "zerolinecolor": "white"
           }
          },
          "shapedefaults": {
           "line": {
            "color": "#2a3f5f"
           }
          },
          "ternary": {
           "aaxis": {
            "gridcolor": "white",
            "linecolor": "white",
            "ticks": ""
           },
           "baxis": {
            "gridcolor": "white",
            "linecolor": "white",
            "ticks": ""
           },
           "bgcolor": "#E5ECF6",
           "caxis": {
            "gridcolor": "white",
            "linecolor": "white",
            "ticks": ""
           }
          },
          "title": {
           "x": 0.05
          },
          "xaxis": {
           "automargin": true,
           "gridcolor": "white",
           "linecolor": "white",
           "ticks": "",
           "title": {
            "standoff": 15
           },
           "zerolinecolor": "white",
           "zerolinewidth": 2
          },
          "yaxis": {
           "automargin": true,
           "gridcolor": "white",
           "linecolor": "white",
           "ticks": "",
           "title": {
            "standoff": 15
           },
           "zerolinecolor": "white",
           "zerolinewidth": 2
          }
         }
        },
        "title": {
         "text": "perplexity 11"
        },
        "xaxis": {
         "anchor": "y",
         "domain": [
          0,
          1
         ],
         "title": {
          "text": "x"
         }
        },
        "yaxis": {
         "anchor": "x",
         "domain": [
          0,
          1
         ],
         "title": {
          "text": "y"
         }
        }
       }
      }
     },
     "metadata": {},
     "output_type": "display_data"
    },
    {
     "name": "stderr",
     "output_type": "stream",
     "text": [
      "/home/amysiak/thesis/env/lib/python3.8/site-packages/sklearn/manifold/_t_sne.py:800: FutureWarning:\n",
      "\n",
      "The default initialization in TSNE will change from 'random' to 'pca' in 1.2.\n",
      "\n",
      "/home/amysiak/thesis/env/lib/python3.8/site-packages/sklearn/manifold/_t_sne.py:810: FutureWarning:\n",
      "\n",
      "The default learning rate in TSNE will change from 200.0 to 'auto' in 1.2.\n",
      "\n"
     ]
    },
    {
     "data": {
      "application/vnd.plotly.v1+json": {
       "config": {
        "plotlyServerURL": "https://plot.ly"
       },
       "data": [
        {
         "customdata": [
          [
           "ar"
          ]
         ],
         "hovertemplate": "color=vso<br>symbol=afro-asiatic<br>x=%{x}<br>y=%{y}<br>hover_data_0=%{customdata[0]}<extra></extra>",
         "legendgroup": "vso, afro-asiatic",
         "marker": {
          "color": "#FD3216",
          "symbol": "circle-open"
         },
         "mode": "markers",
         "name": "vso, afro-asiatic",
         "orientation": "v",
         "showlegend": true,
         "type": "scatter",
         "x": [
          -26.12930679321289
         ],
         "xaxis": "x",
         "y": [
          -36.71315002441406
         ],
         "yaxis": "y"
        },
        {
         "customdata": [
          [
           "cy"
          ],
          [
           "ga"
          ]
         ],
         "hovertemplate": "color=vso<br>symbol=indo-european<br>x=%{x}<br>y=%{y}<br>hover_data_0=%{customdata[0]}<extra></extra>",
         "legendgroup": "vso, indo-european",
         "marker": {
          "color": "#FD3216",
          "symbol": "circle"
         },
         "mode": "markers",
         "name": "vso, indo-european",
         "orientation": "v",
         "showlegend": true,
         "type": "scatter",
         "x": [
          -6.184429168701172,
          -11.654654502868652
         ],
         "xaxis": "x",
         "y": [
          -55.64352798461914,
          -90.16512298583984
         ],
         "yaxis": "y"
        },
        {
         "customdata": [
          [
           "be"
          ],
          [
           "bg"
          ],
          [
           "cs"
          ],
          [
           "hr"
          ],
          [
           "pl"
          ],
          [
           "ru"
          ],
          [
           "slk"
          ],
          [
           "slv"
          ],
          [
           "uk"
          ]
         ],
         "hovertemplate": "color=slavic<br>symbol=indo-european<br>x=%{x}<br>y=%{y}<br>hover_data_0=%{customdata[0]}<extra></extra>",
         "legendgroup": "slavic, indo-european",
         "marker": {
          "color": "#00FE35",
          "symbol": "circle"
         },
         "mode": "markers",
         "name": "slavic, indo-european",
         "orientation": "v",
         "showlegend": true,
         "type": "scatter",
         "x": [
          13.14096736907959,
          25.15889549255371,
          -9.429132461547852,
          33.186153411865234,
          37.43743896484375,
          49.21548843383789,
          63.78593826293945,
          -15.287369728088379,
          6.500182151794434
         ],
         "xaxis": "x",
         "y": [
          98.0185775756836,
          122.9206771850586,
          121.94365692138672,
          78.25424194335938,
          153.908935546875,
          105.68856048583984,
          136.4781951904297,
          92.01168823242188,
          147.55189514160156
         ],
         "yaxis": "y"
        },
        {
         "customdata": [
          [
           "de"
          ],
          [
           "en"
          ],
          [
           "es"
          ],
          [
           "fr"
          ],
          [
           "lt"
          ],
          [
           "lv"
          ],
          [
           "nl"
          ]
         ],
         "hovertemplate": "color=svo<br>symbol=indo-european<br>x=%{x}<br>y=%{y}<br>hover_data_0=%{customdata[0]}<extra></extra>",
         "legendgroup": "svo, indo-european",
         "marker": {
          "color": "#6A76FC",
          "symbol": "circle"
         },
         "mode": "markers",
         "name": "svo, indo-european",
         "orientation": "v",
         "showlegend": true,
         "type": "scatter",
         "x": [
          27.60388946533203,
          19.449312210083008,
          -46.253482818603516,
          -62.99819564819336,
          -17.91841697692871,
          7.886303901672363,
          27.453758239746094
         ],
         "xaxis": "x",
         "y": [
          -24.097152709960938,
          -94.64827728271484,
          -95.42494201660156,
          -73.0455551147461,
          50.42293167114258,
          46.94682312011719,
          -49.36433792114258
         ],
         "yaxis": "y"
        },
        {
         "customdata": [
          [
           "fi"
          ]
         ],
         "hovertemplate": "color=svo<br>symbol=uralic<br>x=%{x}<br>y=%{y}<br>hover_data_0=%{customdata[0]}<extra></extra>",
         "legendgroup": "svo, uralic",
         "marker": {
          "color": "#6A76FC",
          "symbol": "circle-open-dot"
         },
         "mode": "markers",
         "name": "svo, uralic",
         "orientation": "v",
         "showlegend": true,
         "type": "scatter",
         "x": [
          -6.580517292022705
         ],
         "xaxis": "x",
         "y": [
          17.314998626708984
         ],
         "yaxis": "y"
        },
        {
         "customdata": [
          [
           "id"
          ]
         ],
         "hovertemplate": "color=svo<br>symbol=austronesian<br>x=%{x}<br>y=%{y}<br>hover_data_0=%{customdata[0]}<extra></extra>",
         "legendgroup": "svo, austronesian",
         "marker": {
          "color": "#6A76FC",
          "symbol": "square"
         },
         "mode": "markers",
         "name": "svo, austronesian",
         "orientation": "v",
         "showlegend": true,
         "type": "scatter",
         "x": [
          -30.047861099243164
         ],
         "xaxis": "x",
         "y": [
          -65.80851745605469
         ],
         "yaxis": "y"
        },
        {
         "customdata": [
          [
           "zh"
          ]
         ],
         "hovertemplate": "color=svo<br>symbol=sino-tibetan<br>x=%{x}<br>y=%{y}<br>hover_data_0=%{customdata[0]}<extra></extra>",
         "legendgroup": "svo, sino-tibetan",
         "marker": {
          "color": "#6A76FC",
          "symbol": "star"
         },
         "mode": "markers",
         "name": "svo, sino-tibetan",
         "orientation": "v",
         "showlegend": true,
         "type": "scatter",
         "x": [
          6.16282320022583
         ],
         "xaxis": "x",
         "y": [
          -160.31613159179688
         ],
         "yaxis": "y"
        },
        {
         "customdata": [
          [
           "fa"
          ],
          [
           "hy"
          ]
         ],
         "hovertemplate": "color=sov<br>symbol=indo-european<br>x=%{x}<br>y=%{y}<br>hover_data_0=%{customdata[0]}<extra></extra>",
         "legendgroup": "sov, indo-european",
         "marker": {
          "color": "#FED4C4",
          "symbol": "circle"
         },
         "mode": "markers",
         "name": "sov, indo-european",
         "orientation": "v",
         "showlegend": true,
         "type": "scatter",
         "x": [
          -8.128777503967285,
          -28.02385139465332
         ],
         "xaxis": "x",
         "y": [
          -134.06454467773438,
          1.2064545154571533
         ],
         "yaxis": "y"
        },
        {
         "customdata": [
          [
           "ja"
          ]
         ],
         "hovertemplate": "color=sov<br>symbol=japonic<br>x=%{x}<br>y=%{y}<br>hover_data_0=%{customdata[0]}<extra></extra>",
         "legendgroup": "sov, japonic",
         "marker": {
          "color": "#FED4C4",
          "symbol": "diamond"
         },
         "mode": "markers",
         "name": "sov, japonic",
         "orientation": "v",
         "showlegend": true,
         "type": "scatter",
         "x": [
          29.27168846130371
         ],
         "xaxis": "x",
         "y": [
          -150.65541076660156
         ],
         "yaxis": "y"
        },
        {
         "customdata": [
          [
           "ko"
          ]
         ],
         "hovertemplate": "color=sov<br>symbol=koreanic<br>x=%{x}<br>y=%{y}<br>hover_data_0=%{customdata[0]}<extra></extra>",
         "legendgroup": "sov, koreanic",
         "marker": {
          "color": "#FED4C4",
          "symbol": "x"
         },
         "mode": "markers",
         "name": "sov, koreanic",
         "orientation": "v",
         "showlegend": true,
         "type": "scatter",
         "x": [
          -61.25508117675781
         ],
         "xaxis": "x",
         "y": [
          5.447631359100342
         ],
         "yaxis": "y"
        },
        {
         "customdata": [
          [
           "tr"
          ]
         ],
         "hovertemplate": "color=sov<br>symbol=turkic<br>x=%{x}<br>y=%{y}<br>hover_data_0=%{customdata[0]}<extra></extra>",
         "legendgroup": "sov, turkic",
         "marker": {
          "color": "#FED4C4",
          "symbol": "triangle-up"
         },
         "mode": "markers",
         "name": "sov, turkic",
         "orientation": "v",
         "showlegend": true,
         "type": "scatter",
         "x": [
          -57.89004898071289
         ],
         "xaxis": "x",
         "y": [
          35.096107482910156
         ],
         "yaxis": "y"
        }
       ],
       "layout": {
        "legend": {
         "title": {
          "text": "color, symbol"
         },
         "tracegroupgap": 0
        },
        "template": {
         "data": {
          "bar": [
           {
            "error_x": {
             "color": "#2a3f5f"
            },
            "error_y": {
             "color": "#2a3f5f"
            },
            "marker": {
             "line": {
              "color": "#E5ECF6",
              "width": 0.5
             },
             "pattern": {
              "fillmode": "overlay",
              "size": 10,
              "solidity": 0.2
             }
            },
            "type": "bar"
           }
          ],
          "barpolar": [
           {
            "marker": {
             "line": {
              "color": "#E5ECF6",
              "width": 0.5
             },
             "pattern": {
              "fillmode": "overlay",
              "size": 10,
              "solidity": 0.2
             }
            },
            "type": "barpolar"
           }
          ],
          "carpet": [
           {
            "aaxis": {
             "endlinecolor": "#2a3f5f",
             "gridcolor": "white",
             "linecolor": "white",
             "minorgridcolor": "white",
             "startlinecolor": "#2a3f5f"
            },
            "baxis": {
             "endlinecolor": "#2a3f5f",
             "gridcolor": "white",
             "linecolor": "white",
             "minorgridcolor": "white",
             "startlinecolor": "#2a3f5f"
            },
            "type": "carpet"
           }
          ],
          "choropleth": [
           {
            "colorbar": {
             "outlinewidth": 0,
             "ticks": ""
            },
            "type": "choropleth"
           }
          ],
          "contour": [
           {
            "colorbar": {
             "outlinewidth": 0,
             "ticks": ""
            },
            "colorscale": [
             [
              0,
              "#0d0887"
             ],
             [
              0.1111111111111111,
              "#46039f"
             ],
             [
              0.2222222222222222,
              "#7201a8"
             ],
             [
              0.3333333333333333,
              "#9c179e"
             ],
             [
              0.4444444444444444,
              "#bd3786"
             ],
             [
              0.5555555555555556,
              "#d8576b"
             ],
             [
              0.6666666666666666,
              "#ed7953"
             ],
             [
              0.7777777777777778,
              "#fb9f3a"
             ],
             [
              0.8888888888888888,
              "#fdca26"
             ],
             [
              1,
              "#f0f921"
             ]
            ],
            "type": "contour"
           }
          ],
          "contourcarpet": [
           {
            "colorbar": {
             "outlinewidth": 0,
             "ticks": ""
            },
            "type": "contourcarpet"
           }
          ],
          "heatmap": [
           {
            "colorbar": {
             "outlinewidth": 0,
             "ticks": ""
            },
            "colorscale": [
             [
              0,
              "#0d0887"
             ],
             [
              0.1111111111111111,
              "#46039f"
             ],
             [
              0.2222222222222222,
              "#7201a8"
             ],
             [
              0.3333333333333333,
              "#9c179e"
             ],
             [
              0.4444444444444444,
              "#bd3786"
             ],
             [
              0.5555555555555556,
              "#d8576b"
             ],
             [
              0.6666666666666666,
              "#ed7953"
             ],
             [
              0.7777777777777778,
              "#fb9f3a"
             ],
             [
              0.8888888888888888,
              "#fdca26"
             ],
             [
              1,
              "#f0f921"
             ]
            ],
            "type": "heatmap"
           }
          ],
          "heatmapgl": [
           {
            "colorbar": {
             "outlinewidth": 0,
             "ticks": ""
            },
            "colorscale": [
             [
              0,
              "#0d0887"
             ],
             [
              0.1111111111111111,
              "#46039f"
             ],
             [
              0.2222222222222222,
              "#7201a8"
             ],
             [
              0.3333333333333333,
              "#9c179e"
             ],
             [
              0.4444444444444444,
              "#bd3786"
             ],
             [
              0.5555555555555556,
              "#d8576b"
             ],
             [
              0.6666666666666666,
              "#ed7953"
             ],
             [
              0.7777777777777778,
              "#fb9f3a"
             ],
             [
              0.8888888888888888,
              "#fdca26"
             ],
             [
              1,
              "#f0f921"
             ]
            ],
            "type": "heatmapgl"
           }
          ],
          "histogram": [
           {
            "marker": {
             "pattern": {
              "fillmode": "overlay",
              "size": 10,
              "solidity": 0.2
             }
            },
            "type": "histogram"
           }
          ],
          "histogram2d": [
           {
            "colorbar": {
             "outlinewidth": 0,
             "ticks": ""
            },
            "colorscale": [
             [
              0,
              "#0d0887"
             ],
             [
              0.1111111111111111,
              "#46039f"
             ],
             [
              0.2222222222222222,
              "#7201a8"
             ],
             [
              0.3333333333333333,
              "#9c179e"
             ],
             [
              0.4444444444444444,
              "#bd3786"
             ],
             [
              0.5555555555555556,
              "#d8576b"
             ],
             [
              0.6666666666666666,
              "#ed7953"
             ],
             [
              0.7777777777777778,
              "#fb9f3a"
             ],
             [
              0.8888888888888888,
              "#fdca26"
             ],
             [
              1,
              "#f0f921"
             ]
            ],
            "type": "histogram2d"
           }
          ],
          "histogram2dcontour": [
           {
            "colorbar": {
             "outlinewidth": 0,
             "ticks": ""
            },
            "colorscale": [
             [
              0,
              "#0d0887"
             ],
             [
              0.1111111111111111,
              "#46039f"
             ],
             [
              0.2222222222222222,
              "#7201a8"
             ],
             [
              0.3333333333333333,
              "#9c179e"
             ],
             [
              0.4444444444444444,
              "#bd3786"
             ],
             [
              0.5555555555555556,
              "#d8576b"
             ],
             [
              0.6666666666666666,
              "#ed7953"
             ],
             [
              0.7777777777777778,
              "#fb9f3a"
             ],
             [
              0.8888888888888888,
              "#fdca26"
             ],
             [
              1,
              "#f0f921"
             ]
            ],
            "type": "histogram2dcontour"
           }
          ],
          "mesh3d": [
           {
            "colorbar": {
             "outlinewidth": 0,
             "ticks": ""
            },
            "type": "mesh3d"
           }
          ],
          "parcoords": [
           {
            "line": {
             "colorbar": {
              "outlinewidth": 0,
              "ticks": ""
             }
            },
            "type": "parcoords"
           }
          ],
          "pie": [
           {
            "automargin": true,
            "type": "pie"
           }
          ],
          "scatter": [
           {
            "fillpattern": {
             "fillmode": "overlay",
             "size": 10,
             "solidity": 0.2
            },
            "type": "scatter"
           }
          ],
          "scatter3d": [
           {
            "line": {
             "colorbar": {
              "outlinewidth": 0,
              "ticks": ""
             }
            },
            "marker": {
             "colorbar": {
              "outlinewidth": 0,
              "ticks": ""
             }
            },
            "type": "scatter3d"
           }
          ],
          "scattercarpet": [
           {
            "marker": {
             "colorbar": {
              "outlinewidth": 0,
              "ticks": ""
             }
            },
            "type": "scattercarpet"
           }
          ],
          "scattergeo": [
           {
            "marker": {
             "colorbar": {
              "outlinewidth": 0,
              "ticks": ""
             }
            },
            "type": "scattergeo"
           }
          ],
          "scattergl": [
           {
            "marker": {
             "colorbar": {
              "outlinewidth": 0,
              "ticks": ""
             }
            },
            "type": "scattergl"
           }
          ],
          "scattermapbox": [
           {
            "marker": {
             "colorbar": {
              "outlinewidth": 0,
              "ticks": ""
             }
            },
            "type": "scattermapbox"
           }
          ],
          "scatterpolar": [
           {
            "marker": {
             "colorbar": {
              "outlinewidth": 0,
              "ticks": ""
             }
            },
            "type": "scatterpolar"
           }
          ],
          "scatterpolargl": [
           {
            "marker": {
             "colorbar": {
              "outlinewidth": 0,
              "ticks": ""
             }
            },
            "type": "scatterpolargl"
           }
          ],
          "scatterternary": [
           {
            "marker": {
             "colorbar": {
              "outlinewidth": 0,
              "ticks": ""
             }
            },
            "type": "scatterternary"
           }
          ],
          "surface": [
           {
            "colorbar": {
             "outlinewidth": 0,
             "ticks": ""
            },
            "colorscale": [
             [
              0,
              "#0d0887"
             ],
             [
              0.1111111111111111,
              "#46039f"
             ],
             [
              0.2222222222222222,
              "#7201a8"
             ],
             [
              0.3333333333333333,
              "#9c179e"
             ],
             [
              0.4444444444444444,
              "#bd3786"
             ],
             [
              0.5555555555555556,
              "#d8576b"
             ],
             [
              0.6666666666666666,
              "#ed7953"
             ],
             [
              0.7777777777777778,
              "#fb9f3a"
             ],
             [
              0.8888888888888888,
              "#fdca26"
             ],
             [
              1,
              "#f0f921"
             ]
            ],
            "type": "surface"
           }
          ],
          "table": [
           {
            "cells": {
             "fill": {
              "color": "#EBF0F8"
             },
             "line": {
              "color": "white"
             }
            },
            "header": {
             "fill": {
              "color": "#C8D4E3"
             },
             "line": {
              "color": "white"
             }
            },
            "type": "table"
           }
          ]
         },
         "layout": {
          "annotationdefaults": {
           "arrowcolor": "#2a3f5f",
           "arrowhead": 0,
           "arrowwidth": 1
          },
          "autotypenumbers": "strict",
          "coloraxis": {
           "colorbar": {
            "outlinewidth": 0,
            "ticks": ""
           }
          },
          "colorscale": {
           "diverging": [
            [
             0,
             "#8e0152"
            ],
            [
             0.1,
             "#c51b7d"
            ],
            [
             0.2,
             "#de77ae"
            ],
            [
             0.3,
             "#f1b6da"
            ],
            [
             0.4,
             "#fde0ef"
            ],
            [
             0.5,
             "#f7f7f7"
            ],
            [
             0.6,
             "#e6f5d0"
            ],
            [
             0.7,
             "#b8e186"
            ],
            [
             0.8,
             "#7fbc41"
            ],
            [
             0.9,
             "#4d9221"
            ],
            [
             1,
             "#276419"
            ]
           ],
           "sequential": [
            [
             0,
             "#0d0887"
            ],
            [
             0.1111111111111111,
             "#46039f"
            ],
            [
             0.2222222222222222,
             "#7201a8"
            ],
            [
             0.3333333333333333,
             "#9c179e"
            ],
            [
             0.4444444444444444,
             "#bd3786"
            ],
            [
             0.5555555555555556,
             "#d8576b"
            ],
            [
             0.6666666666666666,
             "#ed7953"
            ],
            [
             0.7777777777777778,
             "#fb9f3a"
            ],
            [
             0.8888888888888888,
             "#fdca26"
            ],
            [
             1,
             "#f0f921"
            ]
           ],
           "sequentialminus": [
            [
             0,
             "#0d0887"
            ],
            [
             0.1111111111111111,
             "#46039f"
            ],
            [
             0.2222222222222222,
             "#7201a8"
            ],
            [
             0.3333333333333333,
             "#9c179e"
            ],
            [
             0.4444444444444444,
             "#bd3786"
            ],
            [
             0.5555555555555556,
             "#d8576b"
            ],
            [
             0.6666666666666666,
             "#ed7953"
            ],
            [
             0.7777777777777778,
             "#fb9f3a"
            ],
            [
             0.8888888888888888,
             "#fdca26"
            ],
            [
             1,
             "#f0f921"
            ]
           ]
          },
          "colorway": [
           "#636efa",
           "#EF553B",
           "#00cc96",
           "#ab63fa",
           "#FFA15A",
           "#19d3f3",
           "#FF6692",
           "#B6E880",
           "#FF97FF",
           "#FECB52"
          ],
          "font": {
           "color": "#2a3f5f"
          },
          "geo": {
           "bgcolor": "white",
           "lakecolor": "white",
           "landcolor": "#E5ECF6",
           "showlakes": true,
           "showland": true,
           "subunitcolor": "white"
          },
          "hoverlabel": {
           "align": "left"
          },
          "hovermode": "closest",
          "mapbox": {
           "style": "light"
          },
          "paper_bgcolor": "white",
          "plot_bgcolor": "#E5ECF6",
          "polar": {
           "angularaxis": {
            "gridcolor": "white",
            "linecolor": "white",
            "ticks": ""
           },
           "bgcolor": "#E5ECF6",
           "radialaxis": {
            "gridcolor": "white",
            "linecolor": "white",
            "ticks": ""
           }
          },
          "scene": {
           "xaxis": {
            "backgroundcolor": "#E5ECF6",
            "gridcolor": "white",
            "gridwidth": 2,
            "linecolor": "white",
            "showbackground": true,
            "ticks": "",
            "zerolinecolor": "white"
           },
           "yaxis": {
            "backgroundcolor": "#E5ECF6",
            "gridcolor": "white",
            "gridwidth": 2,
            "linecolor": "white",
            "showbackground": true,
            "ticks": "",
            "zerolinecolor": "white"
           },
           "zaxis": {
            "backgroundcolor": "#E5ECF6",
            "gridcolor": "white",
            "gridwidth": 2,
            "linecolor": "white",
            "showbackground": true,
            "ticks": "",
            "zerolinecolor": "white"
           }
          },
          "shapedefaults": {
           "line": {
            "color": "#2a3f5f"
           }
          },
          "ternary": {
           "aaxis": {
            "gridcolor": "white",
            "linecolor": "white",
            "ticks": ""
           },
           "baxis": {
            "gridcolor": "white",
            "linecolor": "white",
            "ticks": ""
           },
           "bgcolor": "#E5ECF6",
           "caxis": {
            "gridcolor": "white",
            "linecolor": "white",
            "ticks": ""
           }
          },
          "title": {
           "x": 0.05
          },
          "xaxis": {
           "automargin": true,
           "gridcolor": "white",
           "linecolor": "white",
           "ticks": "",
           "title": {
            "standoff": 15
           },
           "zerolinecolor": "white",
           "zerolinewidth": 2
          },
          "yaxis": {
           "automargin": true,
           "gridcolor": "white",
           "linecolor": "white",
           "ticks": "",
           "title": {
            "standoff": 15
           },
           "zerolinecolor": "white",
           "zerolinewidth": 2
          }
         }
        },
        "title": {
         "text": "perplexity 12"
        },
        "xaxis": {
         "anchor": "y",
         "domain": [
          0,
          1
         ],
         "title": {
          "text": "x"
         }
        },
        "yaxis": {
         "anchor": "x",
         "domain": [
          0,
          1
         ],
         "title": {
          "text": "y"
         }
        }
       }
      }
     },
     "metadata": {},
     "output_type": "display_data"
    },
    {
     "name": "stderr",
     "output_type": "stream",
     "text": [
      "/home/amysiak/thesis/env/lib/python3.8/site-packages/sklearn/manifold/_t_sne.py:800: FutureWarning:\n",
      "\n",
      "The default initialization in TSNE will change from 'random' to 'pca' in 1.2.\n",
      "\n",
      "/home/amysiak/thesis/env/lib/python3.8/site-packages/sklearn/manifold/_t_sne.py:810: FutureWarning:\n",
      "\n",
      "The default learning rate in TSNE will change from 200.0 to 'auto' in 1.2.\n",
      "\n"
     ]
    },
    {
     "data": {
      "application/vnd.plotly.v1+json": {
       "config": {
        "plotlyServerURL": "https://plot.ly"
       },
       "data": [
        {
         "customdata": [
          [
           "ar"
          ]
         ],
         "hovertemplate": "color=vso<br>symbol=afro-asiatic<br>x=%{x}<br>y=%{y}<br>hover_data_0=%{customdata[0]}<extra></extra>",
         "legendgroup": "vso, afro-asiatic",
         "marker": {
          "color": "#FD3216",
          "symbol": "circle-open"
         },
         "mode": "markers",
         "name": "vso, afro-asiatic",
         "orientation": "v",
         "showlegend": true,
         "type": "scatter",
         "x": [
          -33.150596618652344
         ],
         "xaxis": "x",
         "y": [
          -67.54511260986328
         ],
         "yaxis": "y"
        },
        {
         "customdata": [
          [
           "cy"
          ],
          [
           "ga"
          ]
         ],
         "hovertemplate": "color=vso<br>symbol=indo-european<br>x=%{x}<br>y=%{y}<br>hover_data_0=%{customdata[0]}<extra></extra>",
         "legendgroup": "vso, indo-european",
         "marker": {
          "color": "#FD3216",
          "symbol": "circle"
         },
         "mode": "markers",
         "name": "vso, indo-european",
         "orientation": "v",
         "showlegend": true,
         "type": "scatter",
         "x": [
          -16.10210609436035,
          -61.90545654296875
         ],
         "xaxis": "x",
         "y": [
          -36.65813064575195,
          -38.87527847290039
         ],
         "yaxis": "y"
        },
        {
         "customdata": [
          [
           "be"
          ],
          [
           "bg"
          ],
          [
           "cs"
          ],
          [
           "hr"
          ],
          [
           "pl"
          ],
          [
           "ru"
          ],
          [
           "slk"
          ],
          [
           "slv"
          ],
          [
           "uk"
          ]
         ],
         "hovertemplate": "color=slavic<br>symbol=indo-european<br>x=%{x}<br>y=%{y}<br>hover_data_0=%{customdata[0]}<extra></extra>",
         "legendgroup": "slavic, indo-european",
         "marker": {
          "color": "#00FE35",
          "symbol": "circle"
         },
         "mode": "markers",
         "name": "slavic, indo-european",
         "orientation": "v",
         "showlegend": true,
         "type": "scatter",
         "x": [
          18.294795989990234,
          91.93650817871094,
          -21.298425674438477,
          57.44670867919922,
          36.15327453613281,
          17.16162109375,
          79.28379821777344,
          53.97395324707031,
          -9.393866539001465
         ],
         "xaxis": "x",
         "y": [
          182.0166473388672,
          157.75244140625,
          161.59226989746094,
          127.53202819824219,
          225.41763305664062,
          142.47503662109375,
          213.84095764160156,
          170.08544921875,
          210.99916076660156
         ],
         "yaxis": "y"
        },
        {
         "customdata": [
          [
           "de"
          ],
          [
           "en"
          ],
          [
           "es"
          ],
          [
           "fr"
          ],
          [
           "lt"
          ],
          [
           "lv"
          ],
          [
           "nl"
          ]
         ],
         "hovertemplate": "color=svo<br>symbol=indo-european<br>x=%{x}<br>y=%{y}<br>hover_data_0=%{customdata[0]}<extra></extra>",
         "legendgroup": "svo, indo-european",
         "marker": {
          "color": "#6A76FC",
          "symbol": "circle"
         },
         "mode": "markers",
         "name": "svo, indo-european",
         "orientation": "v",
         "showlegend": true,
         "type": "scatter",
         "x": [
          -97.49320983886719,
          -101.83043670654297,
          -20.095430374145508,
          19.04351234436035,
          -2.0483083724975586,
          35.426151275634766,
          -64.86400604248047
         ],
         "xaxis": "x",
         "y": [
          -116.05043029785156,
          -59.28020477294922,
          -113.45946502685547,
          -114.08048248291016,
          90.38788604736328,
          79.62492370605469,
          -105.60704803466797
         ],
         "yaxis": "y"
        },
        {
         "customdata": [
          [
           "fi"
          ]
         ],
         "hovertemplate": "color=svo<br>symbol=uralic<br>x=%{x}<br>y=%{y}<br>hover_data_0=%{customdata[0]}<extra></extra>",
         "legendgroup": "svo, uralic",
         "marker": {
          "color": "#6A76FC",
          "symbol": "circle-open-dot"
         },
         "mode": "markers",
         "name": "svo, uralic",
         "orientation": "v",
         "showlegend": true,
         "type": "scatter",
         "x": [
          6.501714706420898
         ],
         "xaxis": "x",
         "y": [
          45.628475189208984
         ],
         "yaxis": "y"
        },
        {
         "customdata": [
          [
           "id"
          ]
         ],
         "hovertemplate": "color=svo<br>symbol=austronesian<br>x=%{x}<br>y=%{y}<br>hover_data_0=%{customdata[0]}<extra></extra>",
         "legendgroup": "svo, austronesian",
         "marker": {
          "color": "#6A76FC",
          "symbol": "square"
         },
         "mode": "markers",
         "name": "svo, austronesian",
         "orientation": "v",
         "showlegend": true,
         "type": "scatter",
         "x": [
          5.044987678527832
         ],
         "xaxis": "x",
         "y": [
          -69.1967544555664
         ],
         "yaxis": "y"
        },
        {
         "customdata": [
          [
           "zh"
          ]
         ],
         "hovertemplate": "color=svo<br>symbol=sino-tibetan<br>x=%{x}<br>y=%{y}<br>hover_data_0=%{customdata[0]}<extra></extra>",
         "legendgroup": "svo, sino-tibetan",
         "marker": {
          "color": "#6A76FC",
          "symbol": "star"
         },
         "mode": "markers",
         "name": "svo, sino-tibetan",
         "orientation": "v",
         "showlegend": true,
         "type": "scatter",
         "x": [
          -60.62679672241211
         ],
         "xaxis": "x",
         "y": [
          -200.00616455078125
         ],
         "yaxis": "y"
        },
        {
         "customdata": [
          [
           "fa"
          ],
          [
           "hy"
          ]
         ],
         "hovertemplate": "color=sov<br>symbol=indo-european<br>x=%{x}<br>y=%{y}<br>hover_data_0=%{customdata[0]}<extra></extra>",
         "legendgroup": "sov, indo-european",
         "marker": {
          "color": "#FED4C4",
          "symbol": "circle"
         },
         "mode": "markers",
         "name": "sov, indo-european",
         "orientation": "v",
         "showlegend": true,
         "type": "scatter",
         "x": [
          -19.86691665649414,
          -14.625511169433594
         ],
         "xaxis": "x",
         "y": [
          -182.5150146484375,
          14.081647872924805
         ],
         "yaxis": "y"
        },
        {
         "customdata": [
          [
           "ja"
          ]
         ],
         "hovertemplate": "color=sov<br>symbol=japonic<br>x=%{x}<br>y=%{y}<br>hover_data_0=%{customdata[0]}<extra></extra>",
         "legendgroup": "sov, japonic",
         "marker": {
          "color": "#FED4C4",
          "symbol": "diamond"
         },
         "mode": "markers",
         "name": "sov, japonic",
         "orientation": "v",
         "showlegend": true,
         "type": "scatter",
         "x": [
          -41.37626266479492
         ],
         "xaxis": "x",
         "y": [
          -230.28135681152344
         ],
         "yaxis": "y"
        },
        {
         "customdata": [
          [
           "ko"
          ]
         ],
         "hovertemplate": "color=sov<br>symbol=koreanic<br>x=%{x}<br>y=%{y}<br>hover_data_0=%{customdata[0]}<extra></extra>",
         "legendgroup": "sov, koreanic",
         "marker": {
          "color": "#FED4C4",
          "symbol": "x"
         },
         "mode": "markers",
         "name": "sov, koreanic",
         "orientation": "v",
         "showlegend": true,
         "type": "scatter",
         "x": [
          33.3212890625
         ],
         "xaxis": "x",
         "y": [
          4.196000576019287
         ],
         "yaxis": "y"
        },
        {
         "customdata": [
          [
           "tr"
          ]
         ],
         "hovertemplate": "color=sov<br>symbol=turkic<br>x=%{x}<br>y=%{y}<br>hover_data_0=%{customdata[0]}<extra></extra>",
         "legendgroup": "sov, turkic",
         "marker": {
          "color": "#FED4C4",
          "symbol": "triangle-up"
         },
         "mode": "markers",
         "name": "sov, turkic",
         "orientation": "v",
         "showlegend": true,
         "type": "scatter",
         "x": [
          -47.62746810913086
         ],
         "xaxis": "x",
         "y": [
          55.60392761230469
         ],
         "yaxis": "y"
        }
       ],
       "layout": {
        "legend": {
         "title": {
          "text": "color, symbol"
         },
         "tracegroupgap": 0
        },
        "template": {
         "data": {
          "bar": [
           {
            "error_x": {
             "color": "#2a3f5f"
            },
            "error_y": {
             "color": "#2a3f5f"
            },
            "marker": {
             "line": {
              "color": "#E5ECF6",
              "width": 0.5
             },
             "pattern": {
              "fillmode": "overlay",
              "size": 10,
              "solidity": 0.2
             }
            },
            "type": "bar"
           }
          ],
          "barpolar": [
           {
            "marker": {
             "line": {
              "color": "#E5ECF6",
              "width": 0.5
             },
             "pattern": {
              "fillmode": "overlay",
              "size": 10,
              "solidity": 0.2
             }
            },
            "type": "barpolar"
           }
          ],
          "carpet": [
           {
            "aaxis": {
             "endlinecolor": "#2a3f5f",
             "gridcolor": "white",
             "linecolor": "white",
             "minorgridcolor": "white",
             "startlinecolor": "#2a3f5f"
            },
            "baxis": {
             "endlinecolor": "#2a3f5f",
             "gridcolor": "white",
             "linecolor": "white",
             "minorgridcolor": "white",
             "startlinecolor": "#2a3f5f"
            },
            "type": "carpet"
           }
          ],
          "choropleth": [
           {
            "colorbar": {
             "outlinewidth": 0,
             "ticks": ""
            },
            "type": "choropleth"
           }
          ],
          "contour": [
           {
            "colorbar": {
             "outlinewidth": 0,
             "ticks": ""
            },
            "colorscale": [
             [
              0,
              "#0d0887"
             ],
             [
              0.1111111111111111,
              "#46039f"
             ],
             [
              0.2222222222222222,
              "#7201a8"
             ],
             [
              0.3333333333333333,
              "#9c179e"
             ],
             [
              0.4444444444444444,
              "#bd3786"
             ],
             [
              0.5555555555555556,
              "#d8576b"
             ],
             [
              0.6666666666666666,
              "#ed7953"
             ],
             [
              0.7777777777777778,
              "#fb9f3a"
             ],
             [
              0.8888888888888888,
              "#fdca26"
             ],
             [
              1,
              "#f0f921"
             ]
            ],
            "type": "contour"
           }
          ],
          "contourcarpet": [
           {
            "colorbar": {
             "outlinewidth": 0,
             "ticks": ""
            },
            "type": "contourcarpet"
           }
          ],
          "heatmap": [
           {
            "colorbar": {
             "outlinewidth": 0,
             "ticks": ""
            },
            "colorscale": [
             [
              0,
              "#0d0887"
             ],
             [
              0.1111111111111111,
              "#46039f"
             ],
             [
              0.2222222222222222,
              "#7201a8"
             ],
             [
              0.3333333333333333,
              "#9c179e"
             ],
             [
              0.4444444444444444,
              "#bd3786"
             ],
             [
              0.5555555555555556,
              "#d8576b"
             ],
             [
              0.6666666666666666,
              "#ed7953"
             ],
             [
              0.7777777777777778,
              "#fb9f3a"
             ],
             [
              0.8888888888888888,
              "#fdca26"
             ],
             [
              1,
              "#f0f921"
             ]
            ],
            "type": "heatmap"
           }
          ],
          "heatmapgl": [
           {
            "colorbar": {
             "outlinewidth": 0,
             "ticks": ""
            },
            "colorscale": [
             [
              0,
              "#0d0887"
             ],
             [
              0.1111111111111111,
              "#46039f"
             ],
             [
              0.2222222222222222,
              "#7201a8"
             ],
             [
              0.3333333333333333,
              "#9c179e"
             ],
             [
              0.4444444444444444,
              "#bd3786"
             ],
             [
              0.5555555555555556,
              "#d8576b"
             ],
             [
              0.6666666666666666,
              "#ed7953"
             ],
             [
              0.7777777777777778,
              "#fb9f3a"
             ],
             [
              0.8888888888888888,
              "#fdca26"
             ],
             [
              1,
              "#f0f921"
             ]
            ],
            "type": "heatmapgl"
           }
          ],
          "histogram": [
           {
            "marker": {
             "pattern": {
              "fillmode": "overlay",
              "size": 10,
              "solidity": 0.2
             }
            },
            "type": "histogram"
           }
          ],
          "histogram2d": [
           {
            "colorbar": {
             "outlinewidth": 0,
             "ticks": ""
            },
            "colorscale": [
             [
              0,
              "#0d0887"
             ],
             [
              0.1111111111111111,
              "#46039f"
             ],
             [
              0.2222222222222222,
              "#7201a8"
             ],
             [
              0.3333333333333333,
              "#9c179e"
             ],
             [
              0.4444444444444444,
              "#bd3786"
             ],
             [
              0.5555555555555556,
              "#d8576b"
             ],
             [
              0.6666666666666666,
              "#ed7953"
             ],
             [
              0.7777777777777778,
              "#fb9f3a"
             ],
             [
              0.8888888888888888,
              "#fdca26"
             ],
             [
              1,
              "#f0f921"
             ]
            ],
            "type": "histogram2d"
           }
          ],
          "histogram2dcontour": [
           {
            "colorbar": {
             "outlinewidth": 0,
             "ticks": ""
            },
            "colorscale": [
             [
              0,
              "#0d0887"
             ],
             [
              0.1111111111111111,
              "#46039f"
             ],
             [
              0.2222222222222222,
              "#7201a8"
             ],
             [
              0.3333333333333333,
              "#9c179e"
             ],
             [
              0.4444444444444444,
              "#bd3786"
             ],
             [
              0.5555555555555556,
              "#d8576b"
             ],
             [
              0.6666666666666666,
              "#ed7953"
             ],
             [
              0.7777777777777778,
              "#fb9f3a"
             ],
             [
              0.8888888888888888,
              "#fdca26"
             ],
             [
              1,
              "#f0f921"
             ]
            ],
            "type": "histogram2dcontour"
           }
          ],
          "mesh3d": [
           {
            "colorbar": {
             "outlinewidth": 0,
             "ticks": ""
            },
            "type": "mesh3d"
           }
          ],
          "parcoords": [
           {
            "line": {
             "colorbar": {
              "outlinewidth": 0,
              "ticks": ""
             }
            },
            "type": "parcoords"
           }
          ],
          "pie": [
           {
            "automargin": true,
            "type": "pie"
           }
          ],
          "scatter": [
           {
            "fillpattern": {
             "fillmode": "overlay",
             "size": 10,
             "solidity": 0.2
            },
            "type": "scatter"
           }
          ],
          "scatter3d": [
           {
            "line": {
             "colorbar": {
              "outlinewidth": 0,
              "ticks": ""
             }
            },
            "marker": {
             "colorbar": {
              "outlinewidth": 0,
              "ticks": ""
             }
            },
            "type": "scatter3d"
           }
          ],
          "scattercarpet": [
           {
            "marker": {
             "colorbar": {
              "outlinewidth": 0,
              "ticks": ""
             }
            },
            "type": "scattercarpet"
           }
          ],
          "scattergeo": [
           {
            "marker": {
             "colorbar": {
              "outlinewidth": 0,
              "ticks": ""
             }
            },
            "type": "scattergeo"
           }
          ],
          "scattergl": [
           {
            "marker": {
             "colorbar": {
              "outlinewidth": 0,
              "ticks": ""
             }
            },
            "type": "scattergl"
           }
          ],
          "scattermapbox": [
           {
            "marker": {
             "colorbar": {
              "outlinewidth": 0,
              "ticks": ""
             }
            },
            "type": "scattermapbox"
           }
          ],
          "scatterpolar": [
           {
            "marker": {
             "colorbar": {
              "outlinewidth": 0,
              "ticks": ""
             }
            },
            "type": "scatterpolar"
           }
          ],
          "scatterpolargl": [
           {
            "marker": {
             "colorbar": {
              "outlinewidth": 0,
              "ticks": ""
             }
            },
            "type": "scatterpolargl"
           }
          ],
          "scatterternary": [
           {
            "marker": {
             "colorbar": {
              "outlinewidth": 0,
              "ticks": ""
             }
            },
            "type": "scatterternary"
           }
          ],
          "surface": [
           {
            "colorbar": {
             "outlinewidth": 0,
             "ticks": ""
            },
            "colorscale": [
             [
              0,
              "#0d0887"
             ],
             [
              0.1111111111111111,
              "#46039f"
             ],
             [
              0.2222222222222222,
              "#7201a8"
             ],
             [
              0.3333333333333333,
              "#9c179e"
             ],
             [
              0.4444444444444444,
              "#bd3786"
             ],
             [
              0.5555555555555556,
              "#d8576b"
             ],
             [
              0.6666666666666666,
              "#ed7953"
             ],
             [
              0.7777777777777778,
              "#fb9f3a"
             ],
             [
              0.8888888888888888,
              "#fdca26"
             ],
             [
              1,
              "#f0f921"
             ]
            ],
            "type": "surface"
           }
          ],
          "table": [
           {
            "cells": {
             "fill": {
              "color": "#EBF0F8"
             },
             "line": {
              "color": "white"
             }
            },
            "header": {
             "fill": {
              "color": "#C8D4E3"
             },
             "line": {
              "color": "white"
             }
            },
            "type": "table"
           }
          ]
         },
         "layout": {
          "annotationdefaults": {
           "arrowcolor": "#2a3f5f",
           "arrowhead": 0,
           "arrowwidth": 1
          },
          "autotypenumbers": "strict",
          "coloraxis": {
           "colorbar": {
            "outlinewidth": 0,
            "ticks": ""
           }
          },
          "colorscale": {
           "diverging": [
            [
             0,
             "#8e0152"
            ],
            [
             0.1,
             "#c51b7d"
            ],
            [
             0.2,
             "#de77ae"
            ],
            [
             0.3,
             "#f1b6da"
            ],
            [
             0.4,
             "#fde0ef"
            ],
            [
             0.5,
             "#f7f7f7"
            ],
            [
             0.6,
             "#e6f5d0"
            ],
            [
             0.7,
             "#b8e186"
            ],
            [
             0.8,
             "#7fbc41"
            ],
            [
             0.9,
             "#4d9221"
            ],
            [
             1,
             "#276419"
            ]
           ],
           "sequential": [
            [
             0,
             "#0d0887"
            ],
            [
             0.1111111111111111,
             "#46039f"
            ],
            [
             0.2222222222222222,
             "#7201a8"
            ],
            [
             0.3333333333333333,
             "#9c179e"
            ],
            [
             0.4444444444444444,
             "#bd3786"
            ],
            [
             0.5555555555555556,
             "#d8576b"
            ],
            [
             0.6666666666666666,
             "#ed7953"
            ],
            [
             0.7777777777777778,
             "#fb9f3a"
            ],
            [
             0.8888888888888888,
             "#fdca26"
            ],
            [
             1,
             "#f0f921"
            ]
           ],
           "sequentialminus": [
            [
             0,
             "#0d0887"
            ],
            [
             0.1111111111111111,
             "#46039f"
            ],
            [
             0.2222222222222222,
             "#7201a8"
            ],
            [
             0.3333333333333333,
             "#9c179e"
            ],
            [
             0.4444444444444444,
             "#bd3786"
            ],
            [
             0.5555555555555556,
             "#d8576b"
            ],
            [
             0.6666666666666666,
             "#ed7953"
            ],
            [
             0.7777777777777778,
             "#fb9f3a"
            ],
            [
             0.8888888888888888,
             "#fdca26"
            ],
            [
             1,
             "#f0f921"
            ]
           ]
          },
          "colorway": [
           "#636efa",
           "#EF553B",
           "#00cc96",
           "#ab63fa",
           "#FFA15A",
           "#19d3f3",
           "#FF6692",
           "#B6E880",
           "#FF97FF",
           "#FECB52"
          ],
          "font": {
           "color": "#2a3f5f"
          },
          "geo": {
           "bgcolor": "white",
           "lakecolor": "white",
           "landcolor": "#E5ECF6",
           "showlakes": true,
           "showland": true,
           "subunitcolor": "white"
          },
          "hoverlabel": {
           "align": "left"
          },
          "hovermode": "closest",
          "mapbox": {
           "style": "light"
          },
          "paper_bgcolor": "white",
          "plot_bgcolor": "#E5ECF6",
          "polar": {
           "angularaxis": {
            "gridcolor": "white",
            "linecolor": "white",
            "ticks": ""
           },
           "bgcolor": "#E5ECF6",
           "radialaxis": {
            "gridcolor": "white",
            "linecolor": "white",
            "ticks": ""
           }
          },
          "scene": {
           "xaxis": {
            "backgroundcolor": "#E5ECF6",
            "gridcolor": "white",
            "gridwidth": 2,
            "linecolor": "white",
            "showbackground": true,
            "ticks": "",
            "zerolinecolor": "white"
           },
           "yaxis": {
            "backgroundcolor": "#E5ECF6",
            "gridcolor": "white",
            "gridwidth": 2,
            "linecolor": "white",
            "showbackground": true,
            "ticks": "",
            "zerolinecolor": "white"
           },
           "zaxis": {
            "backgroundcolor": "#E5ECF6",
            "gridcolor": "white",
            "gridwidth": 2,
            "linecolor": "white",
            "showbackground": true,
            "ticks": "",
            "zerolinecolor": "white"
           }
          },
          "shapedefaults": {
           "line": {
            "color": "#2a3f5f"
           }
          },
          "ternary": {
           "aaxis": {
            "gridcolor": "white",
            "linecolor": "white",
            "ticks": ""
           },
           "baxis": {
            "gridcolor": "white",
            "linecolor": "white",
            "ticks": ""
           },
           "bgcolor": "#E5ECF6",
           "caxis": {
            "gridcolor": "white",
            "linecolor": "white",
            "ticks": ""
           }
          },
          "title": {
           "x": 0.05
          },
          "xaxis": {
           "automargin": true,
           "gridcolor": "white",
           "linecolor": "white",
           "ticks": "",
           "title": {
            "standoff": 15
           },
           "zerolinecolor": "white",
           "zerolinewidth": 2
          },
          "yaxis": {
           "automargin": true,
           "gridcolor": "white",
           "linecolor": "white",
           "ticks": "",
           "title": {
            "standoff": 15
           },
           "zerolinecolor": "white",
           "zerolinewidth": 2
          }
         }
        },
        "title": {
         "text": "perplexity 13"
        },
        "xaxis": {
         "anchor": "y",
         "domain": [
          0,
          1
         ],
         "title": {
          "text": "x"
         }
        },
        "yaxis": {
         "anchor": "x",
         "domain": [
          0,
          1
         ],
         "title": {
          "text": "y"
         }
        }
       }
      }
     },
     "metadata": {},
     "output_type": "display_data"
    },
    {
     "name": "stderr",
     "output_type": "stream",
     "text": [
      "/home/amysiak/thesis/env/lib/python3.8/site-packages/sklearn/manifold/_t_sne.py:800: FutureWarning:\n",
      "\n",
      "The default initialization in TSNE will change from 'random' to 'pca' in 1.2.\n",
      "\n",
      "/home/amysiak/thesis/env/lib/python3.8/site-packages/sklearn/manifold/_t_sne.py:810: FutureWarning:\n",
      "\n",
      "The default learning rate in TSNE will change from 200.0 to 'auto' in 1.2.\n",
      "\n"
     ]
    },
    {
     "data": {
      "application/vnd.plotly.v1+json": {
       "config": {
        "plotlyServerURL": "https://plot.ly"
       },
       "data": [
        {
         "customdata": [
          [
           "ar"
          ]
         ],
         "hovertemplate": "color=vso<br>symbol=afro-asiatic<br>x=%{x}<br>y=%{y}<br>hover_data_0=%{customdata[0]}<extra></extra>",
         "legendgroup": "vso, afro-asiatic",
         "marker": {
          "color": "#FD3216",
          "symbol": "circle-open"
         },
         "mode": "markers",
         "name": "vso, afro-asiatic",
         "orientation": "v",
         "showlegend": true,
         "type": "scatter",
         "x": [
          -89.60282135009766
         ],
         "xaxis": "x",
         "y": [
          -22.364452362060547
         ],
         "yaxis": "y"
        },
        {
         "customdata": [
          [
           "cy"
          ],
          [
           "ga"
          ]
         ],
         "hovertemplate": "color=vso<br>symbol=indo-european<br>x=%{x}<br>y=%{y}<br>hover_data_0=%{customdata[0]}<extra></extra>",
         "legendgroup": "vso, indo-european",
         "marker": {
          "color": "#FD3216",
          "symbol": "circle"
         },
         "mode": "markers",
         "name": "vso, indo-european",
         "orientation": "v",
         "showlegend": true,
         "type": "scatter",
         "x": [
          -63.47150802612305,
          -149.22813415527344
         ],
         "xaxis": "x",
         "y": [
          -61.568016052246094,
          -101.16541290283203
         ],
         "yaxis": "y"
        },
        {
         "customdata": [
          [
           "be"
          ],
          [
           "bg"
          ],
          [
           "cs"
          ],
          [
           "hr"
          ],
          [
           "pl"
          ],
          [
           "ru"
          ],
          [
           "slk"
          ],
          [
           "slv"
          ],
          [
           "uk"
          ]
         ],
         "hovertemplate": "color=slavic<br>symbol=indo-european<br>x=%{x}<br>y=%{y}<br>hover_data_0=%{customdata[0]}<extra></extra>",
         "legendgroup": "slavic, indo-european",
         "marker": {
          "color": "#00FE35",
          "symbol": "circle"
         },
         "mode": "markers",
         "name": "slavic, indo-european",
         "orientation": "v",
         "showlegend": true,
         "type": "scatter",
         "x": [
          89.70985412597656,
          82.28360748291016,
          168.40164184570312,
          110.71320343017578,
          139.66293334960938,
          140.82742309570312,
          190.85179138183594,
          130.5824432373047,
          188.9119415283203
         ],
         "xaxis": "x",
         "y": [
          58.396541595458984,
          112.43238067626953,
          6.075157165527344,
          5.084228992462158,
          145.33717346191406,
          48.1492805480957,
          118.65693664550781,
          92.83878326416016,
          63.376590728759766
         ],
         "yaxis": "y"
        },
        {
         "customdata": [
          [
           "de"
          ],
          [
           "en"
          ],
          [
           "es"
          ],
          [
           "fr"
          ],
          [
           "lt"
          ],
          [
           "lv"
          ],
          [
           "nl"
          ]
         ],
         "hovertemplate": "color=svo<br>symbol=indo-european<br>x=%{x}<br>y=%{y}<br>hover_data_0=%{customdata[0]}<extra></extra>",
         "legendgroup": "svo, indo-european",
         "marker": {
          "color": "#6A76FC",
          "symbol": "circle"
         },
         "mode": "markers",
         "name": "svo, indo-european",
         "orientation": "v",
         "showlegend": true,
         "type": "scatter",
         "x": [
          3.1023411750793457,
          -134.07171630859375,
          -88.08031463623047,
          -154.33694458007812,
          25.562591552734375,
          48.89162826538086,
          -31.41132164001465
         ],
         "xaxis": "x",
         "y": [
          -85.37566375732422,
          -157.3344268798828,
          -122.10255432128906,
          -41.594512939453125,
          50.224910736083984,
          8.300910949707031,
          -115.80355834960938
         ],
         "yaxis": "y"
        },
        {
         "customdata": [
          [
           "fi"
          ]
         ],
         "hovertemplate": "color=svo<br>symbol=uralic<br>x=%{x}<br>y=%{y}<br>hover_data_0=%{customdata[0]}<extra></extra>",
         "legendgroup": "svo, uralic",
         "marker": {
          "color": "#6A76FC",
          "symbol": "circle-open-dot"
         },
         "mode": "markers",
         "name": "svo, uralic",
         "orientation": "v",
         "showlegend": true,
         "type": "scatter",
         "x": [
          -2.680915355682373
         ],
         "xaxis": "x",
         "y": [
          -3.798102617263794
         ],
         "yaxis": "y"
        },
        {
         "customdata": [
          [
           "id"
          ]
         ],
         "hovertemplate": "color=svo<br>symbol=austronesian<br>x=%{x}<br>y=%{y}<br>hover_data_0=%{customdata[0]}<extra></extra>",
         "legendgroup": "svo, austronesian",
         "marker": {
          "color": "#6A76FC",
          "symbol": "square"
         },
         "mode": "markers",
         "name": "svo, austronesian",
         "orientation": "v",
         "showlegend": true,
         "type": "scatter",
         "x": [
          -108.51520538330078
         ],
         "xaxis": "x",
         "y": [
          -71.4659652709961
         ],
         "yaxis": "y"
        },
        {
         "customdata": [
          [
           "zh"
          ]
         ],
         "hovertemplate": "color=svo<br>symbol=sino-tibetan<br>x=%{x}<br>y=%{y}<br>hover_data_0=%{customdata[0]}<extra></extra>",
         "legendgroup": "svo, sino-tibetan",
         "marker": {
          "color": "#6A76FC",
          "symbol": "star"
         },
         "mode": "markers",
         "name": "svo, sino-tibetan",
         "orientation": "v",
         "showlegend": true,
         "type": "scatter",
         "x": [
          -260.10601806640625
         ],
         "xaxis": "x",
         "y": [
          -119.30654907226562
         ],
         "yaxis": "y"
        },
        {
         "customdata": [
          [
           "fa"
          ],
          [
           "hy"
          ]
         ],
         "hovertemplate": "color=sov<br>symbol=indo-european<br>x=%{x}<br>y=%{y}<br>hover_data_0=%{customdata[0]}<extra></extra>",
         "legendgroup": "sov, indo-european",
         "marker": {
          "color": "#FED4C4",
          "symbol": "circle"
         },
         "mode": "markers",
         "name": "sov, indo-european",
         "orientation": "v",
         "showlegend": true,
         "type": "scatter",
         "x": [
          -209.68472290039062,
          -43.09067153930664
         ],
         "xaxis": "x",
         "y": [
          -132.6448211669922,
          18.449810028076172
         ],
         "yaxis": "y"
        },
        {
         "customdata": [
          [
           "ja"
          ]
         ],
         "hovertemplate": "color=sov<br>symbol=japonic<br>x=%{x}<br>y=%{y}<br>hover_data_0=%{customdata[0]}<extra></extra>",
         "legendgroup": "sov, japonic",
         "marker": {
          "color": "#FED4C4",
          "symbol": "diamond"
         },
         "mode": "markers",
         "name": "sov, japonic",
         "orientation": "v",
         "showlegend": true,
         "type": "scatter",
         "x": [
          -251.3079833984375
         ],
         "xaxis": "x",
         "y": [
          -75.27104949951172
         ],
         "yaxis": "y"
        },
        {
         "customdata": [
          [
           "ko"
          ]
         ],
         "hovertemplate": "color=sov<br>symbol=koreanic<br>x=%{x}<br>y=%{y}<br>hover_data_0=%{customdata[0]}<extra></extra>",
         "legendgroup": "sov, koreanic",
         "marker": {
          "color": "#FED4C4",
          "symbol": "x"
         },
         "mode": "markers",
         "name": "sov, koreanic",
         "orientation": "v",
         "showlegend": true,
         "type": "scatter",
         "x": [
          -78.94921875
         ],
         "xaxis": "x",
         "y": [
          62.51614761352539
         ],
         "yaxis": "y"
        },
        {
         "customdata": [
          [
           "tr"
          ]
         ],
         "hovertemplate": "color=sov<br>symbol=turkic<br>x=%{x}<br>y=%{y}<br>hover_data_0=%{customdata[0]}<extra></extra>",
         "legendgroup": "sov, turkic",
         "marker": {
          "color": "#FED4C4",
          "symbol": "triangle-up"
         },
         "mode": "markers",
         "name": "sov, turkic",
         "orientation": "v",
         "showlegend": true,
         "type": "scatter",
         "x": [
          -32.3946418762207
         ],
         "xaxis": "x",
         "y": [
          89.3654556274414
         ],
         "yaxis": "y"
        }
       ],
       "layout": {
        "legend": {
         "title": {
          "text": "color, symbol"
         },
         "tracegroupgap": 0
        },
        "template": {
         "data": {
          "bar": [
           {
            "error_x": {
             "color": "#2a3f5f"
            },
            "error_y": {
             "color": "#2a3f5f"
            },
            "marker": {
             "line": {
              "color": "#E5ECF6",
              "width": 0.5
             },
             "pattern": {
              "fillmode": "overlay",
              "size": 10,
              "solidity": 0.2
             }
            },
            "type": "bar"
           }
          ],
          "barpolar": [
           {
            "marker": {
             "line": {
              "color": "#E5ECF6",
              "width": 0.5
             },
             "pattern": {
              "fillmode": "overlay",
              "size": 10,
              "solidity": 0.2
             }
            },
            "type": "barpolar"
           }
          ],
          "carpet": [
           {
            "aaxis": {
             "endlinecolor": "#2a3f5f",
             "gridcolor": "white",
             "linecolor": "white",
             "minorgridcolor": "white",
             "startlinecolor": "#2a3f5f"
            },
            "baxis": {
             "endlinecolor": "#2a3f5f",
             "gridcolor": "white",
             "linecolor": "white",
             "minorgridcolor": "white",
             "startlinecolor": "#2a3f5f"
            },
            "type": "carpet"
           }
          ],
          "choropleth": [
           {
            "colorbar": {
             "outlinewidth": 0,
             "ticks": ""
            },
            "type": "choropleth"
           }
          ],
          "contour": [
           {
            "colorbar": {
             "outlinewidth": 0,
             "ticks": ""
            },
            "colorscale": [
             [
              0,
              "#0d0887"
             ],
             [
              0.1111111111111111,
              "#46039f"
             ],
             [
              0.2222222222222222,
              "#7201a8"
             ],
             [
              0.3333333333333333,
              "#9c179e"
             ],
             [
              0.4444444444444444,
              "#bd3786"
             ],
             [
              0.5555555555555556,
              "#d8576b"
             ],
             [
              0.6666666666666666,
              "#ed7953"
             ],
             [
              0.7777777777777778,
              "#fb9f3a"
             ],
             [
              0.8888888888888888,
              "#fdca26"
             ],
             [
              1,
              "#f0f921"
             ]
            ],
            "type": "contour"
           }
          ],
          "contourcarpet": [
           {
            "colorbar": {
             "outlinewidth": 0,
             "ticks": ""
            },
            "type": "contourcarpet"
           }
          ],
          "heatmap": [
           {
            "colorbar": {
             "outlinewidth": 0,
             "ticks": ""
            },
            "colorscale": [
             [
              0,
              "#0d0887"
             ],
             [
              0.1111111111111111,
              "#46039f"
             ],
             [
              0.2222222222222222,
              "#7201a8"
             ],
             [
              0.3333333333333333,
              "#9c179e"
             ],
             [
              0.4444444444444444,
              "#bd3786"
             ],
             [
              0.5555555555555556,
              "#d8576b"
             ],
             [
              0.6666666666666666,
              "#ed7953"
             ],
             [
              0.7777777777777778,
              "#fb9f3a"
             ],
             [
              0.8888888888888888,
              "#fdca26"
             ],
             [
              1,
              "#f0f921"
             ]
            ],
            "type": "heatmap"
           }
          ],
          "heatmapgl": [
           {
            "colorbar": {
             "outlinewidth": 0,
             "ticks": ""
            },
            "colorscale": [
             [
              0,
              "#0d0887"
             ],
             [
              0.1111111111111111,
              "#46039f"
             ],
             [
              0.2222222222222222,
              "#7201a8"
             ],
             [
              0.3333333333333333,
              "#9c179e"
             ],
             [
              0.4444444444444444,
              "#bd3786"
             ],
             [
              0.5555555555555556,
              "#d8576b"
             ],
             [
              0.6666666666666666,
              "#ed7953"
             ],
             [
              0.7777777777777778,
              "#fb9f3a"
             ],
             [
              0.8888888888888888,
              "#fdca26"
             ],
             [
              1,
              "#f0f921"
             ]
            ],
            "type": "heatmapgl"
           }
          ],
          "histogram": [
           {
            "marker": {
             "pattern": {
              "fillmode": "overlay",
              "size": 10,
              "solidity": 0.2
             }
            },
            "type": "histogram"
           }
          ],
          "histogram2d": [
           {
            "colorbar": {
             "outlinewidth": 0,
             "ticks": ""
            },
            "colorscale": [
             [
              0,
              "#0d0887"
             ],
             [
              0.1111111111111111,
              "#46039f"
             ],
             [
              0.2222222222222222,
              "#7201a8"
             ],
             [
              0.3333333333333333,
              "#9c179e"
             ],
             [
              0.4444444444444444,
              "#bd3786"
             ],
             [
              0.5555555555555556,
              "#d8576b"
             ],
             [
              0.6666666666666666,
              "#ed7953"
             ],
             [
              0.7777777777777778,
              "#fb9f3a"
             ],
             [
              0.8888888888888888,
              "#fdca26"
             ],
             [
              1,
              "#f0f921"
             ]
            ],
            "type": "histogram2d"
           }
          ],
          "histogram2dcontour": [
           {
            "colorbar": {
             "outlinewidth": 0,
             "ticks": ""
            },
            "colorscale": [
             [
              0,
              "#0d0887"
             ],
             [
              0.1111111111111111,
              "#46039f"
             ],
             [
              0.2222222222222222,
              "#7201a8"
             ],
             [
              0.3333333333333333,
              "#9c179e"
             ],
             [
              0.4444444444444444,
              "#bd3786"
             ],
             [
              0.5555555555555556,
              "#d8576b"
             ],
             [
              0.6666666666666666,
              "#ed7953"
             ],
             [
              0.7777777777777778,
              "#fb9f3a"
             ],
             [
              0.8888888888888888,
              "#fdca26"
             ],
             [
              1,
              "#f0f921"
             ]
            ],
            "type": "histogram2dcontour"
           }
          ],
          "mesh3d": [
           {
            "colorbar": {
             "outlinewidth": 0,
             "ticks": ""
            },
            "type": "mesh3d"
           }
          ],
          "parcoords": [
           {
            "line": {
             "colorbar": {
              "outlinewidth": 0,
              "ticks": ""
             }
            },
            "type": "parcoords"
           }
          ],
          "pie": [
           {
            "automargin": true,
            "type": "pie"
           }
          ],
          "scatter": [
           {
            "fillpattern": {
             "fillmode": "overlay",
             "size": 10,
             "solidity": 0.2
            },
            "type": "scatter"
           }
          ],
          "scatter3d": [
           {
            "line": {
             "colorbar": {
              "outlinewidth": 0,
              "ticks": ""
             }
            },
            "marker": {
             "colorbar": {
              "outlinewidth": 0,
              "ticks": ""
             }
            },
            "type": "scatter3d"
           }
          ],
          "scattercarpet": [
           {
            "marker": {
             "colorbar": {
              "outlinewidth": 0,
              "ticks": ""
             }
            },
            "type": "scattercarpet"
           }
          ],
          "scattergeo": [
           {
            "marker": {
             "colorbar": {
              "outlinewidth": 0,
              "ticks": ""
             }
            },
            "type": "scattergeo"
           }
          ],
          "scattergl": [
           {
            "marker": {
             "colorbar": {
              "outlinewidth": 0,
              "ticks": ""
             }
            },
            "type": "scattergl"
           }
          ],
          "scattermapbox": [
           {
            "marker": {
             "colorbar": {
              "outlinewidth": 0,
              "ticks": ""
             }
            },
            "type": "scattermapbox"
           }
          ],
          "scatterpolar": [
           {
            "marker": {
             "colorbar": {
              "outlinewidth": 0,
              "ticks": ""
             }
            },
            "type": "scatterpolar"
           }
          ],
          "scatterpolargl": [
           {
            "marker": {
             "colorbar": {
              "outlinewidth": 0,
              "ticks": ""
             }
            },
            "type": "scatterpolargl"
           }
          ],
          "scatterternary": [
           {
            "marker": {
             "colorbar": {
              "outlinewidth": 0,
              "ticks": ""
             }
            },
            "type": "scatterternary"
           }
          ],
          "surface": [
           {
            "colorbar": {
             "outlinewidth": 0,
             "ticks": ""
            },
            "colorscale": [
             [
              0,
              "#0d0887"
             ],
             [
              0.1111111111111111,
              "#46039f"
             ],
             [
              0.2222222222222222,
              "#7201a8"
             ],
             [
              0.3333333333333333,
              "#9c179e"
             ],
             [
              0.4444444444444444,
              "#bd3786"
             ],
             [
              0.5555555555555556,
              "#d8576b"
             ],
             [
              0.6666666666666666,
              "#ed7953"
             ],
             [
              0.7777777777777778,
              "#fb9f3a"
             ],
             [
              0.8888888888888888,
              "#fdca26"
             ],
             [
              1,
              "#f0f921"
             ]
            ],
            "type": "surface"
           }
          ],
          "table": [
           {
            "cells": {
             "fill": {
              "color": "#EBF0F8"
             },
             "line": {
              "color": "white"
             }
            },
            "header": {
             "fill": {
              "color": "#C8D4E3"
             },
             "line": {
              "color": "white"
             }
            },
            "type": "table"
           }
          ]
         },
         "layout": {
          "annotationdefaults": {
           "arrowcolor": "#2a3f5f",
           "arrowhead": 0,
           "arrowwidth": 1
          },
          "autotypenumbers": "strict",
          "coloraxis": {
           "colorbar": {
            "outlinewidth": 0,
            "ticks": ""
           }
          },
          "colorscale": {
           "diverging": [
            [
             0,
             "#8e0152"
            ],
            [
             0.1,
             "#c51b7d"
            ],
            [
             0.2,
             "#de77ae"
            ],
            [
             0.3,
             "#f1b6da"
            ],
            [
             0.4,
             "#fde0ef"
            ],
            [
             0.5,
             "#f7f7f7"
            ],
            [
             0.6,
             "#e6f5d0"
            ],
            [
             0.7,
             "#b8e186"
            ],
            [
             0.8,
             "#7fbc41"
            ],
            [
             0.9,
             "#4d9221"
            ],
            [
             1,
             "#276419"
            ]
           ],
           "sequential": [
            [
             0,
             "#0d0887"
            ],
            [
             0.1111111111111111,
             "#46039f"
            ],
            [
             0.2222222222222222,
             "#7201a8"
            ],
            [
             0.3333333333333333,
             "#9c179e"
            ],
            [
             0.4444444444444444,
             "#bd3786"
            ],
            [
             0.5555555555555556,
             "#d8576b"
            ],
            [
             0.6666666666666666,
             "#ed7953"
            ],
            [
             0.7777777777777778,
             "#fb9f3a"
            ],
            [
             0.8888888888888888,
             "#fdca26"
            ],
            [
             1,
             "#f0f921"
            ]
           ],
           "sequentialminus": [
            [
             0,
             "#0d0887"
            ],
            [
             0.1111111111111111,
             "#46039f"
            ],
            [
             0.2222222222222222,
             "#7201a8"
            ],
            [
             0.3333333333333333,
             "#9c179e"
            ],
            [
             0.4444444444444444,
             "#bd3786"
            ],
            [
             0.5555555555555556,
             "#d8576b"
            ],
            [
             0.6666666666666666,
             "#ed7953"
            ],
            [
             0.7777777777777778,
             "#fb9f3a"
            ],
            [
             0.8888888888888888,
             "#fdca26"
            ],
            [
             1,
             "#f0f921"
            ]
           ]
          },
          "colorway": [
           "#636efa",
           "#EF553B",
           "#00cc96",
           "#ab63fa",
           "#FFA15A",
           "#19d3f3",
           "#FF6692",
           "#B6E880",
           "#FF97FF",
           "#FECB52"
          ],
          "font": {
           "color": "#2a3f5f"
          },
          "geo": {
           "bgcolor": "white",
           "lakecolor": "white",
           "landcolor": "#E5ECF6",
           "showlakes": true,
           "showland": true,
           "subunitcolor": "white"
          },
          "hoverlabel": {
           "align": "left"
          },
          "hovermode": "closest",
          "mapbox": {
           "style": "light"
          },
          "paper_bgcolor": "white",
          "plot_bgcolor": "#E5ECF6",
          "polar": {
           "angularaxis": {
            "gridcolor": "white",
            "linecolor": "white",
            "ticks": ""
           },
           "bgcolor": "#E5ECF6",
           "radialaxis": {
            "gridcolor": "white",
            "linecolor": "white",
            "ticks": ""
           }
          },
          "scene": {
           "xaxis": {
            "backgroundcolor": "#E5ECF6",
            "gridcolor": "white",
            "gridwidth": 2,
            "linecolor": "white",
            "showbackground": true,
            "ticks": "",
            "zerolinecolor": "white"
           },
           "yaxis": {
            "backgroundcolor": "#E5ECF6",
            "gridcolor": "white",
            "gridwidth": 2,
            "linecolor": "white",
            "showbackground": true,
            "ticks": "",
            "zerolinecolor": "white"
           },
           "zaxis": {
            "backgroundcolor": "#E5ECF6",
            "gridcolor": "white",
            "gridwidth": 2,
            "linecolor": "white",
            "showbackground": true,
            "ticks": "",
            "zerolinecolor": "white"
           }
          },
          "shapedefaults": {
           "line": {
            "color": "#2a3f5f"
           }
          },
          "ternary": {
           "aaxis": {
            "gridcolor": "white",
            "linecolor": "white",
            "ticks": ""
           },
           "baxis": {
            "gridcolor": "white",
            "linecolor": "white",
            "ticks": ""
           },
           "bgcolor": "#E5ECF6",
           "caxis": {
            "gridcolor": "white",
            "linecolor": "white",
            "ticks": ""
           }
          },
          "title": {
           "x": 0.05
          },
          "xaxis": {
           "automargin": true,
           "gridcolor": "white",
           "linecolor": "white",
           "ticks": "",
           "title": {
            "standoff": 15
           },
           "zerolinecolor": "white",
           "zerolinewidth": 2
          },
          "yaxis": {
           "automargin": true,
           "gridcolor": "white",
           "linecolor": "white",
           "ticks": "",
           "title": {
            "standoff": 15
           },
           "zerolinecolor": "white",
           "zerolinewidth": 2
          }
         }
        },
        "title": {
         "text": "perplexity 14"
        },
        "xaxis": {
         "anchor": "y",
         "domain": [
          0,
          1
         ],
         "title": {
          "text": "x"
         }
        },
        "yaxis": {
         "anchor": "x",
         "domain": [
          0,
          1
         ],
         "title": {
          "text": "y"
         }
        }
       }
      }
     },
     "metadata": {},
     "output_type": "display_data"
    },
    {
     "name": "stderr",
     "output_type": "stream",
     "text": [
      "/home/amysiak/thesis/env/lib/python3.8/site-packages/sklearn/manifold/_t_sne.py:800: FutureWarning:\n",
      "\n",
      "The default initialization in TSNE will change from 'random' to 'pca' in 1.2.\n",
      "\n",
      "/home/amysiak/thesis/env/lib/python3.8/site-packages/sklearn/manifold/_t_sne.py:810: FutureWarning:\n",
      "\n",
      "The default learning rate in TSNE will change from 200.0 to 'auto' in 1.2.\n",
      "\n"
     ]
    },
    {
     "data": {
      "application/vnd.plotly.v1+json": {
       "config": {
        "plotlyServerURL": "https://plot.ly"
       },
       "data": [
        {
         "customdata": [
          [
           "ar"
          ]
         ],
         "hovertemplate": "color=vso<br>symbol=afro-asiatic<br>x=%{x}<br>y=%{y}<br>hover_data_0=%{customdata[0]}<extra></extra>",
         "legendgroup": "vso, afro-asiatic",
         "marker": {
          "color": "#FD3216",
          "symbol": "circle-open"
         },
         "mode": "markers",
         "name": "vso, afro-asiatic",
         "orientation": "v",
         "showlegend": true,
         "type": "scatter",
         "x": [
          41.2216911315918
         ],
         "xaxis": "x",
         "y": [
          -43.64549255371094
         ],
         "yaxis": "y"
        },
        {
         "customdata": [
          [
           "cy"
          ],
          [
           "ga"
          ]
         ],
         "hovertemplate": "color=vso<br>symbol=indo-european<br>x=%{x}<br>y=%{y}<br>hover_data_0=%{customdata[0]}<extra></extra>",
         "legendgroup": "vso, indo-european",
         "marker": {
          "color": "#FD3216",
          "symbol": "circle"
         },
         "mode": "markers",
         "name": "vso, indo-european",
         "orientation": "v",
         "showlegend": true,
         "type": "scatter",
         "x": [
          78.41752624511719,
          173.70169067382812
         ],
         "xaxis": "x",
         "y": [
          -97.87312316894531,
          -10.927675247192383
         ],
         "yaxis": "y"
        },
        {
         "customdata": [
          [
           "be"
          ],
          [
           "bg"
          ],
          [
           "cs"
          ],
          [
           "hr"
          ],
          [
           "pl"
          ],
          [
           "ru"
          ],
          [
           "slk"
          ],
          [
           "slv"
          ],
          [
           "uk"
          ]
         ],
         "hovertemplate": "color=slavic<br>symbol=indo-european<br>x=%{x}<br>y=%{y}<br>hover_data_0=%{customdata[0]}<extra></extra>",
         "legendgroup": "slavic, indo-european",
         "marker": {
          "color": "#00FE35",
          "symbol": "circle"
         },
         "mode": "markers",
         "name": "slavic, indo-european",
         "orientation": "v",
         "showlegend": true,
         "type": "scatter",
         "x": [
          -183.0215301513672,
          -239.37351989746094,
          -142.2067413330078,
          -143.98394775390625,
          -299.0168151855469,
          -301.55145263671875,
          -251.1555633544922,
          -202.16812133789062,
          -242.9289093017578
         ],
         "xaxis": "x",
         "y": [
          -18.678813934326172,
          19.427257537841797,
          39.65040969848633,
          110.5189208984375,
          69.15470886230469,
          -11.95864486694336,
          130.6038818359375,
          71.12456512451172,
          -59.88151168823242
         ],
         "yaxis": "y"
        },
        {
         "customdata": [
          [
           "de"
          ],
          [
           "en"
          ],
          [
           "es"
          ],
          [
           "fr"
          ],
          [
           "lt"
          ],
          [
           "lv"
          ],
          [
           "nl"
          ]
         ],
         "hovertemplate": "color=svo<br>symbol=indo-european<br>x=%{x}<br>y=%{y}<br>hover_data_0=%{customdata[0]}<extra></extra>",
         "legendgroup": "svo, indo-european",
         "marker": {
          "color": "#6A76FC",
          "symbol": "circle"
         },
         "mode": "markers",
         "name": "svo, indo-european",
         "orientation": "v",
         "showlegend": true,
         "type": "scatter",
         "x": [
          69.08694458007812,
          238.8180389404297,
          99.52308654785156,
          173.9210968017578,
          -125.25035858154297,
          -87.41845703125,
          129.0274200439453
         ],
         "xaxis": "x",
         "y": [
          -186.65219116210938,
          -57.155025482177734,
          22.473203659057617,
          -100.91178894042969,
          -76.3717041015625,
          -16.298513412475586,
          -164.99423217773438
         ],
         "yaxis": "y"
        },
        {
         "customdata": [
          [
           "fi"
          ]
         ],
         "hovertemplate": "color=svo<br>symbol=uralic<br>x=%{x}<br>y=%{y}<br>hover_data_0=%{customdata[0]}<extra></extra>",
         "legendgroup": "svo, uralic",
         "marker": {
          "color": "#6A76FC",
          "symbol": "circle-open-dot"
         },
         "mode": "markers",
         "name": "svo, uralic",
         "orientation": "v",
         "showlegend": true,
         "type": "scatter",
         "x": [
          -49.95200729370117
         ],
         "xaxis": "x",
         "y": [
          -74.70743560791016
         ],
         "yaxis": "y"
        },
        {
         "customdata": [
          [
           "id"
          ]
         ],
         "hovertemplate": "color=svo<br>symbol=austronesian<br>x=%{x}<br>y=%{y}<br>hover_data_0=%{customdata[0]}<extra></extra>",
         "legendgroup": "svo, austronesian",
         "marker": {
          "color": "#6A76FC",
          "symbol": "square"
         },
         "mode": "markers",
         "name": "svo, austronesian",
         "orientation": "v",
         "showlegend": true,
         "type": "scatter",
         "x": [
          116.21540069580078
         ],
         "xaxis": "x",
         "y": [
          -48.44153594970703
         ],
         "yaxis": "y"
        },
        {
         "customdata": [
          [
           "zh"
          ]
         ],
         "hovertemplate": "color=svo<br>symbol=sino-tibetan<br>x=%{x}<br>y=%{y}<br>hover_data_0=%{customdata[0]}<extra></extra>",
         "legendgroup": "svo, sino-tibetan",
         "marker": {
          "color": "#6A76FC",
          "symbol": "star"
         },
         "mode": "markers",
         "name": "svo, sino-tibetan",
         "orientation": "v",
         "showlegend": true,
         "type": "scatter",
         "x": [
          288.291748046875
         ],
         "xaxis": "x",
         "y": [
          45.434635162353516
         ],
         "yaxis": "y"
        },
        {
         "customdata": [
          [
           "fa"
          ],
          [
           "hy"
          ]
         ],
         "hovertemplate": "color=sov<br>symbol=indo-european<br>x=%{x}<br>y=%{y}<br>hover_data_0=%{customdata[0]}<extra></extra>",
         "legendgroup": "sov, indo-european",
         "marker": {
          "color": "#FED4C4",
          "symbol": "circle"
         },
         "mode": "markers",
         "name": "sov, indo-european",
         "orientation": "v",
         "showlegend": true,
         "type": "scatter",
         "x": [
          214.8985137939453,
          -11.218029975891113
         ],
         "xaxis": "x",
         "y": [
          71.27051544189453,
          -122.1275405883789
         ],
         "yaxis": "y"
        },
        {
         "customdata": [
          [
           "ja"
          ]
         ],
         "hovertemplate": "color=sov<br>symbol=japonic<br>x=%{x}<br>y=%{y}<br>hover_data_0=%{customdata[0]}<extra></extra>",
         "legendgroup": "sov, japonic",
         "marker": {
          "color": "#FED4C4",
          "symbol": "diamond"
         },
         "mode": "markers",
         "name": "sov, japonic",
         "orientation": "v",
         "showlegend": true,
         "type": "scatter",
         "x": [
          293.1111145019531
         ],
         "xaxis": "x",
         "y": [
          108.36588287353516
         ],
         "yaxis": "y"
        },
        {
         "customdata": [
          [
           "ko"
          ]
         ],
         "hovertemplate": "color=sov<br>symbol=koreanic<br>x=%{x}<br>y=%{y}<br>hover_data_0=%{customdata[0]}<extra></extra>",
         "legendgroup": "sov, koreanic",
         "marker": {
          "color": "#FED4C4",
          "symbol": "x"
         },
         "mode": "markers",
         "name": "sov, koreanic",
         "orientation": "v",
         "showlegend": true,
         "type": "scatter",
         "x": [
          -48.45606994628906
         ],
         "xaxis": "x",
         "y": [
          -190.94529724121094
         ],
         "yaxis": "y"
        },
        {
         "customdata": [
          [
           "tr"
          ]
         ],
         "hovertemplate": "color=sov<br>symbol=turkic<br>x=%{x}<br>y=%{y}<br>hover_data_0=%{customdata[0]}<extra></extra>",
         "legendgroup": "sov, turkic",
         "marker": {
          "color": "#FED4C4",
          "symbol": "triangle-up"
         },
         "mode": "markers",
         "name": "sov, turkic",
         "orientation": "v",
         "showlegend": true,
         "type": "scatter",
         "x": [
          -117.02202606201172
         ],
         "xaxis": "x",
         "y": [
          -167.5022735595703
         ],
         "yaxis": "y"
        }
       ],
       "layout": {
        "legend": {
         "title": {
          "text": "color, symbol"
         },
         "tracegroupgap": 0
        },
        "template": {
         "data": {
          "bar": [
           {
            "error_x": {
             "color": "#2a3f5f"
            },
            "error_y": {
             "color": "#2a3f5f"
            },
            "marker": {
             "line": {
              "color": "#E5ECF6",
              "width": 0.5
             },
             "pattern": {
              "fillmode": "overlay",
              "size": 10,
              "solidity": 0.2
             }
            },
            "type": "bar"
           }
          ],
          "barpolar": [
           {
            "marker": {
             "line": {
              "color": "#E5ECF6",
              "width": 0.5
             },
             "pattern": {
              "fillmode": "overlay",
              "size": 10,
              "solidity": 0.2
             }
            },
            "type": "barpolar"
           }
          ],
          "carpet": [
           {
            "aaxis": {
             "endlinecolor": "#2a3f5f",
             "gridcolor": "white",
             "linecolor": "white",
             "minorgridcolor": "white",
             "startlinecolor": "#2a3f5f"
            },
            "baxis": {
             "endlinecolor": "#2a3f5f",
             "gridcolor": "white",
             "linecolor": "white",
             "minorgridcolor": "white",
             "startlinecolor": "#2a3f5f"
            },
            "type": "carpet"
           }
          ],
          "choropleth": [
           {
            "colorbar": {
             "outlinewidth": 0,
             "ticks": ""
            },
            "type": "choropleth"
           }
          ],
          "contour": [
           {
            "colorbar": {
             "outlinewidth": 0,
             "ticks": ""
            },
            "colorscale": [
             [
              0,
              "#0d0887"
             ],
             [
              0.1111111111111111,
              "#46039f"
             ],
             [
              0.2222222222222222,
              "#7201a8"
             ],
             [
              0.3333333333333333,
              "#9c179e"
             ],
             [
              0.4444444444444444,
              "#bd3786"
             ],
             [
              0.5555555555555556,
              "#d8576b"
             ],
             [
              0.6666666666666666,
              "#ed7953"
             ],
             [
              0.7777777777777778,
              "#fb9f3a"
             ],
             [
              0.8888888888888888,
              "#fdca26"
             ],
             [
              1,
              "#f0f921"
             ]
            ],
            "type": "contour"
           }
          ],
          "contourcarpet": [
           {
            "colorbar": {
             "outlinewidth": 0,
             "ticks": ""
            },
            "type": "contourcarpet"
           }
          ],
          "heatmap": [
           {
            "colorbar": {
             "outlinewidth": 0,
             "ticks": ""
            },
            "colorscale": [
             [
              0,
              "#0d0887"
             ],
             [
              0.1111111111111111,
              "#46039f"
             ],
             [
              0.2222222222222222,
              "#7201a8"
             ],
             [
              0.3333333333333333,
              "#9c179e"
             ],
             [
              0.4444444444444444,
              "#bd3786"
             ],
             [
              0.5555555555555556,
              "#d8576b"
             ],
             [
              0.6666666666666666,
              "#ed7953"
             ],
             [
              0.7777777777777778,
              "#fb9f3a"
             ],
             [
              0.8888888888888888,
              "#fdca26"
             ],
             [
              1,
              "#f0f921"
             ]
            ],
            "type": "heatmap"
           }
          ],
          "heatmapgl": [
           {
            "colorbar": {
             "outlinewidth": 0,
             "ticks": ""
            },
            "colorscale": [
             [
              0,
              "#0d0887"
             ],
             [
              0.1111111111111111,
              "#46039f"
             ],
             [
              0.2222222222222222,
              "#7201a8"
             ],
             [
              0.3333333333333333,
              "#9c179e"
             ],
             [
              0.4444444444444444,
              "#bd3786"
             ],
             [
              0.5555555555555556,
              "#d8576b"
             ],
             [
              0.6666666666666666,
              "#ed7953"
             ],
             [
              0.7777777777777778,
              "#fb9f3a"
             ],
             [
              0.8888888888888888,
              "#fdca26"
             ],
             [
              1,
              "#f0f921"
             ]
            ],
            "type": "heatmapgl"
           }
          ],
          "histogram": [
           {
            "marker": {
             "pattern": {
              "fillmode": "overlay",
              "size": 10,
              "solidity": 0.2
             }
            },
            "type": "histogram"
           }
          ],
          "histogram2d": [
           {
            "colorbar": {
             "outlinewidth": 0,
             "ticks": ""
            },
            "colorscale": [
             [
              0,
              "#0d0887"
             ],
             [
              0.1111111111111111,
              "#46039f"
             ],
             [
              0.2222222222222222,
              "#7201a8"
             ],
             [
              0.3333333333333333,
              "#9c179e"
             ],
             [
              0.4444444444444444,
              "#bd3786"
             ],
             [
              0.5555555555555556,
              "#d8576b"
             ],
             [
              0.6666666666666666,
              "#ed7953"
             ],
             [
              0.7777777777777778,
              "#fb9f3a"
             ],
             [
              0.8888888888888888,
              "#fdca26"
             ],
             [
              1,
              "#f0f921"
             ]
            ],
            "type": "histogram2d"
           }
          ],
          "histogram2dcontour": [
           {
            "colorbar": {
             "outlinewidth": 0,
             "ticks": ""
            },
            "colorscale": [
             [
              0,
              "#0d0887"
             ],
             [
              0.1111111111111111,
              "#46039f"
             ],
             [
              0.2222222222222222,
              "#7201a8"
             ],
             [
              0.3333333333333333,
              "#9c179e"
             ],
             [
              0.4444444444444444,
              "#bd3786"
             ],
             [
              0.5555555555555556,
              "#d8576b"
             ],
             [
              0.6666666666666666,
              "#ed7953"
             ],
             [
              0.7777777777777778,
              "#fb9f3a"
             ],
             [
              0.8888888888888888,
              "#fdca26"
             ],
             [
              1,
              "#f0f921"
             ]
            ],
            "type": "histogram2dcontour"
           }
          ],
          "mesh3d": [
           {
            "colorbar": {
             "outlinewidth": 0,
             "ticks": ""
            },
            "type": "mesh3d"
           }
          ],
          "parcoords": [
           {
            "line": {
             "colorbar": {
              "outlinewidth": 0,
              "ticks": ""
             }
            },
            "type": "parcoords"
           }
          ],
          "pie": [
           {
            "automargin": true,
            "type": "pie"
           }
          ],
          "scatter": [
           {
            "fillpattern": {
             "fillmode": "overlay",
             "size": 10,
             "solidity": 0.2
            },
            "type": "scatter"
           }
          ],
          "scatter3d": [
           {
            "line": {
             "colorbar": {
              "outlinewidth": 0,
              "ticks": ""
             }
            },
            "marker": {
             "colorbar": {
              "outlinewidth": 0,
              "ticks": ""
             }
            },
            "type": "scatter3d"
           }
          ],
          "scattercarpet": [
           {
            "marker": {
             "colorbar": {
              "outlinewidth": 0,
              "ticks": ""
             }
            },
            "type": "scattercarpet"
           }
          ],
          "scattergeo": [
           {
            "marker": {
             "colorbar": {
              "outlinewidth": 0,
              "ticks": ""
             }
            },
            "type": "scattergeo"
           }
          ],
          "scattergl": [
           {
            "marker": {
             "colorbar": {
              "outlinewidth": 0,
              "ticks": ""
             }
            },
            "type": "scattergl"
           }
          ],
          "scattermapbox": [
           {
            "marker": {
             "colorbar": {
              "outlinewidth": 0,
              "ticks": ""
             }
            },
            "type": "scattermapbox"
           }
          ],
          "scatterpolar": [
           {
            "marker": {
             "colorbar": {
              "outlinewidth": 0,
              "ticks": ""
             }
            },
            "type": "scatterpolar"
           }
          ],
          "scatterpolargl": [
           {
            "marker": {
             "colorbar": {
              "outlinewidth": 0,
              "ticks": ""
             }
            },
            "type": "scatterpolargl"
           }
          ],
          "scatterternary": [
           {
            "marker": {
             "colorbar": {
              "outlinewidth": 0,
              "ticks": ""
             }
            },
            "type": "scatterternary"
           }
          ],
          "surface": [
           {
            "colorbar": {
             "outlinewidth": 0,
             "ticks": ""
            },
            "colorscale": [
             [
              0,
              "#0d0887"
             ],
             [
              0.1111111111111111,
              "#46039f"
             ],
             [
              0.2222222222222222,
              "#7201a8"
             ],
             [
              0.3333333333333333,
              "#9c179e"
             ],
             [
              0.4444444444444444,
              "#bd3786"
             ],
             [
              0.5555555555555556,
              "#d8576b"
             ],
             [
              0.6666666666666666,
              "#ed7953"
             ],
             [
              0.7777777777777778,
              "#fb9f3a"
             ],
             [
              0.8888888888888888,
              "#fdca26"
             ],
             [
              1,
              "#f0f921"
             ]
            ],
            "type": "surface"
           }
          ],
          "table": [
           {
            "cells": {
             "fill": {
              "color": "#EBF0F8"
             },
             "line": {
              "color": "white"
             }
            },
            "header": {
             "fill": {
              "color": "#C8D4E3"
             },
             "line": {
              "color": "white"
             }
            },
            "type": "table"
           }
          ]
         },
         "layout": {
          "annotationdefaults": {
           "arrowcolor": "#2a3f5f",
           "arrowhead": 0,
           "arrowwidth": 1
          },
          "autotypenumbers": "strict",
          "coloraxis": {
           "colorbar": {
            "outlinewidth": 0,
            "ticks": ""
           }
          },
          "colorscale": {
           "diverging": [
            [
             0,
             "#8e0152"
            ],
            [
             0.1,
             "#c51b7d"
            ],
            [
             0.2,
             "#de77ae"
            ],
            [
             0.3,
             "#f1b6da"
            ],
            [
             0.4,
             "#fde0ef"
            ],
            [
             0.5,
             "#f7f7f7"
            ],
            [
             0.6,
             "#e6f5d0"
            ],
            [
             0.7,
             "#b8e186"
            ],
            [
             0.8,
             "#7fbc41"
            ],
            [
             0.9,
             "#4d9221"
            ],
            [
             1,
             "#276419"
            ]
           ],
           "sequential": [
            [
             0,
             "#0d0887"
            ],
            [
             0.1111111111111111,
             "#46039f"
            ],
            [
             0.2222222222222222,
             "#7201a8"
            ],
            [
             0.3333333333333333,
             "#9c179e"
            ],
            [
             0.4444444444444444,
             "#bd3786"
            ],
            [
             0.5555555555555556,
             "#d8576b"
            ],
            [
             0.6666666666666666,
             "#ed7953"
            ],
            [
             0.7777777777777778,
             "#fb9f3a"
            ],
            [
             0.8888888888888888,
             "#fdca26"
            ],
            [
             1,
             "#f0f921"
            ]
           ],
           "sequentialminus": [
            [
             0,
             "#0d0887"
            ],
            [
             0.1111111111111111,
             "#46039f"
            ],
            [
             0.2222222222222222,
             "#7201a8"
            ],
            [
             0.3333333333333333,
             "#9c179e"
            ],
            [
             0.4444444444444444,
             "#bd3786"
            ],
            [
             0.5555555555555556,
             "#d8576b"
            ],
            [
             0.6666666666666666,
             "#ed7953"
            ],
            [
             0.7777777777777778,
             "#fb9f3a"
            ],
            [
             0.8888888888888888,
             "#fdca26"
            ],
            [
             1,
             "#f0f921"
            ]
           ]
          },
          "colorway": [
           "#636efa",
           "#EF553B",
           "#00cc96",
           "#ab63fa",
           "#FFA15A",
           "#19d3f3",
           "#FF6692",
           "#B6E880",
           "#FF97FF",
           "#FECB52"
          ],
          "font": {
           "color": "#2a3f5f"
          },
          "geo": {
           "bgcolor": "white",
           "lakecolor": "white",
           "landcolor": "#E5ECF6",
           "showlakes": true,
           "showland": true,
           "subunitcolor": "white"
          },
          "hoverlabel": {
           "align": "left"
          },
          "hovermode": "closest",
          "mapbox": {
           "style": "light"
          },
          "paper_bgcolor": "white",
          "plot_bgcolor": "#E5ECF6",
          "polar": {
           "angularaxis": {
            "gridcolor": "white",
            "linecolor": "white",
            "ticks": ""
           },
           "bgcolor": "#E5ECF6",
           "radialaxis": {
            "gridcolor": "white",
            "linecolor": "white",
            "ticks": ""
           }
          },
          "scene": {
           "xaxis": {
            "backgroundcolor": "#E5ECF6",
            "gridcolor": "white",
            "gridwidth": 2,
            "linecolor": "white",
            "showbackground": true,
            "ticks": "",
            "zerolinecolor": "white"
           },
           "yaxis": {
            "backgroundcolor": "#E5ECF6",
            "gridcolor": "white",
            "gridwidth": 2,
            "linecolor": "white",
            "showbackground": true,
            "ticks": "",
            "zerolinecolor": "white"
           },
           "zaxis": {
            "backgroundcolor": "#E5ECF6",
            "gridcolor": "white",
            "gridwidth": 2,
            "linecolor": "white",
            "showbackground": true,
            "ticks": "",
            "zerolinecolor": "white"
           }
          },
          "shapedefaults": {
           "line": {
            "color": "#2a3f5f"
           }
          },
          "ternary": {
           "aaxis": {
            "gridcolor": "white",
            "linecolor": "white",
            "ticks": ""
           },
           "baxis": {
            "gridcolor": "white",
            "linecolor": "white",
            "ticks": ""
           },
           "bgcolor": "#E5ECF6",
           "caxis": {
            "gridcolor": "white",
            "linecolor": "white",
            "ticks": ""
           }
          },
          "title": {
           "x": 0.05
          },
          "xaxis": {
           "automargin": true,
           "gridcolor": "white",
           "linecolor": "white",
           "ticks": "",
           "title": {
            "standoff": 15
           },
           "zerolinecolor": "white",
           "zerolinewidth": 2
          },
          "yaxis": {
           "automargin": true,
           "gridcolor": "white",
           "linecolor": "white",
           "ticks": "",
           "title": {
            "standoff": 15
           },
           "zerolinecolor": "white",
           "zerolinewidth": 2
          }
         }
        },
        "title": {
         "text": "perplexity 15"
        },
        "xaxis": {
         "anchor": "y",
         "domain": [
          0,
          1
         ],
         "title": {
          "text": "x"
         }
        },
        "yaxis": {
         "anchor": "x",
         "domain": [
          0,
          1
         ],
         "title": {
          "text": "y"
         }
        }
       }
      }
     },
     "metadata": {},
     "output_type": "display_data"
    }
   ],
   "source": [
    "for p in range(3, 16):    \n",
    "    X_embedded = TSNE(perplexity=p, metric='euclidean', random_state=42).fit_transform(X)\n",
    "    fig = px.scatter(x=X_embedded[:,0], y=X_embedded[:,1], color=[lang_types_dict[l] for l in langs], symbol=[families_dict[l] for l in langs], title=f\"perplexity {p}\", color_discrete_sequence=px.colors.qualitative.Light24, hover_data=[langs],\n",
    "                     symbol_sequence= ['circle-open', 'circle', 'circle-open-dot', 'square', 'diamond', 'x', 'triangle-up', 'star', 'cross-thin'])\n",
    "    fig.show()"
   ]
  },
  {
   "cell_type": "code",
   "execution_count": 23,
   "metadata": {},
   "outputs": [
    {
     "name": "stdout",
     "output_type": "stream",
     "text": [
      "-1\n",
      "en\n",
      "fa\n",
      "ja\n",
      "ko\n",
      "tr\n",
      "\n",
      "\n",
      "0\n",
      "ar\n",
      "cy\n",
      "ga\n",
      "id\n",
      "\n",
      "\n",
      "1\n",
      "be\n",
      "bg\n",
      "cs\n",
      "fi\n",
      "hr\n",
      "hy\n",
      "lt\n",
      "lv\n",
      "pl\n",
      "ru\n",
      "slk\n",
      "slv\n",
      "uk\n",
      "zh\n",
      "\n",
      "\n",
      "2\n",
      "de\n",
      "nl\n",
      "\n",
      "\n",
      "3\n",
      "es\n",
      "fr\n",
      "\n",
      "\n"
     ]
    }
   ],
   "source": [
    "# dbscan looked better for cherry-picked languages\n",
    "dbscan = DBSCAN(min_samples=2, metric='cosine', eps=0.001)\n",
    "# the first cluster I get is the slavics, unsurprisingly\n",
    "clusters = dbscan.fit_predict(X)\n",
    "for val in np.unique(clusters):\n",
    "    print(val)\n",
    "    for cl, lan in zip(clusters, langs):\n",
    "        if cl == val:\n",
    "            print(lan)\n",
    "\n",
    "    print(\"\\n\")\n"
   ]
  },
  {
   "cell_type": "markdown",
   "metadata": {},
   "source": [
    "## t-SNE using distances\n",
    "wayyyy worse"
   ]
  },
  {
   "cell_type": "code",
   "execution_count": 24,
   "metadata": {},
   "outputs": [],
   "source": [
    "langs_train = df.train.unique()"
   ]
  },
  {
   "cell_type": "code",
   "execution_count": 25,
   "metadata": {},
   "outputs": [],
   "source": [
    "X_dist = np.zeros((len(langs_train), len(langs_train)))"
   ]
  },
  {
   "cell_type": "code",
   "execution_count": 26,
   "metadata": {},
   "outputs": [],
   "source": [
    "for i, lang in enumerate(langs_train):\n",
    "    for j, lang_ in enumerate(langs_train):\n",
    "        if i == j:\n",
    "            continue\n",
    "\n",
    "        r1 = df[(df.train == lang) & (df.test == lang_)].uuas.mean()\n",
    "        r2 = df[(df.test == lang) & (df.train == lang_)].uuas.mean()\n",
    "\n",
    "        X_dist[i, j] = 1 - (r1 + r2)/2\n"
   ]
  },
  {
   "cell_type": "code",
   "execution_count": 39,
   "metadata": {},
   "outputs": [
    {
     "name": "stderr",
     "output_type": "stream",
     "text": [
      "/home/amysiak/thesis/env/lib/python3.8/site-packages/sklearn/manifold/_t_sne.py:800: FutureWarning:\n",
      "\n",
      "The default initialization in TSNE will change from 'random' to 'pca' in 1.2.\n",
      "\n",
      "/home/amysiak/thesis/env/lib/python3.8/site-packages/sklearn/manifold/_t_sne.py:810: FutureWarning:\n",
      "\n",
      "The default learning rate in TSNE will change from 200.0 to 'auto' in 1.2.\n",
      "\n"
     ]
    },
    {
     "data": {
      "application/vnd.plotly.v1+json": {
       "config": {
        "plotlyServerURL": "https://plot.ly"
       },
       "data": [
        {
         "customdata": [
          [
           "be"
          ],
          [
           "cs"
          ],
          [
           "pl"
          ],
          [
           "ru"
          ],
          [
           "slv"
          ]
         ],
         "hovertemplate": "color=slavic<br>symbol=indo-european<br>x=%{x}<br>y=%{y}<br>hover_data_0=%{customdata[0]}<extra></extra>",
         "legendgroup": "slavic, indo-european",
         "marker": {
          "color": "#FD3216",
          "symbol": "circle"
         },
         "mode": "markers",
         "name": "slavic, indo-european",
         "orientation": "v",
         "showlegend": true,
         "type": "scatter",
         "x": [
          65.92350769042969,
          109.57093048095703,
          108.79960632324219,
          38.45940017700195,
          47.04429244995117
         ],
         "xaxis": "x",
         "y": [
          -132.74209594726562,
          -8.535938262939453,
          -72.65408325195312,
          -63.97745132446289,
          14.17721939086914
         ],
         "yaxis": "y"
        },
        {
         "customdata": [
          [
           "en"
          ],
          [
           "es"
          ],
          [
           "fr"
          ],
          [
           "lv"
          ],
          [
           "de"
          ],
          [
           "nl"
          ]
         ],
         "hovertemplate": "color=svo<br>symbol=indo-european<br>x=%{x}<br>y=%{y}<br>hover_data_0=%{customdata[0]}<extra></extra>",
         "legendgroup": "svo, indo-european",
         "marker": {
          "color": "#00FE35",
          "symbol": "circle"
         },
         "mode": "markers",
         "name": "svo, indo-european",
         "orientation": "v",
         "showlegend": true,
         "type": "scatter",
         "x": [
          -116.03385162353516,
          -242.03729248046875,
          -209.72329711914062,
          202.00901794433594,
          -92.08682250976562,
          -104.610107421875
         ],
         "xaxis": "x",
         "y": [
          -117.3528823852539,
          -13.96666145324707,
          -62.14931869506836,
          -7.023637294769287,
          -23.7248592376709,
          29.64847183227539
         ],
         "yaxis": "y"
        },
        {
         "customdata": [
          [
           "fi"
          ]
         ],
         "hovertemplate": "color=svo<br>symbol=uralic<br>x=%{x}<br>y=%{y}<br>hover_data_0=%{customdata[0]}<extra></extra>",
         "legendgroup": "svo, uralic",
         "marker": {
          "color": "#00FE35",
          "symbol": "diamond"
         },
         "mode": "markers",
         "name": "svo, uralic",
         "orientation": "v",
         "showlegend": true,
         "type": "scatter",
         "x": [
          194.60548400878906
         ],
         "xaxis": "x",
         "y": [
          76.06815338134766
         ],
         "yaxis": "y"
        },
        {
         "customdata": [
          [
           "fa"
          ]
         ],
         "hovertemplate": "color=sov<br>symbol=indo-european<br>x=%{x}<br>y=%{y}<br>hover_data_0=%{customdata[0]}<extra></extra>",
         "legendgroup": "sov, indo-european",
         "marker": {
          "color": "#6A76FC",
          "symbol": "circle"
         },
         "mode": "markers",
         "name": "sov, indo-european",
         "orientation": "v",
         "showlegend": true,
         "type": "scatter",
         "x": [
          181.9220733642578
         ],
         "xaxis": "x",
         "y": [
          -142.3482666015625
         ],
         "yaxis": "y"
        },
        {
         "customdata": [
          [
           "ko"
          ]
         ],
         "hovertemplate": "color=sov<br>symbol=koreanic<br>x=%{x}<br>y=%{y}<br>hover_data_0=%{customdata[0]}<extra></extra>",
         "legendgroup": "sov, koreanic",
         "marker": {
          "color": "#6A76FC",
          "symbol": "square"
         },
         "mode": "markers",
         "name": "sov, koreanic",
         "orientation": "v",
         "showlegend": true,
         "type": "scatter",
         "x": [
          145.46261596679688
         ],
         "xaxis": "x",
         "y": [
          -321.3282165527344
         ],
         "yaxis": "y"
        },
        {
         "customdata": [
          [
           "tr"
          ]
         ],
         "hovertemplate": "color=sov<br>symbol=turkic<br>x=%{x}<br>y=%{y}<br>hover_data_0=%{customdata[0]}<extra></extra>",
         "legendgroup": "sov, turkic",
         "marker": {
          "color": "#6A76FC",
          "symbol": "x"
         },
         "mode": "markers",
         "name": "sov, turkic",
         "orientation": "v",
         "showlegend": true,
         "type": "scatter",
         "x": [
          186.6187744140625
         ],
         "xaxis": "x",
         "y": [
          -284.431396484375
         ],
         "yaxis": "y"
        }
       ],
       "layout": {
        "legend": {
         "title": {
          "text": "color, symbol"
         },
         "tracegroupgap": 0
        },
        "template": {
         "data": {
          "bar": [
           {
            "error_x": {
             "color": "#2a3f5f"
            },
            "error_y": {
             "color": "#2a3f5f"
            },
            "marker": {
             "line": {
              "color": "#E5ECF6",
              "width": 0.5
             },
             "pattern": {
              "fillmode": "overlay",
              "size": 10,
              "solidity": 0.2
             }
            },
            "type": "bar"
           }
          ],
          "barpolar": [
           {
            "marker": {
             "line": {
              "color": "#E5ECF6",
              "width": 0.5
             },
             "pattern": {
              "fillmode": "overlay",
              "size": 10,
              "solidity": 0.2
             }
            },
            "type": "barpolar"
           }
          ],
          "carpet": [
           {
            "aaxis": {
             "endlinecolor": "#2a3f5f",
             "gridcolor": "white",
             "linecolor": "white",
             "minorgridcolor": "white",
             "startlinecolor": "#2a3f5f"
            },
            "baxis": {
             "endlinecolor": "#2a3f5f",
             "gridcolor": "white",
             "linecolor": "white",
             "minorgridcolor": "white",
             "startlinecolor": "#2a3f5f"
            },
            "type": "carpet"
           }
          ],
          "choropleth": [
           {
            "colorbar": {
             "outlinewidth": 0,
             "ticks": ""
            },
            "type": "choropleth"
           }
          ],
          "contour": [
           {
            "colorbar": {
             "outlinewidth": 0,
             "ticks": ""
            },
            "colorscale": [
             [
              0,
              "#0d0887"
             ],
             [
              0.1111111111111111,
              "#46039f"
             ],
             [
              0.2222222222222222,
              "#7201a8"
             ],
             [
              0.3333333333333333,
              "#9c179e"
             ],
             [
              0.4444444444444444,
              "#bd3786"
             ],
             [
              0.5555555555555556,
              "#d8576b"
             ],
             [
              0.6666666666666666,
              "#ed7953"
             ],
             [
              0.7777777777777778,
              "#fb9f3a"
             ],
             [
              0.8888888888888888,
              "#fdca26"
             ],
             [
              1,
              "#f0f921"
             ]
            ],
            "type": "contour"
           }
          ],
          "contourcarpet": [
           {
            "colorbar": {
             "outlinewidth": 0,
             "ticks": ""
            },
            "type": "contourcarpet"
           }
          ],
          "heatmap": [
           {
            "colorbar": {
             "outlinewidth": 0,
             "ticks": ""
            },
            "colorscale": [
             [
              0,
              "#0d0887"
             ],
             [
              0.1111111111111111,
              "#46039f"
             ],
             [
              0.2222222222222222,
              "#7201a8"
             ],
             [
              0.3333333333333333,
              "#9c179e"
             ],
             [
              0.4444444444444444,
              "#bd3786"
             ],
             [
              0.5555555555555556,
              "#d8576b"
             ],
             [
              0.6666666666666666,
              "#ed7953"
             ],
             [
              0.7777777777777778,
              "#fb9f3a"
             ],
             [
              0.8888888888888888,
              "#fdca26"
             ],
             [
              1,
              "#f0f921"
             ]
            ],
            "type": "heatmap"
           }
          ],
          "heatmapgl": [
           {
            "colorbar": {
             "outlinewidth": 0,
             "ticks": ""
            },
            "colorscale": [
             [
              0,
              "#0d0887"
             ],
             [
              0.1111111111111111,
              "#46039f"
             ],
             [
              0.2222222222222222,
              "#7201a8"
             ],
             [
              0.3333333333333333,
              "#9c179e"
             ],
             [
              0.4444444444444444,
              "#bd3786"
             ],
             [
              0.5555555555555556,
              "#d8576b"
             ],
             [
              0.6666666666666666,
              "#ed7953"
             ],
             [
              0.7777777777777778,
              "#fb9f3a"
             ],
             [
              0.8888888888888888,
              "#fdca26"
             ],
             [
              1,
              "#f0f921"
             ]
            ],
            "type": "heatmapgl"
           }
          ],
          "histogram": [
           {
            "marker": {
             "pattern": {
              "fillmode": "overlay",
              "size": 10,
              "solidity": 0.2
             }
            },
            "type": "histogram"
           }
          ],
          "histogram2d": [
           {
            "colorbar": {
             "outlinewidth": 0,
             "ticks": ""
            },
            "colorscale": [
             [
              0,
              "#0d0887"
             ],
             [
              0.1111111111111111,
              "#46039f"
             ],
             [
              0.2222222222222222,
              "#7201a8"
             ],
             [
              0.3333333333333333,
              "#9c179e"
             ],
             [
              0.4444444444444444,
              "#bd3786"
             ],
             [
              0.5555555555555556,
              "#d8576b"
             ],
             [
              0.6666666666666666,
              "#ed7953"
             ],
             [
              0.7777777777777778,
              "#fb9f3a"
             ],
             [
              0.8888888888888888,
              "#fdca26"
             ],
             [
              1,
              "#f0f921"
             ]
            ],
            "type": "histogram2d"
           }
          ],
          "histogram2dcontour": [
           {
            "colorbar": {
             "outlinewidth": 0,
             "ticks": ""
            },
            "colorscale": [
             [
              0,
              "#0d0887"
             ],
             [
              0.1111111111111111,
              "#46039f"
             ],
             [
              0.2222222222222222,
              "#7201a8"
             ],
             [
              0.3333333333333333,
              "#9c179e"
             ],
             [
              0.4444444444444444,
              "#bd3786"
             ],
             [
              0.5555555555555556,
              "#d8576b"
             ],
             [
              0.6666666666666666,
              "#ed7953"
             ],
             [
              0.7777777777777778,
              "#fb9f3a"
             ],
             [
              0.8888888888888888,
              "#fdca26"
             ],
             [
              1,
              "#f0f921"
             ]
            ],
            "type": "histogram2dcontour"
           }
          ],
          "mesh3d": [
           {
            "colorbar": {
             "outlinewidth": 0,
             "ticks": ""
            },
            "type": "mesh3d"
           }
          ],
          "parcoords": [
           {
            "line": {
             "colorbar": {
              "outlinewidth": 0,
              "ticks": ""
             }
            },
            "type": "parcoords"
           }
          ],
          "pie": [
           {
            "automargin": true,
            "type": "pie"
           }
          ],
          "scatter": [
           {
            "fillpattern": {
             "fillmode": "overlay",
             "size": 10,
             "solidity": 0.2
            },
            "type": "scatter"
           }
          ],
          "scatter3d": [
           {
            "line": {
             "colorbar": {
              "outlinewidth": 0,
              "ticks": ""
             }
            },
            "marker": {
             "colorbar": {
              "outlinewidth": 0,
              "ticks": ""
             }
            },
            "type": "scatter3d"
           }
          ],
          "scattercarpet": [
           {
            "marker": {
             "colorbar": {
              "outlinewidth": 0,
              "ticks": ""
             }
            },
            "type": "scattercarpet"
           }
          ],
          "scattergeo": [
           {
            "marker": {
             "colorbar": {
              "outlinewidth": 0,
              "ticks": ""
             }
            },
            "type": "scattergeo"
           }
          ],
          "scattergl": [
           {
            "marker": {
             "colorbar": {
              "outlinewidth": 0,
              "ticks": ""
             }
            },
            "type": "scattergl"
           }
          ],
          "scattermapbox": [
           {
            "marker": {
             "colorbar": {
              "outlinewidth": 0,
              "ticks": ""
             }
            },
            "type": "scattermapbox"
           }
          ],
          "scatterpolar": [
           {
            "marker": {
             "colorbar": {
              "outlinewidth": 0,
              "ticks": ""
             }
            },
            "type": "scatterpolar"
           }
          ],
          "scatterpolargl": [
           {
            "marker": {
             "colorbar": {
              "outlinewidth": 0,
              "ticks": ""
             }
            },
            "type": "scatterpolargl"
           }
          ],
          "scatterternary": [
           {
            "marker": {
             "colorbar": {
              "outlinewidth": 0,
              "ticks": ""
             }
            },
            "type": "scatterternary"
           }
          ],
          "surface": [
           {
            "colorbar": {
             "outlinewidth": 0,
             "ticks": ""
            },
            "colorscale": [
             [
              0,
              "#0d0887"
             ],
             [
              0.1111111111111111,
              "#46039f"
             ],
             [
              0.2222222222222222,
              "#7201a8"
             ],
             [
              0.3333333333333333,
              "#9c179e"
             ],
             [
              0.4444444444444444,
              "#bd3786"
             ],
             [
              0.5555555555555556,
              "#d8576b"
             ],
             [
              0.6666666666666666,
              "#ed7953"
             ],
             [
              0.7777777777777778,
              "#fb9f3a"
             ],
             [
              0.8888888888888888,
              "#fdca26"
             ],
             [
              1,
              "#f0f921"
             ]
            ],
            "type": "surface"
           }
          ],
          "table": [
           {
            "cells": {
             "fill": {
              "color": "#EBF0F8"
             },
             "line": {
              "color": "white"
             }
            },
            "header": {
             "fill": {
              "color": "#C8D4E3"
             },
             "line": {
              "color": "white"
             }
            },
            "type": "table"
           }
          ]
         },
         "layout": {
          "annotationdefaults": {
           "arrowcolor": "#2a3f5f",
           "arrowhead": 0,
           "arrowwidth": 1
          },
          "autotypenumbers": "strict",
          "coloraxis": {
           "colorbar": {
            "outlinewidth": 0,
            "ticks": ""
           }
          },
          "colorscale": {
           "diverging": [
            [
             0,
             "#8e0152"
            ],
            [
             0.1,
             "#c51b7d"
            ],
            [
             0.2,
             "#de77ae"
            ],
            [
             0.3,
             "#f1b6da"
            ],
            [
             0.4,
             "#fde0ef"
            ],
            [
             0.5,
             "#f7f7f7"
            ],
            [
             0.6,
             "#e6f5d0"
            ],
            [
             0.7,
             "#b8e186"
            ],
            [
             0.8,
             "#7fbc41"
            ],
            [
             0.9,
             "#4d9221"
            ],
            [
             1,
             "#276419"
            ]
           ],
           "sequential": [
            [
             0,
             "#0d0887"
            ],
            [
             0.1111111111111111,
             "#46039f"
            ],
            [
             0.2222222222222222,
             "#7201a8"
            ],
            [
             0.3333333333333333,
             "#9c179e"
            ],
            [
             0.4444444444444444,
             "#bd3786"
            ],
            [
             0.5555555555555556,
             "#d8576b"
            ],
            [
             0.6666666666666666,
             "#ed7953"
            ],
            [
             0.7777777777777778,
             "#fb9f3a"
            ],
            [
             0.8888888888888888,
             "#fdca26"
            ],
            [
             1,
             "#f0f921"
            ]
           ],
           "sequentialminus": [
            [
             0,
             "#0d0887"
            ],
            [
             0.1111111111111111,
             "#46039f"
            ],
            [
             0.2222222222222222,
             "#7201a8"
            ],
            [
             0.3333333333333333,
             "#9c179e"
            ],
            [
             0.4444444444444444,
             "#bd3786"
            ],
            [
             0.5555555555555556,
             "#d8576b"
            ],
            [
             0.6666666666666666,
             "#ed7953"
            ],
            [
             0.7777777777777778,
             "#fb9f3a"
            ],
            [
             0.8888888888888888,
             "#fdca26"
            ],
            [
             1,
             "#f0f921"
            ]
           ]
          },
          "colorway": [
           "#636efa",
           "#EF553B",
           "#00cc96",
           "#ab63fa",
           "#FFA15A",
           "#19d3f3",
           "#FF6692",
           "#B6E880",
           "#FF97FF",
           "#FECB52"
          ],
          "font": {
           "color": "#2a3f5f"
          },
          "geo": {
           "bgcolor": "white",
           "lakecolor": "white",
           "landcolor": "#E5ECF6",
           "showlakes": true,
           "showland": true,
           "subunitcolor": "white"
          },
          "hoverlabel": {
           "align": "left"
          },
          "hovermode": "closest",
          "mapbox": {
           "style": "light"
          },
          "paper_bgcolor": "white",
          "plot_bgcolor": "#E5ECF6",
          "polar": {
           "angularaxis": {
            "gridcolor": "white",
            "linecolor": "white",
            "ticks": ""
           },
           "bgcolor": "#E5ECF6",
           "radialaxis": {
            "gridcolor": "white",
            "linecolor": "white",
            "ticks": ""
           }
          },
          "scene": {
           "xaxis": {
            "backgroundcolor": "#E5ECF6",
            "gridcolor": "white",
            "gridwidth": 2,
            "linecolor": "white",
            "showbackground": true,
            "ticks": "",
            "zerolinecolor": "white"
           },
           "yaxis": {
            "backgroundcolor": "#E5ECF6",
            "gridcolor": "white",
            "gridwidth": 2,
            "linecolor": "white",
            "showbackground": true,
            "ticks": "",
            "zerolinecolor": "white"
           },
           "zaxis": {
            "backgroundcolor": "#E5ECF6",
            "gridcolor": "white",
            "gridwidth": 2,
            "linecolor": "white",
            "showbackground": true,
            "ticks": "",
            "zerolinecolor": "white"
           }
          },
          "shapedefaults": {
           "line": {
            "color": "#2a3f5f"
           }
          },
          "ternary": {
           "aaxis": {
            "gridcolor": "white",
            "linecolor": "white",
            "ticks": ""
           },
           "baxis": {
            "gridcolor": "white",
            "linecolor": "white",
            "ticks": ""
           },
           "bgcolor": "#E5ECF6",
           "caxis": {
            "gridcolor": "white",
            "linecolor": "white",
            "ticks": ""
           }
          },
          "title": {
           "x": 0.05
          },
          "xaxis": {
           "automargin": true,
           "gridcolor": "white",
           "linecolor": "white",
           "ticks": "",
           "title": {
            "standoff": 15
           },
           "zerolinecolor": "white",
           "zerolinewidth": 2
          },
          "yaxis": {
           "automargin": true,
           "gridcolor": "white",
           "linecolor": "white",
           "ticks": "",
           "title": {
            "standoff": 15
           },
           "zerolinecolor": "white",
           "zerolinewidth": 2
          }
         }
        },
        "title": {
         "text": "_the_ plot"
        },
        "xaxis": {
         "anchor": "y",
         "domain": [
          0,
          1
         ],
         "title": {
          "text": "x"
         }
        },
        "yaxis": {
         "anchor": "x",
         "domain": [
          0,
          1
         ],
         "title": {
          "text": "y"
         }
        }
       }
      }
     },
     "metadata": {},
     "output_type": "display_data"
    }
   ],
   "source": [
    "for p in range(6, 7):    \n",
    "    X_embedded = TSNE(perplexity=p, metric='precomputed', random_state=42).fit_transform(X_dist)\n",
    "    fig = px.scatter(x=X_embedded[:,0], y=X_embedded[:,1], color=[lang_types_dict[l] for l in langs_train], symbol=[families_dict[l] for l in langs_train], title=\"_the_ plot\", color_discrete_sequence=px.colors.qualitative.Light24, hover_data=[langs_train])\n",
    "    fig.show()"
   ]
  },
  {
   "cell_type": "code",
   "execution_count": null,
   "metadata": {},
   "outputs": [],
   "source": []
  }
 ],
 "metadata": {
  "kernelspec": {
   "display_name": "env",
   "language": "python",
   "name": "python3"
  },
  "language_info": {
   "codemirror_mode": {
    "name": "ipython",
    "version": 3
   },
   "file_extension": ".py",
   "mimetype": "text/x-python",
   "name": "python",
   "nbconvert_exporter": "python",
   "pygments_lexer": "ipython3",
   "version": "3.8.10"
  }
 },
 "nbformat": 4,
 "nbformat_minor": 2
}
