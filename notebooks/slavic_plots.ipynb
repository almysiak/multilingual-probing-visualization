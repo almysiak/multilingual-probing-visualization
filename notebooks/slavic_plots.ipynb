{
 "cells": [
  {
   "cell_type": "code",
   "execution_count": 7,
   "metadata": {},
   "outputs": [],
   "source": [
    "import pandas as pd\n",
    "import yaml\n",
    "import os\n",
    "import plotly.express as px\n",
    "import plotly\n",
    "from plotly import graph_objects as go"
   ]
  },
  {
   "cell_type": "code",
   "execution_count": 8,
   "metadata": {},
   "outputs": [],
   "source": [
    "max_dict = {\n",
    "    'ar': 6074,\n",
    "    'pl': 17721,\n",
    "    'bg': 8906,\n",
    "    'be': 22852,\n",
    "    'fr': 14448,\n",
    "    'en': 12542,\n",
    "    'lv': 12520,\n",
    "    'fa': 4797,\n",
    "    'lt': 2340,\n",
    "    'cs': 68494,\n",
    "    'es': 14286, \n",
    "    'zh': 3996,\n",
    "    'slk': 8482,\n",
    "    'slv': 10902,\n",
    "    'uk': 5495,\n",
    "    'ru': 69629,\n",
    "    'de': 13813,\n",
    "    'fi': 12216,\n",
    "    'id': 4481,\n",
    "    'hr': 6913,\n",
    "}"
   ]
  },
  {
   "cell_type": "code",
   "execution_count": 9,
   "metadata": {},
   "outputs": [],
   "source": [
    "full_name = {\n",
    "    \"pl\": \"Polish\",\n",
    "    \"ru\": \"Russian\",\n",
    "    \"uk\": \"Ukrainian\",\n",
    "    \"slv\": \"Slovene\",\n",
    "    \"cs\": \"Czech\",\n",
    "    \"be\": \"Belarussian\",\n",
    "    \"de\": \"German\",\n",
    "    \"slk\": \"Slovak\",\n",
    "    \"fr\": \"French\",\n",
    "    \"ar\": \"Arabic\",\n",
    "    \"id\": \"Indonesian\",\n",
    "    \"en\": \"English\",\n",
    "    \"fi\": \"Finnish\",\n",
    "    \"zh\": \"Chinese\",\n",
    "    \"lv\": \"Latvian\",\n",
    "    \"es\": \"Spanish\"\n",
    "}"
   ]
  },
  {
   "cell_type": "code",
   "execution_count": 10,
   "metadata": {},
   "outputs": [],
   "source": [
    "slavic_langs = (\"pl\", \"be\", \"cs\", \"slk\", \"slv\", \"uk\", \"ru\")"
   ]
  },
  {
   "cell_type": "code",
   "execution_count": 11,
   "metadata": {},
   "outputs": [],
   "source": [
    "RESULTS_CSV = '../probingOutputs/all_slavic/all_results.csv'"
   ]
  },
  {
   "cell_type": "code",
   "execution_count": 12,
   "metadata": {},
   "outputs": [
    {
     "name": "stdout",
     "output_type": "stream",
     "text": [
      "Index(['train', 'test', 'model', 'layer', 'rank', 'limit', 'seed', 'directory',\n",
      "       'dspear', 'uuas'],\n",
      "      dtype='object')\n",
      "train         object\n",
      "test          object\n",
      "model         object\n",
      "layer          int64\n",
      "rank           int64\n",
      "limit        float64\n",
      "seed           int64\n",
      "directory     object\n",
      "dspear       float64\n",
      "uuas         float64\n",
      "dtype: object\n"
     ]
    }
   ],
   "source": [
    "df = pd.read_csv(RESULTS_CSV)\n",
    "print(df.columns)\n",
    "print(df.dtypes)"
   ]
  },
  {
   "cell_type": "code",
   "execution_count": 13,
   "metadata": {},
   "outputs": [
    {
     "data": {
      "text/html": [
       "<div>\n",
       "<style scoped>\n",
       "    .dataframe tbody tr th:only-of-type {\n",
       "        vertical-align: middle;\n",
       "    }\n",
       "\n",
       "    .dataframe tbody tr th {\n",
       "        vertical-align: top;\n",
       "    }\n",
       "\n",
       "    .dataframe thead th {\n",
       "        text-align: right;\n",
       "    }\n",
       "</style>\n",
       "<table border=\"1\" class=\"dataframe\">\n",
       "  <thead>\n",
       "    <tr style=\"text-align: right;\">\n",
       "      <th></th>\n",
       "      <th>train</th>\n",
       "      <th>test</th>\n",
       "      <th>model</th>\n",
       "      <th>layer</th>\n",
       "      <th>rank</th>\n",
       "      <th>limit</th>\n",
       "      <th>seed</th>\n",
       "      <th>directory</th>\n",
       "      <th>dspear</th>\n",
       "      <th>uuas</th>\n",
       "      <th>slavic</th>\n",
       "    </tr>\n",
       "  </thead>\n",
       "  <tbody>\n",
       "    <tr>\n",
       "      <th>0</th>\n",
       "      <td>be</td>\n",
       "      <td>be</td>\n",
       "      <td>mBERT</td>\n",
       "      <td>6</td>\n",
       "      <td>128</td>\n",
       "      <td>100.0</td>\n",
       "      <td>0</td>\n",
       "      <td>/home/amysiak/thesis/multilingual-probing-visu...</td>\n",
       "      <td>0.416957</td>\n",
       "      <td>0.397976</td>\n",
       "      <td>True</td>\n",
       "    </tr>\n",
       "    <tr>\n",
       "      <th>1</th>\n",
       "      <td>be</td>\n",
       "      <td>be</td>\n",
       "      <td>mBERT</td>\n",
       "      <td>6</td>\n",
       "      <td>128</td>\n",
       "      <td>1000.0</td>\n",
       "      <td>0</td>\n",
       "      <td>/home/amysiak/thesis/multilingual-probing-visu...</td>\n",
       "      <td>0.711804</td>\n",
       "      <td>0.634634</td>\n",
       "      <td>True</td>\n",
       "    </tr>\n",
       "    <tr>\n",
       "      <th>2</th>\n",
       "      <td>be</td>\n",
       "      <td>be</td>\n",
       "      <td>mBERT</td>\n",
       "      <td>6</td>\n",
       "      <td>128</td>\n",
       "      <td>10000.0</td>\n",
       "      <td>0</td>\n",
       "      <td>/home/amysiak/thesis/multilingual-probing-visu...</td>\n",
       "      <td>0.779117</td>\n",
       "      <td>0.787562</td>\n",
       "      <td>True</td>\n",
       "    </tr>\n",
       "    <tr>\n",
       "      <th>3</th>\n",
       "      <td>be</td>\n",
       "      <td>be</td>\n",
       "      <td>mBERT</td>\n",
       "      <td>6</td>\n",
       "      <td>128</td>\n",
       "      <td>2500.0</td>\n",
       "      <td>0</td>\n",
       "      <td>/home/amysiak/thesis/multilingual-probing-visu...</td>\n",
       "      <td>0.756653</td>\n",
       "      <td>0.720526</td>\n",
       "      <td>True</td>\n",
       "    </tr>\n",
       "    <tr>\n",
       "      <th>4</th>\n",
       "      <td>be</td>\n",
       "      <td>be</td>\n",
       "      <td>mBERT</td>\n",
       "      <td>6</td>\n",
       "      <td>128</td>\n",
       "      <td>5000.0</td>\n",
       "      <td>0</td>\n",
       "      <td>/home/amysiak/thesis/multilingual-probing-visu...</td>\n",
       "      <td>0.770321</td>\n",
       "      <td>0.756249</td>\n",
       "      <td>True</td>\n",
       "    </tr>\n",
       "  </tbody>\n",
       "</table>\n",
       "</div>"
      ],
      "text/plain": [
       "  train test  model  layer  rank    limit  seed  \\\n",
       "0    be   be  mBERT      6   128    100.0     0   \n",
       "1    be   be  mBERT      6   128   1000.0     0   \n",
       "2    be   be  mBERT      6   128  10000.0     0   \n",
       "3    be   be  mBERT      6   128   2500.0     0   \n",
       "4    be   be  mBERT      6   128   5000.0     0   \n",
       "\n",
       "                                           directory    dspear      uuas  \\\n",
       "0  /home/amysiak/thesis/multilingual-probing-visu...  0.416957  0.397976   \n",
       "1  /home/amysiak/thesis/multilingual-probing-visu...  0.711804  0.634634   \n",
       "2  /home/amysiak/thesis/multilingual-probing-visu...  0.779117  0.787562   \n",
       "3  /home/amysiak/thesis/multilingual-probing-visu...  0.756653  0.720526   \n",
       "4  /home/amysiak/thesis/multilingual-probing-visu...  0.770321  0.756249   \n",
       "\n",
       "   slavic  \n",
       "0    True  \n",
       "1    True  \n",
       "2    True  \n",
       "3    True  \n",
       "4    True  "
      ]
     },
     "execution_count": 13,
     "metadata": {},
     "output_type": "execute_result"
    }
   ],
   "source": [
    "df['train'] = df.train.apply(lambda x: x[1:-1].replace(\"'\", \"\").split(',')[0])\n",
    "df['test'] = df.test.apply(lambda x: x[1:-1].replace(\"'\", \"\").split(',')[0])\n",
    "df[\"slavic\"] = df.train.isin(slavic_langs)\n",
    "df['limit'] = df.apply(lambda x: x.limit if not pd.isna(x.limit) else max_dict[x.train], axis=1)\n",
    "df.head()"
   ]
  },
  {
   "cell_type": "code",
   "execution_count": 14,
   "metadata": {},
   "outputs": [],
   "source": [
    "avg_df = df.groupby(['train', 'test', 'model', 'layer', 'rank', 'limit']).mean().reset_index().drop(columns=[\"seed\"])\n",
    "avg_df[\"slavic\"] = avg_df.slavic.astype(bool)"
   ]
  },
  {
   "cell_type": "code",
   "execution_count": 15,
   "metadata": {},
   "outputs": [
    {
     "data": {
      "text/html": [
       "<div>\n",
       "<style scoped>\n",
       "    .dataframe tbody tr th:only-of-type {\n",
       "        vertical-align: middle;\n",
       "    }\n",
       "\n",
       "    .dataframe tbody tr th {\n",
       "        vertical-align: top;\n",
       "    }\n",
       "\n",
       "    .dataframe thead th {\n",
       "        text-align: right;\n",
       "    }\n",
       "</style>\n",
       "<table border=\"1\" class=\"dataframe\">\n",
       "  <thead>\n",
       "    <tr style=\"text-align: right;\">\n",
       "      <th></th>\n",
       "      <th>train</th>\n",
       "      <th>test</th>\n",
       "      <th>model</th>\n",
       "      <th>layer</th>\n",
       "      <th>rank</th>\n",
       "      <th>limit</th>\n",
       "      <th>dspear</th>\n",
       "      <th>uuas</th>\n",
       "      <th>slavic</th>\n",
       "    </tr>\n",
       "  </thead>\n",
       "  <tbody>\n",
       "    <tr>\n",
       "      <th>0</th>\n",
       "      <td>be</td>\n",
       "      <td>be</td>\n",
       "      <td>mBERT</td>\n",
       "      <td>6</td>\n",
       "      <td>128</td>\n",
       "      <td>100.0</td>\n",
       "      <td>0.424506</td>\n",
       "      <td>0.400528</td>\n",
       "      <td>True</td>\n",
       "    </tr>\n",
       "    <tr>\n",
       "      <th>1</th>\n",
       "      <td>be</td>\n",
       "      <td>be</td>\n",
       "      <td>mBERT</td>\n",
       "      <td>6</td>\n",
       "      <td>128</td>\n",
       "      <td>1000.0</td>\n",
       "      <td>0.714579</td>\n",
       "      <td>0.638396</td>\n",
       "      <td>True</td>\n",
       "    </tr>\n",
       "    <tr>\n",
       "      <th>2</th>\n",
       "      <td>be</td>\n",
       "      <td>be</td>\n",
       "      <td>mBERT</td>\n",
       "      <td>6</td>\n",
       "      <td>128</td>\n",
       "      <td>2500.0</td>\n",
       "      <td>0.752713</td>\n",
       "      <td>0.709843</td>\n",
       "      <td>True</td>\n",
       "    </tr>\n",
       "    <tr>\n",
       "      <th>3</th>\n",
       "      <td>be</td>\n",
       "      <td>be</td>\n",
       "      <td>mBERT</td>\n",
       "      <td>6</td>\n",
       "      <td>128</td>\n",
       "      <td>5000.0</td>\n",
       "      <td>0.770202</td>\n",
       "      <td>0.757244</td>\n",
       "      <td>True</td>\n",
       "    </tr>\n",
       "    <tr>\n",
       "      <th>4</th>\n",
       "      <td>be</td>\n",
       "      <td>be</td>\n",
       "      <td>mBERT</td>\n",
       "      <td>6</td>\n",
       "      <td>128</td>\n",
       "      <td>7500.0</td>\n",
       "      <td>0.775498</td>\n",
       "      <td>0.779258</td>\n",
       "      <td>True</td>\n",
       "    </tr>\n",
       "  </tbody>\n",
       "</table>\n",
       "</div>"
      ],
      "text/plain": [
       "  train test  model  layer  rank   limit    dspear      uuas  slavic\n",
       "0    be   be  mBERT      6   128   100.0  0.424506  0.400528    True\n",
       "1    be   be  mBERT      6   128  1000.0  0.714579  0.638396    True\n",
       "2    be   be  mBERT      6   128  2500.0  0.752713  0.709843    True\n",
       "3    be   be  mBERT      6   128  5000.0  0.770202  0.757244    True\n",
       "4    be   be  mBERT      6   128  7500.0  0.775498  0.779258    True"
      ]
     },
     "execution_count": 15,
     "metadata": {},
     "output_type": "execute_result"
    }
   ],
   "source": [
    "avg_df.head()"
   ]
  },
  {
   "cell_type": "code",
   "execution_count": 16,
   "metadata": {},
   "outputs": [
    {
     "data": {
      "application/vnd.plotly.v1+json": {
       "config": {
        "plotlyServerURL": "https://plot.ly"
       },
       "data": [
        {
         "customdata": [
          [
           "be"
          ],
          [
           "be"
          ],
          [
           "be"
          ],
          [
           "be"
          ],
          [
           "be"
          ],
          [
           "be"
          ],
          [
           "cs"
          ],
          [
           "cs"
          ],
          [
           "cs"
          ],
          [
           "cs"
          ],
          [
           "cs"
          ],
          [
           "cs"
          ],
          [
           "pl"
          ],
          [
           "pl"
          ],
          [
           "pl"
          ],
          [
           "pl"
          ],
          [
           "pl"
          ],
          [
           "pl"
          ],
          [
           "ru"
          ],
          [
           "ru"
          ],
          [
           "ru"
          ],
          [
           "ru"
          ],
          [
           "ru"
          ],
          [
           "ru"
          ],
          [
           "slk"
          ],
          [
           "slk"
          ],
          [
           "slk"
          ],
          [
           "slk"
          ],
          [
           "slk"
          ],
          [
           "slk"
          ],
          [
           "slv"
          ],
          [
           "slv"
          ],
          [
           "slv"
          ],
          [
           "slv"
          ],
          [
           "slv"
          ],
          [
           "slv"
          ],
          [
           "uk"
          ],
          [
           "uk"
          ],
          [
           "uk"
          ],
          [
           "uk"
          ],
          [
           "uk"
          ]
         ],
         "hovertemplate": "Is Slavic=True<br># train sentences=%{x}<br>UUAS=%{y}<br>train=%{customdata[0]}<extra></extra>",
         "legendgroup": "True",
         "marker": {
          "color": "#636efa",
          "symbol": "circle"
         },
         "mode": "markers",
         "name": "True",
         "orientation": "v",
         "showlegend": true,
         "type": "scatter",
         "x": [
          100,
          1000,
          2500,
          5000,
          7500,
          10000,
          100,
          1000,
          2500,
          5000,
          7500,
          10000,
          100,
          1000,
          2500,
          5000,
          7500,
          10000,
          100,
          1000,
          2500,
          5000,
          7500,
          10000,
          100,
          1000,
          2500,
          5000,
          7500,
          8482,
          100,
          1000,
          2500,
          5000,
          7500,
          10000,
          100,
          1000,
          2500,
          5000,
          5495
         ],
         "xaxis": "x",
         "y": [
          0.4005276360176455,
          0.6383963324971889,
          0.7098434391488626,
          0.7572441830291498,
          0.7792578496669837,
          0.7869561456621399,
          0.41229132427990656,
          0.6208805466655134,
          0.7030533690857192,
          0.7227315976126634,
          0.7386904247037454,
          0.7485944122480754,
          0.39797595363722854,
          0.549476688867745,
          0.6740766369691202,
          0.7241588097915406,
          0.7538275235706253,
          0.7603148516564311,
          0.37630827783063747,
          0.6128795086930197,
          0.7104056742496324,
          0.7418475910388375,
          0.7638180088227662,
          0.768791627021884,
          0.39360781939278605,
          0.6302222991090736,
          0.6855808321079492,
          0.713389845169103,
          0.715249545887034,
          0.7215206297033129,
          0.40948014877605743,
          0.6346336822074214,
          0.6883487587578929,
          0.7183634633682208,
          0.7399013926130957,
          0.7525733068073696,
          0.40351180693711614,
          0.639001816451864,
          0.711400397889456,
          0.7554277311651241,
          0.7543032609635845
         ],
         "yaxis": "y"
        },
        {
         "customdata": [
          [
           "de"
          ],
          [
           "de"
          ],
          [
           "de"
          ],
          [
           "de"
          ],
          [
           "de"
          ],
          [
           "de"
          ],
          [
           "en"
          ],
          [
           "en"
          ],
          [
           "en"
          ],
          [
           "en"
          ],
          [
           "en"
          ],
          [
           "en"
          ],
          [
           "es"
          ],
          [
           "es"
          ],
          [
           "es"
          ],
          [
           "es"
          ],
          [
           "es"
          ],
          [
           "es"
          ],
          [
           "fi"
          ],
          [
           "fi"
          ],
          [
           "fi"
          ],
          [
           "fi"
          ],
          [
           "fi"
          ],
          [
           "fi"
          ],
          [
           "fr"
          ],
          [
           "fr"
          ],
          [
           "fr"
          ],
          [
           "fr"
          ],
          [
           "fr"
          ],
          [
           "fr"
          ],
          [
           "id"
          ],
          [
           "id"
          ],
          [
           "id"
          ],
          [
           "id"
          ],
          [
           "lt"
          ],
          [
           "lt"
          ],
          [
           "lt"
          ],
          [
           "lt"
          ],
          [
           "lv"
          ],
          [
           "lv"
          ],
          [
           "lv"
          ],
          [
           "lv"
          ],
          [
           "lv"
          ],
          [
           "lv"
          ],
          [
           "zh"
          ],
          [
           "zh"
          ],
          [
           "zh"
          ],
          [
           "zh"
          ]
         ],
         "hovertemplate": "Is Slavic=False<br># train sentences=%{x}<br>UUAS=%{y}<br>train=%{customdata[0]}<extra></extra>",
         "legendgroup": "False",
         "marker": {
          "color": "#EF553B",
          "symbol": "circle"
         },
         "mode": "markers",
         "name": "False",
         "orientation": "v",
         "showlegend": true,
         "type": "scatter",
         "x": [
          100,
          1000,
          2500,
          5000,
          7500,
          10000,
          100,
          1000,
          2500,
          5000,
          7500,
          10000,
          100,
          1000,
          2500,
          5000,
          7500,
          10000,
          100,
          1000,
          2500,
          5000,
          7500,
          10000,
          100,
          1000,
          2500,
          5000,
          7500,
          10000,
          100,
          1000,
          2500,
          4481,
          100,
          1000,
          2340,
          2500,
          100,
          1000,
          2500,
          5000,
          7500,
          10000,
          100,
          1000,
          2500,
          3996
         ],
         "xaxis": "x",
         "y": [
          0.3955540178185278,
          0.5981748983651933,
          0.6835048871204913,
          0.7155090390104663,
          0.7290891791367529,
          0.7312948706859268,
          0.39667848802006744,
          0.6146094628492345,
          0.6558688694749589,
          0.6710492171957443,
          0.6987717325490874,
          0.703961595017732,
          0.43516996799584806,
          0.6028457745869734,
          0.652625205432056,
          0.6739036415534989,
          0.6851915924228008,
          0.6976040134936424,
          0.3739728397197474,
          0.5464060202404637,
          0.5989101288815846,
          0.6418129919557132,
          0.6729521667675806,
          0.6796124902690079,
          0.42232505838595275,
          0.6257676671568204,
          0.6710059683418389,
          0.6884352564657037,
          0.7060807888590952,
          0.7096271948793358,
          0.40887466482138224,
          0.5929417870426434,
          0.6319955021191939,
          0.6457918865150074,
          0.40065738257936157,
          0.5659112533517863,
          0.6291410777614392,
          0.6266758930888332,
          0.390926390450653,
          0.5516391315630136,
          0.6314765158723294,
          0.6667675806591126,
          0.6869215465790157,
          0.7074647521840671,
          0.39987890320906494,
          0.5369777700890926,
          0.583470288037367,
          0.6028457745869735
         ],
         "yaxis": "y"
        }
       ],
       "layout": {
        "autosize": false,
        "font": {
         "size": 20
        },
        "height": 600,
        "legend": {
         "title": {
          "text": "Is Slavic"
         },
         "tracegroupgap": 0
        },
        "template": {
         "data": {
          "bar": [
           {
            "error_x": {
             "color": "#2a3f5f"
            },
            "error_y": {
             "color": "#2a3f5f"
            },
            "marker": {
             "line": {
              "color": "#E5ECF6",
              "width": 0.5
             },
             "pattern": {
              "fillmode": "overlay",
              "size": 10,
              "solidity": 0.2
             }
            },
            "type": "bar"
           }
          ],
          "barpolar": [
           {
            "marker": {
             "line": {
              "color": "#E5ECF6",
              "width": 0.5
             },
             "pattern": {
              "fillmode": "overlay",
              "size": 10,
              "solidity": 0.2
             }
            },
            "type": "barpolar"
           }
          ],
          "carpet": [
           {
            "aaxis": {
             "endlinecolor": "#2a3f5f",
             "gridcolor": "white",
             "linecolor": "white",
             "minorgridcolor": "white",
             "startlinecolor": "#2a3f5f"
            },
            "baxis": {
             "endlinecolor": "#2a3f5f",
             "gridcolor": "white",
             "linecolor": "white",
             "minorgridcolor": "white",
             "startlinecolor": "#2a3f5f"
            },
            "type": "carpet"
           }
          ],
          "choropleth": [
           {
            "colorbar": {
             "outlinewidth": 0,
             "ticks": ""
            },
            "type": "choropleth"
           }
          ],
          "contour": [
           {
            "colorbar": {
             "outlinewidth": 0,
             "ticks": ""
            },
            "colorscale": [
             [
              0,
              "#0d0887"
             ],
             [
              0.1111111111111111,
              "#46039f"
             ],
             [
              0.2222222222222222,
              "#7201a8"
             ],
             [
              0.3333333333333333,
              "#9c179e"
             ],
             [
              0.4444444444444444,
              "#bd3786"
             ],
             [
              0.5555555555555556,
              "#d8576b"
             ],
             [
              0.6666666666666666,
              "#ed7953"
             ],
             [
              0.7777777777777778,
              "#fb9f3a"
             ],
             [
              0.8888888888888888,
              "#fdca26"
             ],
             [
              1,
              "#f0f921"
             ]
            ],
            "type": "contour"
           }
          ],
          "contourcarpet": [
           {
            "colorbar": {
             "outlinewidth": 0,
             "ticks": ""
            },
            "type": "contourcarpet"
           }
          ],
          "heatmap": [
           {
            "colorbar": {
             "outlinewidth": 0,
             "ticks": ""
            },
            "colorscale": [
             [
              0,
              "#0d0887"
             ],
             [
              0.1111111111111111,
              "#46039f"
             ],
             [
              0.2222222222222222,
              "#7201a8"
             ],
             [
              0.3333333333333333,
              "#9c179e"
             ],
             [
              0.4444444444444444,
              "#bd3786"
             ],
             [
              0.5555555555555556,
              "#d8576b"
             ],
             [
              0.6666666666666666,
              "#ed7953"
             ],
             [
              0.7777777777777778,
              "#fb9f3a"
             ],
             [
              0.8888888888888888,
              "#fdca26"
             ],
             [
              1,
              "#f0f921"
             ]
            ],
            "type": "heatmap"
           }
          ],
          "heatmapgl": [
           {
            "colorbar": {
             "outlinewidth": 0,
             "ticks": ""
            },
            "colorscale": [
             [
              0,
              "#0d0887"
             ],
             [
              0.1111111111111111,
              "#46039f"
             ],
             [
              0.2222222222222222,
              "#7201a8"
             ],
             [
              0.3333333333333333,
              "#9c179e"
             ],
             [
              0.4444444444444444,
              "#bd3786"
             ],
             [
              0.5555555555555556,
              "#d8576b"
             ],
             [
              0.6666666666666666,
              "#ed7953"
             ],
             [
              0.7777777777777778,
              "#fb9f3a"
             ],
             [
              0.8888888888888888,
              "#fdca26"
             ],
             [
              1,
              "#f0f921"
             ]
            ],
            "type": "heatmapgl"
           }
          ],
          "histogram": [
           {
            "marker": {
             "pattern": {
              "fillmode": "overlay",
              "size": 10,
              "solidity": 0.2
             }
            },
            "type": "histogram"
           }
          ],
          "histogram2d": [
           {
            "colorbar": {
             "outlinewidth": 0,
             "ticks": ""
            },
            "colorscale": [
             [
              0,
              "#0d0887"
             ],
             [
              0.1111111111111111,
              "#46039f"
             ],
             [
              0.2222222222222222,
              "#7201a8"
             ],
             [
              0.3333333333333333,
              "#9c179e"
             ],
             [
              0.4444444444444444,
              "#bd3786"
             ],
             [
              0.5555555555555556,
              "#d8576b"
             ],
             [
              0.6666666666666666,
              "#ed7953"
             ],
             [
              0.7777777777777778,
              "#fb9f3a"
             ],
             [
              0.8888888888888888,
              "#fdca26"
             ],
             [
              1,
              "#f0f921"
             ]
            ],
            "type": "histogram2d"
           }
          ],
          "histogram2dcontour": [
           {
            "colorbar": {
             "outlinewidth": 0,
             "ticks": ""
            },
            "colorscale": [
             [
              0,
              "#0d0887"
             ],
             [
              0.1111111111111111,
              "#46039f"
             ],
             [
              0.2222222222222222,
              "#7201a8"
             ],
             [
              0.3333333333333333,
              "#9c179e"
             ],
             [
              0.4444444444444444,
              "#bd3786"
             ],
             [
              0.5555555555555556,
              "#d8576b"
             ],
             [
              0.6666666666666666,
              "#ed7953"
             ],
             [
              0.7777777777777778,
              "#fb9f3a"
             ],
             [
              0.8888888888888888,
              "#fdca26"
             ],
             [
              1,
              "#f0f921"
             ]
            ],
            "type": "histogram2dcontour"
           }
          ],
          "mesh3d": [
           {
            "colorbar": {
             "outlinewidth": 0,
             "ticks": ""
            },
            "type": "mesh3d"
           }
          ],
          "parcoords": [
           {
            "line": {
             "colorbar": {
              "outlinewidth": 0,
              "ticks": ""
             }
            },
            "type": "parcoords"
           }
          ],
          "pie": [
           {
            "automargin": true,
            "type": "pie"
           }
          ],
          "scatter": [
           {
            "fillpattern": {
             "fillmode": "overlay",
             "size": 10,
             "solidity": 0.2
            },
            "type": "scatter"
           }
          ],
          "scatter3d": [
           {
            "line": {
             "colorbar": {
              "outlinewidth": 0,
              "ticks": ""
             }
            },
            "marker": {
             "colorbar": {
              "outlinewidth": 0,
              "ticks": ""
             }
            },
            "type": "scatter3d"
           }
          ],
          "scattercarpet": [
           {
            "marker": {
             "colorbar": {
              "outlinewidth": 0,
              "ticks": ""
             }
            },
            "type": "scattercarpet"
           }
          ],
          "scattergeo": [
           {
            "marker": {
             "colorbar": {
              "outlinewidth": 0,
              "ticks": ""
             }
            },
            "type": "scattergeo"
           }
          ],
          "scattergl": [
           {
            "marker": {
             "colorbar": {
              "outlinewidth": 0,
              "ticks": ""
             }
            },
            "type": "scattergl"
           }
          ],
          "scattermapbox": [
           {
            "marker": {
             "colorbar": {
              "outlinewidth": 0,
              "ticks": ""
             }
            },
            "type": "scattermapbox"
           }
          ],
          "scatterpolar": [
           {
            "marker": {
             "colorbar": {
              "outlinewidth": 0,
              "ticks": ""
             }
            },
            "type": "scatterpolar"
           }
          ],
          "scatterpolargl": [
           {
            "marker": {
             "colorbar": {
              "outlinewidth": 0,
              "ticks": ""
             }
            },
            "type": "scatterpolargl"
           }
          ],
          "scatterternary": [
           {
            "marker": {
             "colorbar": {
              "outlinewidth": 0,
              "ticks": ""
             }
            },
            "type": "scatterternary"
           }
          ],
          "surface": [
           {
            "colorbar": {
             "outlinewidth": 0,
             "ticks": ""
            },
            "colorscale": [
             [
              0,
              "#0d0887"
             ],
             [
              0.1111111111111111,
              "#46039f"
             ],
             [
              0.2222222222222222,
              "#7201a8"
             ],
             [
              0.3333333333333333,
              "#9c179e"
             ],
             [
              0.4444444444444444,
              "#bd3786"
             ],
             [
              0.5555555555555556,
              "#d8576b"
             ],
             [
              0.6666666666666666,
              "#ed7953"
             ],
             [
              0.7777777777777778,
              "#fb9f3a"
             ],
             [
              0.8888888888888888,
              "#fdca26"
             ],
             [
              1,
              "#f0f921"
             ]
            ],
            "type": "surface"
           }
          ],
          "table": [
           {
            "cells": {
             "fill": {
              "color": "#EBF0F8"
             },
             "line": {
              "color": "white"
             }
            },
            "header": {
             "fill": {
              "color": "#C8D4E3"
             },
             "line": {
              "color": "white"
             }
            },
            "type": "table"
           }
          ]
         },
         "layout": {
          "annotationdefaults": {
           "arrowcolor": "#2a3f5f",
           "arrowhead": 0,
           "arrowwidth": 1
          },
          "autotypenumbers": "strict",
          "coloraxis": {
           "colorbar": {
            "outlinewidth": 0,
            "ticks": ""
           }
          },
          "colorscale": {
           "diverging": [
            [
             0,
             "#8e0152"
            ],
            [
             0.1,
             "#c51b7d"
            ],
            [
             0.2,
             "#de77ae"
            ],
            [
             0.3,
             "#f1b6da"
            ],
            [
             0.4,
             "#fde0ef"
            ],
            [
             0.5,
             "#f7f7f7"
            ],
            [
             0.6,
             "#e6f5d0"
            ],
            [
             0.7,
             "#b8e186"
            ],
            [
             0.8,
             "#7fbc41"
            ],
            [
             0.9,
             "#4d9221"
            ],
            [
             1,
             "#276419"
            ]
           ],
           "sequential": [
            [
             0,
             "#0d0887"
            ],
            [
             0.1111111111111111,
             "#46039f"
            ],
            [
             0.2222222222222222,
             "#7201a8"
            ],
            [
             0.3333333333333333,
             "#9c179e"
            ],
            [
             0.4444444444444444,
             "#bd3786"
            ],
            [
             0.5555555555555556,
             "#d8576b"
            ],
            [
             0.6666666666666666,
             "#ed7953"
            ],
            [
             0.7777777777777778,
             "#fb9f3a"
            ],
            [
             0.8888888888888888,
             "#fdca26"
            ],
            [
             1,
             "#f0f921"
            ]
           ],
           "sequentialminus": [
            [
             0,
             "#0d0887"
            ],
            [
             0.1111111111111111,
             "#46039f"
            ],
            [
             0.2222222222222222,
             "#7201a8"
            ],
            [
             0.3333333333333333,
             "#9c179e"
            ],
            [
             0.4444444444444444,
             "#bd3786"
            ],
            [
             0.5555555555555556,
             "#d8576b"
            ],
            [
             0.6666666666666666,
             "#ed7953"
            ],
            [
             0.7777777777777778,
             "#fb9f3a"
            ],
            [
             0.8888888888888888,
             "#fdca26"
            ],
            [
             1,
             "#f0f921"
            ]
           ]
          },
          "colorway": [
           "#636efa",
           "#EF553B",
           "#00cc96",
           "#ab63fa",
           "#FFA15A",
           "#19d3f3",
           "#FF6692",
           "#B6E880",
           "#FF97FF",
           "#FECB52"
          ],
          "font": {
           "color": "#2a3f5f"
          },
          "geo": {
           "bgcolor": "white",
           "lakecolor": "white",
           "landcolor": "#E5ECF6",
           "showlakes": true,
           "showland": true,
           "subunitcolor": "white"
          },
          "hoverlabel": {
           "align": "left"
          },
          "hovermode": "closest",
          "mapbox": {
           "style": "light"
          },
          "paper_bgcolor": "white",
          "plot_bgcolor": "#E5ECF6",
          "polar": {
           "angularaxis": {
            "gridcolor": "white",
            "linecolor": "white",
            "ticks": ""
           },
           "bgcolor": "#E5ECF6",
           "radialaxis": {
            "gridcolor": "white",
            "linecolor": "white",
            "ticks": ""
           }
          },
          "scene": {
           "xaxis": {
            "backgroundcolor": "#E5ECF6",
            "gridcolor": "white",
            "gridwidth": 2,
            "linecolor": "white",
            "showbackground": true,
            "ticks": "",
            "zerolinecolor": "white"
           },
           "yaxis": {
            "backgroundcolor": "#E5ECF6",
            "gridcolor": "white",
            "gridwidth": 2,
            "linecolor": "white",
            "showbackground": true,
            "ticks": "",
            "zerolinecolor": "white"
           },
           "zaxis": {
            "backgroundcolor": "#E5ECF6",
            "gridcolor": "white",
            "gridwidth": 2,
            "linecolor": "white",
            "showbackground": true,
            "ticks": "",
            "zerolinecolor": "white"
           }
          },
          "shapedefaults": {
           "line": {
            "color": "#2a3f5f"
           }
          },
          "ternary": {
           "aaxis": {
            "gridcolor": "white",
            "linecolor": "white",
            "ticks": ""
           },
           "baxis": {
            "gridcolor": "white",
            "linecolor": "white",
            "ticks": ""
           },
           "bgcolor": "#E5ECF6",
           "caxis": {
            "gridcolor": "white",
            "linecolor": "white",
            "ticks": ""
           }
          },
          "title": {
           "x": 0.05
          },
          "xaxis": {
           "automargin": true,
           "gridcolor": "white",
           "linecolor": "white",
           "ticks": "",
           "title": {
            "standoff": 15
           },
           "zerolinecolor": "white",
           "zerolinewidth": 2
          },
          "yaxis": {
           "automargin": true,
           "gridcolor": "white",
           "linecolor": "white",
           "ticks": "",
           "title": {
            "standoff": 15
           },
           "zerolinecolor": "white",
           "zerolinewidth": 2
          }
         }
        },
        "title": {
         "text": "Belarussian"
        },
        "width": 800,
        "xaxis": {
         "anchor": "y",
         "domain": [
          0,
          1
         ],
         "title": {
          "text": "# train sentences"
         }
        },
        "yaxis": {
         "anchor": "x",
         "domain": [
          0,
          1
         ],
         "range": [
          0,
          1
         ],
         "title": {
          "text": "UUAS"
         }
        }
       }
      }
     },
     "metadata": {},
     "output_type": "display_data"
    },
    {
     "data": {
      "application/vnd.plotly.v1+json": {
       "config": {
        "plotlyServerURL": "https://plot.ly"
       },
       "data": [
        {
         "customdata": [
          [
           "be"
          ],
          [
           "be"
          ],
          [
           "be"
          ],
          [
           "be"
          ],
          [
           "be"
          ],
          [
           "be"
          ],
          [
           "cs"
          ],
          [
           "cs"
          ],
          [
           "cs"
          ],
          [
           "cs"
          ],
          [
           "cs"
          ],
          [
           "cs"
          ],
          [
           "pl"
          ],
          [
           "pl"
          ],
          [
           "pl"
          ],
          [
           "pl"
          ],
          [
           "pl"
          ],
          [
           "pl"
          ],
          [
           "ru"
          ],
          [
           "ru"
          ],
          [
           "ru"
          ],
          [
           "ru"
          ],
          [
           "ru"
          ],
          [
           "ru"
          ],
          [
           "slk"
          ],
          [
           "slk"
          ],
          [
           "slk"
          ],
          [
           "slk"
          ],
          [
           "slk"
          ],
          [
           "slk"
          ],
          [
           "slv"
          ],
          [
           "slv"
          ],
          [
           "slv"
          ],
          [
           "slv"
          ],
          [
           "slv"
          ],
          [
           "slv"
          ],
          [
           "uk"
          ],
          [
           "uk"
          ],
          [
           "uk"
          ],
          [
           "uk"
          ],
          [
           "uk"
          ]
         ],
         "hovertemplate": "Is Slavic=True<br># train sentences=%{x}<br>UUAS=%{y}<br>train=%{customdata[0]}<extra></extra>",
         "legendgroup": "True",
         "marker": {
          "color": "#636efa",
          "symbol": "circle"
         },
         "mode": "markers",
         "name": "True",
         "orientation": "v",
         "showlegend": true,
         "type": "scatter",
         "x": [
          100,
          1000,
          2500,
          5000,
          7500,
          10000,
          100,
          1000,
          2500,
          5000,
          7500,
          10000,
          100,
          1000,
          2500,
          5000,
          7500,
          10000,
          100,
          1000,
          2500,
          5000,
          7500,
          10000,
          100,
          1000,
          2500,
          5000,
          7500,
          8482,
          100,
          1000,
          2500,
          5000,
          7500,
          10000,
          100,
          1000,
          2500,
          5000,
          5495
         ],
         "xaxis": "x",
         "y": [
          0.3605935345439629,
          0.5900359717905432,
          0.669670889670732,
          0.7097565593297888,
          0.7320219932789549,
          0.7401550889039648,
          0.364711357935093,
          0.6452637142451445,
          0.7491085937869776,
          0.780568133411167,
          0.796601612419734,
          0.8048412034772732,
          0.35608917217550445,
          0.5012266696117256,
          0.670968556237477,
          0.7322270955934557,
          0.7582159254058659,
          0.7706246154331603,
          0.35520565451303976,
          0.5840525061925121,
          0.702353154631368,
          0.7417919631446919,
          0.7590166132874746,
          0.7683882113500465,
          0.34853982929176586,
          0.6389410409731315,
          0.7075438208983481,
          0.7415631951785179,
          0.7594938705962166,
          0.7594110408153606,
          0.38196361800482775,
          0.6327840272628307,
          0.7120955145701529,
          0.7434327816606976,
          0.7632448763864128,
          0.7705023428995157,
          0.36846236372528907,
          0.6042314185191613,
          0.6924214694791979,
          0.7439731473739015,
          0.7468209141252387
         ],
         "yaxis": "y"
        },
        {
         "customdata": [
          [
           "de"
          ],
          [
           "de"
          ],
          [
           "de"
          ],
          [
           "de"
          ],
          [
           "de"
          ],
          [
           "de"
          ],
          [
           "en"
          ],
          [
           "en"
          ],
          [
           "en"
          ],
          [
           "en"
          ],
          [
           "en"
          ],
          [
           "en"
          ],
          [
           "es"
          ],
          [
           "es"
          ],
          [
           "es"
          ],
          [
           "es"
          ],
          [
           "es"
          ],
          [
           "es"
          ],
          [
           "fi"
          ],
          [
           "fi"
          ],
          [
           "fi"
          ],
          [
           "fi"
          ],
          [
           "fi"
          ],
          [
           "fi"
          ],
          [
           "fr"
          ],
          [
           "fr"
          ],
          [
           "fr"
          ],
          [
           "fr"
          ],
          [
           "fr"
          ],
          [
           "fr"
          ],
          [
           "id"
          ],
          [
           "id"
          ],
          [
           "id"
          ],
          [
           "id"
          ],
          [
           "lt"
          ],
          [
           "lt"
          ],
          [
           "lt"
          ],
          [
           "lt"
          ],
          [
           "lv"
          ],
          [
           "lv"
          ],
          [
           "lv"
          ],
          [
           "lv"
          ],
          [
           "lv"
          ],
          [
           "lv"
          ],
          [
           "zh"
          ],
          [
           "zh"
          ],
          [
           "zh"
          ],
          [
           "zh"
          ]
         ],
         "hovertemplate": "Is Slavic=False<br># train sentences=%{x}<br>UUAS=%{y}<br>train=%{customdata[0]}<extra></extra>",
         "legendgroup": "False",
         "marker": {
          "color": "#EF553B",
          "symbol": "circle"
         },
         "mode": "markers",
         "name": "False",
         "orientation": "v",
         "showlegend": true,
         "type": "scatter",
         "x": [
          100,
          1000,
          2500,
          5000,
          7500,
          10000,
          100,
          1000,
          2500,
          5000,
          7500,
          10000,
          100,
          1000,
          2500,
          5000,
          7500,
          10000,
          100,
          1000,
          2500,
          5000,
          7500,
          10000,
          100,
          1000,
          2500,
          5000,
          7500,
          10000,
          100,
          1000,
          2500,
          4481,
          100,
          1000,
          2340,
          2500,
          100,
          1000,
          2500,
          5000,
          7500,
          10000,
          100,
          1000,
          2500,
          3996
         ],
         "xaxis": "x",
         "y": [
          0.3546416231481627,
          0.5835831374343279,
          0.6944843254500418,
          0.7227647791994699,
          0.7376189198996577,
          0.7423914929870785,
          0.35313885426691694,
          0.5840722275689065,
          0.6573371408737358,
          0.6842962624047457,
          0.7062579871574397,
          0.7137954972153417,
          0.411877001719704,
          0.5999124370888093,
          0.6558777590205576,
          0.6817324834734866,
          0.6854519350614519,
          0.7022229935471657,
          0.336738557657416,
          0.5243046242683369,
          0.5946862723443195,
          0.6433704621112917,
          0.664815486802455,
          0.6785810075256773,
          0.3880456904848303,
          0.6062548317372165,
          0.6671662748686557,
          0.6894869286717259,
          0.7017930675417698,
          0.7095751226669611,
          0.37097486707792304,
          0.5660035025164476,
          0.6022356152280579,
          0.626567849423347,
          0.35553697363646397,
          0.5341613681902087,
          0.6204581670163924,
          0.6172554154899579,
          0.3553476484230787,
          0.5426415600397583,
          0.6145062556205922,
          0.6646103844879542,
          0.6913289052269536,
          0.7085101683416689,
          0.36250256377893125,
          0.513296151965038,
          0.5513662969565972,
          0.5852594544278434
         ],
         "yaxis": "y"
        }
       ],
       "layout": {
        "autosize": false,
        "font": {
         "size": 20
        },
        "height": 600,
        "legend": {
         "title": {
          "text": "Is Slavic"
         },
         "tracegroupgap": 0
        },
        "template": {
         "data": {
          "bar": [
           {
            "error_x": {
             "color": "#2a3f5f"
            },
            "error_y": {
             "color": "#2a3f5f"
            },
            "marker": {
             "line": {
              "color": "#E5ECF6",
              "width": 0.5
             },
             "pattern": {
              "fillmode": "overlay",
              "size": 10,
              "solidity": 0.2
             }
            },
            "type": "bar"
           }
          ],
          "barpolar": [
           {
            "marker": {
             "line": {
              "color": "#E5ECF6",
              "width": 0.5
             },
             "pattern": {
              "fillmode": "overlay",
              "size": 10,
              "solidity": 0.2
             }
            },
            "type": "barpolar"
           }
          ],
          "carpet": [
           {
            "aaxis": {
             "endlinecolor": "#2a3f5f",
             "gridcolor": "white",
             "linecolor": "white",
             "minorgridcolor": "white",
             "startlinecolor": "#2a3f5f"
            },
            "baxis": {
             "endlinecolor": "#2a3f5f",
             "gridcolor": "white",
             "linecolor": "white",
             "minorgridcolor": "white",
             "startlinecolor": "#2a3f5f"
            },
            "type": "carpet"
           }
          ],
          "choropleth": [
           {
            "colorbar": {
             "outlinewidth": 0,
             "ticks": ""
            },
            "type": "choropleth"
           }
          ],
          "contour": [
           {
            "colorbar": {
             "outlinewidth": 0,
             "ticks": ""
            },
            "colorscale": [
             [
              0,
              "#0d0887"
             ],
             [
              0.1111111111111111,
              "#46039f"
             ],
             [
              0.2222222222222222,
              "#7201a8"
             ],
             [
              0.3333333333333333,
              "#9c179e"
             ],
             [
              0.4444444444444444,
              "#bd3786"
             ],
             [
              0.5555555555555556,
              "#d8576b"
             ],
             [
              0.6666666666666666,
              "#ed7953"
             ],
             [
              0.7777777777777778,
              "#fb9f3a"
             ],
             [
              0.8888888888888888,
              "#fdca26"
             ],
             [
              1,
              "#f0f921"
             ]
            ],
            "type": "contour"
           }
          ],
          "contourcarpet": [
           {
            "colorbar": {
             "outlinewidth": 0,
             "ticks": ""
            },
            "type": "contourcarpet"
           }
          ],
          "heatmap": [
           {
            "colorbar": {
             "outlinewidth": 0,
             "ticks": ""
            },
            "colorscale": [
             [
              0,
              "#0d0887"
             ],
             [
              0.1111111111111111,
              "#46039f"
             ],
             [
              0.2222222222222222,
              "#7201a8"
             ],
             [
              0.3333333333333333,
              "#9c179e"
             ],
             [
              0.4444444444444444,
              "#bd3786"
             ],
             [
              0.5555555555555556,
              "#d8576b"
             ],
             [
              0.6666666666666666,
              "#ed7953"
             ],
             [
              0.7777777777777778,
              "#fb9f3a"
             ],
             [
              0.8888888888888888,
              "#fdca26"
             ],
             [
              1,
              "#f0f921"
             ]
            ],
            "type": "heatmap"
           }
          ],
          "heatmapgl": [
           {
            "colorbar": {
             "outlinewidth": 0,
             "ticks": ""
            },
            "colorscale": [
             [
              0,
              "#0d0887"
             ],
             [
              0.1111111111111111,
              "#46039f"
             ],
             [
              0.2222222222222222,
              "#7201a8"
             ],
             [
              0.3333333333333333,
              "#9c179e"
             ],
             [
              0.4444444444444444,
              "#bd3786"
             ],
             [
              0.5555555555555556,
              "#d8576b"
             ],
             [
              0.6666666666666666,
              "#ed7953"
             ],
             [
              0.7777777777777778,
              "#fb9f3a"
             ],
             [
              0.8888888888888888,
              "#fdca26"
             ],
             [
              1,
              "#f0f921"
             ]
            ],
            "type": "heatmapgl"
           }
          ],
          "histogram": [
           {
            "marker": {
             "pattern": {
              "fillmode": "overlay",
              "size": 10,
              "solidity": 0.2
             }
            },
            "type": "histogram"
           }
          ],
          "histogram2d": [
           {
            "colorbar": {
             "outlinewidth": 0,
             "ticks": ""
            },
            "colorscale": [
             [
              0,
              "#0d0887"
             ],
             [
              0.1111111111111111,
              "#46039f"
             ],
             [
              0.2222222222222222,
              "#7201a8"
             ],
             [
              0.3333333333333333,
              "#9c179e"
             ],
             [
              0.4444444444444444,
              "#bd3786"
             ],
             [
              0.5555555555555556,
              "#d8576b"
             ],
             [
              0.6666666666666666,
              "#ed7953"
             ],
             [
              0.7777777777777778,
              "#fb9f3a"
             ],
             [
              0.8888888888888888,
              "#fdca26"
             ],
             [
              1,
              "#f0f921"
             ]
            ],
            "type": "histogram2d"
           }
          ],
          "histogram2dcontour": [
           {
            "colorbar": {
             "outlinewidth": 0,
             "ticks": ""
            },
            "colorscale": [
             [
              0,
              "#0d0887"
             ],
             [
              0.1111111111111111,
              "#46039f"
             ],
             [
              0.2222222222222222,
              "#7201a8"
             ],
             [
              0.3333333333333333,
              "#9c179e"
             ],
             [
              0.4444444444444444,
              "#bd3786"
             ],
             [
              0.5555555555555556,
              "#d8576b"
             ],
             [
              0.6666666666666666,
              "#ed7953"
             ],
             [
              0.7777777777777778,
              "#fb9f3a"
             ],
             [
              0.8888888888888888,
              "#fdca26"
             ],
             [
              1,
              "#f0f921"
             ]
            ],
            "type": "histogram2dcontour"
           }
          ],
          "mesh3d": [
           {
            "colorbar": {
             "outlinewidth": 0,
             "ticks": ""
            },
            "type": "mesh3d"
           }
          ],
          "parcoords": [
           {
            "line": {
             "colorbar": {
              "outlinewidth": 0,
              "ticks": ""
             }
            },
            "type": "parcoords"
           }
          ],
          "pie": [
           {
            "automargin": true,
            "type": "pie"
           }
          ],
          "scatter": [
           {
            "fillpattern": {
             "fillmode": "overlay",
             "size": 10,
             "solidity": 0.2
            },
            "type": "scatter"
           }
          ],
          "scatter3d": [
           {
            "line": {
             "colorbar": {
              "outlinewidth": 0,
              "ticks": ""
             }
            },
            "marker": {
             "colorbar": {
              "outlinewidth": 0,
              "ticks": ""
             }
            },
            "type": "scatter3d"
           }
          ],
          "scattercarpet": [
           {
            "marker": {
             "colorbar": {
              "outlinewidth": 0,
              "ticks": ""
             }
            },
            "type": "scattercarpet"
           }
          ],
          "scattergeo": [
           {
            "marker": {
             "colorbar": {
              "outlinewidth": 0,
              "ticks": ""
             }
            },
            "type": "scattergeo"
           }
          ],
          "scattergl": [
           {
            "marker": {
             "colorbar": {
              "outlinewidth": 0,
              "ticks": ""
             }
            },
            "type": "scattergl"
           }
          ],
          "scattermapbox": [
           {
            "marker": {
             "colorbar": {
              "outlinewidth": 0,
              "ticks": ""
             }
            },
            "type": "scattermapbox"
           }
          ],
          "scatterpolar": [
           {
            "marker": {
             "colorbar": {
              "outlinewidth": 0,
              "ticks": ""
             }
            },
            "type": "scatterpolar"
           }
          ],
          "scatterpolargl": [
           {
            "marker": {
             "colorbar": {
              "outlinewidth": 0,
              "ticks": ""
             }
            },
            "type": "scatterpolargl"
           }
          ],
          "scatterternary": [
           {
            "marker": {
             "colorbar": {
              "outlinewidth": 0,
              "ticks": ""
             }
            },
            "type": "scatterternary"
           }
          ],
          "surface": [
           {
            "colorbar": {
             "outlinewidth": 0,
             "ticks": ""
            },
            "colorscale": [
             [
              0,
              "#0d0887"
             ],
             [
              0.1111111111111111,
              "#46039f"
             ],
             [
              0.2222222222222222,
              "#7201a8"
             ],
             [
              0.3333333333333333,
              "#9c179e"
             ],
             [
              0.4444444444444444,
              "#bd3786"
             ],
             [
              0.5555555555555556,
              "#d8576b"
             ],
             [
              0.6666666666666666,
              "#ed7953"
             ],
             [
              0.7777777777777778,
              "#fb9f3a"
             ],
             [
              0.8888888888888888,
              "#fdca26"
             ],
             [
              1,
              "#f0f921"
             ]
            ],
            "type": "surface"
           }
          ],
          "table": [
           {
            "cells": {
             "fill": {
              "color": "#EBF0F8"
             },
             "line": {
              "color": "white"
             }
            },
            "header": {
             "fill": {
              "color": "#C8D4E3"
             },
             "line": {
              "color": "white"
             }
            },
            "type": "table"
           }
          ]
         },
         "layout": {
          "annotationdefaults": {
           "arrowcolor": "#2a3f5f",
           "arrowhead": 0,
           "arrowwidth": 1
          },
          "autotypenumbers": "strict",
          "coloraxis": {
           "colorbar": {
            "outlinewidth": 0,
            "ticks": ""
           }
          },
          "colorscale": {
           "diverging": [
            [
             0,
             "#8e0152"
            ],
            [
             0.1,
             "#c51b7d"
            ],
            [
             0.2,
             "#de77ae"
            ],
            [
             0.3,
             "#f1b6da"
            ],
            [
             0.4,
             "#fde0ef"
            ],
            [
             0.5,
             "#f7f7f7"
            ],
            [
             0.6,
             "#e6f5d0"
            ],
            [
             0.7,
             "#b8e186"
            ],
            [
             0.8,
             "#7fbc41"
            ],
            [
             0.9,
             "#4d9221"
            ],
            [
             1,
             "#276419"
            ]
           ],
           "sequential": [
            [
             0,
             "#0d0887"
            ],
            [
             0.1111111111111111,
             "#46039f"
            ],
            [
             0.2222222222222222,
             "#7201a8"
            ],
            [
             0.3333333333333333,
             "#9c179e"
            ],
            [
             0.4444444444444444,
             "#bd3786"
            ],
            [
             0.5555555555555556,
             "#d8576b"
            ],
            [
             0.6666666666666666,
             "#ed7953"
            ],
            [
             0.7777777777777778,
             "#fb9f3a"
            ],
            [
             0.8888888888888888,
             "#fdca26"
            ],
            [
             1,
             "#f0f921"
            ]
           ],
           "sequentialminus": [
            [
             0,
             "#0d0887"
            ],
            [
             0.1111111111111111,
             "#46039f"
            ],
            [
             0.2222222222222222,
             "#7201a8"
            ],
            [
             0.3333333333333333,
             "#9c179e"
            ],
            [
             0.4444444444444444,
             "#bd3786"
            ],
            [
             0.5555555555555556,
             "#d8576b"
            ],
            [
             0.6666666666666666,
             "#ed7953"
            ],
            [
             0.7777777777777778,
             "#fb9f3a"
            ],
            [
             0.8888888888888888,
             "#fdca26"
            ],
            [
             1,
             "#f0f921"
            ]
           ]
          },
          "colorway": [
           "#636efa",
           "#EF553B",
           "#00cc96",
           "#ab63fa",
           "#FFA15A",
           "#19d3f3",
           "#FF6692",
           "#B6E880",
           "#FF97FF",
           "#FECB52"
          ],
          "font": {
           "color": "#2a3f5f"
          },
          "geo": {
           "bgcolor": "white",
           "lakecolor": "white",
           "landcolor": "#E5ECF6",
           "showlakes": true,
           "showland": true,
           "subunitcolor": "white"
          },
          "hoverlabel": {
           "align": "left"
          },
          "hovermode": "closest",
          "mapbox": {
           "style": "light"
          },
          "paper_bgcolor": "white",
          "plot_bgcolor": "#E5ECF6",
          "polar": {
           "angularaxis": {
            "gridcolor": "white",
            "linecolor": "white",
            "ticks": ""
           },
           "bgcolor": "#E5ECF6",
           "radialaxis": {
            "gridcolor": "white",
            "linecolor": "white",
            "ticks": ""
           }
          },
          "scene": {
           "xaxis": {
            "backgroundcolor": "#E5ECF6",
            "gridcolor": "white",
            "gridwidth": 2,
            "linecolor": "white",
            "showbackground": true,
            "ticks": "",
            "zerolinecolor": "white"
           },
           "yaxis": {
            "backgroundcolor": "#E5ECF6",
            "gridcolor": "white",
            "gridwidth": 2,
            "linecolor": "white",
            "showbackground": true,
            "ticks": "",
            "zerolinecolor": "white"
           },
           "zaxis": {
            "backgroundcolor": "#E5ECF6",
            "gridcolor": "white",
            "gridwidth": 2,
            "linecolor": "white",
            "showbackground": true,
            "ticks": "",
            "zerolinecolor": "white"
           }
          },
          "shapedefaults": {
           "line": {
            "color": "#2a3f5f"
           }
          },
          "ternary": {
           "aaxis": {
            "gridcolor": "white",
            "linecolor": "white",
            "ticks": ""
           },
           "baxis": {
            "gridcolor": "white",
            "linecolor": "white",
            "ticks": ""
           },
           "bgcolor": "#E5ECF6",
           "caxis": {
            "gridcolor": "white",
            "linecolor": "white",
            "ticks": ""
           }
          },
          "title": {
           "x": 0.05
          },
          "xaxis": {
           "automargin": true,
           "gridcolor": "white",
           "linecolor": "white",
           "ticks": "",
           "title": {
            "standoff": 15
           },
           "zerolinecolor": "white",
           "zerolinewidth": 2
          },
          "yaxis": {
           "automargin": true,
           "gridcolor": "white",
           "linecolor": "white",
           "ticks": "",
           "title": {
            "standoff": 15
           },
           "zerolinecolor": "white",
           "zerolinewidth": 2
          }
         }
        },
        "title": {
         "text": "Czech"
        },
        "width": 800,
        "xaxis": {
         "anchor": "y",
         "domain": [
          0,
          1
         ],
         "title": {
          "text": "# train sentences"
         }
        },
        "yaxis": {
         "anchor": "x",
         "domain": [
          0,
          1
         ],
         "range": [
          0,
          1
         ],
         "title": {
          "text": "UUAS"
         }
        }
       }
      }
     },
     "metadata": {},
     "output_type": "display_data"
    },
    {
     "data": {
      "application/vnd.plotly.v1+json": {
       "config": {
        "plotlyServerURL": "https://plot.ly"
       },
       "data": [
        {
         "customdata": [
          [
           "be"
          ],
          [
           "be"
          ],
          [
           "be"
          ],
          [
           "be"
          ],
          [
           "be"
          ],
          [
           "be"
          ],
          [
           "cs"
          ],
          [
           "cs"
          ],
          [
           "cs"
          ],
          [
           "cs"
          ],
          [
           "cs"
          ],
          [
           "cs"
          ],
          [
           "pl"
          ],
          [
           "pl"
          ],
          [
           "pl"
          ],
          [
           "pl"
          ],
          [
           "pl"
          ],
          [
           "pl"
          ],
          [
           "ru"
          ],
          [
           "ru"
          ],
          [
           "ru"
          ],
          [
           "ru"
          ],
          [
           "ru"
          ],
          [
           "ru"
          ],
          [
           "slk"
          ],
          [
           "slk"
          ],
          [
           "slk"
          ],
          [
           "slk"
          ],
          [
           "slk"
          ],
          [
           "slk"
          ],
          [
           "slv"
          ],
          [
           "slv"
          ],
          [
           "slv"
          ],
          [
           "slv"
          ],
          [
           "slv"
          ],
          [
           "slv"
          ],
          [
           "uk"
          ],
          [
           "uk"
          ],
          [
           "uk"
          ],
          [
           "uk"
          ],
          [
           "uk"
          ]
         ],
         "hovertemplate": "Is Slavic=True<br># train sentences=%{x}<br>UUAS=%{y}<br>train=%{customdata[0]}<extra></extra>",
         "legendgroup": "True",
         "marker": {
          "color": "#636efa",
          "symbol": "circle"
         },
         "mode": "markers",
         "name": "True",
         "orientation": "v",
         "showlegend": true,
         "type": "scatter",
         "x": [
          100,
          1000,
          2500,
          5000,
          7500,
          10000,
          100,
          1000,
          2500,
          5000,
          7500,
          10000,
          100,
          1000,
          2500,
          5000,
          7500,
          10000,
          100,
          1000,
          2500,
          5000,
          7500,
          10000,
          100,
          1000,
          2500,
          5000,
          7500,
          8482,
          100,
          1000,
          2500,
          5000,
          7500,
          10000,
          100,
          1000,
          2500,
          5000,
          5495
         ],
         "xaxis": "x",
         "y": [
          0.3778999471019421,
          0.6113693040126955,
          0.6941547646036423,
          0.730862238343535,
          0.7533816972719716,
          0.764414720773823,
          0.3981334542431799,
          0.6275787803219225,
          0.7265926093856269,
          0.7591249149852641,
          0.7770535781757727,
          0.7821166780019648,
          0.38356759616111236,
          0.5854870399758181,
          0.7450880374820524,
          0.8022557243255497,
          0.8224136628126653,
          0.8320108818861935,
          0.37136325852036567,
          0.611652686465654,
          0.7338283080178343,
          0.7713292526260107,
          0.7824756291090456,
          0.7885211214388272,
          0.3784667120078591,
          0.6439393939393939,
          0.7128957908259654,
          0.743878939016096,
          0.765113730824454,
          0.7635267890878863,
          0.40614373158014055,
          0.642975893599335,
          0.7186390085392579,
          0.7571034534874934,
          0.7766757349051614,
          0.7858006498904255,
          0.39526184538653364,
          0.6312438600468526,
          0.7312022972870853,
          0.7745409204262073,
          0.7735207435955566
         ],
         "yaxis": "y"
        },
        {
         "customdata": [
          [
           "de"
          ],
          [
           "de"
          ],
          [
           "de"
          ],
          [
           "de"
          ],
          [
           "de"
          ],
          [
           "de"
          ],
          [
           "en"
          ],
          [
           "en"
          ],
          [
           "en"
          ],
          [
           "en"
          ],
          [
           "en"
          ],
          [
           "en"
          ],
          [
           "es"
          ],
          [
           "es"
          ],
          [
           "es"
          ],
          [
           "es"
          ],
          [
           "es"
          ],
          [
           "es"
          ],
          [
           "fi"
          ],
          [
           "fi"
          ],
          [
           "fi"
          ],
          [
           "fi"
          ],
          [
           "fi"
          ],
          [
           "fi"
          ],
          [
           "fr"
          ],
          [
           "fr"
          ],
          [
           "fr"
          ],
          [
           "fr"
          ],
          [
           "fr"
          ],
          [
           "fr"
          ],
          [
           "id"
          ],
          [
           "id"
          ],
          [
           "id"
          ],
          [
           "id"
          ],
          [
           "lt"
          ],
          [
           "lt"
          ],
          [
           "lt"
          ],
          [
           "lt"
          ],
          [
           "lv"
          ],
          [
           "lv"
          ],
          [
           "lv"
          ],
          [
           "lv"
          ],
          [
           "lv"
          ],
          [
           "lv"
          ],
          [
           "zh"
          ],
          [
           "zh"
          ],
          [
           "zh"
          ],
          [
           "zh"
          ]
         ],
         "hovertemplate": "Is Slavic=False<br># train sentences=%{x}<br>UUAS=%{y}<br>train=%{customdata[0]}<extra></extra>",
         "legendgroup": "False",
         "marker": {
          "color": "#EF553B",
          "symbol": "circle"
         },
         "mode": "markers",
         "name": "False",
         "orientation": "v",
         "showlegend": true,
         "type": "scatter",
         "x": [
          100,
          1000,
          2500,
          5000,
          7500,
          10000,
          100,
          1000,
          2500,
          5000,
          7500,
          10000,
          100,
          1000,
          2500,
          5000,
          7500,
          10000,
          100,
          1000,
          2500,
          5000,
          7500,
          10000,
          100,
          1000,
          2500,
          5000,
          7500,
          10000,
          100,
          1000,
          2500,
          4481,
          100,
          1000,
          2340,
          2500,
          100,
          1000,
          2500,
          5000,
          7500,
          10000,
          100,
          1000,
          2500,
          3996
         ],
         "xaxis": "x",
         "y": [
          0.38356759616111236,
          0.5968601224212197,
          0.7140104284742689,
          0.7448991158467468,
          0.7513413436106703,
          0.7615053275901156,
          0.39261694249225415,
          0.6287878787878788,
          0.677831935313232,
          0.7064724552255724,
          0.7307866696894129,
          0.7378901231769062,
          0.4369946346255573,
          0.6339076551046625,
          0.7023539635759086,
          0.7193946950804806,
          0.7280095216504194,
          0.7405161339076551,
          0.3614259805032872,
          0.5496674979218621,
          0.6176792866319051,
          0.6640973324265095,
          0.6790221416156579,
          0.6920388422882189,
          0.41789465729615355,
          0.641577873498073,
          0.70705811229502,
          0.7313723267588604,
          0.7430665759842817,
          0.7510957454847729,
          0.39709438524899865,
          0.6040580367263659,
          0.6428058641275599,
          0.6781342099297212,
          0.38730824454016477,
          0.567974004382982,
          0.6150532759011562,
          0.6160923448953374,
          0.37538728935237664,
          0.5566575984281721,
          0.6370059699236756,
          0.6865223305372932,
          0.709287387591627,
          0.7281228746316029,
          0.37924129071261237,
          0.5293395299629714,
          0.5644978462933575,
          0.6082143127030908
         ],
         "yaxis": "y"
        }
       ],
       "layout": {
        "autosize": false,
        "font": {
         "size": 20
        },
        "height": 600,
        "legend": {
         "title": {
          "text": "Is Slavic"
         },
         "tracegroupgap": 0
        },
        "template": {
         "data": {
          "bar": [
           {
            "error_x": {
             "color": "#2a3f5f"
            },
            "error_y": {
             "color": "#2a3f5f"
            },
            "marker": {
             "line": {
              "color": "#E5ECF6",
              "width": 0.5
             },
             "pattern": {
              "fillmode": "overlay",
              "size": 10,
              "solidity": 0.2
             }
            },
            "type": "bar"
           }
          ],
          "barpolar": [
           {
            "marker": {
             "line": {
              "color": "#E5ECF6",
              "width": 0.5
             },
             "pattern": {
              "fillmode": "overlay",
              "size": 10,
              "solidity": 0.2
             }
            },
            "type": "barpolar"
           }
          ],
          "carpet": [
           {
            "aaxis": {
             "endlinecolor": "#2a3f5f",
             "gridcolor": "white",
             "linecolor": "white",
             "minorgridcolor": "white",
             "startlinecolor": "#2a3f5f"
            },
            "baxis": {
             "endlinecolor": "#2a3f5f",
             "gridcolor": "white",
             "linecolor": "white",
             "minorgridcolor": "white",
             "startlinecolor": "#2a3f5f"
            },
            "type": "carpet"
           }
          ],
          "choropleth": [
           {
            "colorbar": {
             "outlinewidth": 0,
             "ticks": ""
            },
            "type": "choropleth"
           }
          ],
          "contour": [
           {
            "colorbar": {
             "outlinewidth": 0,
             "ticks": ""
            },
            "colorscale": [
             [
              0,
              "#0d0887"
             ],
             [
              0.1111111111111111,
              "#46039f"
             ],
             [
              0.2222222222222222,
              "#7201a8"
             ],
             [
              0.3333333333333333,
              "#9c179e"
             ],
             [
              0.4444444444444444,
              "#bd3786"
             ],
             [
              0.5555555555555556,
              "#d8576b"
             ],
             [
              0.6666666666666666,
              "#ed7953"
             ],
             [
              0.7777777777777778,
              "#fb9f3a"
             ],
             [
              0.8888888888888888,
              "#fdca26"
             ],
             [
              1,
              "#f0f921"
             ]
            ],
            "type": "contour"
           }
          ],
          "contourcarpet": [
           {
            "colorbar": {
             "outlinewidth": 0,
             "ticks": ""
            },
            "type": "contourcarpet"
           }
          ],
          "heatmap": [
           {
            "colorbar": {
             "outlinewidth": 0,
             "ticks": ""
            },
            "colorscale": [
             [
              0,
              "#0d0887"
             ],
             [
              0.1111111111111111,
              "#46039f"
             ],
             [
              0.2222222222222222,
              "#7201a8"
             ],
             [
              0.3333333333333333,
              "#9c179e"
             ],
             [
              0.4444444444444444,
              "#bd3786"
             ],
             [
              0.5555555555555556,
              "#d8576b"
             ],
             [
              0.6666666666666666,
              "#ed7953"
             ],
             [
              0.7777777777777778,
              "#fb9f3a"
             ],
             [
              0.8888888888888888,
              "#fdca26"
             ],
             [
              1,
              "#f0f921"
             ]
            ],
            "type": "heatmap"
           }
          ],
          "heatmapgl": [
           {
            "colorbar": {
             "outlinewidth": 0,
             "ticks": ""
            },
            "colorscale": [
             [
              0,
              "#0d0887"
             ],
             [
              0.1111111111111111,
              "#46039f"
             ],
             [
              0.2222222222222222,
              "#7201a8"
             ],
             [
              0.3333333333333333,
              "#9c179e"
             ],
             [
              0.4444444444444444,
              "#bd3786"
             ],
             [
              0.5555555555555556,
              "#d8576b"
             ],
             [
              0.6666666666666666,
              "#ed7953"
             ],
             [
              0.7777777777777778,
              "#fb9f3a"
             ],
             [
              0.8888888888888888,
              "#fdca26"
             ],
             [
              1,
              "#f0f921"
             ]
            ],
            "type": "heatmapgl"
           }
          ],
          "histogram": [
           {
            "marker": {
             "pattern": {
              "fillmode": "overlay",
              "size": 10,
              "solidity": 0.2
             }
            },
            "type": "histogram"
           }
          ],
          "histogram2d": [
           {
            "colorbar": {
             "outlinewidth": 0,
             "ticks": ""
            },
            "colorscale": [
             [
              0,
              "#0d0887"
             ],
             [
              0.1111111111111111,
              "#46039f"
             ],
             [
              0.2222222222222222,
              "#7201a8"
             ],
             [
              0.3333333333333333,
              "#9c179e"
             ],
             [
              0.4444444444444444,
              "#bd3786"
             ],
             [
              0.5555555555555556,
              "#d8576b"
             ],
             [
              0.6666666666666666,
              "#ed7953"
             ],
             [
              0.7777777777777778,
              "#fb9f3a"
             ],
             [
              0.8888888888888888,
              "#fdca26"
             ],
             [
              1,
              "#f0f921"
             ]
            ],
            "type": "histogram2d"
           }
          ],
          "histogram2dcontour": [
           {
            "colorbar": {
             "outlinewidth": 0,
             "ticks": ""
            },
            "colorscale": [
             [
              0,
              "#0d0887"
             ],
             [
              0.1111111111111111,
              "#46039f"
             ],
             [
              0.2222222222222222,
              "#7201a8"
             ],
             [
              0.3333333333333333,
              "#9c179e"
             ],
             [
              0.4444444444444444,
              "#bd3786"
             ],
             [
              0.5555555555555556,
              "#d8576b"
             ],
             [
              0.6666666666666666,
              "#ed7953"
             ],
             [
              0.7777777777777778,
              "#fb9f3a"
             ],
             [
              0.8888888888888888,
              "#fdca26"
             ],
             [
              1,
              "#f0f921"
             ]
            ],
            "type": "histogram2dcontour"
           }
          ],
          "mesh3d": [
           {
            "colorbar": {
             "outlinewidth": 0,
             "ticks": ""
            },
            "type": "mesh3d"
           }
          ],
          "parcoords": [
           {
            "line": {
             "colorbar": {
              "outlinewidth": 0,
              "ticks": ""
             }
            },
            "type": "parcoords"
           }
          ],
          "pie": [
           {
            "automargin": true,
            "type": "pie"
           }
          ],
          "scatter": [
           {
            "fillpattern": {
             "fillmode": "overlay",
             "size": 10,
             "solidity": 0.2
            },
            "type": "scatter"
           }
          ],
          "scatter3d": [
           {
            "line": {
             "colorbar": {
              "outlinewidth": 0,
              "ticks": ""
             }
            },
            "marker": {
             "colorbar": {
              "outlinewidth": 0,
              "ticks": ""
             }
            },
            "type": "scatter3d"
           }
          ],
          "scattercarpet": [
           {
            "marker": {
             "colorbar": {
              "outlinewidth": 0,
              "ticks": ""
             }
            },
            "type": "scattercarpet"
           }
          ],
          "scattergeo": [
           {
            "marker": {
             "colorbar": {
              "outlinewidth": 0,
              "ticks": ""
             }
            },
            "type": "scattergeo"
           }
          ],
          "scattergl": [
           {
            "marker": {
             "colorbar": {
              "outlinewidth": 0,
              "ticks": ""
             }
            },
            "type": "scattergl"
           }
          ],
          "scattermapbox": [
           {
            "marker": {
             "colorbar": {
              "outlinewidth": 0,
              "ticks": ""
             }
            },
            "type": "scattermapbox"
           }
          ],
          "scatterpolar": [
           {
            "marker": {
             "colorbar": {
              "outlinewidth": 0,
              "ticks": ""
             }
            },
            "type": "scatterpolar"
           }
          ],
          "scatterpolargl": [
           {
            "marker": {
             "colorbar": {
              "outlinewidth": 0,
              "ticks": ""
             }
            },
            "type": "scatterpolargl"
           }
          ],
          "scatterternary": [
           {
            "marker": {
             "colorbar": {
              "outlinewidth": 0,
              "ticks": ""
             }
            },
            "type": "scatterternary"
           }
          ],
          "surface": [
           {
            "colorbar": {
             "outlinewidth": 0,
             "ticks": ""
            },
            "colorscale": [
             [
              0,
              "#0d0887"
             ],
             [
              0.1111111111111111,
              "#46039f"
             ],
             [
              0.2222222222222222,
              "#7201a8"
             ],
             [
              0.3333333333333333,
              "#9c179e"
             ],
             [
              0.4444444444444444,
              "#bd3786"
             ],
             [
              0.5555555555555556,
              "#d8576b"
             ],
             [
              0.6666666666666666,
              "#ed7953"
             ],
             [
              0.7777777777777778,
              "#fb9f3a"
             ],
             [
              0.8888888888888888,
              "#fdca26"
             ],
             [
              1,
              "#f0f921"
             ]
            ],
            "type": "surface"
           }
          ],
          "table": [
           {
            "cells": {
             "fill": {
              "color": "#EBF0F8"
             },
             "line": {
              "color": "white"
             }
            },
            "header": {
             "fill": {
              "color": "#C8D4E3"
             },
             "line": {
              "color": "white"
             }
            },
            "type": "table"
           }
          ]
         },
         "layout": {
          "annotationdefaults": {
           "arrowcolor": "#2a3f5f",
           "arrowhead": 0,
           "arrowwidth": 1
          },
          "autotypenumbers": "strict",
          "coloraxis": {
           "colorbar": {
            "outlinewidth": 0,
            "ticks": ""
           }
          },
          "colorscale": {
           "diverging": [
            [
             0,
             "#8e0152"
            ],
            [
             0.1,
             "#c51b7d"
            ],
            [
             0.2,
             "#de77ae"
            ],
            [
             0.3,
             "#f1b6da"
            ],
            [
             0.4,
             "#fde0ef"
            ],
            [
             0.5,
             "#f7f7f7"
            ],
            [
             0.6,
             "#e6f5d0"
            ],
            [
             0.7,
             "#b8e186"
            ],
            [
             0.8,
             "#7fbc41"
            ],
            [
             0.9,
             "#4d9221"
            ],
            [
             1,
             "#276419"
            ]
           ],
           "sequential": [
            [
             0,
             "#0d0887"
            ],
            [
             0.1111111111111111,
             "#46039f"
            ],
            [
             0.2222222222222222,
             "#7201a8"
            ],
            [
             0.3333333333333333,
             "#9c179e"
            ],
            [
             0.4444444444444444,
             "#bd3786"
            ],
            [
             0.5555555555555556,
             "#d8576b"
            ],
            [
             0.6666666666666666,
             "#ed7953"
            ],
            [
             0.7777777777777778,
             "#fb9f3a"
            ],
            [
             0.8888888888888888,
             "#fdca26"
            ],
            [
             1,
             "#f0f921"
            ]
           ],
           "sequentialminus": [
            [
             0,
             "#0d0887"
            ],
            [
             0.1111111111111111,
             "#46039f"
            ],
            [
             0.2222222222222222,
             "#7201a8"
            ],
            [
             0.3333333333333333,
             "#9c179e"
            ],
            [
             0.4444444444444444,
             "#bd3786"
            ],
            [
             0.5555555555555556,
             "#d8576b"
            ],
            [
             0.6666666666666666,
             "#ed7953"
            ],
            [
             0.7777777777777778,
             "#fb9f3a"
            ],
            [
             0.8888888888888888,
             "#fdca26"
            ],
            [
             1,
             "#f0f921"
            ]
           ]
          },
          "colorway": [
           "#636efa",
           "#EF553B",
           "#00cc96",
           "#ab63fa",
           "#FFA15A",
           "#19d3f3",
           "#FF6692",
           "#B6E880",
           "#FF97FF",
           "#FECB52"
          ],
          "font": {
           "color": "#2a3f5f"
          },
          "geo": {
           "bgcolor": "white",
           "lakecolor": "white",
           "landcolor": "#E5ECF6",
           "showlakes": true,
           "showland": true,
           "subunitcolor": "white"
          },
          "hoverlabel": {
           "align": "left"
          },
          "hovermode": "closest",
          "mapbox": {
           "style": "light"
          },
          "paper_bgcolor": "white",
          "plot_bgcolor": "#E5ECF6",
          "polar": {
           "angularaxis": {
            "gridcolor": "white",
            "linecolor": "white",
            "ticks": ""
           },
           "bgcolor": "#E5ECF6",
           "radialaxis": {
            "gridcolor": "white",
            "linecolor": "white",
            "ticks": ""
           }
          },
          "scene": {
           "xaxis": {
            "backgroundcolor": "#E5ECF6",
            "gridcolor": "white",
            "gridwidth": 2,
            "linecolor": "white",
            "showbackground": true,
            "ticks": "",
            "zerolinecolor": "white"
           },
           "yaxis": {
            "backgroundcolor": "#E5ECF6",
            "gridcolor": "white",
            "gridwidth": 2,
            "linecolor": "white",
            "showbackground": true,
            "ticks": "",
            "zerolinecolor": "white"
           },
           "zaxis": {
            "backgroundcolor": "#E5ECF6",
            "gridcolor": "white",
            "gridwidth": 2,
            "linecolor": "white",
            "showbackground": true,
            "ticks": "",
            "zerolinecolor": "white"
           }
          },
          "shapedefaults": {
           "line": {
            "color": "#2a3f5f"
           }
          },
          "ternary": {
           "aaxis": {
            "gridcolor": "white",
            "linecolor": "white",
            "ticks": ""
           },
           "baxis": {
            "gridcolor": "white",
            "linecolor": "white",
            "ticks": ""
           },
           "bgcolor": "#E5ECF6",
           "caxis": {
            "gridcolor": "white",
            "linecolor": "white",
            "ticks": ""
           }
          },
          "title": {
           "x": 0.05
          },
          "xaxis": {
           "automargin": true,
           "gridcolor": "white",
           "linecolor": "white",
           "ticks": "",
           "title": {
            "standoff": 15
           },
           "zerolinecolor": "white",
           "zerolinewidth": 2
          },
          "yaxis": {
           "automargin": true,
           "gridcolor": "white",
           "linecolor": "white",
           "ticks": "",
           "title": {
            "standoff": 15
           },
           "zerolinecolor": "white",
           "zerolinewidth": 2
          }
         }
        },
        "title": {
         "text": "Polish"
        },
        "width": 800,
        "xaxis": {
         "anchor": "y",
         "domain": [
          0,
          1
         ],
         "title": {
          "text": "# train sentences"
         }
        },
        "yaxis": {
         "anchor": "x",
         "domain": [
          0,
          1
         ],
         "range": [
          0,
          1
         ],
         "title": {
          "text": "UUAS"
         }
        }
       }
      }
     },
     "metadata": {},
     "output_type": "display_data"
    },
    {
     "data": {
      "application/vnd.plotly.v1+json": {
       "config": {
        "plotlyServerURL": "https://plot.ly"
       },
       "data": [
        {
         "customdata": [
          [
           "be"
          ],
          [
           "be"
          ],
          [
           "be"
          ],
          [
           "be"
          ],
          [
           "be"
          ],
          [
           "be"
          ],
          [
           "cs"
          ],
          [
           "cs"
          ],
          [
           "cs"
          ],
          [
           "cs"
          ],
          [
           "cs"
          ],
          [
           "cs"
          ],
          [
           "pl"
          ],
          [
           "pl"
          ],
          [
           "pl"
          ],
          [
           "pl"
          ],
          [
           "pl"
          ],
          [
           "pl"
          ],
          [
           "ru"
          ],
          [
           "ru"
          ],
          [
           "ru"
          ],
          [
           "ru"
          ],
          [
           "ru"
          ],
          [
           "ru"
          ],
          [
           "slk"
          ],
          [
           "slk"
          ],
          [
           "slk"
          ],
          [
           "slk"
          ],
          [
           "slk"
          ],
          [
           "slk"
          ],
          [
           "slv"
          ],
          [
           "slv"
          ],
          [
           "slv"
          ],
          [
           "slv"
          ],
          [
           "slv"
          ],
          [
           "slv"
          ],
          [
           "uk"
          ],
          [
           "uk"
          ],
          [
           "uk"
          ],
          [
           "uk"
          ],
          [
           "uk"
          ]
         ],
         "hovertemplate": "Is Slavic=True<br># train sentences=%{x}<br>UUAS=%{y}<br>train=%{customdata[0]}<extra></extra>",
         "legendgroup": "True",
         "marker": {
          "color": "#636efa",
          "symbol": "circle"
         },
         "mode": "markers",
         "name": "True",
         "orientation": "v",
         "showlegend": true,
         "type": "scatter",
         "x": [
          100,
          1000,
          2500,
          5000,
          7500,
          10000,
          100,
          1000,
          2500,
          5000,
          7500,
          10000,
          100,
          1000,
          2500,
          5000,
          7500,
          10000,
          100,
          1000,
          2500,
          5000,
          7500,
          10000,
          100,
          1000,
          2500,
          5000,
          7500,
          8482,
          100,
          1000,
          2500,
          5000,
          7500,
          10000,
          100,
          1000,
          2500,
          5000,
          5495
         ],
         "xaxis": "x",
         "y": [
          0.35913323440333933,
          0.5892713024914737,
          0.671830118108528,
          0.7139013997726347,
          0.744456883010943,
          0.7554997266408061,
          0.3811494971058637,
          0.6115522463183289,
          0.6987885414768339,
          0.7357918304652313,
          0.7529744083726015,
          0.7631928353856968,
          0.3704841495057839,
          0.5327466958249807,
          0.6761648138987963,
          0.7381001969921811,
          0.7605763973861654,
          0.7674016991660375,
          0.3481988666441037,
          0.621857454027926,
          0.7538725885813959,
          0.7913358152612533,
          0.806361892860552,
          0.8134996051478309,
          0.360604167209046,
          0.60742148516484,
          0.6964801749498841,
          0.7234255812137149,
          0.7403478170315795,
          0.7416625445835828,
          0.3823123584389888,
          0.6238968003957199,
          0.7012227400137114,
          0.7308453307646248,
          0.7493903656070744,
          0.7618607516943932,
          0.3694384421129364,
          0.6158131785165708,
          0.7208915848758602,
          0.7642602379526698,
          0.7721225690557392
         ],
         "yaxis": "y"
        },
        {
         "customdata": [
          [
           "de"
          ],
          [
           "de"
          ],
          [
           "de"
          ],
          [
           "de"
          ],
          [
           "de"
          ],
          [
           "de"
          ],
          [
           "en"
          ],
          [
           "en"
          ],
          [
           "en"
          ],
          [
           "en"
          ],
          [
           "en"
          ],
          [
           "en"
          ],
          [
           "es"
          ],
          [
           "es"
          ],
          [
           "es"
          ],
          [
           "es"
          ],
          [
           "es"
          ],
          [
           "es"
          ],
          [
           "fi"
          ],
          [
           "fi"
          ],
          [
           "fi"
          ],
          [
           "fi"
          ],
          [
           "fi"
          ],
          [
           "fi"
          ],
          [
           "fr"
          ],
          [
           "fr"
          ],
          [
           "fr"
          ],
          [
           "fr"
          ],
          [
           "fr"
          ],
          [
           "fr"
          ],
          [
           "id"
          ],
          [
           "id"
          ],
          [
           "id"
          ],
          [
           "id"
          ],
          [
           "lt"
          ],
          [
           "lt"
          ],
          [
           "lt"
          ],
          [
           "lt"
          ],
          [
           "lv"
          ],
          [
           "lv"
          ],
          [
           "lv"
          ],
          [
           "lv"
          ],
          [
           "lv"
          ],
          [
           "lv"
          ],
          [
           "zh"
          ],
          [
           "zh"
          ],
          [
           "zh"
          ],
          [
           "zh"
          ]
         ],
         "hovertemplate": "Is Slavic=False<br># train sentences=%{x}<br>UUAS=%{y}<br>train=%{customdata[0]}<extra></extra>",
         "legendgroup": "False",
         "marker": {
          "color": "#EF553B",
          "symbol": "circle"
         },
         "mode": "markers",
         "name": "False",
         "orientation": "v",
         "showlegend": true,
         "type": "scatter",
         "x": [
          100,
          1000,
          2500,
          5000,
          7500,
          10000,
          100,
          1000,
          2500,
          5000,
          7500,
          10000,
          100,
          1000,
          2500,
          5000,
          7500,
          10000,
          100,
          1000,
          2500,
          5000,
          7500,
          10000,
          100,
          1000,
          2500,
          5000,
          7500,
          10000,
          100,
          1000,
          2500,
          4481,
          100,
          1000,
          2340,
          2500,
          100,
          1000,
          2500,
          5000,
          7500,
          10000,
          100,
          1000,
          2500,
          3996
         ],
         "xaxis": "x",
         "y": [
          0.36751624968541996,
          0.5765709475584251,
          0.6936858365225239,
          0.731131707063081,
          0.7393368219173327,
          0.7458323570504977,
          0.3801905704095181,
          0.6149193373426015,
          0.6777008322268795,
          0.7006456483819739,
          0.724731630696068,
          0.7313746930132861,
          0.4243402497548445,
          0.603290724011351,
          0.6681245823678981,
          0.6909435665130648,
          0.6960853227808006,
          0.7105863771662632,
          0.3460423663360322,
          0.5378580788489409,
          0.6055123098417987,
          0.652386903057284,
          0.6716695738199995,
          0.6827037393802122,
          0.4083942967726259,
          0.6184947020384786,
          0.6719516110836306,
          0.7054446208985273,
          0.7155632501106454,
          0.7230003558008556,
          0.3783161073650777,
          0.5742842762056009,
          0.6097255126569645,
          0.6383457863632813,
          0.3623354421042583,
          0.542691763644095,
          0.6102505358708009,
          0.6089488254232729,
          0.3547074188817439,
          0.5402228528286168,
          0.6239662249529214,
          0.662505532269402,
          0.6989968151484385,
          0.7120920222505706,
          0.3663664054567702,
          0.526029869915736,
          0.5740239341160952,
          0.5971987191169197
         ],
         "yaxis": "y"
        }
       ],
       "layout": {
        "autosize": false,
        "font": {
         "size": 20
        },
        "height": 600,
        "legend": {
         "title": {
          "text": "Is Slavic"
         },
         "tracegroupgap": 0
        },
        "template": {
         "data": {
          "bar": [
           {
            "error_x": {
             "color": "#2a3f5f"
            },
            "error_y": {
             "color": "#2a3f5f"
            },
            "marker": {
             "line": {
              "color": "#E5ECF6",
              "width": 0.5
             },
             "pattern": {
              "fillmode": "overlay",
              "size": 10,
              "solidity": 0.2
             }
            },
            "type": "bar"
           }
          ],
          "barpolar": [
           {
            "marker": {
             "line": {
              "color": "#E5ECF6",
              "width": 0.5
             },
             "pattern": {
              "fillmode": "overlay",
              "size": 10,
              "solidity": 0.2
             }
            },
            "type": "barpolar"
           }
          ],
          "carpet": [
           {
            "aaxis": {
             "endlinecolor": "#2a3f5f",
             "gridcolor": "white",
             "linecolor": "white",
             "minorgridcolor": "white",
             "startlinecolor": "#2a3f5f"
            },
            "baxis": {
             "endlinecolor": "#2a3f5f",
             "gridcolor": "white",
             "linecolor": "white",
             "minorgridcolor": "white",
             "startlinecolor": "#2a3f5f"
            },
            "type": "carpet"
           }
          ],
          "choropleth": [
           {
            "colorbar": {
             "outlinewidth": 0,
             "ticks": ""
            },
            "type": "choropleth"
           }
          ],
          "contour": [
           {
            "colorbar": {
             "outlinewidth": 0,
             "ticks": ""
            },
            "colorscale": [
             [
              0,
              "#0d0887"
             ],
             [
              0.1111111111111111,
              "#46039f"
             ],
             [
              0.2222222222222222,
              "#7201a8"
             ],
             [
              0.3333333333333333,
              "#9c179e"
             ],
             [
              0.4444444444444444,
              "#bd3786"
             ],
             [
              0.5555555555555556,
              "#d8576b"
             ],
             [
              0.6666666666666666,
              "#ed7953"
             ],
             [
              0.7777777777777778,
              "#fb9f3a"
             ],
             [
              0.8888888888888888,
              "#fdca26"
             ],
             [
              1,
              "#f0f921"
             ]
            ],
            "type": "contour"
           }
          ],
          "contourcarpet": [
           {
            "colorbar": {
             "outlinewidth": 0,
             "ticks": ""
            },
            "type": "contourcarpet"
           }
          ],
          "heatmap": [
           {
            "colorbar": {
             "outlinewidth": 0,
             "ticks": ""
            },
            "colorscale": [
             [
              0,
              "#0d0887"
             ],
             [
              0.1111111111111111,
              "#46039f"
             ],
             [
              0.2222222222222222,
              "#7201a8"
             ],
             [
              0.3333333333333333,
              "#9c179e"
             ],
             [
              0.4444444444444444,
              "#bd3786"
             ],
             [
              0.5555555555555556,
              "#d8576b"
             ],
             [
              0.6666666666666666,
              "#ed7953"
             ],
             [
              0.7777777777777778,
              "#fb9f3a"
             ],
             [
              0.8888888888888888,
              "#fdca26"
             ],
             [
              1,
              "#f0f921"
             ]
            ],
            "type": "heatmap"
           }
          ],
          "heatmapgl": [
           {
            "colorbar": {
             "outlinewidth": 0,
             "ticks": ""
            },
            "colorscale": [
             [
              0,
              "#0d0887"
             ],
             [
              0.1111111111111111,
              "#46039f"
             ],
             [
              0.2222222222222222,
              "#7201a8"
             ],
             [
              0.3333333333333333,
              "#9c179e"
             ],
             [
              0.4444444444444444,
              "#bd3786"
             ],
             [
              0.5555555555555556,
              "#d8576b"
             ],
             [
              0.6666666666666666,
              "#ed7953"
             ],
             [
              0.7777777777777778,
              "#fb9f3a"
             ],
             [
              0.8888888888888888,
              "#fdca26"
             ],
             [
              1,
              "#f0f921"
             ]
            ],
            "type": "heatmapgl"
           }
          ],
          "histogram": [
           {
            "marker": {
             "pattern": {
              "fillmode": "overlay",
              "size": 10,
              "solidity": 0.2
             }
            },
            "type": "histogram"
           }
          ],
          "histogram2d": [
           {
            "colorbar": {
             "outlinewidth": 0,
             "ticks": ""
            },
            "colorscale": [
             [
              0,
              "#0d0887"
             ],
             [
              0.1111111111111111,
              "#46039f"
             ],
             [
              0.2222222222222222,
              "#7201a8"
             ],
             [
              0.3333333333333333,
              "#9c179e"
             ],
             [
              0.4444444444444444,
              "#bd3786"
             ],
             [
              0.5555555555555556,
              "#d8576b"
             ],
             [
              0.6666666666666666,
              "#ed7953"
             ],
             [
              0.7777777777777778,
              "#fb9f3a"
             ],
             [
              0.8888888888888888,
              "#fdca26"
             ],
             [
              1,
              "#f0f921"
             ]
            ],
            "type": "histogram2d"
           }
          ],
          "histogram2dcontour": [
           {
            "colorbar": {
             "outlinewidth": 0,
             "ticks": ""
            },
            "colorscale": [
             [
              0,
              "#0d0887"
             ],
             [
              0.1111111111111111,
              "#46039f"
             ],
             [
              0.2222222222222222,
              "#7201a8"
             ],
             [
              0.3333333333333333,
              "#9c179e"
             ],
             [
              0.4444444444444444,
              "#bd3786"
             ],
             [
              0.5555555555555556,
              "#d8576b"
             ],
             [
              0.6666666666666666,
              "#ed7953"
             ],
             [
              0.7777777777777778,
              "#fb9f3a"
             ],
             [
              0.8888888888888888,
              "#fdca26"
             ],
             [
              1,
              "#f0f921"
             ]
            ],
            "type": "histogram2dcontour"
           }
          ],
          "mesh3d": [
           {
            "colorbar": {
             "outlinewidth": 0,
             "ticks": ""
            },
            "type": "mesh3d"
           }
          ],
          "parcoords": [
           {
            "line": {
             "colorbar": {
              "outlinewidth": 0,
              "ticks": ""
             }
            },
            "type": "parcoords"
           }
          ],
          "pie": [
           {
            "automargin": true,
            "type": "pie"
           }
          ],
          "scatter": [
           {
            "fillpattern": {
             "fillmode": "overlay",
             "size": 10,
             "solidity": 0.2
            },
            "type": "scatter"
           }
          ],
          "scatter3d": [
           {
            "line": {
             "colorbar": {
              "outlinewidth": 0,
              "ticks": ""
             }
            },
            "marker": {
             "colorbar": {
              "outlinewidth": 0,
              "ticks": ""
             }
            },
            "type": "scatter3d"
           }
          ],
          "scattercarpet": [
           {
            "marker": {
             "colorbar": {
              "outlinewidth": 0,
              "ticks": ""
             }
            },
            "type": "scattercarpet"
           }
          ],
          "scattergeo": [
           {
            "marker": {
             "colorbar": {
              "outlinewidth": 0,
              "ticks": ""
             }
            },
            "type": "scattergeo"
           }
          ],
          "scattergl": [
           {
            "marker": {
             "colorbar": {
              "outlinewidth": 0,
              "ticks": ""
             }
            },
            "type": "scattergl"
           }
          ],
          "scattermapbox": [
           {
            "marker": {
             "colorbar": {
              "outlinewidth": 0,
              "ticks": ""
             }
            },
            "type": "scattermapbox"
           }
          ],
          "scatterpolar": [
           {
            "marker": {
             "colorbar": {
              "outlinewidth": 0,
              "ticks": ""
             }
            },
            "type": "scatterpolar"
           }
          ],
          "scatterpolargl": [
           {
            "marker": {
             "colorbar": {
              "outlinewidth": 0,
              "ticks": ""
             }
            },
            "type": "scatterpolargl"
           }
          ],
          "scatterternary": [
           {
            "marker": {
             "colorbar": {
              "outlinewidth": 0,
              "ticks": ""
             }
            },
            "type": "scatterternary"
           }
          ],
          "surface": [
           {
            "colorbar": {
             "outlinewidth": 0,
             "ticks": ""
            },
            "colorscale": [
             [
              0,
              "#0d0887"
             ],
             [
              0.1111111111111111,
              "#46039f"
             ],
             [
              0.2222222222222222,
              "#7201a8"
             ],
             [
              0.3333333333333333,
              "#9c179e"
             ],
             [
              0.4444444444444444,
              "#bd3786"
             ],
             [
              0.5555555555555556,
              "#d8576b"
             ],
             [
              0.6666666666666666,
              "#ed7953"
             ],
             [
              0.7777777777777778,
              "#fb9f3a"
             ],
             [
              0.8888888888888888,
              "#fdca26"
             ],
             [
              1,
              "#f0f921"
             ]
            ],
            "type": "surface"
           }
          ],
          "table": [
           {
            "cells": {
             "fill": {
              "color": "#EBF0F8"
             },
             "line": {
              "color": "white"
             }
            },
            "header": {
             "fill": {
              "color": "#C8D4E3"
             },
             "line": {
              "color": "white"
             }
            },
            "type": "table"
           }
          ]
         },
         "layout": {
          "annotationdefaults": {
           "arrowcolor": "#2a3f5f",
           "arrowhead": 0,
           "arrowwidth": 1
          },
          "autotypenumbers": "strict",
          "coloraxis": {
           "colorbar": {
            "outlinewidth": 0,
            "ticks": ""
           }
          },
          "colorscale": {
           "diverging": [
            [
             0,
             "#8e0152"
            ],
            [
             0.1,
             "#c51b7d"
            ],
            [
             0.2,
             "#de77ae"
            ],
            [
             0.3,
             "#f1b6da"
            ],
            [
             0.4,
             "#fde0ef"
            ],
            [
             0.5,
             "#f7f7f7"
            ],
            [
             0.6,
             "#e6f5d0"
            ],
            [
             0.7,
             "#b8e186"
            ],
            [
             0.8,
             "#7fbc41"
            ],
            [
             0.9,
             "#4d9221"
            ],
            [
             1,
             "#276419"
            ]
           ],
           "sequential": [
            [
             0,
             "#0d0887"
            ],
            [
             0.1111111111111111,
             "#46039f"
            ],
            [
             0.2222222222222222,
             "#7201a8"
            ],
            [
             0.3333333333333333,
             "#9c179e"
            ],
            [
             0.4444444444444444,
             "#bd3786"
            ],
            [
             0.5555555555555556,
             "#d8576b"
            ],
            [
             0.6666666666666666,
             "#ed7953"
            ],
            [
             0.7777777777777778,
             "#fb9f3a"
            ],
            [
             0.8888888888888888,
             "#fdca26"
            ],
            [
             1,
             "#f0f921"
            ]
           ],
           "sequentialminus": [
            [
             0,
             "#0d0887"
            ],
            [
             0.1111111111111111,
             "#46039f"
            ],
            [
             0.2222222222222222,
             "#7201a8"
            ],
            [
             0.3333333333333333,
             "#9c179e"
            ],
            [
             0.4444444444444444,
             "#bd3786"
            ],
            [
             0.5555555555555556,
             "#d8576b"
            ],
            [
             0.6666666666666666,
             "#ed7953"
            ],
            [
             0.7777777777777778,
             "#fb9f3a"
            ],
            [
             0.8888888888888888,
             "#fdca26"
            ],
            [
             1,
             "#f0f921"
            ]
           ]
          },
          "colorway": [
           "#636efa",
           "#EF553B",
           "#00cc96",
           "#ab63fa",
           "#FFA15A",
           "#19d3f3",
           "#FF6692",
           "#B6E880",
           "#FF97FF",
           "#FECB52"
          ],
          "font": {
           "color": "#2a3f5f"
          },
          "geo": {
           "bgcolor": "white",
           "lakecolor": "white",
           "landcolor": "#E5ECF6",
           "showlakes": true,
           "showland": true,
           "subunitcolor": "white"
          },
          "hoverlabel": {
           "align": "left"
          },
          "hovermode": "closest",
          "mapbox": {
           "style": "light"
          },
          "paper_bgcolor": "white",
          "plot_bgcolor": "#E5ECF6",
          "polar": {
           "angularaxis": {
            "gridcolor": "white",
            "linecolor": "white",
            "ticks": ""
           },
           "bgcolor": "#E5ECF6",
           "radialaxis": {
            "gridcolor": "white",
            "linecolor": "white",
            "ticks": ""
           }
          },
          "scene": {
           "xaxis": {
            "backgroundcolor": "#E5ECF6",
            "gridcolor": "white",
            "gridwidth": 2,
            "linecolor": "white",
            "showbackground": true,
            "ticks": "",
            "zerolinecolor": "white"
           },
           "yaxis": {
            "backgroundcolor": "#E5ECF6",
            "gridcolor": "white",
            "gridwidth": 2,
            "linecolor": "white",
            "showbackground": true,
            "ticks": "",
            "zerolinecolor": "white"
           },
           "zaxis": {
            "backgroundcolor": "#E5ECF6",
            "gridcolor": "white",
            "gridwidth": 2,
            "linecolor": "white",
            "showbackground": true,
            "ticks": "",
            "zerolinecolor": "white"
           }
          },
          "shapedefaults": {
           "line": {
            "color": "#2a3f5f"
           }
          },
          "ternary": {
           "aaxis": {
            "gridcolor": "white",
            "linecolor": "white",
            "ticks": ""
           },
           "baxis": {
            "gridcolor": "white",
            "linecolor": "white",
            "ticks": ""
           },
           "bgcolor": "#E5ECF6",
           "caxis": {
            "gridcolor": "white",
            "linecolor": "white",
            "ticks": ""
           }
          },
          "title": {
           "x": 0.05
          },
          "xaxis": {
           "automargin": true,
           "gridcolor": "white",
           "linecolor": "white",
           "ticks": "",
           "title": {
            "standoff": 15
           },
           "zerolinecolor": "white",
           "zerolinewidth": 2
          },
          "yaxis": {
           "automargin": true,
           "gridcolor": "white",
           "linecolor": "white",
           "ticks": "",
           "title": {
            "standoff": 15
           },
           "zerolinecolor": "white",
           "zerolinewidth": 2
          }
         }
        },
        "title": {
         "text": "Russian"
        },
        "width": 800,
        "xaxis": {
         "anchor": "y",
         "domain": [
          0,
          1
         ],
         "title": {
          "text": "# train sentences"
         }
        },
        "yaxis": {
         "anchor": "x",
         "domain": [
          0,
          1
         ],
         "range": [
          0,
          1
         ],
         "title": {
          "text": "UUAS"
         }
        }
       }
      }
     },
     "metadata": {},
     "output_type": "display_data"
    },
    {
     "data": {
      "application/vnd.plotly.v1+json": {
       "config": {
        "plotlyServerURL": "https://plot.ly"
       },
       "data": [
        {
         "customdata": [
          [
           "be"
          ],
          [
           "be"
          ],
          [
           "be"
          ],
          [
           "be"
          ],
          [
           "be"
          ],
          [
           "be"
          ],
          [
           "cs"
          ],
          [
           "cs"
          ],
          [
           "cs"
          ],
          [
           "cs"
          ],
          [
           "cs"
          ],
          [
           "cs"
          ],
          [
           "pl"
          ],
          [
           "pl"
          ],
          [
           "pl"
          ],
          [
           "pl"
          ],
          [
           "pl"
          ],
          [
           "pl"
          ],
          [
           "ru"
          ],
          [
           "ru"
          ],
          [
           "ru"
          ],
          [
           "ru"
          ],
          [
           "ru"
          ],
          [
           "ru"
          ],
          [
           "slk"
          ],
          [
           "slk"
          ],
          [
           "slk"
          ],
          [
           "slk"
          ],
          [
           "slk"
          ],
          [
           "slk"
          ],
          [
           "slv"
          ],
          [
           "slv"
          ],
          [
           "slv"
          ],
          [
           "slv"
          ],
          [
           "slv"
          ],
          [
           "slv"
          ],
          [
           "uk"
          ],
          [
           "uk"
          ],
          [
           "uk"
          ],
          [
           "uk"
          ],
          [
           "uk"
          ]
         ],
         "hovertemplate": "Is Slavic=True<br># train sentences=%{x}<br>UUAS=%{y}<br>train=%{customdata[0]}<extra></extra>",
         "legendgroup": "True",
         "marker": {
          "color": "#636efa",
          "symbol": "circle"
         },
         "mode": "markers",
         "name": "True",
         "orientation": "v",
         "showlegend": true,
         "type": "scatter",
         "x": [
          100,
          1000,
          2500,
          5000,
          7500,
          10000,
          100,
          1000,
          2500,
          5000,
          7500,
          10000,
          100,
          1000,
          2500,
          5000,
          7500,
          10000,
          100,
          1000,
          2500,
          5000,
          7500,
          10000,
          100,
          1000,
          2500,
          5000,
          7500,
          8482,
          100,
          1000,
          2500,
          5000,
          7500,
          10000,
          100,
          1000,
          2500,
          5000,
          5495
         ],
         "xaxis": "x",
         "y": [
          0.39461678832116787,
          0.6280413625304136,
          0.7085867802108679,
          0.7483779399837793,
          0.7669809407948094,
          0.7810725871857258,
          0.41656528791565284,
          0.6611922141119222,
          0.7751926196269262,
          0.8127027575020276,
          0.829227493917275,
          0.8319647201946472,
          0.3967964314679643,
          0.5474959448499594,
          0.7001723438767234,
          0.784316707218167,
          0.7968876723438767,
          0.8120944849959448,
          0.3929440389294404,
          0.6312854825628549,
          0.7359083536090836,
          0.7799574209245742,
          0.7969890510948905,
          0.8067214111922141,
          0.38539132197891324,
          0.7101581508515815,
          0.7857360097323601,
          0.821573398215734,
          0.8337388483373884,
          0.8378953771289537,
          0.4283759124087591,
          0.6698094079480941,
          0.7544099756690997,
          0.7901966747769668,
          0.8074817518248175,
          0.8236009732360097,
          0.4056670721816707,
          0.6468471208434712,
          0.7337793998377939,
          0.7830494728304948,
          0.7897404703974047
         ],
         "yaxis": "y"
        },
        {
         "customdata": [
          [
           "de"
          ],
          [
           "de"
          ],
          [
           "de"
          ],
          [
           "de"
          ],
          [
           "de"
          ],
          [
           "de"
          ],
          [
           "en"
          ],
          [
           "en"
          ],
          [
           "en"
          ],
          [
           "en"
          ],
          [
           "en"
          ],
          [
           "en"
          ],
          [
           "es"
          ],
          [
           "es"
          ],
          [
           "es"
          ],
          [
           "es"
          ],
          [
           "es"
          ],
          [
           "es"
          ],
          [
           "fi"
          ],
          [
           "fi"
          ],
          [
           "fi"
          ],
          [
           "fi"
          ],
          [
           "fi"
          ],
          [
           "fi"
          ],
          [
           "fr"
          ],
          [
           "fr"
          ],
          [
           "fr"
          ],
          [
           "fr"
          ],
          [
           "fr"
          ],
          [
           "fr"
          ],
          [
           "id"
          ],
          [
           "id"
          ],
          [
           "id"
          ],
          [
           "id"
          ],
          [
           "lt"
          ],
          [
           "lt"
          ],
          [
           "lt"
          ],
          [
           "lt"
          ],
          [
           "lv"
          ],
          [
           "lv"
          ],
          [
           "lv"
          ],
          [
           "lv"
          ],
          [
           "lv"
          ],
          [
           "lv"
          ],
          [
           "zh"
          ],
          [
           "zh"
          ],
          [
           "zh"
          ],
          [
           "zh"
          ]
         ],
         "hovertemplate": "Is Slavic=False<br># train sentences=%{x}<br>UUAS=%{y}<br>train=%{customdata[0]}<extra></extra>",
         "legendgroup": "False",
         "marker": {
          "color": "#EF553B",
          "symbol": "circle"
         },
         "mode": "markers",
         "name": "False",
         "orientation": "v",
         "showlegend": true,
         "type": "scatter",
         "x": [
          100,
          1000,
          2500,
          5000,
          7500,
          10000,
          100,
          1000,
          2500,
          5000,
          7500,
          10000,
          100,
          1000,
          2500,
          5000,
          7500,
          10000,
          100,
          1000,
          2500,
          5000,
          7500,
          10000,
          100,
          1000,
          2500,
          5000,
          7500,
          10000,
          100,
          1000,
          2500,
          4481,
          100,
          1000,
          2340,
          2500,
          100,
          1000,
          2500,
          5000,
          7500,
          10000,
          100,
          1000,
          2500,
          3996
         ],
         "xaxis": "x",
         "y": [
          0.3931974858069749,
          0.6132907542579076,
          0.7325628548256286,
          0.7656123276561233,
          0.77382400648824,
          0.7801094890510949,
          0.3896492295214923,
          0.6229724249797243,
          0.6954582319545823,
          0.7106650446066505,
          0.742345904298459,
          0.7589720194647201,
          0.44125101378751014,
          0.6253548256285483,
          0.6837489862124899,
          0.708536090835361,
          0.7098540145985401,
          0.7241484184914841,
          0.3785482562854825,
          0.5591038118410381,
          0.6406630170316301,
          0.6828365774533658,
          0.699918896999189,
          0.7213098134630982,
          0.42310421735604214,
          0.6418288726682888,
          0.7027068126520681,
          0.7211070559610706,
          0.7329683698296837,
          0.7443734793187348,
          0.40835360908353613,
          0.6004663422546634,
          0.6335158150851582,
          0.6638280616382806,
          0.4060725871857258,
          0.5969180859691808,
          0.666058394160584,
          0.662712895377129,
          0.3977595296025953,
          0.5981853203568532,
          0.666007704785077,
          0.7054440389294403,
          0.7418390105433901,
          0.7560827250608273,
          0.4061739659367397,
          0.5415652879156528,
          0.5917984590429846,
          0.6251013787510138
         ],
         "yaxis": "y"
        }
       ],
       "layout": {
        "autosize": false,
        "font": {
         "size": 20
        },
        "height": 600,
        "legend": {
         "title": {
          "text": "Is Slavic"
         },
         "tracegroupgap": 0
        },
        "template": {
         "data": {
          "bar": [
           {
            "error_x": {
             "color": "#2a3f5f"
            },
            "error_y": {
             "color": "#2a3f5f"
            },
            "marker": {
             "line": {
              "color": "#E5ECF6",
              "width": 0.5
             },
             "pattern": {
              "fillmode": "overlay",
              "size": 10,
              "solidity": 0.2
             }
            },
            "type": "bar"
           }
          ],
          "barpolar": [
           {
            "marker": {
             "line": {
              "color": "#E5ECF6",
              "width": 0.5
             },
             "pattern": {
              "fillmode": "overlay",
              "size": 10,
              "solidity": 0.2
             }
            },
            "type": "barpolar"
           }
          ],
          "carpet": [
           {
            "aaxis": {
             "endlinecolor": "#2a3f5f",
             "gridcolor": "white",
             "linecolor": "white",
             "minorgridcolor": "white",
             "startlinecolor": "#2a3f5f"
            },
            "baxis": {
             "endlinecolor": "#2a3f5f",
             "gridcolor": "white",
             "linecolor": "white",
             "minorgridcolor": "white",
             "startlinecolor": "#2a3f5f"
            },
            "type": "carpet"
           }
          ],
          "choropleth": [
           {
            "colorbar": {
             "outlinewidth": 0,
             "ticks": ""
            },
            "type": "choropleth"
           }
          ],
          "contour": [
           {
            "colorbar": {
             "outlinewidth": 0,
             "ticks": ""
            },
            "colorscale": [
             [
              0,
              "#0d0887"
             ],
             [
              0.1111111111111111,
              "#46039f"
             ],
             [
              0.2222222222222222,
              "#7201a8"
             ],
             [
              0.3333333333333333,
              "#9c179e"
             ],
             [
              0.4444444444444444,
              "#bd3786"
             ],
             [
              0.5555555555555556,
              "#d8576b"
             ],
             [
              0.6666666666666666,
              "#ed7953"
             ],
             [
              0.7777777777777778,
              "#fb9f3a"
             ],
             [
              0.8888888888888888,
              "#fdca26"
             ],
             [
              1,
              "#f0f921"
             ]
            ],
            "type": "contour"
           }
          ],
          "contourcarpet": [
           {
            "colorbar": {
             "outlinewidth": 0,
             "ticks": ""
            },
            "type": "contourcarpet"
           }
          ],
          "heatmap": [
           {
            "colorbar": {
             "outlinewidth": 0,
             "ticks": ""
            },
            "colorscale": [
             [
              0,
              "#0d0887"
             ],
             [
              0.1111111111111111,
              "#46039f"
             ],
             [
              0.2222222222222222,
              "#7201a8"
             ],
             [
              0.3333333333333333,
              "#9c179e"
             ],
             [
              0.4444444444444444,
              "#bd3786"
             ],
             [
              0.5555555555555556,
              "#d8576b"
             ],
             [
              0.6666666666666666,
              "#ed7953"
             ],
             [
              0.7777777777777778,
              "#fb9f3a"
             ],
             [
              0.8888888888888888,
              "#fdca26"
             ],
             [
              1,
              "#f0f921"
             ]
            ],
            "type": "heatmap"
           }
          ],
          "heatmapgl": [
           {
            "colorbar": {
             "outlinewidth": 0,
             "ticks": ""
            },
            "colorscale": [
             [
              0,
              "#0d0887"
             ],
             [
              0.1111111111111111,
              "#46039f"
             ],
             [
              0.2222222222222222,
              "#7201a8"
             ],
             [
              0.3333333333333333,
              "#9c179e"
             ],
             [
              0.4444444444444444,
              "#bd3786"
             ],
             [
              0.5555555555555556,
              "#d8576b"
             ],
             [
              0.6666666666666666,
              "#ed7953"
             ],
             [
              0.7777777777777778,
              "#fb9f3a"
             ],
             [
              0.8888888888888888,
              "#fdca26"
             ],
             [
              1,
              "#f0f921"
             ]
            ],
            "type": "heatmapgl"
           }
          ],
          "histogram": [
           {
            "marker": {
             "pattern": {
              "fillmode": "overlay",
              "size": 10,
              "solidity": 0.2
             }
            },
            "type": "histogram"
           }
          ],
          "histogram2d": [
           {
            "colorbar": {
             "outlinewidth": 0,
             "ticks": ""
            },
            "colorscale": [
             [
              0,
              "#0d0887"
             ],
             [
              0.1111111111111111,
              "#46039f"
             ],
             [
              0.2222222222222222,
              "#7201a8"
             ],
             [
              0.3333333333333333,
              "#9c179e"
             ],
             [
              0.4444444444444444,
              "#bd3786"
             ],
             [
              0.5555555555555556,
              "#d8576b"
             ],
             [
              0.6666666666666666,
              "#ed7953"
             ],
             [
              0.7777777777777778,
              "#fb9f3a"
             ],
             [
              0.8888888888888888,
              "#fdca26"
             ],
             [
              1,
              "#f0f921"
             ]
            ],
            "type": "histogram2d"
           }
          ],
          "histogram2dcontour": [
           {
            "colorbar": {
             "outlinewidth": 0,
             "ticks": ""
            },
            "colorscale": [
             [
              0,
              "#0d0887"
             ],
             [
              0.1111111111111111,
              "#46039f"
             ],
             [
              0.2222222222222222,
              "#7201a8"
             ],
             [
              0.3333333333333333,
              "#9c179e"
             ],
             [
              0.4444444444444444,
              "#bd3786"
             ],
             [
              0.5555555555555556,
              "#d8576b"
             ],
             [
              0.6666666666666666,
              "#ed7953"
             ],
             [
              0.7777777777777778,
              "#fb9f3a"
             ],
             [
              0.8888888888888888,
              "#fdca26"
             ],
             [
              1,
              "#f0f921"
             ]
            ],
            "type": "histogram2dcontour"
           }
          ],
          "mesh3d": [
           {
            "colorbar": {
             "outlinewidth": 0,
             "ticks": ""
            },
            "type": "mesh3d"
           }
          ],
          "parcoords": [
           {
            "line": {
             "colorbar": {
              "outlinewidth": 0,
              "ticks": ""
             }
            },
            "type": "parcoords"
           }
          ],
          "pie": [
           {
            "automargin": true,
            "type": "pie"
           }
          ],
          "scatter": [
           {
            "fillpattern": {
             "fillmode": "overlay",
             "size": 10,
             "solidity": 0.2
            },
            "type": "scatter"
           }
          ],
          "scatter3d": [
           {
            "line": {
             "colorbar": {
              "outlinewidth": 0,
              "ticks": ""
             }
            },
            "marker": {
             "colorbar": {
              "outlinewidth": 0,
              "ticks": ""
             }
            },
            "type": "scatter3d"
           }
          ],
          "scattercarpet": [
           {
            "marker": {
             "colorbar": {
              "outlinewidth": 0,
              "ticks": ""
             }
            },
            "type": "scattercarpet"
           }
          ],
          "scattergeo": [
           {
            "marker": {
             "colorbar": {
              "outlinewidth": 0,
              "ticks": ""
             }
            },
            "type": "scattergeo"
           }
          ],
          "scattergl": [
           {
            "marker": {
             "colorbar": {
              "outlinewidth": 0,
              "ticks": ""
             }
            },
            "type": "scattergl"
           }
          ],
          "scattermapbox": [
           {
            "marker": {
             "colorbar": {
              "outlinewidth": 0,
              "ticks": ""
             }
            },
            "type": "scattermapbox"
           }
          ],
          "scatterpolar": [
           {
            "marker": {
             "colorbar": {
              "outlinewidth": 0,
              "ticks": ""
             }
            },
            "type": "scatterpolar"
           }
          ],
          "scatterpolargl": [
           {
            "marker": {
             "colorbar": {
              "outlinewidth": 0,
              "ticks": ""
             }
            },
            "type": "scatterpolargl"
           }
          ],
          "scatterternary": [
           {
            "marker": {
             "colorbar": {
              "outlinewidth": 0,
              "ticks": ""
             }
            },
            "type": "scatterternary"
           }
          ],
          "surface": [
           {
            "colorbar": {
             "outlinewidth": 0,
             "ticks": ""
            },
            "colorscale": [
             [
              0,
              "#0d0887"
             ],
             [
              0.1111111111111111,
              "#46039f"
             ],
             [
              0.2222222222222222,
              "#7201a8"
             ],
             [
              0.3333333333333333,
              "#9c179e"
             ],
             [
              0.4444444444444444,
              "#bd3786"
             ],
             [
              0.5555555555555556,
              "#d8576b"
             ],
             [
              0.6666666666666666,
              "#ed7953"
             ],
             [
              0.7777777777777778,
              "#fb9f3a"
             ],
             [
              0.8888888888888888,
              "#fdca26"
             ],
             [
              1,
              "#f0f921"
             ]
            ],
            "type": "surface"
           }
          ],
          "table": [
           {
            "cells": {
             "fill": {
              "color": "#EBF0F8"
             },
             "line": {
              "color": "white"
             }
            },
            "header": {
             "fill": {
              "color": "#C8D4E3"
             },
             "line": {
              "color": "white"
             }
            },
            "type": "table"
           }
          ]
         },
         "layout": {
          "annotationdefaults": {
           "arrowcolor": "#2a3f5f",
           "arrowhead": 0,
           "arrowwidth": 1
          },
          "autotypenumbers": "strict",
          "coloraxis": {
           "colorbar": {
            "outlinewidth": 0,
            "ticks": ""
           }
          },
          "colorscale": {
           "diverging": [
            [
             0,
             "#8e0152"
            ],
            [
             0.1,
             "#c51b7d"
            ],
            [
             0.2,
             "#de77ae"
            ],
            [
             0.3,
             "#f1b6da"
            ],
            [
             0.4,
             "#fde0ef"
            ],
            [
             0.5,
             "#f7f7f7"
            ],
            [
             0.6,
             "#e6f5d0"
            ],
            [
             0.7,
             "#b8e186"
            ],
            [
             0.8,
             "#7fbc41"
            ],
            [
             0.9,
             "#4d9221"
            ],
            [
             1,
             "#276419"
            ]
           ],
           "sequential": [
            [
             0,
             "#0d0887"
            ],
            [
             0.1111111111111111,
             "#46039f"
            ],
            [
             0.2222222222222222,
             "#7201a8"
            ],
            [
             0.3333333333333333,
             "#9c179e"
            ],
            [
             0.4444444444444444,
             "#bd3786"
            ],
            [
             0.5555555555555556,
             "#d8576b"
            ],
            [
             0.6666666666666666,
             "#ed7953"
            ],
            [
             0.7777777777777778,
             "#fb9f3a"
            ],
            [
             0.8888888888888888,
             "#fdca26"
            ],
            [
             1,
             "#f0f921"
            ]
           ],
           "sequentialminus": [
            [
             0,
             "#0d0887"
            ],
            [
             0.1111111111111111,
             "#46039f"
            ],
            [
             0.2222222222222222,
             "#7201a8"
            ],
            [
             0.3333333333333333,
             "#9c179e"
            ],
            [
             0.4444444444444444,
             "#bd3786"
            ],
            [
             0.5555555555555556,
             "#d8576b"
            ],
            [
             0.6666666666666666,
             "#ed7953"
            ],
            [
             0.7777777777777778,
             "#fb9f3a"
            ],
            [
             0.8888888888888888,
             "#fdca26"
            ],
            [
             1,
             "#f0f921"
            ]
           ]
          },
          "colorway": [
           "#636efa",
           "#EF553B",
           "#00cc96",
           "#ab63fa",
           "#FFA15A",
           "#19d3f3",
           "#FF6692",
           "#B6E880",
           "#FF97FF",
           "#FECB52"
          ],
          "font": {
           "color": "#2a3f5f"
          },
          "geo": {
           "bgcolor": "white",
           "lakecolor": "white",
           "landcolor": "#E5ECF6",
           "showlakes": true,
           "showland": true,
           "subunitcolor": "white"
          },
          "hoverlabel": {
           "align": "left"
          },
          "hovermode": "closest",
          "mapbox": {
           "style": "light"
          },
          "paper_bgcolor": "white",
          "plot_bgcolor": "#E5ECF6",
          "polar": {
           "angularaxis": {
            "gridcolor": "white",
            "linecolor": "white",
            "ticks": ""
           },
           "bgcolor": "#E5ECF6",
           "radialaxis": {
            "gridcolor": "white",
            "linecolor": "white",
            "ticks": ""
           }
          },
          "scene": {
           "xaxis": {
            "backgroundcolor": "#E5ECF6",
            "gridcolor": "white",
            "gridwidth": 2,
            "linecolor": "white",
            "showbackground": true,
            "ticks": "",
            "zerolinecolor": "white"
           },
           "yaxis": {
            "backgroundcolor": "#E5ECF6",
            "gridcolor": "white",
            "gridwidth": 2,
            "linecolor": "white",
            "showbackground": true,
            "ticks": "",
            "zerolinecolor": "white"
           },
           "zaxis": {
            "backgroundcolor": "#E5ECF6",
            "gridcolor": "white",
            "gridwidth": 2,
            "linecolor": "white",
            "showbackground": true,
            "ticks": "",
            "zerolinecolor": "white"
           }
          },
          "shapedefaults": {
           "line": {
            "color": "#2a3f5f"
           }
          },
          "ternary": {
           "aaxis": {
            "gridcolor": "white",
            "linecolor": "white",
            "ticks": ""
           },
           "baxis": {
            "gridcolor": "white",
            "linecolor": "white",
            "ticks": ""
           },
           "bgcolor": "#E5ECF6",
           "caxis": {
            "gridcolor": "white",
            "linecolor": "white",
            "ticks": ""
           }
          },
          "title": {
           "x": 0.05
          },
          "xaxis": {
           "automargin": true,
           "gridcolor": "white",
           "linecolor": "white",
           "ticks": "",
           "title": {
            "standoff": 15
           },
           "zerolinecolor": "white",
           "zerolinewidth": 2
          },
          "yaxis": {
           "automargin": true,
           "gridcolor": "white",
           "linecolor": "white",
           "ticks": "",
           "title": {
            "standoff": 15
           },
           "zerolinecolor": "white",
           "zerolinewidth": 2
          }
         }
        },
        "title": {
         "text": "Slovak"
        },
        "width": 800,
        "xaxis": {
         "anchor": "y",
         "domain": [
          0,
          1
         ],
         "title": {
          "text": "# train sentences"
         }
        },
        "yaxis": {
         "anchor": "x",
         "domain": [
          0,
          1
         ],
         "range": [
          0,
          1
         ],
         "title": {
          "text": "UUAS"
         }
        }
       }
      }
     },
     "metadata": {},
     "output_type": "display_data"
    },
    {
     "data": {
      "application/vnd.plotly.v1+json": {
       "config": {
        "plotlyServerURL": "https://plot.ly"
       },
       "data": [
        {
         "customdata": [
          [
           "be"
          ],
          [
           "be"
          ],
          [
           "be"
          ],
          [
           "be"
          ],
          [
           "be"
          ],
          [
           "be"
          ],
          [
           "cs"
          ],
          [
           "cs"
          ],
          [
           "cs"
          ],
          [
           "cs"
          ],
          [
           "cs"
          ],
          [
           "cs"
          ],
          [
           "pl"
          ],
          [
           "pl"
          ],
          [
           "pl"
          ],
          [
           "pl"
          ],
          [
           "pl"
          ],
          [
           "pl"
          ],
          [
           "ru"
          ],
          [
           "ru"
          ],
          [
           "ru"
          ],
          [
           "ru"
          ],
          [
           "ru"
          ],
          [
           "ru"
          ],
          [
           "slk"
          ],
          [
           "slk"
          ],
          [
           "slk"
          ],
          [
           "slk"
          ],
          [
           "slk"
          ],
          [
           "slk"
          ],
          [
           "slv"
          ],
          [
           "slv"
          ],
          [
           "slv"
          ],
          [
           "slv"
          ],
          [
           "slv"
          ],
          [
           "slv"
          ],
          [
           "uk"
          ],
          [
           "uk"
          ],
          [
           "uk"
          ],
          [
           "uk"
          ],
          [
           "uk"
          ]
         ],
         "hovertemplate": "Is Slavic=True<br># train sentences=%{x}<br>UUAS=%{y}<br>train=%{customdata[0]}<extra></extra>",
         "legendgroup": "True",
         "marker": {
          "color": "#636efa",
          "symbol": "circle"
         },
         "mode": "markers",
         "name": "True",
         "orientation": "v",
         "showlegend": true,
         "type": "scatter",
         "x": [
          100,
          1000,
          2500,
          5000,
          7500,
          10000,
          100,
          1000,
          2500,
          5000,
          7500,
          10000,
          100,
          1000,
          2500,
          5000,
          7500,
          10000,
          100,
          1000,
          2500,
          5000,
          7500,
          10000,
          100,
          1000,
          2500,
          5000,
          7500,
          8482,
          100,
          1000,
          2500,
          5000,
          7500,
          10000,
          100,
          1000,
          2500,
          5000,
          5495
         ],
         "xaxis": "x",
         "y": [
          0.3332480818414322,
          0.583794466403162,
          0.6572890025575447,
          0.6936991397349453,
          0.7181818181818183,
          0.728760753313183,
          0.355405719600093,
          0.611206696117182,
          0.7181120669611718,
          0.7484305975354568,
          0.7548942106486863,
          0.7607533131829807,
          0.3185770750988142,
          0.4824924436177633,
          0.6450592885375495,
          0.7202976052080912,
          0.7433620088351546,
          0.7568472448267844,
          0.3138339920948617,
          0.5857707509881422,
          0.686677516856545,
          0.7288537549407115,
          0.7403859567542432,
          0.7537084398976982,
          0.3471285747500581,
          0.6053940943966519,
          0.6667751685654499,
          0.71699604743083,
          0.7351778656126482,
          0.7423389909323413,
          0.3441990234829109,
          0.6626365961404325,
          0.759265287142525,
          0.7909788421297372,
          0.7994884910485933,
          0.8152755173215531,
          0.3375494071146245,
          0.5855382469193211,
          0.6879330388281795,
          0.7304347826086957,
          0.7375959079283887
         ],
         "yaxis": "y"
        },
        {
         "customdata": [
          [
           "de"
          ],
          [
           "de"
          ],
          [
           "de"
          ],
          [
           "de"
          ],
          [
           "de"
          ],
          [
           "de"
          ],
          [
           "en"
          ],
          [
           "en"
          ],
          [
           "en"
          ],
          [
           "en"
          ],
          [
           "en"
          ],
          [
           "en"
          ],
          [
           "es"
          ],
          [
           "es"
          ],
          [
           "es"
          ],
          [
           "es"
          ],
          [
           "es"
          ],
          [
           "es"
          ],
          [
           "fi"
          ],
          [
           "fi"
          ],
          [
           "fi"
          ],
          [
           "fi"
          ],
          [
           "fi"
          ],
          [
           "fi"
          ],
          [
           "fr"
          ],
          [
           "fr"
          ],
          [
           "fr"
          ],
          [
           "fr"
          ],
          [
           "fr"
          ],
          [
           "fr"
          ],
          [
           "id"
          ],
          [
           "id"
          ],
          [
           "id"
          ],
          [
           "id"
          ],
          [
           "lt"
          ],
          [
           "lt"
          ],
          [
           "lt"
          ],
          [
           "lt"
          ],
          [
           "lv"
          ],
          [
           "lv"
          ],
          [
           "lv"
          ],
          [
           "lv"
          ],
          [
           "lv"
          ],
          [
           "lv"
          ],
          [
           "zh"
          ],
          [
           "zh"
          ],
          [
           "zh"
          ],
          [
           "zh"
          ]
         ],
         "hovertemplate": "Is Slavic=False<br># train sentences=%{x}<br>UUAS=%{y}<br>train=%{customdata[0]}<extra></extra>",
         "legendgroup": "False",
         "marker": {
          "color": "#EF553B",
          "symbol": "circle"
         },
         "mode": "markers",
         "name": "False",
         "orientation": "v",
         "showlegend": true,
         "type": "scatter",
         "x": [
          100,
          1000,
          2500,
          5000,
          7500,
          10000,
          100,
          1000,
          2500,
          5000,
          7500,
          10000,
          100,
          1000,
          2500,
          5000,
          7500,
          10000,
          100,
          1000,
          2500,
          5000,
          7500,
          10000,
          100,
          1000,
          2500,
          5000,
          7500,
          10000,
          100,
          1000,
          2500,
          4481,
          100,
          1000,
          2340,
          2500,
          100,
          1000,
          2500,
          5000,
          7500,
          10000,
          100,
          1000,
          2500,
          3996
         ],
         "xaxis": "x",
         "y": [
          0.3358288770053476,
          0.5900023250406882,
          0.6680306905370844,
          0.718344571029993,
          0.7239711694954661,
          0.7324343176005581,
          0.3315043013252732,
          0.5878167867937689,
          0.6539874447802837,
          0.6702162287840037,
          0.6925366193908393,
          0.7016042780748664,
          0.3634038595675424,
          0.5675889328063242,
          0.6284119972099512,
          0.6750523134154848,
          0.6853754940711463,
          0.6971867007672634,
          0.303278307370379,
          0.5282027435480121,
          0.617949314112997,
          0.6532434317600558,
          0.6631481050918391,
          0.6781213671239247,
          0.364287375029063,
          0.5682399441990235,
          0.6558474773308532,
          0.6788188793303883,
          0.6961171820506858,
          0.7012787723785167,
          0.3441525226691467,
          0.537270402232039,
          0.5894443152755173,
          0.6214833759590793,
          0.3472215763775866,
          0.524529179260637,
          0.5982329690769589,
          0.6113926993722391,
          0.3321088119042083,
          0.5318298070216229,
          0.6159497791211346,
          0.6692862125087189,
          0.6963031853057429,
          0.7085328993257382,
          0.3425249941873983,
          0.5049058358521274,
          0.5702394791908858,
          0.6000930016275284
         ],
         "yaxis": "y"
        }
       ],
       "layout": {
        "autosize": false,
        "font": {
         "size": 20
        },
        "height": 600,
        "legend": {
         "title": {
          "text": "Is Slavic"
         },
         "tracegroupgap": 0
        },
        "template": {
         "data": {
          "bar": [
           {
            "error_x": {
             "color": "#2a3f5f"
            },
            "error_y": {
             "color": "#2a3f5f"
            },
            "marker": {
             "line": {
              "color": "#E5ECF6",
              "width": 0.5
             },
             "pattern": {
              "fillmode": "overlay",
              "size": 10,
              "solidity": 0.2
             }
            },
            "type": "bar"
           }
          ],
          "barpolar": [
           {
            "marker": {
             "line": {
              "color": "#E5ECF6",
              "width": 0.5
             },
             "pattern": {
              "fillmode": "overlay",
              "size": 10,
              "solidity": 0.2
             }
            },
            "type": "barpolar"
           }
          ],
          "carpet": [
           {
            "aaxis": {
             "endlinecolor": "#2a3f5f",
             "gridcolor": "white",
             "linecolor": "white",
             "minorgridcolor": "white",
             "startlinecolor": "#2a3f5f"
            },
            "baxis": {
             "endlinecolor": "#2a3f5f",
             "gridcolor": "white",
             "linecolor": "white",
             "minorgridcolor": "white",
             "startlinecolor": "#2a3f5f"
            },
            "type": "carpet"
           }
          ],
          "choropleth": [
           {
            "colorbar": {
             "outlinewidth": 0,
             "ticks": ""
            },
            "type": "choropleth"
           }
          ],
          "contour": [
           {
            "colorbar": {
             "outlinewidth": 0,
             "ticks": ""
            },
            "colorscale": [
             [
              0,
              "#0d0887"
             ],
             [
              0.1111111111111111,
              "#46039f"
             ],
             [
              0.2222222222222222,
              "#7201a8"
             ],
             [
              0.3333333333333333,
              "#9c179e"
             ],
             [
              0.4444444444444444,
              "#bd3786"
             ],
             [
              0.5555555555555556,
              "#d8576b"
             ],
             [
              0.6666666666666666,
              "#ed7953"
             ],
             [
              0.7777777777777778,
              "#fb9f3a"
             ],
             [
              0.8888888888888888,
              "#fdca26"
             ],
             [
              1,
              "#f0f921"
             ]
            ],
            "type": "contour"
           }
          ],
          "contourcarpet": [
           {
            "colorbar": {
             "outlinewidth": 0,
             "ticks": ""
            },
            "type": "contourcarpet"
           }
          ],
          "heatmap": [
           {
            "colorbar": {
             "outlinewidth": 0,
             "ticks": ""
            },
            "colorscale": [
             [
              0,
              "#0d0887"
             ],
             [
              0.1111111111111111,
              "#46039f"
             ],
             [
              0.2222222222222222,
              "#7201a8"
             ],
             [
              0.3333333333333333,
              "#9c179e"
             ],
             [
              0.4444444444444444,
              "#bd3786"
             ],
             [
              0.5555555555555556,
              "#d8576b"
             ],
             [
              0.6666666666666666,
              "#ed7953"
             ],
             [
              0.7777777777777778,
              "#fb9f3a"
             ],
             [
              0.8888888888888888,
              "#fdca26"
             ],
             [
              1,
              "#f0f921"
             ]
            ],
            "type": "heatmap"
           }
          ],
          "heatmapgl": [
           {
            "colorbar": {
             "outlinewidth": 0,
             "ticks": ""
            },
            "colorscale": [
             [
              0,
              "#0d0887"
             ],
             [
              0.1111111111111111,
              "#46039f"
             ],
             [
              0.2222222222222222,
              "#7201a8"
             ],
             [
              0.3333333333333333,
              "#9c179e"
             ],
             [
              0.4444444444444444,
              "#bd3786"
             ],
             [
              0.5555555555555556,
              "#d8576b"
             ],
             [
              0.6666666666666666,
              "#ed7953"
             ],
             [
              0.7777777777777778,
              "#fb9f3a"
             ],
             [
              0.8888888888888888,
              "#fdca26"
             ],
             [
              1,
              "#f0f921"
             ]
            ],
            "type": "heatmapgl"
           }
          ],
          "histogram": [
           {
            "marker": {
             "pattern": {
              "fillmode": "overlay",
              "size": 10,
              "solidity": 0.2
             }
            },
            "type": "histogram"
           }
          ],
          "histogram2d": [
           {
            "colorbar": {
             "outlinewidth": 0,
             "ticks": ""
            },
            "colorscale": [
             [
              0,
              "#0d0887"
             ],
             [
              0.1111111111111111,
              "#46039f"
             ],
             [
              0.2222222222222222,
              "#7201a8"
             ],
             [
              0.3333333333333333,
              "#9c179e"
             ],
             [
              0.4444444444444444,
              "#bd3786"
             ],
             [
              0.5555555555555556,
              "#d8576b"
             ],
             [
              0.6666666666666666,
              "#ed7953"
             ],
             [
              0.7777777777777778,
              "#fb9f3a"
             ],
             [
              0.8888888888888888,
              "#fdca26"
             ],
             [
              1,
              "#f0f921"
             ]
            ],
            "type": "histogram2d"
           }
          ],
          "histogram2dcontour": [
           {
            "colorbar": {
             "outlinewidth": 0,
             "ticks": ""
            },
            "colorscale": [
             [
              0,
              "#0d0887"
             ],
             [
              0.1111111111111111,
              "#46039f"
             ],
             [
              0.2222222222222222,
              "#7201a8"
             ],
             [
              0.3333333333333333,
              "#9c179e"
             ],
             [
              0.4444444444444444,
              "#bd3786"
             ],
             [
              0.5555555555555556,
              "#d8576b"
             ],
             [
              0.6666666666666666,
              "#ed7953"
             ],
             [
              0.7777777777777778,
              "#fb9f3a"
             ],
             [
              0.8888888888888888,
              "#fdca26"
             ],
             [
              1,
              "#f0f921"
             ]
            ],
            "type": "histogram2dcontour"
           }
          ],
          "mesh3d": [
           {
            "colorbar": {
             "outlinewidth": 0,
             "ticks": ""
            },
            "type": "mesh3d"
           }
          ],
          "parcoords": [
           {
            "line": {
             "colorbar": {
              "outlinewidth": 0,
              "ticks": ""
             }
            },
            "type": "parcoords"
           }
          ],
          "pie": [
           {
            "automargin": true,
            "type": "pie"
           }
          ],
          "scatter": [
           {
            "fillpattern": {
             "fillmode": "overlay",
             "size": 10,
             "solidity": 0.2
            },
            "type": "scatter"
           }
          ],
          "scatter3d": [
           {
            "line": {
             "colorbar": {
              "outlinewidth": 0,
              "ticks": ""
             }
            },
            "marker": {
             "colorbar": {
              "outlinewidth": 0,
              "ticks": ""
             }
            },
            "type": "scatter3d"
           }
          ],
          "scattercarpet": [
           {
            "marker": {
             "colorbar": {
              "outlinewidth": 0,
              "ticks": ""
             }
            },
            "type": "scattercarpet"
           }
          ],
          "scattergeo": [
           {
            "marker": {
             "colorbar": {
              "outlinewidth": 0,
              "ticks": ""
             }
            },
            "type": "scattergeo"
           }
          ],
          "scattergl": [
           {
            "marker": {
             "colorbar": {
              "outlinewidth": 0,
              "ticks": ""
             }
            },
            "type": "scattergl"
           }
          ],
          "scattermapbox": [
           {
            "marker": {
             "colorbar": {
              "outlinewidth": 0,
              "ticks": ""
             }
            },
            "type": "scattermapbox"
           }
          ],
          "scatterpolar": [
           {
            "marker": {
             "colorbar": {
              "outlinewidth": 0,
              "ticks": ""
             }
            },
            "type": "scatterpolar"
           }
          ],
          "scatterpolargl": [
           {
            "marker": {
             "colorbar": {
              "outlinewidth": 0,
              "ticks": ""
             }
            },
            "type": "scatterpolargl"
           }
          ],
          "scatterternary": [
           {
            "marker": {
             "colorbar": {
              "outlinewidth": 0,
              "ticks": ""
             }
            },
            "type": "scatterternary"
           }
          ],
          "surface": [
           {
            "colorbar": {
             "outlinewidth": 0,
             "ticks": ""
            },
            "colorscale": [
             [
              0,
              "#0d0887"
             ],
             [
              0.1111111111111111,
              "#46039f"
             ],
             [
              0.2222222222222222,
              "#7201a8"
             ],
             [
              0.3333333333333333,
              "#9c179e"
             ],
             [
              0.4444444444444444,
              "#bd3786"
             ],
             [
              0.5555555555555556,
              "#d8576b"
             ],
             [
              0.6666666666666666,
              "#ed7953"
             ],
             [
              0.7777777777777778,
              "#fb9f3a"
             ],
             [
              0.8888888888888888,
              "#fdca26"
             ],
             [
              1,
              "#f0f921"
             ]
            ],
            "type": "surface"
           }
          ],
          "table": [
           {
            "cells": {
             "fill": {
              "color": "#EBF0F8"
             },
             "line": {
              "color": "white"
             }
            },
            "header": {
             "fill": {
              "color": "#C8D4E3"
             },
             "line": {
              "color": "white"
             }
            },
            "type": "table"
           }
          ]
         },
         "layout": {
          "annotationdefaults": {
           "arrowcolor": "#2a3f5f",
           "arrowhead": 0,
           "arrowwidth": 1
          },
          "autotypenumbers": "strict",
          "coloraxis": {
           "colorbar": {
            "outlinewidth": 0,
            "ticks": ""
           }
          },
          "colorscale": {
           "diverging": [
            [
             0,
             "#8e0152"
            ],
            [
             0.1,
             "#c51b7d"
            ],
            [
             0.2,
             "#de77ae"
            ],
            [
             0.3,
             "#f1b6da"
            ],
            [
             0.4,
             "#fde0ef"
            ],
            [
             0.5,
             "#f7f7f7"
            ],
            [
             0.6,
             "#e6f5d0"
            ],
            [
             0.7,
             "#b8e186"
            ],
            [
             0.8,
             "#7fbc41"
            ],
            [
             0.9,
             "#4d9221"
            ],
            [
             1,
             "#276419"
            ]
           ],
           "sequential": [
            [
             0,
             "#0d0887"
            ],
            [
             0.1111111111111111,
             "#46039f"
            ],
            [
             0.2222222222222222,
             "#7201a8"
            ],
            [
             0.3333333333333333,
             "#9c179e"
            ],
            [
             0.4444444444444444,
             "#bd3786"
            ],
            [
             0.5555555555555556,
             "#d8576b"
            ],
            [
             0.6666666666666666,
             "#ed7953"
            ],
            [
             0.7777777777777778,
             "#fb9f3a"
            ],
            [
             0.8888888888888888,
             "#fdca26"
            ],
            [
             1,
             "#f0f921"
            ]
           ],
           "sequentialminus": [
            [
             0,
             "#0d0887"
            ],
            [
             0.1111111111111111,
             "#46039f"
            ],
            [
             0.2222222222222222,
             "#7201a8"
            ],
            [
             0.3333333333333333,
             "#9c179e"
            ],
            [
             0.4444444444444444,
             "#bd3786"
            ],
            [
             0.5555555555555556,
             "#d8576b"
            ],
            [
             0.6666666666666666,
             "#ed7953"
            ],
            [
             0.7777777777777778,
             "#fb9f3a"
            ],
            [
             0.8888888888888888,
             "#fdca26"
            ],
            [
             1,
             "#f0f921"
            ]
           ]
          },
          "colorway": [
           "#636efa",
           "#EF553B",
           "#00cc96",
           "#ab63fa",
           "#FFA15A",
           "#19d3f3",
           "#FF6692",
           "#B6E880",
           "#FF97FF",
           "#FECB52"
          ],
          "font": {
           "color": "#2a3f5f"
          },
          "geo": {
           "bgcolor": "white",
           "lakecolor": "white",
           "landcolor": "#E5ECF6",
           "showlakes": true,
           "showland": true,
           "subunitcolor": "white"
          },
          "hoverlabel": {
           "align": "left"
          },
          "hovermode": "closest",
          "mapbox": {
           "style": "light"
          },
          "paper_bgcolor": "white",
          "plot_bgcolor": "#E5ECF6",
          "polar": {
           "angularaxis": {
            "gridcolor": "white",
            "linecolor": "white",
            "ticks": ""
           },
           "bgcolor": "#E5ECF6",
           "radialaxis": {
            "gridcolor": "white",
            "linecolor": "white",
            "ticks": ""
           }
          },
          "scene": {
           "xaxis": {
            "backgroundcolor": "#E5ECF6",
            "gridcolor": "white",
            "gridwidth": 2,
            "linecolor": "white",
            "showbackground": true,
            "ticks": "",
            "zerolinecolor": "white"
           },
           "yaxis": {
            "backgroundcolor": "#E5ECF6",
            "gridcolor": "white",
            "gridwidth": 2,
            "linecolor": "white",
            "showbackground": true,
            "ticks": "",
            "zerolinecolor": "white"
           },
           "zaxis": {
            "backgroundcolor": "#E5ECF6",
            "gridcolor": "white",
            "gridwidth": 2,
            "linecolor": "white",
            "showbackground": true,
            "ticks": "",
            "zerolinecolor": "white"
           }
          },
          "shapedefaults": {
           "line": {
            "color": "#2a3f5f"
           }
          },
          "ternary": {
           "aaxis": {
            "gridcolor": "white",
            "linecolor": "white",
            "ticks": ""
           },
           "baxis": {
            "gridcolor": "white",
            "linecolor": "white",
            "ticks": ""
           },
           "bgcolor": "#E5ECF6",
           "caxis": {
            "gridcolor": "white",
            "linecolor": "white",
            "ticks": ""
           }
          },
          "title": {
           "x": 0.05
          },
          "xaxis": {
           "automargin": true,
           "gridcolor": "white",
           "linecolor": "white",
           "ticks": "",
           "title": {
            "standoff": 15
           },
           "zerolinecolor": "white",
           "zerolinewidth": 2
          },
          "yaxis": {
           "automargin": true,
           "gridcolor": "white",
           "linecolor": "white",
           "ticks": "",
           "title": {
            "standoff": 15
           },
           "zerolinecolor": "white",
           "zerolinewidth": 2
          }
         }
        },
        "title": {
         "text": "Slovene"
        },
        "width": 800,
        "xaxis": {
         "anchor": "y",
         "domain": [
          0,
          1
         ],
         "title": {
          "text": "# train sentences"
         }
        },
        "yaxis": {
         "anchor": "x",
         "domain": [
          0,
          1
         ],
         "range": [
          0,
          1
         ],
         "title": {
          "text": "UUAS"
         }
        }
       }
      }
     },
     "metadata": {},
     "output_type": "display_data"
    },
    {
     "data": {
      "application/vnd.plotly.v1+json": {
       "config": {
        "plotlyServerURL": "https://plot.ly"
       },
       "data": [
        {
         "customdata": [
          [
           "be"
          ],
          [
           "be"
          ],
          [
           "be"
          ],
          [
           "be"
          ],
          [
           "be"
          ],
          [
           "be"
          ],
          [
           "cs"
          ],
          [
           "cs"
          ],
          [
           "cs"
          ],
          [
           "cs"
          ],
          [
           "cs"
          ],
          [
           "cs"
          ],
          [
           "pl"
          ],
          [
           "pl"
          ],
          [
           "pl"
          ],
          [
           "pl"
          ],
          [
           "pl"
          ],
          [
           "pl"
          ],
          [
           "ru"
          ],
          [
           "ru"
          ],
          [
           "ru"
          ],
          [
           "ru"
          ],
          [
           "ru"
          ],
          [
           "ru"
          ],
          [
           "slk"
          ],
          [
           "slk"
          ],
          [
           "slk"
          ],
          [
           "slk"
          ],
          [
           "slk"
          ],
          [
           "slk"
          ],
          [
           "slv"
          ],
          [
           "slv"
          ],
          [
           "slv"
          ],
          [
           "slv"
          ],
          [
           "slv"
          ],
          [
           "slv"
          ],
          [
           "uk"
          ],
          [
           "uk"
          ],
          [
           "uk"
          ],
          [
           "uk"
          ],
          [
           "uk"
          ]
         ],
         "hovertemplate": "Is Slavic=True<br># train sentences=%{x}<br>UUAS=%{y}<br>train=%{customdata[0]}<extra></extra>",
         "legendgroup": "True",
         "marker": {
          "color": "#636efa",
          "symbol": "circle"
         },
         "mode": "markers",
         "name": "True",
         "orientation": "v",
         "showlegend": true,
         "type": "scatter",
         "x": [
          100,
          1000,
          2500,
          5000,
          7500,
          10000,
          100,
          1000,
          2500,
          5000,
          7500,
          10000,
          100,
          1000,
          2500,
          5000,
          7500,
          10000,
          100,
          1000,
          2500,
          5000,
          7500,
          10000,
          100,
          1000,
          2500,
          5000,
          7500,
          8482,
          100,
          1000,
          2500,
          5000,
          7500,
          10000,
          100,
          1000,
          2500,
          5000,
          5495
         ],
         "xaxis": "x",
         "y": [
          0.3598608622325287,
          0.6145251396648045,
          0.6850426899968378,
          0.7405923895857489,
          0.7584062401180562,
          0.7730578686623801,
          0.3862127121323916,
          0.6245388426267524,
          0.6949509855591862,
          0.7412248339833456,
          0.7664172024876146,
          0.7748497944555708,
          0.3711394539896701,
          0.5353641825656161,
          0.6782966164224729,
          0.7343733530093812,
          0.7722146094655845,
          0.7804363866343418,
          0.3543796774533572,
          0.6254875092231474,
          0.7242542426478339,
          0.7714767576683883,
          0.7845472752187204,
          0.7966164224728576,
          0.3535364182565616,
          0.6262253610203437,
          0.690945504374407,
          0.7285759460314114,
          0.7393275007905555,
          0.7470222409613155,
          0.3875830083271845,
          0.6527880257194055,
          0.7111837250975018,
          0.7458627595657216,
          0.753662907136081,
          0.7716348687677874,
          0.3714556761884684,
          0.6514177295246126,
          0.7364815010013703,
          0.7900284599978918,
          0.7880257194055023
         ],
         "yaxis": "y"
        },
        {
         "customdata": [
          [
           "de"
          ],
          [
           "de"
          ],
          [
           "de"
          ],
          [
           "de"
          ],
          [
           "de"
          ],
          [
           "de"
          ],
          [
           "en"
          ],
          [
           "en"
          ],
          [
           "en"
          ],
          [
           "en"
          ],
          [
           "en"
          ],
          [
           "en"
          ],
          [
           "es"
          ],
          [
           "es"
          ],
          [
           "es"
          ],
          [
           "es"
          ],
          [
           "es"
          ],
          [
           "es"
          ],
          [
           "fi"
          ],
          [
           "fi"
          ],
          [
           "fi"
          ],
          [
           "fi"
          ],
          [
           "fi"
          ],
          [
           "fi"
          ],
          [
           "fr"
          ],
          [
           "fr"
          ],
          [
           "fr"
          ],
          [
           "fr"
          ],
          [
           "fr"
          ],
          [
           "fr"
          ],
          [
           "id"
          ],
          [
           "id"
          ],
          [
           "id"
          ],
          [
           "id"
          ],
          [
           "lt"
          ],
          [
           "lt"
          ],
          [
           "lt"
          ],
          [
           "lt"
          ],
          [
           "lv"
          ],
          [
           "lv"
          ],
          [
           "lv"
          ],
          [
           "lv"
          ],
          [
           "lv"
          ],
          [
           "lv"
          ],
          [
           "zh"
          ],
          [
           "zh"
          ],
          [
           "zh"
          ],
          [
           "zh"
          ]
         ],
         "hovertemplate": "Is Slavic=False<br># train sentences=%{x}<br>UUAS=%{y}<br>train=%{customdata[0]}<extra></extra>",
         "legendgroup": "False",
         "marker": {
          "color": "#EF553B",
          "symbol": "circle"
         },
         "mode": "markers",
         "name": "False",
         "orientation": "v",
         "showlegend": true,
         "type": "scatter",
         "x": [
          100,
          1000,
          2500,
          5000,
          7500,
          10000,
          100,
          1000,
          2500,
          5000,
          7500,
          10000,
          100,
          1000,
          2500,
          5000,
          7500,
          10000,
          100,
          1000,
          2500,
          5000,
          7500,
          10000,
          100,
          1000,
          2500,
          5000,
          7500,
          10000,
          100,
          1000,
          2500,
          4481,
          100,
          1000,
          2340,
          2500,
          100,
          1000,
          2500,
          5000,
          7500,
          10000,
          100,
          1000,
          2500,
          3996
         ],
         "xaxis": "x",
         "y": [
          0.3653420470117002,
          0.5940761041425108,
          0.6943185411615895,
          0.7335300938125856,
          0.7460735743649204,
          0.7497628333509012,
          0.3806261199536207,
          0.6072520290924422,
          0.6707072836513123,
          0.6980078001475704,
          0.72499209444503,
          0.7381680193949616,
          0.4162538210182355,
          0.6080952882892379,
          0.6637503952777485,
          0.6941077263623906,
          0.7045430589227364,
          0.7185622430694635,
          0.3511120480657742,
          0.5346263307684199,
          0.6051438811004533,
          0.6580583956993781,
          0.6710235058501107,
          0.6875724675872247,
          0.4176241172130283,
          0.6446716559502477,
          0.6767155054284811,
          0.7126594286918941,
          0.7253083166438284,
          0.7295246126278064,
          0.3877938231263835,
          0.5860651417729524,
          0.6349741751870981,
          0.6553178033097924,
          0.3691367133972805,
          0.5490671445135449,
          0.6319173605987141,
          0.6256983240223464,
          0.3563824180457468,
          0.5279856645936545,
          0.6162116580583957,
          0.692104985770001,
          0.6995889111415622,
          0.7242542426478339,
          0.3622852324233161,
          0.5328344049752293,
          0.5855381047749552,
          0.6059871402972489
         ],
         "yaxis": "y"
        }
       ],
       "layout": {
        "autosize": false,
        "font": {
         "size": 20
        },
        "height": 600,
        "legend": {
         "title": {
          "text": "Is Slavic"
         },
         "tracegroupgap": 0
        },
        "template": {
         "data": {
          "bar": [
           {
            "error_x": {
             "color": "#2a3f5f"
            },
            "error_y": {
             "color": "#2a3f5f"
            },
            "marker": {
             "line": {
              "color": "#E5ECF6",
              "width": 0.5
             },
             "pattern": {
              "fillmode": "overlay",
              "size": 10,
              "solidity": 0.2
             }
            },
            "type": "bar"
           }
          ],
          "barpolar": [
           {
            "marker": {
             "line": {
              "color": "#E5ECF6",
              "width": 0.5
             },
             "pattern": {
              "fillmode": "overlay",
              "size": 10,
              "solidity": 0.2
             }
            },
            "type": "barpolar"
           }
          ],
          "carpet": [
           {
            "aaxis": {
             "endlinecolor": "#2a3f5f",
             "gridcolor": "white",
             "linecolor": "white",
             "minorgridcolor": "white",
             "startlinecolor": "#2a3f5f"
            },
            "baxis": {
             "endlinecolor": "#2a3f5f",
             "gridcolor": "white",
             "linecolor": "white",
             "minorgridcolor": "white",
             "startlinecolor": "#2a3f5f"
            },
            "type": "carpet"
           }
          ],
          "choropleth": [
           {
            "colorbar": {
             "outlinewidth": 0,
             "ticks": ""
            },
            "type": "choropleth"
           }
          ],
          "contour": [
           {
            "colorbar": {
             "outlinewidth": 0,
             "ticks": ""
            },
            "colorscale": [
             [
              0,
              "#0d0887"
             ],
             [
              0.1111111111111111,
              "#46039f"
             ],
             [
              0.2222222222222222,
              "#7201a8"
             ],
             [
              0.3333333333333333,
              "#9c179e"
             ],
             [
              0.4444444444444444,
              "#bd3786"
             ],
             [
              0.5555555555555556,
              "#d8576b"
             ],
             [
              0.6666666666666666,
              "#ed7953"
             ],
             [
              0.7777777777777778,
              "#fb9f3a"
             ],
             [
              0.8888888888888888,
              "#fdca26"
             ],
             [
              1,
              "#f0f921"
             ]
            ],
            "type": "contour"
           }
          ],
          "contourcarpet": [
           {
            "colorbar": {
             "outlinewidth": 0,
             "ticks": ""
            },
            "type": "contourcarpet"
           }
          ],
          "heatmap": [
           {
            "colorbar": {
             "outlinewidth": 0,
             "ticks": ""
            },
            "colorscale": [
             [
              0,
              "#0d0887"
             ],
             [
              0.1111111111111111,
              "#46039f"
             ],
             [
              0.2222222222222222,
              "#7201a8"
             ],
             [
              0.3333333333333333,
              "#9c179e"
             ],
             [
              0.4444444444444444,
              "#bd3786"
             ],
             [
              0.5555555555555556,
              "#d8576b"
             ],
             [
              0.6666666666666666,
              "#ed7953"
             ],
             [
              0.7777777777777778,
              "#fb9f3a"
             ],
             [
              0.8888888888888888,
              "#fdca26"
             ],
             [
              1,
              "#f0f921"
             ]
            ],
            "type": "heatmap"
           }
          ],
          "heatmapgl": [
           {
            "colorbar": {
             "outlinewidth": 0,
             "ticks": ""
            },
            "colorscale": [
             [
              0,
              "#0d0887"
             ],
             [
              0.1111111111111111,
              "#46039f"
             ],
             [
              0.2222222222222222,
              "#7201a8"
             ],
             [
              0.3333333333333333,
              "#9c179e"
             ],
             [
              0.4444444444444444,
              "#bd3786"
             ],
             [
              0.5555555555555556,
              "#d8576b"
             ],
             [
              0.6666666666666666,
              "#ed7953"
             ],
             [
              0.7777777777777778,
              "#fb9f3a"
             ],
             [
              0.8888888888888888,
              "#fdca26"
             ],
             [
              1,
              "#f0f921"
             ]
            ],
            "type": "heatmapgl"
           }
          ],
          "histogram": [
           {
            "marker": {
             "pattern": {
              "fillmode": "overlay",
              "size": 10,
              "solidity": 0.2
             }
            },
            "type": "histogram"
           }
          ],
          "histogram2d": [
           {
            "colorbar": {
             "outlinewidth": 0,
             "ticks": ""
            },
            "colorscale": [
             [
              0,
              "#0d0887"
             ],
             [
              0.1111111111111111,
              "#46039f"
             ],
             [
              0.2222222222222222,
              "#7201a8"
             ],
             [
              0.3333333333333333,
              "#9c179e"
             ],
             [
              0.4444444444444444,
              "#bd3786"
             ],
             [
              0.5555555555555556,
              "#d8576b"
             ],
             [
              0.6666666666666666,
              "#ed7953"
             ],
             [
              0.7777777777777778,
              "#fb9f3a"
             ],
             [
              0.8888888888888888,
              "#fdca26"
             ],
             [
              1,
              "#f0f921"
             ]
            ],
            "type": "histogram2d"
           }
          ],
          "histogram2dcontour": [
           {
            "colorbar": {
             "outlinewidth": 0,
             "ticks": ""
            },
            "colorscale": [
             [
              0,
              "#0d0887"
             ],
             [
              0.1111111111111111,
              "#46039f"
             ],
             [
              0.2222222222222222,
              "#7201a8"
             ],
             [
              0.3333333333333333,
              "#9c179e"
             ],
             [
              0.4444444444444444,
              "#bd3786"
             ],
             [
              0.5555555555555556,
              "#d8576b"
             ],
             [
              0.6666666666666666,
              "#ed7953"
             ],
             [
              0.7777777777777778,
              "#fb9f3a"
             ],
             [
              0.8888888888888888,
              "#fdca26"
             ],
             [
              1,
              "#f0f921"
             ]
            ],
            "type": "histogram2dcontour"
           }
          ],
          "mesh3d": [
           {
            "colorbar": {
             "outlinewidth": 0,
             "ticks": ""
            },
            "type": "mesh3d"
           }
          ],
          "parcoords": [
           {
            "line": {
             "colorbar": {
              "outlinewidth": 0,
              "ticks": ""
             }
            },
            "type": "parcoords"
           }
          ],
          "pie": [
           {
            "automargin": true,
            "type": "pie"
           }
          ],
          "scatter": [
           {
            "fillpattern": {
             "fillmode": "overlay",
             "size": 10,
             "solidity": 0.2
            },
            "type": "scatter"
           }
          ],
          "scatter3d": [
           {
            "line": {
             "colorbar": {
              "outlinewidth": 0,
              "ticks": ""
             }
            },
            "marker": {
             "colorbar": {
              "outlinewidth": 0,
              "ticks": ""
             }
            },
            "type": "scatter3d"
           }
          ],
          "scattercarpet": [
           {
            "marker": {
             "colorbar": {
              "outlinewidth": 0,
              "ticks": ""
             }
            },
            "type": "scattercarpet"
           }
          ],
          "scattergeo": [
           {
            "marker": {
             "colorbar": {
              "outlinewidth": 0,
              "ticks": ""
             }
            },
            "type": "scattergeo"
           }
          ],
          "scattergl": [
           {
            "marker": {
             "colorbar": {
              "outlinewidth": 0,
              "ticks": ""
             }
            },
            "type": "scattergl"
           }
          ],
          "scattermapbox": [
           {
            "marker": {
             "colorbar": {
              "outlinewidth": 0,
              "ticks": ""
             }
            },
            "type": "scattermapbox"
           }
          ],
          "scatterpolar": [
           {
            "marker": {
             "colorbar": {
              "outlinewidth": 0,
              "ticks": ""
             }
            },
            "type": "scatterpolar"
           }
          ],
          "scatterpolargl": [
           {
            "marker": {
             "colorbar": {
              "outlinewidth": 0,
              "ticks": ""
             }
            },
            "type": "scatterpolargl"
           }
          ],
          "scatterternary": [
           {
            "marker": {
             "colorbar": {
              "outlinewidth": 0,
              "ticks": ""
             }
            },
            "type": "scatterternary"
           }
          ],
          "surface": [
           {
            "colorbar": {
             "outlinewidth": 0,
             "ticks": ""
            },
            "colorscale": [
             [
              0,
              "#0d0887"
             ],
             [
              0.1111111111111111,
              "#46039f"
             ],
             [
              0.2222222222222222,
              "#7201a8"
             ],
             [
              0.3333333333333333,
              "#9c179e"
             ],
             [
              0.4444444444444444,
              "#bd3786"
             ],
             [
              0.5555555555555556,
              "#d8576b"
             ],
             [
              0.6666666666666666,
              "#ed7953"
             ],
             [
              0.7777777777777778,
              "#fb9f3a"
             ],
             [
              0.8888888888888888,
              "#fdca26"
             ],
             [
              1,
              "#f0f921"
             ]
            ],
            "type": "surface"
           }
          ],
          "table": [
           {
            "cells": {
             "fill": {
              "color": "#EBF0F8"
             },
             "line": {
              "color": "white"
             }
            },
            "header": {
             "fill": {
              "color": "#C8D4E3"
             },
             "line": {
              "color": "white"
             }
            },
            "type": "table"
           }
          ]
         },
         "layout": {
          "annotationdefaults": {
           "arrowcolor": "#2a3f5f",
           "arrowhead": 0,
           "arrowwidth": 1
          },
          "autotypenumbers": "strict",
          "coloraxis": {
           "colorbar": {
            "outlinewidth": 0,
            "ticks": ""
           }
          },
          "colorscale": {
           "diverging": [
            [
             0,
             "#8e0152"
            ],
            [
             0.1,
             "#c51b7d"
            ],
            [
             0.2,
             "#de77ae"
            ],
            [
             0.3,
             "#f1b6da"
            ],
            [
             0.4,
             "#fde0ef"
            ],
            [
             0.5,
             "#f7f7f7"
            ],
            [
             0.6,
             "#e6f5d0"
            ],
            [
             0.7,
             "#b8e186"
            ],
            [
             0.8,
             "#7fbc41"
            ],
            [
             0.9,
             "#4d9221"
            ],
            [
             1,
             "#276419"
            ]
           ],
           "sequential": [
            [
             0,
             "#0d0887"
            ],
            [
             0.1111111111111111,
             "#46039f"
            ],
            [
             0.2222222222222222,
             "#7201a8"
            ],
            [
             0.3333333333333333,
             "#9c179e"
            ],
            [
             0.4444444444444444,
             "#bd3786"
            ],
            [
             0.5555555555555556,
             "#d8576b"
            ],
            [
             0.6666666666666666,
             "#ed7953"
            ],
            [
             0.7777777777777778,
             "#fb9f3a"
            ],
            [
             0.8888888888888888,
             "#fdca26"
            ],
            [
             1,
             "#f0f921"
            ]
           ],
           "sequentialminus": [
            [
             0,
             "#0d0887"
            ],
            [
             0.1111111111111111,
             "#46039f"
            ],
            [
             0.2222222222222222,
             "#7201a8"
            ],
            [
             0.3333333333333333,
             "#9c179e"
            ],
            [
             0.4444444444444444,
             "#bd3786"
            ],
            [
             0.5555555555555556,
             "#d8576b"
            ],
            [
             0.6666666666666666,
             "#ed7953"
            ],
            [
             0.7777777777777778,
             "#fb9f3a"
            ],
            [
             0.8888888888888888,
             "#fdca26"
            ],
            [
             1,
             "#f0f921"
            ]
           ]
          },
          "colorway": [
           "#636efa",
           "#EF553B",
           "#00cc96",
           "#ab63fa",
           "#FFA15A",
           "#19d3f3",
           "#FF6692",
           "#B6E880",
           "#FF97FF",
           "#FECB52"
          ],
          "font": {
           "color": "#2a3f5f"
          },
          "geo": {
           "bgcolor": "white",
           "lakecolor": "white",
           "landcolor": "#E5ECF6",
           "showlakes": true,
           "showland": true,
           "subunitcolor": "white"
          },
          "hoverlabel": {
           "align": "left"
          },
          "hovermode": "closest",
          "mapbox": {
           "style": "light"
          },
          "paper_bgcolor": "white",
          "plot_bgcolor": "#E5ECF6",
          "polar": {
           "angularaxis": {
            "gridcolor": "white",
            "linecolor": "white",
            "ticks": ""
           },
           "bgcolor": "#E5ECF6",
           "radialaxis": {
            "gridcolor": "white",
            "linecolor": "white",
            "ticks": ""
           }
          },
          "scene": {
           "xaxis": {
            "backgroundcolor": "#E5ECF6",
            "gridcolor": "white",
            "gridwidth": 2,
            "linecolor": "white",
            "showbackground": true,
            "ticks": "",
            "zerolinecolor": "white"
           },
           "yaxis": {
            "backgroundcolor": "#E5ECF6",
            "gridcolor": "white",
            "gridwidth": 2,
            "linecolor": "white",
            "showbackground": true,
            "ticks": "",
            "zerolinecolor": "white"
           },
           "zaxis": {
            "backgroundcolor": "#E5ECF6",
            "gridcolor": "white",
            "gridwidth": 2,
            "linecolor": "white",
            "showbackground": true,
            "ticks": "",
            "zerolinecolor": "white"
           }
          },
          "shapedefaults": {
           "line": {
            "color": "#2a3f5f"
           }
          },
          "ternary": {
           "aaxis": {
            "gridcolor": "white",
            "linecolor": "white",
            "ticks": ""
           },
           "baxis": {
            "gridcolor": "white",
            "linecolor": "white",
            "ticks": ""
           },
           "bgcolor": "#E5ECF6",
           "caxis": {
            "gridcolor": "white",
            "linecolor": "white",
            "ticks": ""
           }
          },
          "title": {
           "x": 0.05
          },
          "xaxis": {
           "automargin": true,
           "gridcolor": "white",
           "linecolor": "white",
           "ticks": "",
           "title": {
            "standoff": 15
           },
           "zerolinecolor": "white",
           "zerolinewidth": 2
          },
          "yaxis": {
           "automargin": true,
           "gridcolor": "white",
           "linecolor": "white",
           "ticks": "",
           "title": {
            "standoff": 15
           },
           "zerolinecolor": "white",
           "zerolinewidth": 2
          }
         }
        },
        "title": {
         "text": "Ukrainian"
        },
        "width": 800,
        "xaxis": {
         "anchor": "y",
         "domain": [
          0,
          1
         ],
         "title": {
          "text": "# train sentences"
         }
        },
        "yaxis": {
         "anchor": "x",
         "domain": [
          0,
          1
         ],
         "range": [
          0,
          1
         ],
         "title": {
          "text": "UUAS"
         }
        }
       }
      }
     },
     "metadata": {},
     "output_type": "display_data"
    }
   ],
   "source": [
    "for test in avg_df.test.unique():\n",
    "    df_loc = avg_df[(avg_df.test == test) & (avg_df.limit <= 10000)]\n",
    "    fig = px.scatter(data_frame=df_loc, x=\"limit\", y=\"uuas\", color=\"slavic\", hover_data=[\"train\"], labels={\"limit\": \"# train sentences\", \"uuas\": \"UUAS\", \"slavic\": \"Is Slavic\"}, title=f\"{full_name[test]}\")\n",
    "    fig.update_layout(\n",
    "        autosize=False,\n",
    "        width=800,\n",
    "        height=600,\n",
    "        yaxis_range=[0, 1],\n",
    "        font={\"size\":20}\n",
    "    )\n",
    "    fig.show()"
   ]
  },
  {
   "cell_type": "code",
   "execution_count": 17,
   "metadata": {},
   "outputs": [
    {
     "data": {
      "application/vnd.plotly.v1+json": {
       "config": {
        "plotlyServerURL": "https://plot.ly"
       },
       "data": [
        {
         "hovertemplate": "train=be<br>limit=%{x}<br>uuas=%{y}<extra></extra>",
         "legendgroup": "be",
         "line": {
          "color": "#636efa",
          "dash": "solid"
         },
         "marker": {
          "symbol": "circle"
         },
         "mode": "markers+lines",
         "name": "be",
         "orientation": "v",
         "showlegend": true,
         "type": "scatter",
         "x": [
          100,
          1000,
          2500,
          5000,
          7500,
          10000
         ],
         "xaxis": "x",
         "y": [
          0.4005276360176455,
          0.6383963324971889,
          0.7098434391488626,
          0.7572441830291498,
          0.7792578496669837,
          0.7869561456621399
         ],
         "yaxis": "y"
        },
        {
         "hovertemplate": "train=cs<br>limit=%{x}<br>uuas=%{y}<extra></extra>",
         "legendgroup": "cs",
         "line": {
          "color": "#EF553B",
          "dash": "solid"
         },
         "marker": {
          "symbol": "circle"
         },
         "mode": "markers+lines",
         "name": "cs",
         "orientation": "v",
         "showlegend": true,
         "type": "scatter",
         "x": [
          100,
          1000,
          2500,
          5000,
          7500,
          10000
         ],
         "xaxis": "x",
         "y": [
          0.41229132427990656,
          0.6208805466655134,
          0.7030533690857192,
          0.7227315976126634,
          0.7386904247037454,
          0.7485944122480754
         ],
         "yaxis": "y"
        },
        {
         "hovertemplate": "train=de<br>limit=%{x}<br>uuas=%{y}<extra></extra>",
         "legendgroup": "de",
         "line": {
          "color": "#00cc96",
          "dash": "solid"
         },
         "marker": {
          "symbol": "circle"
         },
         "mode": "markers+lines",
         "name": "de",
         "orientation": "v",
         "showlegend": true,
         "type": "scatter",
         "x": [
          100,
          1000,
          2500,
          5000,
          7500,
          10000
         ],
         "xaxis": "x",
         "y": [
          0.3955540178185278,
          0.5981748983651933,
          0.6835048871204913,
          0.7155090390104663,
          0.7290891791367529,
          0.7312948706859268
         ],
         "yaxis": "y"
        },
        {
         "hovertemplate": "train=en<br>limit=%{x}<br>uuas=%{y}<extra></extra>",
         "legendgroup": "en",
         "line": {
          "color": "#ab63fa",
          "dash": "solid"
         },
         "marker": {
          "symbol": "circle"
         },
         "mode": "markers+lines",
         "name": "en",
         "orientation": "v",
         "showlegend": true,
         "type": "scatter",
         "x": [
          100,
          1000,
          2500,
          5000,
          7500,
          10000
         ],
         "xaxis": "x",
         "y": [
          0.39667848802006744,
          0.6146094628492345,
          0.6558688694749589,
          0.6710492171957443,
          0.6987717325490874,
          0.703961595017732
         ],
         "yaxis": "y"
        },
        {
         "hovertemplate": "train=es<br>limit=%{x}<br>uuas=%{y}<extra></extra>",
         "legendgroup": "es",
         "line": {
          "color": "#FFA15A",
          "dash": "solid"
         },
         "marker": {
          "symbol": "circle"
         },
         "mode": "markers+lines",
         "name": "es",
         "orientation": "v",
         "showlegend": true,
         "type": "scatter",
         "x": [
          100,
          1000,
          2500,
          5000,
          7500,
          10000
         ],
         "xaxis": "x",
         "y": [
          0.43516996799584806,
          0.6028457745869734,
          0.652625205432056,
          0.6739036415534989,
          0.6851915924228008,
          0.6976040134936424
         ],
         "yaxis": "y"
        },
        {
         "hovertemplate": "train=fi<br>limit=%{x}<br>uuas=%{y}<extra></extra>",
         "legendgroup": "fi",
         "line": {
          "color": "#19d3f3",
          "dash": "solid"
         },
         "marker": {
          "symbol": "circle"
         },
         "mode": "markers+lines",
         "name": "fi",
         "orientation": "v",
         "showlegend": true,
         "type": "scatter",
         "x": [
          100,
          1000,
          2500,
          5000,
          7500,
          10000
         ],
         "xaxis": "x",
         "y": [
          0.3739728397197474,
          0.5464060202404637,
          0.5989101288815846,
          0.6418129919557132,
          0.6729521667675806,
          0.6796124902690079
         ],
         "yaxis": "y"
        },
        {
         "hovertemplate": "train=fr<br>limit=%{x}<br>uuas=%{y}<extra></extra>",
         "legendgroup": "fr",
         "line": {
          "color": "#FF6692",
          "dash": "solid"
         },
         "marker": {
          "symbol": "circle"
         },
         "mode": "markers+lines",
         "name": "fr",
         "orientation": "v",
         "showlegend": true,
         "type": "scatter",
         "x": [
          100,
          1000,
          2500,
          5000,
          7500,
          10000
         ],
         "xaxis": "x",
         "y": [
          0.42232505838595275,
          0.6257676671568204,
          0.6710059683418389,
          0.6884352564657037,
          0.7060807888590952,
          0.7096271948793358
         ],
         "yaxis": "y"
        },
        {
         "hovertemplate": "train=id<br>limit=%{x}<br>uuas=%{y}<extra></extra>",
         "legendgroup": "id",
         "line": {
          "color": "#B6E880",
          "dash": "solid"
         },
         "marker": {
          "symbol": "circle"
         },
         "mode": "markers+lines",
         "name": "id",
         "orientation": "v",
         "showlegend": true,
         "type": "scatter",
         "x": [
          100,
          1000,
          2500,
          4481
         ],
         "xaxis": "x",
         "y": [
          0.40887466482138224,
          0.5929417870426434,
          0.6319955021191939,
          0.6457918865150074
         ],
         "yaxis": "y"
        },
        {
         "hovertemplate": "train=lt<br>limit=%{x}<br>uuas=%{y}<extra></extra>",
         "legendgroup": "lt",
         "line": {
          "color": "#FF97FF",
          "dash": "solid"
         },
         "marker": {
          "symbol": "circle"
         },
         "mode": "markers+lines",
         "name": "lt",
         "orientation": "v",
         "showlegend": true,
         "type": "scatter",
         "x": [
          100,
          1000,
          2340,
          2500
         ],
         "xaxis": "x",
         "y": [
          0.40065738257936157,
          0.5659112533517863,
          0.6291410777614392,
          0.6266758930888332
         ],
         "yaxis": "y"
        },
        {
         "hovertemplate": "train=lv<br>limit=%{x}<br>uuas=%{y}<extra></extra>",
         "legendgroup": "lv",
         "line": {
          "color": "#FECB52",
          "dash": "solid"
         },
         "marker": {
          "symbol": "circle"
         },
         "mode": "markers+lines",
         "name": "lv",
         "orientation": "v",
         "showlegend": true,
         "type": "scatter",
         "x": [
          100,
          1000,
          2500,
          5000,
          7500,
          10000
         ],
         "xaxis": "x",
         "y": [
          0.390926390450653,
          0.5516391315630136,
          0.6314765158723294,
          0.6667675806591126,
          0.6869215465790157,
          0.7074647521840671
         ],
         "yaxis": "y"
        },
        {
         "hovertemplate": "train=pl<br>limit=%{x}<br>uuas=%{y}<extra></extra>",
         "legendgroup": "pl",
         "line": {
          "color": "#636efa",
          "dash": "solid"
         },
         "marker": {
          "symbol": "circle"
         },
         "mode": "markers+lines",
         "name": "pl",
         "orientation": "v",
         "showlegend": true,
         "type": "scatter",
         "x": [
          100,
          1000,
          2500,
          5000,
          7500,
          10000
         ],
         "xaxis": "x",
         "y": [
          0.39797595363722854,
          0.549476688867745,
          0.6740766369691202,
          0.7241588097915406,
          0.7538275235706253,
          0.7603148516564311
         ],
         "yaxis": "y"
        },
        {
         "hovertemplate": "train=ru<br>limit=%{x}<br>uuas=%{y}<extra></extra>",
         "legendgroup": "ru",
         "line": {
          "color": "#EF553B",
          "dash": "solid"
         },
         "marker": {
          "symbol": "circle"
         },
         "mode": "markers+lines",
         "name": "ru",
         "orientation": "v",
         "showlegend": true,
         "type": "scatter",
         "x": [
          100,
          1000,
          2500,
          5000,
          7500,
          10000
         ],
         "xaxis": "x",
         "y": [
          0.37630827783063747,
          0.6128795086930197,
          0.7104056742496324,
          0.7418475910388375,
          0.7638180088227662,
          0.768791627021884
         ],
         "yaxis": "y"
        },
        {
         "hovertemplate": "train=slk<br>limit=%{x}<br>uuas=%{y}<extra></extra>",
         "legendgroup": "slk",
         "line": {
          "color": "#00cc96",
          "dash": "solid"
         },
         "marker": {
          "symbol": "circle"
         },
         "mode": "markers+lines",
         "name": "slk",
         "orientation": "v",
         "showlegend": true,
         "type": "scatter",
         "x": [
          100,
          1000,
          2500,
          5000,
          7500,
          8482
         ],
         "xaxis": "x",
         "y": [
          0.39360781939278605,
          0.6302222991090736,
          0.6855808321079492,
          0.713389845169103,
          0.715249545887034,
          0.7215206297033129
         ],
         "yaxis": "y"
        },
        {
         "hovertemplate": "train=slv<br>limit=%{x}<br>uuas=%{y}<extra></extra>",
         "legendgroup": "slv",
         "line": {
          "color": "#ab63fa",
          "dash": "solid"
         },
         "marker": {
          "symbol": "circle"
         },
         "mode": "markers+lines",
         "name": "slv",
         "orientation": "v",
         "showlegend": true,
         "type": "scatter",
         "x": [
          100,
          1000,
          2500,
          5000,
          7500,
          10000
         ],
         "xaxis": "x",
         "y": [
          0.40948014877605743,
          0.6346336822074214,
          0.6883487587578929,
          0.7183634633682208,
          0.7399013926130957,
          0.7525733068073696
         ],
         "yaxis": "y"
        },
        {
         "hovertemplate": "train=uk<br>limit=%{x}<br>uuas=%{y}<extra></extra>",
         "legendgroup": "uk",
         "line": {
          "color": "#FFA15A",
          "dash": "solid"
         },
         "marker": {
          "symbol": "circle"
         },
         "mode": "markers+lines",
         "name": "uk",
         "orientation": "v",
         "showlegend": true,
         "type": "scatter",
         "x": [
          100,
          1000,
          2500,
          5000,
          5495
         ],
         "xaxis": "x",
         "y": [
          0.40351180693711614,
          0.639001816451864,
          0.711400397889456,
          0.7554277311651241,
          0.7543032609635845
         ],
         "yaxis": "y"
        },
        {
         "hovertemplate": "train=zh<br>limit=%{x}<br>uuas=%{y}<extra></extra>",
         "legendgroup": "zh",
         "line": {
          "color": "#19d3f3",
          "dash": "solid"
         },
         "marker": {
          "symbol": "circle"
         },
         "mode": "markers+lines",
         "name": "zh",
         "orientation": "v",
         "showlegend": true,
         "type": "scatter",
         "x": [
          100,
          1000,
          2500,
          3996
         ],
         "xaxis": "x",
         "y": [
          0.39987890320906494,
          0.5369777700890926,
          0.583470288037367,
          0.6028457745869735
         ],
         "yaxis": "y"
        }
       ],
       "layout": {
        "legend": {
         "title": {
          "text": "train"
         },
         "tracegroupgap": 0
        },
        "template": {
         "data": {
          "bar": [
           {
            "error_x": {
             "color": "#2a3f5f"
            },
            "error_y": {
             "color": "#2a3f5f"
            },
            "marker": {
             "line": {
              "color": "#E5ECF6",
              "width": 0.5
             },
             "pattern": {
              "fillmode": "overlay",
              "size": 10,
              "solidity": 0.2
             }
            },
            "type": "bar"
           }
          ],
          "barpolar": [
           {
            "marker": {
             "line": {
              "color": "#E5ECF6",
              "width": 0.5
             },
             "pattern": {
              "fillmode": "overlay",
              "size": 10,
              "solidity": 0.2
             }
            },
            "type": "barpolar"
           }
          ],
          "carpet": [
           {
            "aaxis": {
             "endlinecolor": "#2a3f5f",
             "gridcolor": "white",
             "linecolor": "white",
             "minorgridcolor": "white",
             "startlinecolor": "#2a3f5f"
            },
            "baxis": {
             "endlinecolor": "#2a3f5f",
             "gridcolor": "white",
             "linecolor": "white",
             "minorgridcolor": "white",
             "startlinecolor": "#2a3f5f"
            },
            "type": "carpet"
           }
          ],
          "choropleth": [
           {
            "colorbar": {
             "outlinewidth": 0,
             "ticks": ""
            },
            "type": "choropleth"
           }
          ],
          "contour": [
           {
            "colorbar": {
             "outlinewidth": 0,
             "ticks": ""
            },
            "colorscale": [
             [
              0,
              "#0d0887"
             ],
             [
              0.1111111111111111,
              "#46039f"
             ],
             [
              0.2222222222222222,
              "#7201a8"
             ],
             [
              0.3333333333333333,
              "#9c179e"
             ],
             [
              0.4444444444444444,
              "#bd3786"
             ],
             [
              0.5555555555555556,
              "#d8576b"
             ],
             [
              0.6666666666666666,
              "#ed7953"
             ],
             [
              0.7777777777777778,
              "#fb9f3a"
             ],
             [
              0.8888888888888888,
              "#fdca26"
             ],
             [
              1,
              "#f0f921"
             ]
            ],
            "type": "contour"
           }
          ],
          "contourcarpet": [
           {
            "colorbar": {
             "outlinewidth": 0,
             "ticks": ""
            },
            "type": "contourcarpet"
           }
          ],
          "heatmap": [
           {
            "colorbar": {
             "outlinewidth": 0,
             "ticks": ""
            },
            "colorscale": [
             [
              0,
              "#0d0887"
             ],
             [
              0.1111111111111111,
              "#46039f"
             ],
             [
              0.2222222222222222,
              "#7201a8"
             ],
             [
              0.3333333333333333,
              "#9c179e"
             ],
             [
              0.4444444444444444,
              "#bd3786"
             ],
             [
              0.5555555555555556,
              "#d8576b"
             ],
             [
              0.6666666666666666,
              "#ed7953"
             ],
             [
              0.7777777777777778,
              "#fb9f3a"
             ],
             [
              0.8888888888888888,
              "#fdca26"
             ],
             [
              1,
              "#f0f921"
             ]
            ],
            "type": "heatmap"
           }
          ],
          "heatmapgl": [
           {
            "colorbar": {
             "outlinewidth": 0,
             "ticks": ""
            },
            "colorscale": [
             [
              0,
              "#0d0887"
             ],
             [
              0.1111111111111111,
              "#46039f"
             ],
             [
              0.2222222222222222,
              "#7201a8"
             ],
             [
              0.3333333333333333,
              "#9c179e"
             ],
             [
              0.4444444444444444,
              "#bd3786"
             ],
             [
              0.5555555555555556,
              "#d8576b"
             ],
             [
              0.6666666666666666,
              "#ed7953"
             ],
             [
              0.7777777777777778,
              "#fb9f3a"
             ],
             [
              0.8888888888888888,
              "#fdca26"
             ],
             [
              1,
              "#f0f921"
             ]
            ],
            "type": "heatmapgl"
           }
          ],
          "histogram": [
           {
            "marker": {
             "pattern": {
              "fillmode": "overlay",
              "size": 10,
              "solidity": 0.2
             }
            },
            "type": "histogram"
           }
          ],
          "histogram2d": [
           {
            "colorbar": {
             "outlinewidth": 0,
             "ticks": ""
            },
            "colorscale": [
             [
              0,
              "#0d0887"
             ],
             [
              0.1111111111111111,
              "#46039f"
             ],
             [
              0.2222222222222222,
              "#7201a8"
             ],
             [
              0.3333333333333333,
              "#9c179e"
             ],
             [
              0.4444444444444444,
              "#bd3786"
             ],
             [
              0.5555555555555556,
              "#d8576b"
             ],
             [
              0.6666666666666666,
              "#ed7953"
             ],
             [
              0.7777777777777778,
              "#fb9f3a"
             ],
             [
              0.8888888888888888,
              "#fdca26"
             ],
             [
              1,
              "#f0f921"
             ]
            ],
            "type": "histogram2d"
           }
          ],
          "histogram2dcontour": [
           {
            "colorbar": {
             "outlinewidth": 0,
             "ticks": ""
            },
            "colorscale": [
             [
              0,
              "#0d0887"
             ],
             [
              0.1111111111111111,
              "#46039f"
             ],
             [
              0.2222222222222222,
              "#7201a8"
             ],
             [
              0.3333333333333333,
              "#9c179e"
             ],
             [
              0.4444444444444444,
              "#bd3786"
             ],
             [
              0.5555555555555556,
              "#d8576b"
             ],
             [
              0.6666666666666666,
              "#ed7953"
             ],
             [
              0.7777777777777778,
              "#fb9f3a"
             ],
             [
              0.8888888888888888,
              "#fdca26"
             ],
             [
              1,
              "#f0f921"
             ]
            ],
            "type": "histogram2dcontour"
           }
          ],
          "mesh3d": [
           {
            "colorbar": {
             "outlinewidth": 0,
             "ticks": ""
            },
            "type": "mesh3d"
           }
          ],
          "parcoords": [
           {
            "line": {
             "colorbar": {
              "outlinewidth": 0,
              "ticks": ""
             }
            },
            "type": "parcoords"
           }
          ],
          "pie": [
           {
            "automargin": true,
            "type": "pie"
           }
          ],
          "scatter": [
           {
            "fillpattern": {
             "fillmode": "overlay",
             "size": 10,
             "solidity": 0.2
            },
            "type": "scatter"
           }
          ],
          "scatter3d": [
           {
            "line": {
             "colorbar": {
              "outlinewidth": 0,
              "ticks": ""
             }
            },
            "marker": {
             "colorbar": {
              "outlinewidth": 0,
              "ticks": ""
             }
            },
            "type": "scatter3d"
           }
          ],
          "scattercarpet": [
           {
            "marker": {
             "colorbar": {
              "outlinewidth": 0,
              "ticks": ""
             }
            },
            "type": "scattercarpet"
           }
          ],
          "scattergeo": [
           {
            "marker": {
             "colorbar": {
              "outlinewidth": 0,
              "ticks": ""
             }
            },
            "type": "scattergeo"
           }
          ],
          "scattergl": [
           {
            "marker": {
             "colorbar": {
              "outlinewidth": 0,
              "ticks": ""
             }
            },
            "type": "scattergl"
           }
          ],
          "scattermapbox": [
           {
            "marker": {
             "colorbar": {
              "outlinewidth": 0,
              "ticks": ""
             }
            },
            "type": "scattermapbox"
           }
          ],
          "scatterpolar": [
           {
            "marker": {
             "colorbar": {
              "outlinewidth": 0,
              "ticks": ""
             }
            },
            "type": "scatterpolar"
           }
          ],
          "scatterpolargl": [
           {
            "marker": {
             "colorbar": {
              "outlinewidth": 0,
              "ticks": ""
             }
            },
            "type": "scatterpolargl"
           }
          ],
          "scatterternary": [
           {
            "marker": {
             "colorbar": {
              "outlinewidth": 0,
              "ticks": ""
             }
            },
            "type": "scatterternary"
           }
          ],
          "surface": [
           {
            "colorbar": {
             "outlinewidth": 0,
             "ticks": ""
            },
            "colorscale": [
             [
              0,
              "#0d0887"
             ],
             [
              0.1111111111111111,
              "#46039f"
             ],
             [
              0.2222222222222222,
              "#7201a8"
             ],
             [
              0.3333333333333333,
              "#9c179e"
             ],
             [
              0.4444444444444444,
              "#bd3786"
             ],
             [
              0.5555555555555556,
              "#d8576b"
             ],
             [
              0.6666666666666666,
              "#ed7953"
             ],
             [
              0.7777777777777778,
              "#fb9f3a"
             ],
             [
              0.8888888888888888,
              "#fdca26"
             ],
             [
              1,
              "#f0f921"
             ]
            ],
            "type": "surface"
           }
          ],
          "table": [
           {
            "cells": {
             "fill": {
              "color": "#EBF0F8"
             },
             "line": {
              "color": "white"
             }
            },
            "header": {
             "fill": {
              "color": "#C8D4E3"
             },
             "line": {
              "color": "white"
             }
            },
            "type": "table"
           }
          ]
         },
         "layout": {
          "annotationdefaults": {
           "arrowcolor": "#2a3f5f",
           "arrowhead": 0,
           "arrowwidth": 1
          },
          "autotypenumbers": "strict",
          "coloraxis": {
           "colorbar": {
            "outlinewidth": 0,
            "ticks": ""
           }
          },
          "colorscale": {
           "diverging": [
            [
             0,
             "#8e0152"
            ],
            [
             0.1,
             "#c51b7d"
            ],
            [
             0.2,
             "#de77ae"
            ],
            [
             0.3,
             "#f1b6da"
            ],
            [
             0.4,
             "#fde0ef"
            ],
            [
             0.5,
             "#f7f7f7"
            ],
            [
             0.6,
             "#e6f5d0"
            ],
            [
             0.7,
             "#b8e186"
            ],
            [
             0.8,
             "#7fbc41"
            ],
            [
             0.9,
             "#4d9221"
            ],
            [
             1,
             "#276419"
            ]
           ],
           "sequential": [
            [
             0,
             "#0d0887"
            ],
            [
             0.1111111111111111,
             "#46039f"
            ],
            [
             0.2222222222222222,
             "#7201a8"
            ],
            [
             0.3333333333333333,
             "#9c179e"
            ],
            [
             0.4444444444444444,
             "#bd3786"
            ],
            [
             0.5555555555555556,
             "#d8576b"
            ],
            [
             0.6666666666666666,
             "#ed7953"
            ],
            [
             0.7777777777777778,
             "#fb9f3a"
            ],
            [
             0.8888888888888888,
             "#fdca26"
            ],
            [
             1,
             "#f0f921"
            ]
           ],
           "sequentialminus": [
            [
             0,
             "#0d0887"
            ],
            [
             0.1111111111111111,
             "#46039f"
            ],
            [
             0.2222222222222222,
             "#7201a8"
            ],
            [
             0.3333333333333333,
             "#9c179e"
            ],
            [
             0.4444444444444444,
             "#bd3786"
            ],
            [
             0.5555555555555556,
             "#d8576b"
            ],
            [
             0.6666666666666666,
             "#ed7953"
            ],
            [
             0.7777777777777778,
             "#fb9f3a"
            ],
            [
             0.8888888888888888,
             "#fdca26"
            ],
            [
             1,
             "#f0f921"
            ]
           ]
          },
          "colorway": [
           "#636efa",
           "#EF553B",
           "#00cc96",
           "#ab63fa",
           "#FFA15A",
           "#19d3f3",
           "#FF6692",
           "#B6E880",
           "#FF97FF",
           "#FECB52"
          ],
          "font": {
           "color": "#2a3f5f"
          },
          "geo": {
           "bgcolor": "white",
           "lakecolor": "white",
           "landcolor": "#E5ECF6",
           "showlakes": true,
           "showland": true,
           "subunitcolor": "white"
          },
          "hoverlabel": {
           "align": "left"
          },
          "hovermode": "closest",
          "mapbox": {
           "style": "light"
          },
          "paper_bgcolor": "white",
          "plot_bgcolor": "#E5ECF6",
          "polar": {
           "angularaxis": {
            "gridcolor": "white",
            "linecolor": "white",
            "ticks": ""
           },
           "bgcolor": "#E5ECF6",
           "radialaxis": {
            "gridcolor": "white",
            "linecolor": "white",
            "ticks": ""
           }
          },
          "scene": {
           "xaxis": {
            "backgroundcolor": "#E5ECF6",
            "gridcolor": "white",
            "gridwidth": 2,
            "linecolor": "white",
            "showbackground": true,
            "ticks": "",
            "zerolinecolor": "white"
           },
           "yaxis": {
            "backgroundcolor": "#E5ECF6",
            "gridcolor": "white",
            "gridwidth": 2,
            "linecolor": "white",
            "showbackground": true,
            "ticks": "",
            "zerolinecolor": "white"
           },
           "zaxis": {
            "backgroundcolor": "#E5ECF6",
            "gridcolor": "white",
            "gridwidth": 2,
            "linecolor": "white",
            "showbackground": true,
            "ticks": "",
            "zerolinecolor": "white"
           }
          },
          "shapedefaults": {
           "line": {
            "color": "#2a3f5f"
           }
          },
          "ternary": {
           "aaxis": {
            "gridcolor": "white",
            "linecolor": "white",
            "ticks": ""
           },
           "baxis": {
            "gridcolor": "white",
            "linecolor": "white",
            "ticks": ""
           },
           "bgcolor": "#E5ECF6",
           "caxis": {
            "gridcolor": "white",
            "linecolor": "white",
            "ticks": ""
           }
          },
          "title": {
           "x": 0.05
          },
          "xaxis": {
           "automargin": true,
           "gridcolor": "white",
           "linecolor": "white",
           "ticks": "",
           "title": {
            "standoff": 15
           },
           "zerolinecolor": "white",
           "zerolinewidth": 2
          },
          "yaxis": {
           "automargin": true,
           "gridcolor": "white",
           "linecolor": "white",
           "ticks": "",
           "title": {
            "standoff": 15
           },
           "zerolinecolor": "white",
           "zerolinewidth": 2
          }
         }
        },
        "title": {
         "text": "Belarussian"
        },
        "xaxis": {
         "anchor": "y",
         "domain": [
          0,
          1
         ],
         "title": {
          "text": "limit"
         }
        },
        "yaxis": {
         "anchor": "x",
         "domain": [
          0,
          1
         ],
         "title": {
          "text": "uuas"
         }
        }
       }
      }
     },
     "metadata": {},
     "output_type": "display_data"
    },
    {
     "data": {
      "application/vnd.plotly.v1+json": {
       "config": {
        "plotlyServerURL": "https://plot.ly"
       },
       "data": [
        {
         "hovertemplate": "train=be<br>limit=%{x}<br>uuas=%{y}<extra></extra>",
         "legendgroup": "be",
         "line": {
          "color": "#636efa",
          "dash": "solid"
         },
         "marker": {
          "symbol": "circle"
         },
         "mode": "markers+lines",
         "name": "be",
         "orientation": "v",
         "showlegend": true,
         "type": "scatter",
         "x": [
          100,
          1000,
          2500,
          5000,
          7500,
          10000
         ],
         "xaxis": "x",
         "y": [
          0.3605935345439629,
          0.5900359717905432,
          0.669670889670732,
          0.7097565593297888,
          0.7320219932789549,
          0.7401550889039648
         ],
         "yaxis": "y"
        },
        {
         "hovertemplate": "train=cs<br>limit=%{x}<br>uuas=%{y}<extra></extra>",
         "legendgroup": "cs",
         "line": {
          "color": "#EF553B",
          "dash": "solid"
         },
         "marker": {
          "symbol": "circle"
         },
         "mode": "markers+lines",
         "name": "cs",
         "orientation": "v",
         "showlegend": true,
         "type": "scatter",
         "x": [
          100,
          1000,
          2500,
          5000,
          7500,
          10000
         ],
         "xaxis": "x",
         "y": [
          0.364711357935093,
          0.6452637142451445,
          0.7491085937869776,
          0.780568133411167,
          0.796601612419734,
          0.8048412034772732
         ],
         "yaxis": "y"
        },
        {
         "hovertemplate": "train=de<br>limit=%{x}<br>uuas=%{y}<extra></extra>",
         "legendgroup": "de",
         "line": {
          "color": "#00cc96",
          "dash": "solid"
         },
         "marker": {
          "symbol": "circle"
         },
         "mode": "markers+lines",
         "name": "de",
         "orientation": "v",
         "showlegend": true,
         "type": "scatter",
         "x": [
          100,
          1000,
          2500,
          5000,
          7500,
          10000
         ],
         "xaxis": "x",
         "y": [
          0.3546416231481627,
          0.5835831374343279,
          0.6944843254500418,
          0.7227647791994699,
          0.7376189198996577,
          0.7423914929870785
         ],
         "yaxis": "y"
        },
        {
         "hovertemplate": "train=en<br>limit=%{x}<br>uuas=%{y}<extra></extra>",
         "legendgroup": "en",
         "line": {
          "color": "#ab63fa",
          "dash": "solid"
         },
         "marker": {
          "symbol": "circle"
         },
         "mode": "markers+lines",
         "name": "en",
         "orientation": "v",
         "showlegend": true,
         "type": "scatter",
         "x": [
          100,
          1000,
          2500,
          5000,
          7500,
          10000
         ],
         "xaxis": "x",
         "y": [
          0.35313885426691694,
          0.5840722275689065,
          0.6573371408737358,
          0.6842962624047457,
          0.7062579871574397,
          0.7137954972153417
         ],
         "yaxis": "y"
        },
        {
         "hovertemplate": "train=es<br>limit=%{x}<br>uuas=%{y}<extra></extra>",
         "legendgroup": "es",
         "line": {
          "color": "#FFA15A",
          "dash": "solid"
         },
         "marker": {
          "symbol": "circle"
         },
         "mode": "markers+lines",
         "name": "es",
         "orientation": "v",
         "showlegend": true,
         "type": "scatter",
         "x": [
          100,
          1000,
          2500,
          5000,
          7500,
          10000
         ],
         "xaxis": "x",
         "y": [
          0.411877001719704,
          0.5999124370888093,
          0.6558777590205576,
          0.6817324834734866,
          0.6854519350614519,
          0.7022229935471657
         ],
         "yaxis": "y"
        },
        {
         "hovertemplate": "train=fi<br>limit=%{x}<br>uuas=%{y}<extra></extra>",
         "legendgroup": "fi",
         "line": {
          "color": "#19d3f3",
          "dash": "solid"
         },
         "marker": {
          "symbol": "circle"
         },
         "mode": "markers+lines",
         "name": "fi",
         "orientation": "v",
         "showlegend": true,
         "type": "scatter",
         "x": [
          100,
          1000,
          2500,
          5000,
          7500,
          10000
         ],
         "xaxis": "x",
         "y": [
          0.336738557657416,
          0.5243046242683369,
          0.5946862723443195,
          0.6433704621112917,
          0.664815486802455,
          0.6785810075256773
         ],
         "yaxis": "y"
        },
        {
         "hovertemplate": "train=fr<br>limit=%{x}<br>uuas=%{y}<extra></extra>",
         "legendgroup": "fr",
         "line": {
          "color": "#FF6692",
          "dash": "solid"
         },
         "marker": {
          "symbol": "circle"
         },
         "mode": "markers+lines",
         "name": "fr",
         "orientation": "v",
         "showlegend": true,
         "type": "scatter",
         "x": [
          100,
          1000,
          2500,
          5000,
          7500,
          10000
         ],
         "xaxis": "x",
         "y": [
          0.3880456904848303,
          0.6062548317372165,
          0.6671662748686557,
          0.6894869286717259,
          0.7017930675417698,
          0.7095751226669611
         ],
         "yaxis": "y"
        },
        {
         "hovertemplate": "train=id<br>limit=%{x}<br>uuas=%{y}<extra></extra>",
         "legendgroup": "id",
         "line": {
          "color": "#B6E880",
          "dash": "solid"
         },
         "marker": {
          "symbol": "circle"
         },
         "mode": "markers+lines",
         "name": "id",
         "orientation": "v",
         "showlegend": true,
         "type": "scatter",
         "x": [
          100,
          1000,
          2500,
          4481
         ],
         "xaxis": "x",
         "y": [
          0.37097486707792304,
          0.5660035025164476,
          0.6022356152280579,
          0.626567849423347
         ],
         "yaxis": "y"
        },
        {
         "hovertemplate": "train=lt<br>limit=%{x}<br>uuas=%{y}<extra></extra>",
         "legendgroup": "lt",
         "line": {
          "color": "#FF97FF",
          "dash": "solid"
         },
         "marker": {
          "symbol": "circle"
         },
         "mode": "markers+lines",
         "name": "lt",
         "orientation": "v",
         "showlegend": true,
         "type": "scatter",
         "x": [
          100,
          1000,
          2340,
          2500
         ],
         "xaxis": "x",
         "y": [
          0.35553697363646397,
          0.5341613681902087,
          0.6204581670163924,
          0.6172554154899579
         ],
         "yaxis": "y"
        },
        {
         "hovertemplate": "train=lv<br>limit=%{x}<br>uuas=%{y}<extra></extra>",
         "legendgroup": "lv",
         "line": {
          "color": "#FECB52",
          "dash": "solid"
         },
         "marker": {
          "symbol": "circle"
         },
         "mode": "markers+lines",
         "name": "lv",
         "orientation": "v",
         "showlegend": true,
         "type": "scatter",
         "x": [
          100,
          1000,
          2500,
          5000,
          7500,
          10000
         ],
         "xaxis": "x",
         "y": [
          0.3553476484230787,
          0.5426415600397583,
          0.6145062556205922,
          0.6646103844879542,
          0.6913289052269536,
          0.7085101683416689
         ],
         "yaxis": "y"
        },
        {
         "hovertemplate": "train=pl<br>limit=%{x}<br>uuas=%{y}<extra></extra>",
         "legendgroup": "pl",
         "line": {
          "color": "#636efa",
          "dash": "solid"
         },
         "marker": {
          "symbol": "circle"
         },
         "mode": "markers+lines",
         "name": "pl",
         "orientation": "v",
         "showlegend": true,
         "type": "scatter",
         "x": [
          100,
          1000,
          2500,
          5000,
          7500,
          10000
         ],
         "xaxis": "x",
         "y": [
          0.35608917217550445,
          0.5012266696117256,
          0.670968556237477,
          0.7322270955934557,
          0.7582159254058659,
          0.7706246154331603
         ],
         "yaxis": "y"
        },
        {
         "hovertemplate": "train=ru<br>limit=%{x}<br>uuas=%{y}<extra></extra>",
         "legendgroup": "ru",
         "line": {
          "color": "#EF553B",
          "dash": "solid"
         },
         "marker": {
          "symbol": "circle"
         },
         "mode": "markers+lines",
         "name": "ru",
         "orientation": "v",
         "showlegend": true,
         "type": "scatter",
         "x": [
          100,
          1000,
          2500,
          5000,
          7500,
          10000
         ],
         "xaxis": "x",
         "y": [
          0.35520565451303976,
          0.5840525061925121,
          0.702353154631368,
          0.7417919631446919,
          0.7590166132874746,
          0.7683882113500465
         ],
         "yaxis": "y"
        },
        {
         "hovertemplate": "train=slk<br>limit=%{x}<br>uuas=%{y}<extra></extra>",
         "legendgroup": "slk",
         "line": {
          "color": "#00cc96",
          "dash": "solid"
         },
         "marker": {
          "symbol": "circle"
         },
         "mode": "markers+lines",
         "name": "slk",
         "orientation": "v",
         "showlegend": true,
         "type": "scatter",
         "x": [
          100,
          1000,
          2500,
          5000,
          7500,
          8482
         ],
         "xaxis": "x",
         "y": [
          0.34853982929176586,
          0.6389410409731315,
          0.7075438208983481,
          0.7415631951785179,
          0.7594938705962166,
          0.7594110408153606
         ],
         "yaxis": "y"
        },
        {
         "hovertemplate": "train=slv<br>limit=%{x}<br>uuas=%{y}<extra></extra>",
         "legendgroup": "slv",
         "line": {
          "color": "#ab63fa",
          "dash": "solid"
         },
         "marker": {
          "symbol": "circle"
         },
         "mode": "markers+lines",
         "name": "slv",
         "orientation": "v",
         "showlegend": true,
         "type": "scatter",
         "x": [
          100,
          1000,
          2500,
          5000,
          7500,
          10000
         ],
         "xaxis": "x",
         "y": [
          0.38196361800482775,
          0.6327840272628307,
          0.7120955145701529,
          0.7434327816606976,
          0.7632448763864128,
          0.7705023428995157
         ],
         "yaxis": "y"
        },
        {
         "hovertemplate": "train=uk<br>limit=%{x}<br>uuas=%{y}<extra></extra>",
         "legendgroup": "uk",
         "line": {
          "color": "#FFA15A",
          "dash": "solid"
         },
         "marker": {
          "symbol": "circle"
         },
         "mode": "markers+lines",
         "name": "uk",
         "orientation": "v",
         "showlegend": true,
         "type": "scatter",
         "x": [
          100,
          1000,
          2500,
          5000,
          5495
         ],
         "xaxis": "x",
         "y": [
          0.36846236372528907,
          0.6042314185191613,
          0.6924214694791979,
          0.7439731473739015,
          0.7468209141252387
         ],
         "yaxis": "y"
        },
        {
         "hovertemplate": "train=zh<br>limit=%{x}<br>uuas=%{y}<extra></extra>",
         "legendgroup": "zh",
         "line": {
          "color": "#19d3f3",
          "dash": "solid"
         },
         "marker": {
          "symbol": "circle"
         },
         "mode": "markers+lines",
         "name": "zh",
         "orientation": "v",
         "showlegend": true,
         "type": "scatter",
         "x": [
          100,
          1000,
          2500,
          3996
         ],
         "xaxis": "x",
         "y": [
          0.36250256377893125,
          0.513296151965038,
          0.5513662969565972,
          0.5852594544278434
         ],
         "yaxis": "y"
        }
       ],
       "layout": {
        "legend": {
         "title": {
          "text": "train"
         },
         "tracegroupgap": 0
        },
        "template": {
         "data": {
          "bar": [
           {
            "error_x": {
             "color": "#2a3f5f"
            },
            "error_y": {
             "color": "#2a3f5f"
            },
            "marker": {
             "line": {
              "color": "#E5ECF6",
              "width": 0.5
             },
             "pattern": {
              "fillmode": "overlay",
              "size": 10,
              "solidity": 0.2
             }
            },
            "type": "bar"
           }
          ],
          "barpolar": [
           {
            "marker": {
             "line": {
              "color": "#E5ECF6",
              "width": 0.5
             },
             "pattern": {
              "fillmode": "overlay",
              "size": 10,
              "solidity": 0.2
             }
            },
            "type": "barpolar"
           }
          ],
          "carpet": [
           {
            "aaxis": {
             "endlinecolor": "#2a3f5f",
             "gridcolor": "white",
             "linecolor": "white",
             "minorgridcolor": "white",
             "startlinecolor": "#2a3f5f"
            },
            "baxis": {
             "endlinecolor": "#2a3f5f",
             "gridcolor": "white",
             "linecolor": "white",
             "minorgridcolor": "white",
             "startlinecolor": "#2a3f5f"
            },
            "type": "carpet"
           }
          ],
          "choropleth": [
           {
            "colorbar": {
             "outlinewidth": 0,
             "ticks": ""
            },
            "type": "choropleth"
           }
          ],
          "contour": [
           {
            "colorbar": {
             "outlinewidth": 0,
             "ticks": ""
            },
            "colorscale": [
             [
              0,
              "#0d0887"
             ],
             [
              0.1111111111111111,
              "#46039f"
             ],
             [
              0.2222222222222222,
              "#7201a8"
             ],
             [
              0.3333333333333333,
              "#9c179e"
             ],
             [
              0.4444444444444444,
              "#bd3786"
             ],
             [
              0.5555555555555556,
              "#d8576b"
             ],
             [
              0.6666666666666666,
              "#ed7953"
             ],
             [
              0.7777777777777778,
              "#fb9f3a"
             ],
             [
              0.8888888888888888,
              "#fdca26"
             ],
             [
              1,
              "#f0f921"
             ]
            ],
            "type": "contour"
           }
          ],
          "contourcarpet": [
           {
            "colorbar": {
             "outlinewidth": 0,
             "ticks": ""
            },
            "type": "contourcarpet"
           }
          ],
          "heatmap": [
           {
            "colorbar": {
             "outlinewidth": 0,
             "ticks": ""
            },
            "colorscale": [
             [
              0,
              "#0d0887"
             ],
             [
              0.1111111111111111,
              "#46039f"
             ],
             [
              0.2222222222222222,
              "#7201a8"
             ],
             [
              0.3333333333333333,
              "#9c179e"
             ],
             [
              0.4444444444444444,
              "#bd3786"
             ],
             [
              0.5555555555555556,
              "#d8576b"
             ],
             [
              0.6666666666666666,
              "#ed7953"
             ],
             [
              0.7777777777777778,
              "#fb9f3a"
             ],
             [
              0.8888888888888888,
              "#fdca26"
             ],
             [
              1,
              "#f0f921"
             ]
            ],
            "type": "heatmap"
           }
          ],
          "heatmapgl": [
           {
            "colorbar": {
             "outlinewidth": 0,
             "ticks": ""
            },
            "colorscale": [
             [
              0,
              "#0d0887"
             ],
             [
              0.1111111111111111,
              "#46039f"
             ],
             [
              0.2222222222222222,
              "#7201a8"
             ],
             [
              0.3333333333333333,
              "#9c179e"
             ],
             [
              0.4444444444444444,
              "#bd3786"
             ],
             [
              0.5555555555555556,
              "#d8576b"
             ],
             [
              0.6666666666666666,
              "#ed7953"
             ],
             [
              0.7777777777777778,
              "#fb9f3a"
             ],
             [
              0.8888888888888888,
              "#fdca26"
             ],
             [
              1,
              "#f0f921"
             ]
            ],
            "type": "heatmapgl"
           }
          ],
          "histogram": [
           {
            "marker": {
             "pattern": {
              "fillmode": "overlay",
              "size": 10,
              "solidity": 0.2
             }
            },
            "type": "histogram"
           }
          ],
          "histogram2d": [
           {
            "colorbar": {
             "outlinewidth": 0,
             "ticks": ""
            },
            "colorscale": [
             [
              0,
              "#0d0887"
             ],
             [
              0.1111111111111111,
              "#46039f"
             ],
             [
              0.2222222222222222,
              "#7201a8"
             ],
             [
              0.3333333333333333,
              "#9c179e"
             ],
             [
              0.4444444444444444,
              "#bd3786"
             ],
             [
              0.5555555555555556,
              "#d8576b"
             ],
             [
              0.6666666666666666,
              "#ed7953"
             ],
             [
              0.7777777777777778,
              "#fb9f3a"
             ],
             [
              0.8888888888888888,
              "#fdca26"
             ],
             [
              1,
              "#f0f921"
             ]
            ],
            "type": "histogram2d"
           }
          ],
          "histogram2dcontour": [
           {
            "colorbar": {
             "outlinewidth": 0,
             "ticks": ""
            },
            "colorscale": [
             [
              0,
              "#0d0887"
             ],
             [
              0.1111111111111111,
              "#46039f"
             ],
             [
              0.2222222222222222,
              "#7201a8"
             ],
             [
              0.3333333333333333,
              "#9c179e"
             ],
             [
              0.4444444444444444,
              "#bd3786"
             ],
             [
              0.5555555555555556,
              "#d8576b"
             ],
             [
              0.6666666666666666,
              "#ed7953"
             ],
             [
              0.7777777777777778,
              "#fb9f3a"
             ],
             [
              0.8888888888888888,
              "#fdca26"
             ],
             [
              1,
              "#f0f921"
             ]
            ],
            "type": "histogram2dcontour"
           }
          ],
          "mesh3d": [
           {
            "colorbar": {
             "outlinewidth": 0,
             "ticks": ""
            },
            "type": "mesh3d"
           }
          ],
          "parcoords": [
           {
            "line": {
             "colorbar": {
              "outlinewidth": 0,
              "ticks": ""
             }
            },
            "type": "parcoords"
           }
          ],
          "pie": [
           {
            "automargin": true,
            "type": "pie"
           }
          ],
          "scatter": [
           {
            "fillpattern": {
             "fillmode": "overlay",
             "size": 10,
             "solidity": 0.2
            },
            "type": "scatter"
           }
          ],
          "scatter3d": [
           {
            "line": {
             "colorbar": {
              "outlinewidth": 0,
              "ticks": ""
             }
            },
            "marker": {
             "colorbar": {
              "outlinewidth": 0,
              "ticks": ""
             }
            },
            "type": "scatter3d"
           }
          ],
          "scattercarpet": [
           {
            "marker": {
             "colorbar": {
              "outlinewidth": 0,
              "ticks": ""
             }
            },
            "type": "scattercarpet"
           }
          ],
          "scattergeo": [
           {
            "marker": {
             "colorbar": {
              "outlinewidth": 0,
              "ticks": ""
             }
            },
            "type": "scattergeo"
           }
          ],
          "scattergl": [
           {
            "marker": {
             "colorbar": {
              "outlinewidth": 0,
              "ticks": ""
             }
            },
            "type": "scattergl"
           }
          ],
          "scattermapbox": [
           {
            "marker": {
             "colorbar": {
              "outlinewidth": 0,
              "ticks": ""
             }
            },
            "type": "scattermapbox"
           }
          ],
          "scatterpolar": [
           {
            "marker": {
             "colorbar": {
              "outlinewidth": 0,
              "ticks": ""
             }
            },
            "type": "scatterpolar"
           }
          ],
          "scatterpolargl": [
           {
            "marker": {
             "colorbar": {
              "outlinewidth": 0,
              "ticks": ""
             }
            },
            "type": "scatterpolargl"
           }
          ],
          "scatterternary": [
           {
            "marker": {
             "colorbar": {
              "outlinewidth": 0,
              "ticks": ""
             }
            },
            "type": "scatterternary"
           }
          ],
          "surface": [
           {
            "colorbar": {
             "outlinewidth": 0,
             "ticks": ""
            },
            "colorscale": [
             [
              0,
              "#0d0887"
             ],
             [
              0.1111111111111111,
              "#46039f"
             ],
             [
              0.2222222222222222,
              "#7201a8"
             ],
             [
              0.3333333333333333,
              "#9c179e"
             ],
             [
              0.4444444444444444,
              "#bd3786"
             ],
             [
              0.5555555555555556,
              "#d8576b"
             ],
             [
              0.6666666666666666,
              "#ed7953"
             ],
             [
              0.7777777777777778,
              "#fb9f3a"
             ],
             [
              0.8888888888888888,
              "#fdca26"
             ],
             [
              1,
              "#f0f921"
             ]
            ],
            "type": "surface"
           }
          ],
          "table": [
           {
            "cells": {
             "fill": {
              "color": "#EBF0F8"
             },
             "line": {
              "color": "white"
             }
            },
            "header": {
             "fill": {
              "color": "#C8D4E3"
             },
             "line": {
              "color": "white"
             }
            },
            "type": "table"
           }
          ]
         },
         "layout": {
          "annotationdefaults": {
           "arrowcolor": "#2a3f5f",
           "arrowhead": 0,
           "arrowwidth": 1
          },
          "autotypenumbers": "strict",
          "coloraxis": {
           "colorbar": {
            "outlinewidth": 0,
            "ticks": ""
           }
          },
          "colorscale": {
           "diverging": [
            [
             0,
             "#8e0152"
            ],
            [
             0.1,
             "#c51b7d"
            ],
            [
             0.2,
             "#de77ae"
            ],
            [
             0.3,
             "#f1b6da"
            ],
            [
             0.4,
             "#fde0ef"
            ],
            [
             0.5,
             "#f7f7f7"
            ],
            [
             0.6,
             "#e6f5d0"
            ],
            [
             0.7,
             "#b8e186"
            ],
            [
             0.8,
             "#7fbc41"
            ],
            [
             0.9,
             "#4d9221"
            ],
            [
             1,
             "#276419"
            ]
           ],
           "sequential": [
            [
             0,
             "#0d0887"
            ],
            [
             0.1111111111111111,
             "#46039f"
            ],
            [
             0.2222222222222222,
             "#7201a8"
            ],
            [
             0.3333333333333333,
             "#9c179e"
            ],
            [
             0.4444444444444444,
             "#bd3786"
            ],
            [
             0.5555555555555556,
             "#d8576b"
            ],
            [
             0.6666666666666666,
             "#ed7953"
            ],
            [
             0.7777777777777778,
             "#fb9f3a"
            ],
            [
             0.8888888888888888,
             "#fdca26"
            ],
            [
             1,
             "#f0f921"
            ]
           ],
           "sequentialminus": [
            [
             0,
             "#0d0887"
            ],
            [
             0.1111111111111111,
             "#46039f"
            ],
            [
             0.2222222222222222,
             "#7201a8"
            ],
            [
             0.3333333333333333,
             "#9c179e"
            ],
            [
             0.4444444444444444,
             "#bd3786"
            ],
            [
             0.5555555555555556,
             "#d8576b"
            ],
            [
             0.6666666666666666,
             "#ed7953"
            ],
            [
             0.7777777777777778,
             "#fb9f3a"
            ],
            [
             0.8888888888888888,
             "#fdca26"
            ],
            [
             1,
             "#f0f921"
            ]
           ]
          },
          "colorway": [
           "#636efa",
           "#EF553B",
           "#00cc96",
           "#ab63fa",
           "#FFA15A",
           "#19d3f3",
           "#FF6692",
           "#B6E880",
           "#FF97FF",
           "#FECB52"
          ],
          "font": {
           "color": "#2a3f5f"
          },
          "geo": {
           "bgcolor": "white",
           "lakecolor": "white",
           "landcolor": "#E5ECF6",
           "showlakes": true,
           "showland": true,
           "subunitcolor": "white"
          },
          "hoverlabel": {
           "align": "left"
          },
          "hovermode": "closest",
          "mapbox": {
           "style": "light"
          },
          "paper_bgcolor": "white",
          "plot_bgcolor": "#E5ECF6",
          "polar": {
           "angularaxis": {
            "gridcolor": "white",
            "linecolor": "white",
            "ticks": ""
           },
           "bgcolor": "#E5ECF6",
           "radialaxis": {
            "gridcolor": "white",
            "linecolor": "white",
            "ticks": ""
           }
          },
          "scene": {
           "xaxis": {
            "backgroundcolor": "#E5ECF6",
            "gridcolor": "white",
            "gridwidth": 2,
            "linecolor": "white",
            "showbackground": true,
            "ticks": "",
            "zerolinecolor": "white"
           },
           "yaxis": {
            "backgroundcolor": "#E5ECF6",
            "gridcolor": "white",
            "gridwidth": 2,
            "linecolor": "white",
            "showbackground": true,
            "ticks": "",
            "zerolinecolor": "white"
           },
           "zaxis": {
            "backgroundcolor": "#E5ECF6",
            "gridcolor": "white",
            "gridwidth": 2,
            "linecolor": "white",
            "showbackground": true,
            "ticks": "",
            "zerolinecolor": "white"
           }
          },
          "shapedefaults": {
           "line": {
            "color": "#2a3f5f"
           }
          },
          "ternary": {
           "aaxis": {
            "gridcolor": "white",
            "linecolor": "white",
            "ticks": ""
           },
           "baxis": {
            "gridcolor": "white",
            "linecolor": "white",
            "ticks": ""
           },
           "bgcolor": "#E5ECF6",
           "caxis": {
            "gridcolor": "white",
            "linecolor": "white",
            "ticks": ""
           }
          },
          "title": {
           "x": 0.05
          },
          "xaxis": {
           "automargin": true,
           "gridcolor": "white",
           "linecolor": "white",
           "ticks": "",
           "title": {
            "standoff": 15
           },
           "zerolinecolor": "white",
           "zerolinewidth": 2
          },
          "yaxis": {
           "automargin": true,
           "gridcolor": "white",
           "linecolor": "white",
           "ticks": "",
           "title": {
            "standoff": 15
           },
           "zerolinecolor": "white",
           "zerolinewidth": 2
          }
         }
        },
        "title": {
         "text": "Czech"
        },
        "xaxis": {
         "anchor": "y",
         "domain": [
          0,
          1
         ],
         "title": {
          "text": "limit"
         }
        },
        "yaxis": {
         "anchor": "x",
         "domain": [
          0,
          1
         ],
         "title": {
          "text": "uuas"
         }
        }
       }
      }
     },
     "metadata": {},
     "output_type": "display_data"
    },
    {
     "data": {
      "application/vnd.plotly.v1+json": {
       "config": {
        "plotlyServerURL": "https://plot.ly"
       },
       "data": [
        {
         "hovertemplate": "train=be<br>limit=%{x}<br>uuas=%{y}<extra></extra>",
         "legendgroup": "be",
         "line": {
          "color": "#636efa",
          "dash": "solid"
         },
         "marker": {
          "symbol": "circle"
         },
         "mode": "markers+lines",
         "name": "be",
         "orientation": "v",
         "showlegend": true,
         "type": "scatter",
         "x": [
          100,
          1000,
          2500,
          5000,
          7500,
          10000
         ],
         "xaxis": "x",
         "y": [
          0.3778999471019421,
          0.6113693040126955,
          0.6941547646036423,
          0.730862238343535,
          0.7533816972719716,
          0.764414720773823
         ],
         "yaxis": "y"
        },
        {
         "hovertemplate": "train=cs<br>limit=%{x}<br>uuas=%{y}<extra></extra>",
         "legendgroup": "cs",
         "line": {
          "color": "#EF553B",
          "dash": "solid"
         },
         "marker": {
          "symbol": "circle"
         },
         "mode": "markers+lines",
         "name": "cs",
         "orientation": "v",
         "showlegend": true,
         "type": "scatter",
         "x": [
          100,
          1000,
          2500,
          5000,
          7500,
          10000
         ],
         "xaxis": "x",
         "y": [
          0.3981334542431799,
          0.6275787803219225,
          0.7265926093856269,
          0.7591249149852641,
          0.7770535781757727,
          0.7821166780019648
         ],
         "yaxis": "y"
        },
        {
         "hovertemplate": "train=de<br>limit=%{x}<br>uuas=%{y}<extra></extra>",
         "legendgroup": "de",
         "line": {
          "color": "#00cc96",
          "dash": "solid"
         },
         "marker": {
          "symbol": "circle"
         },
         "mode": "markers+lines",
         "name": "de",
         "orientation": "v",
         "showlegend": true,
         "type": "scatter",
         "x": [
          100,
          1000,
          2500,
          5000,
          7500,
          10000
         ],
         "xaxis": "x",
         "y": [
          0.38356759616111236,
          0.5968601224212197,
          0.7140104284742689,
          0.7448991158467468,
          0.7513413436106703,
          0.7615053275901156
         ],
         "yaxis": "y"
        },
        {
         "hovertemplate": "train=en<br>limit=%{x}<br>uuas=%{y}<extra></extra>",
         "legendgroup": "en",
         "line": {
          "color": "#ab63fa",
          "dash": "solid"
         },
         "marker": {
          "symbol": "circle"
         },
         "mode": "markers+lines",
         "name": "en",
         "orientation": "v",
         "showlegend": true,
         "type": "scatter",
         "x": [
          100,
          1000,
          2500,
          5000,
          7500,
          10000
         ],
         "xaxis": "x",
         "y": [
          0.39261694249225415,
          0.6287878787878788,
          0.677831935313232,
          0.7064724552255724,
          0.7307866696894129,
          0.7378901231769062
         ],
         "yaxis": "y"
        },
        {
         "hovertemplate": "train=es<br>limit=%{x}<br>uuas=%{y}<extra></extra>",
         "legendgroup": "es",
         "line": {
          "color": "#FFA15A",
          "dash": "solid"
         },
         "marker": {
          "symbol": "circle"
         },
         "mode": "markers+lines",
         "name": "es",
         "orientation": "v",
         "showlegend": true,
         "type": "scatter",
         "x": [
          100,
          1000,
          2500,
          5000,
          7500,
          10000
         ],
         "xaxis": "x",
         "y": [
          0.4369946346255573,
          0.6339076551046625,
          0.7023539635759086,
          0.7193946950804806,
          0.7280095216504194,
          0.7405161339076551
         ],
         "yaxis": "y"
        },
        {
         "hovertemplate": "train=fi<br>limit=%{x}<br>uuas=%{y}<extra></extra>",
         "legendgroup": "fi",
         "line": {
          "color": "#19d3f3",
          "dash": "solid"
         },
         "marker": {
          "symbol": "circle"
         },
         "mode": "markers+lines",
         "name": "fi",
         "orientation": "v",
         "showlegend": true,
         "type": "scatter",
         "x": [
          100,
          1000,
          2500,
          5000,
          7500,
          10000
         ],
         "xaxis": "x",
         "y": [
          0.3614259805032872,
          0.5496674979218621,
          0.6176792866319051,
          0.6640973324265095,
          0.6790221416156579,
          0.6920388422882189
         ],
         "yaxis": "y"
        },
        {
         "hovertemplate": "train=fr<br>limit=%{x}<br>uuas=%{y}<extra></extra>",
         "legendgroup": "fr",
         "line": {
          "color": "#FF6692",
          "dash": "solid"
         },
         "marker": {
          "symbol": "circle"
         },
         "mode": "markers+lines",
         "name": "fr",
         "orientation": "v",
         "showlegend": true,
         "type": "scatter",
         "x": [
          100,
          1000,
          2500,
          5000,
          7500,
          10000
         ],
         "xaxis": "x",
         "y": [
          0.41789465729615355,
          0.641577873498073,
          0.70705811229502,
          0.7313723267588604,
          0.7430665759842817,
          0.7510957454847729
         ],
         "yaxis": "y"
        },
        {
         "hovertemplate": "train=id<br>limit=%{x}<br>uuas=%{y}<extra></extra>",
         "legendgroup": "id",
         "line": {
          "color": "#B6E880",
          "dash": "solid"
         },
         "marker": {
          "symbol": "circle"
         },
         "mode": "markers+lines",
         "name": "id",
         "orientation": "v",
         "showlegend": true,
         "type": "scatter",
         "x": [
          100,
          1000,
          2500,
          4481
         ],
         "xaxis": "x",
         "y": [
          0.39709438524899865,
          0.6040580367263659,
          0.6428058641275599,
          0.6781342099297212
         ],
         "yaxis": "y"
        },
        {
         "hovertemplate": "train=lt<br>limit=%{x}<br>uuas=%{y}<extra></extra>",
         "legendgroup": "lt",
         "line": {
          "color": "#FF97FF",
          "dash": "solid"
         },
         "marker": {
          "symbol": "circle"
         },
         "mode": "markers+lines",
         "name": "lt",
         "orientation": "v",
         "showlegend": true,
         "type": "scatter",
         "x": [
          100,
          1000,
          2340,
          2500
         ],
         "xaxis": "x",
         "y": [
          0.38730824454016477,
          0.567974004382982,
          0.6150532759011562,
          0.6160923448953374
         ],
         "yaxis": "y"
        },
        {
         "hovertemplate": "train=lv<br>limit=%{x}<br>uuas=%{y}<extra></extra>",
         "legendgroup": "lv",
         "line": {
          "color": "#FECB52",
          "dash": "solid"
         },
         "marker": {
          "symbol": "circle"
         },
         "mode": "markers+lines",
         "name": "lv",
         "orientation": "v",
         "showlegend": true,
         "type": "scatter",
         "x": [
          100,
          1000,
          2500,
          5000,
          7500,
          10000
         ],
         "xaxis": "x",
         "y": [
          0.37538728935237664,
          0.5566575984281721,
          0.6370059699236756,
          0.6865223305372932,
          0.709287387591627,
          0.7281228746316029
         ],
         "yaxis": "y"
        },
        {
         "hovertemplate": "train=pl<br>limit=%{x}<br>uuas=%{y}<extra></extra>",
         "legendgroup": "pl",
         "line": {
          "color": "#636efa",
          "dash": "solid"
         },
         "marker": {
          "symbol": "circle"
         },
         "mode": "markers+lines",
         "name": "pl",
         "orientation": "v",
         "showlegend": true,
         "type": "scatter",
         "x": [
          100,
          1000,
          2500,
          5000,
          7500,
          10000
         ],
         "xaxis": "x",
         "y": [
          0.38356759616111236,
          0.5854870399758181,
          0.7450880374820524,
          0.8022557243255497,
          0.8224136628126653,
          0.8320108818861935
         ],
         "yaxis": "y"
        },
        {
         "hovertemplate": "train=ru<br>limit=%{x}<br>uuas=%{y}<extra></extra>",
         "legendgroup": "ru",
         "line": {
          "color": "#EF553B",
          "dash": "solid"
         },
         "marker": {
          "symbol": "circle"
         },
         "mode": "markers+lines",
         "name": "ru",
         "orientation": "v",
         "showlegend": true,
         "type": "scatter",
         "x": [
          100,
          1000,
          2500,
          5000,
          7500,
          10000
         ],
         "xaxis": "x",
         "y": [
          0.37136325852036567,
          0.611652686465654,
          0.7338283080178343,
          0.7713292526260107,
          0.7824756291090456,
          0.7885211214388272
         ],
         "yaxis": "y"
        },
        {
         "hovertemplate": "train=slk<br>limit=%{x}<br>uuas=%{y}<extra></extra>",
         "legendgroup": "slk",
         "line": {
          "color": "#00cc96",
          "dash": "solid"
         },
         "marker": {
          "symbol": "circle"
         },
         "mode": "markers+lines",
         "name": "slk",
         "orientation": "v",
         "showlegend": true,
         "type": "scatter",
         "x": [
          100,
          1000,
          2500,
          5000,
          7500,
          8482
         ],
         "xaxis": "x",
         "y": [
          0.3784667120078591,
          0.6439393939393939,
          0.7128957908259654,
          0.743878939016096,
          0.765113730824454,
          0.7635267890878863
         ],
         "yaxis": "y"
        },
        {
         "hovertemplate": "train=slv<br>limit=%{x}<br>uuas=%{y}<extra></extra>",
         "legendgroup": "slv",
         "line": {
          "color": "#ab63fa",
          "dash": "solid"
         },
         "marker": {
          "symbol": "circle"
         },
         "mode": "markers+lines",
         "name": "slv",
         "orientation": "v",
         "showlegend": true,
         "type": "scatter",
         "x": [
          100,
          1000,
          2500,
          5000,
          7500,
          10000
         ],
         "xaxis": "x",
         "y": [
          0.40614373158014055,
          0.642975893599335,
          0.7186390085392579,
          0.7571034534874934,
          0.7766757349051614,
          0.7858006498904255
         ],
         "yaxis": "y"
        },
        {
         "hovertemplate": "train=uk<br>limit=%{x}<br>uuas=%{y}<extra></extra>",
         "legendgroup": "uk",
         "line": {
          "color": "#FFA15A",
          "dash": "solid"
         },
         "marker": {
          "symbol": "circle"
         },
         "mode": "markers+lines",
         "name": "uk",
         "orientation": "v",
         "showlegend": true,
         "type": "scatter",
         "x": [
          100,
          1000,
          2500,
          5000,
          5495
         ],
         "xaxis": "x",
         "y": [
          0.39526184538653364,
          0.6312438600468526,
          0.7312022972870853,
          0.7745409204262073,
          0.7735207435955566
         ],
         "yaxis": "y"
        },
        {
         "hovertemplate": "train=zh<br>limit=%{x}<br>uuas=%{y}<extra></extra>",
         "legendgroup": "zh",
         "line": {
          "color": "#19d3f3",
          "dash": "solid"
         },
         "marker": {
          "symbol": "circle"
         },
         "mode": "markers+lines",
         "name": "zh",
         "orientation": "v",
         "showlegend": true,
         "type": "scatter",
         "x": [
          100,
          1000,
          2500,
          3996
         ],
         "xaxis": "x",
         "y": [
          0.37924129071261237,
          0.5293395299629714,
          0.5644978462933575,
          0.6082143127030908
         ],
         "yaxis": "y"
        }
       ],
       "layout": {
        "legend": {
         "title": {
          "text": "train"
         },
         "tracegroupgap": 0
        },
        "template": {
         "data": {
          "bar": [
           {
            "error_x": {
             "color": "#2a3f5f"
            },
            "error_y": {
             "color": "#2a3f5f"
            },
            "marker": {
             "line": {
              "color": "#E5ECF6",
              "width": 0.5
             },
             "pattern": {
              "fillmode": "overlay",
              "size": 10,
              "solidity": 0.2
             }
            },
            "type": "bar"
           }
          ],
          "barpolar": [
           {
            "marker": {
             "line": {
              "color": "#E5ECF6",
              "width": 0.5
             },
             "pattern": {
              "fillmode": "overlay",
              "size": 10,
              "solidity": 0.2
             }
            },
            "type": "barpolar"
           }
          ],
          "carpet": [
           {
            "aaxis": {
             "endlinecolor": "#2a3f5f",
             "gridcolor": "white",
             "linecolor": "white",
             "minorgridcolor": "white",
             "startlinecolor": "#2a3f5f"
            },
            "baxis": {
             "endlinecolor": "#2a3f5f",
             "gridcolor": "white",
             "linecolor": "white",
             "minorgridcolor": "white",
             "startlinecolor": "#2a3f5f"
            },
            "type": "carpet"
           }
          ],
          "choropleth": [
           {
            "colorbar": {
             "outlinewidth": 0,
             "ticks": ""
            },
            "type": "choropleth"
           }
          ],
          "contour": [
           {
            "colorbar": {
             "outlinewidth": 0,
             "ticks": ""
            },
            "colorscale": [
             [
              0,
              "#0d0887"
             ],
             [
              0.1111111111111111,
              "#46039f"
             ],
             [
              0.2222222222222222,
              "#7201a8"
             ],
             [
              0.3333333333333333,
              "#9c179e"
             ],
             [
              0.4444444444444444,
              "#bd3786"
             ],
             [
              0.5555555555555556,
              "#d8576b"
             ],
             [
              0.6666666666666666,
              "#ed7953"
             ],
             [
              0.7777777777777778,
              "#fb9f3a"
             ],
             [
              0.8888888888888888,
              "#fdca26"
             ],
             [
              1,
              "#f0f921"
             ]
            ],
            "type": "contour"
           }
          ],
          "contourcarpet": [
           {
            "colorbar": {
             "outlinewidth": 0,
             "ticks": ""
            },
            "type": "contourcarpet"
           }
          ],
          "heatmap": [
           {
            "colorbar": {
             "outlinewidth": 0,
             "ticks": ""
            },
            "colorscale": [
             [
              0,
              "#0d0887"
             ],
             [
              0.1111111111111111,
              "#46039f"
             ],
             [
              0.2222222222222222,
              "#7201a8"
             ],
             [
              0.3333333333333333,
              "#9c179e"
             ],
             [
              0.4444444444444444,
              "#bd3786"
             ],
             [
              0.5555555555555556,
              "#d8576b"
             ],
             [
              0.6666666666666666,
              "#ed7953"
             ],
             [
              0.7777777777777778,
              "#fb9f3a"
             ],
             [
              0.8888888888888888,
              "#fdca26"
             ],
             [
              1,
              "#f0f921"
             ]
            ],
            "type": "heatmap"
           }
          ],
          "heatmapgl": [
           {
            "colorbar": {
             "outlinewidth": 0,
             "ticks": ""
            },
            "colorscale": [
             [
              0,
              "#0d0887"
             ],
             [
              0.1111111111111111,
              "#46039f"
             ],
             [
              0.2222222222222222,
              "#7201a8"
             ],
             [
              0.3333333333333333,
              "#9c179e"
             ],
             [
              0.4444444444444444,
              "#bd3786"
             ],
             [
              0.5555555555555556,
              "#d8576b"
             ],
             [
              0.6666666666666666,
              "#ed7953"
             ],
             [
              0.7777777777777778,
              "#fb9f3a"
             ],
             [
              0.8888888888888888,
              "#fdca26"
             ],
             [
              1,
              "#f0f921"
             ]
            ],
            "type": "heatmapgl"
           }
          ],
          "histogram": [
           {
            "marker": {
             "pattern": {
              "fillmode": "overlay",
              "size": 10,
              "solidity": 0.2
             }
            },
            "type": "histogram"
           }
          ],
          "histogram2d": [
           {
            "colorbar": {
             "outlinewidth": 0,
             "ticks": ""
            },
            "colorscale": [
             [
              0,
              "#0d0887"
             ],
             [
              0.1111111111111111,
              "#46039f"
             ],
             [
              0.2222222222222222,
              "#7201a8"
             ],
             [
              0.3333333333333333,
              "#9c179e"
             ],
             [
              0.4444444444444444,
              "#bd3786"
             ],
             [
              0.5555555555555556,
              "#d8576b"
             ],
             [
              0.6666666666666666,
              "#ed7953"
             ],
             [
              0.7777777777777778,
              "#fb9f3a"
             ],
             [
              0.8888888888888888,
              "#fdca26"
             ],
             [
              1,
              "#f0f921"
             ]
            ],
            "type": "histogram2d"
           }
          ],
          "histogram2dcontour": [
           {
            "colorbar": {
             "outlinewidth": 0,
             "ticks": ""
            },
            "colorscale": [
             [
              0,
              "#0d0887"
             ],
             [
              0.1111111111111111,
              "#46039f"
             ],
             [
              0.2222222222222222,
              "#7201a8"
             ],
             [
              0.3333333333333333,
              "#9c179e"
             ],
             [
              0.4444444444444444,
              "#bd3786"
             ],
             [
              0.5555555555555556,
              "#d8576b"
             ],
             [
              0.6666666666666666,
              "#ed7953"
             ],
             [
              0.7777777777777778,
              "#fb9f3a"
             ],
             [
              0.8888888888888888,
              "#fdca26"
             ],
             [
              1,
              "#f0f921"
             ]
            ],
            "type": "histogram2dcontour"
           }
          ],
          "mesh3d": [
           {
            "colorbar": {
             "outlinewidth": 0,
             "ticks": ""
            },
            "type": "mesh3d"
           }
          ],
          "parcoords": [
           {
            "line": {
             "colorbar": {
              "outlinewidth": 0,
              "ticks": ""
             }
            },
            "type": "parcoords"
           }
          ],
          "pie": [
           {
            "automargin": true,
            "type": "pie"
           }
          ],
          "scatter": [
           {
            "fillpattern": {
             "fillmode": "overlay",
             "size": 10,
             "solidity": 0.2
            },
            "type": "scatter"
           }
          ],
          "scatter3d": [
           {
            "line": {
             "colorbar": {
              "outlinewidth": 0,
              "ticks": ""
             }
            },
            "marker": {
             "colorbar": {
              "outlinewidth": 0,
              "ticks": ""
             }
            },
            "type": "scatter3d"
           }
          ],
          "scattercarpet": [
           {
            "marker": {
             "colorbar": {
              "outlinewidth": 0,
              "ticks": ""
             }
            },
            "type": "scattercarpet"
           }
          ],
          "scattergeo": [
           {
            "marker": {
             "colorbar": {
              "outlinewidth": 0,
              "ticks": ""
             }
            },
            "type": "scattergeo"
           }
          ],
          "scattergl": [
           {
            "marker": {
             "colorbar": {
              "outlinewidth": 0,
              "ticks": ""
             }
            },
            "type": "scattergl"
           }
          ],
          "scattermapbox": [
           {
            "marker": {
             "colorbar": {
              "outlinewidth": 0,
              "ticks": ""
             }
            },
            "type": "scattermapbox"
           }
          ],
          "scatterpolar": [
           {
            "marker": {
             "colorbar": {
              "outlinewidth": 0,
              "ticks": ""
             }
            },
            "type": "scatterpolar"
           }
          ],
          "scatterpolargl": [
           {
            "marker": {
             "colorbar": {
              "outlinewidth": 0,
              "ticks": ""
             }
            },
            "type": "scatterpolargl"
           }
          ],
          "scatterternary": [
           {
            "marker": {
             "colorbar": {
              "outlinewidth": 0,
              "ticks": ""
             }
            },
            "type": "scatterternary"
           }
          ],
          "surface": [
           {
            "colorbar": {
             "outlinewidth": 0,
             "ticks": ""
            },
            "colorscale": [
             [
              0,
              "#0d0887"
             ],
             [
              0.1111111111111111,
              "#46039f"
             ],
             [
              0.2222222222222222,
              "#7201a8"
             ],
             [
              0.3333333333333333,
              "#9c179e"
             ],
             [
              0.4444444444444444,
              "#bd3786"
             ],
             [
              0.5555555555555556,
              "#d8576b"
             ],
             [
              0.6666666666666666,
              "#ed7953"
             ],
             [
              0.7777777777777778,
              "#fb9f3a"
             ],
             [
              0.8888888888888888,
              "#fdca26"
             ],
             [
              1,
              "#f0f921"
             ]
            ],
            "type": "surface"
           }
          ],
          "table": [
           {
            "cells": {
             "fill": {
              "color": "#EBF0F8"
             },
             "line": {
              "color": "white"
             }
            },
            "header": {
             "fill": {
              "color": "#C8D4E3"
             },
             "line": {
              "color": "white"
             }
            },
            "type": "table"
           }
          ]
         },
         "layout": {
          "annotationdefaults": {
           "arrowcolor": "#2a3f5f",
           "arrowhead": 0,
           "arrowwidth": 1
          },
          "autotypenumbers": "strict",
          "coloraxis": {
           "colorbar": {
            "outlinewidth": 0,
            "ticks": ""
           }
          },
          "colorscale": {
           "diverging": [
            [
             0,
             "#8e0152"
            ],
            [
             0.1,
             "#c51b7d"
            ],
            [
             0.2,
             "#de77ae"
            ],
            [
             0.3,
             "#f1b6da"
            ],
            [
             0.4,
             "#fde0ef"
            ],
            [
             0.5,
             "#f7f7f7"
            ],
            [
             0.6,
             "#e6f5d0"
            ],
            [
             0.7,
             "#b8e186"
            ],
            [
             0.8,
             "#7fbc41"
            ],
            [
             0.9,
             "#4d9221"
            ],
            [
             1,
             "#276419"
            ]
           ],
           "sequential": [
            [
             0,
             "#0d0887"
            ],
            [
             0.1111111111111111,
             "#46039f"
            ],
            [
             0.2222222222222222,
             "#7201a8"
            ],
            [
             0.3333333333333333,
             "#9c179e"
            ],
            [
             0.4444444444444444,
             "#bd3786"
            ],
            [
             0.5555555555555556,
             "#d8576b"
            ],
            [
             0.6666666666666666,
             "#ed7953"
            ],
            [
             0.7777777777777778,
             "#fb9f3a"
            ],
            [
             0.8888888888888888,
             "#fdca26"
            ],
            [
             1,
             "#f0f921"
            ]
           ],
           "sequentialminus": [
            [
             0,
             "#0d0887"
            ],
            [
             0.1111111111111111,
             "#46039f"
            ],
            [
             0.2222222222222222,
             "#7201a8"
            ],
            [
             0.3333333333333333,
             "#9c179e"
            ],
            [
             0.4444444444444444,
             "#bd3786"
            ],
            [
             0.5555555555555556,
             "#d8576b"
            ],
            [
             0.6666666666666666,
             "#ed7953"
            ],
            [
             0.7777777777777778,
             "#fb9f3a"
            ],
            [
             0.8888888888888888,
             "#fdca26"
            ],
            [
             1,
             "#f0f921"
            ]
           ]
          },
          "colorway": [
           "#636efa",
           "#EF553B",
           "#00cc96",
           "#ab63fa",
           "#FFA15A",
           "#19d3f3",
           "#FF6692",
           "#B6E880",
           "#FF97FF",
           "#FECB52"
          ],
          "font": {
           "color": "#2a3f5f"
          },
          "geo": {
           "bgcolor": "white",
           "lakecolor": "white",
           "landcolor": "#E5ECF6",
           "showlakes": true,
           "showland": true,
           "subunitcolor": "white"
          },
          "hoverlabel": {
           "align": "left"
          },
          "hovermode": "closest",
          "mapbox": {
           "style": "light"
          },
          "paper_bgcolor": "white",
          "plot_bgcolor": "#E5ECF6",
          "polar": {
           "angularaxis": {
            "gridcolor": "white",
            "linecolor": "white",
            "ticks": ""
           },
           "bgcolor": "#E5ECF6",
           "radialaxis": {
            "gridcolor": "white",
            "linecolor": "white",
            "ticks": ""
           }
          },
          "scene": {
           "xaxis": {
            "backgroundcolor": "#E5ECF6",
            "gridcolor": "white",
            "gridwidth": 2,
            "linecolor": "white",
            "showbackground": true,
            "ticks": "",
            "zerolinecolor": "white"
           },
           "yaxis": {
            "backgroundcolor": "#E5ECF6",
            "gridcolor": "white",
            "gridwidth": 2,
            "linecolor": "white",
            "showbackground": true,
            "ticks": "",
            "zerolinecolor": "white"
           },
           "zaxis": {
            "backgroundcolor": "#E5ECF6",
            "gridcolor": "white",
            "gridwidth": 2,
            "linecolor": "white",
            "showbackground": true,
            "ticks": "",
            "zerolinecolor": "white"
           }
          },
          "shapedefaults": {
           "line": {
            "color": "#2a3f5f"
           }
          },
          "ternary": {
           "aaxis": {
            "gridcolor": "white",
            "linecolor": "white",
            "ticks": ""
           },
           "baxis": {
            "gridcolor": "white",
            "linecolor": "white",
            "ticks": ""
           },
           "bgcolor": "#E5ECF6",
           "caxis": {
            "gridcolor": "white",
            "linecolor": "white",
            "ticks": ""
           }
          },
          "title": {
           "x": 0.05
          },
          "xaxis": {
           "automargin": true,
           "gridcolor": "white",
           "linecolor": "white",
           "ticks": "",
           "title": {
            "standoff": 15
           },
           "zerolinecolor": "white",
           "zerolinewidth": 2
          },
          "yaxis": {
           "automargin": true,
           "gridcolor": "white",
           "linecolor": "white",
           "ticks": "",
           "title": {
            "standoff": 15
           },
           "zerolinecolor": "white",
           "zerolinewidth": 2
          }
         }
        },
        "title": {
         "text": "Polish"
        },
        "xaxis": {
         "anchor": "y",
         "domain": [
          0,
          1
         ],
         "title": {
          "text": "limit"
         }
        },
        "yaxis": {
         "anchor": "x",
         "domain": [
          0,
          1
         ],
         "title": {
          "text": "uuas"
         }
        }
       }
      }
     },
     "metadata": {},
     "output_type": "display_data"
    },
    {
     "data": {
      "application/vnd.plotly.v1+json": {
       "config": {
        "plotlyServerURL": "https://plot.ly"
       },
       "data": [
        {
         "hovertemplate": "train=be<br>limit=%{x}<br>uuas=%{y}<extra></extra>",
         "legendgroup": "be",
         "line": {
          "color": "#636efa",
          "dash": "solid"
         },
         "marker": {
          "symbol": "circle"
         },
         "mode": "markers+lines",
         "name": "be",
         "orientation": "v",
         "showlegend": true,
         "type": "scatter",
         "x": [
          100,
          1000,
          2500,
          5000,
          7500,
          10000
         ],
         "xaxis": "x",
         "y": [
          0.35913323440333933,
          0.5892713024914737,
          0.671830118108528,
          0.7139013997726347,
          0.744456883010943,
          0.7554997266408061
         ],
         "yaxis": "y"
        },
        {
         "hovertemplate": "train=cs<br>limit=%{x}<br>uuas=%{y}<extra></extra>",
         "legendgroup": "cs",
         "line": {
          "color": "#EF553B",
          "dash": "solid"
         },
         "marker": {
          "symbol": "circle"
         },
         "mode": "markers+lines",
         "name": "cs",
         "orientation": "v",
         "showlegend": true,
         "type": "scatter",
         "x": [
          100,
          1000,
          2500,
          5000,
          7500,
          10000
         ],
         "xaxis": "x",
         "y": [
          0.3811494971058637,
          0.6115522463183289,
          0.6987885414768339,
          0.7357918304652313,
          0.7529744083726015,
          0.7631928353856968
         ],
         "yaxis": "y"
        },
        {
         "hovertemplate": "train=de<br>limit=%{x}<br>uuas=%{y}<extra></extra>",
         "legendgroup": "de",
         "line": {
          "color": "#00cc96",
          "dash": "solid"
         },
         "marker": {
          "symbol": "circle"
         },
         "mode": "markers+lines",
         "name": "de",
         "orientation": "v",
         "showlegend": true,
         "type": "scatter",
         "x": [
          100,
          1000,
          2500,
          5000,
          7500,
          10000
         ],
         "xaxis": "x",
         "y": [
          0.36751624968541996,
          0.5765709475584251,
          0.6936858365225239,
          0.731131707063081,
          0.7393368219173327,
          0.7458323570504977
         ],
         "yaxis": "y"
        },
        {
         "hovertemplate": "train=en<br>limit=%{x}<br>uuas=%{y}<extra></extra>",
         "legendgroup": "en",
         "line": {
          "color": "#ab63fa",
          "dash": "solid"
         },
         "marker": {
          "symbol": "circle"
         },
         "mode": "markers+lines",
         "name": "en",
         "orientation": "v",
         "showlegend": true,
         "type": "scatter",
         "x": [
          100,
          1000,
          2500,
          5000,
          7500,
          10000
         ],
         "xaxis": "x",
         "y": [
          0.3801905704095181,
          0.6149193373426015,
          0.6777008322268795,
          0.7006456483819739,
          0.724731630696068,
          0.7313746930132861
         ],
         "yaxis": "y"
        },
        {
         "hovertemplate": "train=es<br>limit=%{x}<br>uuas=%{y}<extra></extra>",
         "legendgroup": "es",
         "line": {
          "color": "#FFA15A",
          "dash": "solid"
         },
         "marker": {
          "symbol": "circle"
         },
         "mode": "markers+lines",
         "name": "es",
         "orientation": "v",
         "showlegend": true,
         "type": "scatter",
         "x": [
          100,
          1000,
          2500,
          5000,
          7500,
          10000
         ],
         "xaxis": "x",
         "y": [
          0.4243402497548445,
          0.603290724011351,
          0.6681245823678981,
          0.6909435665130648,
          0.6960853227808006,
          0.7105863771662632
         ],
         "yaxis": "y"
        },
        {
         "hovertemplate": "train=fi<br>limit=%{x}<br>uuas=%{y}<extra></extra>",
         "legendgroup": "fi",
         "line": {
          "color": "#19d3f3",
          "dash": "solid"
         },
         "marker": {
          "symbol": "circle"
         },
         "mode": "markers+lines",
         "name": "fi",
         "orientation": "v",
         "showlegend": true,
         "type": "scatter",
         "x": [
          100,
          1000,
          2500,
          5000,
          7500,
          10000
         ],
         "xaxis": "x",
         "y": [
          0.3460423663360322,
          0.5378580788489409,
          0.6055123098417987,
          0.652386903057284,
          0.6716695738199995,
          0.6827037393802122
         ],
         "yaxis": "y"
        },
        {
         "hovertemplate": "train=fr<br>limit=%{x}<br>uuas=%{y}<extra></extra>",
         "legendgroup": "fr",
         "line": {
          "color": "#FF6692",
          "dash": "solid"
         },
         "marker": {
          "symbol": "circle"
         },
         "mode": "markers+lines",
         "name": "fr",
         "orientation": "v",
         "showlegend": true,
         "type": "scatter",
         "x": [
          100,
          1000,
          2500,
          5000,
          7500,
          10000
         ],
         "xaxis": "x",
         "y": [
          0.4083942967726259,
          0.6184947020384786,
          0.6719516110836306,
          0.7054446208985273,
          0.7155632501106454,
          0.7230003558008556
         ],
         "yaxis": "y"
        },
        {
         "hovertemplate": "train=id<br>limit=%{x}<br>uuas=%{y}<extra></extra>",
         "legendgroup": "id",
         "line": {
          "color": "#B6E880",
          "dash": "solid"
         },
         "marker": {
          "symbol": "circle"
         },
         "mode": "markers+lines",
         "name": "id",
         "orientation": "v",
         "showlegend": true,
         "type": "scatter",
         "x": [
          100,
          1000,
          2500,
          4481
         ],
         "xaxis": "x",
         "y": [
          0.3783161073650777,
          0.5742842762056009,
          0.6097255126569645,
          0.6383457863632813
         ],
         "yaxis": "y"
        },
        {
         "hovertemplate": "train=lt<br>limit=%{x}<br>uuas=%{y}<extra></extra>",
         "legendgroup": "lt",
         "line": {
          "color": "#FF97FF",
          "dash": "solid"
         },
         "marker": {
          "symbol": "circle"
         },
         "mode": "markers+lines",
         "name": "lt",
         "orientation": "v",
         "showlegend": true,
         "type": "scatter",
         "x": [
          100,
          1000,
          2340,
          2500
         ],
         "xaxis": "x",
         "y": [
          0.3623354421042583,
          0.542691763644095,
          0.6102505358708009,
          0.6089488254232729
         ],
         "yaxis": "y"
        },
        {
         "hovertemplate": "train=lv<br>limit=%{x}<br>uuas=%{y}<extra></extra>",
         "legendgroup": "lv",
         "line": {
          "color": "#FECB52",
          "dash": "solid"
         },
         "marker": {
          "symbol": "circle"
         },
         "mode": "markers+lines",
         "name": "lv",
         "orientation": "v",
         "showlegend": true,
         "type": "scatter",
         "x": [
          100,
          1000,
          2500,
          5000,
          7500,
          10000
         ],
         "xaxis": "x",
         "y": [
          0.3547074188817439,
          0.5402228528286168,
          0.6239662249529214,
          0.662505532269402,
          0.6989968151484385,
          0.7120920222505706
         ],
         "yaxis": "y"
        },
        {
         "hovertemplate": "train=pl<br>limit=%{x}<br>uuas=%{y}<extra></extra>",
         "legendgroup": "pl",
         "line": {
          "color": "#636efa",
          "dash": "solid"
         },
         "marker": {
          "symbol": "circle"
         },
         "mode": "markers+lines",
         "name": "pl",
         "orientation": "v",
         "showlegend": true,
         "type": "scatter",
         "x": [
          100,
          1000,
          2500,
          5000,
          7500,
          10000
         ],
         "xaxis": "x",
         "y": [
          0.3704841495057839,
          0.5327466958249807,
          0.6761648138987963,
          0.7381001969921811,
          0.7605763973861654,
          0.7674016991660375
         ],
         "yaxis": "y"
        },
        {
         "hovertemplate": "train=ru<br>limit=%{x}<br>uuas=%{y}<extra></extra>",
         "legendgroup": "ru",
         "line": {
          "color": "#EF553B",
          "dash": "solid"
         },
         "marker": {
          "symbol": "circle"
         },
         "mode": "markers+lines",
         "name": "ru",
         "orientation": "v",
         "showlegend": true,
         "type": "scatter",
         "x": [
          100,
          1000,
          2500,
          5000,
          7500,
          10000
         ],
         "xaxis": "x",
         "y": [
          0.3481988666441037,
          0.621857454027926,
          0.7538725885813959,
          0.7913358152612533,
          0.806361892860552,
          0.8134996051478309
         ],
         "yaxis": "y"
        },
        {
         "hovertemplate": "train=slk<br>limit=%{x}<br>uuas=%{y}<extra></extra>",
         "legendgroup": "slk",
         "line": {
          "color": "#00cc96",
          "dash": "solid"
         },
         "marker": {
          "symbol": "circle"
         },
         "mode": "markers+lines",
         "name": "slk",
         "orientation": "v",
         "showlegend": true,
         "type": "scatter",
         "x": [
          100,
          1000,
          2500,
          5000,
          7500,
          8482
         ],
         "xaxis": "x",
         "y": [
          0.360604167209046,
          0.60742148516484,
          0.6964801749498841,
          0.7234255812137149,
          0.7403478170315795,
          0.7416625445835828
         ],
         "yaxis": "y"
        },
        {
         "hovertemplate": "train=slv<br>limit=%{x}<br>uuas=%{y}<extra></extra>",
         "legendgroup": "slv",
         "line": {
          "color": "#ab63fa",
          "dash": "solid"
         },
         "marker": {
          "symbol": "circle"
         },
         "mode": "markers+lines",
         "name": "slv",
         "orientation": "v",
         "showlegend": true,
         "type": "scatter",
         "x": [
          100,
          1000,
          2500,
          5000,
          7500,
          10000
         ],
         "xaxis": "x",
         "y": [
          0.3823123584389888,
          0.6238968003957199,
          0.7012227400137114,
          0.7308453307646248,
          0.7493903656070744,
          0.7618607516943932
         ],
         "yaxis": "y"
        },
        {
         "hovertemplate": "train=uk<br>limit=%{x}<br>uuas=%{y}<extra></extra>",
         "legendgroup": "uk",
         "line": {
          "color": "#FFA15A",
          "dash": "solid"
         },
         "marker": {
          "symbol": "circle"
         },
         "mode": "markers+lines",
         "name": "uk",
         "orientation": "v",
         "showlegend": true,
         "type": "scatter",
         "x": [
          100,
          1000,
          2500,
          5000,
          5495
         ],
         "xaxis": "x",
         "y": [
          0.3694384421129364,
          0.6158131785165708,
          0.7208915848758602,
          0.7642602379526698,
          0.7721225690557392
         ],
         "yaxis": "y"
        },
        {
         "hovertemplate": "train=zh<br>limit=%{x}<br>uuas=%{y}<extra></extra>",
         "legendgroup": "zh",
         "line": {
          "color": "#19d3f3",
          "dash": "solid"
         },
         "marker": {
          "symbol": "circle"
         },
         "mode": "markers+lines",
         "name": "zh",
         "orientation": "v",
         "showlegend": true,
         "type": "scatter",
         "x": [
          100,
          1000,
          2500,
          3996
         ],
         "xaxis": "x",
         "y": [
          0.3663664054567702,
          0.526029869915736,
          0.5740239341160952,
          0.5971987191169197
         ],
         "yaxis": "y"
        }
       ],
       "layout": {
        "legend": {
         "title": {
          "text": "train"
         },
         "tracegroupgap": 0
        },
        "template": {
         "data": {
          "bar": [
           {
            "error_x": {
             "color": "#2a3f5f"
            },
            "error_y": {
             "color": "#2a3f5f"
            },
            "marker": {
             "line": {
              "color": "#E5ECF6",
              "width": 0.5
             },
             "pattern": {
              "fillmode": "overlay",
              "size": 10,
              "solidity": 0.2
             }
            },
            "type": "bar"
           }
          ],
          "barpolar": [
           {
            "marker": {
             "line": {
              "color": "#E5ECF6",
              "width": 0.5
             },
             "pattern": {
              "fillmode": "overlay",
              "size": 10,
              "solidity": 0.2
             }
            },
            "type": "barpolar"
           }
          ],
          "carpet": [
           {
            "aaxis": {
             "endlinecolor": "#2a3f5f",
             "gridcolor": "white",
             "linecolor": "white",
             "minorgridcolor": "white",
             "startlinecolor": "#2a3f5f"
            },
            "baxis": {
             "endlinecolor": "#2a3f5f",
             "gridcolor": "white",
             "linecolor": "white",
             "minorgridcolor": "white",
             "startlinecolor": "#2a3f5f"
            },
            "type": "carpet"
           }
          ],
          "choropleth": [
           {
            "colorbar": {
             "outlinewidth": 0,
             "ticks": ""
            },
            "type": "choropleth"
           }
          ],
          "contour": [
           {
            "colorbar": {
             "outlinewidth": 0,
             "ticks": ""
            },
            "colorscale": [
             [
              0,
              "#0d0887"
             ],
             [
              0.1111111111111111,
              "#46039f"
             ],
             [
              0.2222222222222222,
              "#7201a8"
             ],
             [
              0.3333333333333333,
              "#9c179e"
             ],
             [
              0.4444444444444444,
              "#bd3786"
             ],
             [
              0.5555555555555556,
              "#d8576b"
             ],
             [
              0.6666666666666666,
              "#ed7953"
             ],
             [
              0.7777777777777778,
              "#fb9f3a"
             ],
             [
              0.8888888888888888,
              "#fdca26"
             ],
             [
              1,
              "#f0f921"
             ]
            ],
            "type": "contour"
           }
          ],
          "contourcarpet": [
           {
            "colorbar": {
             "outlinewidth": 0,
             "ticks": ""
            },
            "type": "contourcarpet"
           }
          ],
          "heatmap": [
           {
            "colorbar": {
             "outlinewidth": 0,
             "ticks": ""
            },
            "colorscale": [
             [
              0,
              "#0d0887"
             ],
             [
              0.1111111111111111,
              "#46039f"
             ],
             [
              0.2222222222222222,
              "#7201a8"
             ],
             [
              0.3333333333333333,
              "#9c179e"
             ],
             [
              0.4444444444444444,
              "#bd3786"
             ],
             [
              0.5555555555555556,
              "#d8576b"
             ],
             [
              0.6666666666666666,
              "#ed7953"
             ],
             [
              0.7777777777777778,
              "#fb9f3a"
             ],
             [
              0.8888888888888888,
              "#fdca26"
             ],
             [
              1,
              "#f0f921"
             ]
            ],
            "type": "heatmap"
           }
          ],
          "heatmapgl": [
           {
            "colorbar": {
             "outlinewidth": 0,
             "ticks": ""
            },
            "colorscale": [
             [
              0,
              "#0d0887"
             ],
             [
              0.1111111111111111,
              "#46039f"
             ],
             [
              0.2222222222222222,
              "#7201a8"
             ],
             [
              0.3333333333333333,
              "#9c179e"
             ],
             [
              0.4444444444444444,
              "#bd3786"
             ],
             [
              0.5555555555555556,
              "#d8576b"
             ],
             [
              0.6666666666666666,
              "#ed7953"
             ],
             [
              0.7777777777777778,
              "#fb9f3a"
             ],
             [
              0.8888888888888888,
              "#fdca26"
             ],
             [
              1,
              "#f0f921"
             ]
            ],
            "type": "heatmapgl"
           }
          ],
          "histogram": [
           {
            "marker": {
             "pattern": {
              "fillmode": "overlay",
              "size": 10,
              "solidity": 0.2
             }
            },
            "type": "histogram"
           }
          ],
          "histogram2d": [
           {
            "colorbar": {
             "outlinewidth": 0,
             "ticks": ""
            },
            "colorscale": [
             [
              0,
              "#0d0887"
             ],
             [
              0.1111111111111111,
              "#46039f"
             ],
             [
              0.2222222222222222,
              "#7201a8"
             ],
             [
              0.3333333333333333,
              "#9c179e"
             ],
             [
              0.4444444444444444,
              "#bd3786"
             ],
             [
              0.5555555555555556,
              "#d8576b"
             ],
             [
              0.6666666666666666,
              "#ed7953"
             ],
             [
              0.7777777777777778,
              "#fb9f3a"
             ],
             [
              0.8888888888888888,
              "#fdca26"
             ],
             [
              1,
              "#f0f921"
             ]
            ],
            "type": "histogram2d"
           }
          ],
          "histogram2dcontour": [
           {
            "colorbar": {
             "outlinewidth": 0,
             "ticks": ""
            },
            "colorscale": [
             [
              0,
              "#0d0887"
             ],
             [
              0.1111111111111111,
              "#46039f"
             ],
             [
              0.2222222222222222,
              "#7201a8"
             ],
             [
              0.3333333333333333,
              "#9c179e"
             ],
             [
              0.4444444444444444,
              "#bd3786"
             ],
             [
              0.5555555555555556,
              "#d8576b"
             ],
             [
              0.6666666666666666,
              "#ed7953"
             ],
             [
              0.7777777777777778,
              "#fb9f3a"
             ],
             [
              0.8888888888888888,
              "#fdca26"
             ],
             [
              1,
              "#f0f921"
             ]
            ],
            "type": "histogram2dcontour"
           }
          ],
          "mesh3d": [
           {
            "colorbar": {
             "outlinewidth": 0,
             "ticks": ""
            },
            "type": "mesh3d"
           }
          ],
          "parcoords": [
           {
            "line": {
             "colorbar": {
              "outlinewidth": 0,
              "ticks": ""
             }
            },
            "type": "parcoords"
           }
          ],
          "pie": [
           {
            "automargin": true,
            "type": "pie"
           }
          ],
          "scatter": [
           {
            "fillpattern": {
             "fillmode": "overlay",
             "size": 10,
             "solidity": 0.2
            },
            "type": "scatter"
           }
          ],
          "scatter3d": [
           {
            "line": {
             "colorbar": {
              "outlinewidth": 0,
              "ticks": ""
             }
            },
            "marker": {
             "colorbar": {
              "outlinewidth": 0,
              "ticks": ""
             }
            },
            "type": "scatter3d"
           }
          ],
          "scattercarpet": [
           {
            "marker": {
             "colorbar": {
              "outlinewidth": 0,
              "ticks": ""
             }
            },
            "type": "scattercarpet"
           }
          ],
          "scattergeo": [
           {
            "marker": {
             "colorbar": {
              "outlinewidth": 0,
              "ticks": ""
             }
            },
            "type": "scattergeo"
           }
          ],
          "scattergl": [
           {
            "marker": {
             "colorbar": {
              "outlinewidth": 0,
              "ticks": ""
             }
            },
            "type": "scattergl"
           }
          ],
          "scattermapbox": [
           {
            "marker": {
             "colorbar": {
              "outlinewidth": 0,
              "ticks": ""
             }
            },
            "type": "scattermapbox"
           }
          ],
          "scatterpolar": [
           {
            "marker": {
             "colorbar": {
              "outlinewidth": 0,
              "ticks": ""
             }
            },
            "type": "scatterpolar"
           }
          ],
          "scatterpolargl": [
           {
            "marker": {
             "colorbar": {
              "outlinewidth": 0,
              "ticks": ""
             }
            },
            "type": "scatterpolargl"
           }
          ],
          "scatterternary": [
           {
            "marker": {
             "colorbar": {
              "outlinewidth": 0,
              "ticks": ""
             }
            },
            "type": "scatterternary"
           }
          ],
          "surface": [
           {
            "colorbar": {
             "outlinewidth": 0,
             "ticks": ""
            },
            "colorscale": [
             [
              0,
              "#0d0887"
             ],
             [
              0.1111111111111111,
              "#46039f"
             ],
             [
              0.2222222222222222,
              "#7201a8"
             ],
             [
              0.3333333333333333,
              "#9c179e"
             ],
             [
              0.4444444444444444,
              "#bd3786"
             ],
             [
              0.5555555555555556,
              "#d8576b"
             ],
             [
              0.6666666666666666,
              "#ed7953"
             ],
             [
              0.7777777777777778,
              "#fb9f3a"
             ],
             [
              0.8888888888888888,
              "#fdca26"
             ],
             [
              1,
              "#f0f921"
             ]
            ],
            "type": "surface"
           }
          ],
          "table": [
           {
            "cells": {
             "fill": {
              "color": "#EBF0F8"
             },
             "line": {
              "color": "white"
             }
            },
            "header": {
             "fill": {
              "color": "#C8D4E3"
             },
             "line": {
              "color": "white"
             }
            },
            "type": "table"
           }
          ]
         },
         "layout": {
          "annotationdefaults": {
           "arrowcolor": "#2a3f5f",
           "arrowhead": 0,
           "arrowwidth": 1
          },
          "autotypenumbers": "strict",
          "coloraxis": {
           "colorbar": {
            "outlinewidth": 0,
            "ticks": ""
           }
          },
          "colorscale": {
           "diverging": [
            [
             0,
             "#8e0152"
            ],
            [
             0.1,
             "#c51b7d"
            ],
            [
             0.2,
             "#de77ae"
            ],
            [
             0.3,
             "#f1b6da"
            ],
            [
             0.4,
             "#fde0ef"
            ],
            [
             0.5,
             "#f7f7f7"
            ],
            [
             0.6,
             "#e6f5d0"
            ],
            [
             0.7,
             "#b8e186"
            ],
            [
             0.8,
             "#7fbc41"
            ],
            [
             0.9,
             "#4d9221"
            ],
            [
             1,
             "#276419"
            ]
           ],
           "sequential": [
            [
             0,
             "#0d0887"
            ],
            [
             0.1111111111111111,
             "#46039f"
            ],
            [
             0.2222222222222222,
             "#7201a8"
            ],
            [
             0.3333333333333333,
             "#9c179e"
            ],
            [
             0.4444444444444444,
             "#bd3786"
            ],
            [
             0.5555555555555556,
             "#d8576b"
            ],
            [
             0.6666666666666666,
             "#ed7953"
            ],
            [
             0.7777777777777778,
             "#fb9f3a"
            ],
            [
             0.8888888888888888,
             "#fdca26"
            ],
            [
             1,
             "#f0f921"
            ]
           ],
           "sequentialminus": [
            [
             0,
             "#0d0887"
            ],
            [
             0.1111111111111111,
             "#46039f"
            ],
            [
             0.2222222222222222,
             "#7201a8"
            ],
            [
             0.3333333333333333,
             "#9c179e"
            ],
            [
             0.4444444444444444,
             "#bd3786"
            ],
            [
             0.5555555555555556,
             "#d8576b"
            ],
            [
             0.6666666666666666,
             "#ed7953"
            ],
            [
             0.7777777777777778,
             "#fb9f3a"
            ],
            [
             0.8888888888888888,
             "#fdca26"
            ],
            [
             1,
             "#f0f921"
            ]
           ]
          },
          "colorway": [
           "#636efa",
           "#EF553B",
           "#00cc96",
           "#ab63fa",
           "#FFA15A",
           "#19d3f3",
           "#FF6692",
           "#B6E880",
           "#FF97FF",
           "#FECB52"
          ],
          "font": {
           "color": "#2a3f5f"
          },
          "geo": {
           "bgcolor": "white",
           "lakecolor": "white",
           "landcolor": "#E5ECF6",
           "showlakes": true,
           "showland": true,
           "subunitcolor": "white"
          },
          "hoverlabel": {
           "align": "left"
          },
          "hovermode": "closest",
          "mapbox": {
           "style": "light"
          },
          "paper_bgcolor": "white",
          "plot_bgcolor": "#E5ECF6",
          "polar": {
           "angularaxis": {
            "gridcolor": "white",
            "linecolor": "white",
            "ticks": ""
           },
           "bgcolor": "#E5ECF6",
           "radialaxis": {
            "gridcolor": "white",
            "linecolor": "white",
            "ticks": ""
           }
          },
          "scene": {
           "xaxis": {
            "backgroundcolor": "#E5ECF6",
            "gridcolor": "white",
            "gridwidth": 2,
            "linecolor": "white",
            "showbackground": true,
            "ticks": "",
            "zerolinecolor": "white"
           },
           "yaxis": {
            "backgroundcolor": "#E5ECF6",
            "gridcolor": "white",
            "gridwidth": 2,
            "linecolor": "white",
            "showbackground": true,
            "ticks": "",
            "zerolinecolor": "white"
           },
           "zaxis": {
            "backgroundcolor": "#E5ECF6",
            "gridcolor": "white",
            "gridwidth": 2,
            "linecolor": "white",
            "showbackground": true,
            "ticks": "",
            "zerolinecolor": "white"
           }
          },
          "shapedefaults": {
           "line": {
            "color": "#2a3f5f"
           }
          },
          "ternary": {
           "aaxis": {
            "gridcolor": "white",
            "linecolor": "white",
            "ticks": ""
           },
           "baxis": {
            "gridcolor": "white",
            "linecolor": "white",
            "ticks": ""
           },
           "bgcolor": "#E5ECF6",
           "caxis": {
            "gridcolor": "white",
            "linecolor": "white",
            "ticks": ""
           }
          },
          "title": {
           "x": 0.05
          },
          "xaxis": {
           "automargin": true,
           "gridcolor": "white",
           "linecolor": "white",
           "ticks": "",
           "title": {
            "standoff": 15
           },
           "zerolinecolor": "white",
           "zerolinewidth": 2
          },
          "yaxis": {
           "automargin": true,
           "gridcolor": "white",
           "linecolor": "white",
           "ticks": "",
           "title": {
            "standoff": 15
           },
           "zerolinecolor": "white",
           "zerolinewidth": 2
          }
         }
        },
        "title": {
         "text": "Russian"
        },
        "xaxis": {
         "anchor": "y",
         "domain": [
          0,
          1
         ],
         "title": {
          "text": "limit"
         }
        },
        "yaxis": {
         "anchor": "x",
         "domain": [
          0,
          1
         ],
         "title": {
          "text": "uuas"
         }
        }
       }
      }
     },
     "metadata": {},
     "output_type": "display_data"
    },
    {
     "data": {
      "application/vnd.plotly.v1+json": {
       "config": {
        "plotlyServerURL": "https://plot.ly"
       },
       "data": [
        {
         "hovertemplate": "train=be<br>limit=%{x}<br>uuas=%{y}<extra></extra>",
         "legendgroup": "be",
         "line": {
          "color": "#636efa",
          "dash": "solid"
         },
         "marker": {
          "symbol": "circle"
         },
         "mode": "markers+lines",
         "name": "be",
         "orientation": "v",
         "showlegend": true,
         "type": "scatter",
         "x": [
          100,
          1000,
          2500,
          5000,
          7500,
          10000
         ],
         "xaxis": "x",
         "y": [
          0.39461678832116787,
          0.6280413625304136,
          0.7085867802108679,
          0.7483779399837793,
          0.7669809407948094,
          0.7810725871857258
         ],
         "yaxis": "y"
        },
        {
         "hovertemplate": "train=cs<br>limit=%{x}<br>uuas=%{y}<extra></extra>",
         "legendgroup": "cs",
         "line": {
          "color": "#EF553B",
          "dash": "solid"
         },
         "marker": {
          "symbol": "circle"
         },
         "mode": "markers+lines",
         "name": "cs",
         "orientation": "v",
         "showlegend": true,
         "type": "scatter",
         "x": [
          100,
          1000,
          2500,
          5000,
          7500,
          10000
         ],
         "xaxis": "x",
         "y": [
          0.41656528791565284,
          0.6611922141119222,
          0.7751926196269262,
          0.8127027575020276,
          0.829227493917275,
          0.8319647201946472
         ],
         "yaxis": "y"
        },
        {
         "hovertemplate": "train=de<br>limit=%{x}<br>uuas=%{y}<extra></extra>",
         "legendgroup": "de",
         "line": {
          "color": "#00cc96",
          "dash": "solid"
         },
         "marker": {
          "symbol": "circle"
         },
         "mode": "markers+lines",
         "name": "de",
         "orientation": "v",
         "showlegend": true,
         "type": "scatter",
         "x": [
          100,
          1000,
          2500,
          5000,
          7500,
          10000
         ],
         "xaxis": "x",
         "y": [
          0.3931974858069749,
          0.6132907542579076,
          0.7325628548256286,
          0.7656123276561233,
          0.77382400648824,
          0.7801094890510949
         ],
         "yaxis": "y"
        },
        {
         "hovertemplate": "train=en<br>limit=%{x}<br>uuas=%{y}<extra></extra>",
         "legendgroup": "en",
         "line": {
          "color": "#ab63fa",
          "dash": "solid"
         },
         "marker": {
          "symbol": "circle"
         },
         "mode": "markers+lines",
         "name": "en",
         "orientation": "v",
         "showlegend": true,
         "type": "scatter",
         "x": [
          100,
          1000,
          2500,
          5000,
          7500,
          10000
         ],
         "xaxis": "x",
         "y": [
          0.3896492295214923,
          0.6229724249797243,
          0.6954582319545823,
          0.7106650446066505,
          0.742345904298459,
          0.7589720194647201
         ],
         "yaxis": "y"
        },
        {
         "hovertemplate": "train=es<br>limit=%{x}<br>uuas=%{y}<extra></extra>",
         "legendgroup": "es",
         "line": {
          "color": "#FFA15A",
          "dash": "solid"
         },
         "marker": {
          "symbol": "circle"
         },
         "mode": "markers+lines",
         "name": "es",
         "orientation": "v",
         "showlegend": true,
         "type": "scatter",
         "x": [
          100,
          1000,
          2500,
          5000,
          7500,
          10000
         ],
         "xaxis": "x",
         "y": [
          0.44125101378751014,
          0.6253548256285483,
          0.6837489862124899,
          0.708536090835361,
          0.7098540145985401,
          0.7241484184914841
         ],
         "yaxis": "y"
        },
        {
         "hovertemplate": "train=fi<br>limit=%{x}<br>uuas=%{y}<extra></extra>",
         "legendgroup": "fi",
         "line": {
          "color": "#19d3f3",
          "dash": "solid"
         },
         "marker": {
          "symbol": "circle"
         },
         "mode": "markers+lines",
         "name": "fi",
         "orientation": "v",
         "showlegend": true,
         "type": "scatter",
         "x": [
          100,
          1000,
          2500,
          5000,
          7500,
          10000
         ],
         "xaxis": "x",
         "y": [
          0.3785482562854825,
          0.5591038118410381,
          0.6406630170316301,
          0.6828365774533658,
          0.699918896999189,
          0.7213098134630982
         ],
         "yaxis": "y"
        },
        {
         "hovertemplate": "train=fr<br>limit=%{x}<br>uuas=%{y}<extra></extra>",
         "legendgroup": "fr",
         "line": {
          "color": "#FF6692",
          "dash": "solid"
         },
         "marker": {
          "symbol": "circle"
         },
         "mode": "markers+lines",
         "name": "fr",
         "orientation": "v",
         "showlegend": true,
         "type": "scatter",
         "x": [
          100,
          1000,
          2500,
          5000,
          7500,
          10000
         ],
         "xaxis": "x",
         "y": [
          0.42310421735604214,
          0.6418288726682888,
          0.7027068126520681,
          0.7211070559610706,
          0.7329683698296837,
          0.7443734793187348
         ],
         "yaxis": "y"
        },
        {
         "hovertemplate": "train=id<br>limit=%{x}<br>uuas=%{y}<extra></extra>",
         "legendgroup": "id",
         "line": {
          "color": "#B6E880",
          "dash": "solid"
         },
         "marker": {
          "symbol": "circle"
         },
         "mode": "markers+lines",
         "name": "id",
         "orientation": "v",
         "showlegend": true,
         "type": "scatter",
         "x": [
          100,
          1000,
          2500,
          4481
         ],
         "xaxis": "x",
         "y": [
          0.40835360908353613,
          0.6004663422546634,
          0.6335158150851582,
          0.6638280616382806
         ],
         "yaxis": "y"
        },
        {
         "hovertemplate": "train=lt<br>limit=%{x}<br>uuas=%{y}<extra></extra>",
         "legendgroup": "lt",
         "line": {
          "color": "#FF97FF",
          "dash": "solid"
         },
         "marker": {
          "symbol": "circle"
         },
         "mode": "markers+lines",
         "name": "lt",
         "orientation": "v",
         "showlegend": true,
         "type": "scatter",
         "x": [
          100,
          1000,
          2340,
          2500
         ],
         "xaxis": "x",
         "y": [
          0.4060725871857258,
          0.5969180859691808,
          0.666058394160584,
          0.662712895377129
         ],
         "yaxis": "y"
        },
        {
         "hovertemplate": "train=lv<br>limit=%{x}<br>uuas=%{y}<extra></extra>",
         "legendgroup": "lv",
         "line": {
          "color": "#FECB52",
          "dash": "solid"
         },
         "marker": {
          "symbol": "circle"
         },
         "mode": "markers+lines",
         "name": "lv",
         "orientation": "v",
         "showlegend": true,
         "type": "scatter",
         "x": [
          100,
          1000,
          2500,
          5000,
          7500,
          10000
         ],
         "xaxis": "x",
         "y": [
          0.3977595296025953,
          0.5981853203568532,
          0.666007704785077,
          0.7054440389294403,
          0.7418390105433901,
          0.7560827250608273
         ],
         "yaxis": "y"
        },
        {
         "hovertemplate": "train=pl<br>limit=%{x}<br>uuas=%{y}<extra></extra>",
         "legendgroup": "pl",
         "line": {
          "color": "#636efa",
          "dash": "solid"
         },
         "marker": {
          "symbol": "circle"
         },
         "mode": "markers+lines",
         "name": "pl",
         "orientation": "v",
         "showlegend": true,
         "type": "scatter",
         "x": [
          100,
          1000,
          2500,
          5000,
          7500,
          10000
         ],
         "xaxis": "x",
         "y": [
          0.3967964314679643,
          0.5474959448499594,
          0.7001723438767234,
          0.784316707218167,
          0.7968876723438767,
          0.8120944849959448
         ],
         "yaxis": "y"
        },
        {
         "hovertemplate": "train=ru<br>limit=%{x}<br>uuas=%{y}<extra></extra>",
         "legendgroup": "ru",
         "line": {
          "color": "#EF553B",
          "dash": "solid"
         },
         "marker": {
          "symbol": "circle"
         },
         "mode": "markers+lines",
         "name": "ru",
         "orientation": "v",
         "showlegend": true,
         "type": "scatter",
         "x": [
          100,
          1000,
          2500,
          5000,
          7500,
          10000
         ],
         "xaxis": "x",
         "y": [
          0.3929440389294404,
          0.6312854825628549,
          0.7359083536090836,
          0.7799574209245742,
          0.7969890510948905,
          0.8067214111922141
         ],
         "yaxis": "y"
        },
        {
         "hovertemplate": "train=slk<br>limit=%{x}<br>uuas=%{y}<extra></extra>",
         "legendgroup": "slk",
         "line": {
          "color": "#00cc96",
          "dash": "solid"
         },
         "marker": {
          "symbol": "circle"
         },
         "mode": "markers+lines",
         "name": "slk",
         "orientation": "v",
         "showlegend": true,
         "type": "scatter",
         "x": [
          100,
          1000,
          2500,
          5000,
          7500,
          8482
         ],
         "xaxis": "x",
         "y": [
          0.38539132197891324,
          0.7101581508515815,
          0.7857360097323601,
          0.821573398215734,
          0.8337388483373884,
          0.8378953771289537
         ],
         "yaxis": "y"
        },
        {
         "hovertemplate": "train=slv<br>limit=%{x}<br>uuas=%{y}<extra></extra>",
         "legendgroup": "slv",
         "line": {
          "color": "#ab63fa",
          "dash": "solid"
         },
         "marker": {
          "symbol": "circle"
         },
         "mode": "markers+lines",
         "name": "slv",
         "orientation": "v",
         "showlegend": true,
         "type": "scatter",
         "x": [
          100,
          1000,
          2500,
          5000,
          7500,
          10000
         ],
         "xaxis": "x",
         "y": [
          0.4283759124087591,
          0.6698094079480941,
          0.7544099756690997,
          0.7901966747769668,
          0.8074817518248175,
          0.8236009732360097
         ],
         "yaxis": "y"
        },
        {
         "hovertemplate": "train=uk<br>limit=%{x}<br>uuas=%{y}<extra></extra>",
         "legendgroup": "uk",
         "line": {
          "color": "#FFA15A",
          "dash": "solid"
         },
         "marker": {
          "symbol": "circle"
         },
         "mode": "markers+lines",
         "name": "uk",
         "orientation": "v",
         "showlegend": true,
         "type": "scatter",
         "x": [
          100,
          1000,
          2500,
          5000,
          5495
         ],
         "xaxis": "x",
         "y": [
          0.4056670721816707,
          0.6468471208434712,
          0.7337793998377939,
          0.7830494728304948,
          0.7897404703974047
         ],
         "yaxis": "y"
        },
        {
         "hovertemplate": "train=zh<br>limit=%{x}<br>uuas=%{y}<extra></extra>",
         "legendgroup": "zh",
         "line": {
          "color": "#19d3f3",
          "dash": "solid"
         },
         "marker": {
          "symbol": "circle"
         },
         "mode": "markers+lines",
         "name": "zh",
         "orientation": "v",
         "showlegend": true,
         "type": "scatter",
         "x": [
          100,
          1000,
          2500,
          3996
         ],
         "xaxis": "x",
         "y": [
          0.4061739659367397,
          0.5415652879156528,
          0.5917984590429846,
          0.6251013787510138
         ],
         "yaxis": "y"
        }
       ],
       "layout": {
        "legend": {
         "title": {
          "text": "train"
         },
         "tracegroupgap": 0
        },
        "template": {
         "data": {
          "bar": [
           {
            "error_x": {
             "color": "#2a3f5f"
            },
            "error_y": {
             "color": "#2a3f5f"
            },
            "marker": {
             "line": {
              "color": "#E5ECF6",
              "width": 0.5
             },
             "pattern": {
              "fillmode": "overlay",
              "size": 10,
              "solidity": 0.2
             }
            },
            "type": "bar"
           }
          ],
          "barpolar": [
           {
            "marker": {
             "line": {
              "color": "#E5ECF6",
              "width": 0.5
             },
             "pattern": {
              "fillmode": "overlay",
              "size": 10,
              "solidity": 0.2
             }
            },
            "type": "barpolar"
           }
          ],
          "carpet": [
           {
            "aaxis": {
             "endlinecolor": "#2a3f5f",
             "gridcolor": "white",
             "linecolor": "white",
             "minorgridcolor": "white",
             "startlinecolor": "#2a3f5f"
            },
            "baxis": {
             "endlinecolor": "#2a3f5f",
             "gridcolor": "white",
             "linecolor": "white",
             "minorgridcolor": "white",
             "startlinecolor": "#2a3f5f"
            },
            "type": "carpet"
           }
          ],
          "choropleth": [
           {
            "colorbar": {
             "outlinewidth": 0,
             "ticks": ""
            },
            "type": "choropleth"
           }
          ],
          "contour": [
           {
            "colorbar": {
             "outlinewidth": 0,
             "ticks": ""
            },
            "colorscale": [
             [
              0,
              "#0d0887"
             ],
             [
              0.1111111111111111,
              "#46039f"
             ],
             [
              0.2222222222222222,
              "#7201a8"
             ],
             [
              0.3333333333333333,
              "#9c179e"
             ],
             [
              0.4444444444444444,
              "#bd3786"
             ],
             [
              0.5555555555555556,
              "#d8576b"
             ],
             [
              0.6666666666666666,
              "#ed7953"
             ],
             [
              0.7777777777777778,
              "#fb9f3a"
             ],
             [
              0.8888888888888888,
              "#fdca26"
             ],
             [
              1,
              "#f0f921"
             ]
            ],
            "type": "contour"
           }
          ],
          "contourcarpet": [
           {
            "colorbar": {
             "outlinewidth": 0,
             "ticks": ""
            },
            "type": "contourcarpet"
           }
          ],
          "heatmap": [
           {
            "colorbar": {
             "outlinewidth": 0,
             "ticks": ""
            },
            "colorscale": [
             [
              0,
              "#0d0887"
             ],
             [
              0.1111111111111111,
              "#46039f"
             ],
             [
              0.2222222222222222,
              "#7201a8"
             ],
             [
              0.3333333333333333,
              "#9c179e"
             ],
             [
              0.4444444444444444,
              "#bd3786"
             ],
             [
              0.5555555555555556,
              "#d8576b"
             ],
             [
              0.6666666666666666,
              "#ed7953"
             ],
             [
              0.7777777777777778,
              "#fb9f3a"
             ],
             [
              0.8888888888888888,
              "#fdca26"
             ],
             [
              1,
              "#f0f921"
             ]
            ],
            "type": "heatmap"
           }
          ],
          "heatmapgl": [
           {
            "colorbar": {
             "outlinewidth": 0,
             "ticks": ""
            },
            "colorscale": [
             [
              0,
              "#0d0887"
             ],
             [
              0.1111111111111111,
              "#46039f"
             ],
             [
              0.2222222222222222,
              "#7201a8"
             ],
             [
              0.3333333333333333,
              "#9c179e"
             ],
             [
              0.4444444444444444,
              "#bd3786"
             ],
             [
              0.5555555555555556,
              "#d8576b"
             ],
             [
              0.6666666666666666,
              "#ed7953"
             ],
             [
              0.7777777777777778,
              "#fb9f3a"
             ],
             [
              0.8888888888888888,
              "#fdca26"
             ],
             [
              1,
              "#f0f921"
             ]
            ],
            "type": "heatmapgl"
           }
          ],
          "histogram": [
           {
            "marker": {
             "pattern": {
              "fillmode": "overlay",
              "size": 10,
              "solidity": 0.2
             }
            },
            "type": "histogram"
           }
          ],
          "histogram2d": [
           {
            "colorbar": {
             "outlinewidth": 0,
             "ticks": ""
            },
            "colorscale": [
             [
              0,
              "#0d0887"
             ],
             [
              0.1111111111111111,
              "#46039f"
             ],
             [
              0.2222222222222222,
              "#7201a8"
             ],
             [
              0.3333333333333333,
              "#9c179e"
             ],
             [
              0.4444444444444444,
              "#bd3786"
             ],
             [
              0.5555555555555556,
              "#d8576b"
             ],
             [
              0.6666666666666666,
              "#ed7953"
             ],
             [
              0.7777777777777778,
              "#fb9f3a"
             ],
             [
              0.8888888888888888,
              "#fdca26"
             ],
             [
              1,
              "#f0f921"
             ]
            ],
            "type": "histogram2d"
           }
          ],
          "histogram2dcontour": [
           {
            "colorbar": {
             "outlinewidth": 0,
             "ticks": ""
            },
            "colorscale": [
             [
              0,
              "#0d0887"
             ],
             [
              0.1111111111111111,
              "#46039f"
             ],
             [
              0.2222222222222222,
              "#7201a8"
             ],
             [
              0.3333333333333333,
              "#9c179e"
             ],
             [
              0.4444444444444444,
              "#bd3786"
             ],
             [
              0.5555555555555556,
              "#d8576b"
             ],
             [
              0.6666666666666666,
              "#ed7953"
             ],
             [
              0.7777777777777778,
              "#fb9f3a"
             ],
             [
              0.8888888888888888,
              "#fdca26"
             ],
             [
              1,
              "#f0f921"
             ]
            ],
            "type": "histogram2dcontour"
           }
          ],
          "mesh3d": [
           {
            "colorbar": {
             "outlinewidth": 0,
             "ticks": ""
            },
            "type": "mesh3d"
           }
          ],
          "parcoords": [
           {
            "line": {
             "colorbar": {
              "outlinewidth": 0,
              "ticks": ""
             }
            },
            "type": "parcoords"
           }
          ],
          "pie": [
           {
            "automargin": true,
            "type": "pie"
           }
          ],
          "scatter": [
           {
            "fillpattern": {
             "fillmode": "overlay",
             "size": 10,
             "solidity": 0.2
            },
            "type": "scatter"
           }
          ],
          "scatter3d": [
           {
            "line": {
             "colorbar": {
              "outlinewidth": 0,
              "ticks": ""
             }
            },
            "marker": {
             "colorbar": {
              "outlinewidth": 0,
              "ticks": ""
             }
            },
            "type": "scatter3d"
           }
          ],
          "scattercarpet": [
           {
            "marker": {
             "colorbar": {
              "outlinewidth": 0,
              "ticks": ""
             }
            },
            "type": "scattercarpet"
           }
          ],
          "scattergeo": [
           {
            "marker": {
             "colorbar": {
              "outlinewidth": 0,
              "ticks": ""
             }
            },
            "type": "scattergeo"
           }
          ],
          "scattergl": [
           {
            "marker": {
             "colorbar": {
              "outlinewidth": 0,
              "ticks": ""
             }
            },
            "type": "scattergl"
           }
          ],
          "scattermapbox": [
           {
            "marker": {
             "colorbar": {
              "outlinewidth": 0,
              "ticks": ""
             }
            },
            "type": "scattermapbox"
           }
          ],
          "scatterpolar": [
           {
            "marker": {
             "colorbar": {
              "outlinewidth": 0,
              "ticks": ""
             }
            },
            "type": "scatterpolar"
           }
          ],
          "scatterpolargl": [
           {
            "marker": {
             "colorbar": {
              "outlinewidth": 0,
              "ticks": ""
             }
            },
            "type": "scatterpolargl"
           }
          ],
          "scatterternary": [
           {
            "marker": {
             "colorbar": {
              "outlinewidth": 0,
              "ticks": ""
             }
            },
            "type": "scatterternary"
           }
          ],
          "surface": [
           {
            "colorbar": {
             "outlinewidth": 0,
             "ticks": ""
            },
            "colorscale": [
             [
              0,
              "#0d0887"
             ],
             [
              0.1111111111111111,
              "#46039f"
             ],
             [
              0.2222222222222222,
              "#7201a8"
             ],
             [
              0.3333333333333333,
              "#9c179e"
             ],
             [
              0.4444444444444444,
              "#bd3786"
             ],
             [
              0.5555555555555556,
              "#d8576b"
             ],
             [
              0.6666666666666666,
              "#ed7953"
             ],
             [
              0.7777777777777778,
              "#fb9f3a"
             ],
             [
              0.8888888888888888,
              "#fdca26"
             ],
             [
              1,
              "#f0f921"
             ]
            ],
            "type": "surface"
           }
          ],
          "table": [
           {
            "cells": {
             "fill": {
              "color": "#EBF0F8"
             },
             "line": {
              "color": "white"
             }
            },
            "header": {
             "fill": {
              "color": "#C8D4E3"
             },
             "line": {
              "color": "white"
             }
            },
            "type": "table"
           }
          ]
         },
         "layout": {
          "annotationdefaults": {
           "arrowcolor": "#2a3f5f",
           "arrowhead": 0,
           "arrowwidth": 1
          },
          "autotypenumbers": "strict",
          "coloraxis": {
           "colorbar": {
            "outlinewidth": 0,
            "ticks": ""
           }
          },
          "colorscale": {
           "diverging": [
            [
             0,
             "#8e0152"
            ],
            [
             0.1,
             "#c51b7d"
            ],
            [
             0.2,
             "#de77ae"
            ],
            [
             0.3,
             "#f1b6da"
            ],
            [
             0.4,
             "#fde0ef"
            ],
            [
             0.5,
             "#f7f7f7"
            ],
            [
             0.6,
             "#e6f5d0"
            ],
            [
             0.7,
             "#b8e186"
            ],
            [
             0.8,
             "#7fbc41"
            ],
            [
             0.9,
             "#4d9221"
            ],
            [
             1,
             "#276419"
            ]
           ],
           "sequential": [
            [
             0,
             "#0d0887"
            ],
            [
             0.1111111111111111,
             "#46039f"
            ],
            [
             0.2222222222222222,
             "#7201a8"
            ],
            [
             0.3333333333333333,
             "#9c179e"
            ],
            [
             0.4444444444444444,
             "#bd3786"
            ],
            [
             0.5555555555555556,
             "#d8576b"
            ],
            [
             0.6666666666666666,
             "#ed7953"
            ],
            [
             0.7777777777777778,
             "#fb9f3a"
            ],
            [
             0.8888888888888888,
             "#fdca26"
            ],
            [
             1,
             "#f0f921"
            ]
           ],
           "sequentialminus": [
            [
             0,
             "#0d0887"
            ],
            [
             0.1111111111111111,
             "#46039f"
            ],
            [
             0.2222222222222222,
             "#7201a8"
            ],
            [
             0.3333333333333333,
             "#9c179e"
            ],
            [
             0.4444444444444444,
             "#bd3786"
            ],
            [
             0.5555555555555556,
             "#d8576b"
            ],
            [
             0.6666666666666666,
             "#ed7953"
            ],
            [
             0.7777777777777778,
             "#fb9f3a"
            ],
            [
             0.8888888888888888,
             "#fdca26"
            ],
            [
             1,
             "#f0f921"
            ]
           ]
          },
          "colorway": [
           "#636efa",
           "#EF553B",
           "#00cc96",
           "#ab63fa",
           "#FFA15A",
           "#19d3f3",
           "#FF6692",
           "#B6E880",
           "#FF97FF",
           "#FECB52"
          ],
          "font": {
           "color": "#2a3f5f"
          },
          "geo": {
           "bgcolor": "white",
           "lakecolor": "white",
           "landcolor": "#E5ECF6",
           "showlakes": true,
           "showland": true,
           "subunitcolor": "white"
          },
          "hoverlabel": {
           "align": "left"
          },
          "hovermode": "closest",
          "mapbox": {
           "style": "light"
          },
          "paper_bgcolor": "white",
          "plot_bgcolor": "#E5ECF6",
          "polar": {
           "angularaxis": {
            "gridcolor": "white",
            "linecolor": "white",
            "ticks": ""
           },
           "bgcolor": "#E5ECF6",
           "radialaxis": {
            "gridcolor": "white",
            "linecolor": "white",
            "ticks": ""
           }
          },
          "scene": {
           "xaxis": {
            "backgroundcolor": "#E5ECF6",
            "gridcolor": "white",
            "gridwidth": 2,
            "linecolor": "white",
            "showbackground": true,
            "ticks": "",
            "zerolinecolor": "white"
           },
           "yaxis": {
            "backgroundcolor": "#E5ECF6",
            "gridcolor": "white",
            "gridwidth": 2,
            "linecolor": "white",
            "showbackground": true,
            "ticks": "",
            "zerolinecolor": "white"
           },
           "zaxis": {
            "backgroundcolor": "#E5ECF6",
            "gridcolor": "white",
            "gridwidth": 2,
            "linecolor": "white",
            "showbackground": true,
            "ticks": "",
            "zerolinecolor": "white"
           }
          },
          "shapedefaults": {
           "line": {
            "color": "#2a3f5f"
           }
          },
          "ternary": {
           "aaxis": {
            "gridcolor": "white",
            "linecolor": "white",
            "ticks": ""
           },
           "baxis": {
            "gridcolor": "white",
            "linecolor": "white",
            "ticks": ""
           },
           "bgcolor": "#E5ECF6",
           "caxis": {
            "gridcolor": "white",
            "linecolor": "white",
            "ticks": ""
           }
          },
          "title": {
           "x": 0.05
          },
          "xaxis": {
           "automargin": true,
           "gridcolor": "white",
           "linecolor": "white",
           "ticks": "",
           "title": {
            "standoff": 15
           },
           "zerolinecolor": "white",
           "zerolinewidth": 2
          },
          "yaxis": {
           "automargin": true,
           "gridcolor": "white",
           "linecolor": "white",
           "ticks": "",
           "title": {
            "standoff": 15
           },
           "zerolinecolor": "white",
           "zerolinewidth": 2
          }
         }
        },
        "title": {
         "text": "Slovak"
        },
        "xaxis": {
         "anchor": "y",
         "domain": [
          0,
          1
         ],
         "title": {
          "text": "limit"
         }
        },
        "yaxis": {
         "anchor": "x",
         "domain": [
          0,
          1
         ],
         "title": {
          "text": "uuas"
         }
        }
       }
      }
     },
     "metadata": {},
     "output_type": "display_data"
    },
    {
     "data": {
      "application/vnd.plotly.v1+json": {
       "config": {
        "plotlyServerURL": "https://plot.ly"
       },
       "data": [
        {
         "hovertemplate": "train=be<br>limit=%{x}<br>uuas=%{y}<extra></extra>",
         "legendgroup": "be",
         "line": {
          "color": "#636efa",
          "dash": "solid"
         },
         "marker": {
          "symbol": "circle"
         },
         "mode": "markers+lines",
         "name": "be",
         "orientation": "v",
         "showlegend": true,
         "type": "scatter",
         "x": [
          100,
          1000,
          2500,
          5000,
          7500,
          10000
         ],
         "xaxis": "x",
         "y": [
          0.3332480818414322,
          0.583794466403162,
          0.6572890025575447,
          0.6936991397349453,
          0.7181818181818183,
          0.728760753313183
         ],
         "yaxis": "y"
        },
        {
         "hovertemplate": "train=cs<br>limit=%{x}<br>uuas=%{y}<extra></extra>",
         "legendgroup": "cs",
         "line": {
          "color": "#EF553B",
          "dash": "solid"
         },
         "marker": {
          "symbol": "circle"
         },
         "mode": "markers+lines",
         "name": "cs",
         "orientation": "v",
         "showlegend": true,
         "type": "scatter",
         "x": [
          100,
          1000,
          2500,
          5000,
          7500,
          10000
         ],
         "xaxis": "x",
         "y": [
          0.355405719600093,
          0.611206696117182,
          0.7181120669611718,
          0.7484305975354568,
          0.7548942106486863,
          0.7607533131829807
         ],
         "yaxis": "y"
        },
        {
         "hovertemplate": "train=de<br>limit=%{x}<br>uuas=%{y}<extra></extra>",
         "legendgroup": "de",
         "line": {
          "color": "#00cc96",
          "dash": "solid"
         },
         "marker": {
          "symbol": "circle"
         },
         "mode": "markers+lines",
         "name": "de",
         "orientation": "v",
         "showlegend": true,
         "type": "scatter",
         "x": [
          100,
          1000,
          2500,
          5000,
          7500,
          10000
         ],
         "xaxis": "x",
         "y": [
          0.3358288770053476,
          0.5900023250406882,
          0.6680306905370844,
          0.718344571029993,
          0.7239711694954661,
          0.7324343176005581
         ],
         "yaxis": "y"
        },
        {
         "hovertemplate": "train=en<br>limit=%{x}<br>uuas=%{y}<extra></extra>",
         "legendgroup": "en",
         "line": {
          "color": "#ab63fa",
          "dash": "solid"
         },
         "marker": {
          "symbol": "circle"
         },
         "mode": "markers+lines",
         "name": "en",
         "orientation": "v",
         "showlegend": true,
         "type": "scatter",
         "x": [
          100,
          1000,
          2500,
          5000,
          7500,
          10000
         ],
         "xaxis": "x",
         "y": [
          0.3315043013252732,
          0.5878167867937689,
          0.6539874447802837,
          0.6702162287840037,
          0.6925366193908393,
          0.7016042780748664
         ],
         "yaxis": "y"
        },
        {
         "hovertemplate": "train=es<br>limit=%{x}<br>uuas=%{y}<extra></extra>",
         "legendgroup": "es",
         "line": {
          "color": "#FFA15A",
          "dash": "solid"
         },
         "marker": {
          "symbol": "circle"
         },
         "mode": "markers+lines",
         "name": "es",
         "orientation": "v",
         "showlegend": true,
         "type": "scatter",
         "x": [
          100,
          1000,
          2500,
          5000,
          7500,
          10000
         ],
         "xaxis": "x",
         "y": [
          0.3634038595675424,
          0.5675889328063242,
          0.6284119972099512,
          0.6750523134154848,
          0.6853754940711463,
          0.6971867007672634
         ],
         "yaxis": "y"
        },
        {
         "hovertemplate": "train=fi<br>limit=%{x}<br>uuas=%{y}<extra></extra>",
         "legendgroup": "fi",
         "line": {
          "color": "#19d3f3",
          "dash": "solid"
         },
         "marker": {
          "symbol": "circle"
         },
         "mode": "markers+lines",
         "name": "fi",
         "orientation": "v",
         "showlegend": true,
         "type": "scatter",
         "x": [
          100,
          1000,
          2500,
          5000,
          7500,
          10000
         ],
         "xaxis": "x",
         "y": [
          0.303278307370379,
          0.5282027435480121,
          0.617949314112997,
          0.6532434317600558,
          0.6631481050918391,
          0.6781213671239247
         ],
         "yaxis": "y"
        },
        {
         "hovertemplate": "train=fr<br>limit=%{x}<br>uuas=%{y}<extra></extra>",
         "legendgroup": "fr",
         "line": {
          "color": "#FF6692",
          "dash": "solid"
         },
         "marker": {
          "symbol": "circle"
         },
         "mode": "markers+lines",
         "name": "fr",
         "orientation": "v",
         "showlegend": true,
         "type": "scatter",
         "x": [
          100,
          1000,
          2500,
          5000,
          7500,
          10000
         ],
         "xaxis": "x",
         "y": [
          0.364287375029063,
          0.5682399441990235,
          0.6558474773308532,
          0.6788188793303883,
          0.6961171820506858,
          0.7012787723785167
         ],
         "yaxis": "y"
        },
        {
         "hovertemplate": "train=id<br>limit=%{x}<br>uuas=%{y}<extra></extra>",
         "legendgroup": "id",
         "line": {
          "color": "#B6E880",
          "dash": "solid"
         },
         "marker": {
          "symbol": "circle"
         },
         "mode": "markers+lines",
         "name": "id",
         "orientation": "v",
         "showlegend": true,
         "type": "scatter",
         "x": [
          100,
          1000,
          2500,
          4481
         ],
         "xaxis": "x",
         "y": [
          0.3441525226691467,
          0.537270402232039,
          0.5894443152755173,
          0.6214833759590793
         ],
         "yaxis": "y"
        },
        {
         "hovertemplate": "train=lt<br>limit=%{x}<br>uuas=%{y}<extra></extra>",
         "legendgroup": "lt",
         "line": {
          "color": "#FF97FF",
          "dash": "solid"
         },
         "marker": {
          "symbol": "circle"
         },
         "mode": "markers+lines",
         "name": "lt",
         "orientation": "v",
         "showlegend": true,
         "type": "scatter",
         "x": [
          100,
          1000,
          2340,
          2500
         ],
         "xaxis": "x",
         "y": [
          0.3472215763775866,
          0.524529179260637,
          0.5982329690769589,
          0.6113926993722391
         ],
         "yaxis": "y"
        },
        {
         "hovertemplate": "train=lv<br>limit=%{x}<br>uuas=%{y}<extra></extra>",
         "legendgroup": "lv",
         "line": {
          "color": "#FECB52",
          "dash": "solid"
         },
         "marker": {
          "symbol": "circle"
         },
         "mode": "markers+lines",
         "name": "lv",
         "orientation": "v",
         "showlegend": true,
         "type": "scatter",
         "x": [
          100,
          1000,
          2500,
          5000,
          7500,
          10000
         ],
         "xaxis": "x",
         "y": [
          0.3321088119042083,
          0.5318298070216229,
          0.6159497791211346,
          0.6692862125087189,
          0.6963031853057429,
          0.7085328993257382
         ],
         "yaxis": "y"
        },
        {
         "hovertemplate": "train=pl<br>limit=%{x}<br>uuas=%{y}<extra></extra>",
         "legendgroup": "pl",
         "line": {
          "color": "#636efa",
          "dash": "solid"
         },
         "marker": {
          "symbol": "circle"
         },
         "mode": "markers+lines",
         "name": "pl",
         "orientation": "v",
         "showlegend": true,
         "type": "scatter",
         "x": [
          100,
          1000,
          2500,
          5000,
          7500,
          10000
         ],
         "xaxis": "x",
         "y": [
          0.3185770750988142,
          0.4824924436177633,
          0.6450592885375495,
          0.7202976052080912,
          0.7433620088351546,
          0.7568472448267844
         ],
         "yaxis": "y"
        },
        {
         "hovertemplate": "train=ru<br>limit=%{x}<br>uuas=%{y}<extra></extra>",
         "legendgroup": "ru",
         "line": {
          "color": "#EF553B",
          "dash": "solid"
         },
         "marker": {
          "symbol": "circle"
         },
         "mode": "markers+lines",
         "name": "ru",
         "orientation": "v",
         "showlegend": true,
         "type": "scatter",
         "x": [
          100,
          1000,
          2500,
          5000,
          7500,
          10000
         ],
         "xaxis": "x",
         "y": [
          0.3138339920948617,
          0.5857707509881422,
          0.686677516856545,
          0.7288537549407115,
          0.7403859567542432,
          0.7537084398976982
         ],
         "yaxis": "y"
        },
        {
         "hovertemplate": "train=slk<br>limit=%{x}<br>uuas=%{y}<extra></extra>",
         "legendgroup": "slk",
         "line": {
          "color": "#00cc96",
          "dash": "solid"
         },
         "marker": {
          "symbol": "circle"
         },
         "mode": "markers+lines",
         "name": "slk",
         "orientation": "v",
         "showlegend": true,
         "type": "scatter",
         "x": [
          100,
          1000,
          2500,
          5000,
          7500,
          8482
         ],
         "xaxis": "x",
         "y": [
          0.3471285747500581,
          0.6053940943966519,
          0.6667751685654499,
          0.71699604743083,
          0.7351778656126482,
          0.7423389909323413
         ],
         "yaxis": "y"
        },
        {
         "hovertemplate": "train=slv<br>limit=%{x}<br>uuas=%{y}<extra></extra>",
         "legendgroup": "slv",
         "line": {
          "color": "#ab63fa",
          "dash": "solid"
         },
         "marker": {
          "symbol": "circle"
         },
         "mode": "markers+lines",
         "name": "slv",
         "orientation": "v",
         "showlegend": true,
         "type": "scatter",
         "x": [
          100,
          1000,
          2500,
          5000,
          7500,
          10000
         ],
         "xaxis": "x",
         "y": [
          0.3441990234829109,
          0.6626365961404325,
          0.759265287142525,
          0.7909788421297372,
          0.7994884910485933,
          0.8152755173215531
         ],
         "yaxis": "y"
        },
        {
         "hovertemplate": "train=uk<br>limit=%{x}<br>uuas=%{y}<extra></extra>",
         "legendgroup": "uk",
         "line": {
          "color": "#FFA15A",
          "dash": "solid"
         },
         "marker": {
          "symbol": "circle"
         },
         "mode": "markers+lines",
         "name": "uk",
         "orientation": "v",
         "showlegend": true,
         "type": "scatter",
         "x": [
          100,
          1000,
          2500,
          5000,
          5495
         ],
         "xaxis": "x",
         "y": [
          0.3375494071146245,
          0.5855382469193211,
          0.6879330388281795,
          0.7304347826086957,
          0.7375959079283887
         ],
         "yaxis": "y"
        },
        {
         "hovertemplate": "train=zh<br>limit=%{x}<br>uuas=%{y}<extra></extra>",
         "legendgroup": "zh",
         "line": {
          "color": "#19d3f3",
          "dash": "solid"
         },
         "marker": {
          "symbol": "circle"
         },
         "mode": "markers+lines",
         "name": "zh",
         "orientation": "v",
         "showlegend": true,
         "type": "scatter",
         "x": [
          100,
          1000,
          2500,
          3996
         ],
         "xaxis": "x",
         "y": [
          0.3425249941873983,
          0.5049058358521274,
          0.5702394791908858,
          0.6000930016275284
         ],
         "yaxis": "y"
        }
       ],
       "layout": {
        "legend": {
         "title": {
          "text": "train"
         },
         "tracegroupgap": 0
        },
        "template": {
         "data": {
          "bar": [
           {
            "error_x": {
             "color": "#2a3f5f"
            },
            "error_y": {
             "color": "#2a3f5f"
            },
            "marker": {
             "line": {
              "color": "#E5ECF6",
              "width": 0.5
             },
             "pattern": {
              "fillmode": "overlay",
              "size": 10,
              "solidity": 0.2
             }
            },
            "type": "bar"
           }
          ],
          "barpolar": [
           {
            "marker": {
             "line": {
              "color": "#E5ECF6",
              "width": 0.5
             },
             "pattern": {
              "fillmode": "overlay",
              "size": 10,
              "solidity": 0.2
             }
            },
            "type": "barpolar"
           }
          ],
          "carpet": [
           {
            "aaxis": {
             "endlinecolor": "#2a3f5f",
             "gridcolor": "white",
             "linecolor": "white",
             "minorgridcolor": "white",
             "startlinecolor": "#2a3f5f"
            },
            "baxis": {
             "endlinecolor": "#2a3f5f",
             "gridcolor": "white",
             "linecolor": "white",
             "minorgridcolor": "white",
             "startlinecolor": "#2a3f5f"
            },
            "type": "carpet"
           }
          ],
          "choropleth": [
           {
            "colorbar": {
             "outlinewidth": 0,
             "ticks": ""
            },
            "type": "choropleth"
           }
          ],
          "contour": [
           {
            "colorbar": {
             "outlinewidth": 0,
             "ticks": ""
            },
            "colorscale": [
             [
              0,
              "#0d0887"
             ],
             [
              0.1111111111111111,
              "#46039f"
             ],
             [
              0.2222222222222222,
              "#7201a8"
             ],
             [
              0.3333333333333333,
              "#9c179e"
             ],
             [
              0.4444444444444444,
              "#bd3786"
             ],
             [
              0.5555555555555556,
              "#d8576b"
             ],
             [
              0.6666666666666666,
              "#ed7953"
             ],
             [
              0.7777777777777778,
              "#fb9f3a"
             ],
             [
              0.8888888888888888,
              "#fdca26"
             ],
             [
              1,
              "#f0f921"
             ]
            ],
            "type": "contour"
           }
          ],
          "contourcarpet": [
           {
            "colorbar": {
             "outlinewidth": 0,
             "ticks": ""
            },
            "type": "contourcarpet"
           }
          ],
          "heatmap": [
           {
            "colorbar": {
             "outlinewidth": 0,
             "ticks": ""
            },
            "colorscale": [
             [
              0,
              "#0d0887"
             ],
             [
              0.1111111111111111,
              "#46039f"
             ],
             [
              0.2222222222222222,
              "#7201a8"
             ],
             [
              0.3333333333333333,
              "#9c179e"
             ],
             [
              0.4444444444444444,
              "#bd3786"
             ],
             [
              0.5555555555555556,
              "#d8576b"
             ],
             [
              0.6666666666666666,
              "#ed7953"
             ],
             [
              0.7777777777777778,
              "#fb9f3a"
             ],
             [
              0.8888888888888888,
              "#fdca26"
             ],
             [
              1,
              "#f0f921"
             ]
            ],
            "type": "heatmap"
           }
          ],
          "heatmapgl": [
           {
            "colorbar": {
             "outlinewidth": 0,
             "ticks": ""
            },
            "colorscale": [
             [
              0,
              "#0d0887"
             ],
             [
              0.1111111111111111,
              "#46039f"
             ],
             [
              0.2222222222222222,
              "#7201a8"
             ],
             [
              0.3333333333333333,
              "#9c179e"
             ],
             [
              0.4444444444444444,
              "#bd3786"
             ],
             [
              0.5555555555555556,
              "#d8576b"
             ],
             [
              0.6666666666666666,
              "#ed7953"
             ],
             [
              0.7777777777777778,
              "#fb9f3a"
             ],
             [
              0.8888888888888888,
              "#fdca26"
             ],
             [
              1,
              "#f0f921"
             ]
            ],
            "type": "heatmapgl"
           }
          ],
          "histogram": [
           {
            "marker": {
             "pattern": {
              "fillmode": "overlay",
              "size": 10,
              "solidity": 0.2
             }
            },
            "type": "histogram"
           }
          ],
          "histogram2d": [
           {
            "colorbar": {
             "outlinewidth": 0,
             "ticks": ""
            },
            "colorscale": [
             [
              0,
              "#0d0887"
             ],
             [
              0.1111111111111111,
              "#46039f"
             ],
             [
              0.2222222222222222,
              "#7201a8"
             ],
             [
              0.3333333333333333,
              "#9c179e"
             ],
             [
              0.4444444444444444,
              "#bd3786"
             ],
             [
              0.5555555555555556,
              "#d8576b"
             ],
             [
              0.6666666666666666,
              "#ed7953"
             ],
             [
              0.7777777777777778,
              "#fb9f3a"
             ],
             [
              0.8888888888888888,
              "#fdca26"
             ],
             [
              1,
              "#f0f921"
             ]
            ],
            "type": "histogram2d"
           }
          ],
          "histogram2dcontour": [
           {
            "colorbar": {
             "outlinewidth": 0,
             "ticks": ""
            },
            "colorscale": [
             [
              0,
              "#0d0887"
             ],
             [
              0.1111111111111111,
              "#46039f"
             ],
             [
              0.2222222222222222,
              "#7201a8"
             ],
             [
              0.3333333333333333,
              "#9c179e"
             ],
             [
              0.4444444444444444,
              "#bd3786"
             ],
             [
              0.5555555555555556,
              "#d8576b"
             ],
             [
              0.6666666666666666,
              "#ed7953"
             ],
             [
              0.7777777777777778,
              "#fb9f3a"
             ],
             [
              0.8888888888888888,
              "#fdca26"
             ],
             [
              1,
              "#f0f921"
             ]
            ],
            "type": "histogram2dcontour"
           }
          ],
          "mesh3d": [
           {
            "colorbar": {
             "outlinewidth": 0,
             "ticks": ""
            },
            "type": "mesh3d"
           }
          ],
          "parcoords": [
           {
            "line": {
             "colorbar": {
              "outlinewidth": 0,
              "ticks": ""
             }
            },
            "type": "parcoords"
           }
          ],
          "pie": [
           {
            "automargin": true,
            "type": "pie"
           }
          ],
          "scatter": [
           {
            "fillpattern": {
             "fillmode": "overlay",
             "size": 10,
             "solidity": 0.2
            },
            "type": "scatter"
           }
          ],
          "scatter3d": [
           {
            "line": {
             "colorbar": {
              "outlinewidth": 0,
              "ticks": ""
             }
            },
            "marker": {
             "colorbar": {
              "outlinewidth": 0,
              "ticks": ""
             }
            },
            "type": "scatter3d"
           }
          ],
          "scattercarpet": [
           {
            "marker": {
             "colorbar": {
              "outlinewidth": 0,
              "ticks": ""
             }
            },
            "type": "scattercarpet"
           }
          ],
          "scattergeo": [
           {
            "marker": {
             "colorbar": {
              "outlinewidth": 0,
              "ticks": ""
             }
            },
            "type": "scattergeo"
           }
          ],
          "scattergl": [
           {
            "marker": {
             "colorbar": {
              "outlinewidth": 0,
              "ticks": ""
             }
            },
            "type": "scattergl"
           }
          ],
          "scattermapbox": [
           {
            "marker": {
             "colorbar": {
              "outlinewidth": 0,
              "ticks": ""
             }
            },
            "type": "scattermapbox"
           }
          ],
          "scatterpolar": [
           {
            "marker": {
             "colorbar": {
              "outlinewidth": 0,
              "ticks": ""
             }
            },
            "type": "scatterpolar"
           }
          ],
          "scatterpolargl": [
           {
            "marker": {
             "colorbar": {
              "outlinewidth": 0,
              "ticks": ""
             }
            },
            "type": "scatterpolargl"
           }
          ],
          "scatterternary": [
           {
            "marker": {
             "colorbar": {
              "outlinewidth": 0,
              "ticks": ""
             }
            },
            "type": "scatterternary"
           }
          ],
          "surface": [
           {
            "colorbar": {
             "outlinewidth": 0,
             "ticks": ""
            },
            "colorscale": [
             [
              0,
              "#0d0887"
             ],
             [
              0.1111111111111111,
              "#46039f"
             ],
             [
              0.2222222222222222,
              "#7201a8"
             ],
             [
              0.3333333333333333,
              "#9c179e"
             ],
             [
              0.4444444444444444,
              "#bd3786"
             ],
             [
              0.5555555555555556,
              "#d8576b"
             ],
             [
              0.6666666666666666,
              "#ed7953"
             ],
             [
              0.7777777777777778,
              "#fb9f3a"
             ],
             [
              0.8888888888888888,
              "#fdca26"
             ],
             [
              1,
              "#f0f921"
             ]
            ],
            "type": "surface"
           }
          ],
          "table": [
           {
            "cells": {
             "fill": {
              "color": "#EBF0F8"
             },
             "line": {
              "color": "white"
             }
            },
            "header": {
             "fill": {
              "color": "#C8D4E3"
             },
             "line": {
              "color": "white"
             }
            },
            "type": "table"
           }
          ]
         },
         "layout": {
          "annotationdefaults": {
           "arrowcolor": "#2a3f5f",
           "arrowhead": 0,
           "arrowwidth": 1
          },
          "autotypenumbers": "strict",
          "coloraxis": {
           "colorbar": {
            "outlinewidth": 0,
            "ticks": ""
           }
          },
          "colorscale": {
           "diverging": [
            [
             0,
             "#8e0152"
            ],
            [
             0.1,
             "#c51b7d"
            ],
            [
             0.2,
             "#de77ae"
            ],
            [
             0.3,
             "#f1b6da"
            ],
            [
             0.4,
             "#fde0ef"
            ],
            [
             0.5,
             "#f7f7f7"
            ],
            [
             0.6,
             "#e6f5d0"
            ],
            [
             0.7,
             "#b8e186"
            ],
            [
             0.8,
             "#7fbc41"
            ],
            [
             0.9,
             "#4d9221"
            ],
            [
             1,
             "#276419"
            ]
           ],
           "sequential": [
            [
             0,
             "#0d0887"
            ],
            [
             0.1111111111111111,
             "#46039f"
            ],
            [
             0.2222222222222222,
             "#7201a8"
            ],
            [
             0.3333333333333333,
             "#9c179e"
            ],
            [
             0.4444444444444444,
             "#bd3786"
            ],
            [
             0.5555555555555556,
             "#d8576b"
            ],
            [
             0.6666666666666666,
             "#ed7953"
            ],
            [
             0.7777777777777778,
             "#fb9f3a"
            ],
            [
             0.8888888888888888,
             "#fdca26"
            ],
            [
             1,
             "#f0f921"
            ]
           ],
           "sequentialminus": [
            [
             0,
             "#0d0887"
            ],
            [
             0.1111111111111111,
             "#46039f"
            ],
            [
             0.2222222222222222,
             "#7201a8"
            ],
            [
             0.3333333333333333,
             "#9c179e"
            ],
            [
             0.4444444444444444,
             "#bd3786"
            ],
            [
             0.5555555555555556,
             "#d8576b"
            ],
            [
             0.6666666666666666,
             "#ed7953"
            ],
            [
             0.7777777777777778,
             "#fb9f3a"
            ],
            [
             0.8888888888888888,
             "#fdca26"
            ],
            [
             1,
             "#f0f921"
            ]
           ]
          },
          "colorway": [
           "#636efa",
           "#EF553B",
           "#00cc96",
           "#ab63fa",
           "#FFA15A",
           "#19d3f3",
           "#FF6692",
           "#B6E880",
           "#FF97FF",
           "#FECB52"
          ],
          "font": {
           "color": "#2a3f5f"
          },
          "geo": {
           "bgcolor": "white",
           "lakecolor": "white",
           "landcolor": "#E5ECF6",
           "showlakes": true,
           "showland": true,
           "subunitcolor": "white"
          },
          "hoverlabel": {
           "align": "left"
          },
          "hovermode": "closest",
          "mapbox": {
           "style": "light"
          },
          "paper_bgcolor": "white",
          "plot_bgcolor": "#E5ECF6",
          "polar": {
           "angularaxis": {
            "gridcolor": "white",
            "linecolor": "white",
            "ticks": ""
           },
           "bgcolor": "#E5ECF6",
           "radialaxis": {
            "gridcolor": "white",
            "linecolor": "white",
            "ticks": ""
           }
          },
          "scene": {
           "xaxis": {
            "backgroundcolor": "#E5ECF6",
            "gridcolor": "white",
            "gridwidth": 2,
            "linecolor": "white",
            "showbackground": true,
            "ticks": "",
            "zerolinecolor": "white"
           },
           "yaxis": {
            "backgroundcolor": "#E5ECF6",
            "gridcolor": "white",
            "gridwidth": 2,
            "linecolor": "white",
            "showbackground": true,
            "ticks": "",
            "zerolinecolor": "white"
           },
           "zaxis": {
            "backgroundcolor": "#E5ECF6",
            "gridcolor": "white",
            "gridwidth": 2,
            "linecolor": "white",
            "showbackground": true,
            "ticks": "",
            "zerolinecolor": "white"
           }
          },
          "shapedefaults": {
           "line": {
            "color": "#2a3f5f"
           }
          },
          "ternary": {
           "aaxis": {
            "gridcolor": "white",
            "linecolor": "white",
            "ticks": ""
           },
           "baxis": {
            "gridcolor": "white",
            "linecolor": "white",
            "ticks": ""
           },
           "bgcolor": "#E5ECF6",
           "caxis": {
            "gridcolor": "white",
            "linecolor": "white",
            "ticks": ""
           }
          },
          "title": {
           "x": 0.05
          },
          "xaxis": {
           "automargin": true,
           "gridcolor": "white",
           "linecolor": "white",
           "ticks": "",
           "title": {
            "standoff": 15
           },
           "zerolinecolor": "white",
           "zerolinewidth": 2
          },
          "yaxis": {
           "automargin": true,
           "gridcolor": "white",
           "linecolor": "white",
           "ticks": "",
           "title": {
            "standoff": 15
           },
           "zerolinecolor": "white",
           "zerolinewidth": 2
          }
         }
        },
        "title": {
         "text": "Slovene"
        },
        "xaxis": {
         "anchor": "y",
         "domain": [
          0,
          1
         ],
         "title": {
          "text": "limit"
         }
        },
        "yaxis": {
         "anchor": "x",
         "domain": [
          0,
          1
         ],
         "title": {
          "text": "uuas"
         }
        }
       }
      }
     },
     "metadata": {},
     "output_type": "display_data"
    },
    {
     "data": {
      "application/vnd.plotly.v1+json": {
       "config": {
        "plotlyServerURL": "https://plot.ly"
       },
       "data": [
        {
         "hovertemplate": "train=be<br>limit=%{x}<br>uuas=%{y}<extra></extra>",
         "legendgroup": "be",
         "line": {
          "color": "#636efa",
          "dash": "solid"
         },
         "marker": {
          "symbol": "circle"
         },
         "mode": "markers+lines",
         "name": "be",
         "orientation": "v",
         "showlegend": true,
         "type": "scatter",
         "x": [
          100,
          1000,
          2500,
          5000,
          7500,
          10000
         ],
         "xaxis": "x",
         "y": [
          0.3598608622325287,
          0.6145251396648045,
          0.6850426899968378,
          0.7405923895857489,
          0.7584062401180562,
          0.7730578686623801
         ],
         "yaxis": "y"
        },
        {
         "hovertemplate": "train=cs<br>limit=%{x}<br>uuas=%{y}<extra></extra>",
         "legendgroup": "cs",
         "line": {
          "color": "#EF553B",
          "dash": "solid"
         },
         "marker": {
          "symbol": "circle"
         },
         "mode": "markers+lines",
         "name": "cs",
         "orientation": "v",
         "showlegend": true,
         "type": "scatter",
         "x": [
          100,
          1000,
          2500,
          5000,
          7500,
          10000
         ],
         "xaxis": "x",
         "y": [
          0.3862127121323916,
          0.6245388426267524,
          0.6949509855591862,
          0.7412248339833456,
          0.7664172024876146,
          0.7748497944555708
         ],
         "yaxis": "y"
        },
        {
         "hovertemplate": "train=de<br>limit=%{x}<br>uuas=%{y}<extra></extra>",
         "legendgroup": "de",
         "line": {
          "color": "#00cc96",
          "dash": "solid"
         },
         "marker": {
          "symbol": "circle"
         },
         "mode": "markers+lines",
         "name": "de",
         "orientation": "v",
         "showlegend": true,
         "type": "scatter",
         "x": [
          100,
          1000,
          2500,
          5000,
          7500,
          10000
         ],
         "xaxis": "x",
         "y": [
          0.3653420470117002,
          0.5940761041425108,
          0.6943185411615895,
          0.7335300938125856,
          0.7460735743649204,
          0.7497628333509012
         ],
         "yaxis": "y"
        },
        {
         "hovertemplate": "train=en<br>limit=%{x}<br>uuas=%{y}<extra></extra>",
         "legendgroup": "en",
         "line": {
          "color": "#ab63fa",
          "dash": "solid"
         },
         "marker": {
          "symbol": "circle"
         },
         "mode": "markers+lines",
         "name": "en",
         "orientation": "v",
         "showlegend": true,
         "type": "scatter",
         "x": [
          100,
          1000,
          2500,
          5000,
          7500,
          10000
         ],
         "xaxis": "x",
         "y": [
          0.3806261199536207,
          0.6072520290924422,
          0.6707072836513123,
          0.6980078001475704,
          0.72499209444503,
          0.7381680193949616
         ],
         "yaxis": "y"
        },
        {
         "hovertemplate": "train=es<br>limit=%{x}<br>uuas=%{y}<extra></extra>",
         "legendgroup": "es",
         "line": {
          "color": "#FFA15A",
          "dash": "solid"
         },
         "marker": {
          "symbol": "circle"
         },
         "mode": "markers+lines",
         "name": "es",
         "orientation": "v",
         "showlegend": true,
         "type": "scatter",
         "x": [
          100,
          1000,
          2500,
          5000,
          7500,
          10000
         ],
         "xaxis": "x",
         "y": [
          0.4162538210182355,
          0.6080952882892379,
          0.6637503952777485,
          0.6941077263623906,
          0.7045430589227364,
          0.7185622430694635
         ],
         "yaxis": "y"
        },
        {
         "hovertemplate": "train=fi<br>limit=%{x}<br>uuas=%{y}<extra></extra>",
         "legendgroup": "fi",
         "line": {
          "color": "#19d3f3",
          "dash": "solid"
         },
         "marker": {
          "symbol": "circle"
         },
         "mode": "markers+lines",
         "name": "fi",
         "orientation": "v",
         "showlegend": true,
         "type": "scatter",
         "x": [
          100,
          1000,
          2500,
          5000,
          7500,
          10000
         ],
         "xaxis": "x",
         "y": [
          0.3511120480657742,
          0.5346263307684199,
          0.6051438811004533,
          0.6580583956993781,
          0.6710235058501107,
          0.6875724675872247
         ],
         "yaxis": "y"
        },
        {
         "hovertemplate": "train=fr<br>limit=%{x}<br>uuas=%{y}<extra></extra>",
         "legendgroup": "fr",
         "line": {
          "color": "#FF6692",
          "dash": "solid"
         },
         "marker": {
          "symbol": "circle"
         },
         "mode": "markers+lines",
         "name": "fr",
         "orientation": "v",
         "showlegend": true,
         "type": "scatter",
         "x": [
          100,
          1000,
          2500,
          5000,
          7500,
          10000
         ],
         "xaxis": "x",
         "y": [
          0.4176241172130283,
          0.6446716559502477,
          0.6767155054284811,
          0.7126594286918941,
          0.7253083166438284,
          0.7295246126278064
         ],
         "yaxis": "y"
        },
        {
         "hovertemplate": "train=id<br>limit=%{x}<br>uuas=%{y}<extra></extra>",
         "legendgroup": "id",
         "line": {
          "color": "#B6E880",
          "dash": "solid"
         },
         "marker": {
          "symbol": "circle"
         },
         "mode": "markers+lines",
         "name": "id",
         "orientation": "v",
         "showlegend": true,
         "type": "scatter",
         "x": [
          100,
          1000,
          2500,
          4481
         ],
         "xaxis": "x",
         "y": [
          0.3877938231263835,
          0.5860651417729524,
          0.6349741751870981,
          0.6553178033097924
         ],
         "yaxis": "y"
        },
        {
         "hovertemplate": "train=lt<br>limit=%{x}<br>uuas=%{y}<extra></extra>",
         "legendgroup": "lt",
         "line": {
          "color": "#FF97FF",
          "dash": "solid"
         },
         "marker": {
          "symbol": "circle"
         },
         "mode": "markers+lines",
         "name": "lt",
         "orientation": "v",
         "showlegend": true,
         "type": "scatter",
         "x": [
          100,
          1000,
          2340,
          2500
         ],
         "xaxis": "x",
         "y": [
          0.3691367133972805,
          0.5490671445135449,
          0.6319173605987141,
          0.6256983240223464
         ],
         "yaxis": "y"
        },
        {
         "hovertemplate": "train=lv<br>limit=%{x}<br>uuas=%{y}<extra></extra>",
         "legendgroup": "lv",
         "line": {
          "color": "#FECB52",
          "dash": "solid"
         },
         "marker": {
          "symbol": "circle"
         },
         "mode": "markers+lines",
         "name": "lv",
         "orientation": "v",
         "showlegend": true,
         "type": "scatter",
         "x": [
          100,
          1000,
          2500,
          5000,
          7500,
          10000
         ],
         "xaxis": "x",
         "y": [
          0.3563824180457468,
          0.5279856645936545,
          0.6162116580583957,
          0.692104985770001,
          0.6995889111415622,
          0.7242542426478339
         ],
         "yaxis": "y"
        },
        {
         "hovertemplate": "train=pl<br>limit=%{x}<br>uuas=%{y}<extra></extra>",
         "legendgroup": "pl",
         "line": {
          "color": "#636efa",
          "dash": "solid"
         },
         "marker": {
          "symbol": "circle"
         },
         "mode": "markers+lines",
         "name": "pl",
         "orientation": "v",
         "showlegend": true,
         "type": "scatter",
         "x": [
          100,
          1000,
          2500,
          5000,
          7500,
          10000
         ],
         "xaxis": "x",
         "y": [
          0.3711394539896701,
          0.5353641825656161,
          0.6782966164224729,
          0.7343733530093812,
          0.7722146094655845,
          0.7804363866343418
         ],
         "yaxis": "y"
        },
        {
         "hovertemplate": "train=ru<br>limit=%{x}<br>uuas=%{y}<extra></extra>",
         "legendgroup": "ru",
         "line": {
          "color": "#EF553B",
          "dash": "solid"
         },
         "marker": {
          "symbol": "circle"
         },
         "mode": "markers+lines",
         "name": "ru",
         "orientation": "v",
         "showlegend": true,
         "type": "scatter",
         "x": [
          100,
          1000,
          2500,
          5000,
          7500,
          10000
         ],
         "xaxis": "x",
         "y": [
          0.3543796774533572,
          0.6254875092231474,
          0.7242542426478339,
          0.7714767576683883,
          0.7845472752187204,
          0.7966164224728576
         ],
         "yaxis": "y"
        },
        {
         "hovertemplate": "train=slk<br>limit=%{x}<br>uuas=%{y}<extra></extra>",
         "legendgroup": "slk",
         "line": {
          "color": "#00cc96",
          "dash": "solid"
         },
         "marker": {
          "symbol": "circle"
         },
         "mode": "markers+lines",
         "name": "slk",
         "orientation": "v",
         "showlegend": true,
         "type": "scatter",
         "x": [
          100,
          1000,
          2500,
          5000,
          7500,
          8482
         ],
         "xaxis": "x",
         "y": [
          0.3535364182565616,
          0.6262253610203437,
          0.690945504374407,
          0.7285759460314114,
          0.7393275007905555,
          0.7470222409613155
         ],
         "yaxis": "y"
        },
        {
         "hovertemplate": "train=slv<br>limit=%{x}<br>uuas=%{y}<extra></extra>",
         "legendgroup": "slv",
         "line": {
          "color": "#ab63fa",
          "dash": "solid"
         },
         "marker": {
          "symbol": "circle"
         },
         "mode": "markers+lines",
         "name": "slv",
         "orientation": "v",
         "showlegend": true,
         "type": "scatter",
         "x": [
          100,
          1000,
          2500,
          5000,
          7500,
          10000
         ],
         "xaxis": "x",
         "y": [
          0.3875830083271845,
          0.6527880257194055,
          0.7111837250975018,
          0.7458627595657216,
          0.753662907136081,
          0.7716348687677874
         ],
         "yaxis": "y"
        },
        {
         "hovertemplate": "train=uk<br>limit=%{x}<br>uuas=%{y}<extra></extra>",
         "legendgroup": "uk",
         "line": {
          "color": "#FFA15A",
          "dash": "solid"
         },
         "marker": {
          "symbol": "circle"
         },
         "mode": "markers+lines",
         "name": "uk",
         "orientation": "v",
         "showlegend": true,
         "type": "scatter",
         "x": [
          100,
          1000,
          2500,
          5000,
          5495
         ],
         "xaxis": "x",
         "y": [
          0.3714556761884684,
          0.6514177295246126,
          0.7364815010013703,
          0.7900284599978918,
          0.7880257194055023
         ],
         "yaxis": "y"
        },
        {
         "hovertemplate": "train=zh<br>limit=%{x}<br>uuas=%{y}<extra></extra>",
         "legendgroup": "zh",
         "line": {
          "color": "#19d3f3",
          "dash": "solid"
         },
         "marker": {
          "symbol": "circle"
         },
         "mode": "markers+lines",
         "name": "zh",
         "orientation": "v",
         "showlegend": true,
         "type": "scatter",
         "x": [
          100,
          1000,
          2500,
          3996
         ],
         "xaxis": "x",
         "y": [
          0.3622852324233161,
          0.5328344049752293,
          0.5855381047749552,
          0.6059871402972489
         ],
         "yaxis": "y"
        }
       ],
       "layout": {
        "legend": {
         "title": {
          "text": "train"
         },
         "tracegroupgap": 0
        },
        "template": {
         "data": {
          "bar": [
           {
            "error_x": {
             "color": "#2a3f5f"
            },
            "error_y": {
             "color": "#2a3f5f"
            },
            "marker": {
             "line": {
              "color": "#E5ECF6",
              "width": 0.5
             },
             "pattern": {
              "fillmode": "overlay",
              "size": 10,
              "solidity": 0.2
             }
            },
            "type": "bar"
           }
          ],
          "barpolar": [
           {
            "marker": {
             "line": {
              "color": "#E5ECF6",
              "width": 0.5
             },
             "pattern": {
              "fillmode": "overlay",
              "size": 10,
              "solidity": 0.2
             }
            },
            "type": "barpolar"
           }
          ],
          "carpet": [
           {
            "aaxis": {
             "endlinecolor": "#2a3f5f",
             "gridcolor": "white",
             "linecolor": "white",
             "minorgridcolor": "white",
             "startlinecolor": "#2a3f5f"
            },
            "baxis": {
             "endlinecolor": "#2a3f5f",
             "gridcolor": "white",
             "linecolor": "white",
             "minorgridcolor": "white",
             "startlinecolor": "#2a3f5f"
            },
            "type": "carpet"
           }
          ],
          "choropleth": [
           {
            "colorbar": {
             "outlinewidth": 0,
             "ticks": ""
            },
            "type": "choropleth"
           }
          ],
          "contour": [
           {
            "colorbar": {
             "outlinewidth": 0,
             "ticks": ""
            },
            "colorscale": [
             [
              0,
              "#0d0887"
             ],
             [
              0.1111111111111111,
              "#46039f"
             ],
             [
              0.2222222222222222,
              "#7201a8"
             ],
             [
              0.3333333333333333,
              "#9c179e"
             ],
             [
              0.4444444444444444,
              "#bd3786"
             ],
             [
              0.5555555555555556,
              "#d8576b"
             ],
             [
              0.6666666666666666,
              "#ed7953"
             ],
             [
              0.7777777777777778,
              "#fb9f3a"
             ],
             [
              0.8888888888888888,
              "#fdca26"
             ],
             [
              1,
              "#f0f921"
             ]
            ],
            "type": "contour"
           }
          ],
          "contourcarpet": [
           {
            "colorbar": {
             "outlinewidth": 0,
             "ticks": ""
            },
            "type": "contourcarpet"
           }
          ],
          "heatmap": [
           {
            "colorbar": {
             "outlinewidth": 0,
             "ticks": ""
            },
            "colorscale": [
             [
              0,
              "#0d0887"
             ],
             [
              0.1111111111111111,
              "#46039f"
             ],
             [
              0.2222222222222222,
              "#7201a8"
             ],
             [
              0.3333333333333333,
              "#9c179e"
             ],
             [
              0.4444444444444444,
              "#bd3786"
             ],
             [
              0.5555555555555556,
              "#d8576b"
             ],
             [
              0.6666666666666666,
              "#ed7953"
             ],
             [
              0.7777777777777778,
              "#fb9f3a"
             ],
             [
              0.8888888888888888,
              "#fdca26"
             ],
             [
              1,
              "#f0f921"
             ]
            ],
            "type": "heatmap"
           }
          ],
          "heatmapgl": [
           {
            "colorbar": {
             "outlinewidth": 0,
             "ticks": ""
            },
            "colorscale": [
             [
              0,
              "#0d0887"
             ],
             [
              0.1111111111111111,
              "#46039f"
             ],
             [
              0.2222222222222222,
              "#7201a8"
             ],
             [
              0.3333333333333333,
              "#9c179e"
             ],
             [
              0.4444444444444444,
              "#bd3786"
             ],
             [
              0.5555555555555556,
              "#d8576b"
             ],
             [
              0.6666666666666666,
              "#ed7953"
             ],
             [
              0.7777777777777778,
              "#fb9f3a"
             ],
             [
              0.8888888888888888,
              "#fdca26"
             ],
             [
              1,
              "#f0f921"
             ]
            ],
            "type": "heatmapgl"
           }
          ],
          "histogram": [
           {
            "marker": {
             "pattern": {
              "fillmode": "overlay",
              "size": 10,
              "solidity": 0.2
             }
            },
            "type": "histogram"
           }
          ],
          "histogram2d": [
           {
            "colorbar": {
             "outlinewidth": 0,
             "ticks": ""
            },
            "colorscale": [
             [
              0,
              "#0d0887"
             ],
             [
              0.1111111111111111,
              "#46039f"
             ],
             [
              0.2222222222222222,
              "#7201a8"
             ],
             [
              0.3333333333333333,
              "#9c179e"
             ],
             [
              0.4444444444444444,
              "#bd3786"
             ],
             [
              0.5555555555555556,
              "#d8576b"
             ],
             [
              0.6666666666666666,
              "#ed7953"
             ],
             [
              0.7777777777777778,
              "#fb9f3a"
             ],
             [
              0.8888888888888888,
              "#fdca26"
             ],
             [
              1,
              "#f0f921"
             ]
            ],
            "type": "histogram2d"
           }
          ],
          "histogram2dcontour": [
           {
            "colorbar": {
             "outlinewidth": 0,
             "ticks": ""
            },
            "colorscale": [
             [
              0,
              "#0d0887"
             ],
             [
              0.1111111111111111,
              "#46039f"
             ],
             [
              0.2222222222222222,
              "#7201a8"
             ],
             [
              0.3333333333333333,
              "#9c179e"
             ],
             [
              0.4444444444444444,
              "#bd3786"
             ],
             [
              0.5555555555555556,
              "#d8576b"
             ],
             [
              0.6666666666666666,
              "#ed7953"
             ],
             [
              0.7777777777777778,
              "#fb9f3a"
             ],
             [
              0.8888888888888888,
              "#fdca26"
             ],
             [
              1,
              "#f0f921"
             ]
            ],
            "type": "histogram2dcontour"
           }
          ],
          "mesh3d": [
           {
            "colorbar": {
             "outlinewidth": 0,
             "ticks": ""
            },
            "type": "mesh3d"
           }
          ],
          "parcoords": [
           {
            "line": {
             "colorbar": {
              "outlinewidth": 0,
              "ticks": ""
             }
            },
            "type": "parcoords"
           }
          ],
          "pie": [
           {
            "automargin": true,
            "type": "pie"
           }
          ],
          "scatter": [
           {
            "fillpattern": {
             "fillmode": "overlay",
             "size": 10,
             "solidity": 0.2
            },
            "type": "scatter"
           }
          ],
          "scatter3d": [
           {
            "line": {
             "colorbar": {
              "outlinewidth": 0,
              "ticks": ""
             }
            },
            "marker": {
             "colorbar": {
              "outlinewidth": 0,
              "ticks": ""
             }
            },
            "type": "scatter3d"
           }
          ],
          "scattercarpet": [
           {
            "marker": {
             "colorbar": {
              "outlinewidth": 0,
              "ticks": ""
             }
            },
            "type": "scattercarpet"
           }
          ],
          "scattergeo": [
           {
            "marker": {
             "colorbar": {
              "outlinewidth": 0,
              "ticks": ""
             }
            },
            "type": "scattergeo"
           }
          ],
          "scattergl": [
           {
            "marker": {
             "colorbar": {
              "outlinewidth": 0,
              "ticks": ""
             }
            },
            "type": "scattergl"
           }
          ],
          "scattermapbox": [
           {
            "marker": {
             "colorbar": {
              "outlinewidth": 0,
              "ticks": ""
             }
            },
            "type": "scattermapbox"
           }
          ],
          "scatterpolar": [
           {
            "marker": {
             "colorbar": {
              "outlinewidth": 0,
              "ticks": ""
             }
            },
            "type": "scatterpolar"
           }
          ],
          "scatterpolargl": [
           {
            "marker": {
             "colorbar": {
              "outlinewidth": 0,
              "ticks": ""
             }
            },
            "type": "scatterpolargl"
           }
          ],
          "scatterternary": [
           {
            "marker": {
             "colorbar": {
              "outlinewidth": 0,
              "ticks": ""
             }
            },
            "type": "scatterternary"
           }
          ],
          "surface": [
           {
            "colorbar": {
             "outlinewidth": 0,
             "ticks": ""
            },
            "colorscale": [
             [
              0,
              "#0d0887"
             ],
             [
              0.1111111111111111,
              "#46039f"
             ],
             [
              0.2222222222222222,
              "#7201a8"
             ],
             [
              0.3333333333333333,
              "#9c179e"
             ],
             [
              0.4444444444444444,
              "#bd3786"
             ],
             [
              0.5555555555555556,
              "#d8576b"
             ],
             [
              0.6666666666666666,
              "#ed7953"
             ],
             [
              0.7777777777777778,
              "#fb9f3a"
             ],
             [
              0.8888888888888888,
              "#fdca26"
             ],
             [
              1,
              "#f0f921"
             ]
            ],
            "type": "surface"
           }
          ],
          "table": [
           {
            "cells": {
             "fill": {
              "color": "#EBF0F8"
             },
             "line": {
              "color": "white"
             }
            },
            "header": {
             "fill": {
              "color": "#C8D4E3"
             },
             "line": {
              "color": "white"
             }
            },
            "type": "table"
           }
          ]
         },
         "layout": {
          "annotationdefaults": {
           "arrowcolor": "#2a3f5f",
           "arrowhead": 0,
           "arrowwidth": 1
          },
          "autotypenumbers": "strict",
          "coloraxis": {
           "colorbar": {
            "outlinewidth": 0,
            "ticks": ""
           }
          },
          "colorscale": {
           "diverging": [
            [
             0,
             "#8e0152"
            ],
            [
             0.1,
             "#c51b7d"
            ],
            [
             0.2,
             "#de77ae"
            ],
            [
             0.3,
             "#f1b6da"
            ],
            [
             0.4,
             "#fde0ef"
            ],
            [
             0.5,
             "#f7f7f7"
            ],
            [
             0.6,
             "#e6f5d0"
            ],
            [
             0.7,
             "#b8e186"
            ],
            [
             0.8,
             "#7fbc41"
            ],
            [
             0.9,
             "#4d9221"
            ],
            [
             1,
             "#276419"
            ]
           ],
           "sequential": [
            [
             0,
             "#0d0887"
            ],
            [
             0.1111111111111111,
             "#46039f"
            ],
            [
             0.2222222222222222,
             "#7201a8"
            ],
            [
             0.3333333333333333,
             "#9c179e"
            ],
            [
             0.4444444444444444,
             "#bd3786"
            ],
            [
             0.5555555555555556,
             "#d8576b"
            ],
            [
             0.6666666666666666,
             "#ed7953"
            ],
            [
             0.7777777777777778,
             "#fb9f3a"
            ],
            [
             0.8888888888888888,
             "#fdca26"
            ],
            [
             1,
             "#f0f921"
            ]
           ],
           "sequentialminus": [
            [
             0,
             "#0d0887"
            ],
            [
             0.1111111111111111,
             "#46039f"
            ],
            [
             0.2222222222222222,
             "#7201a8"
            ],
            [
             0.3333333333333333,
             "#9c179e"
            ],
            [
             0.4444444444444444,
             "#bd3786"
            ],
            [
             0.5555555555555556,
             "#d8576b"
            ],
            [
             0.6666666666666666,
             "#ed7953"
            ],
            [
             0.7777777777777778,
             "#fb9f3a"
            ],
            [
             0.8888888888888888,
             "#fdca26"
            ],
            [
             1,
             "#f0f921"
            ]
           ]
          },
          "colorway": [
           "#636efa",
           "#EF553B",
           "#00cc96",
           "#ab63fa",
           "#FFA15A",
           "#19d3f3",
           "#FF6692",
           "#B6E880",
           "#FF97FF",
           "#FECB52"
          ],
          "font": {
           "color": "#2a3f5f"
          },
          "geo": {
           "bgcolor": "white",
           "lakecolor": "white",
           "landcolor": "#E5ECF6",
           "showlakes": true,
           "showland": true,
           "subunitcolor": "white"
          },
          "hoverlabel": {
           "align": "left"
          },
          "hovermode": "closest",
          "mapbox": {
           "style": "light"
          },
          "paper_bgcolor": "white",
          "plot_bgcolor": "#E5ECF6",
          "polar": {
           "angularaxis": {
            "gridcolor": "white",
            "linecolor": "white",
            "ticks": ""
           },
           "bgcolor": "#E5ECF6",
           "radialaxis": {
            "gridcolor": "white",
            "linecolor": "white",
            "ticks": ""
           }
          },
          "scene": {
           "xaxis": {
            "backgroundcolor": "#E5ECF6",
            "gridcolor": "white",
            "gridwidth": 2,
            "linecolor": "white",
            "showbackground": true,
            "ticks": "",
            "zerolinecolor": "white"
           },
           "yaxis": {
            "backgroundcolor": "#E5ECF6",
            "gridcolor": "white",
            "gridwidth": 2,
            "linecolor": "white",
            "showbackground": true,
            "ticks": "",
            "zerolinecolor": "white"
           },
           "zaxis": {
            "backgroundcolor": "#E5ECF6",
            "gridcolor": "white",
            "gridwidth": 2,
            "linecolor": "white",
            "showbackground": true,
            "ticks": "",
            "zerolinecolor": "white"
           }
          },
          "shapedefaults": {
           "line": {
            "color": "#2a3f5f"
           }
          },
          "ternary": {
           "aaxis": {
            "gridcolor": "white",
            "linecolor": "white",
            "ticks": ""
           },
           "baxis": {
            "gridcolor": "white",
            "linecolor": "white",
            "ticks": ""
           },
           "bgcolor": "#E5ECF6",
           "caxis": {
            "gridcolor": "white",
            "linecolor": "white",
            "ticks": ""
           }
          },
          "title": {
           "x": 0.05
          },
          "xaxis": {
           "automargin": true,
           "gridcolor": "white",
           "linecolor": "white",
           "ticks": "",
           "title": {
            "standoff": 15
           },
           "zerolinecolor": "white",
           "zerolinewidth": 2
          },
          "yaxis": {
           "automargin": true,
           "gridcolor": "white",
           "linecolor": "white",
           "ticks": "",
           "title": {
            "standoff": 15
           },
           "zerolinecolor": "white",
           "zerolinewidth": 2
          }
         }
        },
        "title": {
         "text": "Ukrainian"
        },
        "xaxis": {
         "anchor": "y",
         "domain": [
          0,
          1
         ],
         "title": {
          "text": "limit"
         }
        },
        "yaxis": {
         "anchor": "x",
         "domain": [
          0,
          1
         ],
         "title": {
          "text": "uuas"
         }
        }
       }
      }
     },
     "metadata": {},
     "output_type": "display_data"
    }
   ],
   "source": [
    "for test in avg_df.test.unique():\n",
    "    df_loc = avg_df[(avg_df.test == test) & (avg_df.limit <= 10000)]\n",
    "    fig = px.line(data_frame=df_loc, x=\"limit\", y=\"uuas\", color=\"train\", markers=True, title=full_name[test])\n",
    "    fig.show()"
   ]
  },
  {
   "cell_type": "code",
   "execution_count": 18,
   "metadata": {},
   "outputs": [
    {
     "data": {
      "application/vnd.plotly.v1+json": {
       "config": {
        "plotlyServerURL": "https://plot.ly"
       },
       "data": [
        {
         "hovertemplate": "train=be<br>limit=%{x}<br>uuas=%{y}<extra></extra>",
         "legendgroup": "be",
         "line": {
          "color": "#636efa",
          "dash": "solid"
         },
         "marker": {
          "symbol": "circle"
         },
         "mode": "markers+lines",
         "name": "be",
         "orientation": "v",
         "showlegend": true,
         "type": "scatter",
         "x": [
          100,
          1000,
          2500,
          5000,
          7500,
          10000
         ],
         "xaxis": "x",
         "y": [
          0.36941144063743125,
          0.6079191256271831,
          0.685202526328145,
          0.727776264254226,
          0.7503839174747909,
          0.7614166987345747
         ],
         "yaxis": "y"
        },
        {
         "hovertemplate": "train=cs<br>limit=%{x}<br>uuas=%{y}<extra></extra>",
         "legendgroup": "cs",
         "line": {
          "color": "#EF553B",
          "dash": "solid"
         },
         "marker": {
          "symbol": "circle"
         },
         "mode": "markers+lines",
         "name": "cs",
         "orientation": "v",
         "showlegend": true,
         "type": "scatter",
         "x": [
          100,
          1000,
          2500,
          5000,
          7500,
          10000
         ],
         "xaxis": "x",
         "y": [
          0.3877813361731687,
          0.6288875772009666,
          0.7236855408403489,
          0.7572249522135938,
          0.7736941329607756,
          0.7809018509923156
         ],
         "yaxis": "y"
        },
        {
         "hovertemplate": "train=de<br>limit=%{x}<br>uuas=%{y}<extra></extra>",
         "legendgroup": "de",
         "line": {
          "color": "#00cc96",
          "dash": "solid"
         },
         "marker": {
          "symbol": "circle"
         },
         "mode": "markers+lines",
         "name": "de",
         "orientation": "v",
         "showlegend": true,
         "type": "scatter",
         "x": [
          100,
          1000,
          2500,
          5000,
          7500,
          10000
         ],
         "xaxis": "x",
         "y": [
          0.3708068423767493,
          0.5932226127457533,
          0.6972282234416612,
          0.7331130905169237,
          0.7430364307018629,
          0.7490472411880246
         ],
         "yaxis": "y"
        },
        {
         "hovertemplate": "train=en<br>limit=%{x}<br>uuas=%{y}<extra></extra>",
         "legendgroup": "en",
         "line": {
          "color": "#ab63fa",
          "dash": "solid"
         },
         "marker": {
          "symbol": "circle"
         },
         "mode": "markers+lines",
         "name": "en",
         "orientation": "v",
         "showlegend": true,
         "type": "scatter",
         "x": [
          100,
          1000,
          2500,
          5000,
          7500,
          10000
         ],
         "xaxis": "x",
         "y": [
          0.37491492942702037,
          0.6086328782020795,
          0.6698416768964263,
          0.6916218081066087,
          0.7172032340323338,
          0.7265380321939734
         ],
         "yaxis": "y"
        },
        {
         "hovertemplate": "train=es<br>limit=%{x}<br>uuas=%{y}<extra></extra>",
         "legendgroup": "es",
         "line": {
          "color": "#FFA15A",
          "dash": "solid"
         },
         "marker": {
          "symbol": "circle"
         },
         "mode": "markers+lines",
         "name": "es",
         "orientation": "v",
         "showlegend": true,
         "type": "scatter",
         "x": [
          100,
          1000,
          2500,
          5000,
          7500,
          10000
         ],
         "xaxis": "x",
         "y": [
          0.41847007835274885,
          0.6058565196451295,
          0.6649846984423728,
          0.6919529310333953,
          0.699215848501128,
          0.7129752686347054
         ],
         "yaxis": "y"
        },
        {
         "hovertemplate": "train=fi<br>limit=%{x}<br>uuas=%{y}<extra></extra>",
         "legendgroup": "fi",
         "line": {
          "color": "#19d3f3",
          "dash": "solid"
         },
         "marker": {
          "symbol": "circle"
         },
         "mode": "markers+lines",
         "name": "fi",
         "orientation": "v",
         "showlegend": true,
         "type": "scatter",
         "x": [
          100,
          1000,
          2500,
          5000,
          7500,
          10000
         ],
         "xaxis": "x",
         "y": [
          0.35015976513401686,
          0.5400241582052963,
          0.611506315706384,
          0.6565437277805141,
          0.674649982420976,
          0.6885628182339091
         ],
         "yaxis": "y"
        },
        {
         "hovertemplate": "train=fr<br>limit=%{x}<br>uuas=%{y}<extra></extra>",
         "legendgroup": "fr",
         "line": {
          "color": "#FF6692",
          "dash": "solid"
         },
         "marker": {
          "symbol": "circle"
         },
         "mode": "markers+lines",
         "name": "fr",
         "orientation": "v",
         "showlegend": true,
         "type": "scatter",
         "x": [
          100,
          1000,
          2500,
          5000,
          7500,
          10000
         ],
         "xaxis": "x",
         "y": [
          0.405953630362528,
          0.6209765067497355,
          0.6789216802857926,
          0.7039034995397386,
          0.7172710787171415,
          0.7240678975938548
         ],
         "yaxis": "y"
        },
        {
         "hovertemplate": "train=id<br>limit=%{x}<br>uuas=%{y}<extra></extra>",
         "legendgroup": "id",
         "line": {
          "color": "#B6E880",
          "dash": "solid"
         },
         "marker": {
          "symbol": "circle"
         },
         "mode": "markers+lines",
         "name": "id",
         "orientation": "v",
         "showlegend": true,
         "type": "scatter",
         "x": [
          100,
          1000,
          2500,
          4481
         ],
         "xaxis": "x",
         "y": [
          0.385079997056064,
          0.5801556412501018,
          0.6206709713827928,
          0.6470669961626442
         ],
         "yaxis": "y"
        },
        {
         "hovertemplate": "train=lt<br>limit=%{x}<br>uuas=%{y}<extra></extra>",
         "legendgroup": "lt",
         "line": {
          "color": "#FF97FF",
          "dash": "solid"
         },
         "marker": {
          "symbol": "circle"
         },
         "mode": "markers+lines",
         "name": "lt",
         "orientation": "v",
         "showlegend": true,
         "type": "scatter",
         "x": [
          100,
          1000,
          2340,
          2500
         ],
         "xaxis": "x",
         "y": [
          0.3754669885458345,
          0.5544646856160621,
          0.6244445400551494,
          0.6241109139527309
         ],
         "yaxis": "y"
        },
        {
         "hovertemplate": "train=lv<br>limit=%{x}<br>uuas=%{y}<extra></extra>",
         "legendgroup": "lv",
         "line": {
          "color": "#FECB52",
          "dash": "solid"
         },
         "marker": {
          "symbol": "circle"
         },
         "mode": "markers+lines",
         "name": "lv",
         "orientation": "v",
         "showlegend": true,
         "type": "scatter",
         "x": [
          100,
          1000,
          2500,
          5000,
          7500,
          10000
         ],
         "xaxis": "x",
         "y": [
          0.3660885009514861,
          0.5498802764045273,
          0.6293034440477323,
          0.6781772950231317,
          0.70346653736239,
          0.720722812063187
         ],
         "yaxis": "y"
        },
        {
         "hovertemplate": "train=pl<br>limit=%{x}<br>uuas=%{y}<extra></extra>",
         "legendgroup": "pl",
         "line": {
          "color": "#636efa",
          "dash": "solid"
         },
         "marker": {
          "symbol": "circle"
         },
         "mode": "markers+lines",
         "name": "pl",
         "orientation": "v",
         "showlegend": true,
         "type": "scatter",
         "x": [
          100,
          1000,
          2500,
          5000,
          7500,
          10000
         ],
         "xaxis": "x",
         "y": [
          0.37066140457658253,
          0.5334699521876584,
          0.6842608990605987,
          0.7479613560197667,
          0.7724996856885625,
          0.7828185949426991
         ],
         "yaxis": "y"
        },
        {
         "hovertemplate": "train=ru<br>limit=%{x}<br>uuas=%{y}<extra></extra>",
         "legendgroup": "ru",
         "line": {
          "color": "#EF553B",
          "dash": "solid"
         },
         "marker": {
          "symbol": "circle"
         },
         "mode": "markers+lines",
         "name": "ru",
         "orientation": "v",
         "showlegend": true,
         "type": "scatter",
         "x": [
          100,
          1000,
          2500,
          5000,
          7500,
          10000
         ],
         "xaxis": "x",
         "y": [
          0.35889053799797227,
          0.6104265568790366,
          0.7210428340848133,
          0.760941793657781,
          0.7762277753068132,
          0.7851781197887655
         ],
         "yaxis": "y"
        },
        {
         "hovertemplate": "train=slk<br>limit=%{x}<br>uuas=%{y}<extra></extra>",
         "legendgroup": "slk",
         "line": {
          "color": "#00cc96",
          "dash": "solid"
         },
         "marker": {
          "symbol": "circle"
         },
         "mode": "markers+lines",
         "name": "slk",
         "orientation": "v",
         "showlegend": true,
         "type": "scatter",
         "x": [
          100,
          1000,
          2500,
          5000,
          7500,
          8482
         ],
         "xaxis": "x",
         "y": [
          0.3667535489838557,
          0.6374716893507166,
          0.7065653287791948,
          0.7413432788936296,
          0.7554927398685537,
          0.759053944744679
         ],
         "yaxis": "y"
        },
        {
         "hovertemplate": "train=slv<br>limit=%{x}<br>uuas=%{y}<extra></extra>",
         "legendgroup": "slv",
         "line": {
          "color": "#ab63fa",
          "dash": "solid"
         },
         "marker": {
          "symbol": "circle"
         },
         "mode": "markers+lines",
         "name": "slv",
         "orientation": "v",
         "showlegend": true,
         "type": "scatter",
         "x": [
          100,
          1000,
          2500,
          5000,
          7500,
          10000
         ],
         "xaxis": "x",
         "y": [
          0.3914368287169813,
          0.6456463476104627,
          0.7207378585414489,
          0.7538261865362088,
          0.7699779313601766,
          0.7830354872310077
         ],
         "yaxis": "y"
        },
        {
         "hovertemplate": "train=uk<br>limit=%{x}<br>uuas=%{y}<extra></extra>",
         "legendgroup": "uk",
         "line": {
          "color": "#FFA15A",
          "dash": "solid"
         },
         "marker": {
          "symbol": "circle"
         },
         "mode": "markers+lines",
         "name": "uk",
         "orientation": "v",
         "showlegend": true,
         "type": "scatter",
         "x": [
          100,
          1000,
          2500,
          5000,
          5495
         ],
         "xaxis": "x",
         "y": [
          0.37876380194951986,
          0.624870481545979,
          0.7163013841712775,
          0.7631021074792835,
          0.7660185122102021
         ],
         "yaxis": "y"
        },
        {
         "hovertemplate": "train=zh<br>limit=%{x}<br>uuas=%{y}<extra></extra>",
         "legendgroup": "zh",
         "line": {
          "color": "#19d3f3",
          "dash": "solid"
         },
         "marker": {
          "symbol": "circle"
         },
         "mode": "markers+lines",
         "name": "zh",
         "orientation": "v",
         "showlegend": true,
         "type": "scatter",
         "x": [
          100,
          1000,
          2500,
          3996
         ],
         "xaxis": "x",
         "y": [
          0.3741390508149761,
          0.5264212643822639,
          0.5744192012017489,
          0.6035285402158026
         ],
         "yaxis": "y"
        }
       ],
       "layout": {
        "legend": {
         "title": {
          "text": "train"
         },
         "tracegroupgap": 0
        },
        "template": {
         "data": {
          "bar": [
           {
            "error_x": {
             "color": "#2a3f5f"
            },
            "error_y": {
             "color": "#2a3f5f"
            },
            "marker": {
             "line": {
              "color": "#E5ECF6",
              "width": 0.5
             },
             "pattern": {
              "fillmode": "overlay",
              "size": 10,
              "solidity": 0.2
             }
            },
            "type": "bar"
           }
          ],
          "barpolar": [
           {
            "marker": {
             "line": {
              "color": "#E5ECF6",
              "width": 0.5
             },
             "pattern": {
              "fillmode": "overlay",
              "size": 10,
              "solidity": 0.2
             }
            },
            "type": "barpolar"
           }
          ],
          "carpet": [
           {
            "aaxis": {
             "endlinecolor": "#2a3f5f",
             "gridcolor": "white",
             "linecolor": "white",
             "minorgridcolor": "white",
             "startlinecolor": "#2a3f5f"
            },
            "baxis": {
             "endlinecolor": "#2a3f5f",
             "gridcolor": "white",
             "linecolor": "white",
             "minorgridcolor": "white",
             "startlinecolor": "#2a3f5f"
            },
            "type": "carpet"
           }
          ],
          "choropleth": [
           {
            "colorbar": {
             "outlinewidth": 0,
             "ticks": ""
            },
            "type": "choropleth"
           }
          ],
          "contour": [
           {
            "colorbar": {
             "outlinewidth": 0,
             "ticks": ""
            },
            "colorscale": [
             [
              0,
              "#0d0887"
             ],
             [
              0.1111111111111111,
              "#46039f"
             ],
             [
              0.2222222222222222,
              "#7201a8"
             ],
             [
              0.3333333333333333,
              "#9c179e"
             ],
             [
              0.4444444444444444,
              "#bd3786"
             ],
             [
              0.5555555555555556,
              "#d8576b"
             ],
             [
              0.6666666666666666,
              "#ed7953"
             ],
             [
              0.7777777777777778,
              "#fb9f3a"
             ],
             [
              0.8888888888888888,
              "#fdca26"
             ],
             [
              1,
              "#f0f921"
             ]
            ],
            "type": "contour"
           }
          ],
          "contourcarpet": [
           {
            "colorbar": {
             "outlinewidth": 0,
             "ticks": ""
            },
            "type": "contourcarpet"
           }
          ],
          "heatmap": [
           {
            "colorbar": {
             "outlinewidth": 0,
             "ticks": ""
            },
            "colorscale": [
             [
              0,
              "#0d0887"
             ],
             [
              0.1111111111111111,
              "#46039f"
             ],
             [
              0.2222222222222222,
              "#7201a8"
             ],
             [
              0.3333333333333333,
              "#9c179e"
             ],
             [
              0.4444444444444444,
              "#bd3786"
             ],
             [
              0.5555555555555556,
              "#d8576b"
             ],
             [
              0.6666666666666666,
              "#ed7953"
             ],
             [
              0.7777777777777778,
              "#fb9f3a"
             ],
             [
              0.8888888888888888,
              "#fdca26"
             ],
             [
              1,
              "#f0f921"
             ]
            ],
            "type": "heatmap"
           }
          ],
          "heatmapgl": [
           {
            "colorbar": {
             "outlinewidth": 0,
             "ticks": ""
            },
            "colorscale": [
             [
              0,
              "#0d0887"
             ],
             [
              0.1111111111111111,
              "#46039f"
             ],
             [
              0.2222222222222222,
              "#7201a8"
             ],
             [
              0.3333333333333333,
              "#9c179e"
             ],
             [
              0.4444444444444444,
              "#bd3786"
             ],
             [
              0.5555555555555556,
              "#d8576b"
             ],
             [
              0.6666666666666666,
              "#ed7953"
             ],
             [
              0.7777777777777778,
              "#fb9f3a"
             ],
             [
              0.8888888888888888,
              "#fdca26"
             ],
             [
              1,
              "#f0f921"
             ]
            ],
            "type": "heatmapgl"
           }
          ],
          "histogram": [
           {
            "marker": {
             "pattern": {
              "fillmode": "overlay",
              "size": 10,
              "solidity": 0.2
             }
            },
            "type": "histogram"
           }
          ],
          "histogram2d": [
           {
            "colorbar": {
             "outlinewidth": 0,
             "ticks": ""
            },
            "colorscale": [
             [
              0,
              "#0d0887"
             ],
             [
              0.1111111111111111,
              "#46039f"
             ],
             [
              0.2222222222222222,
              "#7201a8"
             ],
             [
              0.3333333333333333,
              "#9c179e"
             ],
             [
              0.4444444444444444,
              "#bd3786"
             ],
             [
              0.5555555555555556,
              "#d8576b"
             ],
             [
              0.6666666666666666,
              "#ed7953"
             ],
             [
              0.7777777777777778,
              "#fb9f3a"
             ],
             [
              0.8888888888888888,
              "#fdca26"
             ],
             [
              1,
              "#f0f921"
             ]
            ],
            "type": "histogram2d"
           }
          ],
          "histogram2dcontour": [
           {
            "colorbar": {
             "outlinewidth": 0,
             "ticks": ""
            },
            "colorscale": [
             [
              0,
              "#0d0887"
             ],
             [
              0.1111111111111111,
              "#46039f"
             ],
             [
              0.2222222222222222,
              "#7201a8"
             ],
             [
              0.3333333333333333,
              "#9c179e"
             ],
             [
              0.4444444444444444,
              "#bd3786"
             ],
             [
              0.5555555555555556,
              "#d8576b"
             ],
             [
              0.6666666666666666,
              "#ed7953"
             ],
             [
              0.7777777777777778,
              "#fb9f3a"
             ],
             [
              0.8888888888888888,
              "#fdca26"
             ],
             [
              1,
              "#f0f921"
             ]
            ],
            "type": "histogram2dcontour"
           }
          ],
          "mesh3d": [
           {
            "colorbar": {
             "outlinewidth": 0,
             "ticks": ""
            },
            "type": "mesh3d"
           }
          ],
          "parcoords": [
           {
            "line": {
             "colorbar": {
              "outlinewidth": 0,
              "ticks": ""
             }
            },
            "type": "parcoords"
           }
          ],
          "pie": [
           {
            "automargin": true,
            "type": "pie"
           }
          ],
          "scatter": [
           {
            "fillpattern": {
             "fillmode": "overlay",
             "size": 10,
             "solidity": 0.2
            },
            "type": "scatter"
           }
          ],
          "scatter3d": [
           {
            "line": {
             "colorbar": {
              "outlinewidth": 0,
              "ticks": ""
             }
            },
            "marker": {
             "colorbar": {
              "outlinewidth": 0,
              "ticks": ""
             }
            },
            "type": "scatter3d"
           }
          ],
          "scattercarpet": [
           {
            "marker": {
             "colorbar": {
              "outlinewidth": 0,
              "ticks": ""
             }
            },
            "type": "scattercarpet"
           }
          ],
          "scattergeo": [
           {
            "marker": {
             "colorbar": {
              "outlinewidth": 0,
              "ticks": ""
             }
            },
            "type": "scattergeo"
           }
          ],
          "scattergl": [
           {
            "marker": {
             "colorbar": {
              "outlinewidth": 0,
              "ticks": ""
             }
            },
            "type": "scattergl"
           }
          ],
          "scattermapbox": [
           {
            "marker": {
             "colorbar": {
              "outlinewidth": 0,
              "ticks": ""
             }
            },
            "type": "scattermapbox"
           }
          ],
          "scatterpolar": [
           {
            "marker": {
             "colorbar": {
              "outlinewidth": 0,
              "ticks": ""
             }
            },
            "type": "scatterpolar"
           }
          ],
          "scatterpolargl": [
           {
            "marker": {
             "colorbar": {
              "outlinewidth": 0,
              "ticks": ""
             }
            },
            "type": "scatterpolargl"
           }
          ],
          "scatterternary": [
           {
            "marker": {
             "colorbar": {
              "outlinewidth": 0,
              "ticks": ""
             }
            },
            "type": "scatterternary"
           }
          ],
          "surface": [
           {
            "colorbar": {
             "outlinewidth": 0,
             "ticks": ""
            },
            "colorscale": [
             [
              0,
              "#0d0887"
             ],
             [
              0.1111111111111111,
              "#46039f"
             ],
             [
              0.2222222222222222,
              "#7201a8"
             ],
             [
              0.3333333333333333,
              "#9c179e"
             ],
             [
              0.4444444444444444,
              "#bd3786"
             ],
             [
              0.5555555555555556,
              "#d8576b"
             ],
             [
              0.6666666666666666,
              "#ed7953"
             ],
             [
              0.7777777777777778,
              "#fb9f3a"
             ],
             [
              0.8888888888888888,
              "#fdca26"
             ],
             [
              1,
              "#f0f921"
             ]
            ],
            "type": "surface"
           }
          ],
          "table": [
           {
            "cells": {
             "fill": {
              "color": "#EBF0F8"
             },
             "line": {
              "color": "white"
             }
            },
            "header": {
             "fill": {
              "color": "#C8D4E3"
             },
             "line": {
              "color": "white"
             }
            },
            "type": "table"
           }
          ]
         },
         "layout": {
          "annotationdefaults": {
           "arrowcolor": "#2a3f5f",
           "arrowhead": 0,
           "arrowwidth": 1
          },
          "autotypenumbers": "strict",
          "coloraxis": {
           "colorbar": {
            "outlinewidth": 0,
            "ticks": ""
           }
          },
          "colorscale": {
           "diverging": [
            [
             0,
             "#8e0152"
            ],
            [
             0.1,
             "#c51b7d"
            ],
            [
             0.2,
             "#de77ae"
            ],
            [
             0.3,
             "#f1b6da"
            ],
            [
             0.4,
             "#fde0ef"
            ],
            [
             0.5,
             "#f7f7f7"
            ],
            [
             0.6,
             "#e6f5d0"
            ],
            [
             0.7,
             "#b8e186"
            ],
            [
             0.8,
             "#7fbc41"
            ],
            [
             0.9,
             "#4d9221"
            ],
            [
             1,
             "#276419"
            ]
           ],
           "sequential": [
            [
             0,
             "#0d0887"
            ],
            [
             0.1111111111111111,
             "#46039f"
            ],
            [
             0.2222222222222222,
             "#7201a8"
            ],
            [
             0.3333333333333333,
             "#9c179e"
            ],
            [
             0.4444444444444444,
             "#bd3786"
            ],
            [
             0.5555555555555556,
             "#d8576b"
            ],
            [
             0.6666666666666666,
             "#ed7953"
            ],
            [
             0.7777777777777778,
             "#fb9f3a"
            ],
            [
             0.8888888888888888,
             "#fdca26"
            ],
            [
             1,
             "#f0f921"
            ]
           ],
           "sequentialminus": [
            [
             0,
             "#0d0887"
            ],
            [
             0.1111111111111111,
             "#46039f"
            ],
            [
             0.2222222222222222,
             "#7201a8"
            ],
            [
             0.3333333333333333,
             "#9c179e"
            ],
            [
             0.4444444444444444,
             "#bd3786"
            ],
            [
             0.5555555555555556,
             "#d8576b"
            ],
            [
             0.6666666666666666,
             "#ed7953"
            ],
            [
             0.7777777777777778,
             "#fb9f3a"
            ],
            [
             0.8888888888888888,
             "#fdca26"
            ],
            [
             1,
             "#f0f921"
            ]
           ]
          },
          "colorway": [
           "#636efa",
           "#EF553B",
           "#00cc96",
           "#ab63fa",
           "#FFA15A",
           "#19d3f3",
           "#FF6692",
           "#B6E880",
           "#FF97FF",
           "#FECB52"
          ],
          "font": {
           "color": "#2a3f5f"
          },
          "geo": {
           "bgcolor": "white",
           "lakecolor": "white",
           "landcolor": "#E5ECF6",
           "showlakes": true,
           "showland": true,
           "subunitcolor": "white"
          },
          "hoverlabel": {
           "align": "left"
          },
          "hovermode": "closest",
          "mapbox": {
           "style": "light"
          },
          "paper_bgcolor": "white",
          "plot_bgcolor": "#E5ECF6",
          "polar": {
           "angularaxis": {
            "gridcolor": "white",
            "linecolor": "white",
            "ticks": ""
           },
           "bgcolor": "#E5ECF6",
           "radialaxis": {
            "gridcolor": "white",
            "linecolor": "white",
            "ticks": ""
           }
          },
          "scene": {
           "xaxis": {
            "backgroundcolor": "#E5ECF6",
            "gridcolor": "white",
            "gridwidth": 2,
            "linecolor": "white",
            "showbackground": true,
            "ticks": "",
            "zerolinecolor": "white"
           },
           "yaxis": {
            "backgroundcolor": "#E5ECF6",
            "gridcolor": "white",
            "gridwidth": 2,
            "linecolor": "white",
            "showbackground": true,
            "ticks": "",
            "zerolinecolor": "white"
           },
           "zaxis": {
            "backgroundcolor": "#E5ECF6",
            "gridcolor": "white",
            "gridwidth": 2,
            "linecolor": "white",
            "showbackground": true,
            "ticks": "",
            "zerolinecolor": "white"
           }
          },
          "shapedefaults": {
           "line": {
            "color": "#2a3f5f"
           }
          },
          "ternary": {
           "aaxis": {
            "gridcolor": "white",
            "linecolor": "white",
            "ticks": ""
           },
           "baxis": {
            "gridcolor": "white",
            "linecolor": "white",
            "ticks": ""
           },
           "bgcolor": "#E5ECF6",
           "caxis": {
            "gridcolor": "white",
            "linecolor": "white",
            "ticks": ""
           }
          },
          "title": {
           "x": 0.05
          },
          "xaxis": {
           "automargin": true,
           "gridcolor": "white",
           "linecolor": "white",
           "ticks": "",
           "title": {
            "standoff": 15
           },
           "zerolinecolor": "white",
           "zerolinewidth": 2
          },
          "yaxis": {
           "automargin": true,
           "gridcolor": "white",
           "linecolor": "white",
           "ticks": "",
           "title": {
            "standoff": 15
           },
           "zerolinecolor": "white",
           "zerolinewidth": 2
          }
         }
        },
        "title": {
         "text": "Average"
        },
        "xaxis": {
         "anchor": "y",
         "domain": [
          0,
          1
         ],
         "title": {
          "text": "limit"
         }
        },
        "yaxis": {
         "anchor": "x",
         "domain": [
          0,
          1
         ],
         "title": {
          "text": "uuas"
         }
        }
       }
      }
     },
     "metadata": {},
     "output_type": "display_data"
    }
   ],
   "source": [
    "df_loc = avg_df[(avg_df.limit <= 10000)].groupby([\"train\", \"limit\"]).mean().reset_index()\n",
    "fig = px.line(data_frame=df_loc, x=\"limit\", y=\"uuas\", color=\"train\", markers=True, title=\"Average\")\n",
    "fig.show()"
   ]
  },
  {
   "cell_type": "code",
   "execution_count": 19,
   "metadata": {},
   "outputs": [
    {
     "data": {
      "text/plain": [
       "13"
      ]
     },
     "execution_count": 19,
     "metadata": {},
     "output_type": "execute_result"
    }
   ],
   "source": [
    "sum(1 for x in max_dict if max_dict[x] >= 7500)"
   ]
  },
  {
   "cell_type": "code",
   "execution_count": 20,
   "metadata": {},
   "outputs": [
    {
     "data": {
      "text/plain": [
       "11"
      ]
     },
     "execution_count": 20,
     "metadata": {},
     "output_type": "execute_result"
    }
   ],
   "source": [
    "sum(1 for x in max_dict if max_dict[x] >= 10000) # wierszy?"
   ]
  },
  {
   "cell_type": "code",
   "execution_count": 21,
   "metadata": {},
   "outputs": [
    {
     "data": {
      "text/plain": [
       "8"
      ]
     },
     "execution_count": 21,
     "metadata": {},
     "output_type": "execute_result"
    }
   ],
   "source": [
    "len(slavic_langs) + 1 # kolumn"
   ]
  },
  {
   "cell_type": "code",
   "execution_count": 22,
   "metadata": {},
   "outputs": [
    {
     "name": "stdout",
     "output_type": "stream",
     "text": [
      "test & Belarussian & Czech & Polish & Russian & Slovak & Slovene & Ukrainian & Average \\\\\n",
      "Russian & 76.88 & 76.84 & 78.85 & 81.35 & 80.67 & 75.37 & 79.66 & 78.52 \\\\\n",
      "Slovene & 75.26 & 77.05 & 78.58 & 76.19 & 82.36 & 81.53 & 77.16 & 78.30 \\\\\n",
      "Polish & 76.03 & 77.06 & 83.20 & 76.74 & 81.21 & 75.68 & 78.04 & 78.28 \\\\\n",
      "Czech & 74.86 & 80.48 & 78.21 & 76.32 & 83.20 & 76.08 & 77.48 & 78.09 \\\\\n",
      "Belarussian & 78.70 & 74.02 & 76.44 & 75.55 & 78.11 & 72.88 & 77.31 & 76.14 \\\\\n",
      "German & 73.13 & 74.24 & 76.15 & 74.58 & 78.01 & 73.24 & 74.98 & 74.90 \\\\\n",
      "English & 70.40 & 71.38 & 73.79 & 73.14 & 75.90 & 70.16 & 73.82 & 72.65 \\\\\n",
      "French & 70.96 & 70.96 & 75.11 & 72.30 & 74.44 & 70.13 & 72.95 & 72.41 \\\\\n",
      "Latvian & 70.75 & 70.85 & 72.81 & 71.21 & 75.61 & 70.85 & 72.43 & 72.07 \\\\\n",
      "Spanish & 69.76 & 70.22 & 74.05 & 71.06 & 72.41 & 69.72 & 71.86 & 71.30 \\\\\n",
      "Finnish & 67.96 & 67.86 & 69.20 & 68.27 & 72.13 & 67.81 & 68.76 & 68.86 \\\\\n"
     ]
    }
   ],
   "source": [
    "limit = 10000\n",
    "print(\"test\", end=\"\")\n",
    "for column in avg_df.test.unique():\n",
    "    print(\" & \", full_name[column], end=\"\", sep=\"\")\n",
    "print(\" & \", \"Average\", end=\"\", sep=\"\")\n",
    "print(\" \\\\\\\\\")\n",
    "\n",
    "selected_langs = (x for x in max_dict if max_dict[x] >= limit)\n",
    "df_loc = avg_df[(avg_df.train.isin(selected_langs)) & (avg_df.limit == limit)].groupby(\"train\").mean().uuas.reset_index().sort_values(by=\"uuas\", ascending=False)\n",
    "sorted_rows = df_loc.train.values\n",
    "\n",
    "for row in sorted_rows:\n",
    "    print(full_name[row], end=\"\")\n",
    "    for column in avg_df.test.unique():\n",
    "        df_loc = avg_df[(avg_df.test == column) & (avg_df.train == row) & (avg_df.limit == limit)].uuas\n",
    "        print(\" & \", \"%.2f\" % (df_loc.values[0] * 100), end=\"\", sep=\"\")\n",
    "    df_loc = avg_df[(avg_df.train == row) & (avg_df.limit == limit)].uuas.mean()\n",
    "    print(\" & \", \"%.2f\" % (df_loc * 100), end=\"\", sep=\"\")\n",
    "\n",
    "    print(\" \\\\\\\\\")\n",
    "\n",
    "\n"
   ]
  },
  {
   "cell_type": "code",
   "execution_count": null,
   "metadata": {},
   "outputs": [],
   "source": []
  }
 ],
 "metadata": {
  "kernelspec": {
   "display_name": "masters_env",
   "language": "python",
   "name": "python3"
  },
  "language_info": {
   "codemirror_mode": {
    "name": "ipython",
    "version": 3
   },
   "file_extension": ".py",
   "mimetype": "text/x-python",
   "name": "python",
   "nbconvert_exporter": "python",
   "pygments_lexer": "ipython3",
   "version": "3.8.10"
  },
  "orig_nbformat": 4,
  "vscode": {
   "interpreter": {
    "hash": "9fac38572e56fd307c5b6995823aecc97d62f7d83a498fb95c2116715eb280de"
   }
  }
 },
 "nbformat": 4,
 "nbformat_minor": 2
}
